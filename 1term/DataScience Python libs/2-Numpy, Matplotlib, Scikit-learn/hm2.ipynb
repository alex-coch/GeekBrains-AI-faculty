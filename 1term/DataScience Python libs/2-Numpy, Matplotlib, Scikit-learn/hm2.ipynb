{
  "nbformat": 4,
  "nbformat_minor": 0,
  "metadata": {
    "colab": {
      "name": "hm2.ipynb",
      "provenance": [],
      "collapsed_sections": []
    },
    "kernelspec": {
      "name": "python3",
      "display_name": "Python 3"
    },
    "language_info": {
      "name": "python"
    }
  },
  "cells": [
    {
      "cell_type": "markdown",
      "metadata": {
        "id": "ygjnwGRV1mGd"
      },
      "source": [
        "###NumPy"
      ]
    },
    {
      "cell_type": "code",
      "metadata": {
        "id": "qRNqhlvKwbBs",
        "colab": {
          "base_uri": "https://localhost:8080/"
        },
        "outputId": "77fecb10-688f-468e-d9b9-ed72d25337d1"
      },
      "source": [
        "# 1\n",
        "import numpy as np\n",
        "A = np.array([[1, 6],\n",
        "              [2, 8],\n",
        "              [3, 11],\n",
        "              [3, 10],\n",
        "              [1, 7]])\n",
        "mean_a = np.array([A[:, 0].mean(), A[:, 1].mean()])\n",
        "mean_a"
      ],
      "execution_count": 4,
      "outputs": [
        {
          "output_type": "execute_result",
          "data": {
            "text/plain": [
              "array([2. , 8.4])"
            ]
          },
          "metadata": {},
          "execution_count": 4
        }
      ]
    },
    {
      "cell_type": "code",
      "metadata": {
        "colab": {
          "base_uri": "https://localhost:8080/"
        },
        "id": "4voRmkTCykPz",
        "outputId": "7e3c8387-d503-41a4-9880-a91875ac73f6"
      },
      "source": [
        "# 2\n",
        "a_centered = A - mean_a\n",
        "a_centered"
      ],
      "execution_count": 5,
      "outputs": [
        {
          "output_type": "execute_result",
          "data": {
            "text/plain": [
              "array([[-1. , -2.4],\n",
              "       [ 0. , -0.4],\n",
              "       [ 1. ,  2.6],\n",
              "       [ 1. ,  1.6],\n",
              "       [-1. , -1.4]])"
            ]
          },
          "metadata": {},
          "execution_count": 5
        }
      ]
    },
    {
      "cell_type": "code",
      "metadata": {
        "colab": {
          "base_uri": "https://localhost:8080/"
        },
        "id": "PKEwVm3tzDiG",
        "outputId": "cf7ad3fd-2da0-40ac-dfd1-2bd60c74719d"
      },
      "source": [
        "# 3\n",
        "a_centered_sp = a_centered[:, 0] @ a_centered[:, 1]\n",
        "a_magic = a_centered_sp / (A.shape[0] - 1)\n",
        "a_centered_sp  "
      ],
      "execution_count": 43,
      "outputs": [
        {
          "output_type": "execute_result",
          "data": {
            "text/plain": [
              "8.0"
            ]
          },
          "metadata": {},
          "execution_count": 43
        }
      ]
    },
    {
      "cell_type": "code",
      "metadata": {
        "colab": {
          "base_uri": "https://localhost:8080/"
        },
        "id": "bQPK_vAF0Nwh",
        "outputId": "aa4ea727-c381-4303-b078-0afdfc923804"
      },
      "source": [
        "# 4\n",
        "a_cov = np.cov(A.T)[0, 1]\n",
        "a_magic, a_magic == a_cov"
      ],
      "execution_count": 44,
      "outputs": [
        {
          "output_type": "execute_result",
          "data": {
            "text/plain": [
              "(2.0, True)"
            ]
          },
          "metadata": {},
          "execution_count": 44
        }
      ]
    },
    {
      "cell_type": "markdown",
      "metadata": {
        "id": "31EWqz6J1t9H"
      },
      "source": [
        "### Pandas"
      ]
    },
    {
      "cell_type": "code",
      "metadata": {
        "colab": {
          "base_uri": "https://localhost:8080/"
        },
        "id": "PQ-dyHX51xSa",
        "outputId": "487608ba-51d3-4cfa-b9c0-92fc2c2c41ee"
      },
      "source": [
        "# 1\n",
        "import pandas as pd\n",
        "authors  = pd.DataFrame({\n",
        "    \"author_id\": [1, 2, 3],\n",
        "    \"author_name\":  ['Тургенев', 'Чехов', 'Островский']})\n",
        "book = pd.DataFrame({\n",
        "    \"author_id\": [1, 1, 1, 2, 2, 3, 3],\n",
        "    \"book_title\": ['Отцы и дети', 'Рудин', 'Дворянское гнездо', 'Толстый и тонкий', 'Дама с собачкой', 'Гроза', 'Таланты и поклонники'],\n",
        "    \"price\": [450, 300, 350, 500, 450, 370, 290]})\n",
        "print(authors, '\\n', book) \n"
      ],
      "execution_count": 24,
      "outputs": [
        {
          "output_type": "stream",
          "name": "stdout",
          "text": [
            "   author_id author_name\n",
            "0          1    Тургенев\n",
            "1          2       Чехов\n",
            "2          3  Островский \n",
            "    author_id            book_title  price\n",
            "0          1           Отцы и дети    450\n",
            "1          1                 Рудин    300\n",
            "2          1     Дворянское гнездо    350\n",
            "3          2      Толстый и тонкий    500\n",
            "4          2       Дама с собачкой    450\n",
            "5          3                 Гроза    370\n",
            "6          3  Таланты и поклонники    290\n"
          ]
        }
      ]
    },
    {
      "cell_type": "code",
      "metadata": {
        "colab": {
          "base_uri": "https://localhost:8080/",
          "height": 269
        },
        "id": "C5S-2Ra0AFaA",
        "outputId": "3146506c-ec7c-43e5-d030-3d7115137f9b"
      },
      "source": [
        "# 2\n",
        "authors_price = pd.merge(authors, book, on='author_id')\n",
        "authors_price"
      ],
      "execution_count": 26,
      "outputs": [
        {
          "output_type": "execute_result",
          "data": {
            "text/html": [
              "<div>\n",
              "<style scoped>\n",
              "    .dataframe tbody tr th:only-of-type {\n",
              "        vertical-align: middle;\n",
              "    }\n",
              "\n",
              "    .dataframe tbody tr th {\n",
              "        vertical-align: top;\n",
              "    }\n",
              "\n",
              "    .dataframe thead th {\n",
              "        text-align: right;\n",
              "    }\n",
              "</style>\n",
              "<table border=\"1\" class=\"dataframe\">\n",
              "  <thead>\n",
              "    <tr style=\"text-align: right;\">\n",
              "      <th></th>\n",
              "      <th>author_id</th>\n",
              "      <th>author_name</th>\n",
              "      <th>book_title</th>\n",
              "      <th>price</th>\n",
              "    </tr>\n",
              "  </thead>\n",
              "  <tbody>\n",
              "    <tr>\n",
              "      <th>0</th>\n",
              "      <td>1</td>\n",
              "      <td>Тургенев</td>\n",
              "      <td>Отцы и дети</td>\n",
              "      <td>450</td>\n",
              "    </tr>\n",
              "    <tr>\n",
              "      <th>1</th>\n",
              "      <td>1</td>\n",
              "      <td>Тургенев</td>\n",
              "      <td>Рудин</td>\n",
              "      <td>300</td>\n",
              "    </tr>\n",
              "    <tr>\n",
              "      <th>2</th>\n",
              "      <td>1</td>\n",
              "      <td>Тургенев</td>\n",
              "      <td>Дворянское гнездо</td>\n",
              "      <td>350</td>\n",
              "    </tr>\n",
              "    <tr>\n",
              "      <th>3</th>\n",
              "      <td>2</td>\n",
              "      <td>Чехов</td>\n",
              "      <td>Толстый и тонкий</td>\n",
              "      <td>500</td>\n",
              "    </tr>\n",
              "    <tr>\n",
              "      <th>4</th>\n",
              "      <td>2</td>\n",
              "      <td>Чехов</td>\n",
              "      <td>Дама с собачкой</td>\n",
              "      <td>450</td>\n",
              "    </tr>\n",
              "    <tr>\n",
              "      <th>5</th>\n",
              "      <td>3</td>\n",
              "      <td>Островский</td>\n",
              "      <td>Гроза</td>\n",
              "      <td>370</td>\n",
              "    </tr>\n",
              "    <tr>\n",
              "      <th>6</th>\n",
              "      <td>3</td>\n",
              "      <td>Островский</td>\n",
              "      <td>Таланты и поклонники</td>\n",
              "      <td>290</td>\n",
              "    </tr>\n",
              "  </tbody>\n",
              "</table>\n",
              "</div>"
            ],
            "text/plain": [
              "   author_id author_name            book_title  price\n",
              "0          1    Тургенев           Отцы и дети    450\n",
              "1          1    Тургенев                 Рудин    300\n",
              "2          1    Тургенев     Дворянское гнездо    350\n",
              "3          2       Чехов      Толстый и тонкий    500\n",
              "4          2       Чехов       Дама с собачкой    450\n",
              "5          3  Островский                 Гроза    370\n",
              "6          3  Островский  Таланты и поклонники    290"
            ]
          },
          "metadata": {},
          "execution_count": 26
        }
      ]
    },
    {
      "cell_type": "code",
      "metadata": {
        "colab": {
          "base_uri": "https://localhost:8080/",
          "height": 206
        },
        "id": "PXILOdtwAhus",
        "outputId": "32ecb32f-941c-4ef7-bf1c-b3f0a4401111"
      },
      "source": [
        "# 3\n",
        "top5 = authors_price.nlargest(5, \"price\")\n",
        "top5"
      ],
      "execution_count": 27,
      "outputs": [
        {
          "output_type": "execute_result",
          "data": {
            "text/html": [
              "<div>\n",
              "<style scoped>\n",
              "    .dataframe tbody tr th:only-of-type {\n",
              "        vertical-align: middle;\n",
              "    }\n",
              "\n",
              "    .dataframe tbody tr th {\n",
              "        vertical-align: top;\n",
              "    }\n",
              "\n",
              "    .dataframe thead th {\n",
              "        text-align: right;\n",
              "    }\n",
              "</style>\n",
              "<table border=\"1\" class=\"dataframe\">\n",
              "  <thead>\n",
              "    <tr style=\"text-align: right;\">\n",
              "      <th></th>\n",
              "      <th>author_id</th>\n",
              "      <th>author_name</th>\n",
              "      <th>book_title</th>\n",
              "      <th>price</th>\n",
              "    </tr>\n",
              "  </thead>\n",
              "  <tbody>\n",
              "    <tr>\n",
              "      <th>3</th>\n",
              "      <td>2</td>\n",
              "      <td>Чехов</td>\n",
              "      <td>Толстый и тонкий</td>\n",
              "      <td>500</td>\n",
              "    </tr>\n",
              "    <tr>\n",
              "      <th>0</th>\n",
              "      <td>1</td>\n",
              "      <td>Тургенев</td>\n",
              "      <td>Отцы и дети</td>\n",
              "      <td>450</td>\n",
              "    </tr>\n",
              "    <tr>\n",
              "      <th>4</th>\n",
              "      <td>2</td>\n",
              "      <td>Чехов</td>\n",
              "      <td>Дама с собачкой</td>\n",
              "      <td>450</td>\n",
              "    </tr>\n",
              "    <tr>\n",
              "      <th>5</th>\n",
              "      <td>3</td>\n",
              "      <td>Островский</td>\n",
              "      <td>Гроза</td>\n",
              "      <td>370</td>\n",
              "    </tr>\n",
              "    <tr>\n",
              "      <th>2</th>\n",
              "      <td>1</td>\n",
              "      <td>Тургенев</td>\n",
              "      <td>Дворянское гнездо</td>\n",
              "      <td>350</td>\n",
              "    </tr>\n",
              "  </tbody>\n",
              "</table>\n",
              "</div>"
            ],
            "text/plain": [
              "   author_id author_name         book_title  price\n",
              "3          2       Чехов   Толстый и тонкий    500\n",
              "0          1    Тургенев        Отцы и дети    450\n",
              "4          2       Чехов    Дама с собачкой    450\n",
              "5          3  Островский              Гроза    370\n",
              "2          1    Тургенев  Дворянское гнездо    350"
            ]
          },
          "metadata": {},
          "execution_count": 27
        }
      ]
    },
    {
      "cell_type": "code",
      "metadata": {
        "colab": {
          "base_uri": "https://localhost:8080/",
          "height": 175
        },
        "id": "5cdAkTRgA3G5",
        "outputId": "7b781194-0799-4088-bd27-7561d21b1e74"
      },
      "source": [
        "# 4\n",
        "authors_stat = authors_price.groupby('author_name').agg({'price':['min', 'max', 'mean']})\n",
        "authors_stat.reset_index(inplace=True)\n",
        "authors_stat"
      ],
      "execution_count": 30,
      "outputs": [
        {
          "output_type": "execute_result",
          "data": {
            "text/html": [
              "<div>\n",
              "<style scoped>\n",
              "    .dataframe tbody tr th:only-of-type {\n",
              "        vertical-align: middle;\n",
              "    }\n",
              "\n",
              "    .dataframe tbody tr th {\n",
              "        vertical-align: top;\n",
              "    }\n",
              "\n",
              "    .dataframe thead tr th {\n",
              "        text-align: left;\n",
              "    }\n",
              "</style>\n",
              "<table border=\"1\" class=\"dataframe\">\n",
              "  <thead>\n",
              "    <tr>\n",
              "      <th></th>\n",
              "      <th>author_name</th>\n",
              "      <th colspan=\"3\" halign=\"left\">price</th>\n",
              "    </tr>\n",
              "    <tr>\n",
              "      <th></th>\n",
              "      <th></th>\n",
              "      <th>min</th>\n",
              "      <th>max</th>\n",
              "      <th>mean</th>\n",
              "    </tr>\n",
              "  </thead>\n",
              "  <tbody>\n",
              "    <tr>\n",
              "      <th>0</th>\n",
              "      <td>Островский</td>\n",
              "      <td>290</td>\n",
              "      <td>370</td>\n",
              "      <td>330.000000</td>\n",
              "    </tr>\n",
              "    <tr>\n",
              "      <th>1</th>\n",
              "      <td>Тургенев</td>\n",
              "      <td>300</td>\n",
              "      <td>450</td>\n",
              "      <td>366.666667</td>\n",
              "    </tr>\n",
              "    <tr>\n",
              "      <th>2</th>\n",
              "      <td>Чехов</td>\n",
              "      <td>450</td>\n",
              "      <td>500</td>\n",
              "      <td>475.000000</td>\n",
              "    </tr>\n",
              "  </tbody>\n",
              "</table>\n",
              "</div>"
            ],
            "text/plain": [
              "  author_name price                 \n",
              "                min  max        mean\n",
              "0  Островский   290  370  330.000000\n",
              "1    Тургенев   300  450  366.666667\n",
              "2       Чехов   450  500  475.000000"
            ]
          },
          "metadata": {},
          "execution_count": 30
        }
      ]
    },
    {
      "cell_type": "code",
      "metadata": {
        "colab": {
          "base_uri": "https://localhost:8080/",
          "height": 175
        },
        "id": "g_qB1vg2CP5M",
        "outputId": "427492ef-08b4-476f-a037-9bd3d8d82143"
      },
      "source": [
        "# 5\n",
        "authors_price['cover'] = ['твердая', 'мягкая', 'мягкая', 'твердая', 'твердая', 'мягкая', 'мягкая']\n",
        "book_info = pd.pivot_table(authors_price, values='price', index=['author_name'], columns=['cover'], aggfunc=np.sum)\n",
        "book_info.fillna(0, inplace=True)\n",
        "book_info"
      ],
      "execution_count": 35,
      "outputs": [
        {
          "output_type": "execute_result",
          "data": {
            "text/html": [
              "<div>\n",
              "<style scoped>\n",
              "    .dataframe tbody tr th:only-of-type {\n",
              "        vertical-align: middle;\n",
              "    }\n",
              "\n",
              "    .dataframe tbody tr th {\n",
              "        vertical-align: top;\n",
              "    }\n",
              "\n",
              "    .dataframe thead th {\n",
              "        text-align: right;\n",
              "    }\n",
              "</style>\n",
              "<table border=\"1\" class=\"dataframe\">\n",
              "  <thead>\n",
              "    <tr style=\"text-align: right;\">\n",
              "      <th>cover</th>\n",
              "      <th>мягкая</th>\n",
              "      <th>твердая</th>\n",
              "    </tr>\n",
              "    <tr>\n",
              "      <th>author_name</th>\n",
              "      <th></th>\n",
              "      <th></th>\n",
              "    </tr>\n",
              "  </thead>\n",
              "  <tbody>\n",
              "    <tr>\n",
              "      <th>Островский</th>\n",
              "      <td>660.0</td>\n",
              "      <td>0.0</td>\n",
              "    </tr>\n",
              "    <tr>\n",
              "      <th>Тургенев</th>\n",
              "      <td>650.0</td>\n",
              "      <td>450.0</td>\n",
              "    </tr>\n",
              "    <tr>\n",
              "      <th>Чехов</th>\n",
              "      <td>0.0</td>\n",
              "      <td>950.0</td>\n",
              "    </tr>\n",
              "  </tbody>\n",
              "</table>\n",
              "</div>"
            ],
            "text/plain": [
              "cover        мягкая  твердая\n",
              "author_name                 \n",
              "Островский    660.0      0.0\n",
              "Тургенев      650.0    450.0\n",
              "Чехов           0.0    950.0"
            ]
          },
          "metadata": {},
          "execution_count": 35
        }
      ]
    }
  ]
}