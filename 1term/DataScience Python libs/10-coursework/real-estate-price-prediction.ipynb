{
 "cells": [
  {
   "cell_type": "code",
   "execution_count": 1,
   "id": "37d9213d",
   "metadata": {
    "_cell_guid": "b1076dfc-b9ad-4769-8c92-a6c4dae69d19",
    "_uuid": "8f2839f25d086af736a60e9eeb907d3b93b6e0e5",
    "execution": {
     "iopub.execute_input": "2021-12-25T13:11:24.320904Z",
     "iopub.status.busy": "2021-12-25T13:11:24.318415Z",
     "iopub.status.idle": "2021-12-25T13:11:24.327888Z",
     "shell.execute_reply": "2021-12-25T13:11:24.328529Z",
     "shell.execute_reply.started": "2021-11-05T08:48:05.632167Z"
    },
    "papermill": {
     "duration": 0.054501,
     "end_time": "2021-12-25T13:11:24.328910",
     "exception": false,
     "start_time": "2021-12-25T13:11:24.274409",
     "status": "completed"
    },
    "tags": []
   },
   "outputs": [
    {
     "name": "stdout",
     "output_type": "stream",
     "text": [
      "/kaggle/input/real-estate-price-prediction-moscow/sample_submission.csv\n",
      "/kaggle/input/real-estate-price-prediction-moscow/train.csv\n",
      "/kaggle/input/real-estate-price-prediction-moscow/test.csv\n"
     ]
    }
   ],
   "source": [
    "# This Python 3 environment comes with many helpful analytics libraries installed\n",
    "# It is defined by the kaggle/python Docker image: https://github.com/kaggle/docker-python\n",
    "# For example, here's several helpful packages to load\n",
    "\n",
    "import numpy as np # linear algebra\n",
    "import pandas as pd # data processing, CSV file I/O (e.g. pd.read_csv)\n",
    "\n",
    "# Input data files are available in the read-only \"../input/\" directory\n",
    "# For example, running this (by clicking run or pressing Shift+Enter) will list all files under the input directory\n",
    "\n",
    "import os\n",
    "for dirname, _, filenames in os.walk('/kaggle/input'):\n",
    "    for filename in filenames:\n",
    "        print(os.path.join(dirname, filename))\n",
    "\n",
    "# You can write up to 20GB to the current directory (/kaggle/working/) that gets preserved as output when you create a version using \"Save & Run All\" \n",
    "# You can also write temporary files to /kaggle/temp/, but they won't be saved outside of the current session"
   ]
  },
  {
   "cell_type": "markdown",
   "id": "069a392b",
   "metadata": {
    "papermill": {
     "duration": 0.026336,
     "end_time": "2021-12-25T13:11:24.391089",
     "exception": false,
     "start_time": "2021-12-25T13:11:24.364753",
     "status": "completed"
    },
    "tags": []
   },
   "source": [
    "#### Импортируем необходимые для работы библиотеки, функции и классы"
   ]
  },
  {
   "cell_type": "code",
   "execution_count": 2,
   "id": "c48bb7ca",
   "metadata": {
    "execution": {
     "iopub.execute_input": "2021-12-25T13:11:24.453744Z",
     "iopub.status.busy": "2021-12-25T13:11:24.449760Z",
     "iopub.status.idle": "2021-12-25T13:11:25.840412Z",
     "shell.execute_reply": "2021-12-25T13:11:25.840894Z",
     "shell.execute_reply.started": "2021-11-05T08:48:05.645401Z"
    },
    "papermill": {
     "duration": 1.420776,
     "end_time": "2021-12-25T13:11:25.841086",
     "exception": false,
     "start_time": "2021-12-25T13:11:24.420310",
     "status": "completed"
    },
    "tags": []
   },
   "outputs": [],
   "source": [
    "import numpy as np\n",
    "import pandas as pd\n",
    "import random\n",
    "\n",
    "from sklearn.model_selection import train_test_split, cross_val_score\n",
    "from sklearn.preprocessing import StandardScaler, RobustScaler\n",
    "from catboost import CatBoostRegressor\n",
    "from sklearn.ensemble import RandomForestRegressor\n",
    "from sklearn.metrics import r2_score as r2\n",
    "from sklearn.model_selection import KFold, GridSearchCV\n",
    "\n",
    "from datetime import datetime\n",
    "\n",
    "import matplotlib\n",
    "import matplotlib.pyplot as plt\n",
    "import seaborn as sns\n",
    "%matplotlib inline"
   ]
  },
  {
   "cell_type": "markdown",
   "id": "e845f472",
   "metadata": {
    "papermill": {
     "duration": 0.026463,
     "end_time": "2021-12-25T13:11:25.894845",
     "exception": false,
     "start_time": "2021-12-25T13:11:25.868382",
     "status": "completed"
    },
    "tags": []
   },
   "source": [
    "#### Подключение предупреждений"
   ]
  },
  {
   "cell_type": "code",
   "execution_count": 3,
   "id": "5130fb69",
   "metadata": {
    "execution": {
     "iopub.execute_input": "2021-12-25T13:11:25.953219Z",
     "iopub.status.busy": "2021-12-25T13:11:25.952229Z",
     "iopub.status.idle": "2021-12-25T13:11:25.954116Z",
     "shell.execute_reply": "2021-12-25T13:11:25.954641Z",
     "shell.execute_reply.started": "2021-11-05T08:48:05.659808Z"
    },
    "papermill": {
     "duration": 0.033285,
     "end_time": "2021-12-25T13:11:25.954818",
     "exception": false,
     "start_time": "2021-12-25T13:11:25.921533",
     "status": "completed"
    },
    "tags": []
   },
   "outputs": [],
   "source": [
    "import warnings\n",
    "warnings.filterwarnings('ignore')"
   ]
  },
  {
   "cell_type": "markdown",
   "id": "8c802574",
   "metadata": {
    "papermill": {
     "duration": 0.026689,
     "end_time": "2021-12-25T13:11:26.008559",
     "exception": false,
     "start_time": "2021-12-25T13:11:25.981870",
     "status": "completed"
    },
    "tags": []
   },
   "source": [
    "#### Приводим к единому стандарту оформления шрифтов"
   ]
  },
  {
   "cell_type": "code",
   "execution_count": 4,
   "id": "891842b5",
   "metadata": {
    "execution": {
     "iopub.execute_input": "2021-12-25T13:11:26.067142Z",
     "iopub.status.busy": "2021-12-25T13:11:26.066114Z",
     "iopub.status.idle": "2021-12-25T13:11:26.070242Z",
     "shell.execute_reply": "2021-12-25T13:11:26.070865Z",
     "shell.execute_reply.started": "2021-11-05T08:48:05.674224Z"
    },
    "papermill": {
     "duration": 0.035156,
     "end_time": "2021-12-25T13:11:26.071044",
     "exception": false,
     "start_time": "2021-12-25T13:11:26.035888",
     "status": "completed"
    },
    "tags": []
   },
   "outputs": [],
   "source": [
    "matplotlib.rcParams.update({'font.size': 14})"
   ]
  },
  {
   "cell_type": "markdown",
   "id": "486aa43e",
   "metadata": {
    "papermill": {
     "duration": 0.0273,
     "end_time": "2021-12-25T13:11:26.125841",
     "exception": false,
     "start_time": "2021-12-25T13:11:26.098541",
     "status": "completed"
    },
    "tags": []
   },
   "source": [
    "#### Задаем функцию подсчёта метрик"
   ]
  },
  {
   "cell_type": "code",
   "execution_count": 5,
   "id": "30612495",
   "metadata": {
    "execution": {
     "iopub.execute_input": "2021-12-25T13:11:26.196024Z",
     "iopub.status.busy": "2021-12-25T13:11:26.195226Z",
     "iopub.status.idle": "2021-12-25T13:11:26.197913Z",
     "shell.execute_reply": "2021-12-25T13:11:26.198756Z",
     "shell.execute_reply.started": "2021-11-05T08:48:05.687926Z"
    },
    "papermill": {
     "duration": 0.041524,
     "end_time": "2021-12-25T13:11:26.198983",
     "exception": false,
     "start_time": "2021-12-25T13:11:26.157459",
     "status": "completed"
    },
    "tags": []
   },
   "outputs": [],
   "source": [
    "def evaluate_preds(train_true_values, train_pred_values, test_true_values, test_pred_values):\n",
    "    print(\"Train R2:\\t\" + str(round(r2(train_true_values, train_pred_values), 3)))\n",
    "    print(\"Test R2:\\t\" + str(round(r2(test_true_values, test_pred_values), 3)))\n",
    "    \n",
    "    plt.figure(figsize=(18,10))\n",
    "    \n",
    "    plt.subplot(121)\n",
    "    sns.scatterplot(x=train_pred_values, y=train_true_values)\n",
    "    plt.xlabel('Predicted values')\n",
    "    plt.ylabel('True values')\n",
    "    plt.title('Train sample prediction')\n",
    "    \n",
    "    plt.subplot(122)\n",
    "    sns.scatterplot(x=test_pred_values, y=test_true_values)\n",
    "    plt.xlabel('Predicted values')\n",
    "    plt.ylabel('True values')\n",
    "    plt.title('Test sample prediction')\n",
    "\n",
    "    plt.show()"
   ]
  },
  {
   "cell_type": "markdown",
   "id": "771e0fb3",
   "metadata": {
    "papermill": {
     "duration": 0.03431,
     "end_time": "2021-12-25T13:11:26.269313",
     "exception": false,
     "start_time": "2021-12-25T13:11:26.235003",
     "status": "completed"
    },
    "tags": []
   },
   "source": [
    "#### Пропишем путь к файлам данных"
   ]
  },
  {
   "cell_type": "code",
   "execution_count": 6,
   "id": "835a8677",
   "metadata": {
    "execution": {
     "iopub.execute_input": "2021-12-25T13:11:26.326018Z",
     "iopub.status.busy": "2021-12-25T13:11:26.325105Z",
     "iopub.status.idle": "2021-12-25T13:11:26.328643Z",
     "shell.execute_reply": "2021-12-25T13:11:26.329185Z",
     "shell.execute_reply.started": "2021-11-05T08:48:05.703029Z"
    },
    "papermill": {
     "duration": 0.033241,
     "end_time": "2021-12-25T13:11:26.329330",
     "exception": false,
     "start_time": "2021-12-25T13:11:26.296089",
     "status": "completed"
    },
    "tags": []
   },
   "outputs": [],
   "source": [
    "TRAIN_DATASET_PATH = '/kaggle/input/real-estate-price-prediction-moscow/train.csv'\n",
    "TEST_DATASET_PATH = '/kaggle/input/real-estate-price-prediction-moscow/test.csv'"
   ]
  },
  {
   "cell_type": "markdown",
   "id": "ef2baa09",
   "metadata": {
    "papermill": {
     "duration": 0.026126,
     "end_time": "2021-12-25T13:11:26.436262",
     "exception": false,
     "start_time": "2021-12-25T13:11:26.410136",
     "status": "completed"
    },
    "tags": []
   },
   "source": [
    "#### Читаем данные"
   ]
  },
  {
   "cell_type": "code",
   "execution_count": 7,
   "id": "a20b8814",
   "metadata": {
    "execution": {
     "iopub.execute_input": "2021-12-25T13:11:26.493277Z",
     "iopub.status.busy": "2021-12-25T13:11:26.492359Z",
     "iopub.status.idle": "2021-12-25T13:11:26.565302Z",
     "shell.execute_reply": "2021-12-25T13:11:26.564842Z",
     "shell.execute_reply.started": "2021-11-05T08:48:05.761217Z"
    },
    "papermill": {
     "duration": 0.102458,
     "end_time": "2021-12-25T13:11:26.565450",
     "exception": false,
     "start_time": "2021-12-25T13:11:26.462992",
     "status": "completed"
    },
    "tags": []
   },
   "outputs": [
    {
     "data": {
      "text/html": [
       "<div>\n",
       "<style scoped>\n",
       "    .dataframe tbody tr th:only-of-type {\n",
       "        vertical-align: middle;\n",
       "    }\n",
       "\n",
       "    .dataframe tbody tr th {\n",
       "        vertical-align: top;\n",
       "    }\n",
       "\n",
       "    .dataframe thead th {\n",
       "        text-align: right;\n",
       "    }\n",
       "</style>\n",
       "<table border=\"1\" class=\"dataframe\">\n",
       "  <thead>\n",
       "    <tr style=\"text-align: right;\">\n",
       "      <th></th>\n",
       "      <th>Id</th>\n",
       "      <th>DistrictId</th>\n",
       "      <th>Rooms</th>\n",
       "      <th>Square</th>\n",
       "      <th>LifeSquare</th>\n",
       "      <th>KitchenSquare</th>\n",
       "      <th>Floor</th>\n",
       "      <th>HouseFloor</th>\n",
       "      <th>HouseYear</th>\n",
       "      <th>Ecology_1</th>\n",
       "      <th>Ecology_2</th>\n",
       "      <th>Ecology_3</th>\n",
       "      <th>Social_1</th>\n",
       "      <th>Social_2</th>\n",
       "      <th>Social_3</th>\n",
       "      <th>Healthcare_1</th>\n",
       "      <th>Helthcare_2</th>\n",
       "      <th>Shops_1</th>\n",
       "      <th>Shops_2</th>\n",
       "      <th>Price</th>\n",
       "    </tr>\n",
       "  </thead>\n",
       "  <tbody>\n",
       "    <tr>\n",
       "      <th>9995</th>\n",
       "      <td>1260</td>\n",
       "      <td>61</td>\n",
       "      <td>2.0</td>\n",
       "      <td>49.090728</td>\n",
       "      <td>33.272626</td>\n",
       "      <td>6.0</td>\n",
       "      <td>3</td>\n",
       "      <td>12.0</td>\n",
       "      <td>1981</td>\n",
       "      <td>0.300323</td>\n",
       "      <td>B</td>\n",
       "      <td>B</td>\n",
       "      <td>52</td>\n",
       "      <td>10311</td>\n",
       "      <td>6</td>\n",
       "      <td>NaN</td>\n",
       "      <td>1</td>\n",
       "      <td>9</td>\n",
       "      <td>B</td>\n",
       "      <td>119367.455796</td>\n",
       "    </tr>\n",
       "    <tr>\n",
       "      <th>9996</th>\n",
       "      <td>16265</td>\n",
       "      <td>27</td>\n",
       "      <td>2.0</td>\n",
       "      <td>64.307684</td>\n",
       "      <td>37.038420</td>\n",
       "      <td>9.0</td>\n",
       "      <td>13</td>\n",
       "      <td>0.0</td>\n",
       "      <td>1977</td>\n",
       "      <td>0.072158</td>\n",
       "      <td>B</td>\n",
       "      <td>B</td>\n",
       "      <td>2</td>\n",
       "      <td>629</td>\n",
       "      <td>1</td>\n",
       "      <td>NaN</td>\n",
       "      <td>0</td>\n",
       "      <td>0</td>\n",
       "      <td>A</td>\n",
       "      <td>199715.148807</td>\n",
       "    </tr>\n",
       "    <tr>\n",
       "      <th>9997</th>\n",
       "      <td>2795</td>\n",
       "      <td>178</td>\n",
       "      <td>1.0</td>\n",
       "      <td>29.648057</td>\n",
       "      <td>16.555363</td>\n",
       "      <td>5.0</td>\n",
       "      <td>3</td>\n",
       "      <td>5.0</td>\n",
       "      <td>1958</td>\n",
       "      <td>0.460556</td>\n",
       "      <td>B</td>\n",
       "      <td>B</td>\n",
       "      <td>20</td>\n",
       "      <td>4386</td>\n",
       "      <td>14</td>\n",
       "      <td>NaN</td>\n",
       "      <td>1</td>\n",
       "      <td>5</td>\n",
       "      <td>B</td>\n",
       "      <td>165953.912580</td>\n",
       "    </tr>\n",
       "    <tr>\n",
       "      <th>9998</th>\n",
       "      <td>14561</td>\n",
       "      <td>21</td>\n",
       "      <td>1.0</td>\n",
       "      <td>32.330292</td>\n",
       "      <td>22.326870</td>\n",
       "      <td>5.0</td>\n",
       "      <td>3</td>\n",
       "      <td>9.0</td>\n",
       "      <td>1969</td>\n",
       "      <td>0.194489</td>\n",
       "      <td>B</td>\n",
       "      <td>B</td>\n",
       "      <td>47</td>\n",
       "      <td>8004</td>\n",
       "      <td>3</td>\n",
       "      <td>125.0</td>\n",
       "      <td>3</td>\n",
       "      <td>5</td>\n",
       "      <td>B</td>\n",
       "      <td>171842.411855</td>\n",
       "    </tr>\n",
       "    <tr>\n",
       "      <th>9999</th>\n",
       "      <td>7202</td>\n",
       "      <td>94</td>\n",
       "      <td>1.0</td>\n",
       "      <td>35.815476</td>\n",
       "      <td>22.301367</td>\n",
       "      <td>6.0</td>\n",
       "      <td>9</td>\n",
       "      <td>9.0</td>\n",
       "      <td>1975</td>\n",
       "      <td>0.127376</td>\n",
       "      <td>B</td>\n",
       "      <td>B</td>\n",
       "      <td>43</td>\n",
       "      <td>8429</td>\n",
       "      <td>3</td>\n",
       "      <td>NaN</td>\n",
       "      <td>3</td>\n",
       "      <td>9</td>\n",
       "      <td>B</td>\n",
       "      <td>177685.627486</td>\n",
       "    </tr>\n",
       "  </tbody>\n",
       "</table>\n",
       "</div>"
      ],
      "text/plain": [
       "         Id  DistrictId  Rooms     Square  LifeSquare  KitchenSquare  Floor  \\\n",
       "9995   1260          61    2.0  49.090728   33.272626            6.0      3   \n",
       "9996  16265          27    2.0  64.307684   37.038420            9.0     13   \n",
       "9997   2795         178    1.0  29.648057   16.555363            5.0      3   \n",
       "9998  14561          21    1.0  32.330292   22.326870            5.0      3   \n",
       "9999   7202          94    1.0  35.815476   22.301367            6.0      9   \n",
       "\n",
       "      HouseFloor  HouseYear  Ecology_1 Ecology_2 Ecology_3  Social_1  \\\n",
       "9995        12.0       1981   0.300323         B         B        52   \n",
       "9996         0.0       1977   0.072158         B         B         2   \n",
       "9997         5.0       1958   0.460556         B         B        20   \n",
       "9998         9.0       1969   0.194489         B         B        47   \n",
       "9999         9.0       1975   0.127376         B         B        43   \n",
       "\n",
       "      Social_2  Social_3  Healthcare_1  Helthcare_2  Shops_1 Shops_2  \\\n",
       "9995     10311         6           NaN            1        9       B   \n",
       "9996       629         1           NaN            0        0       A   \n",
       "9997      4386        14           NaN            1        5       B   \n",
       "9998      8004         3         125.0            3        5       B   \n",
       "9999      8429         3           NaN            3        9       B   \n",
       "\n",
       "              Price  \n",
       "9995  119367.455796  \n",
       "9996  199715.148807  \n",
       "9997  165953.912580  \n",
       "9998  171842.411855  \n",
       "9999  177685.627486  "
      ]
     },
     "execution_count": 7,
     "metadata": {},
     "output_type": "execute_result"
    }
   ],
   "source": [
    "train_df = pd.read_csv(TRAIN_DATASET_PATH)\n",
    "train_df.tail()"
   ]
  },
  {
   "cell_type": "markdown",
   "id": "425ba415",
   "metadata": {
    "papermill": {
     "duration": 0.027014,
     "end_time": "2021-12-25T13:11:26.619891",
     "exception": false,
     "start_time": "2021-12-25T13:11:26.592877",
     "status": "completed"
    },
    "tags": []
   },
   "source": [
    "#### Проверяем типы даннных"
   ]
  },
  {
   "cell_type": "code",
   "execution_count": 8,
   "id": "4f2754a9",
   "metadata": {
    "execution": {
     "iopub.execute_input": "2021-12-25T13:11:26.680610Z",
     "iopub.status.busy": "2021-12-25T13:11:26.680004Z",
     "iopub.status.idle": "2021-12-25T13:11:26.682297Z",
     "shell.execute_reply": "2021-12-25T13:11:26.682752Z",
     "shell.execute_reply.started": "2021-11-05T08:48:05.826426Z"
    },
    "papermill": {
     "duration": 0.036034,
     "end_time": "2021-12-25T13:11:26.682915",
     "exception": false,
     "start_time": "2021-12-25T13:11:26.646881",
     "status": "completed"
    },
    "tags": []
   },
   "outputs": [
    {
     "data": {
      "text/plain": [
       "Id                 int64\n",
       "DistrictId         int64\n",
       "Rooms            float64\n",
       "Square           float64\n",
       "LifeSquare       float64\n",
       "KitchenSquare    float64\n",
       "Floor              int64\n",
       "HouseFloor       float64\n",
       "HouseYear          int64\n",
       "Ecology_1        float64\n",
       "Ecology_2         object\n",
       "Ecology_3         object\n",
       "Social_1           int64\n",
       "Social_2           int64\n",
       "Social_3           int64\n",
       "Healthcare_1     float64\n",
       "Helthcare_2        int64\n",
       "Shops_1            int64\n",
       "Shops_2           object\n",
       "Price            float64\n",
       "dtype: object"
      ]
     },
     "execution_count": 8,
     "metadata": {},
     "output_type": "execute_result"
    }
   ],
   "source": [
    "train_df.dtypes"
   ]
  },
  {
   "cell_type": "markdown",
   "id": "8d525264",
   "metadata": {
    "papermill": {
     "duration": 0.027092,
     "end_time": "2021-12-25T13:11:26.738074",
     "exception": false,
     "start_time": "2021-12-25T13:11:26.710982",
     "status": "completed"
    },
    "tags": []
   },
   "source": [
    "#### Производим деление прзнаков на текстовые и числовые"
   ]
  },
  {
   "cell_type": "code",
   "execution_count": 9,
   "id": "156d10d8",
   "metadata": {
    "execution": {
     "iopub.execute_input": "2021-12-25T13:11:26.804999Z",
     "iopub.status.busy": "2021-12-25T13:11:26.804047Z",
     "iopub.status.idle": "2021-12-25T13:11:26.811381Z",
     "shell.execute_reply": "2021-12-25T13:11:26.811909Z",
     "shell.execute_reply.started": "2021-11-05T08:48:05.8369Z"
    },
    "papermill": {
     "duration": 0.046601,
     "end_time": "2021-12-25T13:11:26.812075",
     "exception": false,
     "start_time": "2021-12-25T13:11:26.765474",
     "status": "completed"
    },
    "tags": []
   },
   "outputs": [
    {
     "data": {
      "text/plain": [
       "['Id',\n",
       " 'DistrictId',\n",
       " 'Rooms',\n",
       " 'Square',\n",
       " 'LifeSquare',\n",
       " 'KitchenSquare',\n",
       " 'Floor',\n",
       " 'HouseFloor',\n",
       " 'HouseYear',\n",
       " 'Ecology_1',\n",
       " 'Social_1',\n",
       " 'Social_2',\n",
       " 'Social_3',\n",
       " 'Healthcare_1',\n",
       " 'Helthcare_2',\n",
       " 'Shops_1',\n",
       " 'Price']"
      ]
     },
     "execution_count": 9,
     "metadata": {},
     "output_type": "execute_result"
    }
   ],
   "source": [
    "num_feat = list(train_df.select_dtypes(exclude='object').columns)\n",
    "obj_feat = list(train_df.select_dtypes(include='object').columns)\n",
    "target = 'Price'\n",
    "\n",
    "num_feat"
   ]
  },
  {
   "cell_type": "markdown",
   "id": "bc3ebde8",
   "metadata": {
    "papermill": {
     "duration": 0.028717,
     "end_time": "2021-12-25T13:11:26.869139",
     "exception": false,
     "start_time": "2021-12-25T13:11:26.840422",
     "status": "completed"
    },
    "tags": []
   },
   "source": [
    "#### Подгружаем текстовые данные"
   ]
  },
  {
   "cell_type": "code",
   "execution_count": 10,
   "id": "67b10bda",
   "metadata": {
    "execution": {
     "iopub.execute_input": "2021-12-25T13:11:26.929335Z",
     "iopub.status.busy": "2021-12-25T13:11:26.928707Z",
     "iopub.status.idle": "2021-12-25T13:11:26.971143Z",
     "shell.execute_reply": "2021-12-25T13:11:26.971719Z",
     "shell.execute_reply.started": "2021-11-05T08:48:05.894855Z"
    },
    "papermill": {
     "duration": 0.074635,
     "end_time": "2021-12-25T13:11:26.971882",
     "exception": false,
     "start_time": "2021-12-25T13:11:26.897247",
     "status": "completed"
    },
    "tags": []
   },
   "outputs": [
    {
     "data": {
      "text/html": [
       "<div>\n",
       "<style scoped>\n",
       "    .dataframe tbody tr th:only-of-type {\n",
       "        vertical-align: middle;\n",
       "    }\n",
       "\n",
       "    .dataframe tbody tr th {\n",
       "        vertical-align: top;\n",
       "    }\n",
       "\n",
       "    .dataframe thead th {\n",
       "        text-align: right;\n",
       "    }\n",
       "</style>\n",
       "<table border=\"1\" class=\"dataframe\">\n",
       "  <thead>\n",
       "    <tr style=\"text-align: right;\">\n",
       "      <th></th>\n",
       "      <th>Id</th>\n",
       "      <th>DistrictId</th>\n",
       "      <th>Rooms</th>\n",
       "      <th>Square</th>\n",
       "      <th>LifeSquare</th>\n",
       "      <th>KitchenSquare</th>\n",
       "      <th>Floor</th>\n",
       "      <th>HouseFloor</th>\n",
       "      <th>HouseYear</th>\n",
       "      <th>Ecology_1</th>\n",
       "      <th>Ecology_2</th>\n",
       "      <th>Ecology_3</th>\n",
       "      <th>Social_1</th>\n",
       "      <th>Social_2</th>\n",
       "      <th>Social_3</th>\n",
       "      <th>Healthcare_1</th>\n",
       "      <th>Helthcare_2</th>\n",
       "      <th>Shops_1</th>\n",
       "      <th>Shops_2</th>\n",
       "    </tr>\n",
       "  </thead>\n",
       "  <tbody>\n",
       "    <tr>\n",
       "      <th>4995</th>\n",
       "      <td>10379</td>\n",
       "      <td>29</td>\n",
       "      <td>2.0</td>\n",
       "      <td>43.177521</td>\n",
       "      <td>30.339945</td>\n",
       "      <td>5.0</td>\n",
       "      <td>6</td>\n",
       "      <td>5.0</td>\n",
       "      <td>1962</td>\n",
       "      <td>0.069660</td>\n",
       "      <td>B</td>\n",
       "      <td>B</td>\n",
       "      <td>31</td>\n",
       "      <td>6119</td>\n",
       "      <td>4</td>\n",
       "      <td>NaN</td>\n",
       "      <td>1</td>\n",
       "      <td>2</td>\n",
       "      <td>B</td>\n",
       "    </tr>\n",
       "    <tr>\n",
       "      <th>4996</th>\n",
       "      <td>16138</td>\n",
       "      <td>38</td>\n",
       "      <td>3.0</td>\n",
       "      <td>93.698122</td>\n",
       "      <td>94.521465</td>\n",
       "      <td>10.0</td>\n",
       "      <td>21</td>\n",
       "      <td>27.0</td>\n",
       "      <td>2018</td>\n",
       "      <td>0.060753</td>\n",
       "      <td>B</td>\n",
       "      <td>B</td>\n",
       "      <td>15</td>\n",
       "      <td>2787</td>\n",
       "      <td>2</td>\n",
       "      <td>520.0</td>\n",
       "      <td>0</td>\n",
       "      <td>7</td>\n",
       "      <td>B</td>\n",
       "    </tr>\n",
       "    <tr>\n",
       "      <th>4997</th>\n",
       "      <td>3912</td>\n",
       "      <td>101</td>\n",
       "      <td>1.0</td>\n",
       "      <td>33.656723</td>\n",
       "      <td>19.003259</td>\n",
       "      <td>5.0</td>\n",
       "      <td>2</td>\n",
       "      <td>5.0</td>\n",
       "      <td>1966</td>\n",
       "      <td>0.038693</td>\n",
       "      <td>B</td>\n",
       "      <td>B</td>\n",
       "      <td>28</td>\n",
       "      <td>6533</td>\n",
       "      <td>1</td>\n",
       "      <td>1015.0</td>\n",
       "      <td>2</td>\n",
       "      <td>5</td>\n",
       "      <td>B</td>\n",
       "    </tr>\n",
       "    <tr>\n",
       "      <th>4998</th>\n",
       "      <td>5722</td>\n",
       "      <td>10</td>\n",
       "      <td>1.0</td>\n",
       "      <td>38.635155</td>\n",
       "      <td>20.976257</td>\n",
       "      <td>9.0</td>\n",
       "      <td>8</td>\n",
       "      <td>14.0</td>\n",
       "      <td>1970</td>\n",
       "      <td>0.089040</td>\n",
       "      <td>B</td>\n",
       "      <td>B</td>\n",
       "      <td>33</td>\n",
       "      <td>7976</td>\n",
       "      <td>5</td>\n",
       "      <td>NaN</td>\n",
       "      <td>0</td>\n",
       "      <td>11</td>\n",
       "      <td>B</td>\n",
       "    </tr>\n",
       "    <tr>\n",
       "      <th>4999</th>\n",
       "      <td>11004</td>\n",
       "      <td>21</td>\n",
       "      <td>2.0</td>\n",
       "      <td>67.122742</td>\n",
       "      <td>33.944344</td>\n",
       "      <td>13.0</td>\n",
       "      <td>9</td>\n",
       "      <td>17.0</td>\n",
       "      <td>2009</td>\n",
       "      <td>0.194489</td>\n",
       "      <td>B</td>\n",
       "      <td>B</td>\n",
       "      <td>47</td>\n",
       "      <td>8004</td>\n",
       "      <td>3</td>\n",
       "      <td>125.0</td>\n",
       "      <td>3</td>\n",
       "      <td>5</td>\n",
       "      <td>B</td>\n",
       "    </tr>\n",
       "  </tbody>\n",
       "</table>\n",
       "</div>"
      ],
      "text/plain": [
       "         Id  DistrictId  Rooms     Square  LifeSquare  KitchenSquare  Floor  \\\n",
       "4995  10379          29    2.0  43.177521   30.339945            5.0      6   \n",
       "4996  16138          38    3.0  93.698122   94.521465           10.0     21   \n",
       "4997   3912         101    1.0  33.656723   19.003259            5.0      2   \n",
       "4998   5722          10    1.0  38.635155   20.976257            9.0      8   \n",
       "4999  11004          21    2.0  67.122742   33.944344           13.0      9   \n",
       "\n",
       "      HouseFloor  HouseYear  Ecology_1 Ecology_2 Ecology_3  Social_1  \\\n",
       "4995         5.0       1962   0.069660         B         B        31   \n",
       "4996        27.0       2018   0.060753         B         B        15   \n",
       "4997         5.0       1966   0.038693         B         B        28   \n",
       "4998        14.0       1970   0.089040         B         B        33   \n",
       "4999        17.0       2009   0.194489         B         B        47   \n",
       "\n",
       "      Social_2  Social_3  Healthcare_1  Helthcare_2  Shops_1 Shops_2  \n",
       "4995      6119         4           NaN            1        2       B  \n",
       "4996      2787         2         520.0            0        7       B  \n",
       "4997      6533         1        1015.0            2        5       B  \n",
       "4998      7976         5           NaN            0       11       B  \n",
       "4999      8004         3         125.0            3        5       B  "
      ]
     },
     "execution_count": 10,
     "metadata": {},
     "output_type": "execute_result"
    }
   ],
   "source": [
    "test_df = pd.read_csv(TEST_DATASET_PATH)\n",
    "test_df.tail()"
   ]
  },
  {
   "cell_type": "markdown",
   "id": "c386f47c",
   "metadata": {
    "papermill": {
     "duration": 0.029275,
     "end_time": "2021-12-25T13:11:27.031037",
     "exception": false,
     "start_time": "2021-12-25T13:11:27.001762",
     "status": "completed"
    },
    "tags": []
   },
   "source": [
    "#### 10. выявляем кол-во строк в train и test"
   ]
  },
  {
   "cell_type": "code",
   "execution_count": 11,
   "id": "08bfc162",
   "metadata": {
    "execution": {
     "iopub.execute_input": "2021-12-25T13:11:27.090917Z",
     "iopub.status.busy": "2021-12-25T13:11:27.090335Z",
     "iopub.status.idle": "2021-12-25T13:11:27.095235Z",
     "shell.execute_reply": "2021-12-25T13:11:27.096096Z",
     "shell.execute_reply.started": "2021-11-05T08:48:05.934155Z"
    },
    "papermill": {
     "duration": 0.036683,
     "end_time": "2021-12-25T13:11:27.096370",
     "exception": false,
     "start_time": "2021-12-25T13:11:27.059687",
     "status": "completed"
    },
    "tags": []
   },
   "outputs": [
    {
     "name": "stdout",
     "output_type": "stream",
     "text": [
      "Строк в трейне: 10000\n",
      "Строк в тесте 5000\n"
     ]
    }
   ],
   "source": [
    "print('Строк в трейне:', train_df.shape[0])\n",
    "print('Строк в тесте', test_df.shape[0])"
   ]
  },
  {
   "cell_type": "markdown",
   "id": "82e1d462",
   "metadata": {
    "papermill": {
     "duration": 0.029253,
     "end_time": "2021-12-25T13:11:27.156464",
     "exception": false,
     "start_time": "2021-12-25T13:11:27.127211",
     "status": "completed"
    },
    "tags": []
   },
   "source": [
    "в обучающей выборке на один признак больше, чем в тестовой"
   ]
  },
  {
   "cell_type": "code",
   "execution_count": 12,
   "id": "97b11774",
   "metadata": {
    "execution": {
     "iopub.execute_input": "2021-12-25T13:11:27.219747Z",
     "iopub.status.busy": "2021-12-25T13:11:27.219129Z",
     "iopub.status.idle": "2021-12-25T13:11:27.223333Z",
     "shell.execute_reply": "2021-12-25T13:11:27.223886Z",
     "shell.execute_reply.started": "2021-11-05T08:48:05.94109Z"
    },
    "papermill": {
     "duration": 0.037253,
     "end_time": "2021-12-25T13:11:27.224040",
     "exception": false,
     "start_time": "2021-12-25T13:11:27.186787",
     "status": "completed"
    },
    "tags": []
   },
   "outputs": [
    {
     "data": {
      "text/plain": [
       "True"
      ]
     },
     "execution_count": 12,
     "metadata": {},
     "output_type": "execute_result"
    }
   ],
   "source": [
    "train_df.shape[1] - 1 == test_df.shape[1]"
   ]
  },
  {
   "cell_type": "code",
   "execution_count": 13,
   "id": "a8ab96f6",
   "metadata": {
    "execution": {
     "iopub.execute_input": "2021-12-25T13:11:27.285764Z",
     "iopub.status.busy": "2021-12-25T13:11:27.285158Z",
     "iopub.status.idle": "2021-12-25T13:11:27.299178Z",
     "shell.execute_reply": "2021-12-25T13:11:27.299675Z",
     "shell.execute_reply.started": "2021-11-05T08:48:05.959204Z"
    },
    "papermill": {
     "duration": 0.046141,
     "end_time": "2021-12-25T13:11:27.299848",
     "exception": false,
     "start_time": "2021-12-25T13:11:27.253707",
     "status": "completed"
    },
    "tags": []
   },
   "outputs": [],
   "source": [
    "submission_df = pd.read_csv('/kaggle/input/real-estate-price-prediction-moscow/sample_submission.csv')"
   ]
  },
  {
   "cell_type": "markdown",
   "id": "5b64222e",
   "metadata": {
    "papermill": {
     "duration": 0.029465,
     "end_time": "2021-12-25T13:11:27.359041",
     "exception": false,
     "start_time": "2021-12-25T13:11:27.329576",
     "status": "completed"
    },
    "tags": []
   },
   "source": [
    "##### **Приведение типов**"
   ]
  },
  {
   "cell_type": "code",
   "execution_count": 14,
   "id": "41e0bc44",
   "metadata": {
    "execution": {
     "iopub.execute_input": "2021-12-25T13:11:27.421626Z",
     "iopub.status.busy": "2021-12-25T13:11:27.421023Z",
     "iopub.status.idle": "2021-12-25T13:11:27.437618Z",
     "shell.execute_reply": "2021-12-25T13:11:27.437067Z",
     "shell.execute_reply.started": "2021-11-05T08:48:05.977851Z"
    },
    "papermill": {
     "duration": 0.048791,
     "end_time": "2021-12-25T13:11:27.437788",
     "exception": false,
     "start_time": "2021-12-25T13:11:27.388997",
     "status": "completed"
    },
    "tags": []
   },
   "outputs": [],
   "source": [
    "train_df['Id'] = train_df['Id'].astype(str)"
   ]
  },
  {
   "cell_type": "markdown",
   "id": "0e805c13",
   "metadata": {
    "papermill": {
     "duration": 0.028474,
     "end_time": "2021-12-25T13:11:27.496949",
     "exception": false,
     "start_time": "2021-12-25T13:11:27.468475",
     "status": "completed"
    },
    "tags": []
   },
   "source": [
    "##### **Поиск выбросов**"
   ]
  },
  {
   "cell_type": "code",
   "execution_count": 15,
   "id": "2e2d10e6",
   "metadata": {
    "execution": {
     "iopub.execute_input": "2021-12-25T13:11:27.556819Z",
     "iopub.status.busy": "2021-12-25T13:11:27.556249Z",
     "iopub.status.idle": "2021-12-25T13:11:29.380717Z",
     "shell.execute_reply": "2021-12-25T13:11:29.381335Z",
     "shell.execute_reply.started": "2021-11-05T08:48:06.003223Z"
    },
    "papermill": {
     "duration": 1.856067,
     "end_time": "2021-12-25T13:11:29.381509",
     "exception": false,
     "start_time": "2021-12-25T13:11:27.525442",
     "status": "completed"
    },
    "tags": []
   },
   "outputs": [
    {
     "data": {
      "image/png": "[encoded data removed]",
      "text/plain": [
       "<Figure size 1152x1152 with 16 Axes>"
      ]
     },
     "metadata": {
      "needs_background": "light"
     },
     "output_type": "display_data"
    }
   ],
   "source": [
    "train_df[num_feat].hist(\n",
    "    figsize=(16,16)\n",
    ")\n",
    "plt.show()"
   ]
  },
  {
   "cell_type": "markdown",
   "id": "db86302c",
   "metadata": {
    "papermill": {
     "duration": 0.032742,
     "end_time": "2021-12-25T13:11:29.448056",
     "exception": false,
     "start_time": "2021-12-25T13:11:29.415314",
     "status": "completed"
    },
    "tags": []
   },
   "source": [
    "##### Выбросы присутствуют в следующих признаках - HouseYear, KitchenSquare. Так же в следующих признаках имеются аномалии которые необходимо редуцировать - HouseFloor, LifeSquare, Rooms, Square."
   ]
  },
  {
   "cell_type": "code",
   "execution_count": 16,
   "id": "ce0d25a4",
   "metadata": {
    "execution": {
     "iopub.execute_input": "2021-12-25T13:11:29.513808Z",
     "iopub.status.busy": "2021-12-25T13:11:29.513241Z",
     "iopub.status.idle": "2021-12-25T13:11:29.564271Z",
     "shell.execute_reply": "2021-12-25T13:11:29.563783Z",
     "shell.execute_reply.started": "2021-11-05T08:48:08.157724Z"
    },
    "papermill": {
     "duration": 0.084609,
     "end_time": "2021-12-25T13:11:29.564400",
     "exception": false,
     "start_time": "2021-12-25T13:11:29.479791",
     "status": "completed"
    },
    "tags": []
   },
   "outputs": [
    {
     "data": {
      "text/html": [
       "<div>\n",
       "<style scoped>\n",
       "    .dataframe tbody tr th:only-of-type {\n",
       "        vertical-align: middle;\n",
       "    }\n",
       "\n",
       "    .dataframe tbody tr th {\n",
       "        vertical-align: top;\n",
       "    }\n",
       "\n",
       "    .dataframe thead th {\n",
       "        text-align: right;\n",
       "    }\n",
       "</style>\n",
       "<table border=\"1\" class=\"dataframe\">\n",
       "  <thead>\n",
       "    <tr style=\"text-align: right;\">\n",
       "      <th></th>\n",
       "      <th>count</th>\n",
       "      <th>mean</th>\n",
       "      <th>std</th>\n",
       "      <th>min</th>\n",
       "      <th>25%</th>\n",
       "      <th>50%</th>\n",
       "      <th>75%</th>\n",
       "      <th>max</th>\n",
       "    </tr>\n",
       "  </thead>\n",
       "  <tbody>\n",
       "    <tr>\n",
       "      <th>DistrictId</th>\n",
       "      <td>10000.0</td>\n",
       "      <td>50.400800</td>\n",
       "      <td>43.587592</td>\n",
       "      <td>0.000000</td>\n",
       "      <td>20.000000</td>\n",
       "      <td>36.000000</td>\n",
       "      <td>75.000000</td>\n",
       "      <td>2.090000e+02</td>\n",
       "    </tr>\n",
       "    <tr>\n",
       "      <th>Rooms</th>\n",
       "      <td>10000.0</td>\n",
       "      <td>1.890500</td>\n",
       "      <td>0.839512</td>\n",
       "      <td>0.000000</td>\n",
       "      <td>1.000000</td>\n",
       "      <td>2.000000</td>\n",
       "      <td>2.000000</td>\n",
       "      <td>1.900000e+01</td>\n",
       "    </tr>\n",
       "    <tr>\n",
       "      <th>Square</th>\n",
       "      <td>10000.0</td>\n",
       "      <td>56.315775</td>\n",
       "      <td>21.058732</td>\n",
       "      <td>1.136859</td>\n",
       "      <td>41.774881</td>\n",
       "      <td>52.513310</td>\n",
       "      <td>65.900625</td>\n",
       "      <td>6.410652e+02</td>\n",
       "    </tr>\n",
       "    <tr>\n",
       "      <th>LifeSquare</th>\n",
       "      <td>7887.0</td>\n",
       "      <td>37.199645</td>\n",
       "      <td>86.241209</td>\n",
       "      <td>0.370619</td>\n",
       "      <td>22.769832</td>\n",
       "      <td>32.781260</td>\n",
       "      <td>45.128803</td>\n",
       "      <td>7.480592e+03</td>\n",
       "    </tr>\n",
       "    <tr>\n",
       "      <th>KitchenSquare</th>\n",
       "      <td>10000.0</td>\n",
       "      <td>6.273300</td>\n",
       "      <td>28.560917</td>\n",
       "      <td>0.000000</td>\n",
       "      <td>1.000000</td>\n",
       "      <td>6.000000</td>\n",
       "      <td>9.000000</td>\n",
       "      <td>2.014000e+03</td>\n",
       "    </tr>\n",
       "    <tr>\n",
       "      <th>Floor</th>\n",
       "      <td>10000.0</td>\n",
       "      <td>8.526700</td>\n",
       "      <td>5.241148</td>\n",
       "      <td>1.000000</td>\n",
       "      <td>4.000000</td>\n",
       "      <td>7.000000</td>\n",
       "      <td>12.000000</td>\n",
       "      <td>4.200000e+01</td>\n",
       "    </tr>\n",
       "    <tr>\n",
       "      <th>HouseFloor</th>\n",
       "      <td>10000.0</td>\n",
       "      <td>12.609400</td>\n",
       "      <td>6.775974</td>\n",
       "      <td>0.000000</td>\n",
       "      <td>9.000000</td>\n",
       "      <td>13.000000</td>\n",
       "      <td>17.000000</td>\n",
       "      <td>1.170000e+02</td>\n",
       "    </tr>\n",
       "    <tr>\n",
       "      <th>HouseYear</th>\n",
       "      <td>10000.0</td>\n",
       "      <td>3990.166300</td>\n",
       "      <td>200500.261427</td>\n",
       "      <td>1910.000000</td>\n",
       "      <td>1974.000000</td>\n",
       "      <td>1977.000000</td>\n",
       "      <td>2001.000000</td>\n",
       "      <td>2.005201e+07</td>\n",
       "    </tr>\n",
       "    <tr>\n",
       "      <th>Ecology_1</th>\n",
       "      <td>10000.0</td>\n",
       "      <td>0.118858</td>\n",
       "      <td>0.119025</td>\n",
       "      <td>0.000000</td>\n",
       "      <td>0.017647</td>\n",
       "      <td>0.075424</td>\n",
       "      <td>0.195781</td>\n",
       "      <td>5.218671e-01</td>\n",
       "    </tr>\n",
       "    <tr>\n",
       "      <th>Social_1</th>\n",
       "      <td>10000.0</td>\n",
       "      <td>24.687000</td>\n",
       "      <td>17.532614</td>\n",
       "      <td>0.000000</td>\n",
       "      <td>6.000000</td>\n",
       "      <td>25.000000</td>\n",
       "      <td>36.000000</td>\n",
       "      <td>7.400000e+01</td>\n",
       "    </tr>\n",
       "    <tr>\n",
       "      <th>Social_2</th>\n",
       "      <td>10000.0</td>\n",
       "      <td>5352.157400</td>\n",
       "      <td>4006.799803</td>\n",
       "      <td>168.000000</td>\n",
       "      <td>1564.000000</td>\n",
       "      <td>5285.000000</td>\n",
       "      <td>7227.000000</td>\n",
       "      <td>1.908300e+04</td>\n",
       "    </tr>\n",
       "    <tr>\n",
       "      <th>Social_3</th>\n",
       "      <td>10000.0</td>\n",
       "      <td>8.039200</td>\n",
       "      <td>23.831875</td>\n",
       "      <td>0.000000</td>\n",
       "      <td>0.000000</td>\n",
       "      <td>2.000000</td>\n",
       "      <td>5.000000</td>\n",
       "      <td>1.410000e+02</td>\n",
       "    </tr>\n",
       "    <tr>\n",
       "      <th>Healthcare_1</th>\n",
       "      <td>5202.0</td>\n",
       "      <td>1142.904460</td>\n",
       "      <td>1021.517264</td>\n",
       "      <td>0.000000</td>\n",
       "      <td>350.000000</td>\n",
       "      <td>900.000000</td>\n",
       "      <td>1548.000000</td>\n",
       "      <td>4.849000e+03</td>\n",
       "    </tr>\n",
       "    <tr>\n",
       "      <th>Helthcare_2</th>\n",
       "      <td>10000.0</td>\n",
       "      <td>1.319500</td>\n",
       "      <td>1.493601</td>\n",
       "      <td>0.000000</td>\n",
       "      <td>0.000000</td>\n",
       "      <td>1.000000</td>\n",
       "      <td>2.000000</td>\n",
       "      <td>6.000000e+00</td>\n",
       "    </tr>\n",
       "    <tr>\n",
       "      <th>Shops_1</th>\n",
       "      <td>10000.0</td>\n",
       "      <td>4.231300</td>\n",
       "      <td>4.806341</td>\n",
       "      <td>0.000000</td>\n",
       "      <td>1.000000</td>\n",
       "      <td>3.000000</td>\n",
       "      <td>6.000000</td>\n",
       "      <td>2.300000e+01</td>\n",
       "    </tr>\n",
       "    <tr>\n",
       "      <th>Price</th>\n",
       "      <td>10000.0</td>\n",
       "      <td>214138.857399</td>\n",
       "      <td>92872.293865</td>\n",
       "      <td>59174.778028</td>\n",
       "      <td>153872.633942</td>\n",
       "      <td>192269.644879</td>\n",
       "      <td>249135.462171</td>\n",
       "      <td>6.332335e+05</td>\n",
       "    </tr>\n",
       "  </tbody>\n",
       "</table>\n",
       "</div>"
      ],
      "text/plain": [
       "                 count           mean            std           min  \\\n",
       "DistrictId     10000.0      50.400800      43.587592      0.000000   \n",
       "Rooms          10000.0       1.890500       0.839512      0.000000   \n",
       "Square         10000.0      56.315775      21.058732      1.136859   \n",
       "LifeSquare      7887.0      37.199645      86.241209      0.370619   \n",
       "KitchenSquare  10000.0       6.273300      28.560917      0.000000   \n",
       "Floor          10000.0       8.526700       5.241148      1.000000   \n",
       "HouseFloor     10000.0      12.609400       6.775974      0.000000   \n",
       "HouseYear      10000.0    3990.166300  200500.261427   1910.000000   \n",
       "Ecology_1      10000.0       0.118858       0.119025      0.000000   \n",
       "Social_1       10000.0      24.687000      17.532614      0.000000   \n",
       "Social_2       10000.0    5352.157400    4006.799803    168.000000   \n",
       "Social_3       10000.0       8.039200      23.831875      0.000000   \n",
       "Healthcare_1    5202.0    1142.904460    1021.517264      0.000000   \n",
       "Helthcare_2    10000.0       1.319500       1.493601      0.000000   \n",
       "Shops_1        10000.0       4.231300       4.806341      0.000000   \n",
       "Price          10000.0  214138.857399   92872.293865  59174.778028   \n",
       "\n",
       "                         25%            50%            75%           max  \n",
       "DistrictId         20.000000      36.000000      75.000000  2.090000e+02  \n",
       "Rooms               1.000000       2.000000       2.000000  1.900000e+01  \n",
       "Square             41.774881      52.513310      65.900625  6.410652e+02  \n",
       "LifeSquare         22.769832      32.781260      45.128803  7.480592e+03  \n",
       "KitchenSquare       1.000000       6.000000       9.000000  2.014000e+03  \n",
       "Floor               4.000000       7.000000      12.000000  4.200000e+01  \n",
       "HouseFloor          9.000000      13.000000      17.000000  1.170000e+02  \n",
       "HouseYear        1974.000000    1977.000000    2001.000000  2.005201e+07  \n",
       "Ecology_1           0.017647       0.075424       0.195781  5.218671e-01  \n",
       "Social_1            6.000000      25.000000      36.000000  7.400000e+01  \n",
       "Social_2         1564.000000    5285.000000    7227.000000  1.908300e+04  \n",
       "Social_3            0.000000       2.000000       5.000000  1.410000e+02  \n",
       "Healthcare_1      350.000000     900.000000    1548.000000  4.849000e+03  \n",
       "Helthcare_2         0.000000       1.000000       2.000000  6.000000e+00  \n",
       "Shops_1             1.000000       3.000000       6.000000  2.300000e+01  \n",
       "Price          153872.633942  192269.644879  249135.462171  6.332335e+05  "
      ]
     },
     "execution_count": 16,
     "metadata": {},
     "output_type": "execute_result"
    }
   ],
   "source": [
    "train_df.describe().T"
   ]
  },
  {
   "cell_type": "code",
   "execution_count": 17,
   "id": "58d164de",
   "metadata": {
    "execution": {
     "iopub.execute_input": "2021-12-25T13:11:29.652676Z",
     "iopub.status.busy": "2021-12-25T13:11:29.648234Z",
     "iopub.status.idle": "2021-12-25T13:11:31.384510Z",
     "shell.execute_reply": "2021-12-25T13:11:31.385041Z",
     "shell.execute_reply.started": "2021-11-05T08:48:08.217528Z"
    },
    "papermill": {
     "duration": 1.788629,
     "end_time": "2021-12-25T13:11:31.385217",
     "exception": false,
     "start_time": "2021-12-25T13:11:29.596588",
     "status": "completed"
    },
    "tags": []
   },
   "outputs": [
    {
     "data": {
      "image/png": "[encoded data removed]",
      "text/plain": [
       "<Figure size 576x576 with 3 Axes>"
      ]
     },
     "metadata": {
      "needs_background": "light"
     },
     "output_type": "display_data"
    }
   ],
   "source": [
    "grid = sns.jointplot(train_df['Rooms'], train_df['Price'], kind='reg')\n",
    "grid.fig.set_figwidth(8)\n",
    "grid.fig.set_figheight(8)"
   ]
  },
  {
   "cell_type": "code",
   "execution_count": 18,
   "id": "de34fa7e",
   "metadata": {
    "execution": {
     "iopub.execute_input": "2021-12-25T13:11:31.459726Z",
     "iopub.status.busy": "2021-12-25T13:11:31.459159Z",
     "iopub.status.idle": "2021-12-25T13:11:37.619709Z",
     "shell.execute_reply": "2021-12-25T13:11:37.619123Z",
     "shell.execute_reply.started": "2021-11-05T08:48:10.468944Z"
    },
    "papermill": {
     "duration": 6.197447,
     "end_time": "2021-12-25T13:11:37.619852",
     "exception": false,
     "start_time": "2021-12-25T13:11:31.422405",
     "status": "completed"
    },
    "tags": []
   },
   "outputs": [
    {
     "data": {
      "image/png": "[encoded data removed]",
      "text/plain": [
       "<Figure size 576x576 with 3 Axes>"
      ]
     },
     "metadata": {
      "needs_background": "light"
     },
     "output_type": "display_data"
    }
   ],
   "source": [
    "grid = sns.jointplot(train_df['KitchenSquare'], train_df['Price'], kind='reg')\n",
    "grid.fig.set_figwidth(8)\n",
    "grid.fig.set_figheight(8)"
   ]
  },
  {
   "cell_type": "markdown",
   "id": "04d3b935",
   "metadata": {
    "papermill": {
     "duration": 0.034259,
     "end_time": "2021-12-25T13:11:37.688302",
     "exception": false,
     "start_time": "2021-12-25T13:11:37.654043",
     "status": "completed"
    },
    "tags": []
   },
   "source": [
    "Необходимо невилировать значения ниже 1 и выше 250 "
   ]
  },
  {
   "cell_type": "code",
   "execution_count": 19,
   "id": "87dbf80f",
   "metadata": {
    "execution": {
     "iopub.execute_input": "2021-12-25T13:11:37.764713Z",
     "iopub.status.busy": "2021-12-25T13:11:37.762092Z",
     "iopub.status.idle": "2021-12-25T13:11:39.308146Z",
     "shell.execute_reply": "2021-12-25T13:11:39.308592Z",
     "shell.execute_reply.started": "2021-11-05T08:48:17.898147Z"
    },
    "papermill": {
     "duration": 1.586335,
     "end_time": "2021-12-25T13:11:39.308772",
     "exception": false,
     "start_time": "2021-12-25T13:11:37.722437",
     "status": "completed"
    },
    "tags": []
   },
   "outputs": [
    {
     "data": {
      "image/png": "[encoded data removed]",
      "text/plain": [
       "<Figure size 576x576 with 3 Axes>"
      ]
     },
     "metadata": {
      "needs_background": "light"
     },
     "output_type": "display_data"
    }
   ],
   "source": [
    "train_df_temp = train_df.loc[train_df['KitchenSquare']<250]\n",
    "grid = sns.jointplot(train_df_temp['KitchenSquare'], train_df_temp['Price'], kind='reg')\n",
    "grid.fig.set_figwidth(8)\n",
    "grid.fig.set_figheight(8)"
   ]
  },
  {
   "cell_type": "markdown",
   "id": "47ef2972",
   "metadata": {
    "papermill": {
     "duration": 0.035884,
     "end_time": "2021-12-25T13:11:39.381584",
     "exception": false,
     "start_time": "2021-12-25T13:11:39.345700",
     "status": "completed"
    },
    "tags": []
   },
   "source": [
    "Как видно из полученной зависимости значения площади кухни менее 3 и выше 30 кв.м необходимо принять за выброс"
   ]
  },
  {
   "cell_type": "markdown",
   "id": "1d6cab76",
   "metadata": {
    "papermill": {
     "duration": 0.035737,
     "end_time": "2021-12-25T13:11:39.453097",
     "exception": false,
     "start_time": "2021-12-25T13:11:39.417360",
     "status": "completed"
    },
    "tags": []
   },
   "source": [
    "#### Строим распределение целевой переменной  Price"
   ]
  },
  {
   "cell_type": "code",
   "execution_count": 20,
   "id": "f210b99d",
   "metadata": {
    "execution": {
     "iopub.execute_input": "2021-12-25T13:11:39.529215Z",
     "iopub.status.busy": "2021-12-25T13:11:39.528533Z",
     "iopub.status.idle": "2021-12-25T13:11:39.792224Z",
     "shell.execute_reply": "2021-12-25T13:11:39.792642Z",
     "shell.execute_reply.started": "2021-11-05T08:48:19.73582Z"
    },
    "papermill": {
     "duration": 0.30339,
     "end_time": "2021-12-25T13:11:39.792864",
     "exception": false,
     "start_time": "2021-12-25T13:11:39.489474",
     "status": "completed"
    },
    "tags": []
   },
   "outputs": [
    {
     "data": {
      "image/png": "[encoded data removed]",
      "text/plain": [
       "<Figure size 1152x576 with 1 Axes>"
      ]
     },
     "metadata": {
      "needs_background": "light"
     },
     "output_type": "display_data"
    }
   ],
   "source": [
    "plt.figure(figsize = (16, 8))\n",
    "\n",
    "train_df['Price'].hist(bins=30)\n",
    "plt.ylabel('Count')\n",
    "plt.xlabel('Price')\n",
    "\n",
    "plt.title('Target distribution')\n",
    "plt.show()"
   ]
  },
  {
   "cell_type": "markdown",
   "id": "1507bbbc",
   "metadata": {
    "papermill": {
     "duration": 0.036759,
     "end_time": "2021-12-25T13:11:39.867372",
     "exception": false,
     "start_time": "2021-12-25T13:11:39.830613",
     "status": "completed"
    },
    "tags": []
   },
   "source": [
    "Выявление главного признака"
   ]
  },
  {
   "cell_type": "code",
   "execution_count": 21,
   "id": "e76f3c46",
   "metadata": {
    "execution": {
     "iopub.execute_input": "2021-12-25T13:11:39.943357Z",
     "iopub.status.busy": "2021-12-25T13:11:39.942772Z",
     "iopub.status.idle": "2021-12-25T13:11:40.223286Z",
     "shell.execute_reply": "2021-12-25T13:11:40.223697Z",
     "shell.execute_reply.started": "2021-11-05T08:48:20.036688Z"
    },
    "papermill": {
     "duration": 0.320084,
     "end_time": "2021-12-25T13:11:40.223891",
     "exception": false,
     "start_time": "2021-12-25T13:11:39.903807",
     "status": "completed"
    },
    "tags": []
   },
   "outputs": [
    {
     "data": {
      "image/png": "[encoded data removed]",
      "text/plain": [
       "<Figure size 1152x576 with 1 Axes>"
      ]
     },
     "metadata": {
      "needs_background": "light"
     },
     "output_type": "display_data"
    }
   ],
   "source": [
    "correlation = train_df.corrwith(train_df['Price']).sort_values(ascending=False)\n",
    "correlation.drop('Price', inplace=True)\n",
    "\n",
    "plt.figure(figsize = (16, 8))\n",
    "plt.bar(correlation.index, correlation)\n",
    "plt.xticks(rotation='90')\n",
    "plt.xlabel('Features', fontsize=15)\n",
    "plt.ylabel('Correlation', fontsize=15)\n",
    "plt.title('Feature correlation', fontsize=15)\n",
    "plt.show()\n"
   ]
  },
  {
   "cell_type": "markdown",
   "id": "973a9dc3",
   "metadata": {
    "papermill": {
     "duration": 0.037811,
     "end_time": "2021-12-25T13:11:40.300393",
     "exception": false,
     "start_time": "2021-12-25T13:11:40.262582",
     "status": "completed"
    },
    "tags": []
   },
   "source": [
    "#### Зададим класс для подготовки данных"
   ]
  },
  {
   "cell_type": "code",
   "execution_count": 22,
   "id": "b1f3d6af",
   "metadata": {
    "execution": {
     "iopub.execute_input": "2021-12-25T13:11:40.379237Z",
     "iopub.status.busy": "2021-12-25T13:11:40.378504Z",
     "iopub.status.idle": "2021-12-25T13:11:40.396672Z",
     "shell.execute_reply": "2021-12-25T13:11:40.397131Z",
     "shell.execute_reply.started": "2021-11-05T08:48:20.361543Z"
    },
    "papermill": {
     "duration": 0.059331,
     "end_time": "2021-12-25T13:11:40.397330",
     "exception": false,
     "start_time": "2021-12-25T13:11:40.337999",
     "status": "completed"
    },
    "tags": []
   },
   "outputs": [],
   "source": [
    "class Data:\n",
    "    \n",
    "    def __init__(self):\n",
    "        \"\"\"Задаем релятивные интервалы значений для обработки выбросов на основе анализа данных\"\"\"\n",
    "        self.Square_min = 15\n",
    "        self.Square_max = 300\n",
    "        \n",
    "        self.LifeSquare_min = 10\n",
    "        self.LifeSquare_max = 280\n",
    "        \n",
    "        self.Rooms_min = 1\n",
    "        self.Rooms_max = 5\n",
    "        \n",
    "        self.HouseFloor_min = 1\n",
    "        self.HouseFloor_max = 50\n",
    "        \n",
    "        self.KitchenSquare_min = 3\n",
    "        self.KitchenSquare_max = 30\n",
    "        \n",
    "        self.current_year = datetime.now().year\n",
    "        \n",
    "        self.medians = None\n",
    "        self.DistrictId_value_counts = None\n",
    "        self.SquareMeterPrice_by_DistrictId = None\n",
    "        self.Healthcare_1_by_DistrictId = None\n",
    "        \n",
    "        \n",
    "    def fit(self, train_df):\n",
    "        \n",
    "        # медианы\n",
    "        self.medians = train_df[['LifeSquare', 'HouseFloor']].median()\n",
    "        \n",
    "        # подсчет популярных районов\n",
    "        self.DistrictId_value_counts = dict(train_df['DistrictId'].value_counts())\n",
    "        \n",
    "        # подсчет средней цены за м2 по району\n",
    "        train_df_temp = train_df.loc[((train_df['Square'] > self.Square_min) & (train_df['Square'] < self.Square_max))]\n",
    "        train_df_temp[\"SquareMeterPrice\"] = train_df_temp[\"Price\"] / train_df_temp[\"Square\"]\n",
    "        self.SquareMeterPrice_by_DistrictId = train_df_temp.groupby('DistrictId', as_index=False)\\\n",
    "            .agg({'SquareMeterPrice': 'mean'})\\\n",
    "            .rename(columns={'SquareMeterPrice': 'AverageSquareMeterPrice'})\n",
    "        \n",
    "        # подсчет среднего значения признака Healthcare_1 по району\n",
    "        self.Healthcare_1_by_DistrictId = train_df.groupby('DistrictId', as_index=False)\\\n",
    "            .agg({'Healthcare_1': 'mean'})\\\n",
    "            .rename(columns={'Healthcare_1': 'AverageHealthcare_1'})\n",
    "        \n",
    "        del train_df_temp\n",
    "        \n",
    "    def transform(self, train_df):\n",
    "        \n",
    "        # Обработка пропусков\n",
    "        train_df[['LifeSquare', 'HouseFloor']] = train_df[['LifeSquare', 'HouseFloor']].fillna(self.medians)\n",
    "        \n",
    "        # Обработка выбросов\n",
    "        \n",
    "        # площадь\n",
    "        train_df.loc[(train_df['Square'] > self.Square_max), 'Square'] = self.Square_max\n",
    "        train_df.loc[(train_df['Square'] < self.Square_min), 'Square'] = self.Square_min\n",
    "        \n",
    "        # жилая площадь\n",
    "        train_df.loc[(train_df['LifeSquare'] < self.LifeSquare_min), 'LifeSquare'] = self.LifeSquare_min\n",
    "        train_df.loc[(train_df['LifeSquare'] > self.LifeSquare_max), 'LifeSquare'] = self.LifeSquare_max\n",
    "        \n",
    "        # площадь кухни\n",
    "        train_df.loc[(train_df['KitchenSquare'] < self.KitchenSquare_min), 'KitchenSquare'] = self.KitchenSquare_min\n",
    "        train_df.loc[(train_df['KitchenSquare'] > self.KitchenSquare_max), 'KitchenSquare'] = self.KitchenSquare_max\n",
    "        \n",
    "        # год постройки дома\n",
    "        train_df.loc[(train_df['HouseYear'] > self.current_year), 'HouseYear'] = self.current_year\n",
    "        \n",
    "        # количество комнат\n",
    "        train_df.loc[(train_df['Rooms'] > self.Rooms_max), 'Rooms'] = self.Rooms_max\n",
    "        train_df.loc[(train_df['Rooms'] < self.Rooms_min), 'Rooms'] = self.Rooms_min\n",
    "        \n",
    "        # количество этажей\n",
    "        train_df.loc[(train_df['HouseFloor'] < self.HouseFloor_min), 'HouseFloor'] = self.HouseFloor_min\n",
    "        train_df.loc[(train_df['HouseFloor'] > self.HouseFloor_max), 'HouseFloor'] = self.HouseFloor_max\n",
    "        \n",
    "        # если этаж больше этажности дома, то присваиваем случайный этаж от self.HouseFloor_min до максимального этажа в доме\n",
    "        floor_outliers = train_df.loc[train_df['Floor'] > train_df['HouseFloor']].index\n",
    "        train_df.loc[floor_outliers, 'Floor'] = train_df.loc[floor_outliers, 'HouseFloor'].apply(lambda x: self.HouseFloor_min if (self.HouseFloor_min == x) else np.random.randint(self.HouseFloor_min, x))\n",
    "        \n",
    "        # Обработка категорий\n",
    "        train_df = pd.concat([train_df, pd.get_dummies(train_df['Ecology_2'], prefix='Ecology_2', dtype='int8')], axis=1)\n",
    "        train_df = pd.concat([train_df, pd.get_dummies(train_df['Ecology_3'], prefix='Ecology_3', dtype='int8')], axis=1)\n",
    "        train_df = pd.concat([train_df, pd.get_dummies(train_df['Shops_2'], prefix='Shops_2', dtype='int8')], axis=1)\n",
    "        \n",
    "        return train_df\n",
    "    \n",
    "    def features(self, train_df):\n",
    "        \n",
    "        # добавление признака популярности района\n",
    "        train_df['DistrictId_counts'] = train_df['DistrictId'].map(self.DistrictId_value_counts)\n",
    "        train_df['DistrictId_counts'].fillna(train_df['DistrictId_counts'].median(), inplace=True)\n",
    "        \n",
    "        # добавление признака средней стоимости м2 по району\n",
    "        train_df = train_df.merge(self.SquareMeterPrice_by_DistrictId, on=[\"DistrictId\"], how='left')\n",
    "        train_df['AverageSquareMeterPrice'].fillna(train_df['AverageSquareMeterPrice'].median(), inplace=True)\n",
    "        \n",
    "        # добавление признака среднего значения Healthcare_1 по району\n",
    "        train_df = train_df.merge(self.Healthcare_1_by_DistrictId, on=[\"DistrictId\"], how='left')\n",
    "        train_df['AverageHealthcare_1'].fillna(train_df['AverageHealthcare_1'].median(), inplace=True)\n",
    "        \n",
    "        return train_df"
   ]
  },
  {
   "cell_type": "markdown",
   "id": "7bf08009",
   "metadata": {
    "papermill": {
     "duration": 0.037797,
     "end_time": "2021-12-25T13:11:40.473376",
     "exception": false,
     "start_time": "2021-12-25T13:11:40.435579",
     "status": "completed"
    },
    "tags": []
   },
   "source": [
    "Инициализация класса Data"
   ]
  },
  {
   "cell_type": "code",
   "execution_count": 23,
   "id": "403c5535",
   "metadata": {
    "execution": {
     "iopub.execute_input": "2021-12-25T13:11:40.555196Z",
     "iopub.status.busy": "2021-12-25T13:11:40.554551Z",
     "iopub.status.idle": "2021-12-25T13:11:40.632841Z",
     "shell.execute_reply": "2021-12-25T13:11:40.632182Z",
     "shell.execute_reply.started": "2021-11-05T08:48:43.08636Z"
    },
    "papermill": {
     "duration": 0.121946,
     "end_time": "2021-12-25T13:11:40.632987",
     "exception": false,
     "start_time": "2021-12-25T13:11:40.511041",
     "status": "completed"
    },
    "tags": []
   },
   "outputs": [],
   "source": [
    "data_inst = Data()\n",
    "\n",
    "# тренировочные данные\n",
    "data_inst.fit(train_df)\n",
    "train_df = data_inst.transform(train_df)\n",
    "train_df = data_inst.features(train_df)\n",
    "\n",
    "# тестовые данные\n",
    "test_df = data_inst.transform(test_df)\n",
    "test_df = data_inst.features(test_df)"
   ]
  },
  {
   "cell_type": "markdown",
   "id": "1517e185",
   "metadata": {
    "papermill": {
     "duration": 0.038273,
     "end_time": "2021-12-25T13:11:40.708987",
     "exception": false,
     "start_time": "2021-12-25T13:11:40.670714",
     "status": "completed"
    },
    "tags": []
   },
   "source": [
    "Задаем список признаков для модели"
   ]
  },
  {
   "cell_type": "code",
   "execution_count": 24,
   "id": "9e4b2ca9",
   "metadata": {
    "execution": {
     "iopub.execute_input": "2021-12-25T13:11:40.790198Z",
     "iopub.status.busy": "2021-12-25T13:11:40.789395Z",
     "iopub.status.idle": "2021-12-25T13:11:40.792221Z",
     "shell.execute_reply": "2021-12-25T13:11:40.791642Z",
     "shell.execute_reply.started": "2021-11-05T08:49:43.797098Z"
    },
    "papermill": {
     "duration": 0.045631,
     "end_time": "2021-12-25T13:11:40.792360",
     "exception": false,
     "start_time": "2021-12-25T13:11:40.746729",
     "status": "completed"
    },
    "tags": []
   },
   "outputs": [],
   "source": [
    "feature_names = ['AverageSquareMeterPrice', 'DistrictId_counts', 'Rooms', 'Square', 'LifeSquare', 'KitchenSquare', 'Floor',\n",
    "                    'HouseFloor', 'HouseYear', 'Helthcare_2', 'Ecology_1', 'Social_1', 'Social_2', 'Social_3',\n",
    "                    'Shops_1', 'Ecology_2_A', 'Ecology_2_B', 'Ecology_3_A', 'Ecology_3_B', 'Shops_2_A', 'Shops_2_B',\n",
    "                    'AverageHealthcare_1']\n",
    "target_name = 'Price'"
   ]
  },
  {
   "cell_type": "code",
   "execution_count": 25,
   "id": "dd635ab5",
   "metadata": {
    "execution": {
     "iopub.execute_input": "2021-12-25T13:11:40.874077Z",
     "iopub.status.busy": "2021-12-25T13:11:40.873423Z",
     "iopub.status.idle": "2021-12-25T13:11:40.882848Z",
     "shell.execute_reply": "2021-12-25T13:11:40.883328Z",
     "shell.execute_reply.started": "2021-11-05T08:49:53.419545Z"
    },
    "papermill": {
     "duration": 0.052838,
     "end_time": "2021-12-25T13:11:40.883511",
     "exception": false,
     "start_time": "2021-12-25T13:11:40.830673",
     "status": "completed"
    },
    "tags": []
   },
   "outputs": [],
   "source": [
    "train_df = train_df[feature_names + [target_name]]\n",
    "test_df = test_df[feature_names + ['Id']]\n",
    "X = train_df[feature_names]\n",
    "y = train_df[target_name]"
   ]
  },
  {
   "cell_type": "markdown",
   "id": "3e886024",
   "metadata": {
    "papermill": {
     "duration": 0.038504,
     "end_time": "2021-12-25T13:11:40.960845",
     "exception": false,
     "start_time": "2021-12-25T13:11:40.922341",
     "status": "completed"
    },
    "tags": []
   },
   "source": [
    "#### Обучение модели при помощи CatBoostRegressor"
   ]
  },
  {
   "cell_type": "code",
   "execution_count": 26,
   "id": "6681ed2c",
   "metadata": {
    "execution": {
     "iopub.execute_input": "2021-12-25T13:11:41.042012Z",
     "iopub.status.busy": "2021-12-25T13:11:41.041241Z",
     "iopub.status.idle": "2021-12-25T13:12:13.553283Z",
     "shell.execute_reply": "2021-12-25T13:12:13.553828Z",
     "shell.execute_reply.started": "2021-11-05T08:51:04.505095Z"
    },
    "papermill": {
     "duration": 32.553731,
     "end_time": "2021-12-25T13:12:13.554023",
     "exception": false,
     "start_time": "2021-12-25T13:11:41.000292",
     "status": "completed"
    },
    "tags": []
   },
   "outputs": [],
   "source": [
    "final_model = CatBoostRegressor(\n",
    "    silent=True,\n",
    "    learning_rate=0.1,\n",
    "    iterations=1150,\n",
    "    eval_metric='R2',\n",
    "    depth=8\n",
    ")\n",
    "\n",
    "final_model.fit(X, y)\n",
    "\n",
    "cv_score = cross_val_score(\n",
    "    final_model,\n",
    "    X,\n",
    "    y,\n",
    "    scoring='r2',\n",
    "    cv=KFold(\n",
    "            n_splits=5,\n",
    "            shuffle=True,\n",
    "            random_state=42\n",
    "    )\n",
    ")"
   ]
  },
  {
   "cell_type": "markdown",
   "id": "95bb62f8",
   "metadata": {
    "papermill": {
     "duration": 0.037451,
     "end_time": "2021-12-25T13:12:13.629287",
     "exception": false,
     "start_time": "2021-12-25T13:12:13.591836",
     "status": "completed"
    },
    "tags": []
   },
   "source": [
    "Оценка метрики"
   ]
  },
  {
   "cell_type": "code",
   "execution_count": 27,
   "id": "553077d7",
   "metadata": {
    "execution": {
     "iopub.execute_input": "2021-12-25T13:12:13.707575Z",
     "iopub.status.busy": "2021-12-25T13:12:13.707005Z",
     "iopub.status.idle": "2021-12-25T13:12:13.711618Z",
     "shell.execute_reply": "2021-12-25T13:12:13.712248Z",
     "shell.execute_reply.started": "2021-11-05T08:53:13.964928Z"
    },
    "papermill": {
     "duration": 0.045546,
     "end_time": "2021-12-25T13:12:13.712458",
     "exception": false,
     "start_time": "2021-12-25T13:12:13.666912",
     "status": "completed"
    },
    "tags": []
   },
   "outputs": [
    {
     "name": "stdout",
     "output_type": "stream",
     "text": [
      "R2: 0.756\n"
     ]
    }
   ],
   "source": [
    "print(f'R2: {round(cv_score.mean(), 3)}')"
   ]
  },
  {
   "cell_type": "markdown",
   "id": "90a17858",
   "metadata": {
    "papermill": {
     "duration": 0.037281,
     "end_time": "2021-12-25T13:12:13.788810",
     "exception": false,
     "start_time": "2021-12-25T13:12:13.751529",
     "status": "completed"
    },
    "tags": []
   },
   "source": [
    "#### Производим сортировку признаков согласно релевантности начальной задачи"
   ]
  },
  {
   "cell_type": "code",
   "execution_count": 28,
   "id": "4baab80c",
   "metadata": {
    "execution": {
     "iopub.execute_input": "2021-12-25T13:12:13.866941Z",
     "iopub.status.busy": "2021-12-25T13:12:13.866262Z",
     "iopub.status.idle": "2021-12-25T13:12:13.903471Z",
     "shell.execute_reply": "2021-12-25T13:12:13.903898Z",
     "shell.execute_reply.started": "2021-11-05T08:54:15.727143Z"
    },
    "papermill": {
     "duration": 0.077873,
     "end_time": "2021-12-25T13:12:13.904067",
     "exception": false,
     "start_time": "2021-12-25T13:12:13.826194",
     "status": "completed"
    },
    "tags": []
   },
   "outputs": [
    {
     "data": {
      "text/html": [
       "<div>\n",
       "<style scoped>\n",
       "    .dataframe tbody tr th:only-of-type {\n",
       "        vertical-align: middle;\n",
       "    }\n",
       "\n",
       "    .dataframe tbody tr th {\n",
       "        vertical-align: top;\n",
       "    }\n",
       "\n",
       "    .dataframe thead th {\n",
       "        text-align: right;\n",
       "    }\n",
       "</style>\n",
       "<table border=\"1\" class=\"dataframe\">\n",
       "  <thead>\n",
       "    <tr style=\"text-align: right;\">\n",
       "      <th></th>\n",
       "      <th>feature_name</th>\n",
       "      <th>importance</th>\n",
       "    </tr>\n",
       "  </thead>\n",
       "  <tbody>\n",
       "    <tr>\n",
       "      <th>3</th>\n",
       "      <td>Square</td>\n",
       "      <td>28.320326</td>\n",
       "    </tr>\n",
       "    <tr>\n",
       "      <th>0</th>\n",
       "      <td>AverageSquareMeterPrice</td>\n",
       "      <td>18.263690</td>\n",
       "    </tr>\n",
       "    <tr>\n",
       "      <th>8</th>\n",
       "      <td>HouseYear</td>\n",
       "      <td>8.251486</td>\n",
       "    </tr>\n",
       "    <tr>\n",
       "      <th>5</th>\n",
       "      <td>KitchenSquare</td>\n",
       "      <td>5.304506</td>\n",
       "    </tr>\n",
       "    <tr>\n",
       "      <th>4</th>\n",
       "      <td>LifeSquare</td>\n",
       "      <td>4.627424</td>\n",
       "    </tr>\n",
       "    <tr>\n",
       "      <th>7</th>\n",
       "      <td>HouseFloor</td>\n",
       "      <td>4.164886</td>\n",
       "    </tr>\n",
       "    <tr>\n",
       "      <th>1</th>\n",
       "      <td>DistrictId_counts</td>\n",
       "      <td>4.086663</td>\n",
       "    </tr>\n",
       "    <tr>\n",
       "      <th>12</th>\n",
       "      <td>Social_2</td>\n",
       "      <td>4.076184</td>\n",
       "    </tr>\n",
       "    <tr>\n",
       "      <th>10</th>\n",
       "      <td>Ecology_1</td>\n",
       "      <td>4.039116</td>\n",
       "    </tr>\n",
       "    <tr>\n",
       "      <th>6</th>\n",
       "      <td>Floor</td>\n",
       "      <td>4.002258</td>\n",
       "    </tr>\n",
       "    <tr>\n",
       "      <th>21</th>\n",
       "      <td>AverageHealthcare_1</td>\n",
       "      <td>3.450564</td>\n",
       "    </tr>\n",
       "    <tr>\n",
       "      <th>2</th>\n",
       "      <td>Rooms</td>\n",
       "      <td>3.431619</td>\n",
       "    </tr>\n",
       "    <tr>\n",
       "      <th>14</th>\n",
       "      <td>Shops_1</td>\n",
       "      <td>2.363557</td>\n",
       "    </tr>\n",
       "    <tr>\n",
       "      <th>13</th>\n",
       "      <td>Social_3</td>\n",
       "      <td>2.252773</td>\n",
       "    </tr>\n",
       "    <tr>\n",
       "      <th>11</th>\n",
       "      <td>Social_1</td>\n",
       "      <td>1.850027</td>\n",
       "    </tr>\n",
       "    <tr>\n",
       "      <th>9</th>\n",
       "      <td>Helthcare_2</td>\n",
       "      <td>1.244536</td>\n",
       "    </tr>\n",
       "    <tr>\n",
       "      <th>19</th>\n",
       "      <td>Shops_2_A</td>\n",
       "      <td>0.156806</td>\n",
       "    </tr>\n",
       "    <tr>\n",
       "      <th>20</th>\n",
       "      <td>Shops_2_B</td>\n",
       "      <td>0.046949</td>\n",
       "    </tr>\n",
       "    <tr>\n",
       "      <th>18</th>\n",
       "      <td>Ecology_3_B</td>\n",
       "      <td>0.031559</td>\n",
       "    </tr>\n",
       "    <tr>\n",
       "      <th>17</th>\n",
       "      <td>Ecology_3_A</td>\n",
       "      <td>0.026118</td>\n",
       "    </tr>\n",
       "  </tbody>\n",
       "</table>\n",
       "</div>"
      ],
      "text/plain": [
       "               feature_name  importance\n",
       "3                    Square   28.320326\n",
       "0   AverageSquareMeterPrice   18.263690\n",
       "8                 HouseYear    8.251486\n",
       "5             KitchenSquare    5.304506\n",
       "4                LifeSquare    4.627424\n",
       "7                HouseFloor    4.164886\n",
       "1         DistrictId_counts    4.086663\n",
       "12                 Social_2    4.076184\n",
       "10                Ecology_1    4.039116\n",
       "6                     Floor    4.002258\n",
       "21      AverageHealthcare_1    3.450564\n",
       "2                     Rooms    3.431619\n",
       "14                  Shops_1    2.363557\n",
       "13                 Social_3    2.252773\n",
       "11                 Social_1    1.850027\n",
       "9               Helthcare_2    1.244536\n",
       "19                Shops_2_A    0.156806\n",
       "20                Shops_2_B    0.046949\n",
       "18              Ecology_3_B    0.031559\n",
       "17              Ecology_3_A    0.026118"
      ]
     },
     "execution_count": 28,
     "metadata": {},
     "output_type": "execute_result"
    }
   ],
   "source": [
    "feature_importances = pd.DataFrame(\n",
    "    zip(X.columns, final_model.get_feature_importance()),\n",
    "    columns=['feature_name', 'importance']\n",
    ")\n",
    "\n",
    "feature_importances.sort_values(by='importance', ascending=False, inplace=True)\n",
    "feature_importances.head(20)"
   ]
  },
  {
   "cell_type": "markdown",
   "id": "33f45db1",
   "metadata": {
    "papermill": {
     "duration": 0.037735,
     "end_time": "2021-12-25T13:12:13.980039",
     "exception": false,
     "start_time": "2021-12-25T13:12:13.942304",
     "status": "completed"
    },
    "tags": []
   },
   "source": [
    "#### Создаем датафрейм с предиктивными данными"
   ]
  },
  {
   "cell_type": "code",
   "execution_count": 29,
   "id": "d9c22ddd",
   "metadata": {
    "execution": {
     "iopub.execute_input": "2021-12-25T13:12:14.067356Z",
     "iopub.status.busy": "2021-12-25T13:12:14.066424Z",
     "iopub.status.idle": "2021-12-25T13:12:14.070995Z",
     "shell.execute_reply": "2021-12-25T13:12:14.070433Z",
     "shell.execute_reply.started": "2021-11-05T08:55:30.579268Z"
    },
    "papermill": {
     "duration": 0.052439,
     "end_time": "2021-12-25T13:12:14.071150",
     "exception": false,
     "start_time": "2021-12-25T13:12:14.018711",
     "status": "completed"
    },
    "tags": []
   },
   "outputs": [],
   "source": [
    "preds_final = pd.DataFrame()\n",
    "preds_final['Id'] = test_df['Id'].copy()\n",
    "\n",
    "test_df.set_index('Id', inplace=True)\n",
    "test_df = test_df[feature_names]"
   ]
  },
  {
   "cell_type": "code",
   "execution_count": 30,
   "id": "a25c81c8",
   "metadata": {
    "execution": {
     "iopub.execute_input": "2021-12-25T13:12:14.162561Z",
     "iopub.status.busy": "2021-12-25T13:12:14.161574Z",
     "iopub.status.idle": "2021-12-25T13:12:14.194192Z",
     "shell.execute_reply": "2021-12-25T13:12:14.194639Z",
     "shell.execute_reply.started": "2021-11-05T08:55:43.424842Z"
    },
    "papermill": {
     "duration": 0.084397,
     "end_time": "2021-12-25T13:12:14.194849",
     "exception": false,
     "start_time": "2021-12-25T13:12:14.110452",
     "status": "completed"
    },
    "tags": []
   },
   "outputs": [
    {
     "data": {
      "text/html": [
       "<div>\n",
       "<style scoped>\n",
       "    .dataframe tbody tr th:only-of-type {\n",
       "        vertical-align: middle;\n",
       "    }\n",
       "\n",
       "    .dataframe tbody tr th {\n",
       "        vertical-align: top;\n",
       "    }\n",
       "\n",
       "    .dataframe thead th {\n",
       "        text-align: right;\n",
       "    }\n",
       "</style>\n",
       "<table border=\"1\" class=\"dataframe\">\n",
       "  <thead>\n",
       "    <tr style=\"text-align: right;\">\n",
       "      <th></th>\n",
       "      <th>Id</th>\n",
       "      <th>Price</th>\n",
       "    </tr>\n",
       "  </thead>\n",
       "  <tbody>\n",
       "    <tr>\n",
       "      <th>0</th>\n",
       "      <td>4567</td>\n",
       "      <td>168491.762267</td>\n",
       "    </tr>\n",
       "    <tr>\n",
       "      <th>1</th>\n",
       "      <td>5925</td>\n",
       "      <td>111128.202881</td>\n",
       "    </tr>\n",
       "    <tr>\n",
       "      <th>2</th>\n",
       "      <td>960</td>\n",
       "      <td>139746.120192</td>\n",
       "    </tr>\n",
       "    <tr>\n",
       "      <th>3</th>\n",
       "      <td>3848</td>\n",
       "      <td>94878.508169</td>\n",
       "    </tr>\n",
       "    <tr>\n",
       "      <th>4</th>\n",
       "      <td>746</td>\n",
       "      <td>165251.116138</td>\n",
       "    </tr>\n",
       "  </tbody>\n",
       "</table>\n",
       "</div>"
      ],
      "text/plain": [
       "     Id          Price\n",
       "0  4567  168491.762267\n",
       "1  5925  111128.202881\n",
       "2   960  139746.120192\n",
       "3  3848   94878.508169\n",
       "4   746  165251.116138"
      ]
     },
     "execution_count": 30,
     "metadata": {},
     "output_type": "execute_result"
    }
   ],
   "source": [
    "y_pred_final = final_model.predict(test_df)\n",
    "\n",
    "submission_df['Price'] = y_pred_final\n",
    "submission_df.to_csv('./predictions.csv', index=False, encoding='utf-8', sep=',')\n",
    "\n",
    "submission_df.head()"
   ]
  }
 ],
 "metadata": {
  "kernelspec": {
   "display_name": "Python 3",
   "language": "python",
   "name": "python3"
  },
  "language_info": {
   "codemirror_mode": {
    "name": "ipython",
    "version": 3
   },
   "file_extension": ".py",
   "mimetype": "text/x-python",
   "name": "python",
   "nbconvert_exporter": "python",
   "pygments_lexer": "ipython3",
   "version": "3.7.10"
  },
  "papermill": {
   "default_parameters": {},
   "duration": 58.444884,
   "end_time": "2021-12-25T13:12:15.047129",
   "environment_variables": {},
   "exception": null,
   "input_path": "__notebook__.ipynb",
   "output_path": "__notebook__.ipynb",
   "parameters": {},
   "start_time": "2021-12-25T13:11:16.602245",
   "version": "2.3.3"
  }
 },
 "nbformat": 4,
 "nbformat_minor": 5
}
