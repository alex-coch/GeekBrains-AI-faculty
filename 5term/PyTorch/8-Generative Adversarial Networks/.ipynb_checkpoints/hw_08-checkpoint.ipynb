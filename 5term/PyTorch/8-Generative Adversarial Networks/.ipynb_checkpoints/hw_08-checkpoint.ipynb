{
 "cells": [
  {
   "cell_type": "code",
   "execution_count": 1,
   "metadata": {
    "ExecuteTime": {
     "end_time": "2021-09-11T22:54:07.543652Z",
     "start_time": "2021-09-11T22:54:06.522810Z"
    },
    "id": "south-finland"
   },
   "outputs": [],
   "source": [
    "import pandas as pd\n",
    "import numpy as np\n",
    "\n",
    "import torch\n",
    "import torch.nn as nn\n",
    "from torch.autograd import Variable\n",
    "from torch.utils.data import DataLoader, Dataset\n",
    "\n",
    "import matplotlib.pyplot as plt\n",
    "import matplotlib.patches as mpatches\n",
    "from IPython import display"
   ]
  },
  {
   "cell_type": "code",
   "execution_count": 2,
   "metadata": {
    "ExecuteTime": {
     "end_time": "2021-09-11T22:54:07.558654Z",
     "start_time": "2021-09-11T22:54:07.544651Z"
    },
    "colab": {
     "base_uri": "https://localhost:8080/",
     "height": 35
    },
    "id": "alleged-flour",
    "outputId": "cc357fbd-022d-4148-dd67-379a06da5c02"
   },
   "outputs": [
    {
     "data": {
      "text/plain": [
       "'cpu'"
      ]
     },
     "execution_count": 2,
     "metadata": {},
     "output_type": "execute_result"
    }
   ],
   "source": [
    "device = 'cuda' if torch.cuda.is_available() else 'cpu'\n",
    "device"
   ]
  },
  {
   "cell_type": "code",
   "execution_count": 3,
   "metadata": {
    "ExecuteTime": {
     "end_time": "2021-09-11T22:54:07.636917Z",
     "start_time": "2021-09-11T22:54:07.559609Z"
    },
    "colab": {
     "base_uri": "https://localhost:8080/",
     "height": 414
    },
    "id": "xzB5qlL9gYWK",
    "outputId": "b4c96950-1e60-4c51-88e8-7846f5fe2336"
   },
   "outputs": [
    {
     "data": {
      "text/html": [
       "<div>\n",
       "<style scoped>\n",
       "    .dataframe tbody tr th:only-of-type {\n",
       "        vertical-align: middle;\n",
       "    }\n",
       "\n",
       "    .dataframe tbody tr th {\n",
       "        vertical-align: top;\n",
       "    }\n",
       "\n",
       "    .dataframe thead th {\n",
       "        text-align: right;\n",
       "    }\n",
       "</style>\n",
       "<table border=\"1\" class=\"dataframe\">\n",
       "  <thead>\n",
       "    <tr style=\"text-align: right;\">\n",
       "      <th></th>\n",
       "      <th>x</th>\n",
       "      <th>y</th>\n",
       "    </tr>\n",
       "  </thead>\n",
       "  <tbody>\n",
       "    <tr>\n",
       "      <th>0</th>\n",
       "      <td>-20.000000</td>\n",
       "      <td>2.045647</td>\n",
       "    </tr>\n",
       "    <tr>\n",
       "      <th>1</th>\n",
       "      <td>-19.996000</td>\n",
       "      <td>2.045174</td>\n",
       "    </tr>\n",
       "    <tr>\n",
       "      <th>2</th>\n",
       "      <td>-19.991999</td>\n",
       "      <td>2.044701</td>\n",
       "    </tr>\n",
       "    <tr>\n",
       "      <th>3</th>\n",
       "      <td>-19.987999</td>\n",
       "      <td>2.044226</td>\n",
       "    </tr>\n",
       "    <tr>\n",
       "      <th>4</th>\n",
       "      <td>-19.983998</td>\n",
       "      <td>2.043751</td>\n",
       "    </tr>\n",
       "    <tr>\n",
       "      <th>...</th>\n",
       "      <td>...</td>\n",
       "      <td>...</td>\n",
       "    </tr>\n",
       "    <tr>\n",
       "      <th>9995</th>\n",
       "      <td>19.983998</td>\n",
       "      <td>-1.953049</td>\n",
       "    </tr>\n",
       "    <tr>\n",
       "      <th>9996</th>\n",
       "      <td>19.987999</td>\n",
       "      <td>-1.953374</td>\n",
       "    </tr>\n",
       "    <tr>\n",
       "      <th>9997</th>\n",
       "      <td>19.991999</td>\n",
       "      <td>-1.953699</td>\n",
       "    </tr>\n",
       "    <tr>\n",
       "      <th>9998</th>\n",
       "      <td>19.996000</td>\n",
       "      <td>-1.954026</td>\n",
       "    </tr>\n",
       "    <tr>\n",
       "      <th>9999</th>\n",
       "      <td>20.000000</td>\n",
       "      <td>-1.954353</td>\n",
       "    </tr>\n",
       "  </tbody>\n",
       "</table>\n",
       "<p>10000 rows × 2 columns</p>\n",
       "</div>"
      ],
      "text/plain": [
       "              x         y\n",
       "0    -20.000000  2.045647\n",
       "1    -19.996000  2.045174\n",
       "2    -19.991999  2.044701\n",
       "3    -19.987999  2.044226\n",
       "4    -19.983998  2.043751\n",
       "...         ...       ...\n",
       "9995  19.983998 -1.953049\n",
       "9996  19.987999 -1.953374\n",
       "9997  19.991999 -1.953699\n",
       "9998  19.996000 -1.954026\n",
       "9999  20.000000 -1.954353\n",
       "\n",
       "[10000 rows x 2 columns]"
      ]
     },
     "execution_count": 3,
     "metadata": {},
     "output_type": "execute_result"
    }
   ],
   "source": [
    "df = pd.DataFrame(np.linspace(-20, 20, 10000), columns=['x'])\n",
    "df['y'] = np.sin(df['x']) / df['x'] - (df['x'] / 10)\n",
    "df"
   ]
  },
  {
   "cell_type": "code",
   "execution_count": 4,
   "metadata": {
    "ExecuteTime": {
     "end_time": "2021-09-11T22:54:07.803477Z",
     "start_time": "2021-09-11T22:54:07.637915Z"
    },
    "colab": {
     "base_uri": "https://localhost:8080/",
     "height": 264
    },
    "id": "FM21wtfVhW67",
    "outputId": "06045d75-4b76-42ef-c571-3e540f075ee3"
   },
   "outputs": [
    {
     "data": {
      "image/png": "[encoded data removed]",
      "text/plain": [
       "<Figure size 432x288 with 1 Axes>"
      ]
     },
     "metadata": {
      "needs_background": "light"
     },
     "output_type": "display_data"
    }
   ],
   "source": [
    "plt.plot(df['x'], df['y'])\n",
    "plt.show()"
   ]
  },
  {
   "cell_type": "markdown",
   "metadata": {
    "id": "5DtMxCvCgx6J"
   },
   "source": [
    "##  Генератор\n",
    "\n",
    "Генератор G предназначен для отображения вектора скрытого пространства (z) в пространство данных. Поскольку наши данные являются изображениями, преобразование z в пространство данных в конечном итоге означает создание изображения того же размера, что и обучающие изображения (то есть 1x28x28)."
   ]
  },
  {
   "cell_type": "code",
   "execution_count": 5,
   "metadata": {
    "ExecuteTime": {
     "end_time": "2021-09-11T22:54:07.818438Z",
     "start_time": "2021-09-11T22:54:07.804469Z"
    },
    "id": "sought-workstation"
   },
   "outputs": [],
   "source": [
    "class Generator(nn.Module):\n",
    "    def __init__(self):\n",
    "        super().__init__()\n",
    "        \n",
    "        # Использование таких словарей позволяет нам варьировать\n",
    "        # параметры нашей сети в процессе использования\n",
    "        self.activations = nn.ModuleDict([\n",
    "            ['lrelu', nn.LeakyReLU(0.2, inplace=True)],\n",
    "            ['relu', nn.ReLU()]\n",
    "        ])\n",
    "        # метод для построения блоков задач, активацию подтягиваем из словаря выше\n",
    "        def block(in_feat, out_feat, normalize=True, activation='relu'):\n",
    "            layers = [nn.Linear(in_feat, out_feat)]  \n",
    "            # Если мы создаем последовательность слоев - то мы задаем их\n",
    "                                                     # с помощью списка.\n",
    "            if normalize:\n",
    "                layers.append(nn.BatchNorm1d(out_feat))\n",
    "            layers.append(self.activations[activation])  # Эта строчка означает \n",
    "            # тоже самое что и layers.append(nn.LeakyReLU(0.2, inplace=True))\n",
    "            \n",
    "            return layers\n",
    "\n",
    "        self.model = nn.Sequential(\n",
    "            # Звездочка означает unpacking списка\n",
    "            *block(latent_dim, 128, normalize=False), \n",
    "            *block(128, 256, activation='lrelu'),\n",
    "            *block(256, 512),\n",
    "            *block(512, 1024),\n",
    "            nn.Linear(1024, 2),\n",
    "        )\n",
    "        \n",
    "    # при форварде прогоняем данные через модель\n",
    "    def forward(self, z):\n",
    "        num = self.model(z)\n",
    "        return num\n",
    "\n",
    "    \n",
    "class CustomLinearLayer(nn.Module):\n",
    "    def __init__(self, size_in, size_out):\n",
    "        # забираем все методы\n",
    "        super().__init__()\n",
    "        # инициализируем веса\n",
    "        self.size_in, self.size_out = size_in, size_out\n",
    "        \n",
    "        weights = torch.Tensor(size_out, size_in)\n",
    "        # в PyTorch если объект имеет класс параметров, то он обучаемый,\n",
    "        # т.е. через него будут прогоняться градиенты\n",
    "        self.weights = nn.Parameter(weights) \n",
    "\n",
    "        # подготавливаем переменные для сдвига bias\n",
    "        bias = torch.Tensor(size_out)\n",
    "        self.bias = nn.Parameter(bias)\n",
    "        \n",
    "        # инициализируем веса и смещения (байесы) близкими к нулю значениями\n",
    "        # в данном примере если поставить -0,005 и 0,005, обучается дольше и хуже\n",
    "        nn.init.uniform_(self.weights, -0.5, 0.5) \n",
    "        nn.init.uniform_(self.bias, -0.5, 0.5)  \n",
    "\n",
    "    def forward(self, x):\n",
    "        # По формуле линейного слоя, нам нужно умножить наши данные \n",
    "        # на транспонированные веса и добавить смещение\n",
    "        w_times_x = torch.mm(x, self.weights.t())\n",
    "        return torch.add(w_times_x, self.bias)\n",
    "\n",
    "\n",
    "class Discriminator(nn.Module):\n",
    "    def __init__(self):\n",
    "        super().__init__()\n",
    "\n",
    "        # на входе размерность, на выходе классфицируем правда/ложь\n",
    "        self.model = nn.Sequential(\n",
    "            CustomLinearLayer(2, 512),\n",
    "            nn.LeakyReLU(0.2, inplace=True),\n",
    "            CustomLinearLayer(512, 256),\n",
    "            nn.LeakyReLU(0.2, inplace=True),\n",
    "            CustomLinearLayer(256, 1),\n",
    "            nn.Sigmoid(),\n",
    "        )\n",
    "\n",
    "    def forward(self, pred):\n",
    "        validity = self.model(pred)\n",
    "        # получаем класс ложь/истина\n",
    "        return validity"
   ]
  },
  {
   "cell_type": "markdown",
   "metadata": {
    "id": "automatic-benefit"
   },
   "source": [
    "## Генерируем данные"
   ]
  },
  {
   "cell_type": "markdown",
   "metadata": {
    "id": "passive-vacation"
   },
   "source": [
    "## Обучаем генератор и дискриминатор"
   ]
  },
  {
   "cell_type": "code",
   "execution_count": 19,
   "metadata": {
    "ExecuteTime": {
     "end_time": "2021-09-11T22:59:37.778982Z",
     "start_time": "2021-09-11T22:59:37.774992Z"
    },
    "id": "breathing-casino"
   },
   "outputs": [],
   "source": [
    "n_epochs = 100 # количество эпох\n",
    "batch_size = 32 # размер батча\n",
    "lr = 0.0005  # шаг обучения\n",
    "\n",
    "b1 = 0.5  # гиперпараметр для оптимайзера Adam\n",
    "b2 = 0.999  # гиперпараметр для оптимайзера Adam\n",
    "\n",
    "latent_dim = 1000  # Размерность случайного вектора, который подается на вход генератору\n",
    "\n",
    "sample_interval = 100   # количество итераций для отображения процесса обучения"
   ]
  },
  {
   "cell_type": "code",
   "execution_count": 7,
   "metadata": {
    "ExecuteTime": {
     "end_time": "2021-09-11T22:54:07.849349Z",
     "start_time": "2021-09-11T22:54:07.835389Z"
    },
    "colab": {
     "base_uri": "https://localhost:8080/"
    },
    "id": "1sUKONUSke-1",
    "outputId": "08b00436-7eb7-4565-f5c2-1addbdee782b"
   },
   "outputs": [
    {
     "data": {
      "text/plain": [
       "<torch.utils.data.dataloader.DataLoader at 0x25024ae8fa0>"
      ]
     },
     "execution_count": 7,
     "metadata": {},
     "output_type": "execute_result"
    }
   ],
   "source": [
    "# преобразовываем DataFrame в numpy массив и torch DataLoader\n",
    "real_data = torch.utils.data.DataLoader(\n",
    "    df.to_numpy(), # to_numpy()\n",
    "    batch_size=batch_size,\n",
    "    shuffle=True)\n",
    "\n",
    "real_data"
   ]
  },
  {
   "cell_type": "code",
   "execution_count": 8,
   "metadata": {
    "ExecuteTime": {
     "end_time": "2021-09-11T22:54:07.880267Z",
     "start_time": "2021-09-11T22:54:07.852341Z"
    },
    "id": "configured-trading"
   },
   "outputs": [],
   "source": [
    "generator = Generator().to(device)\n",
    "discriminator = Discriminator().to(device)\n",
    "\n",
    "# Для каждой нейронки свой опитимизатор\n",
    "optimizer_G = torch.optim.Adam(\n",
    "    generator.parameters(), \n",
    "    lr=lr, \n",
    "    betas=(b1, b2)\n",
    ")\n",
    "optimizer_D = torch.optim.Adam(\n",
    "    discriminator.parameters(), \n",
    "    lr=lr, \n",
    "    betas=(b1, b2)\n",
    ")\n",
    "\n",
    "# Но вот функция ошибки у нас будет одна общая\n",
    "adversarial_loss = torch.nn.BCELoss()\n",
    "\n",
    "red_patch = mpatches.Patch(color='red', label='D loss')\n",
    "green_patch = mpatches.Patch(color='green', label='G loss')"
   ]
  },
  {
   "cell_type": "code",
   "execution_count": 20,
   "metadata": {
    "ExecuteTime": {
     "end_time": "2021-09-11T23:10:12.776511Z",
     "start_time": "2021-09-11T22:59:41.993055Z"
    },
    "colab": {
     "base_uri": "https://localhost:8080/",
     "height": 300
    },
    "id": "ecological-hormone",
    "outputId": "8784cabe-bf39-4d73-cd28-40af2a4503d1"
   },
   "outputs": [
    {
     "name": "stdout",
     "output_type": "stream",
     "text": [
      "[Epoch 99/100] [Batch 213/313] [D loss: 0.724533] [G loss: 0.720170]\n"
     ]
    },
    {
     "data": {
      "text/plain": [
       "<Figure size 432x288 with 0 Axes>"
      ]
     },
     "metadata": {},
     "output_type": "display_data"
    },
    {
     "data": {
      "image/png": "[encoded data removed]",
      "text/plain": [
       "<Figure size 432x288 with 1 Axes>"
      ]
     },
     "metadata": {
      "needs_background": "light"
     },
     "output_type": "display_data"
    }
   ],
   "source": [
    "# списки для лоссов генератора и дискриминатора\n",
    "d_loss_history = []\n",
    "g_loss_history = []\n",
    "\n",
    "for epoch in range(n_epochs):\n",
    "    for i, data in enumerate(real_data):\n",
    "        \n",
    "        cur_batch_size = len(data)\n",
    "\n",
    "##################### Лейблы для данных: 1 - настоящие, 0 - сгенерированные ########\n",
    "        # истинные значения\n",
    "        valid = torch.FloatTensor(cur_batch_size, 1).fill_(1.0).to(device)\n",
    "        # ложные значения\n",
    "        fake = torch.FloatTensor(cur_batch_size, 1).fill_(0.0).to(device)\n",
    "\n",
    "        # генерация шума (нормальное распределение тут не подойдёт)\n",
    "        z = Variable(torch.FloatTensor(np.random.uniform(-50, 50, (cur_batch_size, latent_dim)))).to(device)\n",
    "        \n",
    "        # реальные значения перекладываем на устройство\n",
    "        real_ex = Variable(data.type(torch.FloatTensor)).to(device)\n",
    "\n",
    "        # Генерируем данные Генератором на основе шума\n",
    "        gen_data = generator(z)\n",
    "\n",
    "\n",
    "######################  Тренировка дискриминатора    ##########################\n",
    "\n",
    "        # Получаем предсказания дискриминатора на основе реальных данных\n",
    "        real_pred = discriminator(real_ex)\n",
    "\n",
    "        # Тут сравниваем предсказанные значения Дискриминатора(на основе настоящих данных) с настоящими\n",
    "        # получаем бинарную кросс-энтропию\n",
    "        d_real_loss = adversarial_loss(real_pred, valid)\n",
    "        \n",
    "        # Подаем сгенерированые данные на Дискриминатор\n",
    "        fake_pred = discriminator(gen_data.detach())\n",
    "        \n",
    "        # расчитываем ошибку предсказанного с фейковыми лейблами\n",
    "        d_fake_loss = adversarial_loss(fake_pred, fake)\n",
    "        \n",
    "        # И усредняем два лосса в один\n",
    "        d_loss = (d_real_loss + d_fake_loss) / 2\n",
    "\n",
    "        # обновляем градиенты\n",
    "        optimizer_D.zero_grad()\n",
    "        \n",
    "        # подсчёт градиентов\n",
    "        d_loss.backward()\n",
    "        \n",
    "        # шаг оптимизации\n",
    "        optimizer_D.step()\n",
    "        \n",
    "######################  Тренировка генератора    ##########################\n",
    "\n",
    "        # Подаем сгенерированые данные на Дискриминатор \n",
    "        fake_pred = discriminator(gen_data)\n",
    "        \n",
    "        # Тут сравниваем предсказанные значения Дискриминатора \n",
    "        # (на основе сгенерировнных данных) с настоящими\n",
    "        g_loss = adversarial_loss(fake_pred, valid)\n",
    "        \n",
    "        # Делаем шаг обучения нашего Генератора\n",
    "        optimizer_G.zero_grad()\n",
    "        g_loss.backward()\n",
    "        optimizer_G.step()\n",
    "        \n",
    "######## Отображение процесса обучения и вывод функций потерь ############\n",
    "        batches_done = epoch * len(real_data) + i\n",
    "    \n",
    "        if batches_done % sample_interval == 0:\n",
    "            plt.clf()\n",
    "            \n",
    "            display.clear_output(wait=False)\n",
    "            print(\"[Epoch %d/%d] [Batch %d/%d] [D loss: %f] [G loss: %f]\"% (epoch, n_epochs, i, len(real_data), d_loss.item(), g_loss.item()) ) \n",
    "\n",
    "            display.display(plt.gcf())\n",
    "\n",
    "            # d_loss и g_loss - тензоры, чтобы поместить их в список,\n",
    "            # извлекаются без граадиента методом detach()\n",
    "            d_loss_history.append(d_loss.detach().numpy())\n",
    "            g_loss_history.append(g_loss.detach().numpy())\n",
    "            \n",
    "            plt.plot(np.log(np.array(d_loss_history)), label='D loss', color = 'red')\n",
    "            plt.plot(np.log(np.array(g_loss_history)), label='G loss', color = 'green')\n",
    "\n",
    "            plt.legend(handles=[red_patch, green_patch])\n",
    "            plt.show()"
   ]
  },
  {
   "cell_type": "code",
   "execution_count": 21,
   "metadata": {
    "ExecuteTime": {
     "end_time": "2021-09-11T23:10:16.125543Z",
     "start_time": "2021-09-11T23:10:16.110583Z"
    },
    "id": "curious-cause"
   },
   "outputs": [],
   "source": [
    "generator.eval()\n",
    "\n",
    "# генерируем тестовый тензор\n",
    "test_z = Variable(torch.from_numpy(np.random.uniform(-40, 35, (100, latent_dim)).astype(np.float64)).float()).to(device)\n",
    "\n",
    "with torch.no_grad():\n",
    "    test_pred = generator(test_z)"
   ]
  },
  {
   "cell_type": "code",
   "execution_count": 22,
   "metadata": {
    "ExecuteTime": {
     "end_time": "2021-09-11T23:10:19.406463Z",
     "start_time": "2021-09-11T23:10:19.391891Z"
    },
    "colab": {
     "base_uri": "https://localhost:8080/"
    },
    "id": "serial-stranger",
    "outputId": "e90d517e-6886-45b3-cfe8-4adb6b81316f"
   },
   "outputs": [
    {
     "name": "stdout",
     "output_type": "stream",
     "text": [
      "Mean error: 0.0301322266\n"
     ]
    }
   ],
   "source": [
    "cnt = 0\n",
    "error = 0.0\n",
    "count = 0\n",
    "for i in range(len(test_pred)):\n",
    "    x = test_pred[i][0]\n",
    "    y_real = (np.sin(x) / x) - (x / 10) \n",
    "    y_pred = test_pred[i][1]  \n",
    "    count +=1\n",
    "    error += abs(y_real - y_pred)\n",
    "\n",
    "print(\"Mean error: %.10f\" % (error/count))"
   ]
  },
  {
   "cell_type": "code",
   "execution_count": 23,
   "metadata": {
    "ExecuteTime": {
     "end_time": "2021-09-11T23:10:22.301815Z",
     "start_time": "2021-09-11T23:10:22.175105Z"
    },
    "colab": {
     "base_uri": "https://localhost:8080/",
     "height": 264
    },
    "id": "accepted-external",
    "outputId": "90e156fc-3ba6-4e9b-f554-10874805f322"
   },
   "outputs": [
    {
     "data": {
      "image/png": "[encoded data removed]",
      "text/plain": [
       "<Figure size 432x288 with 1 Axes>"
      ]
     },
     "metadata": {
      "needs_background": "light"
     },
     "output_type": "display_data"
    }
   ],
   "source": [
    "plt.figure()\n",
    "\n",
    "x = np.linspace(-25, 25, 1000)\n",
    "plt.plot(x, ((np.sin(x) / x) - (x / 10) ), label='y', color = 'red')\n",
    "\n",
    "p = test_pred[:,0].argsort()\n",
    "plt.plot(test_pred[:,0][p], test_pred[:, 1][p], label='y pred', color = 'green')\n",
    "\n",
    "\n",
    "plt.legend()\n",
    "plt.show()"
   ]
  }
 ],
 "metadata": {
  "colab": {
   "collapsed_sections": [],
   "name": "lesson_4.ipynb",
   "provenance": []
  },
  "hide_input": false,
  "kernelspec": {
   "display_name": "Python 3 (ipykernel)",
   "language": "python",
   "name": "python3"
  },
  "language_info": {
   "codemirror_mode": {
    "name": "ipython",
    "version": 3
   },
   "file_extension": ".py",
   "mimetype": "text/x-python",
   "name": "python",
   "nbconvert_exporter": "python",
   "pygments_lexer": "ipython3",
   "version": "3.7.0"
  },
  "toc": {
   "base_numbering": 1,
   "nav_menu": {},
   "number_sections": false,
   "sideBar": true,
   "skip_h1_title": false,
   "title_cell": "Содержание",
   "title_sidebar": "Содержание",
   "toc_cell": false,
   "toc_position": {},
   "toc_section_display": true,
   "toc_window_display": false
  },
  "varInspector": {
   "cols": {
    "lenName": 16,
    "lenType": 16,
    "lenVar": 40
   },
   "kernels_config": {
    "python": {
     "delete_cmd_postfix": "",
     "delete_cmd_prefix": "del ",
     "library": "var_list.py",
     "varRefreshCmd": "print(var_dic_list())"
    },
    "r": {
     "delete_cmd_postfix": ") ",
     "delete_cmd_prefix": "rm(",
     "library": "var_list.r",
     "varRefreshCmd": "cat(var_dic_list()) "
    }
   },
   "types_to_exclude": [
    "module",
    "function",
    "builtin_function_or_method",
    "instance",
    "_Feature"
   ],
   "window_display": false
  }
 },
 "nbformat": 4,
 "nbformat_minor": 5
}
