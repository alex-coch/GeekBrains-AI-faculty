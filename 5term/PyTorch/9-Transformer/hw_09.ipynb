{
  "nbformat": 4,
  "nbformat_minor": 0,
  "metadata": {
    "colab": {
      "provenance": [],
      "gpuType": "T4"
    },
    "kernelspec": {
      "name": "python3",
      "display_name": "Python 3"
    },
    "language_info": {
      "name": "python"
    },
    "accelerator": "GPU",
    "widgets": {
      "application/vnd.jupyter.widget-state+json": {
        "bd786ef082254d8792dc255f91b7bbfd": {
          "model_module": "@jupyter-widgets/controls",
          "model_name": "HBoxModel",
          "model_module_version": "1.5.0",
          "state": {
            "_dom_classes": [],
            "_model_module": "@jupyter-widgets/controls",
            "_model_module_version": "1.5.0",
            "_model_name": "HBoxModel",
            "_view_count": null,
            "_view_module": "@jupyter-widgets/controls",
            "_view_module_version": "1.5.0",
            "_view_name": "HBoxView",
            "box_style": "",
            "children": [
              "IPY_MODEL_50358d01adc7471c915cb00f6cc5acc0",
              "IPY_MODEL_879d003599684665b8d43ec9f76b7d0c",
              "IPY_MODEL_c315f5b78a934c1c9b3eeb3b1fd8fc7c"
            ],
            "layout": "IPY_MODEL_6f02bfea1e1548fe98c047e82bd66001"
          }
        },
        "50358d01adc7471c915cb00f6cc5acc0": {
          "model_module": "@jupyter-widgets/controls",
          "model_name": "HTMLModel",
          "model_module_version": "1.5.0",
          "state": {
            "_dom_classes": [],
            "_model_module": "@jupyter-widgets/controls",
            "_model_module_version": "1.5.0",
            "_model_name": "HTMLModel",
            "_view_count": null,
            "_view_module": "@jupyter-widgets/controls",
            "_view_module_version": "1.5.0",
            "_view_name": "HTMLView",
            "description": "",
            "description_tooltip": null,
            "layout": "IPY_MODEL_a7d21ed1b9bf4dac915307a35dc5c212",
            "placeholder": "​",
            "style": "IPY_MODEL_b26b0d3384914ab196f9db27da9a1347",
            "value": "Downloading model.safetensors: 100%"
          }
        },
        "879d003599684665b8d43ec9f76b7d0c": {
          "model_module": "@jupyter-widgets/controls",
          "model_name": "FloatProgressModel",
          "model_module_version": "1.5.0",
          "state": {
            "_dom_classes": [],
            "_model_module": "@jupyter-widgets/controls",
            "_model_module_version": "1.5.0",
            "_model_name": "FloatProgressModel",
            "_view_count": null,
            "_view_module": "@jupyter-widgets/controls",
            "_view_module_version": "1.5.0",
            "_view_name": "ProgressView",
            "bar_style": "success",
            "description": "",
            "description_tooltip": null,
            "layout": "IPY_MODEL_d1ebaf3615734c89b0974fedb5d0ff22",
            "max": 440449768,
            "min": 0,
            "orientation": "horizontal",
            "style": "IPY_MODEL_ebb358a7e5b643a4807397fe57bbebb8",
            "value": 440449768
          }
        },
        "c315f5b78a934c1c9b3eeb3b1fd8fc7c": {
          "model_module": "@jupyter-widgets/controls",
          "model_name": "HTMLModel",
          "model_module_version": "1.5.0",
          "state": {
            "_dom_classes": [],
            "_model_module": "@jupyter-widgets/controls",
            "_model_module_version": "1.5.0",
            "_model_name": "HTMLModel",
            "_view_count": null,
            "_view_module": "@jupyter-widgets/controls",
            "_view_module_version": "1.5.0",
            "_view_name": "HTMLView",
            "description": "",
            "description_tooltip": null,
            "layout": "IPY_MODEL_9c68e474fc44412dac95aba809b9fdff",
            "placeholder": "​",
            "style": "IPY_MODEL_402dbee9d175478e8121236f03c946d5",
            "value": " 440M/440M [00:01&lt;00:00, 293MB/s]"
          }
        },
        "6f02bfea1e1548fe98c047e82bd66001": {
          "model_module": "@jupyter-widgets/base",
          "model_name": "LayoutModel",
          "model_module_version": "1.2.0",
          "state": {
            "_model_module": "@jupyter-widgets/base",
            "_model_module_version": "1.2.0",
            "_model_name": "LayoutModel",
            "_view_count": null,
            "_view_module": "@jupyter-widgets/base",
            "_view_module_version": "1.2.0",
            "_view_name": "LayoutView",
            "align_content": null,
            "align_items": null,
            "align_self": null,
            "border": null,
            "bottom": null,
            "display": null,
            "flex": null,
            "flex_flow": null,
            "grid_area": null,
            "grid_auto_columns": null,
            "grid_auto_flow": null,
            "grid_auto_rows": null,
            "grid_column": null,
            "grid_gap": null,
            "grid_row": null,
            "grid_template_areas": null,
            "grid_template_columns": null,
            "grid_template_rows": null,
            "height": null,
            "justify_content": null,
            "justify_items": null,
            "left": null,
            "margin": null,
            "max_height": null,
            "max_width": null,
            "min_height": null,
            "min_width": null,
            "object_fit": null,
            "object_position": null,
            "order": null,
            "overflow": null,
            "overflow_x": null,
            "overflow_y": null,
            "padding": null,
            "right": null,
            "top": null,
            "visibility": null,
            "width": null
          }
        },
        "a7d21ed1b9bf4dac915307a35dc5c212": {
          "model_module": "@jupyter-widgets/base",
          "model_name": "LayoutModel",
          "model_module_version": "1.2.0",
          "state": {
            "_model_module": "@jupyter-widgets/base",
            "_model_module_version": "1.2.0",
            "_model_name": "LayoutModel",
            "_view_count": null,
            "_view_module": "@jupyter-widgets/base",
            "_view_module_version": "1.2.0",
            "_view_name": "LayoutView",
            "align_content": null,
            "align_items": null,
            "align_self": null,
            "border": null,
            "bottom": null,
            "display": null,
            "flex": null,
            "flex_flow": null,
            "grid_area": null,
            "grid_auto_columns": null,
            "grid_auto_flow": null,
            "grid_auto_rows": null,
            "grid_column": null,
            "grid_gap": null,
            "grid_row": null,
            "grid_template_areas": null,
            "grid_template_columns": null,
            "grid_template_rows": null,
            "height": null,
            "justify_content": null,
            "justify_items": null,
            "left": null,
            "margin": null,
            "max_height": null,
            "max_width": null,
            "min_height": null,
            "min_width": null,
            "object_fit": null,
            "object_position": null,
            "order": null,
            "overflow": null,
            "overflow_x": null,
            "overflow_y": null,
            "padding": null,
            "right": null,
            "top": null,
            "visibility": null,
            "width": null
          }
        },
        "b26b0d3384914ab196f9db27da9a1347": {
          "model_module": "@jupyter-widgets/controls",
          "model_name": "DescriptionStyleModel",
          "model_module_version": "1.5.0",
          "state": {
            "_model_module": "@jupyter-widgets/controls",
            "_model_module_version": "1.5.0",
            "_model_name": "DescriptionStyleModel",
            "_view_count": null,
            "_view_module": "@jupyter-widgets/base",
            "_view_module_version": "1.2.0",
            "_view_name": "StyleView",
            "description_width": ""
          }
        },
        "d1ebaf3615734c89b0974fedb5d0ff22": {
          "model_module": "@jupyter-widgets/base",
          "model_name": "LayoutModel",
          "model_module_version": "1.2.0",
          "state": {
            "_model_module": "@jupyter-widgets/base",
            "_model_module_version": "1.2.0",
            "_model_name": "LayoutModel",
            "_view_count": null,
            "_view_module": "@jupyter-widgets/base",
            "_view_module_version": "1.2.0",
            "_view_name": "LayoutView",
            "align_content": null,
            "align_items": null,
            "align_self": null,
            "border": null,
            "bottom": null,
            "display": null,
            "flex": null,
            "flex_flow": null,
            "grid_area": null,
            "grid_auto_columns": null,
            "grid_auto_flow": null,
            "grid_auto_rows": null,
            "grid_column": null,
            "grid_gap": null,
            "grid_row": null,
            "grid_template_areas": null,
            "grid_template_columns": null,
            "grid_template_rows": null,
            "height": null,
            "justify_content": null,
            "justify_items": null,
            "left": null,
            "margin": null,
            "max_height": null,
            "max_width": null,
            "min_height": null,
            "min_width": null,
            "object_fit": null,
            "object_position": null,
            "order": null,
            "overflow": null,
            "overflow_x": null,
            "overflow_y": null,
            "padding": null,
            "right": null,
            "top": null,
            "visibility": null,
            "width": null
          }
        },
        "ebb358a7e5b643a4807397fe57bbebb8": {
          "model_module": "@jupyter-widgets/controls",
          "model_name": "ProgressStyleModel",
          "model_module_version": "1.5.0",
          "state": {
            "_model_module": "@jupyter-widgets/controls",
            "_model_module_version": "1.5.0",
            "_model_name": "ProgressStyleModel",
            "_view_count": null,
            "_view_module": "@jupyter-widgets/base",
            "_view_module_version": "1.2.0",
            "_view_name": "StyleView",
            "bar_color": null,
            "description_width": ""
          }
        },
        "9c68e474fc44412dac95aba809b9fdff": {
          "model_module": "@jupyter-widgets/base",
          "model_name": "LayoutModel",
          "model_module_version": "1.2.0",
          "state": {
            "_model_module": "@jupyter-widgets/base",
            "_model_module_version": "1.2.0",
            "_model_name": "LayoutModel",
            "_view_count": null,
            "_view_module": "@jupyter-widgets/base",
            "_view_module_version": "1.2.0",
            "_view_name": "LayoutView",
            "align_content": null,
            "align_items": null,
            "align_self": null,
            "border": null,
            "bottom": null,
            "display": null,
            "flex": null,
            "flex_flow": null,
            "grid_area": null,
            "grid_auto_columns": null,
            "grid_auto_flow": null,
            "grid_auto_rows": null,
            "grid_column": null,
            "grid_gap": null,
            "grid_row": null,
            "grid_template_areas": null,
            "grid_template_columns": null,
            "grid_template_rows": null,
            "height": null,
            "justify_content": null,
            "justify_items": null,
            "left": null,
            "margin": null,
            "max_height": null,
            "max_width": null,
            "min_height": null,
            "min_width": null,
            "object_fit": null,
            "object_position": null,
            "order": null,
            "overflow": null,
            "overflow_x": null,
            "overflow_y": null,
            "padding": null,
            "right": null,
            "top": null,
            "visibility": null,
            "width": null
          }
        },
        "402dbee9d175478e8121236f03c946d5": {
          "model_module": "@jupyter-widgets/controls",
          "model_name": "DescriptionStyleModel",
          "model_module_version": "1.5.0",
          "state": {
            "_model_module": "@jupyter-widgets/controls",
            "_model_module_version": "1.5.0",
            "_model_name": "DescriptionStyleModel",
            "_view_count": null,
            "_view_module": "@jupyter-widgets/base",
            "_view_module_version": "1.2.0",
            "_view_name": "StyleView",
            "description_width": ""
          }
        }
      }
    }
  },
  "cells": [
    {
      "cell_type": "code",
      "source": [
        "!pip install transformers -q"
      ],
      "metadata": {
        "colab": {
          "base_uri": "https://localhost:8080/"
        },
        "id": "WbFa0L5fypMQ",
        "outputId": "523c1df3-066f-4d10-8efd-0eeb843c029f"
      },
      "execution_count": 2,
      "outputs": [
        {
          "output_type": "stream",
          "name": "stdout",
          "text": [
            "\u001b[2K     \u001b[90m━━━━━━━━━━━━━━━━━━━━━━━━━━━━━━━━━━━━━━━━\u001b[0m \u001b[32m7.2/7.2 MB\u001b[0m \u001b[31m76.1 MB/s\u001b[0m eta \u001b[36m0:00:00\u001b[0m\n",
            "\u001b[2K     \u001b[90m━━━━━━━━━━━━━━━━━━━━━━━━━━━━━━━━━━━━━━\u001b[0m \u001b[32m236.8/236.8 kB\u001b[0m \u001b[31m28.1 MB/s\u001b[0m eta \u001b[36m0:00:00\u001b[0m\n",
            "\u001b[2K     \u001b[90m━━━━━━━━━━━━━━━━━━━━━━━━━━━━━━━━━━━━━━━━\u001b[0m \u001b[32m7.8/7.8 MB\u001b[0m \u001b[31m102.2 MB/s\u001b[0m eta \u001b[36m0:00:00\u001b[0m\n",
            "\u001b[2K     \u001b[90m━━━━━━━━━━━━━━━━━━━━━━━━━━━━━━━━━━━━━━━━\u001b[0m \u001b[32m1.3/1.3 MB\u001b[0m \u001b[31m81.9 MB/s\u001b[0m eta \u001b[36m0:00:00\u001b[0m\n",
            "\u001b[?25h"
          ]
        }
      ]
    },
    {
      "cell_type": "code",
      "execution_count": 3,
      "metadata": {
        "id": "q74nz3SCyaFm"
      },
      "outputs": [],
      "source": [
        "import pandas as pd\n",
        "import numpy as np\n",
        "import transformers\n",
        "import torch\n",
        "import torch.nn as nn\n",
        "from torch.utils.data import Dataset\n",
        "from torch.utils.data import DataLoader\n",
        "import torch.optim as optim\n",
        "import torch.nn.functional as F\n",
        "from torchsummary import summary\n",
        "from tqdm import tqdm"
      ]
    },
    {
      "cell_type": "code",
      "source": [
        "class BertDataset(Dataset):\n",
        "    def __init__(self, tokenizer,max_length):\n",
        "        super(BertDataset, self).__init__()\n",
        "        # self.root_dir=root_dir\n",
        "        self.train_csv=pd.read_csv('https://github.com/clairett/pytorch-sentiment-classification/raw/master/data/SST2/train.tsv', delimiter='\\t', header=None)\n",
        "        self.tokenizer=tokenizer\n",
        "        self.target=self.train_csv.iloc[:,1]\n",
        "        self.max_length=max_length\n",
        "\n",
        "    def __len__(self):\n",
        "        return len(self.train_csv)\n",
        "\n",
        "    def __getitem__(self, index):\n",
        "\n",
        "        text1 = self.train_csv.iloc[index,0]\n",
        "\n",
        "        inputs = self.tokenizer.encode_plus(\n",
        "            text1 ,\n",
        "            None,\n",
        "            pad_to_max_length=True,\n",
        "            add_special_tokens=True,\n",
        "            return_attention_mask=True,\n",
        "            max_length=self.max_length,\n",
        "        )\n",
        "        ids = inputs[\"input_ids\"]\n",
        "        token_type_ids = inputs[\"token_type_ids\"]\n",
        "        mask = inputs[\"attention_mask\"]\n",
        "\n",
        "        return {\n",
        "            'ids': torch.tensor(ids, dtype=torch.long),\n",
        "            'mask': torch.tensor(mask, dtype=torch.long),\n",
        "            'token_type_ids': torch.tensor(token_type_ids, dtype=torch.long),\n",
        "            'target': torch.tensor(self.train_csv.iloc[index, 1], dtype=torch.long)\n",
        "            }\n",
        "tokenizer = transformers.BertTokenizer.from_pretrained(\"bert-base-uncased\")\n",
        "\n",
        "dataset= BertDataset(tokenizer, max_length=100)\n",
        "\n",
        "dataloader=DataLoader(dataset=dataset,batch_size=32)\n"
      ],
      "metadata": {
        "id": "BwKIgmI3ynBb"
      },
      "execution_count": 5,
      "outputs": []
    },
    {
      "cell_type": "code",
      "source": [
        "class BERT(nn.Module):\n",
        "    def __init__(self):\n",
        "        super(BERT, self).__init__()\n",
        "        self.bert_model = transformers.BertModel.from_pretrained(\"bert-base-uncased\")\n",
        "        self.out = nn.Linear(768, 1)\n",
        "\n",
        "    def forward(self,ids,mask,token_type_ids):\n",
        "        _,o2= self.bert_model(ids,attention_mask=mask,token_type_ids=token_type_ids, return_dict=False)\n",
        "\n",
        "        out= self.out(o2)\n",
        "\n",
        "        return out\n",
        "\n",
        "model=BERT()\n",
        "\n",
        "loss_fn = nn.BCEWithLogitsLoss()\n",
        "\n",
        "#Initialize Optimizer\n",
        "optimizer= optim.Adam(model.parameters(),lr= 0.0001)"
      ],
      "metadata": {
        "colab": {
          "base_uri": "https://localhost:8080/",
          "height": 124,
          "referenced_widgets": [
            "bd786ef082254d8792dc255f91b7bbfd",
            "50358d01adc7471c915cb00f6cc5acc0",
            "879d003599684665b8d43ec9f76b7d0c",
            "c315f5b78a934c1c9b3eeb3b1fd8fc7c",
            "6f02bfea1e1548fe98c047e82bd66001",
            "a7d21ed1b9bf4dac915307a35dc5c212",
            "b26b0d3384914ab196f9db27da9a1347",
            "d1ebaf3615734c89b0974fedb5d0ff22",
            "ebb358a7e5b643a4807397fe57bbebb8",
            "9c68e474fc44412dac95aba809b9fdff",
            "402dbee9d175478e8121236f03c946d5"
          ]
        },
        "id": "3msDjI-4yueE",
        "outputId": "d1567031-8706-4e87-d242-c69446f5c6fb"
      },
      "execution_count": 6,
      "outputs": [
        {
          "output_type": "display_data",
          "data": {
            "text/plain": [
              "Downloading model.safetensors:   0%|          | 0.00/440M [00:00<?, ?B/s]"
            ],
            "application/vnd.jupyter.widget-view+json": {
              "version_major": 2,
              "version_minor": 0,
              "model_id": "bd786ef082254d8792dc255f91b7bbfd"
            }
          },
          "metadata": {}
        },
        {
          "output_type": "stream",
          "name": "stderr",
          "text": [
            "Some weights of the model checkpoint at bert-base-uncased were not used when initializing BertModel: ['cls.predictions.transform.dense.weight', 'cls.predictions.transform.dense.bias', 'cls.predictions.transform.LayerNorm.weight', 'cls.predictions.transform.LayerNorm.bias', 'cls.seq_relationship.bias', 'cls.seq_relationship.weight', 'cls.predictions.bias']\n",
            "- This IS expected if you are initializing BertModel from the checkpoint of a model trained on another task or with another architecture (e.g. initializing a BertForSequenceClassification model from a BertForPreTraining model).\n",
            "- This IS NOT expected if you are initializing BertModel from the checkpoint of a model that you expect to be exactly identical (initializing a BertForSequenceClassification model from a BertForSequenceClassification model).\n"
          ]
        }
      ]
    },
    {
      "cell_type": "code",
      "source": [
        "for param in model.bert_model.parameters():\n",
        "    param.requires_grad = False"
      ],
      "metadata": {
        "id": "t4WH1IAXywr2"
      },
      "execution_count": 7,
      "outputs": []
    },
    {
      "cell_type": "code",
      "source": [
        "def finetune(epochs,dataloader,model,loss_fn,optimizer):\n",
        "    model.train()\n",
        "    for  epoch in range(epochs):\n",
        "        print(epoch)\n",
        "\n",
        "        loop=tqdm(enumerate(dataloader),leave=False,total=len(dataloader))\n",
        "        for batch, dl in loop:\n",
        "            ids=dl['ids']\n",
        "            token_type_ids=dl['token_type_ids']\n",
        "            mask= dl['mask']\n",
        "            label=dl['target']\n",
        "            label = label.unsqueeze(1)\n",
        "\n",
        "            optimizer.zero_grad()\n",
        "\n",
        "            output=model(\n",
        "                ids=ids,\n",
        "                mask=mask,\n",
        "                token_type_ids=token_type_ids)\n",
        "            label = label.type_as(output)\n",
        "\n",
        "            loss=loss_fn(output,label)\n",
        "            loss.backward()\n",
        "\n",
        "            optimizer.step()\n",
        "\n",
        "            pred = np.where(output >= 0, 1, 0)\n",
        "\n",
        "            num_correct = sum(1 for a, b in zip(pred, label) if a[0] == b[0])\n",
        "            num_samples = pred.shape[0]\n",
        "            accuracy = num_correct/num_samples\n",
        "\n",
        "            print(f'Got {num_correct} / {num_samples} with accuracy {float(num_correct)/float(num_samples)*100:.2f}')\n",
        "\n",
        "            # Show progress while training\n",
        "            loop.set_description(f'Epoch={epoch}/{epochs}')\n",
        "            loop.set_postfix(loss=loss.item(),acc=accuracy)\n",
        "\n",
        "    return model"
      ],
      "metadata": {
        "id": "8drTqFbfyzjv"
      },
      "execution_count": 8,
      "outputs": []
    },
    {
      "cell_type": "code",
      "source": [
        "model=finetune(1, dataloader, model, loss_fn, optimizer)"
      ],
      "metadata": {
        "colab": {
          "base_uri": "https://localhost:8080/"
        },
        "id": "KDe7F3way1hS",
        "outputId": "fadc5489-c474-402e-c94c-3490e9cc7906"
      },
      "execution_count": 9,
      "outputs": [
        {
          "output_type": "stream",
          "name": "stdout",
          "text": [
            "0\n"
          ]
        },
        {
          "output_type": "stream",
          "name": "stderr",
          "text": [
            "\r  0%|          | 0/217 [00:00<?, ?it/s]Truncation was not explicitly activated but `max_length` is provided a specific value, please use `truncation=True` to explicitly truncate examples to max length. Defaulting to 'longest_first' truncation strategy. If you encode pairs of sequences (GLUE-style) with the tokenizer you can select this strategy more precisely by providing a specific strategy to `truncation`.\n",
            "/usr/local/lib/python3.10/dist-packages/transformers/tokenization_utils_base.py:2377: FutureWarning: The `pad_to_max_length` argument is deprecated and will be removed in a future version, use `padding=True` or `padding='longest'` to pad to the longest sequence in the batch, or use `padding='max_length'` to pad to a max length. In this case, you can give a specific length with `max_length` (e.g. `max_length=45`) or leave max_length to None to pad to the maximal input size of the model (e.g. 512 for Bert).\n",
            "  warnings.warn(\n",
            "Epoch=0/1:   0%|          | 1/217 [00:08<30:34,  8.49s/it, acc=0.531, loss=0.692]"
          ]
        },
        {
          "output_type": "stream",
          "name": "stdout",
          "text": [
            "Got 17 / 32 with accuracy 53.12\n"
          ]
        },
        {
          "output_type": "stream",
          "name": "stderr",
          "text": [
            "Epoch=0/1:   1%|          | 2/217 [00:15<28:14,  7.88s/it, acc=0.25, loss=0.797]"
          ]
        },
        {
          "output_type": "stream",
          "name": "stdout",
          "text": [
            "Got 8 / 32 with accuracy 25.00\n"
          ]
        },
        {
          "output_type": "stream",
          "name": "stderr",
          "text": [
            "Epoch=0/1:   1%|▏         | 3/217 [00:21<25:02,  7.02s/it, acc=0.438, loss=0.738]"
          ]
        },
        {
          "output_type": "stream",
          "name": "stdout",
          "text": [
            "Got 14 / 32 with accuracy 43.75\n"
          ]
        },
        {
          "output_type": "stream",
          "name": "stderr",
          "text": [
            "Epoch=0/1:   2%|▏         | 4/217 [00:29<25:33,  7.20s/it, acc=0.438, loss=0.727]"
          ]
        },
        {
          "output_type": "stream",
          "name": "stdout",
          "text": [
            "Got 14 / 32 with accuracy 43.75\n"
          ]
        },
        {
          "output_type": "stream",
          "name": "stderr",
          "text": [
            "Epoch=0/1:   2%|▏         | 5/217 [00:35<23:59,  6.79s/it, acc=0.5, loss=0.708]"
          ]
        },
        {
          "output_type": "stream",
          "name": "stdout",
          "text": [
            "Got 16 / 32 with accuracy 50.00\n"
          ]
        },
        {
          "output_type": "stream",
          "name": "stderr",
          "text": [
            "Epoch=0/1:   3%|▎         | 6/217 [00:44<26:10,  7.45s/it, acc=0.469, loss=0.715]"
          ]
        },
        {
          "output_type": "stream",
          "name": "stdout",
          "text": [
            "Got 15 / 32 with accuracy 46.88\n"
          ]
        },
        {
          "output_type": "stream",
          "name": "stderr",
          "text": [
            "Epoch=0/1:   3%|▎         | 7/217 [00:50<24:14,  6.93s/it, acc=0.438, loss=0.711]"
          ]
        },
        {
          "output_type": "stream",
          "name": "stdout",
          "text": [
            "Got 14 / 32 with accuracy 43.75\n"
          ]
        },
        {
          "output_type": "stream",
          "name": "stderr",
          "text": [
            "Epoch=0/1:   4%|▎         | 8/217 [00:57<24:29,  7.03s/it, acc=0.375, loss=0.722]"
          ]
        },
        {
          "output_type": "stream",
          "name": "stdout",
          "text": [
            "Got 12 / 32 with accuracy 37.50\n"
          ]
        },
        {
          "output_type": "stream",
          "name": "stderr",
          "text": [
            "Epoch=0/1:   4%|▍         | 9/217 [01:03<23:32,  6.79s/it, acc=0.406, loss=0.732]"
          ]
        },
        {
          "output_type": "stream",
          "name": "stdout",
          "text": [
            "Got 13 / 32 with accuracy 40.62\n"
          ]
        },
        {
          "output_type": "stream",
          "name": "stderr",
          "text": [
            "Epoch=0/1:   5%|▍         | 10/217 [01:10<23:23,  6.78s/it, acc=0.531, loss=0.698]"
          ]
        },
        {
          "output_type": "stream",
          "name": "stdout",
          "text": [
            "Got 17 / 32 with accuracy 53.12\n"
          ]
        },
        {
          "output_type": "stream",
          "name": "stderr",
          "text": [
            "Epoch=0/1:   5%|▌         | 11/217 [01:17<23:15,  6.77s/it, acc=0.5, loss=0.691]"
          ]
        },
        {
          "output_type": "stream",
          "name": "stdout",
          "text": [
            "Got 16 / 32 with accuracy 50.00\n"
          ]
        },
        {
          "output_type": "stream",
          "name": "stderr",
          "text": [
            "Epoch=0/1:   6%|▌         | 12/217 [01:22<22:10,  6.49s/it, acc=0.719, loss=0.662]"
          ]
        },
        {
          "output_type": "stream",
          "name": "stdout",
          "text": [
            "Got 23 / 32 with accuracy 71.88\n"
          ]
        },
        {
          "output_type": "stream",
          "name": "stderr",
          "text": [
            "Epoch=0/1:   6%|▌         | 13/217 [01:30<23:03,  6.78s/it, acc=0.5, loss=0.688]"
          ]
        },
        {
          "output_type": "stream",
          "name": "stdout",
          "text": [
            "Got 16 / 32 with accuracy 50.00\n"
          ]
        },
        {
          "output_type": "stream",
          "name": "stderr",
          "text": [
            "Epoch=0/1:   6%|▋         | 14/217 [01:36<22:25,  6.63s/it, acc=0.438, loss=0.693]"
          ]
        },
        {
          "output_type": "stream",
          "name": "stdout",
          "text": [
            "Got 14 / 32 with accuracy 43.75\n"
          ]
        },
        {
          "output_type": "stream",
          "name": "stderr",
          "text": [
            "Epoch=0/1:   7%|▋         | 15/217 [01:44<23:34,  7.00s/it, acc=0.469, loss=0.697]"
          ]
        },
        {
          "output_type": "stream",
          "name": "stdout",
          "text": [
            "Got 15 / 32 with accuracy 46.88\n"
          ]
        },
        {
          "output_type": "stream",
          "name": "stderr",
          "text": [
            "Epoch=0/1:   7%|▋         | 16/217 [01:51<23:11,  6.92s/it, acc=0.625, loss=0.688]"
          ]
        },
        {
          "output_type": "stream",
          "name": "stdout",
          "text": [
            "Got 20 / 32 with accuracy 62.50\n"
          ]
        },
        {
          "output_type": "stream",
          "name": "stderr",
          "text": [
            "Epoch=0/1:   8%|▊         | 17/217 [01:59<24:37,  7.39s/it, acc=0.75, loss=0.679]"
          ]
        },
        {
          "output_type": "stream",
          "name": "stdout",
          "text": [
            "Got 24 / 32 with accuracy 75.00\n"
          ]
        },
        {
          "output_type": "stream",
          "name": "stderr",
          "text": [
            "Epoch=0/1:   8%|▊         | 18/217 [02:05<23:19,  7.03s/it, acc=0.469, loss=0.695]"
          ]
        },
        {
          "output_type": "stream",
          "name": "stdout",
          "text": [
            "Got 15 / 32 with accuracy 46.88\n"
          ]
        },
        {
          "output_type": "stream",
          "name": "stderr",
          "text": [
            "Epoch=0/1:   9%|▉         | 19/217 [02:13<24:09,  7.32s/it, acc=0.594, loss=0.695]"
          ]
        },
        {
          "output_type": "stream",
          "name": "stdout",
          "text": [
            "Got 19 / 32 with accuracy 59.38\n"
          ]
        },
        {
          "output_type": "stream",
          "name": "stderr",
          "text": [
            "Epoch=0/1:   9%|▉         | 20/217 [02:20<23:06,  7.04s/it, acc=0.594, loss=0.685]"
          ]
        },
        {
          "output_type": "stream",
          "name": "stdout",
          "text": [
            "Got 19 / 32 with accuracy 59.38\n"
          ]
        },
        {
          "output_type": "stream",
          "name": "stderr",
          "text": [
            "Epoch=0/1:  10%|▉         | 21/217 [02:28<23:38,  7.24s/it, acc=0.594, loss=0.686]"
          ]
        },
        {
          "output_type": "stream",
          "name": "stdout",
          "text": [
            "Got 19 / 32 with accuracy 59.38\n"
          ]
        },
        {
          "output_type": "stream",
          "name": "stderr",
          "text": [
            "Epoch=0/1:  10%|█         | 22/217 [02:34<22:19,  6.87s/it, acc=0.562, loss=0.675]"
          ]
        },
        {
          "output_type": "stream",
          "name": "stdout",
          "text": [
            "Got 18 / 32 with accuracy 56.25\n"
          ]
        },
        {
          "output_type": "stream",
          "name": "stderr",
          "text": [
            "Epoch=0/1:  11%|█         | 23/217 [02:41<23:00,  7.12s/it, acc=0.688, loss=0.672]"
          ]
        },
        {
          "output_type": "stream",
          "name": "stdout",
          "text": [
            "Got 22 / 32 with accuracy 68.75\n"
          ]
        },
        {
          "output_type": "stream",
          "name": "stderr",
          "text": [
            "Epoch=0/1:  11%|█         | 24/217 [02:48<22:08,  6.89s/it, acc=0.656, loss=0.673]"
          ]
        },
        {
          "output_type": "stream",
          "name": "stdout",
          "text": [
            "Got 21 / 32 with accuracy 65.62\n"
          ]
        },
        {
          "output_type": "stream",
          "name": "stderr",
          "text": [
            "Epoch=0/1:  12%|█▏        | 25/217 [02:55<22:14,  6.95s/it, acc=0.562, loss=0.683]"
          ]
        },
        {
          "output_type": "stream",
          "name": "stdout",
          "text": [
            "Got 18 / 32 with accuracy 56.25\n"
          ]
        },
        {
          "output_type": "stream",
          "name": "stderr",
          "text": [
            "Epoch=0/1:  12%|█▏        | 26/217 [03:01<21:50,  6.86s/it, acc=0.5, loss=0.695]"
          ]
        },
        {
          "output_type": "stream",
          "name": "stdout",
          "text": [
            "Got 16 / 32 with accuracy 50.00\n"
          ]
        },
        {
          "output_type": "stream",
          "name": "stderr",
          "text": [
            "Epoch=0/1:  12%|█▏        | 27/217 [03:08<21:55,  6.92s/it, acc=0.531, loss=0.67]"
          ]
        },
        {
          "output_type": "stream",
          "name": "stdout",
          "text": [
            "Got 17 / 32 with accuracy 53.12\n"
          ]
        },
        {
          "output_type": "stream",
          "name": "stderr",
          "text": [
            "Epoch=0/1:  13%|█▎        | 28/217 [03:15<21:44,  6.90s/it, acc=0.438, loss=0.699]"
          ]
        },
        {
          "output_type": "stream",
          "name": "stdout",
          "text": [
            "Got 14 / 32 with accuracy 43.75\n"
          ]
        },
        {
          "output_type": "stream",
          "name": "stderr",
          "text": [
            "Epoch=0/1:  13%|█▎        | 29/217 [03:22<21:18,  6.80s/it, acc=0.625, loss=0.673]"
          ]
        },
        {
          "output_type": "stream",
          "name": "stdout",
          "text": [
            "Got 20 / 32 with accuracy 62.50\n"
          ]
        },
        {
          "output_type": "stream",
          "name": "stderr",
          "text": [
            "Epoch=0/1:  14%|█▍        | 30/217 [03:29<21:30,  6.90s/it, acc=0.344, loss=0.712]"
          ]
        },
        {
          "output_type": "stream",
          "name": "stdout",
          "text": [
            "Got 11 / 32 with accuracy 34.38\n"
          ]
        },
        {
          "output_type": "stream",
          "name": "stderr",
          "text": [
            "Epoch=0/1:  14%|█▍        | 31/217 [03:37<22:22,  7.22s/it, acc=0.625, loss=0.665]"
          ]
        },
        {
          "output_type": "stream",
          "name": "stdout",
          "text": [
            "Got 20 / 32 with accuracy 62.50\n"
          ]
        },
        {
          "output_type": "stream",
          "name": "stderr",
          "text": [
            "Epoch=0/1:  15%|█▍        | 32/217 [03:44<22:32,  7.31s/it, acc=0.594, loss=0.677]"
          ]
        },
        {
          "output_type": "stream",
          "name": "stdout",
          "text": [
            "Got 19 / 32 with accuracy 59.38\n"
          ]
        },
        {
          "output_type": "stream",
          "name": "stderr",
          "text": [
            "Epoch=0/1:  15%|█▌        | 33/217 [03:51<21:37,  7.05s/it, acc=0.594, loss=0.68]"
          ]
        },
        {
          "output_type": "stream",
          "name": "stdout",
          "text": [
            "Got 19 / 32 with accuracy 59.38\n"
          ]
        },
        {
          "output_type": "stream",
          "name": "stderr",
          "text": [
            "Epoch=0/1:  16%|█▌        | 34/217 [03:59<22:12,  7.28s/it, acc=0.562, loss=0.686]"
          ]
        },
        {
          "output_type": "stream",
          "name": "stdout",
          "text": [
            "Got 18 / 32 with accuracy 56.25\n"
          ]
        },
        {
          "output_type": "stream",
          "name": "stderr",
          "text": [
            "Epoch=0/1:  16%|█▌        | 35/217 [04:05<21:08,  6.97s/it, acc=0.562, loss=0.672]"
          ]
        },
        {
          "output_type": "stream",
          "name": "stdout",
          "text": [
            "Got 18 / 32 with accuracy 56.25\n"
          ]
        },
        {
          "output_type": "stream",
          "name": "stderr",
          "text": [
            "Epoch=0/1:  17%|█▋        | 36/217 [04:13<21:40,  7.19s/it, acc=0.469, loss=0.686]"
          ]
        },
        {
          "output_type": "stream",
          "name": "stdout",
          "text": [
            "Got 15 / 32 with accuracy 46.88\n"
          ]
        },
        {
          "output_type": "stream",
          "name": "stderr",
          "text": [
            "Epoch=0/1:  17%|█▋        | 37/217 [04:19<20:37,  6.87s/it, acc=0.562, loss=0.69]"
          ]
        },
        {
          "output_type": "stream",
          "name": "stdout",
          "text": [
            "Got 18 / 32 with accuracy 56.25\n"
          ]
        },
        {
          "output_type": "stream",
          "name": "stderr",
          "text": [
            "Epoch=0/1:  18%|█▊        | 38/217 [04:26<21:08,  7.09s/it, acc=0.469, loss=0.697]"
          ]
        },
        {
          "output_type": "stream",
          "name": "stdout",
          "text": [
            "Got 15 / 32 with accuracy 46.88\n"
          ]
        },
        {
          "output_type": "stream",
          "name": "stderr",
          "text": [
            "Epoch=0/1:  18%|█▊        | 39/217 [04:33<20:14,  6.82s/it, acc=0.531, loss=0.694]"
          ]
        },
        {
          "output_type": "stream",
          "name": "stdout",
          "text": [
            "Got 17 / 32 with accuracy 53.12\n"
          ]
        },
        {
          "output_type": "stream",
          "name": "stderr",
          "text": [
            "Epoch=0/1:  18%|█▊        | 40/217 [04:40<20:50,  7.07s/it, acc=0.625, loss=0.671]"
          ]
        },
        {
          "output_type": "stream",
          "name": "stdout",
          "text": [
            "Got 20 / 32 with accuracy 62.50\n"
          ]
        },
        {
          "output_type": "stream",
          "name": "stderr",
          "text": [
            "Epoch=0/1:  19%|█▉        | 41/217 [04:46<19:56,  6.80s/it, acc=0.594, loss=0.669]"
          ]
        },
        {
          "output_type": "stream",
          "name": "stdout",
          "text": [
            "Got 19 / 32 with accuracy 59.38\n"
          ]
        },
        {
          "output_type": "stream",
          "name": "stderr",
          "text": [
            "Epoch=0/1:  19%|█▉        | 42/217 [04:54<20:31,  7.04s/it, acc=0.531, loss=0.698]"
          ]
        },
        {
          "output_type": "stream",
          "name": "stdout",
          "text": [
            "Got 17 / 32 with accuracy 53.12\n"
          ]
        },
        {
          "output_type": "stream",
          "name": "stderr",
          "text": [
            "Epoch=0/1:  20%|█▉        | 43/217 [05:00<19:31,  6.73s/it, acc=0.562, loss=0.666]"
          ]
        },
        {
          "output_type": "stream",
          "name": "stdout",
          "text": [
            "Got 18 / 32 with accuracy 56.25\n"
          ]
        },
        {
          "output_type": "stream",
          "name": "stderr",
          "text": [
            "Epoch=0/1:  20%|██        | 44/217 [05:07<19:50,  6.88s/it, acc=0.562, loss=0.688]"
          ]
        },
        {
          "output_type": "stream",
          "name": "stdout",
          "text": [
            "Got 18 / 32 with accuracy 56.25\n"
          ]
        },
        {
          "output_type": "stream",
          "name": "stderr",
          "text": [
            "Epoch=0/1:  21%|██        | 45/217 [05:14<19:22,  6.76s/it, acc=0.594, loss=0.689]"
          ]
        },
        {
          "output_type": "stream",
          "name": "stdout",
          "text": [
            "Got 19 / 32 with accuracy 59.38\n"
          ]
        },
        {
          "output_type": "stream",
          "name": "stderr",
          "text": [
            "Epoch=0/1:  21%|██        | 46/217 [05:20<19:06,  6.70s/it, acc=0.5, loss=0.698]"
          ]
        },
        {
          "output_type": "stream",
          "name": "stdout",
          "text": [
            "Got 16 / 32 with accuracy 50.00\n"
          ]
        },
        {
          "output_type": "stream",
          "name": "stderr",
          "text": [
            "Epoch=0/1:  22%|██▏       | 47/217 [05:27<19:14,  6.79s/it, acc=0.562, loss=0.685]"
          ]
        },
        {
          "output_type": "stream",
          "name": "stdout",
          "text": [
            "Got 18 / 32 with accuracy 56.25\n"
          ]
        },
        {
          "output_type": "stream",
          "name": "stderr",
          "text": [
            "Epoch=0/1:  22%|██▏       | 48/217 [05:33<18:21,  6.52s/it, acc=0.562, loss=0.666]"
          ]
        },
        {
          "output_type": "stream",
          "name": "stdout",
          "text": [
            "Got 18 / 32 with accuracy 56.25\n"
          ]
        },
        {
          "output_type": "stream",
          "name": "stderr",
          "text": [
            "Epoch=0/1:  23%|██▎       | 49/217 [05:41<19:01,  6.79s/it, acc=0.406, loss=0.703]"
          ]
        },
        {
          "output_type": "stream",
          "name": "stdout",
          "text": [
            "Got 13 / 32 with accuracy 40.62\n"
          ]
        },
        {
          "output_type": "stream",
          "name": "stderr",
          "text": [
            "Epoch=0/1:  23%|██▎       | 50/217 [05:47<18:27,  6.63s/it, acc=0.75, loss=0.653]"
          ]
        },
        {
          "output_type": "stream",
          "name": "stdout",
          "text": [
            "Got 24 / 32 with accuracy 75.00\n"
          ]
        },
        {
          "output_type": "stream",
          "name": "stderr",
          "text": [
            "Epoch=0/1:  24%|██▎       | 51/217 [05:54<19:05,  6.90s/it, acc=0.656, loss=0.663]"
          ]
        },
        {
          "output_type": "stream",
          "name": "stdout",
          "text": [
            "Got 21 / 32 with accuracy 65.62\n"
          ]
        },
        {
          "output_type": "stream",
          "name": "stderr",
          "text": [
            "Epoch=0/1:  24%|██▍       | 52/217 [06:01<18:21,  6.67s/it, acc=0.531, loss=0.72]"
          ]
        },
        {
          "output_type": "stream",
          "name": "stdout",
          "text": [
            "Got 17 / 32 with accuracy 53.12\n"
          ]
        },
        {
          "output_type": "stream",
          "name": "stderr",
          "text": [
            "Epoch=0/1:  24%|██▍       | 53/217 [06:08<18:54,  6.92s/it, acc=0.5, loss=0.659]"
          ]
        },
        {
          "output_type": "stream",
          "name": "stdout",
          "text": [
            "Got 16 / 32 with accuracy 50.00\n"
          ]
        },
        {
          "output_type": "stream",
          "name": "stderr",
          "text": [
            "Epoch=0/1:  25%|██▍       | 54/217 [06:14<18:12,  6.70s/it, acc=0.625, loss=0.694]"
          ]
        },
        {
          "output_type": "stream",
          "name": "stdout",
          "text": [
            "Got 20 / 32 with accuracy 62.50\n"
          ]
        },
        {
          "output_type": "stream",
          "name": "stderr",
          "text": [
            "Epoch=0/1:  25%|██▌       | 55/217 [06:22<18:51,  6.98s/it, acc=0.594, loss=0.684]"
          ]
        },
        {
          "output_type": "stream",
          "name": "stdout",
          "text": [
            "Got 19 / 32 with accuracy 59.38\n"
          ]
        },
        {
          "output_type": "stream",
          "name": "stderr",
          "text": [
            "Epoch=0/1:  26%|██▌       | 56/217 [06:28<18:01,  6.72s/it, acc=0.594, loss=0.688]"
          ]
        },
        {
          "output_type": "stream",
          "name": "stdout",
          "text": [
            "Got 19 / 32 with accuracy 59.38\n"
          ]
        },
        {
          "output_type": "stream",
          "name": "stderr",
          "text": [
            "Epoch=0/1:  26%|██▋       | 57/217 [06:35<18:22,  6.89s/it, acc=0.562, loss=0.658]"
          ]
        },
        {
          "output_type": "stream",
          "name": "stdout",
          "text": [
            "Got 18 / 32 with accuracy 56.25\n"
          ]
        },
        {
          "output_type": "stream",
          "name": "stderr",
          "text": [
            "Epoch=0/1:  27%|██▋       | 58/217 [06:42<17:52,  6.75s/it, acc=0.469, loss=0.693]"
          ]
        },
        {
          "output_type": "stream",
          "name": "stdout",
          "text": [
            "Got 15 / 32 with accuracy 46.88\n"
          ]
        },
        {
          "output_type": "stream",
          "name": "stderr",
          "text": [
            "Epoch=0/1:  27%|██▋       | 59/217 [06:48<17:49,  6.77s/it, acc=0.625, loss=0.664]"
          ]
        },
        {
          "output_type": "stream",
          "name": "stdout",
          "text": [
            "Got 20 / 32 with accuracy 62.50\n"
          ]
        },
        {
          "output_type": "stream",
          "name": "stderr",
          "text": [
            "Epoch=0/1:  28%|██▊       | 60/217 [06:55<17:50,  6.82s/it, acc=0.531, loss=0.702]"
          ]
        },
        {
          "output_type": "stream",
          "name": "stdout",
          "text": [
            "Got 17 / 32 with accuracy 53.12\n"
          ]
        },
        {
          "output_type": "stream",
          "name": "stderr",
          "text": [
            "Epoch=0/1:  28%|██▊       | 61/217 [07:02<17:16,  6.64s/it, acc=0.531, loss=0.698]"
          ]
        },
        {
          "output_type": "stream",
          "name": "stdout",
          "text": [
            "Got 17 / 32 with accuracy 53.12\n"
          ]
        },
        {
          "output_type": "stream",
          "name": "stderr",
          "text": [
            "Epoch=0/1:  29%|██▊       | 62/217 [07:09<17:34,  6.80s/it, acc=0.719, loss=0.654]"
          ]
        },
        {
          "output_type": "stream",
          "name": "stdout",
          "text": [
            "Got 23 / 32 with accuracy 71.88\n"
          ]
        },
        {
          "output_type": "stream",
          "name": "stderr",
          "text": [
            "Epoch=0/1:  29%|██▉       | 63/217 [07:15<16:49,  6.56s/it, acc=0.562, loss=0.68]"
          ]
        },
        {
          "output_type": "stream",
          "name": "stdout",
          "text": [
            "Got 18 / 32 with accuracy 56.25\n"
          ]
        },
        {
          "output_type": "stream",
          "name": "stderr",
          "text": [
            "Epoch=0/1:  29%|██▉       | 64/217 [07:22<17:23,  6.82s/it, acc=0.469, loss=0.676]"
          ]
        },
        {
          "output_type": "stream",
          "name": "stdout",
          "text": [
            "Got 15 / 32 with accuracy 46.88\n"
          ]
        },
        {
          "output_type": "stream",
          "name": "stderr",
          "text": [
            "Epoch=0/1:  30%|██▉       | 65/217 [07:28<16:42,  6.60s/it, acc=0.719, loss=0.676]"
          ]
        },
        {
          "output_type": "stream",
          "name": "stdout",
          "text": [
            "Got 23 / 32 with accuracy 71.88\n"
          ]
        },
        {
          "output_type": "stream",
          "name": "stderr",
          "text": [
            "Epoch=0/1:  30%|███       | 66/217 [07:36<17:17,  6.87s/it, acc=0.812, loss=0.652]"
          ]
        },
        {
          "output_type": "stream",
          "name": "stdout",
          "text": [
            "Got 26 / 32 with accuracy 81.25\n"
          ]
        },
        {
          "output_type": "stream",
          "name": "stderr",
          "text": [
            "Epoch=0/1:  31%|███       | 67/217 [07:42<16:24,  6.56s/it, acc=0.469, loss=0.703]"
          ]
        },
        {
          "output_type": "stream",
          "name": "stdout",
          "text": [
            "Got 15 / 32 with accuracy 46.88\n"
          ]
        },
        {
          "output_type": "stream",
          "name": "stderr",
          "text": [
            "Epoch=0/1:  31%|███▏      | 68/217 [07:49<17:07,  6.90s/it, acc=0.656, loss=0.672]"
          ]
        },
        {
          "output_type": "stream",
          "name": "stdout",
          "text": [
            "Got 21 / 32 with accuracy 65.62\n"
          ]
        },
        {
          "output_type": "stream",
          "name": "stderr",
          "text": [
            "Epoch=0/1:  32%|███▏      | 69/217 [07:55<16:21,  6.63s/it, acc=0.562, loss=0.698]"
          ]
        },
        {
          "output_type": "stream",
          "name": "stdout",
          "text": [
            "Got 18 / 32 with accuracy 56.25\n"
          ]
        },
        {
          "output_type": "stream",
          "name": "stderr",
          "text": [
            "Epoch=0/1:  32%|███▏      | 70/217 [08:02<16:12,  6.62s/it, acc=0.562, loss=0.688]"
          ]
        },
        {
          "output_type": "stream",
          "name": "stdout",
          "text": [
            "Got 18 / 32 with accuracy 56.25\n"
          ]
        },
        {
          "output_type": "stream",
          "name": "stderr",
          "text": [
            "Epoch=0/1:  33%|███▎      | 71/217 [08:09<16:26,  6.76s/it, acc=0.531, loss=0.694]"
          ]
        },
        {
          "output_type": "stream",
          "name": "stdout",
          "text": [
            "Got 17 / 32 with accuracy 53.12\n"
          ]
        },
        {
          "output_type": "stream",
          "name": "stderr",
          "text": [
            "Epoch=0/1:  33%|███▎      | 72/217 [08:17<17:22,  7.19s/it, acc=0.438, loss=0.726]"
          ]
        },
        {
          "output_type": "stream",
          "name": "stdout",
          "text": [
            "Got 14 / 32 with accuracy 43.75\n"
          ]
        },
        {
          "output_type": "stream",
          "name": "stderr",
          "text": [
            "Epoch=0/1:  34%|███▎      | 73/217 [08:24<16:47,  7.00s/it, acc=0.531, loss=0.688]"
          ]
        },
        {
          "output_type": "stream",
          "name": "stdout",
          "text": [
            "Got 17 / 32 with accuracy 53.12\n"
          ]
        },
        {
          "output_type": "stream",
          "name": "stderr",
          "text": [
            "Epoch=0/1:  34%|███▍      | 74/217 [08:31<16:42,  7.01s/it, acc=0.562, loss=0.694]"
          ]
        },
        {
          "output_type": "stream",
          "name": "stdout",
          "text": [
            "Got 18 / 32 with accuracy 56.25\n"
          ]
        },
        {
          "output_type": "stream",
          "name": "stderr",
          "text": [
            "Epoch=0/1:  35%|███▍      | 75/217 [08:38<16:28,  6.96s/it, acc=0.438, loss=0.709]"
          ]
        },
        {
          "output_type": "stream",
          "name": "stdout",
          "text": [
            "Got 14 / 32 with accuracy 43.75\n"
          ]
        },
        {
          "output_type": "stream",
          "name": "stderr",
          "text": [
            "Epoch=0/1:  35%|███▌      | 76/217 [08:44<16:07,  6.86s/it, acc=0.594, loss=0.671]"
          ]
        },
        {
          "output_type": "stream",
          "name": "stdout",
          "text": [
            "Got 19 / 32 with accuracy 59.38\n"
          ]
        },
        {
          "output_type": "stream",
          "name": "stderr",
          "text": [
            "Epoch=0/1:  35%|███▌      | 77/217 [08:51<16:07,  6.91s/it, acc=0.406, loss=0.696]"
          ]
        },
        {
          "output_type": "stream",
          "name": "stdout",
          "text": [
            "Got 13 / 32 with accuracy 40.62\n"
          ]
        },
        {
          "output_type": "stream",
          "name": "stderr",
          "text": [
            "Epoch=0/1:  36%|███▌      | 78/217 [08:57<15:28,  6.68s/it, acc=0.5, loss=0.704]"
          ]
        },
        {
          "output_type": "stream",
          "name": "stdout",
          "text": [
            "Got 16 / 32 with accuracy 50.00\n"
          ]
        },
        {
          "output_type": "stream",
          "name": "stderr",
          "text": [
            "Epoch=0/1:  36%|███▋      | 79/217 [09:05<15:52,  6.90s/it, acc=0.469, loss=0.684]"
          ]
        },
        {
          "output_type": "stream",
          "name": "stdout",
          "text": [
            "Got 15 / 32 with accuracy 46.88\n"
          ]
        },
        {
          "output_type": "stream",
          "name": "stderr",
          "text": [
            "Epoch=0/1:  37%|███▋      | 80/217 [09:11<15:08,  6.63s/it, acc=0.688, loss=0.655]"
          ]
        },
        {
          "output_type": "stream",
          "name": "stdout",
          "text": [
            "Got 22 / 32 with accuracy 68.75\n"
          ]
        },
        {
          "output_type": "stream",
          "name": "stderr",
          "text": [
            "Epoch=0/1:  37%|███▋      | 81/217 [09:18<15:25,  6.81s/it, acc=0.75, loss=0.665]"
          ]
        },
        {
          "output_type": "stream",
          "name": "stdout",
          "text": [
            "Got 24 / 32 with accuracy 75.00\n"
          ]
        },
        {
          "output_type": "stream",
          "name": "stderr",
          "text": [
            "Epoch=0/1:  38%|███▊      | 82/217 [09:24<14:52,  6.61s/it, acc=0.719, loss=0.662]"
          ]
        },
        {
          "output_type": "stream",
          "name": "stdout",
          "text": [
            "Got 23 / 32 with accuracy 71.88\n"
          ]
        },
        {
          "output_type": "stream",
          "name": "stderr",
          "text": [
            "Epoch=0/1:  38%|███▊      | 83/217 [09:32<15:24,  6.90s/it, acc=0.5, loss=0.671]"
          ]
        },
        {
          "output_type": "stream",
          "name": "stdout",
          "text": [
            "Got 16 / 32 with accuracy 50.00\n"
          ]
        },
        {
          "output_type": "stream",
          "name": "stderr",
          "text": [
            "Epoch=0/1:  39%|███▊      | 84/217 [09:38<14:47,  6.67s/it, acc=0.594, loss=0.676]"
          ]
        },
        {
          "output_type": "stream",
          "name": "stdout",
          "text": [
            "Got 19 / 32 with accuracy 59.38\n"
          ]
        },
        {
          "output_type": "stream",
          "name": "stderr",
          "text": [
            "Epoch=0/1:  39%|███▉      | 85/217 [09:45<14:45,  6.71s/it, acc=0.594, loss=0.676]"
          ]
        },
        {
          "output_type": "stream",
          "name": "stdout",
          "text": [
            "Got 19 / 32 with accuracy 59.38\n"
          ]
        },
        {
          "output_type": "stream",
          "name": "stderr",
          "text": [
            "Epoch=0/1:  40%|███▉      | 86/217 [09:51<14:37,  6.70s/it, acc=0.625, loss=0.66]"
          ]
        },
        {
          "output_type": "stream",
          "name": "stdout",
          "text": [
            "Got 20 / 32 with accuracy 62.50\n"
          ]
        },
        {
          "output_type": "stream",
          "name": "stderr",
          "text": [
            "Epoch=0/1:  40%|████      | 87/217 [09:58<14:27,  6.67s/it, acc=0.688, loss=0.668]"
          ]
        },
        {
          "output_type": "stream",
          "name": "stdout",
          "text": [
            "Got 22 / 32 with accuracy 68.75\n"
          ]
        },
        {
          "output_type": "stream",
          "name": "stderr",
          "text": [
            "Epoch=0/1:  41%|████      | 88/217 [10:05<14:35,  6.78s/it, acc=0.5, loss=0.699]"
          ]
        },
        {
          "output_type": "stream",
          "name": "stdout",
          "text": [
            "Got 16 / 32 with accuracy 50.00\n"
          ]
        },
        {
          "output_type": "stream",
          "name": "stderr",
          "text": [
            "Epoch=0/1:  41%|████      | 89/217 [10:11<14:01,  6.58s/it, acc=0.719, loss=0.685]"
          ]
        },
        {
          "output_type": "stream",
          "name": "stdout",
          "text": [
            "Got 23 / 32 with accuracy 71.88\n"
          ]
        },
        {
          "output_type": "stream",
          "name": "stderr",
          "text": [
            "Epoch=0/1:  41%|████▏     | 90/217 [10:18<14:22,  6.79s/it, acc=0.594, loss=0.708]"
          ]
        },
        {
          "output_type": "stream",
          "name": "stdout",
          "text": [
            "Got 19 / 32 with accuracy 59.38\n"
          ]
        },
        {
          "output_type": "stream",
          "name": "stderr",
          "text": [
            "Epoch=0/1:  42%|████▏     | 91/217 [10:24<13:43,  6.53s/it, acc=0.625, loss=0.667]"
          ]
        },
        {
          "output_type": "stream",
          "name": "stdout",
          "text": [
            "Got 20 / 32 with accuracy 62.50\n"
          ]
        },
        {
          "output_type": "stream",
          "name": "stderr",
          "text": [
            "Epoch=0/1:  42%|████▏     | 92/217 [10:32<14:21,  6.89s/it, acc=0.594, loss=0.679]"
          ]
        },
        {
          "output_type": "stream",
          "name": "stdout",
          "text": [
            "Got 19 / 32 with accuracy 59.38\n"
          ]
        },
        {
          "output_type": "stream",
          "name": "stderr",
          "text": [
            "Epoch=0/1:  43%|████▎     | 93/217 [10:38<13:41,  6.62s/it, acc=0.656, loss=0.67]"
          ]
        },
        {
          "output_type": "stream",
          "name": "stdout",
          "text": [
            "Got 21 / 32 with accuracy 65.62\n"
          ]
        },
        {
          "output_type": "stream",
          "name": "stderr",
          "text": [
            "Epoch=0/1:  43%|████▎     | 94/217 [10:46<14:06,  6.88s/it, acc=0.562, loss=0.675]"
          ]
        },
        {
          "output_type": "stream",
          "name": "stdout",
          "text": [
            "Got 18 / 32 with accuracy 56.25\n"
          ]
        },
        {
          "output_type": "stream",
          "name": "stderr",
          "text": [
            "Epoch=0/1:  44%|████▍     | 95/217 [10:52<13:30,  6.65s/it, acc=0.562, loss=0.673]"
          ]
        },
        {
          "output_type": "stream",
          "name": "stdout",
          "text": [
            "Got 18 / 32 with accuracy 56.25\n"
          ]
        },
        {
          "output_type": "stream",
          "name": "stderr",
          "text": [
            "Epoch=0/1:  44%|████▍     | 96/217 [10:59<13:54,  6.89s/it, acc=0.688, loss=0.654]"
          ]
        },
        {
          "output_type": "stream",
          "name": "stdout",
          "text": [
            "Got 22 / 32 with accuracy 68.75\n"
          ]
        },
        {
          "output_type": "stream",
          "name": "stderr",
          "text": [
            "Epoch=0/1:  45%|████▍     | 97/217 [11:05<13:20,  6.67s/it, acc=0.562, loss=0.672]"
          ]
        },
        {
          "output_type": "stream",
          "name": "stdout",
          "text": [
            "Got 18 / 32 with accuracy 56.25\n"
          ]
        },
        {
          "output_type": "stream",
          "name": "stderr",
          "text": [
            "Epoch=0/1:  45%|████▌     | 98/217 [11:12<13:19,  6.72s/it, acc=0.531, loss=0.692]"
          ]
        },
        {
          "output_type": "stream",
          "name": "stdout",
          "text": [
            "Got 17 / 32 with accuracy 53.12\n"
          ]
        },
        {
          "output_type": "stream",
          "name": "stderr",
          "text": [
            "Epoch=0/1:  46%|████▌     | 99/217 [11:19<13:16,  6.75s/it, acc=0.562, loss=0.686]"
          ]
        },
        {
          "output_type": "stream",
          "name": "stdout",
          "text": [
            "Got 18 / 32 with accuracy 56.25\n"
          ]
        },
        {
          "output_type": "stream",
          "name": "stderr",
          "text": [
            "Epoch=0/1:  46%|████▌     | 100/217 [11:25<12:56,  6.64s/it, acc=0.594, loss=0.682]"
          ]
        },
        {
          "output_type": "stream",
          "name": "stdout",
          "text": [
            "Got 19 / 32 with accuracy 59.38\n"
          ]
        },
        {
          "output_type": "stream",
          "name": "stderr",
          "text": [
            "Epoch=0/1:  47%|████▋     | 101/217 [11:33<13:12,  6.83s/it, acc=0.531, loss=0.688]"
          ]
        },
        {
          "output_type": "stream",
          "name": "stdout",
          "text": [
            "Got 17 / 32 with accuracy 53.12\n"
          ]
        },
        {
          "output_type": "stream",
          "name": "stderr",
          "text": [
            "Epoch=0/1:  47%|████▋     | 102/217 [11:39<12:40,  6.61s/it, acc=0.531, loss=0.685]"
          ]
        },
        {
          "output_type": "stream",
          "name": "stdout",
          "text": [
            "Got 17 / 32 with accuracy 53.12\n"
          ]
        },
        {
          "output_type": "stream",
          "name": "stderr",
          "text": [
            "Epoch=0/1:  47%|████▋     | 103/217 [11:46<13:01,  6.86s/it, acc=0.656, loss=0.645]"
          ]
        },
        {
          "output_type": "stream",
          "name": "stdout",
          "text": [
            "Got 21 / 32 with accuracy 65.62\n"
          ]
        },
        {
          "output_type": "stream",
          "name": "stderr",
          "text": [
            "Epoch=0/1:  48%|████▊     | 104/217 [11:52<12:19,  6.54s/it, acc=0.531, loss=0.675]"
          ]
        },
        {
          "output_type": "stream",
          "name": "stdout",
          "text": [
            "Got 17 / 32 with accuracy 53.12\n"
          ]
        },
        {
          "output_type": "stream",
          "name": "stderr",
          "text": [
            "Epoch=0/1:  48%|████▊     | 105/217 [11:59<12:45,  6.84s/it, acc=0.562, loss=0.672]"
          ]
        },
        {
          "output_type": "stream",
          "name": "stdout",
          "text": [
            "Got 18 / 32 with accuracy 56.25\n"
          ]
        },
        {
          "output_type": "stream",
          "name": "stderr",
          "text": [
            "Epoch=0/1:  49%|████▉     | 106/217 [12:06<12:11,  6.59s/it, acc=0.625, loss=0.671]"
          ]
        },
        {
          "output_type": "stream",
          "name": "stdout",
          "text": [
            "Got 20 / 32 with accuracy 62.50\n"
          ]
        },
        {
          "output_type": "stream",
          "name": "stderr",
          "text": [
            "Epoch=0/1:  49%|████▉     | 107/217 [12:13<12:30,  6.82s/it, acc=0.688, loss=0.67]"
          ]
        },
        {
          "output_type": "stream",
          "name": "stdout",
          "text": [
            "Got 22 / 32 with accuracy 68.75\n"
          ]
        },
        {
          "output_type": "stream",
          "name": "stderr",
          "text": [
            "Epoch=0/1:  50%|████▉     | 108/217 [12:19<11:52,  6.54s/it, acc=0.5, loss=0.67]"
          ]
        },
        {
          "output_type": "stream",
          "name": "stdout",
          "text": [
            "Got 16 / 32 with accuracy 50.00\n"
          ]
        },
        {
          "output_type": "stream",
          "name": "stderr",
          "text": [
            "Epoch=0/1:  50%|█████     | 109/217 [12:26<11:54,  6.61s/it, acc=0.438, loss=0.716]"
          ]
        },
        {
          "output_type": "stream",
          "name": "stdout",
          "text": [
            "Got 14 / 32 with accuracy 43.75\n"
          ]
        },
        {
          "output_type": "stream",
          "name": "stderr",
          "text": [
            "Epoch=0/1:  51%|█████     | 110/217 [12:32<11:51,  6.65s/it, acc=0.625, loss=0.671]"
          ]
        },
        {
          "output_type": "stream",
          "name": "stdout",
          "text": [
            "Got 20 / 32 with accuracy 62.50\n"
          ]
        },
        {
          "output_type": "stream",
          "name": "stderr",
          "text": [
            "Epoch=0/1:  51%|█████     | 111/217 [12:39<11:52,  6.72s/it, acc=0.562, loss=0.662]"
          ]
        },
        {
          "output_type": "stream",
          "name": "stdout",
          "text": [
            "Got 18 / 32 with accuracy 56.25\n"
          ]
        },
        {
          "output_type": "stream",
          "name": "stderr",
          "text": [
            "Epoch=0/1:  52%|█████▏    | 112/217 [12:48<12:41,  7.25s/it, acc=0.531, loss=0.692]"
          ]
        },
        {
          "output_type": "stream",
          "name": "stdout",
          "text": [
            "Got 17 / 32 with accuracy 53.12\n"
          ]
        },
        {
          "output_type": "stream",
          "name": "stderr",
          "text": [
            "Epoch=0/1:  52%|█████▏    | 113/217 [12:54<12:00,  6.92s/it, acc=0.594, loss=0.669]"
          ]
        },
        {
          "output_type": "stream",
          "name": "stdout",
          "text": [
            "Got 19 / 32 with accuracy 59.38\n"
          ]
        },
        {
          "output_type": "stream",
          "name": "stderr",
          "text": [
            "Epoch=0/1:  53%|█████▎    | 114/217 [13:01<12:13,  7.12s/it, acc=0.719, loss=0.644]"
          ]
        },
        {
          "output_type": "stream",
          "name": "stdout",
          "text": [
            "Got 23 / 32 with accuracy 71.88\n"
          ]
        },
        {
          "output_type": "stream",
          "name": "stderr",
          "text": [
            "Epoch=0/1:  53%|█████▎    | 115/217 [13:07<11:33,  6.80s/it, acc=0.719, loss=0.666]"
          ]
        },
        {
          "output_type": "stream",
          "name": "stdout",
          "text": [
            "Got 23 / 32 with accuracy 71.88\n"
          ]
        },
        {
          "output_type": "stream",
          "name": "stderr",
          "text": [
            "Epoch=0/1:  53%|█████▎    | 116/217 [13:15<11:39,  6.93s/it, acc=0.625, loss=0.661]"
          ]
        },
        {
          "output_type": "stream",
          "name": "stdout",
          "text": [
            "Got 20 / 32 with accuracy 62.50\n"
          ]
        },
        {
          "output_type": "stream",
          "name": "stderr",
          "text": [
            "Epoch=0/1:  54%|█████▍    | 117/217 [13:21<11:05,  6.66s/it, acc=0.531, loss=0.677]"
          ]
        },
        {
          "output_type": "stream",
          "name": "stdout",
          "text": [
            "Got 17 / 32 with accuracy 53.12\n"
          ]
        },
        {
          "output_type": "stream",
          "name": "stderr",
          "text": [
            "Epoch=0/1:  54%|█████▍    | 118/217 [13:28<11:08,  6.75s/it, acc=0.562, loss=0.676]"
          ]
        },
        {
          "output_type": "stream",
          "name": "stdout",
          "text": [
            "Got 18 / 32 with accuracy 56.25\n"
          ]
        },
        {
          "output_type": "stream",
          "name": "stderr",
          "text": [
            "Epoch=0/1:  55%|█████▍    | 119/217 [13:34<10:59,  6.73s/it, acc=0.5, loss=0.689]"
          ]
        },
        {
          "output_type": "stream",
          "name": "stdout",
          "text": [
            "Got 16 / 32 with accuracy 50.00\n"
          ]
        },
        {
          "output_type": "stream",
          "name": "stderr",
          "text": [
            "Epoch=0/1:  55%|█████▌    | 120/217 [13:41<10:40,  6.61s/it, acc=0.625, loss=0.658]"
          ]
        },
        {
          "output_type": "stream",
          "name": "stdout",
          "text": [
            "Got 20 / 32 with accuracy 62.50\n"
          ]
        },
        {
          "output_type": "stream",
          "name": "stderr",
          "text": [
            "Epoch=0/1:  56%|█████▌    | 121/217 [13:48<10:56,  6.84s/it, acc=0.625, loss=0.669]"
          ]
        },
        {
          "output_type": "stream",
          "name": "stdout",
          "text": [
            "Got 20 / 32 with accuracy 62.50\n"
          ]
        },
        {
          "output_type": "stream",
          "name": "stderr",
          "text": [
            "Epoch=0/1:  56%|█████▌    | 122/217 [13:54<10:24,  6.57s/it, acc=0.594, loss=0.675]"
          ]
        },
        {
          "output_type": "stream",
          "name": "stdout",
          "text": [
            "Got 19 / 32 with accuracy 59.38\n"
          ]
        },
        {
          "output_type": "stream",
          "name": "stderr",
          "text": [
            "Epoch=0/1:  57%|█████▋    | 123/217 [14:01<10:39,  6.81s/it, acc=0.5, loss=0.697]"
          ]
        },
        {
          "output_type": "stream",
          "name": "stdout",
          "text": [
            "Got 16 / 32 with accuracy 50.00\n"
          ]
        },
        {
          "output_type": "stream",
          "name": "stderr",
          "text": [
            "Epoch=0/1:  57%|█████▋    | 124/217 [14:07<10:00,  6.46s/it, acc=0.531, loss=0.692]"
          ]
        },
        {
          "output_type": "stream",
          "name": "stdout",
          "text": [
            "Got 17 / 32 with accuracy 53.12\n"
          ]
        },
        {
          "output_type": "stream",
          "name": "stderr",
          "text": [
            "Epoch=0/1:  58%|█████▊    | 125/217 [14:14<10:21,  6.76s/it, acc=0.656, loss=0.662]"
          ]
        },
        {
          "output_type": "stream",
          "name": "stdout",
          "text": [
            "Got 21 / 32 with accuracy 65.62\n"
          ]
        },
        {
          "output_type": "stream",
          "name": "stderr",
          "text": [
            "Epoch=0/1:  58%|█████▊    | 126/217 [14:20<09:53,  6.52s/it, acc=0.562, loss=0.662]"
          ]
        },
        {
          "output_type": "stream",
          "name": "stdout",
          "text": [
            "Got 18 / 32 with accuracy 56.25\n"
          ]
        },
        {
          "output_type": "stream",
          "name": "stderr",
          "text": [
            "Epoch=0/1:  59%|█████▊    | 127/217 [14:28<10:12,  6.81s/it, acc=0.594, loss=0.685]"
          ]
        },
        {
          "output_type": "stream",
          "name": "stdout",
          "text": [
            "Got 19 / 32 with accuracy 59.38\n"
          ]
        },
        {
          "output_type": "stream",
          "name": "stderr",
          "text": [
            "Epoch=0/1:  59%|█████▉    | 128/217 [14:34<09:55,  6.69s/it, acc=0.562, loss=0.684]"
          ]
        },
        {
          "output_type": "stream",
          "name": "stdout",
          "text": [
            "Got 18 / 32 with accuracy 56.25\n"
          ]
        },
        {
          "output_type": "stream",
          "name": "stderr",
          "text": [
            "Epoch=0/1:  59%|█████▉    | 129/217 [14:41<09:56,  6.78s/it, acc=0.375, loss=0.698]"
          ]
        },
        {
          "output_type": "stream",
          "name": "stdout",
          "text": [
            "Got 12 / 32 with accuracy 37.50\n"
          ]
        },
        {
          "output_type": "stream",
          "name": "stderr",
          "text": [
            "Epoch=0/1:  60%|█████▉    | 130/217 [14:48<09:45,  6.73s/it, acc=0.594, loss=0.687]"
          ]
        },
        {
          "output_type": "stream",
          "name": "stdout",
          "text": [
            "Got 19 / 32 with accuracy 59.38\n"
          ]
        },
        {
          "output_type": "stream",
          "name": "stderr",
          "text": [
            "Epoch=0/1:  60%|██████    | 131/217 [14:54<09:34,  6.68s/it, acc=0.625, loss=0.658]"
          ]
        },
        {
          "output_type": "stream",
          "name": "stdout",
          "text": [
            "Got 20 / 32 with accuracy 62.50\n"
          ]
        },
        {
          "output_type": "stream",
          "name": "stderr",
          "text": [
            "Epoch=0/1:  61%|██████    | 132/217 [15:02<09:44,  6.87s/it, acc=0.531, loss=0.682]"
          ]
        },
        {
          "output_type": "stream",
          "name": "stdout",
          "text": [
            "Got 17 / 32 with accuracy 53.12\n"
          ]
        },
        {
          "output_type": "stream",
          "name": "stderr",
          "text": [
            "Epoch=0/1:  61%|██████▏   | 133/217 [15:08<09:15,  6.62s/it, acc=0.594, loss=0.685]"
          ]
        },
        {
          "output_type": "stream",
          "name": "stdout",
          "text": [
            "Got 19 / 32 with accuracy 59.38\n"
          ]
        },
        {
          "output_type": "stream",
          "name": "stderr",
          "text": [
            "Epoch=0/1:  62%|██████▏   | 134/217 [15:15<09:35,  6.94s/it, acc=0.562, loss=0.683]"
          ]
        },
        {
          "output_type": "stream",
          "name": "stdout",
          "text": [
            "Got 18 / 32 with accuracy 56.25\n"
          ]
        },
        {
          "output_type": "stream",
          "name": "stderr",
          "text": [
            "Epoch=0/1:  62%|██████▏   | 135/217 [15:22<09:07,  6.68s/it, acc=0.562, loss=0.696]"
          ]
        },
        {
          "output_type": "stream",
          "name": "stdout",
          "text": [
            "Got 18 / 32 with accuracy 56.25\n"
          ]
        },
        {
          "output_type": "stream",
          "name": "stderr",
          "text": [
            "Epoch=0/1:  63%|██████▎   | 136/217 [15:29<09:23,  6.95s/it, acc=0.625, loss=0.664]"
          ]
        },
        {
          "output_type": "stream",
          "name": "stdout",
          "text": [
            "Got 20 / 32 with accuracy 62.50\n"
          ]
        },
        {
          "output_type": "stream",
          "name": "stderr",
          "text": [
            "Epoch=0/1:  63%|██████▎   | 137/217 [15:35<08:55,  6.70s/it, acc=0.656, loss=0.662]"
          ]
        },
        {
          "output_type": "stream",
          "name": "stdout",
          "text": [
            "Got 21 / 32 with accuracy 65.62\n"
          ]
        },
        {
          "output_type": "stream",
          "name": "stderr",
          "text": [
            "Epoch=0/1:  64%|██████▎   | 138/217 [15:43<09:07,  6.93s/it, acc=0.688, loss=0.651]"
          ]
        },
        {
          "output_type": "stream",
          "name": "stdout",
          "text": [
            "Got 22 / 32 with accuracy 68.75\n"
          ]
        },
        {
          "output_type": "stream",
          "name": "stderr",
          "text": [
            "Epoch=0/1:  64%|██████▍   | 139/217 [15:49<08:37,  6.63s/it, acc=0.5, loss=0.701]"
          ]
        },
        {
          "output_type": "stream",
          "name": "stdout",
          "text": [
            "Got 16 / 32 with accuracy 50.00\n"
          ]
        },
        {
          "output_type": "stream",
          "name": "stderr",
          "text": [
            "Epoch=0/1:  65%|██████▍   | 140/217 [15:56<08:53,  6.92s/it, acc=0.656, loss=0.657]"
          ]
        },
        {
          "output_type": "stream",
          "name": "stdout",
          "text": [
            "Got 21 / 32 with accuracy 65.62\n"
          ]
        },
        {
          "output_type": "stream",
          "name": "stderr",
          "text": [
            "Epoch=0/1:  65%|██████▍   | 141/217 [16:02<08:29,  6.71s/it, acc=0.406, loss=0.701]"
          ]
        },
        {
          "output_type": "stream",
          "name": "stdout",
          "text": [
            "Got 13 / 32 with accuracy 40.62\n"
          ]
        },
        {
          "output_type": "stream",
          "name": "stderr",
          "text": [
            "Epoch=0/1:  65%|██████▌   | 142/217 [16:10<08:31,  6.82s/it, acc=0.469, loss=0.679]"
          ]
        },
        {
          "output_type": "stream",
          "name": "stdout",
          "text": [
            "Got 15 / 32 with accuracy 46.88\n"
          ]
        },
        {
          "output_type": "stream",
          "name": "stderr",
          "text": [
            "Epoch=0/1:  66%|██████▌   | 143/217 [16:16<08:19,  6.75s/it, acc=0.562, loss=0.688]"
          ]
        },
        {
          "output_type": "stream",
          "name": "stdout",
          "text": [
            "Got 18 / 32 with accuracy 56.25\n"
          ]
        },
        {
          "output_type": "stream",
          "name": "stderr",
          "text": [
            "Epoch=0/1:  66%|██████▋   | 144/217 [16:23<08:06,  6.66s/it, acc=0.5, loss=0.683]"
          ]
        },
        {
          "output_type": "stream",
          "name": "stdout",
          "text": [
            "Got 16 / 32 with accuracy 50.00\n"
          ]
        },
        {
          "output_type": "stream",
          "name": "stderr",
          "text": [
            "Epoch=0/1:  67%|██████▋   | 145/217 [16:30<08:12,  6.84s/it, acc=0.406, loss=0.714]"
          ]
        },
        {
          "output_type": "stream",
          "name": "stdout",
          "text": [
            "Got 13 / 32 with accuracy 40.62\n"
          ]
        },
        {
          "output_type": "stream",
          "name": "stderr",
          "text": [
            "Epoch=0/1:  67%|██████▋   | 146/217 [16:36<07:48,  6.59s/it, acc=0.656, loss=0.664]"
          ]
        },
        {
          "output_type": "stream",
          "name": "stdout",
          "text": [
            "Got 21 / 32 with accuracy 65.62\n"
          ]
        },
        {
          "output_type": "stream",
          "name": "stderr",
          "text": [
            "Epoch=0/1:  68%|██████▊   | 147/217 [16:43<07:50,  6.72s/it, acc=0.5, loss=0.675]"
          ]
        },
        {
          "output_type": "stream",
          "name": "stdout",
          "text": [
            "Got 16 / 32 with accuracy 50.00\n"
          ]
        },
        {
          "output_type": "stream",
          "name": "stderr",
          "text": [
            "Epoch=0/1:  68%|██████▊   | 148/217 [16:49<07:30,  6.53s/it, acc=0.469, loss=0.702]"
          ]
        },
        {
          "output_type": "stream",
          "name": "stdout",
          "text": [
            "Got 15 / 32 with accuracy 46.88\n"
          ]
        },
        {
          "output_type": "stream",
          "name": "stderr",
          "text": [
            "Epoch=0/1:  69%|██████▊   | 149/217 [16:56<07:42,  6.79s/it, acc=0.688, loss=0.65]"
          ]
        },
        {
          "output_type": "stream",
          "name": "stdout",
          "text": [
            "Got 22 / 32 with accuracy 68.75\n"
          ]
        },
        {
          "output_type": "stream",
          "name": "stderr",
          "text": [
            "Epoch=0/1:  69%|██████▉   | 150/217 [17:03<07:23,  6.62s/it, acc=0.531, loss=0.697]"
          ]
        },
        {
          "output_type": "stream",
          "name": "stdout",
          "text": [
            "Got 17 / 32 with accuracy 53.12\n"
          ]
        },
        {
          "output_type": "stream",
          "name": "stderr",
          "text": [
            "Epoch=0/1:  70%|██████▉   | 151/217 [17:10<07:40,  6.98s/it, acc=0.438, loss=0.693]"
          ]
        },
        {
          "output_type": "stream",
          "name": "stdout",
          "text": [
            "Got 14 / 32 with accuracy 43.75\n"
          ]
        },
        {
          "output_type": "stream",
          "name": "stderr",
          "text": [
            "Epoch=0/1:  70%|███████   | 152/217 [17:18<07:41,  7.10s/it, acc=0.719, loss=0.677]"
          ]
        },
        {
          "output_type": "stream",
          "name": "stdout",
          "text": [
            "Got 23 / 32 with accuracy 71.88\n"
          ]
        },
        {
          "output_type": "stream",
          "name": "stderr",
          "text": [
            "Epoch=0/1:  71%|███████   | 153/217 [17:25<07:41,  7.21s/it, acc=0.5, loss=0.696]"
          ]
        },
        {
          "output_type": "stream",
          "name": "stdout",
          "text": [
            "Got 16 / 32 with accuracy 50.00\n"
          ]
        },
        {
          "output_type": "stream",
          "name": "stderr",
          "text": [
            "Epoch=0/1:  71%|███████   | 154/217 [17:31<07:11,  6.86s/it, acc=0.531, loss=0.689]"
          ]
        },
        {
          "output_type": "stream",
          "name": "stdout",
          "text": [
            "Got 17 / 32 with accuracy 53.12\n"
          ]
        },
        {
          "output_type": "stream",
          "name": "stderr",
          "text": [
            "Epoch=0/1:  71%|███████▏  | 155/217 [17:39<07:16,  7.03s/it, acc=0.594, loss=0.664]"
          ]
        },
        {
          "output_type": "stream",
          "name": "stdout",
          "text": [
            "Got 19 / 32 with accuracy 59.38\n"
          ]
        },
        {
          "output_type": "stream",
          "name": "stderr",
          "text": [
            "Epoch=0/1:  72%|███████▏  | 156/217 [17:45<06:50,  6.72s/it, acc=0.469, loss=0.704]"
          ]
        },
        {
          "output_type": "stream",
          "name": "stdout",
          "text": [
            "Got 15 / 32 with accuracy 46.88\n"
          ]
        },
        {
          "output_type": "stream",
          "name": "stderr",
          "text": [
            "Epoch=0/1:  72%|███████▏  | 157/217 [17:52<06:47,  6.78s/it, acc=0.625, loss=0.646]"
          ]
        },
        {
          "output_type": "stream",
          "name": "stdout",
          "text": [
            "Got 20 / 32 with accuracy 62.50\n"
          ]
        },
        {
          "output_type": "stream",
          "name": "stderr",
          "text": [
            "Epoch=0/1:  73%|███████▎  | 158/217 [17:59<06:42,  6.83s/it, acc=0.281, loss=0.734]"
          ]
        },
        {
          "output_type": "stream",
          "name": "stdout",
          "text": [
            "Got 9 / 32 with accuracy 28.12\n"
          ]
        },
        {
          "output_type": "stream",
          "name": "stderr",
          "text": [
            "Epoch=0/1:  73%|███████▎  | 159/217 [18:05<06:29,  6.72s/it, acc=0.5, loss=0.677]"
          ]
        },
        {
          "output_type": "stream",
          "name": "stdout",
          "text": [
            "Got 16 / 32 with accuracy 50.00\n"
          ]
        },
        {
          "output_type": "stream",
          "name": "stderr",
          "text": [
            "Epoch=0/1:  74%|███████▎  | 160/217 [18:12<06:27,  6.80s/it, acc=0.594, loss=0.674]"
          ]
        },
        {
          "output_type": "stream",
          "name": "stdout",
          "text": [
            "Got 19 / 32 with accuracy 59.38\n"
          ]
        },
        {
          "output_type": "stream",
          "name": "stderr",
          "text": [
            "Epoch=0/1:  74%|███████▍  | 161/217 [18:18<06:09,  6.59s/it, acc=0.625, loss=0.649]"
          ]
        },
        {
          "output_type": "stream",
          "name": "stdout",
          "text": [
            "Got 20 / 32 with accuracy 62.50\n"
          ]
        },
        {
          "output_type": "stream",
          "name": "stderr",
          "text": [
            "Epoch=0/1:  75%|███████▍  | 162/217 [18:26<06:17,  6.86s/it, acc=0.688, loss=0.659]"
          ]
        },
        {
          "output_type": "stream",
          "name": "stdout",
          "text": [
            "Got 22 / 32 with accuracy 68.75\n"
          ]
        },
        {
          "output_type": "stream",
          "name": "stderr",
          "text": [
            "Epoch=0/1:  75%|███████▌  | 163/217 [18:32<05:58,  6.65s/it, acc=0.562, loss=0.671]"
          ]
        },
        {
          "output_type": "stream",
          "name": "stdout",
          "text": [
            "Got 18 / 32 with accuracy 56.25\n"
          ]
        },
        {
          "output_type": "stream",
          "name": "stderr",
          "text": [
            "Epoch=0/1:  76%|███████▌  | 164/217 [18:39<06:05,  6.90s/it, acc=0.531, loss=0.674]"
          ]
        },
        {
          "output_type": "stream",
          "name": "stdout",
          "text": [
            "Got 17 / 32 with accuracy 53.12\n"
          ]
        },
        {
          "output_type": "stream",
          "name": "stderr",
          "text": [
            "Epoch=0/1:  76%|███████▌  | 165/217 [18:45<05:43,  6.61s/it, acc=0.625, loss=0.645]"
          ]
        },
        {
          "output_type": "stream",
          "name": "stdout",
          "text": [
            "Got 20 / 32 with accuracy 62.50\n"
          ]
        },
        {
          "output_type": "stream",
          "name": "stderr",
          "text": [
            "Epoch=0/1:  76%|███████▋  | 166/217 [18:53<05:52,  6.91s/it, acc=0.562, loss=0.677]"
          ]
        },
        {
          "output_type": "stream",
          "name": "stdout",
          "text": [
            "Got 18 / 32 with accuracy 56.25\n"
          ]
        },
        {
          "output_type": "stream",
          "name": "stderr",
          "text": [
            "Epoch=0/1:  77%|███████▋  | 167/217 [18:59<05:31,  6.63s/it, acc=0.438, loss=0.733]"
          ]
        },
        {
          "output_type": "stream",
          "name": "stdout",
          "text": [
            "Got 14 / 32 with accuracy 43.75\n"
          ]
        },
        {
          "output_type": "stream",
          "name": "stderr",
          "text": [
            "Epoch=0/1:  77%|███████▋  | 168/217 [19:06<05:35,  6.85s/it, acc=0.562, loss=0.663]"
          ]
        },
        {
          "output_type": "stream",
          "name": "stdout",
          "text": [
            "Got 18 / 32 with accuracy 56.25\n"
          ]
        },
        {
          "output_type": "stream",
          "name": "stderr",
          "text": [
            "Epoch=0/1:  78%|███████▊  | 169/217 [19:12<05:20,  6.68s/it, acc=0.469, loss=0.709]"
          ]
        },
        {
          "output_type": "stream",
          "name": "stdout",
          "text": [
            "Got 15 / 32 with accuracy 46.88\n"
          ]
        },
        {
          "output_type": "stream",
          "name": "stderr",
          "text": [
            "Epoch=0/1:  78%|███████▊  | 170/217 [19:19<05:15,  6.72s/it, acc=0.594, loss=0.678]"
          ]
        },
        {
          "output_type": "stream",
          "name": "stdout",
          "text": [
            "Got 19 / 32 with accuracy 59.38\n"
          ]
        },
        {
          "output_type": "stream",
          "name": "stderr",
          "text": [
            "Epoch=0/1:  79%|███████▉  | 171/217 [19:26<05:12,  6.79s/it, acc=0.531, loss=0.692]"
          ]
        },
        {
          "output_type": "stream",
          "name": "stdout",
          "text": [
            "Got 17 / 32 with accuracy 53.12\n"
          ]
        },
        {
          "output_type": "stream",
          "name": "stderr",
          "text": [
            "Epoch=0/1:  79%|███████▉  | 172/217 [19:33<04:59,  6.64s/it, acc=0.469, loss=0.698]"
          ]
        },
        {
          "output_type": "stream",
          "name": "stdout",
          "text": [
            "Got 15 / 32 with accuracy 46.88\n"
          ]
        },
        {
          "output_type": "stream",
          "name": "stderr",
          "text": [
            "Epoch=0/1:  80%|███████▉  | 173/217 [19:40<05:00,  6.83s/it, acc=0.656, loss=0.667]"
          ]
        },
        {
          "output_type": "stream",
          "name": "stdout",
          "text": [
            "Got 21 / 32 with accuracy 65.62\n"
          ]
        },
        {
          "output_type": "stream",
          "name": "stderr",
          "text": [
            "Epoch=0/1:  80%|████████  | 174/217 [19:46<04:44,  6.62s/it, acc=0.562, loss=0.699]"
          ]
        },
        {
          "output_type": "stream",
          "name": "stdout",
          "text": [
            "Got 18 / 32 with accuracy 56.25\n"
          ]
        },
        {
          "output_type": "stream",
          "name": "stderr",
          "text": [
            "Epoch=0/1:  81%|████████  | 175/217 [19:54<04:51,  6.93s/it, acc=0.594, loss=0.67]"
          ]
        },
        {
          "output_type": "stream",
          "name": "stdout",
          "text": [
            "Got 19 / 32 with accuracy 59.38\n"
          ]
        },
        {
          "output_type": "stream",
          "name": "stderr",
          "text": [
            "Epoch=0/1:  81%|████████  | 176/217 [20:00<04:34,  6.70s/it, acc=0.562, loss=0.677]"
          ]
        },
        {
          "output_type": "stream",
          "name": "stdout",
          "text": [
            "Got 18 / 32 with accuracy 56.25\n"
          ]
        },
        {
          "output_type": "stream",
          "name": "stderr",
          "text": [
            "Epoch=0/1:  82%|████████▏ | 177/217 [20:07<04:37,  6.93s/it, acc=0.656, loss=0.647]"
          ]
        },
        {
          "output_type": "stream",
          "name": "stdout",
          "text": [
            "Got 21 / 32 with accuracy 65.62\n"
          ]
        },
        {
          "output_type": "stream",
          "name": "stderr",
          "text": [
            "Epoch=0/1:  82%|████████▏ | 178/217 [20:13<04:20,  6.67s/it, acc=0.562, loss=0.657]"
          ]
        },
        {
          "output_type": "stream",
          "name": "stdout",
          "text": [
            "Got 18 / 32 with accuracy 56.25\n"
          ]
        },
        {
          "output_type": "stream",
          "name": "stderr",
          "text": [
            "Epoch=0/1:  82%|████████▏ | 179/217 [20:21<04:23,  6.94s/it, acc=0.438, loss=0.717]"
          ]
        },
        {
          "output_type": "stream",
          "name": "stdout",
          "text": [
            "Got 14 / 32 with accuracy 43.75\n"
          ]
        },
        {
          "output_type": "stream",
          "name": "stderr",
          "text": [
            "Epoch=0/1:  83%|████████▎ | 180/217 [20:27<04:08,  6.72s/it, acc=0.594, loss=0.667]"
          ]
        },
        {
          "output_type": "stream",
          "name": "stdout",
          "text": [
            "Got 19 / 32 with accuracy 59.38\n"
          ]
        },
        {
          "output_type": "stream",
          "name": "stderr",
          "text": [
            "Epoch=0/1:  83%|████████▎ | 181/217 [20:34<04:05,  6.82s/it, acc=0.5, loss=0.675]"
          ]
        },
        {
          "output_type": "stream",
          "name": "stdout",
          "text": [
            "Got 16 / 32 with accuracy 50.00\n"
          ]
        },
        {
          "output_type": "stream",
          "name": "stderr",
          "text": [
            "Epoch=0/1:  84%|████████▍ | 182/217 [20:40<03:51,  6.63s/it, acc=0.562, loss=0.697]"
          ]
        },
        {
          "output_type": "stream",
          "name": "stdout",
          "text": [
            "Got 18 / 32 with accuracy 56.25\n"
          ]
        },
        {
          "output_type": "stream",
          "name": "stderr",
          "text": [
            "Epoch=0/1:  84%|████████▍ | 183/217 [20:47<03:44,  6.61s/it, acc=0.531, loss=0.679]"
          ]
        },
        {
          "output_type": "stream",
          "name": "stdout",
          "text": [
            "Got 17 / 32 with accuracy 53.12\n"
          ]
        },
        {
          "output_type": "stream",
          "name": "stderr",
          "text": [
            "Epoch=0/1:  85%|████████▍ | 184/217 [20:54<03:39,  6.65s/it, acc=0.656, loss=0.669]"
          ]
        },
        {
          "output_type": "stream",
          "name": "stdout",
          "text": [
            "Got 21 / 32 with accuracy 65.62\n"
          ]
        },
        {
          "output_type": "stream",
          "name": "stderr",
          "text": [
            "Epoch=0/1:  85%|████████▌ | 185/217 [21:00<03:28,  6.50s/it, acc=0.5, loss=0.697]"
          ]
        },
        {
          "output_type": "stream",
          "name": "stdout",
          "text": [
            "Got 16 / 32 with accuracy 50.00\n"
          ]
        },
        {
          "output_type": "stream",
          "name": "stderr",
          "text": [
            "Epoch=0/1:  86%|████████▌ | 186/217 [21:07<03:28,  6.74s/it, acc=0.469, loss=0.696]"
          ]
        },
        {
          "output_type": "stream",
          "name": "stdout",
          "text": [
            "Got 15 / 32 with accuracy 46.88\n"
          ]
        },
        {
          "output_type": "stream",
          "name": "stderr",
          "text": [
            "Epoch=0/1:  86%|████████▌ | 187/217 [21:13<03:14,  6.47s/it, acc=0.469, loss=0.696]"
          ]
        },
        {
          "output_type": "stream",
          "name": "stdout",
          "text": [
            "Got 15 / 32 with accuracy 46.88\n"
          ]
        },
        {
          "output_type": "stream",
          "name": "stderr",
          "text": [
            "Epoch=0/1:  87%|████████▋ | 188/217 [21:20<03:14,  6.70s/it, acc=0.656, loss=0.674]"
          ]
        },
        {
          "output_type": "stream",
          "name": "stdout",
          "text": [
            "Got 21 / 32 with accuracy 65.62\n"
          ]
        },
        {
          "output_type": "stream",
          "name": "stderr",
          "text": [
            "Epoch=0/1:  87%|████████▋ | 189/217 [21:26<03:02,  6.52s/it, acc=0.625, loss=0.699]"
          ]
        },
        {
          "output_type": "stream",
          "name": "stdout",
          "text": [
            "Got 20 / 32 with accuracy 62.50\n"
          ]
        },
        {
          "output_type": "stream",
          "name": "stderr",
          "text": [
            "Epoch=0/1:  88%|████████▊ | 190/217 [21:34<03:03,  6.80s/it, acc=0.656, loss=0.657]"
          ]
        },
        {
          "output_type": "stream",
          "name": "stdout",
          "text": [
            "Got 21 / 32 with accuracy 65.62\n"
          ]
        },
        {
          "output_type": "stream",
          "name": "stderr",
          "text": [
            "Epoch=0/1:  88%|████████▊ | 191/217 [21:40<02:50,  6.57s/it, acc=0.625, loss=0.678]"
          ]
        },
        {
          "output_type": "stream",
          "name": "stdout",
          "text": [
            "Got 20 / 32 with accuracy 62.50\n"
          ]
        },
        {
          "output_type": "stream",
          "name": "stderr",
          "text": [
            "Epoch=0/1:  88%|████████▊ | 192/217 [21:48<02:54,  6.96s/it, acc=0.625, loss=0.678]"
          ]
        },
        {
          "output_type": "stream",
          "name": "stdout",
          "text": [
            "Got 20 / 32 with accuracy 62.50\n"
          ]
        },
        {
          "output_type": "stream",
          "name": "stderr",
          "text": [
            "Epoch=0/1:  89%|████████▉ | 193/217 [21:55<02:49,  7.06s/it, acc=0.594, loss=0.661]"
          ]
        },
        {
          "output_type": "stream",
          "name": "stdout",
          "text": [
            "Got 19 / 32 with accuracy 59.38\n"
          ]
        },
        {
          "output_type": "stream",
          "name": "stderr",
          "text": [
            "Epoch=0/1:  89%|████████▉ | 194/217 [22:01<02:36,  6.81s/it, acc=0.594, loss=0.673]"
          ]
        },
        {
          "output_type": "stream",
          "name": "stdout",
          "text": [
            "Got 19 / 32 with accuracy 59.38\n"
          ]
        },
        {
          "output_type": "stream",
          "name": "stderr",
          "text": [
            "Epoch=0/1:  90%|████████▉ | 195/217 [22:09<02:36,  7.10s/it, acc=0.625, loss=0.652]"
          ]
        },
        {
          "output_type": "stream",
          "name": "stdout",
          "text": [
            "Got 20 / 32 with accuracy 62.50\n"
          ]
        },
        {
          "output_type": "stream",
          "name": "stderr",
          "text": [
            "Epoch=0/1:  90%|█████████ | 196/217 [22:15<02:22,  6.79s/it, acc=0.5, loss=0.685]"
          ]
        },
        {
          "output_type": "stream",
          "name": "stdout",
          "text": [
            "Got 16 / 32 with accuracy 50.00\n"
          ]
        },
        {
          "output_type": "stream",
          "name": "stderr",
          "text": [
            "Epoch=0/1:  91%|█████████ | 197/217 [22:22<02:20,  7.00s/it, acc=0.531, loss=0.672]"
          ]
        },
        {
          "output_type": "stream",
          "name": "stdout",
          "text": [
            "Got 17 / 32 with accuracy 53.12\n"
          ]
        },
        {
          "output_type": "stream",
          "name": "stderr",
          "text": [
            "Epoch=0/1:  91%|█████████ | 198/217 [22:29<02:07,  6.74s/it, acc=0.562, loss=0.684]"
          ]
        },
        {
          "output_type": "stream",
          "name": "stdout",
          "text": [
            "Got 18 / 32 with accuracy 56.25\n"
          ]
        },
        {
          "output_type": "stream",
          "name": "stderr",
          "text": [
            "Epoch=0/1:  92%|█████████▏| 199/217 [22:36<02:06,  7.02s/it, acc=0.594, loss=0.688]"
          ]
        },
        {
          "output_type": "stream",
          "name": "stdout",
          "text": [
            "Got 19 / 32 with accuracy 59.38\n"
          ]
        },
        {
          "output_type": "stream",
          "name": "stderr",
          "text": [
            "Epoch=0/1:  92%|█████████▏| 200/217 [22:42<01:53,  6.69s/it, acc=0.531, loss=0.674]"
          ]
        },
        {
          "output_type": "stream",
          "name": "stdout",
          "text": [
            "Got 17 / 32 with accuracy 53.12\n"
          ]
        },
        {
          "output_type": "stream",
          "name": "stderr",
          "text": [
            "Epoch=0/1:  93%|█████████▎| 201/217 [22:49<01:49,  6.83s/it, acc=0.562, loss=0.675]"
          ]
        },
        {
          "output_type": "stream",
          "name": "stdout",
          "text": [
            "Got 18 / 32 with accuracy 56.25\n"
          ]
        },
        {
          "output_type": "stream",
          "name": "stderr",
          "text": [
            "Epoch=0/1:  93%|█████████▎| 202/217 [22:56<01:40,  6.70s/it, acc=0.688, loss=0.668]"
          ]
        },
        {
          "output_type": "stream",
          "name": "stdout",
          "text": [
            "Got 22 / 32 with accuracy 68.75\n"
          ]
        },
        {
          "output_type": "stream",
          "name": "stderr",
          "text": [
            "Epoch=0/1:  94%|█████████▎| 203/217 [23:02<01:34,  6.72s/it, acc=0.625, loss=0.644]"
          ]
        },
        {
          "output_type": "stream",
          "name": "stdout",
          "text": [
            "Got 20 / 32 with accuracy 62.50\n"
          ]
        },
        {
          "output_type": "stream",
          "name": "stderr",
          "text": [
            "Epoch=0/1:  94%|█████████▍| 204/217 [23:09<01:27,  6.74s/it, acc=0.656, loss=0.666]"
          ]
        },
        {
          "output_type": "stream",
          "name": "stdout",
          "text": [
            "Got 21 / 32 with accuracy 65.62\n"
          ]
        },
        {
          "output_type": "stream",
          "name": "stderr",
          "text": [
            "Epoch=0/1:  94%|█████████▍| 205/217 [23:16<01:19,  6.62s/it, acc=0.688, loss=0.653]"
          ]
        },
        {
          "output_type": "stream",
          "name": "stdout",
          "text": [
            "Got 22 / 32 with accuracy 68.75\n"
          ]
        },
        {
          "output_type": "stream",
          "name": "stderr",
          "text": [
            "Epoch=0/1:  95%|█████████▍| 206/217 [23:23<01:15,  6.83s/it, acc=0.625, loss=0.663]"
          ]
        },
        {
          "output_type": "stream",
          "name": "stdout",
          "text": [
            "Got 20 / 32 with accuracy 62.50\n"
          ]
        },
        {
          "output_type": "stream",
          "name": "stderr",
          "text": [
            "Epoch=0/1:  95%|█████████▌| 207/217 [23:29<01:06,  6.60s/it, acc=0.656, loss=0.663]"
          ]
        },
        {
          "output_type": "stream",
          "name": "stdout",
          "text": [
            "Got 21 / 32 with accuracy 65.62\n"
          ]
        },
        {
          "output_type": "stream",
          "name": "stderr",
          "text": [
            "Epoch=0/1:  96%|█████████▌| 208/217 [23:37<01:02,  6.91s/it, acc=0.562, loss=0.663]"
          ]
        },
        {
          "output_type": "stream",
          "name": "stdout",
          "text": [
            "Got 18 / 32 with accuracy 56.25\n"
          ]
        },
        {
          "output_type": "stream",
          "name": "stderr",
          "text": [
            "Epoch=0/1:  96%|█████████▋| 209/217 [23:42<00:52,  6.59s/it, acc=0.594, loss=0.657]"
          ]
        },
        {
          "output_type": "stream",
          "name": "stdout",
          "text": [
            "Got 19 / 32 with accuracy 59.38\n"
          ]
        },
        {
          "output_type": "stream",
          "name": "stderr",
          "text": [
            "Epoch=0/1:  97%|█████████▋| 210/217 [23:50<00:47,  6.85s/it, acc=0.719, loss=0.646]"
          ]
        },
        {
          "output_type": "stream",
          "name": "stdout",
          "text": [
            "Got 23 / 32 with accuracy 71.88\n"
          ]
        },
        {
          "output_type": "stream",
          "name": "stderr",
          "text": [
            "Epoch=0/1:  97%|█████████▋| 211/217 [23:56<00:39,  6.61s/it, acc=0.562, loss=0.673]"
          ]
        },
        {
          "output_type": "stream",
          "name": "stdout",
          "text": [
            "Got 18 / 32 with accuracy 56.25\n"
          ]
        },
        {
          "output_type": "stream",
          "name": "stderr",
          "text": [
            "Epoch=0/1:  98%|█████████▊| 212/217 [24:03<00:34,  6.84s/it, acc=0.625, loss=0.652]"
          ]
        },
        {
          "output_type": "stream",
          "name": "stdout",
          "text": [
            "Got 20 / 32 with accuracy 62.50\n"
          ]
        },
        {
          "output_type": "stream",
          "name": "stderr",
          "text": [
            "Epoch=0/1:  98%|█████████▊| 213/217 [24:10<00:26,  6.63s/it, acc=0.562, loss=0.674]"
          ]
        },
        {
          "output_type": "stream",
          "name": "stdout",
          "text": [
            "Got 18 / 32 with accuracy 56.25\n"
          ]
        },
        {
          "output_type": "stream",
          "name": "stderr",
          "text": [
            "Epoch=0/1:  99%|█████████▊| 214/217 [24:17<00:20,  6.80s/it, acc=0.5, loss=0.694]"
          ]
        },
        {
          "output_type": "stream",
          "name": "stdout",
          "text": [
            "Got 16 / 32 with accuracy 50.00\n"
          ]
        },
        {
          "output_type": "stream",
          "name": "stderr",
          "text": [
            "Epoch=0/1:  99%|█████████▉| 215/217 [24:23<00:13,  6.71s/it, acc=0.594, loss=0.681]"
          ]
        },
        {
          "output_type": "stream",
          "name": "stdout",
          "text": [
            "Got 19 / 32 with accuracy 59.38\n"
          ]
        },
        {
          "output_type": "stream",
          "name": "stderr",
          "text": [
            "Epoch=0/1: 100%|█████████▉| 216/217 [24:30<00:06,  6.74s/it, acc=0.625, loss=0.66]"
          ]
        },
        {
          "output_type": "stream",
          "name": "stdout",
          "text": [
            "Got 20 / 32 with accuracy 62.50\n"
          ]
        },
        {
          "output_type": "stream",
          "name": "stderr",
          "text": [
            "                                                                                 "
          ]
        },
        {
          "output_type": "stream",
          "name": "stdout",
          "text": [
            "Got 4 / 8 with accuracy 50.00\n"
          ]
        },
        {
          "output_type": "stream",
          "name": "stderr",
          "text": [
            "\r"
          ]
        }
      ]
    }
  ]
}