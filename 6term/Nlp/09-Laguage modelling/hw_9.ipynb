{
  "cells": [
    {
      "cell_type": "markdown",
      "metadata": {
        "id": "gdvVXtdRtjYw"
      },
      "source": [
        "# Урок 9. Языковое моделирование\n",
        "\n",
        "## Задание\n",
        "Разобраться с моделькой генерации текста, собрать самим или взять датасет с вебинара и обучить генератор."
      ]
    },
    {
      "cell_type": "markdown",
      "metadata": {
        "id": "xf58s6MgtjY3"
      },
      "source": [
        "## Решение"
      ]
    },
    {
      "cell_type": "code",
      "execution_count": null,
      "metadata": {
        "id": "zMu8332RtjY3"
      },
      "outputs": [],
      "source": [
        "import tensorflow as tf\n",
        "import matplotlib.pyplot as plt\n",
        "import numpy as np\n",
        "import os\n",
        "import time\n",
        "\n",
        "import warnings # Не показывать предупреждения.\n",
        "warnings.filterwarnings('ignore')"
      ]
    },
    {
      "cell_type": "code",
      "execution_count": null,
      "metadata": {
        "id": "nnOgfO6MtjY7"
      },
      "outputs": [],
      "source": [
        "path_to_file = 'evgenyi_onegin.txt'"
      ]
    },
    {
      "cell_type": "code",
      "execution_count": null,
      "metadata": {
        "colab": {
          "base_uri": "https://localhost:8080/"
        },
        "id": "jbQ2N00AtjY8",
        "outputId": "bb7ee17f-5aea-498a-c414-fd17e6b4a944"
      },
      "outputs": [
        {
          "name": "stdout",
          "output_type": "stream",
          "text": [
            "Length of text: 286984 characters\n"
          ]
        }
      ],
      "source": [
        "text = open(path_to_file, 'rb').read().decode(encoding='utf-8')\n",
        "\n",
        "# length of text is the number of characters in it\n",
        "print('Length of text: {} characters'.format(len(text)))"
      ]
    },
    {
      "cell_type": "code",
      "execution_count": null,
      "metadata": {
        "colab": {
          "base_uri": "https://localhost:8080/"
        },
        "id": "s-fYnLHztjY9",
        "outputId": "68c69487-30c7-4062-b712-c137771d5d8f"
      },
      "outputs": [
        {
          "name": "stdout",
          "output_type": "stream",
          "text": [
            "Александр Сергеевич Пушкин\n",
            "\n",
            "                                Евгений Онегин\n",
            "                                Роман в стихах\n",
            "\n",
            "                        Не мысля гордый свет забавить,\n",
            "                        Вниманье дружбы возлюбя,\n",
            "                        Хотел бы я тебе представить\n",
            "                     \n"
          ]
        }
      ],
      "source": [
        "print(text[:300])"
      ]
    },
    {
      "cell_type": "code",
      "execution_count": null,
      "metadata": {
        "colab": {
          "base_uri": "https://localhost:8080/"
        },
        "id": "XE58Gcp-tjY-",
        "outputId": "c9f29c2b-fb9e-4ce0-d2e9-3590b1d59322"
      },
      "outputs": [
        {
          "name": "stdout",
          "output_type": "stream",
          "text": [
            "131 unique characters\n"
          ]
        }
      ],
      "source": [
        "# Отсортируем все символы в датасете и удалим повтряющиеся.\n",
        "vocab = sorted(set(text))\n",
        "print('{} unique characters'.format(len(vocab)))"
      ]
    },
    {
      "cell_type": "code",
      "execution_count": null,
      "metadata": {
        "id": "tqByGXcttjY_"
      },
      "outputs": [],
      "source": [
        "#  Сделаем перевод номеров симоволов в текст.\n",
        "char2idx = {u:i for i, u in enumerate(vocab)}\n",
        "idx2char = np.array(vocab)\n",
        "\n",
        "text_as_int = np.array([char2idx[c] for c in text])"
      ]
    },
    {
      "cell_type": "code",
      "execution_count": null,
      "metadata": {
        "colab": {
          "base_uri": "https://localhost:8080/"
        },
        "id": "QtlRtLo7tjZA",
        "outputId": "9211099e-e7d5-4046-f1ef-0c7cdbc600d9"
      },
      "outputs": [
        {
          "data": {
            "text/plain": [
              "(array([ 71, 110, 104, ..., 104, 121,   0]),\n",
              " 'Александр Сергеевич Пушкин\\n\\n  ',\n",
              " 286984,\n",
              " 286984)"
            ]
          },
          "execution_count": 10,
          "metadata": {},
          "output_type": "execute_result"
        }
      ],
      "source": [
        "text_as_int, text[:30], len(text_as_int), len(text)"
      ]
    },
    {
      "cell_type": "markdown",
      "metadata": {
        "id": "XbaFJj2StjZB"
      },
      "source": [
        "### train and target"
      ]
    },
    {
      "cell_type": "code",
      "execution_count": null,
      "metadata": {
        "colab": {
          "base_uri": "https://localhost:8080/"
        },
        "id": "dSVegj02tjZB",
        "outputId": "3a283dfa-b759-44e7-94f4-ade4f7287046"
      },
      "outputs": [
        {
          "name": "stdout",
          "output_type": "stream",
          "text": [
            "А\n",
            "л\n",
            "е\n",
            "к\n",
            "с\n"
          ]
        }
      ],
      "source": [
        "# The maximum length sentence you want for a single input in characters\n",
        "seq_length = 100\n",
        "examples_per_epoch = len(text)//(seq_length+1)\n",
        "\n",
        "# Create training examples / targets\n",
        "char_dataset = tf.data.Dataset.from_tensor_slices(text_as_int)\n",
        "\n",
        "for i in char_dataset.take(5):\n",
        "    print(idx2char[i.numpy()])"
      ]
    },
    {
      "cell_type": "code",
      "execution_count": null,
      "metadata": {
        "colab": {
          "base_uri": "https://localhost:8080/"
        },
        "id": "N-hgM8BWtjZB",
        "outputId": "7cb51d4c-0134-47fd-cb0d-d441def9a361"
      },
      "outputs": [
        {
          "data": {
            "text/plain": [
              "<_TakeDataset element_spec=TensorSpec(shape=(), dtype=tf.int64, name=None)>"
            ]
          },
          "execution_count": 12,
          "metadata": {},
          "output_type": "execute_result"
        }
      ],
      "source": [
        "char_dataset.take(5)"
      ]
    },
    {
      "cell_type": "code",
      "execution_count": null,
      "metadata": {
        "colab": {
          "base_uri": "https://localhost:8080/"
        },
        "id": "KwLMV7E5tjZC",
        "outputId": "0f754aeb-b602-426d-c104-66ffbb7ba4cc"
      },
      "outputs": [
        {
          "name": "stdout",
          "output_type": "stream",
          "text": [
            "'Александр Сергеевич Пушкин\\n\\n                                Евгений Онегин\\n                          '\n",
            "'      Роман в стихах\\n\\n                        Не мысля гордый свет забавить,\\n                        '\n",
            "'Вниманье дружбы возлюбя,\\n                        Хотел бы я тебе представить\\n                        '\n",
            "'Залог достойнее тебя,\\n                        Достойнее души прекрасной,\\n                        Свят'\n",
            "'ой исполненной мечты,\\n                        Поэзии живой и ясной,\\n                        Высоких д'\n"
          ]
        }
      ],
      "source": [
        "# Выполним разбиение текста на последовательности длинной 100 символов.\n",
        "sequences = char_dataset.batch(seq_length+1, drop_remainder=True)\n",
        "\n",
        "# Выведем первые 5 батчей на экран.\n",
        "for item in sequences.take(5):\n",
        "    print(repr(''.join(idx2char[item.numpy()])))"
      ]
    },
    {
      "cell_type": "code",
      "execution_count": null,
      "metadata": {
        "id": "y_1sa77ytjZC"
      },
      "outputs": [],
      "source": [
        "def split_input_target(chunk):\n",
        "    input_text = chunk[:-1] # Предсказываем по одному символу.\n",
        "    target_text = chunk[1:]\n",
        "    return input_text, target_text\n",
        "\n",
        "dataset = sequences.map(split_input_target)"
      ]
    },
    {
      "cell_type": "code",
      "execution_count": null,
      "metadata": {
        "colab": {
          "base_uri": "https://localhost:8080/"
        },
        "id": "jkOZOET8tjZD",
        "outputId": "ce5c8a9b-30b7-464d-9346-bc880ad27302"
      },
      "outputs": [
        {
          "data": {
            "text/plain": [
              "<_MapDataset element_spec=(TensorSpec(shape=(100,), dtype=tf.int64, name=None), TensorSpec(shape=(100,), dtype=tf.int64, name=None))>"
            ]
          },
          "execution_count": 15,
          "metadata": {},
          "output_type": "execute_result"
        }
      ],
      "source": [
        "dataset\n",
        "\n",
        "# Разделим его на тренировочную и тестовую выборки."
      ]
    },
    {
      "cell_type": "markdown",
      "metadata": {
        "id": "JNvd3ztwtjZD"
      },
      "source": [
        "Print the first example input and target values:"
      ]
    },
    {
      "cell_type": "code",
      "execution_count": null,
      "metadata": {
        "colab": {
          "base_uri": "https://localhost:8080/"
        },
        "id": "qiTbcvLbtjZD",
        "outputId": "7fe3533f-a93f-4154-a356-5b7a1e03538a"
      },
      "outputs": [
        {
          "name": "stdout",
          "output_type": "stream",
          "text": [
            "Input data:  'Александр Сергеевич Пушкин\\n\\n                                Евгений Онегин\\n                         '\n",
            "Target data: 'лександр Сергеевич Пушкин\\n\\n                                Евгений Онегин\\n                          '\n"
          ]
        }
      ],
      "source": [
        "for input_example, target_example in  dataset.take(1):\n",
        "    print('Input data: ', repr(''.join(idx2char[input_example.numpy()])))\n",
        "    print('Target data:', repr(''.join(idx2char[target_example.numpy()])))"
      ]
    },
    {
      "cell_type": "code",
      "execution_count": null,
      "metadata": {
        "colab": {
          "base_uri": "https://localhost:8080/"
        },
        "id": "JkZdNHZ9tjZE",
        "outputId": "653b7a2e-1295-459a-fc87-213fc76327dc"
      },
      "outputs": [
        {
          "data": {
            "text/plain": [
              "<_BatchDataset element_spec=(TensorSpec(shape=(64, 100), dtype=tf.int64, name=None), TensorSpec(shape=(64, 100), dtype=tf.int64, name=None))>"
            ]
          },
          "execution_count": 17,
          "metadata": {},
          "output_type": "execute_result"
        }
      ],
      "source": [
        "# Batch size\n",
        "BATCH_SIZE = 64\n",
        "\n",
        "# Buffer size to shuffle the dataset\n",
        "# (TF data is designed to work with possibly infinite sequences,\n",
        "# so it doesn't attempt to shuffle the entire sequence in memory. Instead,\n",
        "# it maintains a buffer in which it shuffles elements).\n",
        "\n",
        "BUFFER_SIZE = 10000\n",
        "\n",
        "dataset = dataset.shuffle(BUFFER_SIZE).batch(BATCH_SIZE, drop_remainder=True)\n",
        "\n",
        "dataset"
      ]
    },
    {
      "cell_type": "code",
      "execution_count": null,
      "metadata": {
        "id": "B6y7kieFtjZE"
      },
      "outputs": [],
      "source": [
        "# Length of the vocabulary in chars\n",
        "vocab_size = len(vocab)\n",
        "\n",
        "# The embedding dimension\n",
        "embedding_dim = 128\n",
        "\n",
        "# Number of RNN units\n",
        "rnn_units = 1024"
      ]
    },
    {
      "cell_type": "code",
      "execution_count": null,
      "metadata": {
        "id": "k9jbXNZptjZF"
      },
      "outputs": [],
      "source": [
        "class RNNgenerator(tf.keras.Model):\n",
        "    def __init__(self, vocab_size, embedding_dim, rnn_units): #, batch_size):\n",
        "        super(RNNgenerator, self).__init__()\n",
        "\n",
        "        self.emb = tf.keras.layers.Embedding(vocab_size, embedding_dim) #, batch_input_shape=[batch_size, None])\n",
        "\n",
        "        self.gru1 = tf.keras.layers.GRU(rnn_units,\n",
        "                            return_sequences=True,\n",
        "                            stateful=False,\n",
        "                            recurrent_initializer='glorot_uniform')\n",
        "\n",
        "        self.gru2 = tf.keras.layers.GRU(rnn_units,\n",
        "                            return_sequences=True,\n",
        "                            stateful=False,\n",
        "                            recurrent_initializer='glorot_uniform')\n",
        "        self.gru3 = tf.keras.layers.GRU(rnn_units,\n",
        "                            return_sequences=True,\n",
        "                            stateful=False,\n",
        "                            recurrent_initializer='glorot_uniform')\n",
        "\n",
        "        # self.lin_norm = tf.keras.layers.LayerNormalization()\n",
        "\n",
        "        self.dense = tf.keras.layers.Dense(vocab_size)\n",
        "\n",
        "    def call(self, x):\n",
        "        emb_x = self.emb(x)\n",
        "        x = self.gru1(emb_x)\n",
        "        x = self.gru2(x)\n",
        "        x = self.gru3(x)\n",
        "\n",
        "        x = self.dense(x)\n",
        "        return x\n",
        "\n",
        "model = RNNgenerator(vocab_size,\n",
        "                     embedding_dim,\n",
        "                     rnn_units=rnn_units\n",
        "                     ) #,\n",
        "                    #  batch_size= BATCH_SIZE)\n",
        "\n",
        "# model.build(tf.TensorShape([1, None]))"
      ]
    },
    {
      "cell_type": "code",
      "execution_count": null,
      "metadata": {
        "id": "EYUZPDTGtjZF"
      },
      "outputs": [],
      "source": [
        "# model.summary()"
      ]
    },
    {
      "cell_type": "markdown",
      "metadata": {
        "id": "DgilcPmotjZG"
      },
      "source": [
        "## Train the model"
      ]
    },
    {
      "cell_type": "code",
      "execution_count": null,
      "metadata": {
        "id": "N8zrx3xFtjZG"
      },
      "outputs": [],
      "source": [
        "def loss(labels, logits):\n",
        "    return tf.keras.losses.sparse_categorical_crossentropy(labels, logits, from_logits=True)"
      ]
    },
    {
      "cell_type": "code",
      "execution_count": null,
      "metadata": {
        "id": "ikxmNuIjtjZG"
      },
      "outputs": [],
      "source": [
        "model.compile(optimizer='adam', loss=loss, metrics='accuracy')"
      ]
    },
    {
      "cell_type": "markdown",
      "metadata": {
        "id": "-o153P-DtjZG"
      },
      "source": [
        "### Configure checkpoints"
      ]
    },
    {
      "cell_type": "code",
      "execution_count": null,
      "metadata": {
        "id": "IYnVIjSHtjZH"
      },
      "outputs": [],
      "source": [
        "# Directory where the checkpoints will be saved\n",
        "checkpoint_dir = './RNN_checkpoints'\n",
        "# Name of the checkpoint files\n",
        "checkpoint_prefix = os.path.join(checkpoint_dir, \"ckpt_{epoch}\")\n",
        "\n",
        "checkpoint_callback = tf.keras.callbacks.ModelCheckpoint(\n",
        "                                filepath=checkpoint_prefix,\n",
        "                                save_freq=28,\n",
        "                                save_weights_only=True)"
      ]
    },
    {
      "cell_type": "markdown",
      "metadata": {
        "id": "RQ2_dZrFtjZH"
      },
      "source": [
        "### Execute the training"
      ]
    },
    {
      "cell_type": "code",
      "execution_count": null,
      "metadata": {
        "id": "tAO2UskmtjZH"
      },
      "outputs": [],
      "source": [
        "EPOCHS = 280"
      ]
    },
    {
      "cell_type": "code",
      "execution_count": null,
      "metadata": {
        "colab": {
          "background_save": true,
          "base_uri": "https://localhost:8080/"
        },
        "id": "m3dyMKD7tjZH",
        "outputId": "d383d684-7830-47eb-aedf-4217b0a861d8"
      },
      "outputs": [
        {
          "name": "stdout",
          "output_type": "stream",
          "text": [
            "Epoch 1/280\n",
            "44/44 [==============================] - 22s 245ms/step - loss: 2.2132 - accuracy: 0.5441\n",
            "Epoch 2/280\n",
            "44/44 [==============================] - 10s 224ms/step - loss: 1.6393 - accuracy: 0.5810\n",
            "Epoch 3/280\n",
            "44/44 [==============================] - 10s 203ms/step - loss: 1.4694 - accuracy: 0.5994\n",
            "Epoch 4/280\n",
            "44/44 [==============================] - 10s 216ms/step - loss: 1.3574 - accuracy: 0.6167\n",
            "Epoch 5/280\n",
            "44/44 [==============================] - 10s 204ms/step - loss: 1.3173 - accuracy: 0.6285\n",
            "Epoch 6/280\n",
            "44/44 [==============================] - 10s 216ms/step - loss: 1.2537 - accuracy: 0.6401\n",
            "Epoch 7/280\n",
            "44/44 [==============================] - 10s 218ms/step - loss: 1.2091 - accuracy: 0.6512\n",
            "Epoch 8/280\n",
            "44/44 [==============================] - 10s 212ms/step - loss: 1.1765 - accuracy: 0.6605\n",
            "Epoch 9/280\n",
            "44/44 [==============================] - 10s 224ms/step - loss: 1.1249 - accuracy: 0.6729\n",
            "Epoch 10/280\n",
            "44/44 [==============================] - 10s 216ms/step - loss: 1.0676 - accuracy: 0.6873\n",
            "Epoch 11/280\n",
            "44/44 [==============================] - 10s 223ms/step - loss: 1.0369 - accuracy: 0.6997\n",
            "Epoch 12/280\n",
            "44/44 [==============================] - 10s 210ms/step - loss: 0.9745 - accuracy: 0.7145\n",
            "Epoch 13/280\n",
            "44/44 [==============================] - 10s 223ms/step - loss: 0.9192 - accuracy: 0.7286\n",
            "Epoch 14/280\n",
            "44/44 [==============================] - 10s 226ms/step - loss: 0.8673 - accuracy: 0.7434\n",
            "Epoch 15/280\n",
            "44/44 [==============================] - 10s 211ms/step - loss: 0.8020 - accuracy: 0.7612\n",
            "Epoch 16/280\n",
            "44/44 [==============================] - 10s 223ms/step - loss: 0.7445 - accuracy: 0.7787\n",
            "Epoch 17/280\n",
            "44/44 [==============================] - 10s 215ms/step - loss: 0.8214 - accuracy: 0.7674\n",
            "Epoch 18/280\n",
            "44/44 [==============================] - 10s 225ms/step - loss: 0.6742 - accuracy: 0.8036\n",
            "Epoch 19/280\n",
            "44/44 [==============================] - 10s 213ms/step - loss: 0.5998 - accuracy: 0.8283\n",
            "Epoch 20/280\n",
            "44/44 [==============================] - 10s 221ms/step - loss: 0.5256 - accuracy: 0.8535\n",
            "Epoch 21/280\n",
            "44/44 [==============================] - 10s 221ms/step - loss: 0.4779 - accuracy: 0.8735\n",
            "Epoch 22/280\n",
            "44/44 [==============================] - 10s 211ms/step - loss: 0.4166 - accuracy: 0.8929\n",
            "Epoch 23/280\n",
            "44/44 [==============================] - 10s 226ms/step - loss: 0.3513 - accuracy: 0.9124\n",
            "Epoch 24/280\n",
            "44/44 [==============================] - 10s 212ms/step - loss: 0.3201 - accuracy: 0.9220\n",
            "Epoch 25/280\n",
            "44/44 [==============================] - 10s 226ms/step - loss: 0.2858 - accuracy: 0.9293\n",
            "Epoch 26/280\n",
            "44/44 [==============================] - 10s 214ms/step - loss: 0.2532 - accuracy: 0.9365\n",
            "Epoch 27/280\n",
            "44/44 [==============================] - 11s 221ms/step - loss: 0.2319 - accuracy: 0.9408\n",
            "Epoch 28/280\n",
            "44/44 [==============================] - 10s 217ms/step - loss: 0.2153 - accuracy: 0.9446\n",
            "Epoch 29/280\n",
            "44/44 [==============================] - 10s 211ms/step - loss: 0.2401 - accuracy: 0.9413\n",
            "Epoch 30/280\n",
            "44/44 [==============================] - 10s 226ms/step - loss: 0.1984 - accuracy: 0.9492\n",
            "Epoch 31/280\n",
            "44/44 [==============================] - 10s 219ms/step - loss: 0.1903 - accuracy: 0.9515\n",
            "Epoch 32/280\n",
            "44/44 [==============================] - 10s 225ms/step - loss: 0.1667 - accuracy: 0.9580\n",
            "Epoch 33/280\n",
            "44/44 [==============================] - 10s 211ms/step - loss: 0.1549 - accuracy: 0.9614\n",
            "Epoch 34/280\n",
            "44/44 [==============================] - 10s 219ms/step - loss: 0.1433 - accuracy: 0.9652\n",
            "Epoch 35/280\n",
            "44/44 [==============================] - 10s 219ms/step - loss: 0.1390 - accuracy: 0.9662\n",
            "Epoch 36/280\n",
            "44/44 [==============================] - 10s 210ms/step - loss: 0.1293 - accuracy: 0.9690\n",
            "Epoch 37/280\n",
            "44/44 [==============================] - 10s 225ms/step - loss: 0.1198 - accuracy: 0.9716\n",
            "Epoch 38/280\n",
            "44/44 [==============================] - 10s 212ms/step - loss: 0.1131 - accuracy: 0.9731\n",
            "Epoch 39/280\n",
            "44/44 [==============================] - 10s 222ms/step - loss: 0.1080 - accuracy: 0.9741\n",
            "Epoch 40/280\n",
            "44/44 [==============================] - 10s 212ms/step - loss: 0.1255 - accuracy: 0.9694\n",
            "Epoch 41/280\n",
            "44/44 [==============================] - 10s 225ms/step - loss: 0.1382 - accuracy: 0.9644\n",
            "Epoch 42/280\n",
            "44/44 [==============================] - 11s 230ms/step - loss: 0.1249 - accuracy: 0.9689\n",
            "Epoch 43/280\n",
            "44/44 [==============================] - 10s 211ms/step - loss: 0.1065 - accuracy: 0.9743\n",
            "Epoch 44/280\n",
            "44/44 [==============================] - 10s 222ms/step - loss: 0.0992 - accuracy: 0.9758\n",
            "Epoch 45/280\n",
            "44/44 [==============================] - 10s 209ms/step - loss: 0.0959 - accuracy: 0.9762\n",
            "Epoch 46/280\n",
            "44/44 [==============================] - 10s 219ms/step - loss: 0.0926 - accuracy: 0.9770\n",
            "Epoch 47/280\n",
            "44/44 [==============================] - 10s 209ms/step - loss: 0.1316 - accuracy: 0.9680\n",
            "Epoch 48/280\n",
            "44/44 [==============================] - 10s 223ms/step - loss: 0.1211 - accuracy: 0.9696\n",
            "Epoch 49/280\n",
            "44/44 [==============================] - 10s 221ms/step - loss: 0.1115 - accuracy: 0.9724\n",
            "Epoch 50/280\n",
            "44/44 [==============================] - 10s 212ms/step - loss: 0.0974 - accuracy: 0.9761\n",
            "Epoch 51/280\n",
            "44/44 [==============================] - 10s 222ms/step - loss: 0.0918 - accuracy: 0.9769\n",
            "Epoch 52/280\n",
            "44/44 [==============================] - 10s 211ms/step - loss: 0.0898 - accuracy: 0.9773\n",
            "Epoch 53/280\n",
            "44/44 [==============================] - 10s 225ms/step - loss: 0.0879 - accuracy: 0.9775\n",
            "Epoch 54/280\n",
            "44/44 [==============================] - 10s 210ms/step - loss: 0.0857 - accuracy: 0.9779\n",
            "Epoch 55/280\n",
            "44/44 [==============================] - 10s 221ms/step - loss: 0.0847 - accuracy: 0.9781\n",
            "Epoch 56/280\n",
            "44/44 [==============================] - 10s 221ms/step - loss: 0.0835 - accuracy: 0.9784\n",
            "Epoch 57/280\n",
            "44/44 [==============================] - 10s 211ms/step - loss: 0.0823 - accuracy: 0.9786\n",
            "Epoch 58/280\n",
            "44/44 [==============================] - 10s 224ms/step - loss: 0.0820 - accuracy: 0.9787\n",
            "Epoch 59/280\n",
            "44/44 [==============================] - 10s 210ms/step - loss: 0.0813 - accuracy: 0.9789\n",
            "Epoch 60/280\n",
            "44/44 [==============================] - 10s 221ms/step - loss: 0.0905 - accuracy: 0.9770\n",
            "Epoch 61/280\n",
            "44/44 [==============================] - 10s 210ms/step - loss: 0.1608 - accuracy: 0.9577\n",
            "Epoch 62/280\n",
            "44/44 [==============================] - 10s 220ms/step - loss: 0.1435 - accuracy: 0.9617\n",
            "Epoch 63/280\n",
            "44/44 [==============================] - 10s 221ms/step - loss: 0.1478 - accuracy: 0.9605\n",
            "Epoch 64/280\n",
            "44/44 [==============================] - 10s 212ms/step - loss: 0.1400 - accuracy: 0.9635\n",
            "Epoch 65/280\n",
            "44/44 [==============================] - 10s 220ms/step - loss: 0.1183 - accuracy: 0.9704\n",
            "Epoch 66/280\n",
            "44/44 [==============================] - 10s 210ms/step - loss: 0.1422 - accuracy: 0.9628\n",
            "Epoch 67/280\n",
            "44/44 [==============================] - 10s 220ms/step - loss: 0.1000 - accuracy: 0.9752\n",
            "Epoch 68/280\n",
            "44/44 [==============================] - 10s 211ms/step - loss: 0.0872 - accuracy: 0.9786\n",
            "Epoch 69/280\n",
            "44/44 [==============================] - 10s 224ms/step - loss: 0.0808 - accuracy: 0.9797\n",
            "Epoch 70/280\n",
            "44/44 [==============================] - 10s 222ms/step - loss: 0.0785 - accuracy: 0.9800\n",
            "Epoch 71/280\n",
            "44/44 [==============================] - 10s 210ms/step - loss: 0.0765 - accuracy: 0.9801\n",
            "Epoch 72/280\n",
            "44/44 [==============================] - 10s 222ms/step - loss: 0.0753 - accuracy: 0.9806\n",
            "Epoch 73/280\n",
            "44/44 [==============================] - 10s 211ms/step - loss: 0.0747 - accuracy: 0.9806\n",
            "Epoch 74/280\n",
            "44/44 [==============================] - 10s 225ms/step - loss: 0.0738 - accuracy: 0.9808\n",
            "Epoch 75/280\n",
            "44/44 [==============================] - 10s 207ms/step - loss: 0.0728 - accuracy: 0.9810\n",
            "Epoch 76/280\n",
            "44/44 [==============================] - 11s 222ms/step - loss: 0.0726 - accuracy: 0.9810\n",
            "Epoch 77/280\n",
            "44/44 [==============================] - 10s 227ms/step - loss: 0.0728 - accuracy: 0.9809\n",
            "Epoch 78/280\n",
            "44/44 [==============================] - 10s 209ms/step - loss: 0.1458 - accuracy: 0.9655\n",
            "Epoch 79/280\n",
            "44/44 [==============================] - 10s 223ms/step - loss: 0.0983 - accuracy: 0.9757\n",
            "Epoch 80/280\n",
            "44/44 [==============================] - 10s 219ms/step - loss: 0.0871 - accuracy: 0.9784\n",
            "Epoch 81/280\n",
            "44/44 [==============================] - 10s 222ms/step - loss: 0.0797 - accuracy: 0.9800\n",
            "Epoch 82/280\n",
            "44/44 [==============================] - 10s 208ms/step - loss: 0.0762 - accuracy: 0.9805\n",
            "Epoch 83/280\n",
            "44/44 [==============================] - 10s 220ms/step - loss: 0.0740 - accuracy: 0.9812\n",
            "Epoch 84/280\n",
            "44/44 [==============================] - 11s 226ms/step - loss: 0.0729 - accuracy: 0.9812\n",
            "Epoch 85/280\n",
            "44/44 [==============================] - 10s 215ms/step - loss: 0.0720 - accuracy: 0.9812\n",
            "Epoch 86/280\n",
            "44/44 [==============================] - 10s 223ms/step - loss: 0.0713 - accuracy: 0.9811\n",
            "Epoch 87/280\n",
            "44/44 [==============================] - 10s 211ms/step - loss: 0.0710 - accuracy: 0.9812\n",
            "Epoch 88/280\n",
            "44/44 [==============================] - 10s 219ms/step - loss: 0.0704 - accuracy: 0.9815\n",
            "Epoch 89/280\n",
            "44/44 [==============================] - 10s 208ms/step - loss: 0.0703 - accuracy: 0.9813\n",
            "Epoch 90/280\n",
            "44/44 [==============================] - 10s 224ms/step - loss: 0.0698 - accuracy: 0.9816\n",
            "Epoch 91/280\n",
            "44/44 [==============================] - 10s 223ms/step - loss: 0.0696 - accuracy: 0.9815\n",
            "Epoch 92/280\n",
            "44/44 [==============================] - 10s 211ms/step - loss: 0.0690 - accuracy: 0.9815\n",
            "Epoch 93/280\n",
            "44/44 [==============================] - 11s 226ms/step - loss: 0.0692 - accuracy: 0.9814\n",
            "Epoch 94/280\n",
            "44/44 [==============================] - 10s 215ms/step - loss: 0.0692 - accuracy: 0.9814\n",
            "Epoch 95/280\n",
            "44/44 [==============================] - 10s 226ms/step - loss: 0.0694 - accuracy: 0.9814\n",
            "Epoch 96/280\n",
            "44/44 [==============================] - 10s 210ms/step - loss: 0.0688 - accuracy: 0.9817\n",
            "Epoch 97/280\n",
            "44/44 [==============================] - 10s 219ms/step - loss: 0.0685 - accuracy: 0.9816\n",
            "Epoch 98/280\n",
            "44/44 [==============================] - 11s 226ms/step - loss: 0.0684 - accuracy: 0.9815\n",
            "Epoch 99/280\n",
            "44/44 [==============================] - 10s 215ms/step - loss: 0.0681 - accuracy: 0.9818\n",
            "Epoch 100/280\n",
            "44/44 [==============================] - 10s 227ms/step - loss: 0.0687 - accuracy: 0.9816\n",
            "Epoch 101/280\n",
            "44/44 [==============================] - 10s 211ms/step - loss: 0.0681 - accuracy: 0.9817\n",
            "Epoch 102/280\n",
            "44/44 [==============================] - 10s 223ms/step - loss: 0.0681 - accuracy: 0.9818\n",
            "Epoch 103/280\n",
            "44/44 [==============================] - 10s 209ms/step - loss: 0.0686 - accuracy: 0.9816\n",
            "Epoch 104/280\n",
            "44/44 [==============================] - 10s 220ms/step - loss: 0.0682 - accuracy: 0.9817\n",
            "Epoch 105/280\n",
            "44/44 [==============================] - 10s 221ms/step - loss: 0.0681 - accuracy: 0.9817\n",
            "Epoch 106/280\n",
            "44/44 [==============================] - 10s 212ms/step - loss: 0.0680 - accuracy: 0.9818\n",
            "Epoch 107/280\n",
            "44/44 [==============================] - 11s 228ms/step - loss: 0.0677 - accuracy: 0.9817\n",
            "Epoch 108/280\n",
            "44/44 [==============================] - 10s 212ms/step - loss: 0.0675 - accuracy: 0.9817\n",
            "Epoch 109/280\n",
            "44/44 [==============================] - 11s 225ms/step - loss: 0.0671 - accuracy: 0.9818\n",
            "Epoch 110/280\n",
            "44/44 [==============================] - 10s 216ms/step - loss: 0.0676 - accuracy: 0.9816\n",
            "Epoch 111/280\n",
            "44/44 [==============================] - 10s 222ms/step - loss: 0.0678 - accuracy: 0.9818\n",
            "Epoch 112/280\n",
            "44/44 [==============================] - 10s 223ms/step - loss: 0.0679 - accuracy: 0.9816\n",
            "Epoch 113/280\n",
            "44/44 [==============================] - 10s 212ms/step - loss: 0.0678 - accuracy: 0.9817\n",
            "Epoch 114/280\n",
            "44/44 [==============================] - 10s 218ms/step - loss: 0.0673 - accuracy: 0.9819\n",
            "Epoch 115/280\n",
            "44/44 [==============================] - 10s 210ms/step - loss: 0.0674 - accuracy: 0.9816\n",
            "Epoch 116/280\n",
            "44/44 [==============================] - 10s 223ms/step - loss: 0.0672 - accuracy: 0.9817\n",
            "Epoch 117/280\n",
            "44/44 [==============================] - 10s 213ms/step - loss: 0.0670 - accuracy: 0.9820\n",
            "Epoch 118/280\n",
            "44/44 [==============================] - 10s 225ms/step - loss: 0.0669 - accuracy: 0.9818\n",
            "Epoch 119/280\n",
            "44/44 [==============================] - 11s 231ms/step - loss: 0.0669 - accuracy: 0.9817\n",
            "Epoch 120/280\n",
            "44/44 [==============================] - 10s 213ms/step - loss: 0.0673 - accuracy: 0.9818\n",
            "Epoch 121/280\n",
            "44/44 [==============================] - 10s 224ms/step - loss: 0.0673 - accuracy: 0.9817\n",
            "Epoch 122/280\n",
            "44/44 [==============================] - 10s 210ms/step - loss: 0.0669 - accuracy: 0.9818\n",
            "Epoch 123/280\n",
            "44/44 [==============================] - 10s 222ms/step - loss: 0.0667 - accuracy: 0.9818\n",
            "Epoch 124/280\n",
            "44/44 [==============================] - 10s 209ms/step - loss: 0.0667 - accuracy: 0.9818\n",
            "Epoch 125/280\n",
            "44/44 [==============================] - 10s 220ms/step - loss: 0.0669 - accuracy: 0.9816\n",
            "Epoch 126/280\n",
            "44/44 [==============================] - 10s 220ms/step - loss: 0.0670 - accuracy: 0.9818\n",
            "Epoch 127/280\n",
            "44/44 [==============================] - 10s 214ms/step - loss: 0.0673 - accuracy: 0.9816\n",
            "Epoch 128/280\n",
            "44/44 [==============================] - 10s 228ms/step - loss: 0.0676 - accuracy: 0.9816\n",
            "Epoch 129/280\n",
            "44/44 [==============================] - 10s 218ms/step - loss: 0.2482 - accuracy: 0.9400\n",
            "Epoch 130/280\n",
            "44/44 [==============================] - 10s 226ms/step - loss: 1.0298 - accuracy: 0.7419\n",
            "Epoch 131/280\n",
            "44/44 [==============================] - 10s 210ms/step - loss: 0.7722 - accuracy: 0.7817\n",
            "Epoch 132/280\n",
            "44/44 [==============================] - 10s 220ms/step - loss: 0.4997 - accuracy: 0.8466\n",
            "Epoch 133/280\n",
            "44/44 [==============================] - 11s 220ms/step - loss: 0.3125 - accuracy: 0.9054\n",
            "Epoch 134/280\n",
            "44/44 [==============================] - 10s 210ms/step - loss: 0.1993 - accuracy: 0.9463\n",
            "Epoch 135/280\n",
            "44/44 [==============================] - 10s 226ms/step - loss: 0.1371 - accuracy: 0.9680\n",
            "Epoch 136/280\n",
            "44/44 [==============================] - 10s 212ms/step - loss: 0.1041 - accuracy: 0.9772\n",
            "Epoch 137/280\n",
            "44/44 [==============================] - 11s 230ms/step - loss: 0.1284 - accuracy: 0.9688\n",
            "Epoch 138/280\n",
            "44/44 [==============================] - 10s 218ms/step - loss: 0.1194 - accuracy: 0.9689\n",
            "Epoch 139/280\n",
            "44/44 [==============================] - 10s 224ms/step - loss: 0.0900 - accuracy: 0.9790\n",
            "Epoch 140/280\n",
            "44/44 [==============================] - 10s 226ms/step - loss: 0.0784 - accuracy: 0.9813\n",
            "Epoch 141/280\n",
            "44/44 [==============================] - 10s 210ms/step - loss: 0.0741 - accuracy: 0.9815\n",
            "Epoch 142/280\n",
            "44/44 [==============================] - 10s 221ms/step - loss: 0.0723 - accuracy: 0.9818\n",
            "Epoch 143/280\n",
            "44/44 [==============================] - 10s 210ms/step - loss: 0.0708 - accuracy: 0.9817\n",
            "Epoch 144/280\n",
            "44/44 [==============================] - 10s 222ms/step - loss: 0.0700 - accuracy: 0.9819\n",
            "Epoch 145/280\n",
            "44/44 [==============================] - 10s 211ms/step - loss: 0.0692 - accuracy: 0.9819\n",
            "Epoch 146/280\n",
            "44/44 [==============================] - 10s 226ms/step - loss: 0.0687 - accuracy: 0.9818\n",
            "Epoch 147/280\n",
            "44/44 [==============================] - 10s 223ms/step - loss: 0.0679 - accuracy: 0.9820\n",
            "Epoch 148/280\n",
            "44/44 [==============================] - 10s 212ms/step - loss: 0.0678 - accuracy: 0.9820\n",
            "Epoch 149/280\n",
            "44/44 [==============================] - 11s 229ms/step - loss: 0.0674 - accuracy: 0.9820\n",
            "Epoch 150/280\n",
            "44/44 [==============================] - 10s 215ms/step - loss: 0.0673 - accuracy: 0.9819\n",
            "Epoch 151/280\n",
            "44/44 [==============================] - 10s 225ms/step - loss: 0.0672 - accuracy: 0.9818\n",
            "Epoch 152/280\n",
            "44/44 [==============================] - 10s 210ms/step - loss: 0.0671 - accuracy: 0.9819\n",
            "Epoch 153/280\n",
            "44/44 [==============================] - 10s 220ms/step - loss: 0.0668 - accuracy: 0.9819\n",
            "Epoch 154/280\n",
            "44/44 [==============================] - 11s 228ms/step - loss: 0.0670 - accuracy: 0.9819\n",
            "Epoch 155/280\n",
            "44/44 [==============================] - 10s 215ms/step - loss: 0.0666 - accuracy: 0.9818\n",
            "Epoch 156/280\n",
            "44/44 [==============================] - 11s 229ms/step - loss: 0.0661 - accuracy: 0.9819\n",
            "Epoch 157/280\n",
            "44/44 [==============================] - 10s 212ms/step - loss: 0.0659 - accuracy: 0.9820\n",
            "Epoch 158/280\n",
            "44/44 [==============================] - 11s 223ms/step - loss: 0.0662 - accuracy: 0.9818\n",
            "Epoch 159/280\n",
            "44/44 [==============================] - 10s 207ms/step - loss: 0.0661 - accuracy: 0.9820\n",
            "Epoch 160/280\n",
            "44/44 [==============================] - 10s 221ms/step - loss: 0.0662 - accuracy: 0.9819\n",
            "Epoch 161/280\n",
            "44/44 [==============================] - 10s 226ms/step - loss: 0.0660 - accuracy: 0.9819\n",
            "Epoch 162/280\n",
            "44/44 [==============================] - 10s 221ms/step - loss: 0.0659 - accuracy: 0.9819\n",
            "Epoch 163/280\n",
            "44/44 [==============================] - 10s 225ms/step - loss: 0.0658 - accuracy: 0.9820\n",
            "Epoch 164/280\n",
            "44/44 [==============================] - 10s 210ms/step - loss: 0.0657 - accuracy: 0.9820\n",
            "Epoch 165/280\n",
            "44/44 [==============================] - 10s 219ms/step - loss: 0.0658 - accuracy: 0.9819\n",
            "Epoch 166/280\n",
            "44/44 [==============================] - 10s 209ms/step - loss: 0.0657 - accuracy: 0.9820\n",
            "Epoch 167/280\n",
            "44/44 [==============================] - 10s 223ms/step - loss: 0.0653 - accuracy: 0.9819\n",
            "Epoch 168/280\n",
            "44/44 [==============================] - 10s 219ms/step - loss: 0.0657 - accuracy: 0.9818\n",
            "Epoch 169/280\n",
            "44/44 [==============================] - 10s 211ms/step - loss: 0.0656 - accuracy: 0.9820\n",
            "Epoch 170/280\n",
            "44/44 [==============================] - 10s 221ms/step - loss: 0.0656 - accuracy: 0.9820\n",
            "Epoch 171/280\n",
            "44/44 [==============================] - 10s 211ms/step - loss: 0.0656 - accuracy: 0.9821\n",
            "Epoch 172/280\n",
            "44/44 [==============================] - 10s 226ms/step - loss: 0.0655 - accuracy: 0.9819\n",
            "Epoch 173/280\n",
            "44/44 [==============================] - 10s 211ms/step - loss: 0.0657 - accuracy: 0.9821\n",
            "Epoch 174/280\n",
            "44/44 [==============================] - 10s 220ms/step - loss: 0.0655 - accuracy: 0.9820\n",
            "Epoch 175/280\n",
            "44/44 [==============================] - 11s 221ms/step - loss: 0.0655 - accuracy: 0.9819\n",
            "Epoch 176/280\n",
            "44/44 [==============================] - 10s 212ms/step - loss: 0.0655 - accuracy: 0.9819\n",
            "Epoch 177/280\n",
            "44/44 [==============================] - 10s 224ms/step - loss: 0.0654 - accuracy: 0.9819\n",
            "Epoch 178/280\n",
            "44/44 [==============================] - 10s 211ms/step - loss: 0.0657 - accuracy: 0.9819\n",
            "Epoch 179/280\n",
            "44/44 [==============================] - 10s 224ms/step - loss: 0.0656 - accuracy: 0.9821\n",
            "Epoch 180/280\n",
            "44/44 [==============================] - 10s 211ms/step - loss: 0.0655 - accuracy: 0.9820\n",
            "Epoch 181/280\n",
            "44/44 [==============================] - 10s 223ms/step - loss: 0.0655 - accuracy: 0.9819\n",
            "Epoch 182/280\n",
            "44/44 [==============================] - 11s 230ms/step - loss: 0.0652 - accuracy: 0.9820\n",
            "Epoch 183/280\n",
            "44/44 [==============================] - 10s 212ms/step - loss: 0.0653 - accuracy: 0.9819\n",
            "Epoch 184/280\n",
            "44/44 [==============================] - 11s 228ms/step - loss: 0.0654 - accuracy: 0.9818\n",
            "Epoch 185/280\n",
            "44/44 [==============================] - 10s 215ms/step - loss: 0.0653 - accuracy: 0.9820\n",
            "Epoch 186/280\n",
            "44/44 [==============================] - 10s 223ms/step - loss: 0.0654 - accuracy: 0.9819\n",
            "Epoch 187/280\n",
            "44/44 [==============================] - 10s 209ms/step - loss: 0.0650 - accuracy: 0.9820\n",
            "Epoch 188/280\n",
            "44/44 [==============================] - 10s 224ms/step - loss: 0.0652 - accuracy: 0.9819\n",
            "Epoch 189/280\n",
            "44/44 [==============================] - 10s 223ms/step - loss: 0.0651 - accuracy: 0.9821\n",
            "Epoch 190/280\n",
            "44/44 [==============================] - 10s 209ms/step - loss: 0.0655 - accuracy: 0.9818\n",
            "Epoch 191/280\n",
            "44/44 [==============================] - 11s 224ms/step - loss: 0.0652 - accuracy: 0.9820\n",
            "Epoch 192/280\n",
            "44/44 [==============================] - 10s 215ms/step - loss: 0.0655 - accuracy: 0.9820\n",
            "Epoch 193/280\n",
            "44/44 [==============================] - 10s 226ms/step - loss: 0.0652 - accuracy: 0.9818\n",
            "Epoch 194/280\n",
            "44/44 [==============================] - 10s 211ms/step - loss: 0.0654 - accuracy: 0.9819\n",
            "Epoch 195/280\n",
            "44/44 [==============================] - 10s 221ms/step - loss: 0.0653 - accuracy: 0.9820\n",
            "Epoch 196/280\n",
            "44/44 [==============================] - 10s 221ms/step - loss: 0.0656 - accuracy: 0.9818\n",
            "Epoch 197/280\n",
            "44/44 [==============================] - 10s 209ms/step - loss: 0.0657 - accuracy: 0.9819\n",
            "Epoch 198/280\n",
            "44/44 [==============================] - 10s 227ms/step - loss: 0.0661 - accuracy: 0.9819\n",
            "Epoch 199/280\n",
            "44/44 [==============================] - 10s 208ms/step - loss: 0.2169 - accuracy: 0.9393\n",
            "Epoch 200/280\n",
            "44/44 [==============================] - 10s 226ms/step - loss: 0.7020 - accuracy: 0.8022\n",
            "Epoch 201/280\n",
            "44/44 [==============================] - 10s 217ms/step - loss: 0.6418 - accuracy: 0.8085\n",
            "Epoch 202/280\n",
            "44/44 [==============================] - 10s 227ms/step - loss: 0.4571 - accuracy: 0.8554\n",
            "Epoch 203/280\n",
            "44/44 [==============================] - 10s 224ms/step - loss: 0.3183 - accuracy: 0.8994\n",
            "Epoch 204/280\n",
            "44/44 [==============================] - 10s 211ms/step - loss: 0.2189 - accuracy: 0.9352\n",
            "Epoch 205/280\n",
            "44/44 [==============================] - 10s 222ms/step - loss: 0.1536 - accuracy: 0.9598\n",
            "Epoch 206/280\n",
            "44/44 [==============================] - 10s 209ms/step - loss: 0.1125 - accuracy: 0.9740\n",
            "Epoch 207/280\n",
            "44/44 [==============================] - 10s 219ms/step - loss: 0.0891 - accuracy: 0.9800\n",
            "Epoch 208/280\n",
            "44/44 [==============================] - 10s 208ms/step - loss: 0.0773 - accuracy: 0.9817\n",
            "Epoch 209/280\n",
            "44/44 [==============================] - 10s 222ms/step - loss: 0.0723 - accuracy: 0.9820\n",
            "Epoch 210/280\n",
            "44/44 [==============================] - 10s 221ms/step - loss: 0.0703 - accuracy: 0.9819\n",
            "Epoch 211/280\n",
            "44/44 [==============================] - 10s 211ms/step - loss: 0.0692 - accuracy: 0.9819\n",
            "Epoch 212/280\n",
            "44/44 [==============================] - 11s 230ms/step - loss: 0.0685 - accuracy: 0.9819\n",
            "Epoch 213/280\n",
            "44/44 [==============================] - 10s 215ms/step - loss: 0.0677 - accuracy: 0.9819\n",
            "Epoch 214/280\n",
            "44/44 [==============================] - 10s 223ms/step - loss: 0.0673 - accuracy: 0.9821\n",
            "Epoch 215/280\n",
            "44/44 [==============================] - 10s 210ms/step - loss: 0.0669 - accuracy: 0.9820\n",
            "Epoch 216/280\n",
            "44/44 [==============================] - 10s 220ms/step - loss: 0.0666 - accuracy: 0.9820\n",
            "Epoch 217/280\n",
            "44/44 [==============================] - 10s 227ms/step - loss: 0.0662 - accuracy: 0.9822\n",
            "Epoch 218/280\n",
            "44/44 [==============================] - 10s 214ms/step - loss: 0.0661 - accuracy: 0.9821\n",
            "Epoch 219/280\n",
            "44/44 [==============================] - 10s 222ms/step - loss: 0.0659 - accuracy: 0.9820\n",
            "Epoch 220/280\n",
            "44/44 [==============================] - 10s 207ms/step - loss: 0.0657 - accuracy: 0.9821\n",
            "Epoch 221/280\n",
            "44/44 [==============================] - 10s 221ms/step - loss: 0.0655 - accuracy: 0.9821\n",
            "Epoch 222/280\n",
            "44/44 [==============================] - 10s 215ms/step - loss: 0.0655 - accuracy: 0.9820\n",
            "Epoch 223/280\n",
            "44/44 [==============================] - 11s 225ms/step - loss: 0.0655 - accuracy: 0.9821\n",
            "Epoch 224/280\n",
            "44/44 [==============================] - 10s 224ms/step - loss: 0.0652 - accuracy: 0.9821\n",
            "Epoch 225/280\n",
            "44/44 [==============================] - 10s 211ms/step - loss: 0.0651 - accuracy: 0.9821\n",
            "Epoch 226/280\n",
            "44/44 [==============================] - 10s 224ms/step - loss: 0.0653 - accuracy: 0.9820\n",
            "Epoch 227/280\n",
            "44/44 [==============================] - 10s 211ms/step - loss: 0.0650 - accuracy: 0.9822\n",
            "Epoch 228/280\n",
            "44/44 [==============================] - 10s 223ms/step - loss: 0.0653 - accuracy: 0.9821\n",
            "Epoch 229/280\n",
            "44/44 [==============================] - 10s 214ms/step - loss: 0.0651 - accuracy: 0.9819\n",
            "Epoch 230/280\n",
            "44/44 [==============================] - 11s 228ms/step - loss: 0.0651 - accuracy: 0.9820\n",
            "Epoch 231/280\n",
            "44/44 [==============================] - 10s 218ms/step - loss: 0.0648 - accuracy: 0.9823\n",
            "Epoch 232/280\n",
            "44/44 [==============================] - 10s 211ms/step - loss: 0.0651 - accuracy: 0.9821\n",
            "Epoch 233/280\n",
            "44/44 [==============================] - 10s 222ms/step - loss: 0.0646 - accuracy: 0.9821\n",
            "Epoch 234/280\n",
            "44/44 [==============================] - 10s 209ms/step - loss: 0.0647 - accuracy: 0.9820\n",
            "Epoch 235/280\n",
            "44/44 [==============================] - 10s 226ms/step - loss: 0.0645 - accuracy: 0.9820\n",
            "Epoch 236/280\n",
            "44/44 [==============================] - 10s 216ms/step - loss: 0.0648 - accuracy: 0.9819\n",
            "Epoch 237/280\n",
            "44/44 [==============================] - 10s 224ms/step - loss: 0.0645 - accuracy: 0.9821\n",
            "Epoch 238/280\n",
            "44/44 [==============================] - 10s 219ms/step - loss: 0.0645 - accuracy: 0.9820\n",
            "Epoch 239/280\n",
            "44/44 [==============================] - 10s 212ms/step - loss: 0.0646 - accuracy: 0.9819\n",
            "Epoch 240/280\n",
            "44/44 [==============================] - 10s 228ms/step - loss: 0.0645 - accuracy: 0.9821\n",
            "Epoch 241/280\n",
            "44/44 [==============================] - 10s 216ms/step - loss: 0.0646 - accuracy: 0.9821\n",
            "Epoch 242/280\n",
            "44/44 [==============================] - 10s 220ms/step - loss: 0.0648 - accuracy: 0.9821\n",
            "Epoch 243/280\n",
            "44/44 [==============================] - 10s 209ms/step - loss: 0.0647 - accuracy: 0.9821\n",
            "Epoch 244/280\n",
            "44/44 [==============================] - 10s 220ms/step - loss: 0.0644 - accuracy: 0.9819\n",
            "Epoch 245/280\n",
            "44/44 [==============================] - 10s 221ms/step - loss: 0.0646 - accuracy: 0.9822\n",
            "Epoch 246/280\n",
            "44/44 [==============================] - 10s 209ms/step - loss: 0.0645 - accuracy: 0.9821\n",
            "Epoch 247/280\n",
            "44/44 [==============================] - 10s 221ms/step - loss: 0.0644 - accuracy: 0.9821\n",
            "Epoch 248/280\n",
            "44/44 [==============================] - 10s 211ms/step - loss: 0.0647 - accuracy: 0.9820\n",
            "Epoch 249/280\n",
            "44/44 [==============================] - 10s 220ms/step - loss: 0.0647 - accuracy: 0.9821\n",
            "Epoch 250/280\n",
            "44/44 [==============================] - 10s 213ms/step - loss: 0.0642 - accuracy: 0.9820\n",
            "Epoch 251/280\n",
            "44/44 [==============================] - 10s 222ms/step - loss: 0.0646 - accuracy: 0.9820\n",
            "Epoch 252/280\n",
            "44/44 [==============================] - 10s 219ms/step - loss: 0.0658 - accuracy: 0.9818\n",
            "Epoch 253/280\n",
            "44/44 [==============================] - 10s 211ms/step - loss: 0.0679 - accuracy: 0.9813\n",
            "Epoch 254/280\n",
            "44/44 [==============================] - 10s 227ms/step - loss: 0.0690 - accuracy: 0.9812\n",
            "Epoch 255/280\n",
            "44/44 [==============================] - 10s 210ms/step - loss: 0.0695 - accuracy: 0.9812\n",
            "Epoch 256/280\n",
            "44/44 [==============================] - 10s 226ms/step - loss: 0.0698 - accuracy: 0.9813\n",
            "Epoch 257/280\n",
            "44/44 [==============================] - 10s 212ms/step - loss: 0.0700 - accuracy: 0.9815\n",
            "Epoch 258/280\n",
            "44/44 [==============================] - 10s 223ms/step - loss: 0.0712 - accuracy: 0.9814\n",
            "Epoch 259/280\n",
            "44/44 [==============================] - 10s 225ms/step - loss: 0.0727 - accuracy: 0.9810\n",
            "Epoch 260/280\n",
            "44/44 [==============================] - 10s 214ms/step - loss: 0.0782 - accuracy: 0.9801\n",
            "Epoch 261/280\n",
            "44/44 [==============================] - 10s 225ms/step - loss: 0.1400 - accuracy: 0.9595\n",
            "Epoch 262/280\n",
            "44/44 [==============================] - 10s 211ms/step - loss: 0.5284 - accuracy: 0.8467\n",
            "Epoch 263/280\n",
            "44/44 [==============================] - 11s 221ms/step - loss: 0.6896 - accuracy: 0.8035\n",
            "Epoch 264/280\n",
            "44/44 [==============================] - 10s 210ms/step - loss: 0.5766 - accuracy: 0.8258\n",
            "Epoch 265/280\n",
            "44/44 [==============================] - 10s 222ms/step - loss: 0.4525 - accuracy: 0.8569\n",
            "Epoch 266/280\n",
            "44/44 [==============================] - 10s 220ms/step - loss: 0.3403 - accuracy: 0.8906\n",
            "Epoch 267/280\n",
            "44/44 [==============================] - 10s 214ms/step - loss: 0.2492 - accuracy: 0.9225\n",
            "Epoch 268/280\n",
            "44/44 [==============================] - 10s 227ms/step - loss: 0.1841 - accuracy: 0.9473\n",
            "Epoch 269/280\n",
            "44/44 [==============================] - 10s 208ms/step - loss: 0.1373 - accuracy: 0.9648\n",
            "Epoch 270/280\n",
            "44/44 [==============================] - 11s 224ms/step - loss: 0.1061 - accuracy: 0.9761\n",
            "Epoch 271/280\n",
            "44/44 [==============================] - 10s 207ms/step - loss: 0.0863 - accuracy: 0.9807\n",
            "Epoch 272/280\n",
            "44/44 [==============================] - 10s 221ms/step - loss: 0.0762 - accuracy: 0.9820\n",
            "Epoch 273/280\n",
            "44/44 [==============================] - 11s 232ms/step - loss: 0.0715 - accuracy: 0.9820\n",
            "Epoch 274/280\n",
            "44/44 [==============================] - 10s 212ms/step - loss: 0.0696 - accuracy: 0.9821\n",
            "Epoch 275/280\n",
            "44/44 [==============================] - 10s 220ms/step - loss: 0.0684 - accuracy: 0.9821\n",
            "Epoch 276/280\n",
            "44/44 [==============================] - 10s 211ms/step - loss: 0.0674 - accuracy: 0.9821\n",
            "Epoch 277/280\n",
            "44/44 [==============================] - 10s 221ms/step - loss: 0.0670 - accuracy: 0.9822\n",
            "Epoch 278/280\n",
            "44/44 [==============================] - 10s 208ms/step - loss: 0.0666 - accuracy: 0.9822\n",
            "Epoch 279/280\n",
            "44/44 [==============================] - 10s 219ms/step - loss: 0.0664 - accuracy: 0.9822\n",
            "Epoch 280/280\n",
            "44/44 [==============================] - 10s 222ms/step - loss: 0.0660 - accuracy: 0.9821\n"
          ]
        }
      ],
      "source": [
        "history = model.fit(dataset,\n",
        "                    epochs=EPOCHS,\n",
        "                    callbacks=[checkpoint_callback]\n",
        "                   )"
      ]
    },
    {
      "cell_type": "code",
      "execution_count": null,
      "metadata": {
        "colab": {
          "background_save": true
        },
        "id": "0fRF6g9DtjZI",
        "outputId": "c891a7b8-1f40-4858-b858-206659a13954"
      },
      "outputs": [
        {
          "data": {
            "image/png": "[encoded data removed]",
            "text/plain": [
              "<Figure size 640x480 with 1 Axes>"
            ]
          },
          "metadata": {},
          "output_type": "display_data"
        }
      ],
      "source": [
        "plt.plot(history.history['loss'])\n",
        "plt.show()"
      ]
    },
    {
      "cell_type": "code",
      "execution_count": null,
      "metadata": {
        "colab": {
          "background_save": true
        },
        "id": "C4V11ilitjZI",
        "outputId": "52b26b6f-b48c-4a1b-cb0c-e594f3ed1ebe"
      },
      "outputs": [
        {
          "data": {
            "application/vnd.google.colaboratory.intrinsic+json": {
              "type": "string"
            },
            "text/plain": [
              "'./RNN_checkpoints/ckpt_280'"
            ]
          },
          "execution_count": 27,
          "metadata": {},
          "output_type": "execute_result"
        }
      ],
      "source": [
        "tf.train.latest_checkpoint(checkpoint_dir)"
      ]
    },
    {
      "cell_type": "markdown",
      "metadata": {
        "id": "bWrc98bbtjZJ"
      },
      "source": [
        "# Востановим модель из кеша."
      ]
    },
    {
      "cell_type": "code",
      "execution_count": null,
      "metadata": {
        "colab": {
          "background_save": true
        },
        "id": "jGbO66T5tjZJ"
      },
      "outputs": [],
      "source": [
        "model = RNNgenerator(vocab_size, embedding_dim, rnn_units)\n",
        "model.load_weights(tf.train.latest_checkpoint(checkpoint_dir))\n",
        "model.build(tf.TensorShape([1, None]))"
      ]
    },
    {
      "cell_type": "markdown",
      "metadata": {
        "id": "I0-5zpWvtjZJ"
      },
      "source": [
        "## Генерация текста."
      ]
    },
    {
      "cell_type": "code",
      "execution_count": null,
      "metadata": {
        "colab": {
          "background_save": true
        },
        "id": "DJRTPk-AtjZJ"
      },
      "outputs": [],
      "source": [
        "# Number of characters to generate\n",
        "num_generate = 500\n",
        "\n",
        "# Low temperature results in more predictable text.\n",
        "# Higher temperature results in more surprising text.\n",
        "# Experiment to find the best setting.\n",
        "temperature = 1"
      ]
    },
    {
      "cell_type": "code",
      "execution_count": null,
      "metadata": {
        "colab": {
          "background_save": true
        },
        "id": "gycS6379tjZK"
      },
      "outputs": [],
      "source": [
        "def generate_text(model, start_string):\n",
        "    # Evaluation step (generating text using the learned model)\n",
        "\n",
        "    # Converting our start string to numbers (vectorizing)\n",
        "    input_eval = [char2idx[s] for s in start_string]\n",
        "    input_eval = tf.expand_dims(input_eval, 0)\n",
        "\n",
        "    # Empty string to store our results\n",
        "    text_generated = []\n",
        "\n",
        "    # Here batch size == 1\n",
        "    model.reset_states()\n",
        "    for i in range(num_generate):\n",
        "        predictions = model(input_eval)\n",
        "        predictions = tf.squeeze(predictions, 0)\n",
        "\n",
        "        # using a categorical distribution to predict the character returned by the model\n",
        "        predictions = predictions / temperature\n",
        "        predicted_id = tf.random.categorical(predictions, num_samples=1)[-1, 0].numpy()\n",
        "\n",
        "        # Pass the predicted character as the next input to the model\n",
        "        # along with the previous hidden state\n",
        "        input_eval = tf.expand_dims([predicted_id], 0)\n",
        "\n",
        "        text_generated.append(idx2char[predicted_id])\n",
        "\n",
        "    return (start_string + ''.join(text_generated))"
      ]
    },
    {
      "cell_type": "code",
      "execution_count": null,
      "metadata": {
        "colab": {
          "background_save": true
        },
        "id": "fuZ18syNtjZK",
        "outputId": "c969bafc-6491-4051-bbfe-dc91c650d010"
      },
      "outputs": [
        {
          "name": "stdout",
          "output_type": "stream",
          "text": [
            "И вот идет уже вим Ненануташи    каны     бы,\n",
            "        Таму,\n",
            "     Так    борискатларысаточь     Додя     чалиту  найни         х         н?\n",
            "   о)\n",
            "    мушей          ез вз нанысими,\n",
            "           Ме\n",
            "       пи  нелалихочнаснилесь       Нобумравени    Пой,\n",
            "               зи               В   Таю\n",
            "           ном    Момныл плужный           ск,\n",
            "                             Изони   Алей         А,               буши                 каланый,\n",
            "     тал,\n",
            "            Еща     ны,\n",
            " Ещед,\n",
            "         ду кох\n",
            "   ужнней     Не Тазныли\n"
          ]
        }
      ],
      "source": [
        "text_ = generate_text(model, start_string=u\"И вот идет уже \")\n",
        "print(text_)"
      ]
    },
    {
      "cell_type": "markdown",
      "metadata": {
        "id": "KhqahY9ptjZK"
      },
      "source": [
        "### На 200-ой эпохе вродебы к-во было не плохим. Посмотрим как пройдет генерация текста."
      ]
    },
    {
      "cell_type": "code",
      "execution_count": null,
      "metadata": {
        "colab": {
          "background_save": true
        },
        "id": "dBXQIOjutjZT",
        "outputId": "c4eb526c-cf06-4b5c-8a2d-b1b4c6d2aa61"
      },
      "outputs": [
        {
          "name": "stderr",
          "output_type": "stream",
          "text": [
            "WARNING:tensorflow:Detecting that an object or model or tf.train.Checkpoint is being deleted with unrestored values. See the following logs for the specific values in question. To silence these warnings, use `status.expect_partial()`. See https://www.tensorflow.org/api_docs/python/tf/train/Checkpoint#restorefor details about the status object returned by the restore function.\n",
            "WARNING:tensorflow:Value in checkpoint could not be found in the restored object: (root).optimizer._iterations\n",
            "WARNING:tensorflow:Value in checkpoint could not be found in the restored object: (root).optimizer._learning_rate\n",
            "WARNING:tensorflow:Value in checkpoint could not be found in the restored object: (root).optimizer._variables.1\n",
            "WARNING:tensorflow:Value in checkpoint could not be found in the restored object: (root).optimizer._variables.2\n",
            "WARNING:tensorflow:Value in checkpoint could not be found in the restored object: (root).optimizer._variables.3\n",
            "WARNING:tensorflow:Value in checkpoint could not be found in the restored object: (root).optimizer._variables.4\n",
            "WARNING:tensorflow:Value in checkpoint could not be found in the restored object: (root).optimizer._variables.5\n",
            "WARNING:tensorflow:Value in checkpoint could not be found in the restored object: (root).optimizer._variables.6\n",
            "WARNING:tensorflow:Value in checkpoint could not be found in the restored object: (root).optimizer._variables.7\n",
            "WARNING:tensorflow:Value in checkpoint could not be found in the restored object: (root).optimizer._variables.8\n",
            "WARNING:tensorflow:Value in checkpoint could not be found in the restored object: (root).optimizer._variables.9\n",
            "WARNING:tensorflow:Value in checkpoint could not be found in the restored object: (root).optimizer._variables.10\n",
            "WARNING:tensorflow:Value in checkpoint could not be found in the restored object: (root).optimizer._variables.11\n",
            "WARNING:tensorflow:Value in checkpoint could not be found in the restored object: (root).optimizer._variables.12\n",
            "WARNING:tensorflow:Value in checkpoint could not be found in the restored object: (root).optimizer._variables.13\n",
            "WARNING:tensorflow:Value in checkpoint could not be found in the restored object: (root).optimizer._variables.14\n",
            "WARNING:tensorflow:Value in checkpoint could not be found in the restored object: (root).optimizer._variables.15\n",
            "WARNING:tensorflow:Value in checkpoint could not be found in the restored object: (root).optimizer._variables.16\n",
            "WARNING:tensorflow:Value in checkpoint could not be found in the restored object: (root).optimizer._variables.17\n",
            "WARNING:tensorflow:Value in checkpoint could not be found in the restored object: (root).optimizer._variables.18\n",
            "WARNING:tensorflow:Value in checkpoint could not be found in the restored object: (root).optimizer._variables.19\n",
            "WARNING:tensorflow:Value in checkpoint could not be found in the restored object: (root).optimizer._variables.20\n",
            "WARNING:tensorflow:Value in checkpoint could not be found in the restored object: (root).optimizer._variables.21\n",
            "WARNING:tensorflow:Value in checkpoint could not be found in the restored object: (root).optimizer._variables.22\n",
            "WARNING:tensorflow:Value in checkpoint could not be found in the restored object: (root).optimizer._variables.23\n",
            "WARNING:tensorflow:Value in checkpoint could not be found in the restored object: (root).optimizer._variables.24\n"
          ]
        }
      ],
      "source": [
        "model = RNNgenerator(vocab_size, embedding_dim, rnn_units)\n",
        "model.load_weights('./RNN_checkpoints/ckpt_200')\n",
        "model.build(tf.TensorShape([1, None]))"
      ]
    },
    {
      "cell_type": "code",
      "execution_count": null,
      "metadata": {
        "colab": {
          "background_save": true
        },
        "id": "48ZiKVHFtjZT",
        "outputId": "d448eb7f-7d97-4333-bd90-d502243e3e62"
      },
      "outputs": [
        {
          "name": "stdout",
          "output_type": "stream",
          "text": [
            "И вот идет уже в.     У      Я               Тате  коглетый,\n",
            "     ный,\n",
            "           н,            боивогле    м Нево     и       .\n",
            "                          коешный           кари,\n",
            "    ГНетя.   ны,\n",
            "   XVI\n",
            "       даж      XXVаяриж  чт      Го                        ж        Серя          бланет  л           бы     с            Тараритономавей      ко,\n",
            "         коской....\n",
            " му ско    вый,  ветаный,\n",
            "       к ле      ты         сенеть                  бо вы,\n",
            "                  Блый              рх,     прный       си,\n"
          ]
        }
      ],
      "source": [
        "text_ = generate_text(model, start_string=u\"И вот идет уже \")\n",
        "print(text_)"
      ]
    },
    {
      "cell_type": "markdown",
      "metadata": {
        "id": "NiXKoM_7tjZU"
      },
      "source": [
        "# Дальше можно не смотреть.\n",
        "\n",
        "> Хотел проверить, как поведет себя модель с установленным параметром \"return_state=True\".(подсмотрел в методичке по [tensorflow]( https://www.tensorflow.org/text/tutorials/text_generation)). Т.к. модель обучается очень долго, я просто загрузил веса из модели №1. Благо модели отличаются только указанным параметром. Но, результат получился не очень!"
      ]
    },
    {
      "cell_type": "markdown",
      "metadata": {
        "id": "dgFyIbz0tjZU"
      },
      "source": [
        "# Попробуем обучить модель с сохранением состояния."
      ]
    },
    {
      "cell_type": "code",
      "execution_count": null,
      "metadata": {
        "colab": {
          "background_save": true
        },
        "id": "NVY-l3P5tjZU"
      },
      "outputs": [],
      "source": [
        "class RNNgenerator_1(tf.keras.Model):\n",
        "  def __init__(self, vocab_size, embedding_dim, rnn_units):\n",
        "    super().__init__(self)\n",
        "    self.embedding = tf.keras.layers.Embedding(vocab_size, embedding_dim)\n",
        "    self.gru1 = tf.keras.layers.GRU(rnn_units,\n",
        "                                   return_sequences=True,\n",
        "                                   return_state=True,\n",
        "                                   recurrent_initializer='glorot_uniform')\n",
        "    self.gru2 = tf.keras.layers.GRU(rnn_units,\n",
        "                                    return_sequences=True,\n",
        "                                    return_state=True,\n",
        "                                    recurrent_initializer='glorot_uniform')\n",
        "    self.gru3 = tf.keras.layers.GRU(rnn_units,\n",
        "                                    return_sequences=True,\n",
        "                                    return_state=True,\n",
        "                                    recurrent_initializer='glorot_uniform')\n",
        "    self.dense = tf.keras.layers.Dense(vocab_size)\n",
        "\n",
        "  def call(self, x, states=None, return_state=False):\n",
        "\n",
        "    x = self.embedding(x)\n",
        "\n",
        "    if states is None:\n",
        "      states = self.gru1.get_initial_state(x)\n",
        "\n",
        "    x, states = self.gru1(x, initial_state=states)\n",
        "    x, states = self.gru2(x, initial_state=states)\n",
        "    x, states = self.gru3(x, initial_state=states)\n",
        "\n",
        "    x = self.dense(x)\n",
        "\n",
        "    if return_state:\n",
        "      return x, states\n",
        "    else:\n",
        "      return x"
      ]
    },
    {
      "cell_type": "code",
      "execution_count": null,
      "metadata": {
        "colab": {
          "background_save": true
        },
        "id": "Io1JT2XUtjZU"
      },
      "outputs": [],
      "source": [
        "checkpoint_dir = './RNN_checkpoints'\n",
        "\n",
        "# Name of the checkpoint files\n",
        "checkpoint_prefix = os.path.join(checkpoint_dir, \"ckpt_{epoch}\")\n",
        "\n",
        "checkpoint_callback = tf.keras.callbacks.ModelCheckpoint(\n",
        "                                filepath=checkpoint_prefix,\n",
        "                                save_freq=1,\n",
        "                                save_weights_only=True)"
      ]
    },
    {
      "cell_type": "code",
      "execution_count": null,
      "metadata": {
        "colab": {
          "background_save": true
        },
        "id": "YITZOlAytjZV"
      },
      "outputs": [],
      "source": [
        "model_1 = RNNgenerator_1(\n",
        "                 vocab_size= vocab_size,\n",
        "                 embedding_dim=embedding_dim,\n",
        "                 rnn_units=rnn_units,\n",
        "                )"
      ]
    },
    {
      "cell_type": "code",
      "execution_count": null,
      "metadata": {
        "colab": {
          "background_save": true
        },
        "id": "iExXOAm-tjZV"
      },
      "outputs": [],
      "source": [
        "model_1.compile(optimizer='adam', loss=loss, metrics='accuracy')"
      ]
    },
    {
      "cell_type": "code",
      "execution_count": null,
      "metadata": {
        "colab": {
          "background_save": true
        },
        "id": "hbOCb4fgtjZV",
        "outputId": "b2a7b6ae-f8f3-4518-db2b-3aae03641fac"
      },
      "outputs": [
        {
          "data": {
            "text/plain": [
              "<tensorflow.python.checkpoint.checkpoint.CheckpointLoadStatus at 0x7fc1397544f0>"
            ]
          },
          "execution_count": 38,
          "metadata": {},
          "output_type": "execute_result"
        }
      ],
      "source": [
        "# Загрузим веса из чекпоинтов.\n",
        "\n",
        "# model_1.load_weights(tf.train.latest_checkpoint(checkpoint_dir))\n",
        "\n",
        "model_1.load_weights('./RNN_checkpoints/ckpt_200')"
      ]
    },
    {
      "cell_type": "markdown",
      "metadata": {
        "id": "B68D2dqTtjZV"
      },
      "source": [
        "## Генерация текста."
      ]
    },
    {
      "cell_type": "code",
      "execution_count": null,
      "metadata": {
        "colab": {
          "background_save": true
        },
        "id": "1hkjX-sNtjZV"
      },
      "outputs": [],
      "source": [
        "def generate_text_1(model, start_string, states, temperature):\n",
        "    # Evaluation step (generating text using the learned model)\n",
        "\n",
        "    # Converting our start string to numbers (vectorizing)\n",
        "    input_eval = [char2idx[s] for s in start_string]\n",
        "    input_eval = tf.expand_dims(input_eval, 0)\n",
        "\n",
        "    # Empty string to store our results\n",
        "    text_generated = []\n",
        "\n",
        "    # Here batch size == 1\n",
        "    model.reset_states()\n",
        "    for i in range(num_generate):\n",
        "        predictions, states = model(input_eval, states=states, return_state=True)\n",
        "        predictions = tf.squeeze(predictions, 0)\n",
        "\n",
        "        # using a categorical distribution to predict the character returned by the model\n",
        "        predictions = predictions / temperature\n",
        "        predicted_id = tf.random.categorical(predictions, num_samples=1)[-1, 0].numpy()\n",
        "\n",
        "        # Pass the predicted character as the next input to the model\n",
        "        # along with the previous hidden state\n",
        "        input_eval = tf.expand_dims([predicted_id], 0)\n",
        "\n",
        "        text_generated.append(idx2char[predicted_id])\n",
        "\n",
        "    return (start_string + ''.join(text_generated))"
      ]
    },
    {
      "cell_type": "code",
      "execution_count": null,
      "metadata": {
        "colab": {
          "background_save": true
        },
        "id": "SSc7sOjotjZV"
      },
      "outputs": [],
      "source": [
        "num_generate = 500\n",
        "temperature = 0.6\n",
        "states = None\n",
        "next_char = u\"И вот идет уже \"\n",
        "text_generated=[]"
      ]
    },
    {
      "cell_type": "code",
      "execution_count": null,
      "metadata": {
        "id": "CqdCmP0CtjZV"
      },
      "outputs": [],
      "source": [
        "text = generate_text_1(model_1, next_char, states, temperature)\n",
        "print(text)"
      ]
    },
    {
      "cell_type": "markdown",
      "metadata": {
        "id": "Z-hXTrtjtjZW"
      },
      "source": [
        "# Model 2"
      ]
    },
    {
      "cell_type": "code",
      "execution_count": null,
      "metadata": {
        "colab": {
          "background_save": true
        },
        "id": "lN7bNQN_tjZW"
      },
      "outputs": [],
      "source": [
        "class RNNgenerator_2(tf.keras.Model):\n",
        "  def __init__(self, vocab_size, embedding_dim, rnn_units):\n",
        "    super().__init__(self)\n",
        "    self.embedding = tf.keras.layers.Embedding(vocab_size, embedding_dim)\n",
        "    self.gru1 = tf.keras.layers.GRU(rnn_units,\n",
        "                                   return_sequences=True,\n",
        "                                   return_state=True,\n",
        "                                   recurrent_initializer='glorot_uniform')\n",
        "    self.gru2 = tf.keras.layers.GRU(rnn_units,\n",
        "                                    return_sequences=True,\n",
        "                                    return_state=True,\n",
        "                                    recurrent_initializer='glorot_uniform')\n",
        "    self.gru3 = tf.keras.layers.GRU(rnn_units,\n",
        "                                    return_sequences=True,\n",
        "                                    return_state=True,\n",
        "                                    recurrent_initializer='glorot_uniform')\n",
        "    self.dense = tf.keras.layers.Dense(vocab_size)\n",
        "\n",
        "  def call(self, x, states_1=None, states_2=None, states_3=None, return_state=False):\n",
        "\n",
        "    x = self.embedding(x)\n",
        "\n",
        "    if states is None:\n",
        "      states_1 = self.gru1.get_initial_state(x)\n",
        "      states_2 = self.gru1.get_initial_state(x)\n",
        "      states_3 = self.gru1.get_initial_state(x)\n",
        "\n",
        "    x, states_1 = self.gru1(x, initial_state=states_1)\n",
        "    x, states_2 = self.gru2(x, initial_state=states_2)\n",
        "    x, states_3 = self.gru3(x, initial_state=states_3)\n",
        "\n",
        "    x = self.dense(x)\n",
        "\n",
        "    if return_state:\n",
        "      return x, states_1, states_2, states_3\n",
        "    else:\n",
        "      return x"
      ]
    },
    {
      "cell_type": "code",
      "execution_count": null,
      "metadata": {
        "colab": {
          "background_save": true
        },
        "id": "7s7yRb-DtjZW"
      },
      "outputs": [],
      "source": [
        "# Directory where the checkpoints will be saved\n",
        "checkpoint_dir = './RNN_2_checkpoints'\n",
        "checkpoint_dir = './RNN_checkpoints'\n",
        "# Name of the checkpoint files\n",
        "checkpoint_prefix = os.path.join(checkpoint_dir, \"ckpt_{epoch}\")\n",
        "\n",
        "checkpoint_callback = tf.keras.callbacks.ModelCheckpoint(\n",
        "                                filepath=checkpoint_prefix,\n",
        "                                save_freq=1,\n",
        "                                save_weights_only=True)"
      ]
    },
    {
      "cell_type": "code",
      "execution_count": null,
      "metadata": {
        "colab": {
          "background_save": true
        },
        "id": "gc9jU8JjtjZW"
      },
      "outputs": [],
      "source": [
        "model_2 = RNNgenerator_2(\n",
        "                 vocab_size= vocab_size,\n",
        "                 embedding_dim=embedding_dim,\n",
        "                 rnn_units=rnn_units,\n",
        "                )"
      ]
    },
    {
      "cell_type": "code",
      "execution_count": null,
      "metadata": {
        "colab": {
          "background_save": true
        },
        "id": "RQZFxbKbtjZW"
      },
      "outputs": [],
      "source": [
        "model_2.compile(optimizer='adam', loss=loss, metrics='accuracy')"
      ]
    },
    {
      "cell_type": "code",
      "execution_count": null,
      "metadata": {
        "id": "hUF__22dtjZW"
      },
      "outputs": [],
      "source": [
        "# model_2.load_weights(tf.train.latest_checkpoint(checkpoint_dir))\n",
        "\n",
        "model_2.load_weights('./RNN_checkpoints/ckpt_200')"
      ]
    },
    {
      "cell_type": "code",
      "execution_count": null,
      "metadata": {
        "id": "xj9LXBY0tjZW"
      },
      "outputs": [],
      "source": [
        "def generate_text_2(model, start_string, states_1, states_2, states_3, temperature):\n",
        "    # Evaluation step (generating text using the learned model)\n",
        "\n",
        "    # Converting our start string to numbers (vectorizing)\n",
        "    input_eval = [char2idx[s] for s in start_string]\n",
        "    input_eval = tf.expand_dims(input_eval, 0)\n",
        "\n",
        "    # Empty string to store our results\n",
        "    text_generated = []\n",
        "\n",
        "    # Here batch size == 1\n",
        "    model.reset_states()\n",
        "    for i in range(num_generate):\n",
        "        predictions, states_1,states_2, states_3 = model(input_eval, states_1=states_1, states_2=states_2, states_3=states_3, return_state=True)\n",
        "        predictions = tf.squeeze(predictions, 0)\n",
        "\n",
        "        # using a categorical distribution to predict the character returned by the model\n",
        "        predictions = predictions / temperature\n",
        "        predicted_id = tf.random.categorical(predictions, num_samples=1)[-1, 0].numpy()\n",
        "\n",
        "        # Pass the predicted character as the next input to the model\n",
        "        # along with the previous hidden state\n",
        "        input_eval = tf.expand_dims([predicted_id], 0)\n",
        "\n",
        "        text_generated.append(idx2char[predicted_id])\n",
        "\n",
        "    return (start_string + ''.join(text_generated))"
      ]
    },
    {
      "cell_type": "code",
      "execution_count": null,
      "metadata": {
        "id": "wiG4hzs7tjZX"
      },
      "outputs": [],
      "source": [
        "num_generate = 500\n",
        "temperature = .5\n",
        "states_1 = None\n",
        "states_2 = None\n",
        "states_3 = None\n",
        "next_char = u\"И вот идет уже \"\n",
        "text_generated=[]"
      ]
    },
    {
      "cell_type": "code",
      "execution_count": null,
      "metadata": {
        "id": "LeKeVgHFtjZX"
      },
      "outputs": [],
      "source": [
        "text = generate_text_2(model_2, next_char, states_1, states_2, states_3, temperature)\n",
        "print(text)"
      ]
    }
  ],
  "metadata": {
    "accelerator": "GPU",
    "colab": {
      "provenance": []
    },
    "interpreter": {
      "hash": "6b7c3ebca6b5b4a4b8af7b3624595a453b0710866dad47574474daaa4a66fc12"
    },
    "kernelspec": {
      "display_name": "Python 3",
      "name": "python3"
    },
    "language_info": {
      "codemirror_mode": {
        "name": "ipython",
        "version": 3
      },
      "file_extension": ".py",
      "mimetype": "text/x-python",
      "name": "python",
      "nbconvert_exporter": "python",
      "pygments_lexer": "ipython3",
      "version": "3.8.10"
    }
  },
  "nbformat": 4,
  "nbformat_minor": 0
}