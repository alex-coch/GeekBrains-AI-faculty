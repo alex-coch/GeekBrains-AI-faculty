{
  "cells": [
    {
      "cell_type": "code",
      "source": [
        "# 1\n",
        "!pip install natasha -q"
      ],
      "metadata": {
        "colab": {
          "base_uri": "https://localhost:8080/"
        },
        "id": "Np7AAohSFnqn",
        "outputId": "eeaaf36a-48d4-4bf4-bc78-52d2aca912a7"
      },
      "id": "Np7AAohSFnqn",
      "execution_count": 1,
      "outputs": [
        {
          "output_type": "stream",
          "name": "stdout",
          "text": [
            "\u001b[2K     \u001b[90m━━━━━━━━━━━━━━━━━━━━━━━━━━━━━━━━━━━━━━━━\u001b[0m \u001b[32m34.4/34.4 MB\u001b[0m \u001b[31m39.3 MB/s\u001b[0m eta \u001b[36m0:00:00\u001b[0m\n",
            "\u001b[2K     \u001b[90m━━━━━━━━━━━━━━━━━━━━━━━━━━━━━━━━━━━━━━━━\u001b[0m \u001b[32m55.5/55.5 kB\u001b[0m \u001b[31m8.1 MB/s\u001b[0m eta \u001b[36m0:00:00\u001b[0m\n",
            "\u001b[2K     \u001b[90m━━━━━━━━━━━━━━━━━━━━━━━━━━━━━━━━━━━━━━━━\u001b[0m \u001b[32m46.7/46.7 kB\u001b[0m \u001b[31m6.6 MB/s\u001b[0m eta \u001b[36m0:00:00\u001b[0m\n",
            "\u001b[?25h  Preparing metadata (setup.py) ... \u001b[?25l\u001b[?25hdone\n",
            "\u001b[2K     \u001b[90m━━━━━━━━━━━━━━━━━━━━━━━━━━━━━━━━━━━━━━━━\u001b[0m \u001b[32m8.2/8.2 MB\u001b[0m \u001b[31m67.3 MB/s\u001b[0m eta \u001b[36m0:00:00\u001b[0m\n",
            "\u001b[?25h  Preparing metadata (setup.py) ... \u001b[?25l\u001b[?25hdone\n",
            "  Building wheel for docopt (setup.py) ... \u001b[?25l\u001b[?25hdone\n",
            "  Building wheel for intervaltree (setup.py) ... \u001b[?25l\u001b[?25hdone\n"
          ]
        }
      ]
    },
    {
      "cell_type": "code",
      "execution_count": 2,
      "id": "0b0219a7",
      "metadata": {
        "id": "0b0219a7",
        "colab": {
          "base_uri": "https://localhost:8080/"
        },
        "outputId": "b9022a3b-7aaa-4596-8b4c-66da4834c814"
      },
      "outputs": [
        {
          "output_type": "stream",
          "name": "stderr",
          "text": [
            "[nltk_data] Downloading package stopwords to /root/nltk_data...\n",
            "[nltk_data]   Unzipping corpora/stopwords.zip.\n",
            "[nltk_data] Downloading package punkt to /root/nltk_data...\n",
            "[nltk_data]   Unzipping tokenizers/punkt.zip.\n"
          ]
        },
        {
          "output_type": "execute_result",
          "data": {
            "text/plain": [
              "True"
            ]
          },
          "metadata": {},
          "execution_count": 2
        }
      ],
      "source": [
        "import pandas as pd\n",
        "import numpy as np\n",
        "import tensorflow as tf\n",
        "\n",
        "from tensorflow.keras import Sequential\n",
        "from tensorflow.keras.layers import Dense, Embedding, GlobalAveragePooling1D, Conv1D, GRU, LSTM, Dropout\n",
        "from tensorflow.keras.layers.experimental.preprocessing import TextVectorization\n",
        "from sklearn.metrics import *\n",
        "from sklearn.model_selection import train_test_split\n",
        "from sklearn.pipeline import Pipeline\n",
        "from collections import Counter\n",
        "from nltk.corpus import stopwords\n",
        "from string import punctuation\n",
        "from sklearn.linear_model import LogisticRegression\n",
        "from sklearn.feature_extraction.text import CountVectorizer, TfidfVectorizer, HashingVectorizer\n",
        "from natasha import Doc, MorphVocab, Segmenter, NewsEmbedding, NewsMorphTagger\n",
        "\n",
        "import nltk\n",
        "nltk.download('stopwords')\n",
        "nltk.download('punkt')"
      ]
    },
    {
      "cell_type": "code",
      "execution_count": 3,
      "id": "3e9fda63",
      "metadata": {
        "id": "3e9fda63"
      },
      "outputs": [],
      "source": [
        "segmenter = Segmenter()\n",
        "morph_vocab = MorphVocab()\n",
        "emb = NewsEmbedding()\n",
        "morph_tagger = NewsMorphTagger(emb)\n",
        "\n",
        "def natasha_lemmatize(text):\n",
        "    doc = Doc(text)\n",
        "    doc.segment(segmenter)\n",
        "    doc.tag_morph(morph_tagger)\n",
        "    for token in doc.tokens:\n",
        "        token.lemmatize(morph_vocab)\n",
        "    return \" \".join(_.lemma for _ in doc.tokens)"
      ]
    },
    {
      "cell_type": "markdown",
      "id": "092ee930",
      "metadata": {
        "id": "092ee930"
      },
      "source": [
        "Сформируем общий датасет на основе наборов для обучения и теста."
      ]
    },
    {
      "cell_type": "code",
      "source": [
        "import requests\n",
        "from urllib.parse import urlencode\n",
        "\n",
        "base_url = 'https://cloud-api.yandex.net/v1/disk/public/resources/download?'\n",
        "public_key = 'https://disk.yandex.ru/i/koR5eMCToCZS2Q'\n",
        "\n",
        "# Получаем загрузочную ссылку\n",
        "final_url = base_url + urlencode(dict(public_key=public_key))\n",
        "response = requests.get(final_url)\n",
        "download_url = response.json()['href']\n",
        "\n",
        "# Загружаем файл и сохраняем его\n",
        "download_response = requests.get(download_url)\n",
        "with open('positive.csv', 'wb') as f:\n",
        "    f.write(download_response.content)\n",
        "\n",
        "public_key = 'https://disk.yandex.ru/i/koR5eMCToCZS2Q'\n",
        "\n",
        "# Получаем загрузочную ссылку\n",
        "final_url = base_url + urlencode(dict(public_key=public_key))\n",
        "response = requests.get(final_url)\n",
        "download_url = response.json()['href']\n",
        "\n",
        "# Загружаем файл и сохраняем его\n",
        "download_response = requests.get(download_url)\n",
        "with open('negative.csv', 'wb') as f:\n",
        "    f.write(download_response.content)"
      ],
      "metadata": {
        "id": "b-2dT35UYLmd"
      },
      "id": "b-2dT35UYLmd",
      "execution_count": 4,
      "outputs": []
    },
    {
      "cell_type": "code",
      "execution_count": 5,
      "id": "9db7518d",
      "metadata": {
        "id": "9db7518d",
        "colab": {
          "base_uri": "https://localhost:8080/"
        },
        "outputId": "8bf64d6f-4b64-4eb8-8b90-f2813b3740a8"
      },
      "outputs": [
        {
          "output_type": "stream",
          "name": "stderr",
          "text": [
            "<ipython-input-5-b4ad31c73284>:6: FutureWarning: The frame.append method is deprecated and will be removed from pandas in a future version. Use pandas.concat instead.\n",
            "  df = positive.append(negative)\n"
          ]
        }
      ],
      "source": [
        "# считываем данные и заполняем общий датасет\n",
        "positive = pd.read_csv('positive.csv', sep=';', usecols=[3], names=['text'])\n",
        "positive['label'] = ['positive'] * len(positive)\n",
        "negative = pd.read_csv('negative.csv', sep=';', usecols=[3], names=['text'])\n",
        "negative['label'] = ['negative'] * len(negative)\n",
        "df = positive.append(negative)\n",
        "df.reset_index(inplace=True)"
      ]
    },
    {
      "cell_type": "code",
      "execution_count": 6,
      "id": "a37e8fbf",
      "metadata": {
        "colab": {
          "base_uri": "https://localhost:8080/"
        },
        "id": "a37e8fbf",
        "outputId": "3b702c4c-6861-45a8-b3b4-73bc5281f032"
      },
      "outputs": [
        {
          "output_type": "execute_result",
          "data": {
            "text/plain": [
              "129846    Спасибо за то,Что Ты Есть у Меня !!! Оставайся...\n",
              "Name: text, dtype: object"
            ]
          },
          "metadata": {},
          "execution_count": 6
        }
      ],
      "source": [
        "df['text'].sample()"
      ]
    },
    {
      "cell_type": "code",
      "execution_count": 7,
      "id": "d06fdb73",
      "metadata": {
        "colab": {
          "base_uri": "https://localhost:8080/",
          "height": 36
        },
        "id": "d06fdb73",
        "outputId": "55171470-8046-4e10-c3fc-df4f30ca6158"
      },
      "outputs": [
        {
          "output_type": "execute_result",
          "data": {
            "text/plain": [
              "'@ irina_dyshkant вот что значить страшилка : d но блин , посмотреть весь часть , у ты создаться ощущение , что автор курить что-то : d'"
            ],
            "application/vnd.google.colaboratory.intrinsic+json": {
              "type": "string"
            }
          },
          "metadata": {},
          "execution_count": 7
        }
      ],
      "source": [
        "natasha_lemmatize(df['text'][4])"
      ]
    },
    {
      "cell_type": "code",
      "execution_count": 8,
      "id": "63ee9d89",
      "metadata": {
        "colab": {
          "base_uri": "https://localhost:8080/",
          "height": 81
        },
        "id": "63ee9d89",
        "outputId": "5d81c340-e3a7-423a-b195-298f4e93172a"
      },
      "outputs": [
        {
          "output_type": "execute_result",
          "data": {
            "text/plain": [
              "        index                                               text     label  \\\n",
              "206650  91739  сегодня был замечательный день, спасибо вам мо...  negative   \n",
              "\n",
              "                                          lemmatized_text  \n",
              "206650  сегодня быть замечательный день , спасибо вы м...  "
            ],
            "text/html": [
              "\n",
              "  <div id=\"df-ddd9504c-8158-41e3-b0cc-543d0d705158\">\n",
              "    <div class=\"colab-df-container\">\n",
              "      <div>\n",
              "<style scoped>\n",
              "    .dataframe tbody tr th:only-of-type {\n",
              "        vertical-align: middle;\n",
              "    }\n",
              "\n",
              "    .dataframe tbody tr th {\n",
              "        vertical-align: top;\n",
              "    }\n",
              "\n",
              "    .dataframe thead th {\n",
              "        text-align: right;\n",
              "    }\n",
              "</style>\n",
              "<table border=\"1\" class=\"dataframe\">\n",
              "  <thead>\n",
              "    <tr style=\"text-align: right;\">\n",
              "      <th></th>\n",
              "      <th>index</th>\n",
              "      <th>text</th>\n",
              "      <th>label</th>\n",
              "      <th>lemmatized_text</th>\n",
              "    </tr>\n",
              "  </thead>\n",
              "  <tbody>\n",
              "    <tr>\n",
              "      <th>206650</th>\n",
              "      <td>91739</td>\n",
              "      <td>сегодня был замечательный день, спасибо вам мо...</td>\n",
              "      <td>negative</td>\n",
              "      <td>сегодня быть замечательный день , спасибо вы м...</td>\n",
              "    </tr>\n",
              "  </tbody>\n",
              "</table>\n",
              "</div>\n",
              "      <button class=\"colab-df-convert\" onclick=\"convertToInteractive('df-ddd9504c-8158-41e3-b0cc-543d0d705158')\"\n",
              "              title=\"Convert this dataframe to an interactive table.\"\n",
              "              style=\"display:none;\">\n",
              "        \n",
              "  <svg xmlns=\"http://www.w3.org/2000/svg\" height=\"24px\"viewBox=\"0 0 24 24\"\n",
              "       width=\"24px\">\n",
              "    <path d=\"M0 0h24v24H0V0z\" fill=\"none\"/>\n",
              "    <path d=\"M18.56 5.44l.94 2.06.94-2.06 2.06-.94-2.06-.94-.94-2.06-.94 2.06-2.06.94zm-11 1L8.5 8.5l.94-2.06 2.06-.94-2.06-.94L8.5 2.5l-.94 2.06-2.06.94zm10 10l.94 2.06.94-2.06 2.06-.94-2.06-.94-.94-2.06-.94 2.06-2.06.94z\"/><path d=\"M17.41 7.96l-1.37-1.37c-.4-.4-.92-.59-1.43-.59-.52 0-1.04.2-1.43.59L10.3 9.45l-7.72 7.72c-.78.78-.78 2.05 0 2.83L4 21.41c.39.39.9.59 1.41.59.51 0 1.02-.2 1.41-.59l7.78-7.78 2.81-2.81c.8-.78.8-2.07 0-2.86zM5.41 20L4 18.59l7.72-7.72 1.47 1.35L5.41 20z\"/>\n",
              "  </svg>\n",
              "      </button>\n",
              "      \n",
              "  <style>\n",
              "    .colab-df-container {\n",
              "      display:flex;\n",
              "      flex-wrap:wrap;\n",
              "      gap: 12px;\n",
              "    }\n",
              "\n",
              "    .colab-df-convert {\n",
              "      background-color: #E8F0FE;\n",
              "      border: none;\n",
              "      border-radius: 50%;\n",
              "      cursor: pointer;\n",
              "      display: none;\n",
              "      fill: #1967D2;\n",
              "      height: 32px;\n",
              "      padding: 0 0 0 0;\n",
              "      width: 32px;\n",
              "    }\n",
              "\n",
              "    .colab-df-convert:hover {\n",
              "      background-color: #E2EBFA;\n",
              "      box-shadow: 0px 1px 2px rgba(60, 64, 67, 0.3), 0px 1px 3px 1px rgba(60, 64, 67, 0.15);\n",
              "      fill: #174EA6;\n",
              "    }\n",
              "\n",
              "    [theme=dark] .colab-df-convert {\n",
              "      background-color: #3B4455;\n",
              "      fill: #D2E3FC;\n",
              "    }\n",
              "\n",
              "    [theme=dark] .colab-df-convert:hover {\n",
              "      background-color: #434B5C;\n",
              "      box-shadow: 0px 1px 3px 1px rgba(0, 0, 0, 0.15);\n",
              "      filter: drop-shadow(0px 1px 2px rgba(0, 0, 0, 0.3));\n",
              "      fill: #FFFFFF;\n",
              "    }\n",
              "  </style>\n",
              "\n",
              "      <script>\n",
              "        const buttonEl =\n",
              "          document.querySelector('#df-ddd9504c-8158-41e3-b0cc-543d0d705158 button.colab-df-convert');\n",
              "        buttonEl.style.display =\n",
              "          google.colab.kernel.accessAllowed ? 'block' : 'none';\n",
              "\n",
              "        async function convertToInteractive(key) {\n",
              "          const element = document.querySelector('#df-ddd9504c-8158-41e3-b0cc-543d0d705158');\n",
              "          const dataTable =\n",
              "            await google.colab.kernel.invokeFunction('convertToInteractive',\n",
              "                                                     [key], {});\n",
              "          if (!dataTable) return;\n",
              "\n",
              "          const docLinkHtml = 'Like what you see? Visit the ' +\n",
              "            '<a target=\"_blank\" href=https://colab.research.google.com/notebooks/data_table.ipynb>data table notebook</a>'\n",
              "            + ' to learn more about interactive tables.';\n",
              "          element.innerHTML = '';\n",
              "          dataTable['output_type'] = 'display_data';\n",
              "          await google.colab.output.renderOutput(dataTable, element);\n",
              "          const docLink = document.createElement('div');\n",
              "          docLink.innerHTML = docLinkHtml;\n",
              "          element.appendChild(docLink);\n",
              "        }\n",
              "      </script>\n",
              "    </div>\n",
              "  </div>\n",
              "  "
            ]
          },
          "metadata": {},
          "execution_count": 8
        }
      ],
      "source": [
        "df['lemmatized_text'] = df['text'].apply(natasha_lemmatize)\n",
        "df.sample()"
      ]
    },
    {
      "cell_type": "code",
      "execution_count": 9,
      "id": "923aab84",
      "metadata": {
        "colab": {
          "base_uri": "https://localhost:8080/"
        },
        "id": "923aab84",
        "outputId": "fe35a6ee-6b4c-45aa-f9c3-f8bbf07a353f"
      },
      "outputs": [
        {
          "output_type": "stream",
          "name": "stdout",
          "text": [
            "2256546\n"
          ]
        },
        {
          "output_type": "execute_result",
          "data": {
            "text/plain": [
              "['first_timee', 'школоть', 'поверь', 'самый', 'd']"
            ]
          },
          "metadata": {},
          "execution_count": 9
        }
      ],
      "source": [
        "noise = stopwords.words('russian') + list(punctuation)\n",
        "corpus = [token for tweet in df['lemmatized_text']\n",
        "          for token in nltk.tokenize.word_tokenize(tweet) if token not in noise]\n",
        "print(len(corpus))\n",
        "corpus[:5]"
      ]
    },
    {
      "cell_type": "code",
      "execution_count": 10,
      "id": "a0bb6130",
      "metadata": {
        "colab": {
          "base_uri": "https://localhost:8080/"
        },
        "id": "a0bb6130",
        "outputId": "546dedc8-00f4-4e0a-e0fd-ed4289598c4d"
      },
      "outputs": [
        {
          "output_type": "execute_result",
          "data": {
            "text/plain": [
              "[('t', 46144),\n",
              " ('http', 45048),\n",
              " ('co', 45000),\n",
              " ('rt', 44166),\n",
              " ('d', 36648),\n",
              " ('весь', 30578),\n",
              " ('``', 30378),\n",
              " ('это', 24534),\n",
              " ('...', 17172),\n",
              " ('3', 12436)]"
            ]
          },
          "metadata": {},
          "execution_count": 10
        }
      ],
      "source": [
        "freq_dict = Counter(corpus)\n",
        "# freq_dict_sorted= sorted(freq_dict.items(), key=lambda x: -x[1])\n",
        "# list(freq_dict_sorted)[:10]\n",
        "freq_dict.most_common(10)"
      ]
    },
    {
      "cell_type": "code",
      "source": [
        "len(freq_dict)"
      ],
      "metadata": {
        "colab": {
          "base_uri": "https://localhost:8080/"
        },
        "id": "1AoyknMnZuJ5",
        "outputId": "223cb07d-b42b-46d1-ee83-b107d87f69e6"
      },
      "id": "1AoyknMnZuJ5",
      "execution_count": 11,
      "outputs": [
        {
          "output_type": "execute_result",
          "data": {
            "text/plain": [
              "163000"
            ]
          },
          "metadata": {},
          "execution_count": 11
        }
      ]
    },
    {
      "cell_type": "code",
      "execution_count": 12,
      "id": "24ecdba7",
      "metadata": {
        "colab": {
          "base_uri": "https://localhost:8080/"
        },
        "id": "24ecdba7",
        "outputId": "5426de0b-69fb-419c-ecc1-2479f4e29e06"
      },
      "outputs": [
        {
          "output_type": "execute_result",
          "data": {
            "text/plain": [
              "['t', 'http', 'co', 'rt', 'd', 'весь', '``', 'это', '...', '3']"
            ]
          },
          "metadata": {},
          "execution_count": 12
        }
      ],
      "source": [
        "most_frequent_tokens = [item[0] for item in freq_dict.most_common(162000)][:54000]\n",
        "avg_frequent_tokens = [item[0] for item in freq_dict.most_common(162000)][54000:108000]\n",
        "less_frequent_tokens = [item[0] for item in freq_dict.most_common(162000)][108000:]\n",
        "most_frequent_tokens[:10]"
      ]
    },
    {
      "cell_type": "code",
      "source": [
        "x_train, x_test, y_train, y_test = train_test_split(df['lemmatized_text'], df.label, random_state=42)"
      ],
      "metadata": {
        "id": "G5EFyHz2beMU"
      },
      "id": "G5EFyHz2beMU",
      "execution_count": 13,
      "outputs": []
    },
    {
      "cell_type": "code",
      "execution_count": 14,
      "id": "aac4ee69",
      "metadata": {
        "colab": {
          "base_uri": "https://localhost:8080/"
        },
        "id": "aac4ee69",
        "outputId": "a9b8cf87-236c-43be-c466-daacbd55d5ed"
      },
      "outputs": [
        {
          "output_type": "stream",
          "name": "stderr",
          "text": [
            "/usr/local/lib/python3.10/dist-packages/sklearn/feature_extraction/text.py:528: UserWarning: The parameter 'token_pattern' will not be used since 'tokenizer' is not None'\n",
            "  warnings.warn(\n"
          ]
        },
        {
          "output_type": "stream",
          "name": "stdout",
          "text": [
            "              precision    recall  f1-score   support\n",
            "\n",
            "    negative       0.25      0.25      0.25     28614\n",
            "    positive       0.25      0.25      0.25     28842\n",
            "\n",
            "    accuracy                           0.25     57456\n",
            "   macro avg       0.25      0.25      0.25     57456\n",
            "weighted avg       0.25      0.25      0.25     57456\n",
            "\n"
          ]
        }
      ],
      "source": [
        "vec = CountVectorizer(ngram_range=(1, 1), tokenizer=nltk.tokenize.word_tokenize, vocabulary=most_frequent_tokens)\n",
        "bow = vec.fit_transform(x_train)\n",
        "clf = LogisticRegression(random_state=42, max_iter=500)\n",
        "clf.fit(bow, y_train)\n",
        "pred = clf.predict(vec.transform(x_test))\n",
        "print(classification_report(pred, y_test))"
      ]
    },
    {
      "cell_type": "code",
      "execution_count": 15,
      "id": "c333443e",
      "metadata": {
        "colab": {
          "base_uri": "https://localhost:8080/"
        },
        "id": "c333443e",
        "outputId": "cb04a8ae-1dd4-4c2d-a8a3-fa9a8cd1cbe8"
      },
      "outputs": [
        {
          "output_type": "stream",
          "name": "stderr",
          "text": [
            "/usr/local/lib/python3.10/dist-packages/sklearn/feature_extraction/text.py:528: UserWarning: The parameter 'token_pattern' will not be used since 'tokenizer' is not None'\n",
            "  warnings.warn(\n",
            "/usr/local/lib/python3.10/dist-packages/sklearn/feature_extraction/text.py:1380: UserWarning: Upper case characters found in vocabulary while 'lowercase' is True. These entries will not be matched with any documents\n",
            "  warnings.warn(\n"
          ]
        },
        {
          "output_type": "stream",
          "name": "stdout",
          "text": [
            "              precision    recall  f1-score   support\n",
            "\n",
            "    negative       0.00      0.00      0.00      6124\n",
            "    positive       0.79      0.44      0.56     51332\n",
            "\n",
            "    accuracy                           0.39     57456\n",
            "   macro avg       0.39      0.22      0.28     57456\n",
            "weighted avg       0.70      0.39      0.50     57456\n",
            "\n"
          ]
        }
      ],
      "source": [
        "vec = CountVectorizer(ngram_range=(1, 1), tokenizer=nltk.tokenize.word_tokenize, vocabulary=avg_frequent_tokens)\n",
        "bow = vec.fit_transform(x_train)\n",
        "clf = LogisticRegression(random_state=42, max_iter=500)\n",
        "clf.fit(bow, y_train)\n",
        "pred = clf.predict(vec.transform(x_test))\n",
        "print(classification_report(pred, y_test))"
      ]
    },
    {
      "cell_type": "code",
      "execution_count": 16,
      "id": "4a3a0822",
      "metadata": {
        "colab": {
          "base_uri": "https://localhost:8080/"
        },
        "id": "4a3a0822",
        "outputId": "00890461-7cc1-4772-ee4c-ab12629cb3f0"
      },
      "outputs": [
        {
          "output_type": "stream",
          "name": "stderr",
          "text": [
            "/usr/local/lib/python3.10/dist-packages/sklearn/feature_extraction/text.py:528: UserWarning: The parameter 'token_pattern' will not be used since 'tokenizer' is not None'\n",
            "  warnings.warn(\n"
          ]
        },
        {
          "output_type": "stream",
          "name": "stdout",
          "text": [
            "              precision    recall  f1-score   support\n",
            "\n",
            "    negative       0.00      0.00      0.00      6213\n",
            "    positive       0.78      0.44      0.56     51243\n",
            "\n",
            "    accuracy                           0.39     57456\n",
            "   macro avg       0.39      0.22      0.28     57456\n",
            "weighted avg       0.70      0.39      0.50     57456\n",
            "\n"
          ]
        }
      ],
      "source": [
        "vec = CountVectorizer(ngram_range=(1, 1), tokenizer=nltk.tokenize.word_tokenize, vocabulary=less_frequent_tokens)\n",
        "bow = vec.fit_transform(x_train)\n",
        "clf = LogisticRegression(random_state=42, max_iter=500)\n",
        "clf.fit(bow, y_train)\n",
        "pred = clf.predict(vec.transform(x_test))\n",
        "print(classification_report(pred, y_test))"
      ]
    },
    {
      "cell_type": "code",
      "execution_count": 17,
      "id": "14e310e2",
      "metadata": {
        "colab": {
          "base_uri": "https://localhost:8080/"
        },
        "id": "14e310e2",
        "outputId": "ccda8363-2fc5-4b62-e884-cbe4a3bd1142"
      },
      "outputs": [
        {
          "output_type": "stream",
          "name": "stderr",
          "text": [
            "/usr/local/lib/python3.10/dist-packages/sklearn/feature_extraction/text.py:528: UserWarning: The parameter 'token_pattern' will not be used since 'tokenizer' is not None'\n",
            "  warnings.warn(\n"
          ]
        },
        {
          "output_type": "stream",
          "name": "stdout",
          "text": [
            "              precision    recall  f1-score   support\n",
            "\n",
            "    negative       0.25      0.25      0.25     28614\n",
            "    positive       0.25      0.25      0.25     28842\n",
            "\n",
            "    accuracy                           0.25     57456\n",
            "   macro avg       0.25      0.25      0.25     57456\n",
            "weighted avg       0.25      0.25      0.25     57456\n",
            "\n"
          ]
        }
      ],
      "source": [
        "# 2\n",
        "vec = CountVectorizer(ngram_range=(1, 1), tokenizer=nltk.tokenize.word_tokenize, vocabulary=most_frequent_tokens)\n",
        "bow = vec.fit_transform(x_train)\n",
        "clf = LogisticRegression(random_state=42, max_iter=500)\n",
        "clf.fit(bow, y_train)\n",
        "pred = clf.predict(vec.transform(x_test))\n",
        "print(classification_report(pred, y_test))"
      ]
    },
    {
      "cell_type": "code",
      "execution_count": 18,
      "id": "d3b6090c",
      "metadata": {
        "colab": {
          "base_uri": "https://localhost:8080/"
        },
        "id": "d3b6090c",
        "outputId": "28aeb39b-6917-4d0d-943b-4551084ba696"
      },
      "outputs": [
        {
          "output_type": "execute_result",
          "data": {
            "text/plain": [
              "array([21982, 25244, 22539, 10523,  8184, 25829, 19134, 21664, 24078,\n",
              "       13062, 16432, 18730, 21353, 13228, 18109, 20562, 16850, 15646,\n",
              "       13360, 12155])"
            ]
          },
          "metadata": {},
          "execution_count": 18
        }
      ],
      "source": [
        "coefs = clf.coef_[0]\n",
        "top_coefs = np.argsort(coefs)[-20:]\n",
        "top_coefs"
      ]
    },
    {
      "cell_type": "code",
      "execution_count": 19,
      "id": "2979c674",
      "metadata": {
        "colab": {
          "base_uri": "https://localhost:8080/"
        },
        "id": "2979c674",
        "outputId": "8638376e-2b16-404b-c1e0-a8a3f8e774e8"
      },
      "outputs": [
        {
          "output_type": "stream",
          "name": "stdout",
          "text": [
            "('подтянуть', 12155)\n",
            "('тульский', 13360)\n",
            "('телескоп', 15646)\n",
            "('брекет', 16850)\n",
            "('tyorkinvassya', 20562)\n",
            "('jas_yuu', 18109)\n",
            "('забыться', 13228)\n",
            "('katyalukinova', 21353)\n",
            "('lilsh', 18730)\n",
            "('гастрит', 16432)\n",
            "('наехать', 13062)\n",
            "('огрооомное', 24078)\n",
            "('покидаться', 21664)\n",
            "('гуру', 19134)\n",
            "('накипеть', 25829)\n",
            "('алилуя', 8184)\n",
            "('похвала', 10523)\n",
            "('вранье', 22539)\n",
            "('nadyysha', 25244)\n",
            "('valensy_shine', 21982)\n"
          ]
        }
      ],
      "source": [
        "tokens = list(vec.vocabulary_.items())\n",
        "for _ in reversed(top_coefs):\n",
        "    print(tokens[_])"
      ]
    },
    {
      "cell_type": "code",
      "execution_count": 20,
      "id": "dbe89a37",
      "metadata": {
        "colab": {
          "base_uri": "https://localhost:8080/"
        },
        "id": "dbe89a37",
        "outputId": "f866fed9-b9cb-4c74-8073-3df706dcb4b5"
      },
      "outputs": [
        {
          "output_type": "stream",
          "name": "stderr",
          "text": [
            "/usr/local/lib/python3.10/dist-packages/sklearn/feature_extraction/text.py:528: UserWarning: The parameter 'token_pattern' will not be used since 'tokenizer' is not None'\n",
            "  warnings.warn(\n"
          ]
        },
        {
          "output_type": "stream",
          "name": "stdout",
          "text": [
            "              precision    recall  f1-score   support\n",
            "\n",
            "    negative       0.27      0.27      0.27     28710\n",
            "    positive       0.27      0.26      0.27     28746\n",
            "\n",
            "    accuracy                           0.27     57456\n",
            "   macro avg       0.27      0.27      0.27     57456\n",
            "weighted avg       0.27      0.27      0.27     57456\n",
            "\n"
          ]
        }
      ],
      "source": [
        "vec = TfidfVectorizer(ngram_range=(1, 1), tokenizer=nltk.tokenize.word_tokenize, vocabulary=most_frequent_tokens)\n",
        "bow = vec.fit_transform(x_train)\n",
        "clf = LogisticRegression(random_state=42, max_iter=500)\n",
        "clf.fit(bow, y_train)\n",
        "pred = clf.predict(vec.transform(x_test))\n",
        "print(classification_report(pred, y_test))"
      ]
    },
    {
      "cell_type": "code",
      "execution_count": 21,
      "id": "8fca7d91",
      "metadata": {
        "colab": {
          "base_uri": "https://localhost:8080/"
        },
        "id": "8fca7d91",
        "outputId": "8ccbb17e-714f-446c-eff8-eab9079a4e6d"
      },
      "outputs": [
        {
          "output_type": "stream",
          "name": "stdout",
          "text": [
            "Number of features - 524288:\n",
            "              precision    recall  f1-score   support\n",
            "\n",
            "    negative       0.25      0.25      0.25     28594\n",
            "    positive       0.25      0.25      0.25     28862\n",
            "\n",
            "    accuracy                           0.25     57456\n",
            "   macro avg       0.25      0.25      0.25     57456\n",
            "weighted avg       0.25      0.25      0.25     57456\n",
            "\n",
            "Number of features - 1048576:\n",
            "              precision    recall  f1-score   support\n",
            "\n",
            "    negative       0.25      0.25      0.25     28563\n",
            "    positive       0.25      0.25      0.25     28893\n",
            "\n",
            "    accuracy                           0.25     57456\n",
            "   macro avg       0.25      0.25      0.25     57456\n",
            "weighted avg       0.25      0.25      0.25     57456\n",
            "\n",
            "Number of features - 2097152:\n",
            "              precision    recall  f1-score   support\n",
            "\n",
            "    negative       0.24      0.25      0.25     28561\n",
            "    positive       0.25      0.25      0.25     28895\n",
            "\n",
            "    accuracy                           0.25     57456\n",
            "   macro avg       0.25      0.25      0.25     57456\n",
            "weighted avg       0.25      0.25      0.25     57456\n",
            "\n",
            "Number of features - 4194304:\n",
            "              precision    recall  f1-score   support\n",
            "\n",
            "    negative       0.24      0.25      0.24     28555\n",
            "    positive       0.25      0.25      0.25     28901\n",
            "\n",
            "    accuracy                           0.25     57456\n",
            "   macro avg       0.25      0.25      0.25     57456\n",
            "weighted avg       0.25      0.25      0.25     57456\n",
            "\n"
          ]
        }
      ],
      "source": [
        "features_num = [2**19, 2**20, 2**21, 2**22]\n",
        "\n",
        "for n_features in features_num:\n",
        "    print(f'Number of features - {n_features}:')\n",
        "    vec = HashingVectorizer(n_features=n_features,)\n",
        "    bow = vec.fit_transform(x_train)\n",
        "    clf = LogisticRegression(random_state=42, max_iter=500)\n",
        "    clf.fit(bow, y_train)\n",
        "    pred = clf.predict(vec.transform(x_test))\n",
        "    print(classification_report(pred, y_test))"
      ]
    },
    {
      "cell_type": "code",
      "source": [
        "vec = HashingVectorizer(n_features=2**19,)\n",
        "bow = vec.fit_transform(x_train)\n",
        "clf = LogisticRegression(random_state=42, max_iter=500)\n",
        "clf.fit(bow, y_train)\n",
        "pred = clf.predict(vec.transform(x_test))\n",
        "print(classification_report(pred, y_test))"
      ],
      "metadata": {
        "colab": {
          "base_uri": "https://localhost:8080/"
        },
        "id": "8a2c5Tmhcn3h",
        "outputId": "4819a759-4317-47f6-d813-3ba7d4e268bf"
      },
      "id": "8a2c5Tmhcn3h",
      "execution_count": 22,
      "outputs": [
        {
          "output_type": "stream",
          "name": "stdout",
          "text": [
            "              precision    recall  f1-score   support\n",
            "\n",
            "    negative       0.25      0.25      0.25     28594\n",
            "    positive       0.25      0.25      0.25     28862\n",
            "\n",
            "    accuracy                           0.25     57456\n",
            "   macro avg       0.25      0.25      0.25     57456\n",
            "weighted avg       0.25      0.25      0.25     57456\n",
            "\n"
          ]
        }
      ]
    },
    {
      "cell_type": "code",
      "source": [
        "y_train_bin = np.where(y_train=='positive', 1, 0)\n",
        "y_test_bin = np.where(y_test=='positive', 1, 0)"
      ],
      "metadata": {
        "id": "tYDK3Hk735Qn"
      },
      "id": "tYDK3Hk735Qn",
      "execution_count": 23,
      "outputs": []
    },
    {
      "cell_type": "code",
      "source": [
        "train_data = tf.data.Dataset.from_tensor_slices((x_train, y_train_bin))\n",
        "valid_data = tf.data.Dataset.from_tensor_slices((x_test, y_test_bin))"
      ],
      "metadata": {
        "id": "OO1XhNxuf31a"
      },
      "id": "OO1XhNxuf31a",
      "execution_count": 24,
      "outputs": []
    },
    {
      "cell_type": "code",
      "source": [
        "train_data = train_data.batch(32)\n",
        "valid_data = valid_data.batch(32)"
      ],
      "metadata": {
        "id": "6yeSbBuHf9Q0"
      },
      "id": "6yeSbBuHf9Q0",
      "execution_count": 25,
      "outputs": []
    },
    {
      "cell_type": "code",
      "source": [
        "AUTOTUNE = tf.data.AUTOTUNE\n",
        "\n",
        "train_data = train_data.cache().prefetch(buffer_size=AUTOTUNE)\n",
        "valid_data = valid_data.cache().prefetch(buffer_size=AUTOTUNE)"
      ],
      "metadata": {
        "id": "tnPEQ21Wf_3O"
      },
      "id": "tnPEQ21Wf_3O",
      "execution_count": 26,
      "outputs": []
    },
    {
      "cell_type": "code",
      "source": [
        "def custom_standardization(input_data):\n",
        "\n",
        "    return input_data\n",
        "\n",
        "vocab_size = 15000\n",
        "seq_len = 140\n",
        "\n",
        "vectorize_layer = TextVectorization(\n",
        "    standardize=custom_standardization,\n",
        "    max_tokens=vocab_size,\n",
        "    output_mode='int',\n",
        "    output_sequence_length=seq_len)\n",
        "\n",
        "# Make a text-only dataset (no labels) and call adapt to build the vocabulary.\n",
        "text_data = train_data.map(lambda x, y: x)\n",
        "vectorize_layer.adapt(text_data)"
      ],
      "metadata": {
        "id": "K-J539QUgBjT"
      },
      "id": "K-J539QUgBjT",
      "execution_count": 27,
      "outputs": []
    },
    {
      "cell_type": "code",
      "source": [
        "embedding_dim=250\n",
        "\n",
        "model = Sequential([\n",
        "    vectorize_layer,\n",
        "    Embedding(vocab_size, embedding_dim),\n",
        "    Conv1D(embedding_dim, 3),\n",
        "    Conv1D(embedding_dim, 2),\n",
        "    GRU(350),\n",
        "    Dense(200, activation='relu'),\n",
        "    Dense(1)\n",
        "])"
      ],
      "metadata": {
        "id": "QK6g4JXngDmj"
      },
      "id": "QK6g4JXngDmj",
      "execution_count": 28,
      "outputs": []
    },
    {
      "cell_type": "code",
      "source": [
        "optimizer = tf.keras.optimizers.Adam(learning_rate=5e-3)\n",
        "model.compile(optimizer=optimizer,\n",
        "              loss=tf.keras.losses.BinaryCrossentropy(from_logits=True),\n",
        "              metrics=['accuracy'])"
      ],
      "metadata": {
        "id": "-pspXm7wgKZu"
      },
      "id": "-pspXm7wgKZu",
      "execution_count": 29,
      "outputs": []
    },
    {
      "cell_type": "code",
      "source": [
        "model.fit(train_data, validation_data=valid_data, epochs=2)"
      ],
      "metadata": {
        "colab": {
          "base_uri": "https://localhost:8080/"
        },
        "id": "VPS9VvQ9gMLA",
        "outputId": "bc8b100c-33f8-41f4-d174-e2750a6d7bc2"
      },
      "id": "VPS9VvQ9gMLA",
      "execution_count": 30,
      "outputs": [
        {
          "output_type": "stream",
          "name": "stdout",
          "text": [
            "Epoch 1/2\n",
            "5387/5387 [==============================] - 143s 24ms/step - loss: 0.6949 - accuracy: 0.4996 - val_loss: 0.6932 - val_accuracy: 0.5006\n",
            "Epoch 2/2\n",
            "5387/5387 [==============================] - 99s 18ms/step - loss: 0.6932 - accuracy: 0.4998 - val_loss: 0.6932 - val_accuracy: 0.5006\n"
          ]
        },
        {
          "output_type": "execute_result",
          "data": {
            "text/plain": [
              "<keras.callbacks.History at 0x7fb3751111e0>"
            ]
          },
          "metadata": {},
          "execution_count": 30
        }
      ]
    },
    {
      "cell_type": "code",
      "source": [
        "logits = model.predict(valid_data)\n",
        "prediction = tf.round(tf.nn.sigmoid(logits))\n",
        "class_preds = np.where(prediction==1, 'positive', 'negative')"
      ],
      "metadata": {
        "id": "eMmf8qu95aWi",
        "colab": {
          "base_uri": "https://localhost:8080/"
        },
        "outputId": "8a72dbd4-0fc2-4580-9083-32ac7658492e"
      },
      "id": "eMmf8qu95aWi",
      "execution_count": 31,
      "outputs": [
        {
          "output_type": "stream",
          "name": "stdout",
          "text": [
            "1796/1796 [==============================] - 11s 6ms/step\n"
          ]
        }
      ]
    },
    {
      "cell_type": "code",
      "source": [
        "print(classification_report(class_preds, y_test))"
      ],
      "metadata": {
        "colab": {
          "base_uri": "https://localhost:8080/"
        },
        "id": "oXeFDB9O_0ja",
        "outputId": "f521dff7-1ca2-4da5-d275-38478293e3ae"
      },
      "id": "oXeFDB9O_0ja",
      "execution_count": 32,
      "outputs": [
        {
          "output_type": "stream",
          "name": "stderr",
          "text": [
            "/usr/local/lib/python3.10/dist-packages/sklearn/metrics/_classification.py:1344: UndefinedMetricWarning: Recall and F-score are ill-defined and being set to 0.0 in labels with no true samples. Use `zero_division` parameter to control this behavior.\n",
            "  _warn_prf(average, modifier, msg_start, len(result))\n",
            "/usr/local/lib/python3.10/dist-packages/sklearn/metrics/_classification.py:1344: UndefinedMetricWarning: Recall and F-score are ill-defined and being set to 0.0 in labels with no true samples. Use `zero_division` parameter to control this behavior.\n",
            "  _warn_prf(average, modifier, msg_start, len(result))\n"
          ]
        },
        {
          "output_type": "stream",
          "name": "stdout",
          "text": [
            "              precision    recall  f1-score   support\n",
            "\n",
            "    negative       1.00      0.50      0.67     57456\n",
            "    positive       0.00      0.00      0.00         0\n",
            "\n",
            "    accuracy                           0.50     57456\n",
            "   macro avg       0.50      0.25      0.33     57456\n",
            "weighted avg       1.00      0.50      0.67     57456\n",
            "\n"
          ]
        },
        {
          "output_type": "stream",
          "name": "stderr",
          "text": [
            "/usr/local/lib/python3.10/dist-packages/sklearn/metrics/_classification.py:1344: UndefinedMetricWarning: Recall and F-score are ill-defined and being set to 0.0 in labels with no true samples. Use `zero_division` parameter to control this behavior.\n",
            "  _warn_prf(average, modifier, msg_start, len(result))\n"
          ]
        }
      ]
    }
  ],
  "metadata": {
    "kernelspec": {
      "display_name": "Python 3 (ipykernel)",
      "language": "python",
      "name": "python3"
    },
    "language_info": {
      "codemirror_mode": {
        "name": "ipython",
        "version": 3
      },
      "file_extension": ".py",
      "mimetype": "text/x-python",
      "name": "python",
      "nbconvert_exporter": "python",
      "pygments_lexer": "ipython3",
      "version": "3.9.13"
    },
    "colab": {
      "provenance": []
    },
    "accelerator": "GPU",
    "gpuClass": "standard"
  },
  "nbformat": 4,
  "nbformat_minor": 5
}