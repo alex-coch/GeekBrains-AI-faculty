{
 "cells": [
  {
   "cell_type": "code",
   "execution_count": 1,
   "id": "166968f6",
   "metadata": {
    "execution": {
     "iopub.execute_input": "2021-12-14T04:30:14.447460Z",
     "iopub.status.busy": "2021-12-14T04:30:14.446284Z",
     "iopub.status.idle": "2021-12-14T04:30:17.253651Z",
     "shell.execute_reply": "2021-12-14T04:30:17.254172Z",
     "shell.execute_reply.started": "2021-12-13T18:58:01.393123Z"
    },
    "papermill": {
     "duration": 2.859157,
     "end_time": "2021-12-14T04:30:17.254507",
     "exception": false,
     "start_time": "2021-12-14T04:30:14.395350",
     "status": "completed"
    },
    "tags": []
   },
   "outputs": [
    {
     "data": {
      "text/html": [
       "<style type='text/css'>\n",
       ".datatable table.frame { margin-bottom: 0; }\n",
       ".datatable table.frame thead { border-bottom: none; }\n",
       ".datatable table.frame tr.coltypes td {  color: #FFFFFF;  line-height: 6px;  padding: 0 0.5em;}\n",
       ".datatable .bool    { background: #DDDD99; }\n",
       ".datatable .object  { background: #565656; }\n",
       ".datatable .int     { background: #5D9E5D; }\n",
       ".datatable .float   { background: #4040CC; }\n",
       ".datatable .str     { background: #CC4040; }\n",
       ".datatable .time    { background: #40CC40; }\n",
       ".datatable .row_index {  background: var(--jp-border-color3);  border-right: 1px solid var(--jp-border-color0);  color: var(--jp-ui-font-color3);  font-size: 9px;}\n",
       ".datatable .frame tbody td { text-align: left; }\n",
       ".datatable .frame tr.coltypes .row_index {  background: var(--jp-border-color0);}\n",
       ".datatable th:nth-child(2) { padding-left: 12px; }\n",
       ".datatable .hellipsis {  color: var(--jp-cell-editor-border-color);}\n",
       ".datatable .vellipsis {  background: var(--jp-layout-color0);  color: var(--jp-cell-editor-border-color);}\n",
       ".datatable .na {  color: var(--jp-cell-editor-border-color);  font-size: 80%;}\n",
       ".datatable .sp {  opacity: 0.25;}\n",
       ".datatable .footer { font-size: 9px; }\n",
       ".datatable .frame_dimensions {  background: var(--jp-border-color3);  border-top: 1px solid var(--jp-border-color0);  color: var(--jp-ui-font-color3);  display: inline-block;  opacity: 0.6;  padding: 1px 10px 1px 5px;}\n",
       ".datatable .frame thead tr.colnames {  background-image: url('data:image/png;base64,iVBORw0KGgoAAAANSUhEUgAAABwAAAA4CAYAAADuMJi0AAAGR0lEQVR42rVZ21IbRxBtCbQrkIR2dQVjsLmDLBsET3nTQ8ouYRkQVf6e/E9+Im958qMfkgoXAaKSSj6C9Jnd2R2NeiRSRaZqitVOT5+Z6dNnWoKGlN94JFp8Ipofkb/7SOXjGyp8wF+z35K3f0uUp/GW4XfLQ8v2gefj3ZCCzojoNfue+43o1Q3l3xB/yA3JO7jnF2pCLnI+pNyx/qw7L+SQ7T2N9p2f8c60QcfcK6KGXsAd+ZvA4LlZYuSSAoOhMs5vwJkEGDlbPMaJoA+FcQ0IH38QLWkbAFLkOOhoMF5tU6/eBRhNjro0ZgKiPRAt3FLhCO/vqdgmNTm32LkmKpvBmQY4q5uAaAgbwDBG2BVv3bfI8KKAMWj2kfw9+pkZREIbEql4ST1x7hgHIANkbJ//MF8mAH/ilTCJ2tIi4ASr1IC3VNqXHKOxjy34mgoImnOQtx1g81fkqTiMOBVGcTogNhiT5iBHET8R8C+iApJUmgim3SQAXhsLQz7ee2G8gOAQNtJckBEplADiAxtX+G9NmhDl0qJKnTvyWlAMPYZnvIviGXRg6/Dh824DBXhP/tbfREXJEIvQ+aaPGjG7pvw6r3xdx+9hqb4dgZaP2XmdHO2K/B0c1+oUph6k8kShBryl/Ft0DYgjTlOieOACHFFpVyUl72T9V3cM1jUoYvxIC2vpCSys/ck70mDYuYvdvKjlMdKAUThneWVU1aAsyjv6PURDiwNsHGBZzY+JtAAgE2TFxdRHJdyIp/f+zqu09M5cDP2F08Ukkpj4YNSdX950HY2pNCCUK/Hhx5ZMBfjNSEzdsIihVzzAMdn9dz4eDYhnyQb9SSCiAryiJcQk82LiTbJ4x2FZJaUenpKnzP95WyDf4Y+QN9EFHHSeDLGdBjjKNQ5vKHf4XMA7KrY0y0GEObBOO/8e1ywuQExOHXktuQyJALEBpcEqhwtHqgiDuCK5b6i0p2MQpcckIIoh+6hYgTZtO8xlMi6O4tKCF/kOGHEg/W0UUpHW0ZoGNZ1ExZWcn7EErgwt4uj50E/sFBjXXIayWvh7WryjasxarZKssXon0zxvvkc32Q0bqbBCuZiKt9dWFysfQefeL29JYFaeztX6tePaZdz5mYx8+6Zq3Mk0wXECQxlhdzgS2wjBHju3j1RIgKyOMdNUE8X0+RAdbSapS11MRCv1SzUXmO6wGZe2SQYrv2MvCSWEv2VODE6DN7bz8ufypgQKW7uQskFTQHULLKyaEyrnlZbgOGLrV5qrn9U79jjm2HJmgkaVN98AfBub91lGPLZBqdroN5LYgjSu4zYZDDHXZOIPC691HqrWI1900I8qLzgKP4ft8DxEWigprPfrO+KcXno9gZz4jjGewWdUcpGCj0qVFuGPYbl2VturndZ2qRvlL8acDO6lF/DY/VjsFesiUK+ypJ+r/ep+cJkSQxEK4PG4WozgA75TYrDDqStE69K8/mzGEM+JXTeqvmedEElMmwCMm2SLd6bNNF9su02zEtoW6nAQtpMj5Gd7fKa//wqonF7UdtHFsVn+6hf1o7AfriPH7M6EeIUEF5zKVxXbYo7kS/OEtOqDYZKPoBsETIixn0uYrasThmzDkhdKPkz2EnaX0HdQbIgr59vAdGYDqjHrxkjS7WOxkTD8sqEqhiwcJETgBYigrBqF08KyDaje9SZ/I1A7MzaTzMGDEulPtZUkuKcyIRAjxEJPVrnVlb/9wkfij31D/pQt1IN+iL8bGJcstBIO7Y5VI/cwDqURbXhMuJxBqD0KLoK3esWFs0Jz5i5ZvJUAfFJMFb9XmGIOnzGpijpcWYCaMqXSQWp8EnCABepQ0Elyi4wfKfsw78ikIqif1pe1AGPlLmojl1SKxHHXp1L+Ut7AmDQHvhI5xHGi4EooO2BR7k78PEkJOdL7cAxQUZ/Tyclu9gnfwGgOmm2lNHGNmZXsq4Pqgc1EG1ATrvKl8s4R9ywwnqulGUnaRLVhxy8v3ieUwy2hbooT68uscW++DCDH0WSzuoyN2D4LUJ/tLECbcSKznwMIFs0ChF4mRTCnQbIIfk4SHJo6A9BMuTnXTs3Ku/KxsgZWqzuSe+Os8cEUfnMBY6UF5gi3SUbd5K7vDjq5WW0UENJlRsWn4sy21Er/E/AvPQSFHy1p4fgAAAAASUVORK5CYII=');  background-repeat: repeat-x;  background-size: 14px;  height: 28px;}\n",
       "</style>\n"
      ],
      "text/plain": [
       "<IPython.core.display.HTML object>"
      ]
     },
     "metadata": {},
     "output_type": "display_data"
    }
   ],
   "source": [
    "import numpy as np\n",
    "import pandas as pd\n",
    "import pickle\n",
    "from scipy import stats\n",
    "\n",
    "import matplotlib.pyplot as plt\n",
    "import seaborn as sns\n",
    "%matplotlib inline\n",
    "\n",
    "from sklearn.tree import DecisionTreeClassifier\n",
    "from sklearn.metrics import r2_score as r2\n",
    "import xgboost as xgb\n",
    "import catboost as catb\n",
    "import lightgbm as lgbm\n",
    "\n",
    "from sklearn.preprocessing import StandardScaler, MinMaxScaler\n",
    "from sklearn.model_selection import train_test_split, ShuffleSplit, cross_val_score, learning_curve\n",
    "from sklearn.model_selection import StratifiedKFold, GridSearchCV, RandomizedSearchCV\n",
    "from sklearn.metrics import classification_report, f1_score, precision_score, recall_score\n",
    "\n",
    "from sklearn.ensemble import RandomForestRegressor\n",
    "from sklearn.model_selection import train_test_split, GridSearchCV\n",
    "from sklearn.metrics import (roc_auc_score, roc_curve, auc, confusion_matrix,\n",
    "                             accuracy_score, classification_report, plot_confusion_matrix,\n",
    "                             plot_precision_recall_curve, precision_recall_curve, recall_score,\n",
    "                             plot_roc_curve, f1_score)\n",
    "import warnings\n",
    "warnings.filterwarnings('ignore')"
   ]
  },
  {
   "cell_type": "code",
   "execution_count": 2,
   "id": "0d451923",
   "metadata": {
    "execution": {
     "iopub.execute_input": "2021-12-14T04:30:17.352754Z",
     "iopub.status.busy": "2021-12-14T04:30:17.352084Z",
     "iopub.status.idle": "2021-12-14T04:30:17.356306Z",
     "shell.execute_reply": "2021-12-14T04:30:17.356899Z",
     "shell.execute_reply.started": "2021-12-13T18:58:04.068448Z"
    },
    "papermill": {
     "duration": 0.053738,
     "end_time": "2021-12-14T04:30:17.357070",
     "exception": false,
     "start_time": "2021-12-14T04:30:17.303332",
     "status": "completed"
    },
    "tags": []
   },
   "outputs": [],
   "source": [
    "def get_classification_report(y_train_true, y_train_pred, y_test_true, y_test_pred):\n",
    "    print('TRAIN\\n\\n' + classification_report(y_train_true, y_train_pred))\n",
    "    print('TEST\\n\\n' + classification_report(y_test_true, y_test_pred))\n",
    "    print('CONFUSION MATRIX\\n')\n",
    "    print(pd.crosstab(y_test_true, y_test_pred))"
   ]
  },
  {
   "cell_type": "code",
   "execution_count": 3,
   "id": "94e904db",
   "metadata": {
    "execution": {
     "iopub.execute_input": "2021-12-14T04:30:17.458407Z",
     "iopub.status.busy": "2021-12-14T04:30:17.457734Z",
     "iopub.status.idle": "2021-12-14T04:30:17.459645Z",
     "shell.execute_reply": "2021-12-14T04:30:17.460218Z",
     "shell.execute_reply.started": "2021-12-13T18:58:04.079052Z"
    },
    "papermill": {
     "duration": 0.05725,
     "end_time": "2021-12-14T04:30:17.460387",
     "exception": false,
     "start_time": "2021-12-14T04:30:17.403137",
     "status": "completed"
    },
    "tags": []
   },
   "outputs": [],
   "source": [
    "def evaluate_preds(model, X_train, X_valid, y_train, y_valid):\n",
    "    y_train_pred = model.predict(X_train)\n",
    "    y_valid_pred = model.predict(X_valid)\n",
    "    print(\"TRAIN\\n\", round(f1_score(y_train, y_train_pred), 3))\n",
    "    print(\"TEST\\n\", round(f1_score(y_valid, y_valid_pred), 3))\n",
    "    get_classification_report(y_train, y_train_pred, y_valid, y_valid_pred)"
   ]
  },
  {
   "cell_type": "code",
   "execution_count": 4,
   "id": "87a05362",
   "metadata": {
    "execution": {
     "iopub.execute_input": "2021-12-14T04:30:17.558919Z",
     "iopub.status.busy": "2021-12-14T04:30:17.558234Z",
     "iopub.status.idle": "2021-12-14T04:30:17.563519Z",
     "shell.execute_reply": "2021-12-14T04:30:17.563016Z",
     "shell.execute_reply.started": "2021-12-13T18:58:04.095801Z"
    },
    "papermill": {
     "duration": 0.054193,
     "end_time": "2021-12-14T04:30:17.563663",
     "exception": false,
     "start_time": "2021-12-14T04:30:17.509470",
     "status": "completed"
    },
    "tags": []
   },
   "outputs": [],
   "source": [
    "def get_classification_report(y_train_true, y_train_pred, y_valid_true, y_valid_pred):\n",
    "    print('TRAIN\\n\\n' + classification_report(y_train_true, y_train_pred))\n",
    "    print('VALID\\n\\n' + classification_report(y_valid_true, y_valid_pred))\n",
    "    print('CONFUSION MATRIX\\n')\n",
    "    print(pd.crosstab(y_valid_true, y_valid_pred))"
   ]
  },
  {
   "cell_type": "code",
   "execution_count": 5,
   "id": "877995cd",
   "metadata": {
    "execution": {
     "iopub.execute_input": "2021-12-14T04:30:17.659403Z",
     "iopub.status.busy": "2021-12-14T04:30:17.658669Z",
     "iopub.status.idle": "2021-12-14T04:30:17.669905Z",
     "shell.execute_reply": "2021-12-14T04:30:17.669247Z",
     "shell.execute_reply.started": "2021-12-13T18:58:04.112895Z"
    },
    "papermill": {
     "duration": 0.059942,
     "end_time": "2021-12-14T04:30:17.670046",
     "exception": false,
     "start_time": "2021-12-14T04:30:17.610104",
     "status": "completed"
    },
    "tags": []
   },
   "outputs": [],
   "source": [
    "def show_learning_curve_plot(estimator, X, y, cv=3, n_jobs=-1, train_sizes=np.linspace(.1, 1.0, 5)):\n",
    "\n",
    "    train_sizes, train_scores, test_scores = learning_curve(estimator, X, y, \n",
    "                                                            cv=cv, \n",
    "                                                            scoring='f1',\n",
    "                                                            train_sizes=train_sizes, \n",
    "                                                            n_jobs=n_jobs)\n",
    "    train_scores_mean = np.mean(train_scores, axis=1)\n",
    "    train_scores_std = np.std(train_scores, axis=1)\n",
    "    test_scores_mean = np.mean(test_scores, axis=1)\n",
    "    test_scores_std = np.std(test_scores, axis=1)\n",
    "\n",
    "    plt.figure(figsize=(15,8))\n",
    "    plt.fill_between(train_sizes, train_scores_mean - train_scores_std,\n",
    "                     train_scores_mean + train_scores_std, alpha=0.1, color=\"r\")\n",
    "    plt.fill_between(train_sizes, test_scores_mean - test_scores_std,\n",
    "                     test_scores_mean + test_scores_std, alpha=0.1, color=\"g\")\n",
    "    plt.plot(train_sizes, train_scores_mean, 'o-', color=\"r\",\n",
    "             label=\"Training score\")\n",
    "    plt.plot(train_sizes, test_scores_mean, 'o-', color=\"g\",\n",
    "             label=\"Cross-validation score\")\n",
    "\n",
    "    plt.title(f\"Learning curves ({type(estimator).__name__})\")\n",
    "    plt.xlabel(\"Training examples\")\n",
    "    plt.ylabel(\"Score\")     \n",
    "    plt.legend(loc=\"best\")\n",
    "    plt.grid()\n",
    "    plt.show()"
   ]
  },
  {
   "cell_type": "code",
   "execution_count": 6,
   "id": "9b622675",
   "metadata": {
    "execution": {
     "iopub.execute_input": "2021-12-14T04:30:17.769561Z",
     "iopub.status.busy": "2021-12-14T04:30:17.768922Z",
     "iopub.status.idle": "2021-12-14T04:30:17.775022Z",
     "shell.execute_reply": "2021-12-14T04:30:17.775560Z",
     "shell.execute_reply.started": "2021-12-13T18:58:04.133514Z"
    },
    "papermill": {
     "duration": 0.055691,
     "end_time": "2021-12-14T04:30:17.775756",
     "exception": false,
     "start_time": "2021-12-14T04:30:17.720065",
     "status": "completed"
    },
    "tags": []
   },
   "outputs": [],
   "source": [
    "def show_feature_importances(feature_names, feature_importances, get_top=None):\n",
    "    feature_importances = pd.DataFrame({'feature': feature_names, 'importance': feature_importances})\n",
    "    feature_importances = feature_importances.sort_values('importance', ascending=False)\n",
    "       \n",
    "    plt.figure(figsize = (20, len(feature_importances) * 0.355))\n",
    "    \n",
    "    sns.barplot(feature_importances['importance'], feature_importances['feature'])\n",
    "    \n",
    "    plt.xlabel('Importance')\n",
    "    plt.title('Importance of features')\n",
    "    plt.show()\n",
    "    \n",
    "    if get_top is not None:\n",
    "        return feature_importances['feature'][:get_top].tolist()"
   ]
  },
  {
   "cell_type": "markdown",
   "id": "af32e231",
   "metadata": {
    "execution": {
     "iopub.execute_input": "2021-12-13T15:19:42.512188Z",
     "iopub.status.busy": "2021-12-13T15:19:42.511566Z",
     "iopub.status.idle": "2021-12-13T15:19:42.528306Z",
     "shell.execute_reply": "2021-12-13T15:19:42.525193Z",
     "shell.execute_reply.started": "2021-12-13T15:19:42.512135Z"
    },
    "papermill": {
     "duration": 0.046926,
     "end_time": "2021-12-14T04:30:17.869522",
     "exception": false,
     "start_time": "2021-12-14T04:30:17.822596",
     "status": "completed"
    },
    "tags": []
   },
   "source": [
    "Задача\n",
    "Требуется, на основании имеющихся данных о клиентах банка, построить модель, используя обучающий датасет, для прогнозирования невыполнения долговых обязательств по текущему кредиту. Выполнить прогноз для примеров из тестового датасета.\n",
    "\n",
    "Целевая переменная\n",
    "Credit Default - факт невыполнения кредитных обязательств\n",
    "\n",
    "Метрика качества\n",
    "F1-score (sklearn.metrics.f1_score)\n",
    "\n",
    "Целевая метрика\n",
    "F1 > 0.5 Метрика оценивается по качеству прогноза для главного класса (1 - просрочка по кредиту)\n",
    "\n",
    "Значения полей датасета:\n",
    "Home Ownership - домовладение\n",
    "\n",
    "Annual Income - годовой доход\n",
    "\n",
    "Years in current job - количество лет на текущем месте работы\n",
    "\n",
    "Tax Liens - налоговые обременения\n",
    "\n",
    "Number of Open Accounts - количество открытых счетов\n",
    "\n",
    "Years of Credit History - количество лет кредитной истории\n",
    "\n",
    "Maximum Open Credit - наибольший открытый кредит (максимальная сумма, которая когда-либо была доступна клиенту)\n",
    "\n",
    "Number of Credit Problems - количество проблем с кредитом\n",
    "\n",
    "Months since last delinquent - количество месяцев с последней просрочки платежа\n",
    "\n",
    "Bankruptcies - банкротства\n",
    "\n",
    "Purpose - цель кредита\n",
    "\n",
    "Term - срок кредита\n",
    "\n",
    "Current Loan Amount - текущая сумма кредита (сумма, которую еще предстоит выплатить клиенту)\n",
    "\n",
    "Current Credit Balance - текущий кредитный баланс (сумма, которую может тратить клиент с кредитного счета)\n",
    "\n",
    "Monthly Debt - ежемесячный долг\n",
    "\n",
    "Credit Score - баллы кредитного рейтинга\n",
    "\n",
    "Credit Default - факт невыполнения кредитных обязательств (0 - погашен вовремя, 1 - просрочка)"
   ]
  },
  {
   "cell_type": "markdown",
   "id": "69b97c26",
   "metadata": {
    "papermill": {
     "duration": 0.046624,
     "end_time": "2021-12-14T04:30:17.962250",
     "exception": false,
     "start_time": "2021-12-14T04:30:17.915626",
     "status": "completed"
    },
    "tags": []
   },
   "source": [
    "# Загрузка датасета\n"
   ]
  },
  {
   "cell_type": "code",
   "execution_count": 7,
   "id": "dbe119af",
   "metadata": {
    "execution": {
     "iopub.execute_input": "2021-12-14T04:30:18.059382Z",
     "iopub.status.busy": "2021-12-14T04:30:18.058654Z",
     "iopub.status.idle": "2021-12-14T04:30:18.060230Z",
     "shell.execute_reply": "2021-12-14T04:30:18.060810Z",
     "shell.execute_reply.started": "2021-12-13T18:58:04.150199Z"
    },
    "papermill": {
     "duration": 0.05275,
     "end_time": "2021-12-14T04:30:18.060978",
     "exception": false,
     "start_time": "2021-12-14T04:30:18.008228",
     "status": "completed"
    },
    "tags": []
   },
   "outputs": [],
   "source": [
    "TRAIN_DATASET_PATH = '../input/gb-credit-default/train.csv'\n",
    "TEST_DATASET_PATH = '../input/gb-credit-default/test.csv'\n",
    "SAMPLE_SUBMIT_PATH = '../input/gb-credit-default/sample_submission.csv'"
   ]
  },
  {
   "cell_type": "code",
   "execution_count": 8,
   "id": "7af996b7",
   "metadata": {
    "execution": {
     "iopub.execute_input": "2021-12-14T04:30:18.155990Z",
     "iopub.status.busy": "2021-12-14T04:30:18.155360Z",
     "iopub.status.idle": "2021-12-14T04:30:18.232226Z",
     "shell.execute_reply": "2021-12-14T04:30:18.232763Z",
     "shell.execute_reply.started": "2021-12-13T18:58:04.174751Z"
    },
    "papermill": {
     "duration": 0.125919,
     "end_time": "2021-12-14T04:30:18.232937",
     "exception": false,
     "start_time": "2021-12-14T04:30:18.107018",
     "status": "completed"
    },
    "tags": []
   },
   "outputs": [
    {
     "data": {
      "text/html": [
       "<div>\n",
       "<style scoped>\n",
       "    .dataframe tbody tr th:only-of-type {\n",
       "        vertical-align: middle;\n",
       "    }\n",
       "\n",
       "    .dataframe tbody tr th {\n",
       "        vertical-align: top;\n",
       "    }\n",
       "\n",
       "    .dataframe thead th {\n",
       "        text-align: right;\n",
       "    }\n",
       "</style>\n",
       "<table border=\"1\" class=\"dataframe\">\n",
       "  <thead>\n",
       "    <tr style=\"text-align: right;\">\n",
       "      <th></th>\n",
       "      <th>Home Ownership</th>\n",
       "      <th>Annual Income</th>\n",
       "      <th>Years in current job</th>\n",
       "      <th>Tax Liens</th>\n",
       "      <th>Number of Open Accounts</th>\n",
       "      <th>Years of Credit History</th>\n",
       "      <th>Maximum Open Credit</th>\n",
       "      <th>Number of Credit Problems</th>\n",
       "      <th>Months since last delinquent</th>\n",
       "      <th>Bankruptcies</th>\n",
       "      <th>Purpose</th>\n",
       "      <th>Term</th>\n",
       "      <th>Current Loan Amount</th>\n",
       "      <th>Current Credit Balance</th>\n",
       "      <th>Monthly Debt</th>\n",
       "      <th>Credit Score</th>\n",
       "      <th>Credit Default</th>\n",
       "    </tr>\n",
       "  </thead>\n",
       "  <tbody>\n",
       "    <tr>\n",
       "      <th>0</th>\n",
       "      <td>Own Home</td>\n",
       "      <td>482087.0</td>\n",
       "      <td>NaN</td>\n",
       "      <td>0.0</td>\n",
       "      <td>11.0</td>\n",
       "      <td>26.3</td>\n",
       "      <td>685960.0</td>\n",
       "      <td>1.0</td>\n",
       "      <td>NaN</td>\n",
       "      <td>1.0</td>\n",
       "      <td>debt consolidation</td>\n",
       "      <td>Short Term</td>\n",
       "      <td>99999999.0</td>\n",
       "      <td>47386.0</td>\n",
       "      <td>7914.0</td>\n",
       "      <td>749.0</td>\n",
       "      <td>0</td>\n",
       "    </tr>\n",
       "    <tr>\n",
       "      <th>1</th>\n",
       "      <td>Own Home</td>\n",
       "      <td>1025487.0</td>\n",
       "      <td>10+ years</td>\n",
       "      <td>0.0</td>\n",
       "      <td>15.0</td>\n",
       "      <td>15.3</td>\n",
       "      <td>1181730.0</td>\n",
       "      <td>0.0</td>\n",
       "      <td>NaN</td>\n",
       "      <td>0.0</td>\n",
       "      <td>debt consolidation</td>\n",
       "      <td>Long Term</td>\n",
       "      <td>264968.0</td>\n",
       "      <td>394972.0</td>\n",
       "      <td>18373.0</td>\n",
       "      <td>737.0</td>\n",
       "      <td>1</td>\n",
       "    </tr>\n",
       "    <tr>\n",
       "      <th>2</th>\n",
       "      <td>Home Mortgage</td>\n",
       "      <td>751412.0</td>\n",
       "      <td>8 years</td>\n",
       "      <td>0.0</td>\n",
       "      <td>11.0</td>\n",
       "      <td>35.0</td>\n",
       "      <td>1182434.0</td>\n",
       "      <td>0.0</td>\n",
       "      <td>NaN</td>\n",
       "      <td>0.0</td>\n",
       "      <td>debt consolidation</td>\n",
       "      <td>Short Term</td>\n",
       "      <td>99999999.0</td>\n",
       "      <td>308389.0</td>\n",
       "      <td>13651.0</td>\n",
       "      <td>742.0</td>\n",
       "      <td>0</td>\n",
       "    </tr>\n",
       "    <tr>\n",
       "      <th>3</th>\n",
       "      <td>Own Home</td>\n",
       "      <td>805068.0</td>\n",
       "      <td>6 years</td>\n",
       "      <td>0.0</td>\n",
       "      <td>8.0</td>\n",
       "      <td>22.5</td>\n",
       "      <td>147400.0</td>\n",
       "      <td>1.0</td>\n",
       "      <td>NaN</td>\n",
       "      <td>1.0</td>\n",
       "      <td>debt consolidation</td>\n",
       "      <td>Short Term</td>\n",
       "      <td>121396.0</td>\n",
       "      <td>95855.0</td>\n",
       "      <td>11338.0</td>\n",
       "      <td>694.0</td>\n",
       "      <td>0</td>\n",
       "    </tr>\n",
       "    <tr>\n",
       "      <th>4</th>\n",
       "      <td>Rent</td>\n",
       "      <td>776264.0</td>\n",
       "      <td>8 years</td>\n",
       "      <td>0.0</td>\n",
       "      <td>13.0</td>\n",
       "      <td>13.6</td>\n",
       "      <td>385836.0</td>\n",
       "      <td>1.0</td>\n",
       "      <td>NaN</td>\n",
       "      <td>0.0</td>\n",
       "      <td>debt consolidation</td>\n",
       "      <td>Short Term</td>\n",
       "      <td>125840.0</td>\n",
       "      <td>93309.0</td>\n",
       "      <td>7180.0</td>\n",
       "      <td>719.0</td>\n",
       "      <td>0</td>\n",
       "    </tr>\n",
       "  </tbody>\n",
       "</table>\n",
       "</div>"
      ],
      "text/plain": [
       "  Home Ownership  Annual Income Years in current job  Tax Liens  \\\n",
       "0       Own Home       482087.0                  NaN        0.0   \n",
       "1       Own Home      1025487.0            10+ years        0.0   \n",
       "2  Home Mortgage       751412.0              8 years        0.0   \n",
       "3       Own Home       805068.0              6 years        0.0   \n",
       "4           Rent       776264.0              8 years        0.0   \n",
       "\n",
       "   Number of Open Accounts  Years of Credit History  Maximum Open Credit  \\\n",
       "0                     11.0                     26.3             685960.0   \n",
       "1                     15.0                     15.3            1181730.0   \n",
       "2                     11.0                     35.0            1182434.0   \n",
       "3                      8.0                     22.5             147400.0   \n",
       "4                     13.0                     13.6             385836.0   \n",
       "\n",
       "   Number of Credit Problems  Months since last delinquent  Bankruptcies  \\\n",
       "0                        1.0                           NaN           1.0   \n",
       "1                        0.0                           NaN           0.0   \n",
       "2                        0.0                           NaN           0.0   \n",
       "3                        1.0                           NaN           1.0   \n",
       "4                        1.0                           NaN           0.0   \n",
       "\n",
       "              Purpose        Term  Current Loan Amount  \\\n",
       "0  debt consolidation  Short Term           99999999.0   \n",
       "1  debt consolidation   Long Term             264968.0   \n",
       "2  debt consolidation  Short Term           99999999.0   \n",
       "3  debt consolidation  Short Term             121396.0   \n",
       "4  debt consolidation  Short Term             125840.0   \n",
       "\n",
       "   Current Credit Balance  Monthly Debt  Credit Score  Credit Default  \n",
       "0                 47386.0        7914.0         749.0               0  \n",
       "1                394972.0       18373.0         737.0               1  \n",
       "2                308389.0       13651.0         742.0               0  \n",
       "3                 95855.0       11338.0         694.0               0  \n",
       "4                 93309.0        7180.0         719.0               0  "
      ]
     },
     "execution_count": 8,
     "metadata": {},
     "output_type": "execute_result"
    }
   ],
   "source": [
    "df = pd.read_csv(TRAIN_DATASET_PATH)\n",
    "df.head()"
   ]
  },
  {
   "cell_type": "code",
   "execution_count": 9,
   "id": "f65d7c85",
   "metadata": {
    "execution": {
     "iopub.execute_input": "2021-12-14T04:30:18.334142Z",
     "iopub.status.busy": "2021-12-14T04:30:18.330789Z",
     "iopub.status.idle": "2021-12-14T04:30:18.337068Z",
     "shell.execute_reply": "2021-12-14T04:30:18.337629Z",
     "shell.execute_reply.started": "2021-12-13T18:58:04.264424Z"
    },
    "papermill": {
     "duration": 0.056876,
     "end_time": "2021-12-14T04:30:18.337815",
     "exception": false,
     "start_time": "2021-12-14T04:30:18.280939",
     "status": "completed"
    },
    "tags": []
   },
   "outputs": [
    {
     "data": {
      "text/plain": [
       "(7500, 17)"
      ]
     },
     "execution_count": 9,
     "metadata": {},
     "output_type": "execute_result"
    }
   ],
   "source": [
    "df.shape"
   ]
  },
  {
   "cell_type": "code",
   "execution_count": 10,
   "id": "56f5df01",
   "metadata": {
    "execution": {
     "iopub.execute_input": "2021-12-14T04:30:18.437124Z",
     "iopub.status.busy": "2021-12-14T04:30:18.436103Z",
     "iopub.status.idle": "2021-12-14T04:30:18.449149Z",
     "shell.execute_reply": "2021-12-14T04:30:18.449672Z",
     "shell.execute_reply.started": "2021-12-13T18:58:04.272905Z"
    },
    "papermill": {
     "duration": 0.064156,
     "end_time": "2021-12-14T04:30:18.449880",
     "exception": false,
     "start_time": "2021-12-14T04:30:18.385724",
     "status": "completed"
    },
    "tags": []
   },
   "outputs": [
    {
     "data": {
      "text/plain": [
       "0    5387\n",
       "1    2113\n",
       "Name: Credit Default, dtype: int64"
      ]
     },
     "execution_count": 10,
     "metadata": {},
     "output_type": "execute_result"
    }
   ],
   "source": [
    "df['Credit Default'].value_counts()"
   ]
  },
  {
   "cell_type": "code",
   "execution_count": 11,
   "id": "1a80ebf4",
   "metadata": {
    "execution": {
     "iopub.execute_input": "2021-12-14T04:30:18.551518Z",
     "iopub.status.busy": "2021-12-14T04:30:18.550566Z",
     "iopub.status.idle": "2021-12-14T04:30:18.595954Z",
     "shell.execute_reply": "2021-12-14T04:30:18.596498Z",
     "shell.execute_reply.started": "2021-12-13T18:58:04.294074Z"
    },
    "papermill": {
     "duration": 0.099033,
     "end_time": "2021-12-14T04:30:18.596661",
     "exception": false,
     "start_time": "2021-12-14T04:30:18.497628",
     "status": "completed"
    },
    "tags": []
   },
   "outputs": [
    {
     "data": {
      "text/html": [
       "<div>\n",
       "<style scoped>\n",
       "    .dataframe tbody tr th:only-of-type {\n",
       "        vertical-align: middle;\n",
       "    }\n",
       "\n",
       "    .dataframe tbody tr th {\n",
       "        vertical-align: top;\n",
       "    }\n",
       "\n",
       "    .dataframe thead th {\n",
       "        text-align: right;\n",
       "    }\n",
       "</style>\n",
       "<table border=\"1\" class=\"dataframe\">\n",
       "  <thead>\n",
       "    <tr style=\"text-align: right;\">\n",
       "      <th></th>\n",
       "      <th>Home Ownership</th>\n",
       "      <th>Annual Income</th>\n",
       "      <th>Years in current job</th>\n",
       "      <th>Tax Liens</th>\n",
       "      <th>Number of Open Accounts</th>\n",
       "      <th>Years of Credit History</th>\n",
       "      <th>Maximum Open Credit</th>\n",
       "      <th>Number of Credit Problems</th>\n",
       "      <th>Months since last delinquent</th>\n",
       "      <th>Bankruptcies</th>\n",
       "      <th>Purpose</th>\n",
       "      <th>Term</th>\n",
       "      <th>Current Loan Amount</th>\n",
       "      <th>Current Credit Balance</th>\n",
       "      <th>Monthly Debt</th>\n",
       "      <th>Credit Score</th>\n",
       "    </tr>\n",
       "  </thead>\n",
       "  <tbody>\n",
       "    <tr>\n",
       "      <th>0</th>\n",
       "      <td>Rent</td>\n",
       "      <td>NaN</td>\n",
       "      <td>4 years</td>\n",
       "      <td>0.0</td>\n",
       "      <td>9.0</td>\n",
       "      <td>12.5</td>\n",
       "      <td>220968.0</td>\n",
       "      <td>0.0</td>\n",
       "      <td>70.0</td>\n",
       "      <td>0.0</td>\n",
       "      <td>debt consolidation</td>\n",
       "      <td>Short Term</td>\n",
       "      <td>162470.0</td>\n",
       "      <td>105906.0</td>\n",
       "      <td>6813.0</td>\n",
       "      <td>NaN</td>\n",
       "    </tr>\n",
       "    <tr>\n",
       "      <th>1</th>\n",
       "      <td>Rent</td>\n",
       "      <td>231838.0</td>\n",
       "      <td>1 year</td>\n",
       "      <td>0.0</td>\n",
       "      <td>6.0</td>\n",
       "      <td>32.7</td>\n",
       "      <td>55946.0</td>\n",
       "      <td>0.0</td>\n",
       "      <td>8.0</td>\n",
       "      <td>0.0</td>\n",
       "      <td>educational expenses</td>\n",
       "      <td>Short Term</td>\n",
       "      <td>78298.0</td>\n",
       "      <td>46037.0</td>\n",
       "      <td>2318.0</td>\n",
       "      <td>699.0</td>\n",
       "    </tr>\n",
       "    <tr>\n",
       "      <th>2</th>\n",
       "      <td>Home Mortgage</td>\n",
       "      <td>1152540.0</td>\n",
       "      <td>3 years</td>\n",
       "      <td>0.0</td>\n",
       "      <td>10.0</td>\n",
       "      <td>13.7</td>\n",
       "      <td>204600.0</td>\n",
       "      <td>0.0</td>\n",
       "      <td>NaN</td>\n",
       "      <td>0.0</td>\n",
       "      <td>debt consolidation</td>\n",
       "      <td>Short Term</td>\n",
       "      <td>200178.0</td>\n",
       "      <td>146490.0</td>\n",
       "      <td>18729.0</td>\n",
       "      <td>7260.0</td>\n",
       "    </tr>\n",
       "    <tr>\n",
       "      <th>3</th>\n",
       "      <td>Home Mortgage</td>\n",
       "      <td>1220313.0</td>\n",
       "      <td>10+ years</td>\n",
       "      <td>0.0</td>\n",
       "      <td>16.0</td>\n",
       "      <td>17.0</td>\n",
       "      <td>456302.0</td>\n",
       "      <td>0.0</td>\n",
       "      <td>70.0</td>\n",
       "      <td>0.0</td>\n",
       "      <td>debt consolidation</td>\n",
       "      <td>Short Term</td>\n",
       "      <td>217382.0</td>\n",
       "      <td>213199.0</td>\n",
       "      <td>27559.0</td>\n",
       "      <td>739.0</td>\n",
       "    </tr>\n",
       "    <tr>\n",
       "      <th>4</th>\n",
       "      <td>Home Mortgage</td>\n",
       "      <td>2340952.0</td>\n",
       "      <td>6 years</td>\n",
       "      <td>0.0</td>\n",
       "      <td>11.0</td>\n",
       "      <td>23.6</td>\n",
       "      <td>1207272.0</td>\n",
       "      <td>0.0</td>\n",
       "      <td>NaN</td>\n",
       "      <td>0.0</td>\n",
       "      <td>debt consolidation</td>\n",
       "      <td>Long Term</td>\n",
       "      <td>777634.0</td>\n",
       "      <td>425391.0</td>\n",
       "      <td>42605.0</td>\n",
       "      <td>706.0</td>\n",
       "    </tr>\n",
       "  </tbody>\n",
       "</table>\n",
       "</div>"
      ],
      "text/plain": [
       "  Home Ownership  Annual Income Years in current job  Tax Liens  \\\n",
       "0           Rent            NaN              4 years        0.0   \n",
       "1           Rent       231838.0               1 year        0.0   \n",
       "2  Home Mortgage      1152540.0              3 years        0.0   \n",
       "3  Home Mortgage      1220313.0            10+ years        0.0   \n",
       "4  Home Mortgage      2340952.0              6 years        0.0   \n",
       "\n",
       "   Number of Open Accounts  Years of Credit History  Maximum Open Credit  \\\n",
       "0                      9.0                     12.5             220968.0   \n",
       "1                      6.0                     32.7              55946.0   \n",
       "2                     10.0                     13.7             204600.0   \n",
       "3                     16.0                     17.0             456302.0   \n",
       "4                     11.0                     23.6            1207272.0   \n",
       "\n",
       "   Number of Credit Problems  Months since last delinquent  Bankruptcies  \\\n",
       "0                        0.0                          70.0           0.0   \n",
       "1                        0.0                           8.0           0.0   \n",
       "2                        0.0                           NaN           0.0   \n",
       "3                        0.0                          70.0           0.0   \n",
       "4                        0.0                           NaN           0.0   \n",
       "\n",
       "                Purpose        Term  Current Loan Amount  \\\n",
       "0    debt consolidation  Short Term             162470.0   \n",
       "1  educational expenses  Short Term              78298.0   \n",
       "2    debt consolidation  Short Term             200178.0   \n",
       "3    debt consolidation  Short Term             217382.0   \n",
       "4    debt consolidation   Long Term             777634.0   \n",
       "\n",
       "   Current Credit Balance  Monthly Debt  Credit Score  \n",
       "0                105906.0        6813.0           NaN  \n",
       "1                 46037.0        2318.0         699.0  \n",
       "2                146490.0       18729.0        7260.0  \n",
       "3                213199.0       27559.0         739.0  \n",
       "4                425391.0       42605.0         706.0  "
      ]
     },
     "execution_count": 11,
     "metadata": {},
     "output_type": "execute_result"
    }
   ],
   "source": [
    "test_df = pd.read_csv(TEST_DATASET_PATH)\n",
    "test_df.head()"
   ]
  },
  {
   "cell_type": "code",
   "execution_count": 12,
   "id": "3f3f7682",
   "metadata": {
    "execution": {
     "iopub.execute_input": "2021-12-14T04:30:18.698281Z",
     "iopub.status.busy": "2021-12-14T04:30:18.697308Z",
     "iopub.status.idle": "2021-12-14T04:30:18.702545Z",
     "shell.execute_reply": "2021-12-14T04:30:18.703091Z",
     "shell.execute_reply.started": "2021-12-13T18:58:04.347512Z"
    },
    "papermill": {
     "duration": 0.056901,
     "end_time": "2021-12-14T04:30:18.703273",
     "exception": false,
     "start_time": "2021-12-14T04:30:18.646372",
     "status": "completed"
    },
    "tags": []
   },
   "outputs": [
    {
     "data": {
      "text/plain": [
       "(2500, 16)"
      ]
     },
     "execution_count": 12,
     "metadata": {},
     "output_type": "execute_result"
    }
   ],
   "source": [
    "test_df.shape"
   ]
  },
  {
   "cell_type": "markdown",
   "id": "f005f703",
   "metadata": {
    "papermill": {
     "duration": 0.049243,
     "end_time": "2021-12-14T04:30:18.803055",
     "exception": false,
     "start_time": "2021-12-14T04:30:18.753812",
     "status": "completed"
    },
    "tags": []
   },
   "source": [
    "Обзор \n",
    "датасета"
   ]
  },
  {
   "cell_type": "code",
   "execution_count": 13,
   "id": "269dc2dc",
   "metadata": {
    "execution": {
     "iopub.execute_input": "2021-12-14T04:30:18.903676Z",
     "iopub.status.busy": "2021-12-14T04:30:18.902745Z",
     "iopub.status.idle": "2021-12-14T04:30:18.923912Z",
     "shell.execute_reply": "2021-12-14T04:30:18.924394Z",
     "shell.execute_reply.started": "2021-12-13T18:58:04.354885Z"
    },
    "papermill": {
     "duration": 0.073174,
     "end_time": "2021-12-14T04:30:18.924576",
     "exception": false,
     "start_time": "2021-12-14T04:30:18.851402",
     "status": "completed"
    },
    "tags": []
   },
   "outputs": [
    {
     "name": "stdout",
     "output_type": "stream",
     "text": [
      "<class 'pandas.core.frame.DataFrame'>\n",
      "RangeIndex: 7500 entries, 0 to 7499\n",
      "Data columns (total 17 columns):\n",
      " #   Column                        Non-Null Count  Dtype  \n",
      "---  ------                        --------------  -----  \n",
      " 0   Home Ownership                7500 non-null   object \n",
      " 1   Annual Income                 5943 non-null   float64\n",
      " 2   Years in current job          7129 non-null   object \n",
      " 3   Tax Liens                     7500 non-null   float64\n",
      " 4   Number of Open Accounts       7500 non-null   float64\n",
      " 5   Years of Credit History       7500 non-null   float64\n",
      " 6   Maximum Open Credit           7500 non-null   float64\n",
      " 7   Number of Credit Problems     7500 non-null   float64\n",
      " 8   Months since last delinquent  3419 non-null   float64\n",
      " 9   Bankruptcies                  7486 non-null   float64\n",
      " 10  Purpose                       7500 non-null   object \n",
      " 11  Term                          7500 non-null   object \n",
      " 12  Current Loan Amount           7500 non-null   float64\n",
      " 13  Current Credit Balance        7500 non-null   float64\n",
      " 14  Monthly Debt                  7500 non-null   float64\n",
      " 15  Credit Score                  5943 non-null   float64\n",
      " 16  Credit Default                7500 non-null   int64  \n",
      "dtypes: float64(12), int64(1), object(4)\n",
      "memory usage: 996.2+ KB\n"
     ]
    }
   ],
   "source": [
    "df.info()"
   ]
  },
  {
   "cell_type": "code",
   "execution_count": 14,
   "id": "6b15ae54",
   "metadata": {
    "execution": {
     "iopub.execute_input": "2021-12-14T04:30:19.027762Z",
     "iopub.status.busy": "2021-12-14T04:30:19.026711Z",
     "iopub.status.idle": "2021-12-14T04:30:19.201219Z",
     "shell.execute_reply": "2021-12-14T04:30:19.200645Z",
     "shell.execute_reply.started": "2021-12-13T18:58:04.5727Z"
    },
    "papermill": {
     "duration": 0.226832,
     "end_time": "2021-12-14T04:30:19.201366",
     "exception": false,
     "start_time": "2021-12-14T04:30:18.974534",
     "status": "completed"
    },
    "tags": []
   },
   "outputs": [
    {
     "data": {
      "text/html": [
       "<div>\n",
       "<style scoped>\n",
       "    .dataframe tbody tr th:only-of-type {\n",
       "        vertical-align: middle;\n",
       "    }\n",
       "\n",
       "    .dataframe tbody tr th {\n",
       "        vertical-align: top;\n",
       "    }\n",
       "\n",
       "    .dataframe thead th {\n",
       "        text-align: right;\n",
       "    }\n",
       "</style>\n",
       "<table border=\"1\" class=\"dataframe\">\n",
       "  <thead>\n",
       "    <tr style=\"text-align: right;\">\n",
       "      <th></th>\n",
       "      <th>Annual Income</th>\n",
       "      <th>Tax Liens</th>\n",
       "      <th>Number of Open Accounts</th>\n",
       "      <th>Years of Credit History</th>\n",
       "      <th>Maximum Open Credit</th>\n",
       "      <th>Number of Credit Problems</th>\n",
       "      <th>Months since last delinquent</th>\n",
       "      <th>Bankruptcies</th>\n",
       "      <th>Current Loan Amount</th>\n",
       "      <th>Current Credit Balance</th>\n",
       "      <th>Monthly Debt</th>\n",
       "      <th>Credit Score</th>\n",
       "      <th>Credit Default</th>\n",
       "    </tr>\n",
       "  </thead>\n",
       "  <tbody>\n",
       "    <tr>\n",
       "      <th>count</th>\n",
       "      <td>5.943000e+03</td>\n",
       "      <td>7500.000000</td>\n",
       "      <td>7500.000000</td>\n",
       "      <td>7500.000000</td>\n",
       "      <td>7.500000e+03</td>\n",
       "      <td>7500.000000</td>\n",
       "      <td>3419.000000</td>\n",
       "      <td>7486.000000</td>\n",
       "      <td>7.500000e+03</td>\n",
       "      <td>7.500000e+03</td>\n",
       "      <td>7500.000000</td>\n",
       "      <td>5943.000000</td>\n",
       "      <td>7500.000000</td>\n",
       "    </tr>\n",
       "    <tr>\n",
       "      <th>mean</th>\n",
       "      <td>1.366392e+06</td>\n",
       "      <td>0.030133</td>\n",
       "      <td>11.130933</td>\n",
       "      <td>18.317467</td>\n",
       "      <td>9.451537e+05</td>\n",
       "      <td>0.170000</td>\n",
       "      <td>34.692600</td>\n",
       "      <td>0.117152</td>\n",
       "      <td>1.187318e+07</td>\n",
       "      <td>2.898332e+05</td>\n",
       "      <td>18314.454133</td>\n",
       "      <td>1151.087498</td>\n",
       "      <td>0.281733</td>\n",
       "    </tr>\n",
       "    <tr>\n",
       "      <th>std</th>\n",
       "      <td>8.453392e+05</td>\n",
       "      <td>0.271604</td>\n",
       "      <td>4.908924</td>\n",
       "      <td>7.041946</td>\n",
       "      <td>1.602622e+07</td>\n",
       "      <td>0.498598</td>\n",
       "      <td>21.688806</td>\n",
       "      <td>0.347192</td>\n",
       "      <td>3.192612e+07</td>\n",
       "      <td>3.178714e+05</td>\n",
       "      <td>11926.764673</td>\n",
       "      <td>1604.451418</td>\n",
       "      <td>0.449874</td>\n",
       "    </tr>\n",
       "    <tr>\n",
       "      <th>min</th>\n",
       "      <td>1.645970e+05</td>\n",
       "      <td>0.000000</td>\n",
       "      <td>2.000000</td>\n",
       "      <td>4.000000</td>\n",
       "      <td>0.000000e+00</td>\n",
       "      <td>0.000000</td>\n",
       "      <td>0.000000</td>\n",
       "      <td>0.000000</td>\n",
       "      <td>1.124200e+04</td>\n",
       "      <td>0.000000e+00</td>\n",
       "      <td>0.000000</td>\n",
       "      <td>585.000000</td>\n",
       "      <td>0.000000</td>\n",
       "    </tr>\n",
       "    <tr>\n",
       "      <th>25%</th>\n",
       "      <td>8.443410e+05</td>\n",
       "      <td>0.000000</td>\n",
       "      <td>8.000000</td>\n",
       "      <td>13.500000</td>\n",
       "      <td>2.792295e+05</td>\n",
       "      <td>0.000000</td>\n",
       "      <td>16.000000</td>\n",
       "      <td>0.000000</td>\n",
       "      <td>1.801690e+05</td>\n",
       "      <td>1.142565e+05</td>\n",
       "      <td>10067.500000</td>\n",
       "      <td>711.000000</td>\n",
       "      <td>0.000000</td>\n",
       "    </tr>\n",
       "    <tr>\n",
       "      <th>50%</th>\n",
       "      <td>1.168386e+06</td>\n",
       "      <td>0.000000</td>\n",
       "      <td>10.000000</td>\n",
       "      <td>17.000000</td>\n",
       "      <td>4.781590e+05</td>\n",
       "      <td>0.000000</td>\n",
       "      <td>32.000000</td>\n",
       "      <td>0.000000</td>\n",
       "      <td>3.095730e+05</td>\n",
       "      <td>2.093230e+05</td>\n",
       "      <td>16076.500000</td>\n",
       "      <td>731.000000</td>\n",
       "      <td>0.000000</td>\n",
       "    </tr>\n",
       "    <tr>\n",
       "      <th>75%</th>\n",
       "      <td>1.640137e+06</td>\n",
       "      <td>0.000000</td>\n",
       "      <td>14.000000</td>\n",
       "      <td>21.800000</td>\n",
       "      <td>7.935015e+05</td>\n",
       "      <td>0.000000</td>\n",
       "      <td>50.000000</td>\n",
       "      <td>0.000000</td>\n",
       "      <td>5.198820e+05</td>\n",
       "      <td>3.604062e+05</td>\n",
       "      <td>23818.000000</td>\n",
       "      <td>743.000000</td>\n",
       "      <td>1.000000</td>\n",
       "    </tr>\n",
       "    <tr>\n",
       "      <th>max</th>\n",
       "      <td>1.014934e+07</td>\n",
       "      <td>7.000000</td>\n",
       "      <td>43.000000</td>\n",
       "      <td>57.700000</td>\n",
       "      <td>1.304726e+09</td>\n",
       "      <td>7.000000</td>\n",
       "      <td>118.000000</td>\n",
       "      <td>4.000000</td>\n",
       "      <td>1.000000e+08</td>\n",
       "      <td>6.506797e+06</td>\n",
       "      <td>136679.000000</td>\n",
       "      <td>7510.000000</td>\n",
       "      <td>1.000000</td>\n",
       "    </tr>\n",
       "  </tbody>\n",
       "</table>\n",
       "</div>"
      ],
      "text/plain": [
       "       Annual Income    Tax Liens  Number of Open Accounts  \\\n",
       "count   5.943000e+03  7500.000000              7500.000000   \n",
       "mean    1.366392e+06     0.030133                11.130933   \n",
       "std     8.453392e+05     0.271604                 4.908924   \n",
       "min     1.645970e+05     0.000000                 2.000000   \n",
       "25%     8.443410e+05     0.000000                 8.000000   \n",
       "50%     1.168386e+06     0.000000                10.000000   \n",
       "75%     1.640137e+06     0.000000                14.000000   \n",
       "max     1.014934e+07     7.000000                43.000000   \n",
       "\n",
       "       Years of Credit History  Maximum Open Credit  \\\n",
       "count              7500.000000         7.500000e+03   \n",
       "mean                 18.317467         9.451537e+05   \n",
       "std                   7.041946         1.602622e+07   \n",
       "min                   4.000000         0.000000e+00   \n",
       "25%                  13.500000         2.792295e+05   \n",
       "50%                  17.000000         4.781590e+05   \n",
       "75%                  21.800000         7.935015e+05   \n",
       "max                  57.700000         1.304726e+09   \n",
       "\n",
       "       Number of Credit Problems  Months since last delinquent  Bankruptcies  \\\n",
       "count                7500.000000                   3419.000000   7486.000000   \n",
       "mean                    0.170000                     34.692600      0.117152   \n",
       "std                     0.498598                     21.688806      0.347192   \n",
       "min                     0.000000                      0.000000      0.000000   \n",
       "25%                     0.000000                     16.000000      0.000000   \n",
       "50%                     0.000000                     32.000000      0.000000   \n",
       "75%                     0.000000                     50.000000      0.000000   \n",
       "max                     7.000000                    118.000000      4.000000   \n",
       "\n",
       "       Current Loan Amount  Current Credit Balance   Monthly Debt  \\\n",
       "count         7.500000e+03            7.500000e+03    7500.000000   \n",
       "mean          1.187318e+07            2.898332e+05   18314.454133   \n",
       "std           3.192612e+07            3.178714e+05   11926.764673   \n",
       "min           1.124200e+04            0.000000e+00       0.000000   \n",
       "25%           1.801690e+05            1.142565e+05   10067.500000   \n",
       "50%           3.095730e+05            2.093230e+05   16076.500000   \n",
       "75%           5.198820e+05            3.604062e+05   23818.000000   \n",
       "max           1.000000e+08            6.506797e+06  136679.000000   \n",
       "\n",
       "       Credit Score  Credit Default  \n",
       "count   5943.000000     7500.000000  \n",
       "mean    1151.087498        0.281733  \n",
       "std     1604.451418        0.449874  \n",
       "min      585.000000        0.000000  \n",
       "25%      711.000000        0.000000  \n",
       "50%      731.000000        0.000000  \n",
       "75%      743.000000        1.000000  \n",
       "max     7510.000000        1.000000  "
      ]
     },
     "execution_count": 14,
     "metadata": {},
     "output_type": "execute_result"
    }
   ],
   "source": [
    "df.describe()"
   ]
  },
  {
   "cell_type": "code",
   "execution_count": 15,
   "id": "ed879e5c",
   "metadata": {
    "execution": {
     "iopub.execute_input": "2021-12-14T04:30:19.303849Z",
     "iopub.status.busy": "2021-12-14T04:30:19.303148Z",
     "iopub.status.idle": "2021-12-14T04:30:19.316370Z",
     "shell.execute_reply": "2021-12-14T04:30:19.315734Z",
     "shell.execute_reply.started": "2021-12-13T18:58:04.63917Z"
    },
    "papermill": {
     "duration": 0.065485,
     "end_time": "2021-12-14T04:30:19.316507",
     "exception": false,
     "start_time": "2021-12-14T04:30:19.251022",
     "status": "completed"
    },
    "tags": []
   },
   "outputs": [
    {
     "name": "stdout",
     "output_type": "stream",
     "text": [
      "<class 'pandas.core.frame.DataFrame'>\n",
      "RangeIndex: 2500 entries, 0 to 2499\n",
      "Data columns (total 16 columns):\n",
      " #   Column                        Non-Null Count  Dtype  \n",
      "---  ------                        --------------  -----  \n",
      " 0   Home Ownership                2500 non-null   object \n",
      " 1   Annual Income                 1987 non-null   float64\n",
      " 2   Years in current job          2414 non-null   object \n",
      " 3   Tax Liens                     2500 non-null   float64\n",
      " 4   Number of Open Accounts       2500 non-null   float64\n",
      " 5   Years of Credit History       2500 non-null   float64\n",
      " 6   Maximum Open Credit           2500 non-null   float64\n",
      " 7   Number of Credit Problems     2500 non-null   float64\n",
      " 8   Months since last delinquent  1142 non-null   float64\n",
      " 9   Bankruptcies                  2497 non-null   float64\n",
      " 10  Purpose                       2500 non-null   object \n",
      " 11  Term                          2500 non-null   object \n",
      " 12  Current Loan Amount           2500 non-null   float64\n",
      " 13  Current Credit Balance        2500 non-null   float64\n",
      " 14  Monthly Debt                  2500 non-null   float64\n",
      " 15  Credit Score                  1987 non-null   float64\n",
      "dtypes: float64(12), object(4)\n",
      "memory usage: 312.6+ KB\n"
     ]
    }
   ],
   "source": [
    "test_df.info()"
   ]
  },
  {
   "cell_type": "code",
   "execution_count": 16,
   "id": "9b8bb5ca",
   "metadata": {
    "execution": {
     "iopub.execute_input": "2021-12-14T04:30:19.426386Z",
     "iopub.status.busy": "2021-12-14T04:30:19.425389Z",
     "iopub.status.idle": "2021-12-14T04:30:19.430349Z",
     "shell.execute_reply": "2021-12-14T04:30:19.430921Z",
     "shell.execute_reply.started": "2021-12-13T18:58:04.659881Z"
    },
    "papermill": {
     "duration": 0.061042,
     "end_time": "2021-12-14T04:30:19.431104",
     "exception": false,
     "start_time": "2021-12-14T04:30:19.370062",
     "status": "completed"
    },
    "tags": []
   },
   "outputs": [],
   "source": [
    "TARGET_NAME = 'Credit Default'\n",
    "NUM_FEATURE_NAMES = ['Annual Income', 'Tax Liens', 'Number of Open Accounts', 'Years of Credit History', 'Maximum Open Credit',\n",
    "                     'Number of Credit Problems', 'Months since last delinquent', 'Bankruptcies', 'Current Loan Amount', 'Current Credit Balance', 'Monthly Debt', 'Credit Score']\n",
    "\n",
    "CAT_FEATURE_NAMES = ['Home Ownership', 'Years in current job', 'Purpose', 'Term']"
   ]
  },
  {
   "cell_type": "code",
   "execution_count": 17,
   "id": "38dcc8bf",
   "metadata": {
    "execution": {
     "iopub.execute_input": "2021-12-14T04:30:19.538558Z",
     "iopub.status.busy": "2021-12-14T04:30:19.537558Z",
     "iopub.status.idle": "2021-12-14T04:30:21.987040Z",
     "shell.execute_reply": "2021-12-14T04:30:21.987551Z",
     "shell.execute_reply.started": "2021-12-13T18:58:04.671721Z"
    },
    "papermill": {
     "duration": 2.504436,
     "end_time": "2021-12-14T04:30:21.987738",
     "exception": false,
     "start_time": "2021-12-14T04:30:19.483302",
     "status": "completed"
    },
    "tags": []
   },
   "outputs": [
    {
     "data": {
      "image/png": "[encoded data removed]",
      "text/plain": [
       "<Figure size 1152x1152 with 12 Axes>"
      ]
     },
     "metadata": {
      "needs_background": "light"
     },
     "output_type": "display_data"
    }
   ],
   "source": [
    "df[NUM_FEATURE_NAMES].hist(figsize=(16, 16), bins=20, grid=False);"
   ]
  },
  {
   "cell_type": "code",
   "execution_count": 18,
   "id": "9de4f9bf",
   "metadata": {
    "execution": {
     "iopub.execute_input": "2021-12-14T04:30:22.096290Z",
     "iopub.status.busy": "2021-12-14T04:30:22.095303Z",
     "iopub.status.idle": "2021-12-14T04:30:22.321379Z",
     "shell.execute_reply": "2021-12-14T04:30:22.321911Z",
     "shell.execute_reply.started": "2021-12-13T18:58:07.584674Z"
    },
    "papermill": {
     "duration": 0.282232,
     "end_time": "2021-12-14T04:30:22.322080",
     "exception": false,
     "start_time": "2021-12-14T04:30:22.039848",
     "status": "completed"
    },
    "tags": []
   },
   "outputs": [
    {
     "data": {
      "image/png": "[encoded data removed]",
      "text/plain": [
       "<Figure size 288x288 with 1 Axes>"
      ]
     },
     "metadata": {
      "needs_background": "light"
     },
     "output_type": "display_data"
    }
   ],
   "source": [
    "df[TARGET_NAME].hist(figsize=(4, 4), bins=20, grid=False);"
   ]
  },
  {
   "cell_type": "code",
   "execution_count": 19,
   "id": "34111c97",
   "metadata": {
    "execution": {
     "iopub.execute_input": "2021-12-14T04:30:22.431303Z",
     "iopub.status.busy": "2021-12-14T04:30:22.430324Z",
     "iopub.status.idle": "2021-12-14T04:30:22.444972Z",
     "shell.execute_reply": "2021-12-14T04:30:22.445450Z",
     "shell.execute_reply.started": "2021-12-13T18:58:07.862254Z"
    },
    "papermill": {
     "duration": 0.07142,
     "end_time": "2021-12-14T04:30:22.445627",
     "exception": false,
     "start_time": "2021-12-14T04:30:22.374207",
     "status": "completed"
    },
    "tags": []
   },
   "outputs": [
    {
     "name": "stdout",
     "output_type": "stream",
     "text": [
      "Home Ownership\n",
      "\n",
      "Home Mortgage    3637\n",
      "Rent             3204\n",
      "Own Home          647\n",
      "Have Mortgage      12\n",
      "Name: Home Ownership, dtype: int64\n",
      "****************************************************************************************************\n",
      "\n",
      "Years in current job\n",
      "\n",
      "10+ years    2332\n",
      "2 years       705\n",
      "3 years       620\n",
      "< 1 year      563\n",
      "5 years       516\n",
      "1 year        504\n",
      "4 years       469\n",
      "6 years       426\n",
      "7 years       396\n",
      "8 years       339\n",
      "9 years       259\n",
      "Name: Years in current job, dtype: int64\n",
      "****************************************************************************************************\n",
      "\n",
      "Purpose\n",
      "\n",
      "debt consolidation      5944\n",
      "other                    665\n",
      "home improvements        412\n",
      "business loan            129\n",
      "buy a car                 96\n",
      "medical bills             71\n",
      "major purchase            40\n",
      "take a trip               37\n",
      "buy house                 34\n",
      "small business            26\n",
      "wedding                   15\n",
      "moving                    11\n",
      "educational expenses      10\n",
      "vacation                   8\n",
      "renewable energy           2\n",
      "Name: Purpose, dtype: int64\n",
      "****************************************************************************************************\n",
      "\n",
      "Term\n",
      "\n",
      "Short Term    5556\n",
      "Long Term     1944\n",
      "Name: Term, dtype: int64\n",
      "****************************************************************************************************\n",
      "\n"
     ]
    }
   ],
   "source": [
    "for cat_colname in df.select_dtypes(include='object').columns:\n",
    "    print(str(cat_colname) + '\\n\\n' + str(df[cat_colname].value_counts()) + '\\n' + '*' * 100 + '\\n')"
   ]
  },
  {
   "cell_type": "code",
   "execution_count": 20,
   "id": "ba63100a",
   "metadata": {
    "execution": {
     "iopub.execute_input": "2021-12-14T04:30:22.555343Z",
     "iopub.status.busy": "2021-12-14T04:30:22.554377Z",
     "iopub.status.idle": "2021-12-14T04:30:23.550893Z",
     "shell.execute_reply": "2021-12-14T04:30:23.550343Z",
     "shell.execute_reply.started": "2021-12-13T18:58:07.880915Z"
    },
    "papermill": {
     "duration": 1.052258,
     "end_time": "2021-12-14T04:30:23.551028",
     "exception": false,
     "start_time": "2021-12-14T04:30:22.498770",
     "status": "completed"
    },
    "tags": []
   },
   "outputs": [
    {
     "data": {
      "image/png": "[encoded data removed]",
      "text/plain": [
       "<Figure size 864x504 with 2 Axes>"
      ]
     },
     "metadata": {
      "needs_background": "light"
     },
     "output_type": "display_data"
    }
   ],
   "source": [
    "plt.figure(figsize=(12, 7))\n",
    "\n",
    "# sns.set(font_scale=1.4)\n",
    "\n",
    "corr_matrix = df.corr()\n",
    "corr_matrix = np.round(corr_matrix, 2)\n",
    "corr_matrix[np.abs(corr_matrix) < 0.3] = 0\n",
    "\n",
    "sns.heatmap(corr_matrix, annot=True, linewidths=.5, cmap='coolwarm')\n",
    "\n",
    "plt.title('Correlation matrix')\n",
    "plt.show()\n"
   ]
  },
  {
   "cell_type": "markdown",
   "id": "0817919c",
   "metadata": {
    "papermill": {
     "duration": 0.056164,
     "end_time": "2021-12-14T04:30:23.663364",
     "exception": false,
     "start_time": "2021-12-14T04:30:23.607200",
     "status": "completed"
    },
    "tags": []
   },
   "source": [
    "Обработка категориальных признаков\n",
    "\n",
    "Home Ownership и Purpose преведем в цифру вероятности возврата кредита, Years in current job переведем в численные значения, Term сделаем бинарным."
   ]
  },
  {
   "cell_type": "code",
   "execution_count": 21,
   "id": "c9a0d23b",
   "metadata": {
    "execution": {
     "iopub.execute_input": "2021-12-14T04:30:23.796129Z",
     "iopub.status.busy": "2021-12-14T04:30:23.795352Z",
     "iopub.status.idle": "2021-12-14T04:30:23.871782Z",
     "shell.execute_reply": "2021-12-14T04:30:23.872343Z",
     "shell.execute_reply.started": "2021-12-13T18:58:09.065527Z"
    },
    "papermill": {
     "duration": 0.152148,
     "end_time": "2021-12-14T04:30:23.872519",
     "exception": false,
     "start_time": "2021-12-14T04:30:23.720371",
     "status": "completed"
    },
    "tags": []
   },
   "outputs": [],
   "source": [
    "df_cat = df.groupby('Home Ownership', as_index=False).mean()[['Home Ownership', 'Credit Default']].rename(columns={\n",
    "    'Credit Default': 'target_Home_Ownership'\n",
    "})\n",
    "df_cat = pd.DataFrame(df_cat)\n",
    "\n",
    "df = df.merge(df_cat, on='Home Ownership', how='left')\n",
    "test_df = test_df.merge(df_cat, on='Home Ownership', how='left')\n",
    "df['Years in current job'] = df['Years in current job'].replace({'< 1 year':0, '1 year':1, '2 years':2,\n",
    "                                                                 '3 years':3, '4 years':4, '5 years':5, \n",
    "                                                                 '6 years':6, '7 years':7,'8 years':8,'9 years':9,'10+ years':10})\n",
    "\n",
    "test_df['Years in current job'] = test_df['Years in current job'].replace({'< 1 year':0, '1 year':1, '2 years':2,\n",
    "                                                                 '3 years':3, '4 years':4, '5 years':5, \n",
    "                                                                 '6 years':6, '7 years':7,'8 years':8,'9 years':9,'10+ years':10})\n",
    "df_cat = df.groupby('Purpose', as_index=False).mean()[['Purpose', 'Credit Default']].rename(columns={\n",
    "    'Credit Default': 'target_Purpose'\n",
    "})\n",
    "df_cat = pd.DataFrame(df_cat)\n",
    "df = df.merge(df_cat, on='Purpose', how='left')\n",
    "test_df = test_df.merge(df_cat, on='Purpose', how='left')\n",
    "\n",
    "df['Term'] = df['Term'].map({'Long Term':'1', 'Short Term':'2'}).astype(int)\n",
    "test_df['Term'] = test_df['Term'].map({'Long Term':'1', 'Short Term':'2'}).astype(int)"
   ]
  },
  {
   "cell_type": "markdown",
   "id": "2fed02ce",
   "metadata": {
    "papermill": {
     "duration": 0.055308,
     "end_time": "2021-12-14T04:30:23.983774",
     "exception": false,
     "start_time": "2021-12-14T04:30:23.928466",
     "status": "completed"
    },
    "tags": []
   },
   "source": [
    "Новый признак.\n",
    "\n",
    "Создадим категории для Monthly Debt и сделаем признак вероятности возврата кредита по этим категориям."
   ]
  },
  {
   "cell_type": "code",
   "execution_count": 22,
   "id": "1a2e30ea",
   "metadata": {
    "execution": {
     "iopub.execute_input": "2021-12-14T04:30:24.098322Z",
     "iopub.status.busy": "2021-12-14T04:30:24.097611Z",
     "iopub.status.idle": "2021-12-14T04:30:24.103172Z",
     "shell.execute_reply": "2021-12-14T04:30:24.103678Z",
     "shell.execute_reply.started": "2021-12-13T18:58:09.376093Z"
    },
    "papermill": {
     "duration": 0.064111,
     "end_time": "2021-12-14T04:30:24.103867",
     "exception": false,
     "start_time": "2021-12-14T04:30:24.039756",
     "status": "completed"
    },
    "tags": []
   },
   "outputs": [],
   "source": [
    "Monthly_Debt_max = df['Monthly Debt'].max()\n",
    "\n",
    "def Monthly_Debt_cat(X):\n",
    "    bins = [0, 10067.50, 16076.50, 23818.00, Monthly_Debt_max]\n",
    "    X['Monthly_Debt_cat'] = pd.cut(X['Monthly Debt'], bins=bins, labels=False)\n",
    "    \n",
    "    X['Monthly_Debt_cat'].fillna(-1, inplace=True)\n",
    "    return X"
   ]
  },
  {
   "cell_type": "code",
   "execution_count": 23,
   "id": "20d96c5c",
   "metadata": {
    "execution": {
     "iopub.execute_input": "2021-12-14T04:30:24.216930Z",
     "iopub.status.busy": "2021-12-14T04:30:24.216321Z",
     "iopub.status.idle": "2021-12-14T04:30:24.243378Z",
     "shell.execute_reply": "2021-12-14T04:30:24.243918Z",
     "shell.execute_reply.started": "2021-12-13T18:58:09.385748Z"
    },
    "papermill": {
     "duration": 0.084545,
     "end_time": "2021-12-14T04:30:24.244088",
     "exception": false,
     "start_time": "2021-12-14T04:30:24.159543",
     "status": "completed"
    },
    "tags": []
   },
   "outputs": [],
   "source": [
    "df = Monthly_Debt_cat(df)\n",
    "test_df = Monthly_Debt_cat(test_df)\n",
    "\n",
    "df_cat = df.groupby('Monthly_Debt_cat', as_index=False).mean()[['Monthly_Debt_cat', 'Credit Default']].rename(columns={\n",
    "    'Credit Default': 'target_Monthly_Debt_cat'\n",
    "})\n",
    "df_cat = pd.DataFrame(df_cat)\n",
    "\n",
    "df = df.merge(df_cat, on='Monthly_Debt_cat', how='left')\n",
    "test_df = test_df.merge(df_cat, on='Monthly_Debt_cat', how='left')"
   ]
  },
  {
   "cell_type": "markdown",
   "id": "279c8176",
   "metadata": {
    "papermill": {
     "duration": 0.055304,
     "end_time": "2021-12-14T04:30:24.353865",
     "exception": false,
     "start_time": "2021-12-14T04:30:24.298561",
     "status": "completed"
    },
    "tags": []
   },
   "source": [
    "Обработка пропусков"
   ]
  },
  {
   "cell_type": "markdown",
   "id": "639b535a",
   "metadata": {
    "papermill": {
     "duration": 0.054205,
     "end_time": "2021-12-14T04:30:24.462534",
     "exception": false,
     "start_time": "2021-12-14T04:30:24.408329",
     "status": "completed"
    },
    "tags": []
   },
   "source": [
    "Пропуски в Annual Income, Months since last delinquent, Bankruptcies заменим медианами, Years in current job модой.\n",
    "\n",
    "\n"
   ]
  },
  {
   "cell_type": "code",
   "execution_count": 24,
   "id": "7a866ed8",
   "metadata": {
    "execution": {
     "iopub.execute_input": "2021-12-14T04:30:24.580206Z",
     "iopub.status.busy": "2021-12-14T04:30:24.579536Z",
     "iopub.status.idle": "2021-12-14T04:30:24.593981Z",
     "shell.execute_reply": "2021-12-14T04:30:24.594502Z",
     "shell.execute_reply.started": "2021-12-13T18:58:09.419303Z"
    },
    "papermill": {
     "duration": 0.07609,
     "end_time": "2021-12-14T04:30:24.594671",
     "exception": false,
     "start_time": "2021-12-14T04:30:24.518581",
     "status": "completed"
    },
    "tags": []
   },
   "outputs": [],
   "source": [
    "df.loc[df['Annual Income'].isna(), 'Annual Income'] = df['Annual Income'].median()\n",
    "test_df.loc[test_df['Annual Income'].isna(), 'Annual Income'] = df['Annual Income'].median()\n",
    "\n",
    "df.loc[df['Months since last delinquent'].isna(), 'Months since last delinquent'] = df['Months since last delinquent'].median()\n",
    "test_df.loc[test_df['Months since last delinquent'].isna(), 'Months since last delinquent'] = df['Months since last delinquent'].median()\n",
    "\n",
    "df.loc[df['Bankruptcies'].isna(), 'Bankruptcies'] = df['Bankruptcies'].median()\n",
    "test_df.loc[test_df['Bankruptcies'].isna(), 'Bankruptcies'] = df['Bankruptcies'].median()\n",
    "\n",
    "df.loc[df['Years in current job'].isna(), 'Years in current job'] = df['Years in current job'].mode()[0]\n",
    "test_df.loc[test_df['Years in current job'].isna(), 'Years in current job'] = df['Years in current job'].mode()[0]"
   ]
  },
  {
   "cell_type": "markdown",
   "id": "962b626e",
   "metadata": {
    "papermill": {
     "duration": 0.053987,
     "end_time": "2021-12-14T04:30:24.703349",
     "exception": false,
     "start_time": "2021-12-14T04:30:24.649362",
     "status": "completed"
    },
    "tags": []
   },
   "source": [
    "Пропуски в Credit Score обработаем позже."
   ]
  },
  {
   "cell_type": "markdown",
   "id": "0dd926d0",
   "metadata": {
    "papermill": {
     "duration": 0.054556,
     "end_time": "2021-12-14T04:30:24.813100",
     "exception": false,
     "start_time": "2021-12-14T04:30:24.758544",
     "status": "completed"
    },
    "tags": []
   },
   "source": [
    "Обработка выбросов\n",
    "\n",
    "Сравнение по каждому признаку медианы и среднего значения (mean). Разница значений между которыми говорит о возможных выбросах в данных: Maximum Open Credit, Current Loan Amount и Credit Score.\n",
    "\n",
    "\n",
    "\n",
    "Максимальный кредит - 99999999.0 Выбросы в Maximum Open Credit и Current Loan Amount заменим медианой."
   ]
  },
  {
   "cell_type": "code",
   "execution_count": 25,
   "id": "c706499b",
   "metadata": {
    "execution": {
     "iopub.execute_input": "2021-12-14T04:30:24.925826Z",
     "iopub.status.busy": "2021-12-14T04:30:24.925178Z",
     "iopub.status.idle": "2021-12-14T04:30:24.933544Z",
     "shell.execute_reply": "2021-12-14T04:30:24.934137Z",
     "shell.execute_reply.started": "2021-12-13T18:58:09.439515Z"
    },
    "papermill": {
     "duration": 0.066699,
     "end_time": "2021-12-14T04:30:24.934312",
     "exception": false,
     "start_time": "2021-12-14T04:30:24.867613",
     "status": "completed"
    },
    "tags": []
   },
   "outputs": [],
   "source": [
    "df.loc[df['Maximum Open Credit'] > 99999999.0, 'Maximum Open Credit'] = df['Maximum Open Credit'].median()\n",
    "df.loc[df['Current Loan Amount'] == 99999999.0, 'Current Loan Amount'] = df['Current Loan Amount'].median()\n",
    "test_df.loc[test_df['Current Loan Amount'] == 99999999.0, 'Current Loan Amount'] = df['Current Loan Amount'].median()"
   ]
  },
  {
   "cell_type": "markdown",
   "id": "2b74c70c",
   "metadata": {
    "papermill": {
     "duration": 0.054434,
     "end_time": "2021-12-14T04:30:25.044022",
     "exception": false,
     "start_time": "2021-12-14T04:30:24.989588",
     "status": "completed"
    },
    "tags": []
   },
   "source": [
    "Credit Score\n",
    "\n",
    "Значение больше 1000 - выброс, заменим на Nan"
   ]
  },
  {
   "cell_type": "code",
   "execution_count": 26,
   "id": "3294d363",
   "metadata": {
    "execution": {
     "iopub.execute_input": "2021-12-14T04:30:25.157293Z",
     "iopub.status.busy": "2021-12-14T04:30:25.156618Z",
     "iopub.status.idle": "2021-12-14T04:30:25.165952Z",
     "shell.execute_reply": "2021-12-14T04:30:25.166491Z",
     "shell.execute_reply.started": "2021-12-13T18:58:09.45059Z"
    },
    "papermill": {
     "duration": 0.067591,
     "end_time": "2021-12-14T04:30:25.166658",
     "exception": false,
     "start_time": "2021-12-14T04:30:25.099067",
     "status": "completed"
    },
    "tags": []
   },
   "outputs": [
    {
     "data": {
      "text/plain": [
       "1957"
      ]
     },
     "execution_count": 26,
     "metadata": {},
     "output_type": "execute_result"
    }
   ],
   "source": [
    "def preprocess_outlier(df, col, threshold):\n",
    "    # можно по threshold отсекать, а можно и по квантилям\n",
    "    df.loc[df[col] > threshold, col] = np.nan\n",
    "    return df\n",
    "\n",
    "feature_name = 'Credit Score'\n",
    "df = preprocess_outlier(df, feature_name, threshold=1000)\n",
    "df_test = preprocess_outlier(test_df, feature_name, threshold=1000)\n",
    "\n",
    "df[feature_name].isna().sum()"
   ]
  },
  {
   "cell_type": "code",
   "execution_count": 27,
   "id": "9e542afc",
   "metadata": {
    "execution": {
     "iopub.execute_input": "2021-12-14T04:30:25.280032Z",
     "iopub.status.busy": "2021-12-14T04:30:25.279369Z",
     "iopub.status.idle": "2021-12-14T04:30:25.285572Z",
     "shell.execute_reply": "2021-12-14T04:30:25.286211Z",
     "shell.execute_reply.started": "2021-12-13T18:58:09.465584Z"
    },
    "papermill": {
     "duration": 0.064845,
     "end_time": "2021-12-14T04:30:25.286400",
     "exception": false,
     "start_time": "2021-12-14T04:30:25.221555",
     "status": "completed"
    },
    "tags": []
   },
   "outputs": [],
   "source": [
    "df_copy = df.copy()\n",
    "df_test_copy = test_df.copy()"
   ]
  },
  {
   "cell_type": "code",
   "execution_count": 28,
   "id": "77d59ed3",
   "metadata": {
    "execution": {
     "iopub.execute_input": "2021-12-14T04:30:25.399945Z",
     "iopub.status.busy": "2021-12-14T04:30:25.399325Z",
     "iopub.status.idle": "2021-12-14T04:30:25.405503Z",
     "shell.execute_reply": "2021-12-14T04:30:25.406131Z",
     "shell.execute_reply.started": "2021-12-13T18:58:09.481178Z"
    },
    "papermill": {
     "duration": 0.064789,
     "end_time": "2021-12-14T04:30:25.406297",
     "exception": false,
     "start_time": "2021-12-14T04:30:25.341508",
     "status": "completed"
    },
    "tags": []
   },
   "outputs": [
    {
     "data": {
      "text/plain": [
       "1957"
      ]
     },
     "execution_count": 28,
     "metadata": {},
     "output_type": "execute_result"
    }
   ],
   "source": [
    "feature_name = 'Credit Score'\n",
    "df_copy[feature_name].isna().sum()"
   ]
  },
  {
   "cell_type": "markdown",
   "id": "4143ee6b",
   "metadata": {
    "execution": {
     "iopub.execute_input": "2021-12-13T16:00:06.307782Z",
     "iopub.status.busy": "2021-12-13T16:00:06.306783Z",
     "iopub.status.idle": "2021-12-13T16:00:06.322701Z",
     "shell.execute_reply": "2021-12-13T16:00:06.320651Z",
     "shell.execute_reply.started": "2021-12-13T16:00:06.30773Z"
    },
    "papermill": {
     "duration": 0.05497,
     "end_time": "2021-12-14T04:30:25.517337",
     "exception": false,
     "start_time": "2021-12-14T04:30:25.462367",
     "status": "completed"
    },
    "tags": []
   },
   "source": [
    "Уберем ненужные признаки."
   ]
  },
  {
   "cell_type": "code",
   "execution_count": 29,
   "id": "bd8d3724",
   "metadata": {
    "execution": {
     "iopub.execute_input": "2021-12-14T04:30:25.632168Z",
     "iopub.status.busy": "2021-12-14T04:30:25.631222Z",
     "iopub.status.idle": "2021-12-14T04:30:25.637740Z",
     "shell.execute_reply": "2021-12-14T04:30:25.638280Z",
     "shell.execute_reply.started": "2021-12-13T18:58:09.49123Z"
    },
    "papermill": {
     "duration": 0.065453,
     "end_time": "2021-12-14T04:30:25.638453",
     "exception": false,
     "start_time": "2021-12-14T04:30:25.573000",
     "status": "completed"
    },
    "tags": []
   },
   "outputs": [],
   "source": [
    "df_copy = df_copy.drop(columns=['Home Ownership','Purpose','Credit Default'])\n",
    "df_test_copy = df_test_copy.drop(columns=['Home Ownership','Purpose'])"
   ]
  },
  {
   "cell_type": "markdown",
   "id": "d893fd58",
   "metadata": {
    "papermill": {
     "duration": 0.057214,
     "end_time": "2021-12-14T04:30:25.754012",
     "exception": false,
     "start_time": "2021-12-14T04:30:25.696798",
     "status": "completed"
    },
    "tags": []
   },
   "source": [
    "Для обучения и предсказания применим RandomForestRegressor"
   ]
  },
  {
   "cell_type": "code",
   "execution_count": 30,
   "id": "c59042f2",
   "metadata": {
    "execution": {
     "iopub.execute_input": "2021-12-14T04:30:25.868976Z",
     "iopub.status.busy": "2021-12-14T04:30:25.868278Z",
     "iopub.status.idle": "2021-12-14T04:30:25.877494Z",
     "shell.execute_reply": "2021-12-14T04:30:25.878047Z",
     "shell.execute_reply.started": "2021-12-13T18:58:09.506823Z"
    },
    "papermill": {
     "duration": 0.068506,
     "end_time": "2021-12-14T04:30:25.878232",
     "exception": false,
     "start_time": "2021-12-14T04:30:25.809726",
     "status": "completed"
    },
    "tags": []
   },
   "outputs": [],
   "source": [
    "def imputer_rfr(data, target_col):\n",
    "    data = data.copy()\n",
    "    \n",
    "    features = data.columns\n",
    "    \n",
    "    data = data[features]\n",
    "    \n",
    "    train = data[~data[target_col].isna()]\n",
    "    predict_data = data[data[target_col].isna()]\n",
    "\n",
    "    X = train.drop(columns=target_col)\n",
    "    y = train[target_col]\n",
    "    \n",
    "    X_train, X_test, y_train, y_test = train_test_split(X, y,\n",
    "                                                        test_size=0.2,\n",
    "                                                        shuffle=True,\n",
    "                                                        random_state=32)\n",
    "    \n",
    "    model = RandomForestRegressor(n_estimators=10,\n",
    "                                  max_depth=5,\n",
    "                                  random_state=42,\n",
    "                                  verbose=1)\n",
    "    model.fit(X_train, y_train)\n",
    "    \n",
    "     \n",
    "    pred_train = model.predict(X_train)\n",
    "    pred_test = model.predict(X_test)\n",
    "    \n",
    "    print(f\"r2 на train: {r2(y_train, pred_train)}\")\n",
    "    print(f\"r2 на test: {r2(y_test, pred_test)}\")\n",
    "\n",
    "    pred = model.predict(predict_data.drop(columns=target_col))\n",
    "\n",
    "    data.loc[data[target_col].isna(), target_col] = list(pred)\n",
    "    return model, data"
   ]
  },
  {
   "cell_type": "code",
   "execution_count": 31,
   "id": "835b887f",
   "metadata": {
    "execution": {
     "iopub.execute_input": "2021-12-14T04:30:25.996062Z",
     "iopub.status.busy": "2021-12-14T04:30:25.995414Z",
     "iopub.status.idle": "2021-12-14T04:30:26.163856Z",
     "shell.execute_reply": "2021-12-14T04:30:26.164369Z",
     "shell.execute_reply.started": "2021-12-13T18:58:09.518627Z"
    },
    "papermill": {
     "duration": 0.229669,
     "end_time": "2021-12-14T04:30:26.164535",
     "exception": false,
     "start_time": "2021-12-14T04:30:25.934866",
     "status": "completed"
    },
    "tags": []
   },
   "outputs": [
    {
     "name": "stdout",
     "output_type": "stream",
     "text": [
      "r2 на train: 0.3826422840151542\n",
      "r2 на test: 0.2277790533212508\n"
     ]
    },
    {
     "name": "stderr",
     "output_type": "stream",
     "text": [
      "[Parallel(n_jobs=1)]: Using backend SequentialBackend with 1 concurrent workers.\n",
      "[Parallel(n_jobs=1)]: Done  10 out of  10 | elapsed:    0.1s finished\n",
      "[Parallel(n_jobs=1)]: Using backend SequentialBackend with 1 concurrent workers.\n",
      "[Parallel(n_jobs=1)]: Done  10 out of  10 | elapsed:    0.0s finished\n",
      "[Parallel(n_jobs=1)]: Using backend SequentialBackend with 1 concurrent workers.\n",
      "[Parallel(n_jobs=1)]: Done  10 out of  10 | elapsed:    0.0s finished\n",
      "[Parallel(n_jobs=1)]: Using backend SequentialBackend with 1 concurrent workers.\n",
      "[Parallel(n_jobs=1)]: Done  10 out of  10 | elapsed:    0.0s finished\n"
     ]
    }
   ],
   "source": [
    "score_predictor, df_copy = imputer_rfr(df_copy, feature_name)"
   ]
  },
  {
   "cell_type": "markdown",
   "id": "f99defd5",
   "metadata": {
    "papermill": {
     "duration": 0.055771,
     "end_time": "2021-12-14T04:30:26.276328",
     "exception": false,
     "start_time": "2021-12-14T04:30:26.220557",
     "status": "completed"
    },
    "tags": []
   },
   "source": [
    "К сожалению, добиться результата лучше не удалось. Заполняем пропуски."
   ]
  },
  {
   "cell_type": "code",
   "execution_count": 32,
   "id": "fc6855c1",
   "metadata": {
    "execution": {
     "iopub.execute_input": "2021-12-14T04:30:26.391891Z",
     "iopub.status.busy": "2021-12-14T04:30:26.391240Z",
     "iopub.status.idle": "2021-12-14T04:30:26.403163Z",
     "shell.execute_reply": "2021-12-14T04:30:26.403735Z",
     "shell.execute_reply.started": "2021-12-13T18:58:09.678605Z"
    },
    "papermill": {
     "duration": 0.071404,
     "end_time": "2021-12-14T04:30:26.403909",
     "exception": false,
     "start_time": "2021-12-14T04:30:26.332505",
     "status": "completed"
    },
    "tags": []
   },
   "outputs": [
    {
     "name": "stderr",
     "output_type": "stream",
     "text": [
      "[Parallel(n_jobs=1)]: Using backend SequentialBackend with 1 concurrent workers.\n",
      "[Parallel(n_jobs=1)]: Done  10 out of  10 | elapsed:    0.0s finished\n"
     ]
    }
   ],
   "source": [
    "predict_data = df_test_copy[df_test_copy[feature_name].isna()]\n",
    "pred = score_predictor.predict(predict_data.drop(columns=feature_name))\n",
    "df_test_copy.loc[df_test_copy[feature_name].isna(), feature_name] = list(pred)"
   ]
  },
  {
   "cell_type": "code",
   "execution_count": 33,
   "id": "ae00cf13",
   "metadata": {
    "execution": {
     "iopub.execute_input": "2021-12-14T04:30:26.521151Z",
     "iopub.status.busy": "2021-12-14T04:30:26.520455Z",
     "iopub.status.idle": "2021-12-14T04:30:26.526113Z",
     "shell.execute_reply": "2021-12-14T04:30:26.526752Z",
     "shell.execute_reply.started": "2021-12-13T18:58:09.695045Z"
    },
    "papermill": {
     "duration": 0.065709,
     "end_time": "2021-12-14T04:30:26.526921",
     "exception": false,
     "start_time": "2021-12-14T04:30:26.461212",
     "status": "completed"
    },
    "tags": []
   },
   "outputs": [
    {
     "data": {
      "text/plain": [
       "0"
      ]
     },
     "execution_count": 33,
     "metadata": {},
     "output_type": "execute_result"
    }
   ],
   "source": [
    "df_copy[feature_name].isna().sum()"
   ]
  },
  {
   "cell_type": "markdown",
   "id": "736c2e93",
   "metadata": {
    "papermill": {
     "duration": 0.056609,
     "end_time": "2021-12-14T04:30:26.640768",
     "exception": false,
     "start_time": "2021-12-14T04:30:26.584159",
     "status": "completed"
    },
    "tags": []
   },
   "source": [
    "Отбор признаков."
   ]
  },
  {
   "cell_type": "code",
   "execution_count": 34,
   "id": "cb916e1b",
   "metadata": {
    "execution": {
     "iopub.execute_input": "2021-12-14T04:30:26.758063Z",
     "iopub.status.busy": "2021-12-14T04:30:26.757408Z",
     "iopub.status.idle": "2021-12-14T04:30:26.761424Z",
     "shell.execute_reply": "2021-12-14T04:30:26.761958Z",
     "shell.execute_reply.started": "2021-12-13T18:58:09.70523Z"
    },
    "papermill": {
     "duration": 0.064381,
     "end_time": "2021-12-14T04:30:26.762132",
     "exception": false,
     "start_time": "2021-12-14T04:30:26.697751",
     "status": "completed"
    },
    "tags": []
   },
   "outputs": [],
   "source": [
    "TARGET_NAME = 'Credit Default'\n",
    "BASE_FEATURE_NAMES = df.columns.drop(TARGET_NAME).tolist()"
   ]
  },
  {
   "cell_type": "code",
   "execution_count": 35,
   "id": "0895034b",
   "metadata": {
    "execution": {
     "iopub.execute_input": "2021-12-14T04:30:26.879248Z",
     "iopub.status.busy": "2021-12-14T04:30:26.878468Z",
     "iopub.status.idle": "2021-12-14T04:30:27.403292Z",
     "shell.execute_reply": "2021-12-14T04:30:27.402428Z",
     "shell.execute_reply.started": "2021-12-13T18:58:09.712985Z"
    },
    "papermill": {
     "duration": 0.584242,
     "end_time": "2021-12-14T04:30:27.403443",
     "exception": false,
     "start_time": "2021-12-14T04:30:26.819201",
     "status": "completed"
    },
    "tags": []
   },
   "outputs": [
    {
     "data": {
      "image/png": "[encoded data removed]",
      "text/plain": [
       "<Figure size 720x576 with 1 Axes>"
      ]
     },
     "metadata": {
      "needs_background": "light"
     },
     "output_type": "display_data"
    }
   ],
   "source": [
    "corr_with_target = df[BASE_FEATURE_NAMES + [TARGET_NAME]].corr().iloc[:-1, -1].sort_values(ascending=False)\n",
    "\n",
    "plt.figure(figsize=(10, 8))\n",
    "\n",
    "sns.barplot(x=corr_with_target.values, y=corr_with_target.index)\n",
    "\n",
    "plt.title('Correlation with target variable')\n",
    "plt.show()"
   ]
  },
  {
   "cell_type": "code",
   "execution_count": 36,
   "id": "a3cca269",
   "metadata": {
    "execution": {
     "iopub.execute_input": "2021-12-14T04:30:27.527882Z",
     "iopub.status.busy": "2021-12-14T04:30:27.527217Z",
     "iopub.status.idle": "2021-12-14T04:30:27.528599Z",
     "shell.execute_reply": "2021-12-14T04:30:27.529205Z",
     "shell.execute_reply.started": "2021-12-13T18:58:10.118669Z"
    },
    "papermill": {
     "duration": 0.066107,
     "end_time": "2021-12-14T04:30:27.529379",
     "exception": false,
     "start_time": "2021-12-14T04:30:27.463272",
     "status": "completed"
    },
    "tags": []
   },
   "outputs": [],
   "source": [
    "FEATURE_NAMES = ['Annual Income', 'Years in current job', 'Tax Liens',\n",
    "       'Number of Open Accounts', 'Years of Credit History',\n",
    "       'Maximum Open Credit', 'Number of Credit Problems',\n",
    "       'Months since last delinquent', 'Bankruptcies', 'Term',\n",
    "       'Current Loan Amount', 'Current Credit Balance', 'Monthly Debt',\n",
    "       'Credit Score', 'target_Home_Ownership', 'target_Purpose',\n",
    "      'target_Monthly_Debt_cat','Monthly_Debt_cat']"
   ]
  },
  {
   "cell_type": "code",
   "execution_count": 37,
   "id": "b5ea9c4f",
   "metadata": {
    "execution": {
     "iopub.execute_input": "2021-12-14T04:30:27.648967Z",
     "iopub.status.busy": "2021-12-14T04:30:27.648302Z",
     "iopub.status.idle": "2021-12-14T04:30:27.653468Z",
     "shell.execute_reply": "2021-12-14T04:30:27.654054Z",
     "shell.execute_reply.started": "2021-12-13T18:58:10.12651Z"
    },
    "papermill": {
     "duration": 0.066692,
     "end_time": "2021-12-14T04:30:27.654233",
     "exception": false,
     "start_time": "2021-12-14T04:30:27.587541",
     "status": "completed"
    },
    "tags": []
   },
   "outputs": [],
   "source": [
    "X = df_copy[FEATURE_NAMES]\n",
    "y = df['Credit Default']"
   ]
  },
  {
   "cell_type": "markdown",
   "id": "797c4c85",
   "metadata": {
    "papermill": {
     "duration": 0.058938,
     "end_time": "2021-12-14T04:30:27.771848",
     "exception": false,
     "start_time": "2021-12-14T04:30:27.712910",
     "status": "completed"
    },
    "tags": []
   },
   "source": [
    "Разделение трейн и тест"
   ]
  },
  {
   "cell_type": "code",
   "execution_count": 38,
   "id": "e349d8f3",
   "metadata": {
    "execution": {
     "iopub.execute_input": "2021-12-14T04:30:27.891071Z",
     "iopub.status.busy": "2021-12-14T04:30:27.890378Z",
     "iopub.status.idle": "2021-12-14T04:30:27.911438Z",
     "shell.execute_reply": "2021-12-14T04:30:27.911958Z",
     "shell.execute_reply.started": "2021-12-13T18:58:10.142894Z"
    },
    "papermill": {
     "duration": 0.08212,
     "end_time": "2021-12-14T04:30:27.912141",
     "exception": false,
     "start_time": "2021-12-14T04:30:27.830021",
     "status": "completed"
    },
    "tags": []
   },
   "outputs": [
    {
     "data": {
      "text/plain": [
       "0    0.718209\n",
       "1    0.281791\n",
       "Name: Credit Default, dtype: float64"
      ]
     },
     "metadata": {},
     "output_type": "display_data"
    },
    {
     "data": {
      "text/plain": [
       "0    0.718384\n",
       "1    0.281616\n",
       "Name: Credit Default, dtype: float64"
      ]
     },
     "metadata": {},
     "output_type": "display_data"
    }
   ],
   "source": [
    "X_train, X_valid, y_train, y_valid = train_test_split(X, y, \n",
    "                                                      test_size=0.33, \n",
    "                                                      shuffle=True, \n",
    "                                                      random_state=42, \n",
    "                                                      stratify=y)\n",
    "display(y_train.value_counts(normalize=True), y_valid.value_counts(normalize=True))"
   ]
  },
  {
   "cell_type": "markdown",
   "id": "2d316535",
   "metadata": {
    "papermill": {
     "duration": 0.058735,
     "end_time": "2021-12-14T04:30:28.031305",
     "exception": false,
     "start_time": "2021-12-14T04:30:27.972570",
     "status": "completed"
    },
    "tags": []
   },
   "source": [
    "Дисбаланс"
   ]
  },
  {
   "cell_type": "code",
   "execution_count": 39,
   "id": "25941621",
   "metadata": {
    "execution": {
     "iopub.execute_input": "2021-12-14T04:30:28.152972Z",
     "iopub.status.busy": "2021-12-14T04:30:28.151977Z",
     "iopub.status.idle": "2021-12-14T04:30:28.159403Z",
     "shell.execute_reply": "2021-12-14T04:30:28.159919Z",
     "shell.execute_reply.started": "2021-12-13T18:58:10.170816Z"
    },
    "papermill": {
     "duration": 0.069817,
     "end_time": "2021-12-14T04:30:28.160089",
     "exception": false,
     "start_time": "2021-12-14T04:30:28.090272",
     "status": "completed"
    },
    "tags": []
   },
   "outputs": [
    {
     "data": {
      "text/plain": [
       "2.5487288135593222"
      ]
     },
     "execution_count": 39,
     "metadata": {},
     "output_type": "execute_result"
    }
   ],
   "source": [
    "disbalance = y_train.value_counts()[0] / y_train.value_counts()[1]\n",
    "disbalance"
   ]
  },
  {
   "cell_type": "markdown",
   "id": "f8b43f08",
   "metadata": {
    "papermill": {
     "duration": 0.05905,
     "end_time": "2021-12-14T04:30:28.278362",
     "exception": false,
     "start_time": "2021-12-14T04:30:28.219312",
     "status": "completed"
    },
    "tags": []
   },
   "source": [
    "LGBMClassifier"
   ]
  },
  {
   "cell_type": "code",
   "execution_count": 40,
   "id": "fb210395",
   "metadata": {
    "execution": {
     "iopub.execute_input": "2021-12-14T04:30:28.404183Z",
     "iopub.status.busy": "2021-12-14T04:30:28.403188Z",
     "iopub.status.idle": "2021-12-14T04:30:28.556560Z",
     "shell.execute_reply": "2021-12-14T04:30:28.557051Z",
     "shell.execute_reply.started": "2021-12-13T18:58:10.181402Z"
    },
    "papermill": {
     "duration": 0.219561,
     "end_time": "2021-12-14T04:30:28.557237",
     "exception": false,
     "start_time": "2021-12-14T04:30:28.337676",
     "status": "completed"
    },
    "tags": []
   },
   "outputs": [
    {
     "name": "stdout",
     "output_type": "stream",
     "text": [
      "TRAIN\n",
      " 0.573\n",
      "TEST\n",
      " 0.525\n",
      "TRAIN\n",
      "\n",
      "              precision    recall  f1-score   support\n",
      "\n",
      "           0       0.89      0.60      0.72      3609\n",
      "           1       0.44      0.81      0.57      1416\n",
      "\n",
      "    accuracy                           0.66      5025\n",
      "   macro avg       0.67      0.71      0.65      5025\n",
      "weighted avg       0.76      0.66      0.68      5025\n",
      "\n",
      "VALID\n",
      "\n",
      "              precision    recall  f1-score   support\n",
      "\n",
      "           0       0.85      0.57      0.68      1778\n",
      "           1       0.41      0.75      0.53       697\n",
      "\n",
      "    accuracy                           0.62      2475\n",
      "   macro avg       0.63      0.66      0.60      2475\n",
      "weighted avg       0.73      0.62      0.64      2475\n",
      "\n",
      "CONFUSION MATRIX\n",
      "\n",
      "col_0              0    1\n",
      "Credit Default           \n",
      "0               1015  763\n",
      "1                177  520\n",
      "CPU times: user 376 ms, sys: 7.11 ms, total: 383 ms\n",
      "Wall time: 151 ms\n"
     ]
    }
   ],
   "source": [
    "%%time\n",
    "model_lgbm = lgbm.LGBMClassifier(random_state=21, \n",
    "                                 class_weight={0:1, 1:2.55},\n",
    "                                 n_estimators=60,\n",
    "                                 max_depth=3,\n",
    "                                 reg_lambda=1.9\n",
    "                                )\n",
    "model_lgbm.fit(X_train, y_train)\n",
    "THRESHOLD = 0.6\n",
    "evaluate_preds(model_lgbm, X_train,X_valid, y_train, y_valid)\n"
   ]
  },
  {
   "cell_type": "markdown",
   "id": "877ddefa",
   "metadata": {
    "papermill": {
     "duration": 0.05967,
     "end_time": "2021-12-14T04:30:28.676844",
     "exception": false,
     "start_time": "2021-12-14T04:30:28.617174",
     "status": "completed"
    },
    "tags": []
   },
   "source": [
    "Сохранение модели"
   ]
  },
  {
   "cell_type": "code",
   "execution_count": 41,
   "id": "dd4cd18c",
   "metadata": {
    "execution": {
     "iopub.execute_input": "2021-12-14T04:30:28.801810Z",
     "iopub.status.busy": "2021-12-14T04:30:28.800836Z",
     "iopub.status.idle": "2021-12-14T04:30:28.806126Z",
     "shell.execute_reply": "2021-12-14T04:30:28.806748Z",
     "shell.execute_reply.started": "2021-12-13T18:58:10.339076Z"
    },
    "papermill": {
     "duration": 0.069026,
     "end_time": "2021-12-14T04:30:28.806922",
     "exception": false,
     "start_time": "2021-12-14T04:30:28.737896",
     "status": "completed"
    },
    "tags": []
   },
   "outputs": [
    {
     "data": {
      "text/plain": [
       "(2500, 18)"
      ]
     },
     "execution_count": 41,
     "metadata": {},
     "output_type": "execute_result"
    }
   ],
   "source": [
    "df_test_copy.shape"
   ]
  },
  {
   "cell_type": "code",
   "execution_count": 42,
   "id": "65543105",
   "metadata": {
    "execution": {
     "iopub.execute_input": "2021-12-14T04:30:28.935228Z",
     "iopub.status.busy": "2021-12-14T04:30:28.934138Z",
     "iopub.status.idle": "2021-12-14T04:30:28.953707Z",
     "shell.execute_reply": "2021-12-14T04:30:28.954201Z",
     "shell.execute_reply.started": "2021-12-13T18:58:10.348762Z"
    },
    "papermill": {
     "duration": 0.085302,
     "end_time": "2021-12-14T04:30:28.954381",
     "exception": false,
     "start_time": "2021-12-14T04:30:28.869079",
     "status": "completed"
    },
    "tags": []
   },
   "outputs": [
    {
     "data": {
      "text/html": [
       "<div>\n",
       "<style scoped>\n",
       "    .dataframe tbody tr th:only-of-type {\n",
       "        vertical-align: middle;\n",
       "    }\n",
       "\n",
       "    .dataframe tbody tr th {\n",
       "        vertical-align: top;\n",
       "    }\n",
       "\n",
       "    .dataframe thead th {\n",
       "        text-align: right;\n",
       "    }\n",
       "</style>\n",
       "<table border=\"1\" class=\"dataframe\">\n",
       "  <thead>\n",
       "    <tr style=\"text-align: right;\">\n",
       "      <th></th>\n",
       "      <th>Id</th>\n",
       "      <th>Credit Default</th>\n",
       "    </tr>\n",
       "  </thead>\n",
       "  <tbody>\n",
       "    <tr>\n",
       "      <th>0</th>\n",
       "      <td>0</td>\n",
       "      <td>1</td>\n",
       "    </tr>\n",
       "    <tr>\n",
       "      <th>1</th>\n",
       "      <td>1</td>\n",
       "      <td>1</td>\n",
       "    </tr>\n",
       "    <tr>\n",
       "      <th>2</th>\n",
       "      <td>2</td>\n",
       "      <td>1</td>\n",
       "    </tr>\n",
       "    <tr>\n",
       "      <th>3</th>\n",
       "      <td>3</td>\n",
       "      <td>1</td>\n",
       "    </tr>\n",
       "    <tr>\n",
       "      <th>4</th>\n",
       "      <td>4</td>\n",
       "      <td>1</td>\n",
       "    </tr>\n",
       "  </tbody>\n",
       "</table>\n",
       "</div>"
      ],
      "text/plain": [
       "   Id  Credit Default\n",
       "0   0               1\n",
       "1   1               1\n",
       "2   2               1\n",
       "3   3               1\n",
       "4   4               1"
      ]
     },
     "execution_count": 42,
     "metadata": {},
     "output_type": "execute_result"
    }
   ],
   "source": [
    "submit = pd.read_csv(SAMPLE_SUBMIT_PATH)\n",
    "submit.head()"
   ]
  },
  {
   "cell_type": "code",
   "execution_count": 43,
   "id": "d3f46429",
   "metadata": {
    "execution": {
     "iopub.execute_input": "2021-12-14T04:30:29.082749Z",
     "iopub.status.busy": "2021-12-14T04:30:29.082076Z",
     "iopub.status.idle": "2021-12-14T04:30:29.095205Z",
     "shell.execute_reply": "2021-12-14T04:30:29.095751Z",
     "shell.execute_reply.started": "2021-12-13T18:58:10.372362Z"
    },
    "papermill": {
     "duration": 0.080584,
     "end_time": "2021-12-14T04:30:29.095964",
     "exception": false,
     "start_time": "2021-12-14T04:30:29.015380",
     "status": "completed"
    },
    "tags": []
   },
   "outputs": [],
   "source": [
    "predictions = model_lgbm.predict(df_test_copy)"
   ]
  },
  {
   "cell_type": "code",
   "execution_count": 44,
   "id": "e99d6b1a",
   "metadata": {
    "execution": {
     "iopub.execute_input": "2021-12-14T04:30:29.225889Z",
     "iopub.status.busy": "2021-12-14T04:30:29.225204Z",
     "iopub.status.idle": "2021-12-14T04:30:29.227596Z",
     "shell.execute_reply": "2021-12-14T04:30:29.228192Z",
     "shell.execute_reply.started": "2021-12-13T18:58:10.39021Z"
    },
    "papermill": {
     "duration": 0.069184,
     "end_time": "2021-12-14T04:30:29.228358",
     "exception": false,
     "start_time": "2021-12-14T04:30:29.159174",
     "status": "completed"
    },
    "tags": []
   },
   "outputs": [
    {
     "data": {
      "text/plain": [
       "array([1, 1, 1, ..., 1, 0, 1])"
      ]
     },
     "execution_count": 44,
     "metadata": {},
     "output_type": "execute_result"
    }
   ],
   "source": [
    "predictions"
   ]
  },
  {
   "cell_type": "code",
   "execution_count": 45,
   "id": "6af665a2",
   "metadata": {
    "execution": {
     "iopub.execute_input": "2021-12-14T04:30:29.355277Z",
     "iopub.status.busy": "2021-12-14T04:30:29.354556Z",
     "iopub.status.idle": "2021-12-14T04:30:29.358138Z",
     "shell.execute_reply": "2021-12-14T04:30:29.358648Z",
     "shell.execute_reply.started": "2021-12-13T18:58:10.399543Z"
    },
    "papermill": {
     "duration": 0.06823,
     "end_time": "2021-12-14T04:30:29.358859",
     "exception": false,
     "start_time": "2021-12-14T04:30:29.290629",
     "status": "completed"
    },
    "tags": []
   },
   "outputs": [],
   "source": [
    "submit['Credit Default'] = predictions"
   ]
  },
  {
   "cell_type": "code",
   "execution_count": 46,
   "id": "720eb7fc",
   "metadata": {
    "execution": {
     "iopub.execute_input": "2021-12-14T04:30:29.487818Z",
     "iopub.status.busy": "2021-12-14T04:30:29.487179Z",
     "iopub.status.idle": "2021-12-14T04:30:29.498862Z",
     "shell.execute_reply": "2021-12-14T04:30:29.499378Z",
     "shell.execute_reply.started": "2021-12-13T18:58:28.761544Z"
    },
    "papermill": {
     "duration": 0.076538,
     "end_time": "2021-12-14T04:30:29.499553",
     "exception": false,
     "start_time": "2021-12-14T04:30:29.423015",
     "status": "completed"
    },
    "tags": []
   },
   "outputs": [],
   "source": [
    "submit.to_csv('ntebookb53a8a8448.csv', index=False)"
   ]
  }
 ],
 "metadata": {
  "kernelspec": {
   "display_name": "Python 3",
   "language": "python",
   "name": "python3"
  },
  "language_info": {
   "codemirror_mode": {
    "name": "ipython",
    "version": 3
   },
   "file_extension": ".py",
   "mimetype": "text/x-python",
   "name": "python",
   "nbconvert_exporter": "python",
   "pygments_lexer": "ipython3",
   "version": "3.7.12"
  },
  "papermill": {
   "default_parameters": {},
   "duration": 26.421845,
   "end_time": "2021-12-14T04:30:30.375272",
   "environment_variables": {},
   "exception": null,
   "input_path": "__notebook__.ipynb",
   "output_path": "__notebook__.ipynb",
   "parameters": {},
   "start_time": "2021-12-14T04:30:03.953427",
   "version": "2.3.3"
  }
 },
 "nbformat": 4,
 "nbformat_minor": 5
}
