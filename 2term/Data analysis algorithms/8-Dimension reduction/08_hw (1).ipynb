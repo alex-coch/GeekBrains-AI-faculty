{
  "cells": [
    {
      "cell_type": "markdown",
      "metadata": {
        "id": "9_eKFtix1BPE"
      },
      "source": [
        "### Практическая работа к уроку №8"
      ]
    },
    {
      "cell_type": "markdown",
      "source": [
        "#### 1. Можно ли отобрать наиболее значимые признаки из имеющихся с помощью PCA? Ответ объясните."
      ],
      "metadata": {
        "id": "Bnm0vmeT1IqT"
      }
    },
    {
      "cell_type": "markdown",
      "source": [
        "Да, но следует помнить, что PCA не выбирает из имеющихся признаков наиболее значимые, а строит новые, которые «учтут максимум информации» из имеющихся признаков, создав тем самым новое уменьшенное признаковое пространство."
      ],
      "metadata": {
        "id": "-WxCUXy21jdL"
      }
    },
    {
      "cell_type": "markdown",
      "metadata": {
        "id": "U9pG9oIT1BPH"
      },
      "source": [
        "#### 2. Написать свою реализацию метода главных компонент с помощью сингулярного разложения с использованием функции numpy.linalg.svd()"
      ]
    },
    {
      "cell_type": "code",
      "execution_count": 1,
      "metadata": {
        "id": "B0Cs-uc11BPI"
      },
      "outputs": [],
      "source": [
        "import numpy as np\n",
        "from sklearn import model_selection\n",
        "from sklearn.datasets import load_iris\n",
        "\n",
        "import matplotlib.pyplot as plt"
      ]
    },
    {
      "cell_type": "code",
      "execution_count": 2,
      "metadata": {
        "id": "mnylsoWI1BPJ"
      },
      "outputs": [],
      "source": [
        "def normalize(data):\n",
        "    X_ = data.astype(float)\n",
        "\n",
        "    rows, cols = X_.shape\n",
        "\n",
        "    means = X_.mean(0)\n",
        "    for i in range(rows):\n",
        "        for j in range(cols):\n",
        "            X_[i, j] -= means[j]\n",
        "\n",
        "    std = np.std(X_, axis=0)\n",
        "    for i in range(cols):\n",
        "        for j in range(rows):\n",
        "            X_[j][i] /= std[i]\n",
        "    return X_"
      ]
    },
    {
      "cell_type": "code",
      "execution_count": 3,
      "metadata": {
        "id": "ZhD1Vp7w1BPK"
      },
      "outputs": [],
      "source": [
        "def my_pca(data, n_components):   \n",
        "    u, d, v = np.linalg.svd(data)\n",
        "    if not (0 < n_components <= len(v)):\n",
        "        raise ValueError('n_components should be between 0 and number of features')\n",
        "    W = v.T[:, :n_components]\n",
        "    \n",
        "    return data @ W"
      ]
    },
    {
      "cell_type": "code",
      "execution_count": 4,
      "metadata": {
        "id": "4fhDmhhm1BPK"
      },
      "outputs": [],
      "source": [
        "X, y = load_iris(return_X_y=True)\n",
        "\n",
        "X = normalize(X)\n",
        "Z = my_pca(X, 2)"
      ]
    },
    {
      "cell_type": "code",
      "execution_count": 5,
      "metadata": {
        "colab": {
          "base_uri": "https://localhost:8080/",
          "height": 295
        },
        "id": "MwtoLo5m1BPK",
        "outputId": "58ae8f39-0485-43f7-a908-d2bf96c400df"
      },
      "outputs": [
        {
          "output_type": "display_data",
          "data": {
            "text/plain": [
              "<Figure size 432x288 with 1 Axes>"
            ],
            "image/png": "[encoded data removed]"
          },
          "metadata": {
            "needs_background": "light"
          }
        }
      ],
      "source": [
        "plt.figure()\n",
        "for c, i in zip(\"rgb\", [0, 1, 2]):\n",
        "    plt.scatter(Z[y==i, 0], Z[y==i, 1], c=c)\n",
        "plt.xlabel('Главная компонента 1')\n",
        "plt.ylabel('Главная компонента 2')\n",
        "plt.title('PCA датасета IRIS')\n",
        "plt.show()"
      ]
    },
    {
      "cell_type": "markdown",
      "metadata": {
        "id": "6pkI3DhS1BPM"
      },
      "source": [
        "#### 3. Обучить любую модель классификации на датасете IRIS до применения PCA и после него. Сравнить качество классификации по отложенной выборке."
      ]
    },
    {
      "cell_type": "code",
      "execution_count": 6,
      "metadata": {
        "id": "AbVSacqA1BPM"
      },
      "outputs": [],
      "source": [
        "# Сравнивать качество будем с помощью accuracy\n",
        "def accuracy(pred, y):\n",
        "    return np.mean(pred == y)"
      ]
    },
    {
      "cell_type": "code",
      "execution_count": 7,
      "metadata": {
        "id": "WhkooeG21BPN"
      },
      "outputs": [],
      "source": [
        "X, y = load_iris(return_X_y=True)"
      ]
    },
    {
      "cell_type": "code",
      "execution_count": 8,
      "metadata": {
        "id": "-dblVeJs1BPN"
      },
      "outputs": [],
      "source": [
        "# Данные до PCA\n",
        "\n",
        "X_train, X_test, y_train, y_test = model_selection.train_test_split(\n",
        "    X, y, test_size=0.3, random_state=23\n",
        ")"
      ]
    },
    {
      "cell_type": "code",
      "execution_count": 9,
      "metadata": {
        "id": "uxnkrtkR1BPN"
      },
      "outputs": [],
      "source": [
        "# Данные после PCA\n",
        "# Нормализация и снижение размерности до 2 признаков\n",
        "\n",
        "X = normalize(X)\n",
        "Z = my_pca(X, 2)\n",
        "\n",
        "X_train_, X_test_, y_train_, y_test_ = model_selection.train_test_split(\n",
        "    Z, y, test_size=0.3, random_state=23\n",
        ")"
      ]
    },
    {
      "cell_type": "markdown",
      "metadata": {
        "id": "p2ixXSAm1BPO"
      },
      "source": [
        "#### Случайный лес"
      ]
    },
    {
      "cell_type": "code",
      "execution_count": 10,
      "metadata": {
        "id": "2Su9G9101BPO"
      },
      "outputs": [],
      "source": [
        "from sklearn.ensemble import RandomForestClassifier"
      ]
    },
    {
      "cell_type": "code",
      "execution_count": 11,
      "metadata": {
        "colab": {
          "base_uri": "https://localhost:8080/"
        },
        "id": "FhPYXk6s1BPO",
        "outputId": "da0c3001-c890-4e7e-f07f-f6fc68b53b5b"
      },
      "outputs": [
        {
          "output_type": "stream",
          "name": "stdout",
          "text": [
            "accuracy before PCA: 0.9777777777777777\n"
          ]
        }
      ],
      "source": [
        "clf = RandomForestClassifier(min_samples_leaf=5,\n",
        "                            random_state=23)\n",
        "clf.fit(X_train, y_train)\n",
        "y_pred = clf.predict(X_test)\n",
        "print(f\"accuracy before PCA: {accuracy(y_pred, y_test)}\")"
      ]
    },
    {
      "cell_type": "code",
      "execution_count": 12,
      "metadata": {
        "colab": {
          "base_uri": "https://localhost:8080/"
        },
        "id": "Xzme5_Qi1BPO",
        "outputId": "767b4746-ad58-4e5e-ecfd-ea73988954e3"
      },
      "outputs": [
        {
          "output_type": "stream",
          "name": "stdout",
          "text": [
            "accuracy after PCA: 0.9333333333333333\n"
          ]
        }
      ],
      "source": [
        "clf = RandomForestClassifier(min_samples_leaf=5,\n",
        "                            random_state=23)\n",
        "clf.fit(X_train_, y_train_)\n",
        "y_pred_ = clf.predict(X_test_)\n",
        "print(f\"accuracy after PCA: {accuracy(y_pred_, y_test_)}\")"
      ]
    },
    {
      "cell_type": "markdown",
      "metadata": {
        "id": "_5cfWiUg1BPP"
      },
      "source": [
        "#### KNN"
      ]
    },
    {
      "cell_type": "code",
      "execution_count": 13,
      "metadata": {
        "id": "LgcOAIUU1BPP"
      },
      "outputs": [],
      "source": [
        "from sklearn.neighbors import KNeighborsClassifier"
      ]
    },
    {
      "cell_type": "code",
      "execution_count": 14,
      "metadata": {
        "colab": {
          "base_uri": "https://localhost:8080/"
        },
        "id": "ZDvajl3X1BPP",
        "outputId": "5c8e69a7-5c87-4ad5-be32-4511b7d96d4d"
      },
      "outputs": [
        {
          "output_type": "stream",
          "name": "stdout",
          "text": [
            "accuracy before PCA: 1.0\n"
          ]
        }
      ],
      "source": [
        "neigh = KNeighborsClassifier(n_neighbors=5)\n",
        "neigh.fit(X_train, y_train)\n",
        "y_pred = neigh.predict(X_test)\n",
        "print(f\"accuracy before PCA: {accuracy(y_pred, y_test)}\")"
      ]
    },
    {
      "cell_type": "code",
      "execution_count": 15,
      "metadata": {
        "colab": {
          "base_uri": "https://localhost:8080/"
        },
        "id": "Dp3_iCWA1BPP",
        "outputId": "7702c94f-1a9b-44fc-842c-a3d2df2387bb"
      },
      "outputs": [
        {
          "output_type": "stream",
          "name": "stdout",
          "text": [
            "accuracy after PCA: 0.9777777777777777\n"
          ]
        }
      ],
      "source": [
        "neigh = KNeighborsClassifier(n_neighbors=5)\n",
        "neigh.fit(X_train_, y_train_)\n",
        "y_pred_ = neigh.predict(X_test_)\n",
        "print(f\"accuracy after PCA: {accuracy(y_pred_, y_test_)}\")"
      ]
    },
    {
      "cell_type": "markdown",
      "metadata": {
        "id": "38sS8Quk1BPQ"
      },
      "source": [
        "#### **Вывод**: После уменьшения количества признаков в датасете с 4 до 2 мы безусловно потеряли в качестве на тестовой выборке. Но разница крайне мала. После PCA на модели случайного леса отставание в 4%, а на модели KNN 2%. Если настроить гиперпараметры, то скорей всего на таком простом датасете можно достичь такого же хорошего качества, что и до PCA."
      ]
    }
  ],
  "metadata": {
    "kernelspec": {
      "display_name": "Python 3",
      "language": "python",
      "name": "python3"
    },
    "language_info": {
      "codemirror_mode": {
        "name": "ipython",
        "version": 3
      },
      "file_extension": ".py",
      "mimetype": "text/x-python",
      "name": "python",
      "nbconvert_exporter": "python",
      "pygments_lexer": "ipython3",
      "version": "3.8.5"
    },
    "colab": {
      "provenance": []
    }
  },
  "nbformat": 4,
  "nbformat_minor": 0
}