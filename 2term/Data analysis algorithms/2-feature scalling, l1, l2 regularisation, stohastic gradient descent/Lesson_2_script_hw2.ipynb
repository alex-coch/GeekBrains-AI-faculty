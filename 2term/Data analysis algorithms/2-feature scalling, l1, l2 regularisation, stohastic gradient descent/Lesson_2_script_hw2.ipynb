{
  "cells": [
    {
      "cell_type": "markdown",
      "metadata": {
        "id": "kaGU7KeR6rzi"
      },
      "source": [
        "### Урок 2. Масштабирование признаков. Регуляризация. Стохастический градиентный спуск"
      ]
    },
    {
      "cell_type": "code",
      "execution_count": 1,
      "metadata": {
        "collapsed": true,
        "id": "_u5bV-OlT34p"
      },
      "outputs": [],
      "source": [
        "import numpy as np\n",
        "import matplotlib.pyplot as plt"
      ]
    },
    {
      "cell_type": "code",
      "execution_count": null,
      "metadata": {
        "collapsed": true,
        "id": "_n6il-AZaLuA"
      },
      "outputs": [],
      "source": [
        "X = np.array([[1, 1, 1, 1, 1, 1, 1, 1, 1, 1],\n",
        "              [1, 1, 2, 5, 3, 0, 5, 10, 1, 2],\n",
        "              [500, 700, 750, 600, 1450, 800, 1500, 2000, 450, 1000],\n",
        "              [1, 1, 2, 1, 2, 1, 3, 3, 1, 2]])"
      ]
    },
    {
      "cell_type": "code",
      "execution_count": null,
      "metadata": {
        "collapsed": true,
        "id": "x8yoci01ni-t"
      },
      "outputs": [],
      "source": [
        "y = [45, 55, 50, 55, 60, 35, 75, 80, 50, 60]"
      ]
    },
    {
      "cell_type": "markdown",
      "metadata": {
        "id": "shECgzyW6rz5"
      },
      "source": [
        "Нормализация [0, 1]"
      ]
    },
    {
      "cell_type": "markdown",
      "source": [],
      "metadata": {
        "id": "f3A91LARH1YE"
      }
    },
    {
      "cell_type": "code",
      "execution_count": null,
      "metadata": {
        "colab": {
          "base_uri": "https://localhost:8080/",
          "height": 34
        },
        "id": "Ei5qeZO_aT6m",
        "outputId": "087819d3-202a-46c9-f87d-49e17953099c"
      },
      "outputs": [
        {
          "data": {
            "text/plain": [
              "(0, 10)"
            ]
          },
          "execution_count": 4,
          "metadata": {},
          "output_type": "execute_result"
        }
      ],
      "source": [
        "X[1].min(), X[1].max()"
      ]
    },
    {
      "cell_type": "code",
      "execution_count": null,
      "metadata": {
        "colab": {
          "base_uri": "https://localhost:8080/",
          "height": 34
        },
        "id": "L7wsW1Q7b4Ts",
        "outputId": "911044d6-32c1-475a-80cd-cbaf26d5ba32"
      },
      "outputs": [
        {
          "data": {
            "text/plain": [
              "(450, 2000)"
            ]
          },
          "execution_count": 5,
          "metadata": {},
          "output_type": "execute_result"
        }
      ],
      "source": [
        "X[2].min(), X[2].max()"
      ]
    },
    {
      "cell_type": "code",
      "execution_count": null,
      "metadata": {
        "colab": {
          "base_uri": "https://localhost:8080/",
          "height": 121
        },
        "id": "E55S9Bzob9Xa",
        "outputId": "4abf56a2-d484-4c24-8520-8ed1b58ccca8"
      },
      "outputs": [
        {
          "data": {
            "text/plain": [
              "array([[1.00e+00, 1.00e+00, 1.00e+00, 1.00e+00, 1.00e+00, 1.00e+00,\n",
              "        1.00e+00, 1.00e+00, 1.00e+00, 1.00e+00],\n",
              "       [1.00e+00, 1.00e+00, 2.00e+00, 5.00e+00, 3.00e+00, 0.00e+00,\n",
              "        5.00e+00, 1.00e+01, 1.00e+00, 2.00e+00],\n",
              "       [5.00e+02, 7.00e+02, 7.50e+02, 6.00e+02, 1.45e+03, 8.00e+02,\n",
              "        1.50e+03, 2.00e+03, 4.50e+02, 1.00e+03],\n",
              "       [1.00e+00, 1.00e+00, 2.00e+00, 1.00e+00, 2.00e+00, 1.00e+00,\n",
              "        3.00e+00, 3.00e+00, 1.00e+00, 2.00e+00]])"
            ]
          },
          "execution_count": 6,
          "metadata": {},
          "output_type": "execute_result"
        }
      ],
      "source": [
        "X_norm = X.copy()\n",
        "X_norm = X_norm.astype(np.float64)\n",
        "X_norm"
      ]
    },
    {
      "cell_type": "code",
      "execution_count": null,
      "metadata": {
        "colab": {
          "base_uri": "https://localhost:8080/",
          "height": 121
        },
        "id": "7x-6IuPOcIo0",
        "outputId": "1668fec7-37ae-4671-ad9f-f093c30a6c72"
      },
      "outputs": [
        {
          "data": {
            "text/plain": [
              "array([[1.00e+00, 1.00e+00, 1.00e+00, 1.00e+00, 1.00e+00, 1.00e+00,\n",
              "        1.00e+00, 1.00e+00, 1.00e+00, 1.00e+00],\n",
              "       [1.00e-01, 1.00e-01, 2.00e-01, 5.00e-01, 3.00e-01, 0.00e+00,\n",
              "        5.00e-01, 1.00e+00, 1.00e-01, 2.00e-01],\n",
              "       [5.00e+02, 7.00e+02, 7.50e+02, 6.00e+02, 1.45e+03, 8.00e+02,\n",
              "        1.50e+03, 2.00e+03, 4.50e+02, 1.00e+03],\n",
              "       [1.00e+00, 1.00e+00, 2.00e+00, 1.00e+00, 2.00e+00, 1.00e+00,\n",
              "        3.00e+00, 3.00e+00, 1.00e+00, 2.00e+00]])"
            ]
          },
          "execution_count": 7,
          "metadata": {},
          "output_type": "execute_result"
        }
      ],
      "source": [
        "X_norm[1] = (X[1] - X[1].min()) / (X[1].max() - X[1].min())\n",
        "X_norm"
      ]
    },
    {
      "cell_type": "code",
      "execution_count": null,
      "metadata": {
        "colab": {
          "base_uri": "https://localhost:8080/",
          "height": 121
        },
        "id": "izkMRdXFcjyK",
        "outputId": "982b8c8d-629d-4c4a-a3d5-67854cee4a4a"
      },
      "outputs": [
        {
          "data": {
            "text/plain": [
              "array([[1.        , 1.        , 1.        , 1.        , 1.        ,\n",
              "        1.        , 1.        , 1.        , 1.        , 1.        ],\n",
              "       [0.1       , 0.1       , 0.2       , 0.5       , 0.3       ,\n",
              "        0.        , 0.5       , 1.        , 0.1       , 0.2       ],\n",
              "       [0.03225806, 0.16129032, 0.19354839, 0.09677419, 0.64516129,\n",
              "        0.22580645, 0.67741935, 1.        , 0.        , 0.35483871],\n",
              "       [1.        , 1.        , 2.        , 1.        , 2.        ,\n",
              "        1.        , 3.        , 3.        , 1.        , 2.        ]])"
            ]
          },
          "execution_count": 8,
          "metadata": {},
          "output_type": "execute_result"
        }
      ],
      "source": [
        "X_norm[2] = (X[2] - X[2].min()) / (X[2].max() - X[2].min())\n",
        "X_norm"
      ]
    },
    {
      "cell_type": "code",
      "metadata": {
        "id": "Zy63bpFfeqzu"
      },
      "source": [
        "Стандартизация"
      ],
      "execution_count": null,
      "outputs": []
    },
    {
      "cell_type": "code",
      "execution_count": null,
      "metadata": {
        "colab": {
          "base_uri": "https://localhost:8080/",
          "height": 317
        },
        "id": "8i9pB-3-fMD4",
        "outputId": "3cbe76f6-d000-4fcd-fe86-ffe853403356"
      },
      "outputs": [
        {
          "data": {
            "image/png": "[encoded data removed]",
            "text/plain": [
              "<matplotlib.figure.Figure at 0x11f3062e8>"
            ]
          },
          "metadata": {},
          "output_type": "display_data"
        }
      ],
      "source": [
        "plt.hist(X[1])\n",
        "plt.show()"
      ]
    },
    {
      "cell_type": "code",
      "execution_count": null,
      "metadata": {
        "colab": {
          "base_uri": "https://localhost:8080/",
          "height": 335
        },
        "id": "-bnAYQqVfRX-",
        "outputId": "d59b0013-49bc-40fa-cb29-e71403e6e9e0"
      },
      "outputs": [
        {
          "data": {
            "image/png": "[encoded data removed]",
            "text/plain": [
              "<matplotlib.figure.Figure at 0x11f40c6d8>"
            ]
          },
          "metadata": {},
          "output_type": "display_data"
        }
      ],
      "source": [
        "plt.hist(X[2])\n",
        "plt.show()"
      ]
    },
    {
      "cell_type": "code",
      "execution_count": null,
      "metadata": {
        "id": "M57-Pzl_f_rF",
        "outputId": "b8f0b94e-715a-448e-e6d1-270ad75a3350"
      },
      "outputs": [
        {
          "name": "stdout",
          "output_type": "stream",
          "text": [
            "3.0 2.8284271247461903\n"
          ]
        }
      ],
      "source": [
        "X_st = X.copy().astype(np.float64)\n",
        "X1_mean = X[1].mean()\n",
        "X1_std = X[1].std()\n",
        "print(X1_mean, X1_std)"
      ]
    },
    {
      "cell_type": "code",
      "execution_count": null,
      "metadata": {
        "colab": {
          "base_uri": "https://localhost:8080/",
          "height": 294
        },
        "id": "btJMY0YbgKLb",
        "outputId": "40010205-def9-4582-9a5d-e513e85b7a4e"
      },
      "outputs": [
        {
          "data": {
            "text/plain": [
              "array([[ 1.00000000e+00,  1.00000000e+00,  1.00000000e+00,\n",
              "         1.00000000e+00,  1.00000000e+00,  1.00000000e+00,\n",
              "         1.00000000e+00,  1.00000000e+00,  1.00000000e+00,\n",
              "         1.00000000e+00],\n",
              "       [-7.07106781e-01, -7.07106781e-01, -3.53553391e-01,\n",
              "         7.07106781e-01,  0.00000000e+00, -1.06066017e+00,\n",
              "         7.07106781e-01,  2.47487373e+00, -7.07106781e-01,\n",
              "        -3.53553391e-01],\n",
              "       [ 5.00000000e+02,  7.00000000e+02,  7.50000000e+02,\n",
              "         6.00000000e+02,  1.45000000e+03,  8.00000000e+02,\n",
              "         1.50000000e+03,  2.00000000e+03,  4.50000000e+02,\n",
              "         1.00000000e+03],\n",
              "       [ 1.00000000e+00,  1.00000000e+00,  2.00000000e+00,\n",
              "         1.00000000e+00,  2.00000000e+00,  1.00000000e+00,\n",
              "         3.00000000e+00,  3.00000000e+00,  1.00000000e+00,\n",
              "         2.00000000e+00]])"
            ]
          },
          "execution_count": 10,
          "metadata": {},
          "output_type": "execute_result"
        }
      ],
      "source": [
        "X_st[1] = (X[1] - X1_mean) / X1_std\n",
        "X_st"
      ]
    },
    {
      "cell_type": "code",
      "execution_count": null,
      "metadata": {
        "colab": {
          "base_uri": "https://localhost:8080/",
          "height": 352
        },
        "id": "-Y1tzWGCgYjA",
        "outputId": "89dc21fe-180f-4e68-f30f-1cf276c4f154"
      },
      "outputs": [
        {
          "data": {
            "image/png": "[encoded data removed]",
            "text/plain": [
              "<matplotlib.figure.Figure at 0x11f49c6d8>"
            ]
          },
          "metadata": {},
          "output_type": "display_data"
        }
      ],
      "source": [
        "plt.hist(X_st[1])\n",
        "plt.show()"
      ]
    },
    {
      "cell_type": "code",
      "execution_count": null,
      "metadata": {
        "collapsed": true,
        "id": "ZlJUBOyzgkJV"
      },
      "outputs": [],
      "source": [
        "def calc_std_fit(x):\n",
        "    res = (x - x.mean()) / x.std()\n",
        "    return res"
      ]
    },
    {
      "cell_type": "code",
      "execution_count": null,
      "metadata": {
        "collapsed": true,
        "id": "6PlDlFY0hGZA"
      },
      "outputs": [],
      "source": [
        "X_st[2] = calc_std_fit(X[2])"
      ]
    },
    {
      "cell_type": "code",
      "execution_count": null,
      "metadata": {
        "colab": {
          "base_uri": "https://localhost:8080/",
          "height": 155
        },
        "id": "LOKhmhJjt9TR",
        "outputId": "2b131d78-9066-462b-dfa9-778758f3d363"
      },
      "outputs": [
        {
          "data": {
            "text/plain": [
              "array([[ 1.        ,  1.        ,  1.        ,  1.        ,  1.        ,\n",
              "         1.        ,  1.        ,  1.        ,  1.        ,  1.        ],\n",
              "       [-0.70710678, -0.70710678, -0.35355339,  0.70710678,  0.        ,\n",
              "        -1.06066017,  0.70710678,  2.47487373, -0.70710678, -0.35355339],\n",
              "       [-0.97958969, -0.56713087, -0.46401617, -0.77336028,  0.97958969,\n",
              "        -0.36090146,  1.08270439,  2.11385144, -1.08270439,  0.05155735],\n",
              "       [-0.89625816, -0.89625816,  0.38411064, -0.89625816,  0.38411064,\n",
              "        -0.89625816,  1.66447944,  1.66447944, -0.89625816,  0.38411064]])"
            ]
          },
          "execution_count": 13,
          "metadata": {},
          "output_type": "execute_result"
        }
      ],
      "source": [
        "X_st[3] = calc_std_fit(X[3])\n",
        "X_st"
      ]
    },
    {
      "cell_type": "code",
      "metadata": {
        "id": "UdGy9tjVhZol"
      },
      "source": [
        "SGD (Stochastic gradient descent)"
      ],
      "execution_count": null,
      "outputs": []
    },
    {
      "cell_type": "code",
      "execution_count": null,
      "metadata": {
        "collapsed": true,
        "id": "VDpN7UxYnrcS"
      },
      "outputs": [],
      "source": [
        "def calc_mse(y, y_pred):\n",
        "    err = np.mean((y - y_pred)**2)\n",
        "    return err"
      ]
    },
    {
      "cell_type": "code",
      "execution_count": null,
      "metadata": {
        "collapsed": true,
        "id": "SgEyis2zlJeb"
      },
      "outputs": [],
      "source": [
        "def eval_model(X, y, iterations, alpha=1e-4):\n",
        "    W = np.random.randn(X.shape[0])\n",
        "    n = X.shape[1]\n",
        "    for i in range(1, iterations+1):\n",
        "        y_pred = np.dot(W, X)\n",
        "        err = calc_mse(y, y_pred)\n",
        "        W -= (alpha * (1/n * 2 * np.dot((y_pred - y), X.T)))\n",
        "        if i % (iterations / 10) == 0:\n",
        "            print(i, W, err)\n",
        "    return W"
      ]
    },
    {
      "cell_type": "code",
      "execution_count": null,
      "metadata": {
        "colab": {
          "base_uri": "https://localhost:8080/",
          "height": 207
        },
        "id": "4nsYMAGjmFlB",
        "outputId": "8959a8af-3d27-42a6-afae-5db46c794fe1"
      },
      "outputs": [
        {
          "name": "stdout",
          "output_type": "stream",
          "text": [
            "100 [48.86357054  4.70933069  3.7563128   3.82527101] 88.56912574218507\n",
            "200 [55.48726012  5.22165972  2.94894899  4.22103158] 27.831665677530538\n",
            "300 [56.36569089  5.53334529  2.30299496  4.58498993] 26.129673576981542\n",
            "400 [56.48218798  5.73727453  1.79208588  4.91322327] 25.697650685805378\n",
            "500 [56.49763778  5.87587867  1.38428915  5.19823802] 25.428673535400087\n",
            "600 [56.49968672  5.97361628  1.0566565   5.44020196] 25.252025934174732\n",
            "700 [56.49995845  6.04487461  0.79222433  5.64275664] 25.1352194080658\n",
            "800 [56.49999449  6.09831892  0.57812653  5.81080469] 25.05777596007728\n",
            "900 [56.49999927  6.13932278  0.40440596  5.94940993] 25.006368043560236\n",
            "1000 [56.4999999   6.1713339   0.26323888  6.06328919] 24.972223792293708\n"
          ]
        },
        {
          "data": {
            "text/plain": [
              "array([56.4999999 ,  6.1713339 ,  0.26323888,  6.06328919])"
            ]
          },
          "execution_count": 21,
          "metadata": {},
          "output_type": "execute_result"
        }
      ],
      "source": [
        "eval_model(X_st, y, iterations=1000, alpha=1e-2)"
      ]
    },
    {
      "cell_type": "code",
      "execution_count": null,
      "metadata": {
        "collapsed": true,
        "id": "oV_LJy4l6r0W"
      },
      "outputs": [],
      "source": [
        "def eval_sgd_model(X, y, iterations, qty_in_batch, alpha=1e-4):\n",
        "    W = np.random.randn(X.shape[0])\n",
        "    n = X.shape[1]\n",
        "    n_batch = n // qty_in_batch\n",
        "    \n",
        "    if n % qty_in_batch != 0:\n",
        "        n_batch += 1\n",
        "        \n",
        "    for i in range(1, iterations+1):\n",
        "        for b in range(n_batch):\n",
        "            start_ = qty_in_batch*b\n",
        "            end_ = qty_in_batch*(b+1)\n",
        "#             print(b, n_batch, start_, end_)\n",
        "            X_tmp = X[:, start_ : end_]\n",
        "            y_tmp = y[start_ : end_]\n",
        "\n",
        "            y_pred_tmp = np.dot(W, X_tmp)\n",
        "            err = calc_mse(y_tmp, y_pred_tmp)\n",
        "\n",
        "            W -= (alpha * (1/n * 2 * np.dot((y_pred_tmp - y_tmp), X_tmp.T)))\n",
        "        \n",
        "        if i % (iterations / 10) == 0:\n",
        "            print(i, W, err)\n",
        "    return W"
      ]
    },
    {
      "cell_type": "code",
      "execution_count": null,
      "metadata": {
        "colab": {
          "base_uri": "https://localhost:8080/",
          "height": 207
        },
        "id": "2aXap4Vsm3GV",
        "outputId": "8b666b76-9d01-4b6d-813c-f1d3f5901f5f"
      },
      "outputs": [
        {
          "name": "stdout",
          "output_type": "stream",
          "text": [
            "500 [56.50791768  5.97052641  1.07587083  5.43675955] 13.194149231363648\n",
            "1000 [56.51047356  6.20416485  0.14899919  6.16250325] 11.970671786542717\n",
            "1500 [56.51056702  6.2744152  -0.18006825  6.43230143] 11.533004188286078\n",
            "2000 [56.51060114  6.29898013 -0.29822307  6.52980453] 11.376643000780632\n",
            "2500 [56.51061344  6.30778088 -0.34071642  6.56490297] 11.320608661860906\n",
            "3000 [56.51061786  6.31094498 -0.35600231  6.57753038] 11.300482460063158\n",
            "3500 [56.51061945  6.31208314 -0.36150119  6.58207301] 11.293246560321307\n",
            "4000 [56.51062003  6.31249257 -0.36347935  6.58370716] 11.290644092689014\n",
            "4500 [56.51062023  6.31263986 -0.36419097  6.58429503] 11.289707959084065\n",
            "5000 [56.51062031  6.31269285 -0.36444697  6.58450651] 11.28937120566779\n"
          ]
        },
        {
          "data": {
            "text/plain": [
              "array([56.51062031,  6.31269285, -0.36444697,  6.58450651])"
            ]
          },
          "execution_count": 25,
          "metadata": {},
          "output_type": "execute_result"
        }
      ],
      "source": [
        "eval_sgd_model(X_st, y, iterations=5000, qty_in_batch=4, alpha=1e-2)"
      ]
    },
    {
      "cell_type": "code",
      "metadata": {
        "id": "DYTxT_6OrZpe"
      },
      "source": [
        "L1 регуляризация"
      ],
      "execution_count": null,
      "outputs": []
    },
    {
      "cell_type": "code",
      "metadata": {
        "id": "Ojkn7xKrsyiw"
      },
      "source": [
        "f(x, W) + (lambda_/2) * np.sum(np.abs(W))"
      ],
      "execution_count": null,
      "outputs": []
    },
    {
      "cell_type": "code",
      "metadata": {
        "id": "j38vId7Hvtg0"
      },
      "source": [
        "L2 регуляризация"
      ],
      "execution_count": null,
      "outputs": []
    },
    {
      "cell_type": "code",
      "metadata": {
        "id": "KO5BtZ7svv4k"
      },
      "source": [
        "f(x, W) + (lambda_/2) * np.sum(W**2)"
      ],
      "execution_count": null,
      "outputs": []
    },
    {
      "cell_type": "code",
      "execution_count": null,
      "metadata": {
        "collapsed": true,
        "id": "7AVoe1Mswjni"
      },
      "outputs": [],
      "source": [
        "def eval_model_reg2(X, y, iterations, alpha=1e-4, lambda_=1e-8):\n",
        "    np.random.seed(42)\n",
        "    W = np.random.randn(X.shape[0])\n",
        "    n = X.shape[1]\n",
        "    for i in range(1, iterations+1):\n",
        "        y_pred = np.dot(W, X)\n",
        "        err = calc_mse(y, y_pred)\n",
        "        W -= alpha * (1/n * 2 * np.dot((y_pred - y), X.T) + lambda_ * W) \n",
        "#         if i % (iterations / 10) == 0:\n",
        "#             print(i, W, err)\n",
        "    return W"
      ]
    },
    {
      "cell_type": "code",
      "execution_count": null,
      "metadata": {
        "colab": {
          "base_uri": "https://localhost:8080/",
          "height": 207
        },
        "id": "vLJL6j8Lw6OA",
        "outputId": "dac9ef42-5966-4404-9346-aeb18cca83c6"
      },
      "outputs": [
        {
          "name": "stdout",
          "output_type": "stream",
          "text": [
            "500 [56.49487895  5.89947315  1.04054601  5.5270874 ] 25.23755832331096\n",
            "1000 [56.49717505  6.19501568  0.13564839  6.17098435] 24.947089650389493\n",
            "1500 [56.49717514  6.26565597 -0.17868956  6.42516923] 24.910200887020064\n",
            "2000 [56.49717514  6.28924463 -0.29120292  6.51776763] 24.905377672807827\n",
            "2500 [56.49717514  6.29763759 -0.33165155  6.55113988] 24.904735047224676\n",
            "3000 [56.49717514  6.30065228 -0.3462019   6.56314895] 24.904645262343745\n",
            "3500 [56.49717514  6.3017366  -0.35143648  6.56746949] 24.904631263168568\n",
            "4000 [56.49717514  6.30212668 -0.35331967  6.56902387] 24.904628595590758\n",
            "4500 [56.49717514  6.30226702 -0.35399717  6.56958307] 24.904627942486606\n",
            "5000 [56.49717514  6.30231751 -0.35424091  6.56978425] 24.904627747206018\n"
          ]
        }
      ],
      "source": [
        "W = eval_model_reg2(X_st, y, iterations=5000, alpha=1e-2, lambda_=1e-4)"
      ]
    },
    {
      "cell_type": "code",
      "execution_count": null,
      "metadata": {
        "colab": {
          "base_uri": "https://localhost:8080/",
          "height": 207
        },
        "outputId": "8959a8af-3d27-42a6-afae-5db46c794fe1",
        "id": "bBGdLA7I6r0f"
      },
      "outputs": [
        {
          "name": "stdout",
          "output_type": "stream",
          "text": [
            "500 [56.49767254  5.83477719  1.36781865  5.25424451] 25.413829625514786\n",
            "1000 [56.4999999   6.17124081  0.25269258  6.07416416] 24.969784391475397\n",
            "1500 [56.5         6.2575128  -0.13774522  6.39128671] 24.913059475565493\n",
            "2000 [56.5         6.28678323 -0.27772011  6.50655795] 24.905712417850083\n",
            "2500 [56.5         6.29722767 -0.32807425  6.54810646] 24.904760553791704\n",
            "3000 [56.5         6.30098239 -0.34619733  6.56306445] 24.904637232271696\n",
            "3500 [56.5         6.30233363 -0.3527205   6.5684486 ] 24.904621254991206\n",
            "4000 [56.5         6.30281999 -0.35506846  6.57038658] 24.904619185007867\n",
            "4500 [56.5         6.30299505 -0.35591359  6.57108415] 24.904618916825108\n",
            "5000 [56.5         6.30305806 -0.35621778  6.57133523] 24.90461888207993\n"
          ]
        },
        {
          "data": {
            "text/plain": [
              "array([56.5       ,  6.30305806, -0.35621778,  6.57133523])"
            ]
          },
          "execution_count": 19,
          "metadata": {},
          "output_type": "execute_result"
        }
      ],
      "source": [
        "eval_model(X_st, y, iterations=5000, alpha=1e-2)"
      ]
    },
    {
      "cell_type": "markdown",
      "metadata": {
        "id": "gKDejdRT6r0g"
      },
      "source": [
        "### Практическое задание"
      ]
    },
    {
      "cell_type": "markdown",
      "metadata": {
        "id": "S3bTX7yz6r0g"
      },
      "source": [
        "* Постройте график зависимости весов всех признаков от lambda в L2-регуляризации на основе данных из урока."
      ]
    },
    {
      "cell_type": "markdown",
      "metadata": {
        "id": "ZIbh5rKr6r0n"
      },
      "source": [
        "* Можно ли к одному и тому же признаку применить сразу и нормализацию, и стандартизацию?"
      ]
    },
    {
      "cell_type": "markdown",
      "metadata": {
        "id": "uJQtO2UB6r0n"
      },
      "source": [
        "* Напишите функцию наподобие eval_model_reg2, но для применения L1-регуляризации."
      ]
    },
    {
      "cell_type": "markdown",
      "source": [
        "## 1. Сгенерировать датасет при помощи sklearn.datasets.make_regression и обучить линейную модель при помощи градиентного спуска и стохастического градиентного спуска. Построить графики среднеквадратичной ошибки (MSE) от числа итераций для обоих методов на одном рисунке, сделать выводы о разнице скорости сходимости каждого из методов."
      ],
      "metadata": {
        "id": "QfJGWgDUEKEB"
      }
    },
    {
      "cell_type": "code",
      "execution_count": 3,
      "metadata": {
        "collapsed": true,
        "id": "OX4r_PNv6r0o"
      },
      "outputs": [],
      "source": [
        "import numpy as np\n",
        "from sklearn import datasets\n",
        "import matplotlib.pyplot as plt\n",
        "\n",
        "%matplotlib inline"
      ]
    },
    {
      "cell_type": "code",
      "source": [
        "# сгенерируем набор данных\n",
        "data, target, coef = datasets.make_regression(n_samples = 1000, n_features = 2, n_informative = 2, n_targets = 1, \n",
        "                                              noise = 5, coef = True, random_state = 2)\n",
        "\n",
        "# Получим средние значения и стандартное отклонение по столбцам \n",
        "means = np.mean(data, axis=0)\n",
        "stds = np.std(data, axis=0)\n",
        "# параметр axis указывается для вычисления значений по столбцам, а не по всему массиву\n",
        "#(см. документацию в разделе источников)\n",
        " \n",
        "# вычтем каждое значение признака из среднего и поделим на стандартное отклонение\n",
        "for i in range(data.shape[0]):\n",
        "    for j in range(data.shape[1]):\n",
        "        data[i][j] = (data[i][j] - means[j])/stds[j]\n",
        "\n",
        "# реализуем функцию, определяющую среднеквадратичную ошибку\n",
        "def mserror(X, w, y):\n",
        "    y_pred = X.dot(w)\n",
        "    return (sum((y - y_pred)**2)) / len(y)"
      ],
      "metadata": {
        "id": "LAc0xYv969QA"
      },
      "execution_count": 8,
      "outputs": []
    },
    {
      "cell_type": "code",
      "source": [
        "# инициализируем начальный вектор весов\n",
        "w = np.zeros(2)\n",
        " \n",
        "# список векторов весов после каждой итерации\n",
        "w_list = [w.copy()]\n",
        " \n",
        "# список значений ошибок после каждой итерации\n",
        "errors = []\n",
        " \n",
        "# шаг градиентного спуска\n",
        "eta = 0.5\n",
        " \n",
        "# максимальное число итераций\n",
        "max_iter = 1e4\n",
        " \n",
        "# критерий сходимости (разница весов, при которой алгоритм останавливается)\n",
        "min_weight_dist = 1e-8\n",
        " \n",
        "# зададим начальную разницу весов большим числом\n",
        "weight_dist = np.inf\n",
        " \n",
        "# счетчик итераций\n",
        "iter_num = 0\n",
        " \n",
        "np.random.seed(1234)\n",
        " \n",
        "# ход градиентного спуска\n",
        "while weight_dist > min_weight_dist and iter_num < max_iter:\n",
        "    \n",
        "    # генерируем случайный индекс объекта выборки\n",
        "    train_ind = np.random.randint(data.shape[0])\n",
        "    \n",
        "    new_w = w - 2 * eta * np.dot(data[train_ind].T, (np.dot(data[train_ind], w) - target[train_ind])) / target.shape[0]\n",
        " \n",
        "    weight_dist = np.linalg.norm(new_w - w, ord=2)\n",
        "    \n",
        "    w_list.append(new_w.copy())\n",
        "    errors.append(mserror(data, new_w, target))\n",
        "    \n",
        "    iter_num += 1\n",
        "    w = new_w\n",
        "\n",
        "    if iter_num % 1000 == 0:\n",
        "      print(iter_num, w, mserror(X, new_w, Y))\n",
        "    \n",
        "w_list = np.array(w_list)\n",
        " \n",
        "print(f'В случае использования стохастического градиентного спуска функционал ошибки составляет {round(errors[-1], 4)}')"
      ],
      "metadata": {
        "colab": {
          "base_uri": "https://localhost:8080/"
        },
        "id": "1RSh2PkZ7evo",
        "outputId": "73774425-22cc-4fe8-bd6b-9b5ed3912421"
      },
      "execution_count": 27,
      "outputs": [
        {
          "output_type": "stream",
          "name": "stdout",
          "text": [
            "1000 [39.23773968 42.93038176] 1149.5541269402906\n",
            "2000 [53.87371936 58.86773679] 179.33389909064897\n",
            "3000 [58.5595241 64.5169505] 53.50707605654095\n",
            "4000 [60.27593226 66.4215221 ] 33.743414734175495\n",
            "5000 [60.80627422 66.98904378] 30.22769638942296\n",
            "6000 [61.08839193 67.35152895] 28.716777118475157\n",
            "7000 [61.45156124 67.66405632] 27.52215063820368\n",
            "8000 [61.60414731 67.59526528] 27.373528766447624\n",
            "9000 [61.41098384 67.70605298] 27.544901910948916\n",
            "10000 [61.58405161 67.70256567] 27.272679625827347\n",
            "В случае использования стохастического градиентного спуска функционал ошибки составляет 38.5913\n"
          ]
        }
      ]
    },
    {
      "cell_type": "code",
      "source": [
        "# Визуализируем изменение функционала ошибки\n",
        "plt.plot(range(len(errors)), errors)\n",
        "plt.title('MSE')\n",
        "plt.xlabel('Iteration number')\n",
        "plt.ylabel('MSE')"
      ],
      "metadata": {
        "colab": {
          "base_uri": "https://localhost:8080/",
          "height": 313
        },
        "id": "LZXve-sV7udo",
        "outputId": "13ceb6f0-ddbf-47b0-f48f-03228dc51c37"
      },
      "execution_count": null,
      "outputs": [
        {
          "output_type": "execute_result",
          "data": {
            "text/plain": [
              "Text(0, 0.5, 'MSE')"
            ]
          },
          "metadata": {},
          "execution_count": 4
        },
        {
          "output_type": "display_data",
          "data": {
            "text/plain": [
              "<Figure size 432x288 with 1 Axes>"
            ],
            "image/png": "[encoded data removed]"
          },
          "metadata": {
            "needs_background": "light"
          }
        }
      ]
    },
    {
      "cell_type": "code",
      "source": [
        "# сгенерируем набор данных\n",
        "X, Y, coef = datasets.make_regression(n_samples = 1000, n_features = 2, n_informative = 2, n_targets = 1, \n",
        "                                              noise = 5, coef = True, random_state = 2)\n",
        "# n_features = 2\n",
        "# n_objects = 1000\n",
        "# X = np.random.uniform(-7, 7, (n_objects, n_features))\n",
        "# w_true = np.random.normal(size=(n_features, ))\n",
        "# Y = X.dot(w_true) + np.random.normal(0, 0.5, size=(n_objects))"
      ],
      "metadata": {
        "id": "dRGtsnLZ94iW"
      },
      "execution_count": 25,
      "outputs": []
    },
    {
      "cell_type": "code",
      "source": [
        "# список векторов весов после каждой итерации\n",
        "w_list = [np.zeros(2)] #[w.copy()]\n",
        "\n",
        "# список значений ошибок после каждой итерации\n",
        "errors_gd = []\n",
        "\n",
        "# шаг градиентного спуска\n",
        "eta = 0.01\n",
        "\n",
        "# максимальное число итераций\n",
        "max_iter = 1e4\n",
        "\n",
        "# критерий сходимости (разница весов, при которой алгоритм останавливается)\n",
        "min_weight_dist = 1e-8\n",
        "\n",
        "# зададим начальную разницу весов большим числом\n",
        "weight_dist = np.inf\n",
        "\n",
        "# счётчик итераций\n",
        "iter_num = 0\n",
        "\n",
        "# ход градиентного спуска\n",
        "while weight_dist > min_weight_dist and iter_num < max_iter:\n",
        "    new_w = w - 2 * eta * np.dot(X.T, (np.dot(X, w) - Y)) / Y.shape[0]\n",
        "    weight_dist = np.linalg.norm(new_w - w, ord=2)\n",
        "    \n",
        "    w_list.append(new_w.copy())\n",
        "    errors_gd.append(mserror(X, new_w, Y))\n",
        "    \n",
        "    iter_num += 1\n",
        "    w = new_w\n",
        "\n",
        "    if iter_num % 100 == 0:\n",
        "      print(iter_num, w, mserror(X, new_w, Y))\n",
        "    \n",
        "w_list = np.array(w_list)\n",
        "\n",
        "print(f'В случае использования градиентного спуска функционал ошибки составляет {round(errors_gd[-1], 4)}')"
      ],
      "metadata": {
        "colab": {
          "base_uri": "https://localhost:8080/"
        },
        "id": "8RzxMP0o9ukr",
        "outputId": "5db7b53f-c4af-40de-cc67-a9e6edaa71d9"
      },
      "execution_count": 24,
      "outputs": [
        {
          "output_type": "stream",
          "name": "stdout",
          "text": [
            "100 [62.26332956 68.21602194] 26.433775378644395\n",
            "200 [62.31852734 68.27054618] 26.426071267117845\n",
            "300 [62.32658559 68.27844173] 26.425908379409318\n",
            "400 [62.32776154 68.27958552] 26.425904935271227\n",
            "500 [62.32793309 68.27975128] 26.425904862443936\n",
            "600 [62.32795811 68.27977531] 26.42590486090392\n",
            "700 [62.32796176 68.2797788 ] 26.425904860871345\n",
            "В случае использования градиентного спуска функционал ошибки составляет 26.4259\n"
          ]
        }
      ]
    },
    {
      "cell_type": "code",
      "source": [
        "# Визуализируем изменение функционала ошибки\n",
        "plt.plot(range(len(errors)), errors)\n",
        "# plt.plot(range(len(errors_gd)), errors_gd)\n",
        "plt.title('MSE SGD')\n",
        "plt.xlabel('Iteration number')\n",
        "plt.ylabel('MSE')\n",
        "plt.show()"
      ],
      "metadata": {
        "colab": {
          "base_uri": "https://localhost:8080/",
          "height": 295
        },
        "id": "kKtAE7qA_VEa",
        "outputId": "a74dc551-0a7e-4a11-c092-ec78365deb23"
      },
      "execution_count": null,
      "outputs": [
        {
          "output_type": "display_data",
          "data": {
            "text/plain": [
              "<Figure size 432x288 with 1 Axes>"
            ],
            "image/png": "[encoded data removed]"
          },
          "metadata": {
            "needs_background": "light"
          }
        }
      ]
    },
    {
      "cell_type": "code",
      "source": [
        "# Визуализируем изменение функционала ошибки\n",
        "# plt.plot(range(len(errors)), errors)\n",
        "plt.plot(range(len(errors_gd)), errors_gd)\n",
        "plt.title('MSE SD')\n",
        "plt.xlabel('Iteration number')\n",
        "plt.ylabel('MSE')\n",
        "plt.show()"
      ],
      "metadata": {
        "colab": {
          "base_uri": "https://localhost:8080/",
          "height": 295
        },
        "id": "35wbDPFUDKWl",
        "outputId": "55bca7d8-ebbd-4b0f-f388-6cadf39dd737"
      },
      "execution_count": null,
      "outputs": [
        {
          "output_type": "display_data",
          "data": {
            "text/plain": [
              "<Figure size 432x288 with 1 Axes>"
            ],
            "image/png": "[encoded data removed]"
          },
          "metadata": {
            "needs_background": "light"
          }
        }
      ]
    },
    {
      "cell_type": "markdown",
      "source": [
        "Скорость сходимости SGD выше, чем у GD."
      ],
      "metadata": {
        "id": "qJ03VVbrDiCp"
      }
    },
    {
      "cell_type": "markdown",
      "source": [
        "## 2 [*] Добавить в алгоритм градиентного спуска L1 регуляризацию. Сравнить влияние коэффициентов регуляризации L1 и L2 на величину весов для примера из урока (лучше графически)."
      ],
      "metadata": {
        "id": "jXu0gCDNFFkw"
      }
    },
    {
      "cell_type": "code",
      "source": [
        "# сгенерируем набор данных\n",
        "X, Y, coef = datasets.make_regression(n_samples = 1000, n_features = 2, n_informative = 2, n_targets = 1, \n",
        "                                              noise = 5, coef = True, random_state = 2)"
      ],
      "metadata": {
        "id": "h_-5sENtFyWP"
      },
      "execution_count": 4,
      "outputs": []
    },
    {
      "cell_type": "code",
      "source": [
        "# инициализируем начальный вектор весов\n",
        "w = np.zeros(2)\n",
        "\n",
        "# список векторов весов после каждой итерации\n",
        "w_list = [np.zeros(2)] #[w.copy()]\n",
        "\n",
        "# список значений ошибок после каждой итерации\n",
        "errors_l1 = []\n",
        "\n",
        "# шаг градиентного спуска\n",
        "eta = 0.01\n",
        "\n",
        "# максимальное число итераций\n",
        "max_iter = 1e4\n",
        "\n",
        "# критерий сходимости (разница весов, при которой алгоритм останавливается)\n",
        "min_weight_dist = 1e-8\n",
        "\n",
        "# зададим начальную разницу весов большим числом\n",
        "weight_dist = np.inf\n",
        "\n",
        "# счётчик итераций\n",
        "iter_num = 0\n",
        "\n",
        "# ход градиентного спуска\n",
        "lambda_=1e-4\n",
        "while weight_dist > min_weight_dist and iter_num < max_iter:\n",
        "    new_w = w - 2 * eta * (np.dot(X.T, (np.dot(X, w) - Y)) / Y.shape[0] + (lambda_/2) * np.sum(np.abs(w)))\n",
        "    weight_dist = np.linalg.norm(new_w - w, ord=2)\n",
        "    \n",
        "    w_list.append(new_w.copy())\n",
        "    errors_l1.append(mserror(X, new_w, Y))\n",
        "    \n",
        "    iter_num += 1\n",
        "    w = new_w\n",
        "            \n",
        "    if iter_num % 100 == 0:\n",
        "      print(iter_num, w, mserror(X, new_w, Y))\n",
        "    \n",
        "w_list = np.array(w_list)\n",
        "\n",
        "print(f'В случае использования градиентного спуска c L1 функционал ошибки составляет {round(errors_gd[-1], 4)}')"
      ],
      "metadata": {
        "id": "SL4TLt7TFzCD",
        "colab": {
          "base_uri": "https://localhost:8080/"
        },
        "outputId": "8461cc2d-a7a3-410d-e951-a994c2177c0f"
      },
      "execution_count": 22,
      "outputs": [
        {
          "output_type": "stream",
          "name": "stdout",
          "text": [
            "100 [53.17717104 58.43671754] 198.94826895060984\n",
            "200 [60.98076597 66.85465667] 30.099080300270113\n",
            "300 [62.12480396 68.06829584] 26.50803591574103\n",
            "400 [62.29237934 68.24340432] 26.428377562141318\n",
            "500 [62.31690642 68.26868743] 26.426139069642172\n",
            "600 [62.32049386 68.2723403 ] 26.426010968463306\n",
            "700 [62.32101825 68.27286837] 26.425996515107997\n",
            "800 [62.32109486 68.27294475] 26.425994502142807\n",
            "900 [62.32110605 68.2729558 ] 26.42599421138056\n",
            "В случае использования градиентного спуска c L1 функционал ошибки составляет 26.426\n"
          ]
        }
      ]
    },
    {
      "cell_type": "code",
      "source": [
        "# Визуализируем изменение функционала ошибки\n",
        "# plt.plot(range(len(errors)), errors)\n",
        "plt.plot(range(len(errors_l1)), errors_l1)\n",
        "plt.title('MSE SD L1')\n",
        "plt.xlabel('Iteration number')\n",
        "plt.ylabel('MSE')\n",
        "plt.show()"
      ],
      "metadata": {
        "colab": {
          "base_uri": "https://localhost:8080/",
          "height": 295
        },
        "id": "fHBlmJa-_w_i",
        "outputId": "68f6a28a-db5b-4d84-89ab-336cc000eace"
      },
      "execution_count": 19,
      "outputs": [
        {
          "output_type": "display_data",
          "data": {
            "text/plain": [
              "<Figure size 432x288 with 1 Axes>"
            ],
            "image/png": "[encoded data removed]"
          },
          "metadata": {
            "needs_background": "light"
          }
        }
      ]
    },
    {
      "cell_type": "code",
      "source": [
        "# сгенерируем набор данных\n",
        "X, Y, coef = datasets.make_regression(n_samples = 1000, n_features = 2, n_informative = 2, n_targets = 1, \n",
        "                                              noise = 5, coef = True, random_state = 2)\n",
        "# инициализируем начальный вектор весов\n",
        "w = np.zeros(2)\n",
        "\n",
        "# список векторов весов после каждой итерации\n",
        "w_list = [np.zeros(2)] #[w.copy()]\n",
        "\n",
        "# список значений ошибок после каждой итерации\n",
        "errors_l2 = []\n",
        "\n",
        "# шаг градиентного спуска\n",
        "eta = 0.01\n",
        "\n",
        "# максимальное число итераций\n",
        "max_iter = 1e4\n",
        "\n",
        "# критерий сходимости (разница весов, при которой алгоритм останавливается)\n",
        "min_weight_dist = 1e-8\n",
        "\n",
        "# зададим начальную разницу весов большим числом\n",
        "weight_dist = np.inf\n",
        "\n",
        "# счётчик итераций\n",
        "iter_num = 0\n",
        "\n",
        "# ход градиентного спуска\n",
        "lambda_=1e-4\n",
        "while weight_dist > min_weight_dist and iter_num < max_iter:\n",
        "    new_w = w - 2 * eta * (np.dot(X.T, (np.dot(X, w) - Y)) / Y.shape[0] + (lambda_/2) * np.sum(w**2))\n",
        "    weight_dist = np.linalg.norm(new_w - w, ord=2)\n",
        "    \n",
        "    w_list.append(new_w.copy())\n",
        "    errors_l2.append(mserror(X, new_w, Y))\n",
        "    \n",
        "    iter_num += 1\n",
        "    w = new_w\n",
        "\n",
        "    if iter_num % 100 == 0:\n",
        "      print(iter_num, w, mserror(X, new_w, Y))\n",
        "    \n",
        "w_list = np.array(w_list)\n",
        "\n",
        "print(f'В случае использования градиентного спуска c L2 функционал ошибки составляет {round(errors_gd[-1], 4)}')"
      ],
      "metadata": {
        "colab": {
          "base_uri": "https://localhost:8080/"
        },
        "id": "CaYzhogX__4S",
        "outputId": "619a7f5e-cca5-4434-adab-8954183dcf2d"
      },
      "execution_count": 23,
      "outputs": [
        {
          "output_type": "stream",
          "name": "stdout",
          "text": [
            "100 [52.995932   58.25587687] 205.57836693013533\n",
            "200 [60.61602947 66.49127744] 32.27977704851056\n",
            "300 [61.70437821 67.64973551] 27.176306050498408\n",
            "400 [61.85959961 67.81265164] 26.84374427501163\n",
            "500 [61.88172298 67.83557171] 26.804474976430914\n",
            "600 [61.88487459 67.83879771] 26.799071561564944\n",
            "700 [61.88532336 67.83925196] 26.79830961762415\n",
            "800 [61.88538723 67.83931596] 26.798201791419288\n",
            "900 [61.88539632 67.83932497] 26.798186524325867\n",
            "В случае использования градиентного спуска c L2 функционал ошибки составляет 26.426\n"
          ]
        }
      ]
    },
    {
      "cell_type": "code",
      "source": [
        "# Визуализируем изменение функционала ошибки\n",
        "# plt.plot(range(len(errors)), errors)\n",
        "plt.plot(range(len(errors_l2)), errors_l2)\n",
        "plt.title('MSE SD L2')\n",
        "plt.xlabel('Iteration number')\n",
        "plt.ylabel('MSE')\n",
        "plt.show()"
      ],
      "metadata": {
        "colab": {
          "base_uri": "https://localhost:8080/",
          "height": 295
        },
        "id": "sfmDVeEsAiPh",
        "outputId": "4a58b1d6-5f48-4527-b789-213c346239cb"
      },
      "execution_count": 21,
      "outputs": [
        {
          "output_type": "display_data",
          "data": {
            "text/plain": [
              "<Figure size 432x288 with 1 Axes>"
            ],
            "image/png": "[encoded data removed]"
          },
          "metadata": {
            "needs_background": "light"
          }
        }
      ]
    },
    {
      "cell_type": "markdown",
      "source": [
        "В регуляризации L1 веса уменьшаются на постоянное значение, стремясь к 0. В регуляризации L2 веса уменьшаются на значение, пропорциональное w. Поэтому когда у какого-то веса оказывается большое значение |w|, регуляризация L1 уменьшает вес не так сильно, как L2. И наоборот, когда |w| мало, регуляризация L1 уменьшает вес гораздо больше, чем регуляризация L2."
      ],
      "metadata": {
        "id": "Rh9ExImBCaTD"
      }
    }
  ],
  "metadata": {
    "colab": {
      "collapsed_sections": [],
      "provenance": []
    },
    "kernelspec": {
      "display_name": "Python 3",
      "language": "python",
      "name": "python3"
    },
    "language_info": {
      "codemirror_mode": {
        "name": "ipython",
        "version": 3
      },
      "file_extension": ".py",
      "mimetype": "text/x-python",
      "name": "python",
      "nbconvert_exporter": "python",
      "pygments_lexer": "ipython3",
      "version": "3.7.6"
    }
  },
  "nbformat": 4,
  "nbformat_minor": 0
}