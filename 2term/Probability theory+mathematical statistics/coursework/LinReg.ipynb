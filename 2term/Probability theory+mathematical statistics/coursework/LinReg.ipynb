{
 "cells": [
  {
   "cell_type": "code",
   "execution_count": 1,
   "id": "11b0a979",
   "metadata": {},
   "outputs": [],
   "source": [
    "import pandas as pd\n",
    "import matplotlib.pyplot as plt\n",
    "import numpy as np"
   ]
  },
  {
   "cell_type": "code",
   "execution_count": 2,
   "id": "8b23b20c",
   "metadata": {},
   "outputs": [],
   "source": [
    "df = pd.read_csv('student_scores.csv')"
   ]
  },
  {
   "cell_type": "code",
   "execution_count": 3,
   "id": "8ab7715c",
   "metadata": {},
   "outputs": [
    {
     "name": "stdout",
     "output_type": "stream",
     "text": [
      "   Hours  Scores\n",
      "0    2.5      21\n",
      "1    5.1      47\n",
      "2    3.2      27\n",
      "3    8.5      75\n",
      "4    3.5      30\n"
     ]
    }
   ],
   "source": [
    "print(df.head())"
   ]
  },
  {
   "cell_type": "code",
   "execution_count": 4,
   "id": "ca5818ce",
   "metadata": {},
   "outputs": [
    {
     "data": {
      "text/plain": [
       "(25, 2)"
      ]
     },
     "execution_count": 4,
     "metadata": {},
     "output_type": "execute_result"
    }
   ],
   "source": [
    "df.shape"
   ]
  },
  {
   "cell_type": "code",
   "execution_count": 5,
   "id": "c25d3f31",
   "metadata": {},
   "outputs": [
    {
     "data": {
      "text/plain": [
       "<AxesSubplot:title={'center':'Scatterplot of hours and scores percentages'}, xlabel='Hours', ylabel='Scores'>"
      ]
     },
     "execution_count": 5,
     "metadata": {},
     "output_type": "execute_result"
    },
    {
     "data": {
      "image/png": "[encoded data removed]",
      "text/plain": [
       "<Figure size 432x288 with 1 Axes>"
      ]
     },
     "metadata": {
      "needs_background": "light"
     },
     "output_type": "display_data"
    }
   ],
   "source": [
    "#plt.scatter(x=df['Hours'], y=df['Scores'])\n",
    "#plt.title('Scatterplot of hours and scores percentages')\n",
    "\n",
    "df.plot.scatter(x='Hours', y='Scores', title='Scatterplot of hours and scores percentages')"
   ]
  },
  {
   "cell_type": "code",
   "execution_count": 6,
   "id": "7acd8f7f",
   "metadata": {},
   "outputs": [
    {
     "name": "stdout",
     "output_type": "stream",
     "text": [
      "           Hours    Scores\n",
      "Hours   1.000000  0.976191\n",
      "Scores  0.976191  1.000000\n"
     ]
    }
   ],
   "source": [
    "print(df.corr())"
   ]
  },
  {
   "cell_type": "code",
   "execution_count": 7,
   "id": "34e287ce",
   "metadata": {},
   "outputs": [
    {
     "name": "stdout",
     "output_type": "stream",
     "text": [
      "           Hours     Scores\n",
      "count  25.000000  25.000000\n",
      "mean    5.012000  51.480000\n",
      "std     2.525094  25.286887\n",
      "min     1.100000  17.000000\n",
      "25%     2.700000  30.000000\n",
      "50%     4.800000  47.000000\n",
      "75%     7.400000  75.000000\n",
      "max     9.200000  95.000000\n"
     ]
    }
   ],
   "source": [
    "print(df.describe())"
   ]
  },
  {
   "cell_type": "code",
   "execution_count": 8,
   "id": "76397848",
   "metadata": {},
   "outputs": [],
   "source": [
    "y = df['Scores'].values.reshape(-1, 1)\n",
    "X = df['Hours'].values.reshape(-1, 1)"
   ]
  },
  {
   "cell_type": "code",
   "execution_count": 9,
   "id": "91996a4e",
   "metadata": {},
   "outputs": [
    {
     "name": "stdout",
     "output_type": "stream",
     "text": [
      "X shape: (25, 1)\n",
      "X: [[2.5]\n",
      " [5.1]\n",
      " [3.2]\n",
      " [8.5]\n",
      " [3.5]\n",
      " [1.5]\n",
      " [9.2]\n",
      " [5.5]\n",
      " [8.3]\n",
      " [2.7]\n",
      " [7.7]\n",
      " [5.9]\n",
      " [4.5]\n",
      " [3.3]\n",
      " [1.1]\n",
      " [8.9]\n",
      " [2.5]\n",
      " [1.9]\n",
      " [6.1]\n",
      " [7.4]\n",
      " [2.7]\n",
      " [4.8]\n",
      " [3.8]\n",
      " [6.9]\n",
      " [7.8]]\n"
     ]
    }
   ],
   "source": [
    "print('X shape:', X.shape)\n",
    "print('X:', X)"
   ]
  },
  {
   "cell_type": "code",
   "execution_count": 10,
   "id": "2493aec0",
   "metadata": {},
   "outputs": [
    {
     "name": "stdout",
     "output_type": "stream",
     "text": [
      "[2.5 5.1 3.2 8.5 3.5 1.5 9.2 5.5 8.3 2.7 7.7 5.9 4.5 3.3 1.1 8.9 2.5 1.9\n",
      " 6.1 7.4 2.7 4.8 3.8 6.9 7.8]\n",
      "(25,)\n"
     ]
    }
   ],
   "source": [
    "print(df['Hours'].values) # [2.5 5.1 3.2 8.5 3.5 1.5 9.2 ... ]\n",
    "print(df['Hours'].values.shape) # (25,)"
   ]
  },
  {
   "cell_type": "code",
   "execution_count": 11,
   "id": "221616ac",
   "metadata": {},
   "outputs": [],
   "source": [
    "from sklearn.model_selection import train_test_split\n",
    "X_train, X_test, y_train, y_test = train_test_split(X, y, test_size = 0.2, random_state=42)"
   ]
  },
  {
   "cell_type": "code",
   "execution_count": 12,
   "id": "10a8bd27",
   "metadata": {},
   "outputs": [
    {
     "name": "stdout",
     "output_type": "stream",
     "text": [
      "[[25]\n",
      " [42]\n",
      " [47]\n",
      " [35]\n",
      " [20]\n",
      " [27]\n",
      " [41]\n",
      " [95]\n",
      " [75]\n",
      " [30]\n",
      " [30]\n",
      " [24]\n",
      " [54]\n",
      " [67]\n",
      " [86]\n",
      " [60]\n",
      " [85]\n",
      " [17]\n",
      " [69]\n",
      " [88]]\n"
     ]
    }
   ],
   "source": [
    "print(y_train)"
   ]
  },
  {
   "cell_type": "code",
   "execution_count": 13,
   "id": "46f5be94",
   "metadata": {},
   "outputs": [
    {
     "data": {
      "text/plain": [
       "LinearRegression()"
      ]
     },
     "execution_count": 13,
     "metadata": {},
     "output_type": "execute_result"
    }
   ],
   "source": [
    "from sklearn.linear_model import LinearRegression\n",
    "regressor = LinearRegression()\n",
    "regressor.fit(X_train, y_train)"
   ]
  },
  {
   "cell_type": "code",
   "execution_count": 14,
   "id": "df5faacb",
   "metadata": {},
   "outputs": [
    {
     "data": {
      "text/plain": [
       "array([2.82689235])"
      ]
     },
     "execution_count": 14,
     "metadata": {},
     "output_type": "execute_result"
    }
   ],
   "source": [
    "regressor.intercept_"
   ]
  },
  {
   "cell_type": "code",
   "execution_count": 15,
   "id": "377749c6",
   "metadata": {},
   "outputs": [
    {
     "data": {
      "text/plain": [
       "array([[9.68207815]])"
      ]
     },
     "execution_count": 15,
     "metadata": {},
     "output_type": "execute_result"
    }
   ],
   "source": [
    "regressor.coef_"
   ]
  },
  {
   "cell_type": "code",
   "execution_count": 16,
   "id": "08881cfc",
   "metadata": {},
   "outputs": [],
   "source": [
    "def calc(slope, intercept, hours):\n",
    "    return slope*hours+intercept"
   ]
  },
  {
   "cell_type": "code",
   "execution_count": 17,
   "id": "9ab62054",
   "metadata": {},
   "outputs": [
    {
     "name": "stdout",
     "output_type": "stream",
     "text": [
      "[[94.80663482]]\n"
     ]
    }
   ],
   "source": [
    "score = calc(regressor.coef_, regressor.intercept_, 9.5)\n",
    "print(score)"
   ]
  },
  {
   "cell_type": "code",
   "execution_count": 18,
   "id": "6bd259f7",
   "metadata": {},
   "outputs": [
    {
     "name": "stdout",
     "output_type": "stream",
     "text": [
      "[[94.80663482]]\n"
     ]
    }
   ],
   "source": [
    "score = regressor.predict([[9.5]])\n",
    "print(score)"
   ]
  },
  {
   "cell_type": "code",
   "execution_count": 19,
   "id": "f4e2811d",
   "metadata": {},
   "outputs": [],
   "source": [
    "y_pred = regressor.predict(X_test)"
   ]
  },
  {
   "cell_type": "code",
   "execution_count": 20,
   "id": "2ac2398f",
   "metadata": {},
   "outputs": [
    {
     "name": "stdout",
     "output_type": "stream",
     "text": [
      "   Actual  Predicted\n",
      "0      81  83.188141\n",
      "1      30  27.032088\n",
      "2      21  27.032088\n",
      "3      76  69.633232\n",
      "4      62  59.951153\n"
     ]
    }
   ],
   "source": [
    "df_preds = pd.DataFrame({'Actual': y_test.squeeze(), 'Predicted': y_pred.squeeze()})\n",
    "print(df_preds)"
   ]
  },
  {
   "cell_type": "code",
   "execution_count": 21,
   "id": "1cc1dfee",
   "metadata": {},
   "outputs": [],
   "source": [
    "from sklearn.metrics import mean_absolute_error, mean_squared_error\n",
    "\n",
    "mae = mean_absolute_error(y_test, y_pred)\n",
    "mse = mean_squared_error(y_test, y_pred)\n",
    "rmse = np.sqrt(mse)"
   ]
  },
  {
   "cell_type": "code",
   "execution_count": null,
   "id": "c0f131e4",
   "metadata": {},
   "outputs": [],
   "source": []
  },
  {
   "cell_type": "code",
   "execution_count": 22,
   "id": "2c1c3146",
   "metadata": {},
   "outputs": [],
   "source": [
    "df = pd.read_csv('petrol_consumption.csv')"
   ]
  },
  {
   "cell_type": "code",
   "execution_count": 23,
   "id": "e8b88cef",
   "metadata": {},
   "outputs": [
    {
     "data": {
      "image/png": "[encoded data removed]",
      "text/plain": [
       "<Figure size 864x576 with 4 Axes>"
      ]
     },
     "metadata": {
      "needs_background": "light"
     },
     "output_type": "display_data"
    }
   ],
   "source": [
    "import seaborn as sns # Convention alias for Seaborn\n",
    "\n",
    "variables = ['Petrol_tax', 'Average_income', 'Paved_Highways','Population_Driver_licence(%)']\n",
    "\n",
    "fig, ax = plt.subplots(2, 2, figsize=(12, 8))\n",
    "\n",
    "for index, var in enumerate(variables):\n",
    "    # Regression Plot also by default includes\n",
    "    # best-fitting regression line\n",
    "    # which can be turned off via `fit_reg=False`\n",
    "    sns.regplot(x=var, y='Petrol_Consumption', data=df, ax=ax[int(np.ceil(index/4))][int(np.mod(index, 2))])"
   ]
  },
  {
   "cell_type": "code",
   "execution_count": 24,
   "id": "d72f787d",
   "metadata": {},
   "outputs": [
    {
     "data": {
      "image/png": "[encoded data removed]",
      "text/plain": [
       "<Figure size 432x288 with 2 Axes>"
      ]
     },
     "metadata": {
      "needs_background": "light"
     },
     "output_type": "display_data"
    }
   ],
   "source": [
    "correlations = df.corr()\n",
    "# annot=True displays the correlation values\n",
    "sns.heatmap(correlations, annot=True).set(title='Heatmap of Consumption Data - Pearson Correlations');"
   ]
  },
  {
   "cell_type": "code",
   "execution_count": 25,
   "id": "946caff3",
   "metadata": {},
   "outputs": [],
   "source": [
    "y = df['Petrol_Consumption']\n",
    "X = df[['Average_income', 'Paved_Highways',\n",
    "       'Population_Driver_licence(%)', 'Petrol_tax']]"
   ]
  },
  {
   "cell_type": "code",
   "execution_count": 26,
   "id": "a1303900",
   "metadata": {},
   "outputs": [],
   "source": [
    "X_train, X_test, y_train, y_test = train_test_split(X, y, \n",
    "                                                    test_size=0.2, \n",
    "                                                    random_state=42)"
   ]
  },
  {
   "cell_type": "code",
   "execution_count": 27,
   "id": "335b4e6a",
   "metadata": {},
   "outputs": [
    {
     "data": {
      "text/plain": [
       "(48, 4)"
      ]
     },
     "execution_count": 27,
     "metadata": {},
     "output_type": "execute_result"
    }
   ],
   "source": [
    "X.shape # (48, 4)"
   ]
  },
  {
   "cell_type": "code",
   "execution_count": 28,
   "id": "91ebc94e",
   "metadata": {},
   "outputs": [
    {
     "data": {
      "text/plain": [
       "LinearRegression()"
      ]
     },
     "execution_count": 28,
     "metadata": {},
     "output_type": "execute_result"
    }
   ],
   "source": [
    "regressor = LinearRegression()\n",
    "regressor.fit(X_train, y_train)"
   ]
  },
  {
   "cell_type": "code",
   "execution_count": 29,
   "id": "bf37e6d6",
   "metadata": {},
   "outputs": [
    {
     "data": {
      "text/plain": [
       "361.4508790666842"
      ]
     },
     "execution_count": 29,
     "metadata": {},
     "output_type": "execute_result"
    }
   ],
   "source": [
    "regressor.intercept_"
   ]
  },
  {
   "cell_type": "code",
   "execution_count": 30,
   "id": "2e245868",
   "metadata": {},
   "outputs": [
    {
     "data": {
      "text/plain": [
       "array([-5.65355145e-02, -4.38217137e-03,  1.34686930e+03, -3.69937459e+01])"
      ]
     },
     "execution_count": 30,
     "metadata": {},
     "output_type": "execute_result"
    }
   ],
   "source": [
    "regressor.coef_"
   ]
  },
  {
   "cell_type": "code",
   "execution_count": 31,
   "id": "a1a7fa2a",
   "metadata": {},
   "outputs": [],
   "source": [
    "feature_names = X.columns"
   ]
  },
  {
   "cell_type": "code",
   "execution_count": 32,
   "id": "59ae1ecf",
   "metadata": {},
   "outputs": [
    {
     "name": "stdout",
     "output_type": "stream",
     "text": [
      "                              Coefficient value\n",
      "Average_income                        -0.056536\n",
      "Paved_Highways                        -0.004382\n",
      "Population_Driver_licence(%)        1346.869298\n",
      "Petrol_tax                           -36.993746\n"
     ]
    }
   ],
   "source": [
    "feature_names = X.columns\n",
    "model_coefficients = regressor.coef_\n",
    "\n",
    "coefficients_df = pd.DataFrame(data = model_coefficients, \n",
    "                              index = feature_names, \n",
    "                              columns = ['Coefficient value'])\n",
    "print(coefficients_df)"
   ]
  },
  {
   "cell_type": "code",
   "execution_count": 33,
   "id": "6474177b",
   "metadata": {},
   "outputs": [],
   "source": [
    "y_pred = regressor.predict(X_test)"
   ]
  },
  {
   "cell_type": "code",
   "execution_count": 34,
   "id": "489a2af9",
   "metadata": {},
   "outputs": [
    {
     "name": "stdout",
     "output_type": "stream",
     "text": [
      "    Actual   Predicted\n",
      "27     631  606.692665\n",
      "40     587  673.779442\n",
      "26     577  584.991490\n",
      "43     591  563.536910\n",
      "24     460  519.058672\n",
      "37     704  643.461003\n",
      "12     525  572.897614\n",
      "19     640  687.077036\n",
      "4      410  547.609366\n",
      "25     566  530.037630\n"
     ]
    }
   ],
   "source": [
    "results = pd.DataFrame({'Actual': y_test, 'Predicted': y_pred})\n",
    "print(results)"
   ]
  },
  {
   "cell_type": "code",
   "execution_count": 35,
   "id": "662b543e",
   "metadata": {},
   "outputs": [
    {
     "name": "stdout",
     "output_type": "stream",
     "text": [
      "Mean absolute error: 53.47\n",
      "Mean squared error: 4083.26\n",
      "Root mean squared error: 63.90\n"
     ]
    }
   ],
   "source": [
    "mae = mean_absolute_error(y_test, y_pred)\n",
    "mse = mean_squared_error(y_test, y_pred)\n",
    "rmse = np.sqrt(mse)\n",
    "\n",
    "print(f'Mean absolute error: {mae:.2f}')\n",
    "print(f'Mean squared error: {mse:.2f}')\n",
    "print(f'Root mean squared error: {rmse:.2f}')"
   ]
  },
  {
   "cell_type": "code",
   "execution_count": 36,
   "id": "9f5d15a9",
   "metadata": {},
   "outputs": [
    {
     "name": "stdout",
     "output_type": "stream",
     "text": [
      "R²: 0.3913664001430537\n"
     ]
    }
   ],
   "source": [
    "actual_minus_predicted = sum((y_test - y_pred)**2)\n",
    "actual_minus_actual_mean = sum((y_test - y_test.mean())**2)\n",
    "r2 = 1 - actual_minus_predicted/actual_minus_actual_mean\n",
    "print('R²:', r2)"
   ]
  },
  {
   "cell_type": "code",
   "execution_count": 37,
   "id": "8a943861",
   "metadata": {},
   "outputs": [
    {
     "data": {
      "text/plain": [
       "0.3913664001430537"
      ]
     },
     "execution_count": 37,
     "metadata": {},
     "output_type": "execute_result"
    }
   ],
   "source": [
    "regressor.score(X_test, y_test)"
   ]
  },
  {
   "cell_type": "code",
   "execution_count": 38,
   "id": "f678f0aa",
   "metadata": {},
   "outputs": [
    {
     "data": {
      "text/plain": [
       "0.7068781342155137"
      ]
     },
     "execution_count": 38,
     "metadata": {},
     "output_type": "execute_result"
    }
   ],
   "source": [
    "regressor.score(X_train, y_train)"
   ]
  }
 ],
 "metadata": {
  "kernelspec": {
   "display_name": "Python 3 (ipykernel)",
   "language": "python",
   "name": "python3"
  },
  "language_info": {
   "codemirror_mode": {
    "name": "ipython",
    "version": 3
   },
   "file_extension": ".py",
   "mimetype": "text/x-python",
   "name": "python",
   "nbconvert_exporter": "python",
   "pygments_lexer": "ipython3",
   "version": "3.7.0"
  }
 },
 "nbformat": 4,
 "nbformat_minor": 5
}
