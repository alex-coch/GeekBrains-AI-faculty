{
 "cells": [
  {
   "cell_type": "markdown",
   "metadata": {
    "id": "8tabDp9L-QQu"
   },
   "source": [
    "### Установка  MongoDB.\n",
    "[установка](https://www.mongodb.com/try/download/community)  \n",
    "[документация](https://docs.mongodb.com/manual/tutorial/install-mongodb-on-os-x/)"
   ]
  },
  {
   "cell_type": "markdown",
   "metadata": {},
   "source": [
    "### Работа в консоли"
   ]
  },
  {
   "cell_type": "code",
   "execution_count": 1,
   "metadata": {
    "id": "YaM9WyEx-IOp"
   },
   "outputs": [
    {
     "name": "stdout",
     "output_type": "stream",
     "text": [
      "systemLog:\r\n",
      "  destination: file\r\n",
      "  path: /usr/local/var/log/mongodb/mongo.log\r\n",
      "  logAppend: true\r\n",
      "storage:\r\n",
      "  dbPath: /usr/local/var/mongodb\r\n",
      "net:\r\n",
      "  bindIp: 127.0.0.1\r\n"
     ]
    }
   ],
   "source": [
    "!cat /usr/local/etc/mongod.conf"
   ]
  },
  {
   "cell_type": "code",
   "execution_count": null,
   "metadata": {
    "id": "v0USEUIOCQsw"
   },
   "outputs": [],
   "source": [
    "# !brew services start mongodb-community@5.0\n",
    "# !brew services stop mongodb-community@5.0"
   ]
  },
  {
   "cell_type": "markdown",
   "metadata": {},
   "source": [
    "### Работа через [pymongo](https://pymongo.readthedocs.io/en/stable/tutorial.html)"
   ]
  },
  {
   "cell_type": "code",
   "execution_count": 2,
   "metadata": {
    "id": "tzSKx5ehyaOR"
   },
   "outputs": [],
   "source": [
    "import pymongo\n",
    "from pprint import pprint\n",
    "from pymongo.errors import *"
   ]
  },
  {
   "cell_type": "markdown",
   "metadata": {},
   "source": [
    "#### Поднимем сессию:"
   ]
  },
  {
   "cell_type": "code",
   "execution_count": 3,
   "metadata": {},
   "outputs": [],
   "source": [
    "client = pymongo.MongoClient('127.0.0.1', 27017)"
   ]
  },
  {
   "cell_type": "markdown",
   "metadata": {},
   "source": [
    "#### Зададим базу данных"
   ]
  },
  {
   "cell_type": "code",
   "execution_count": 5,
   "metadata": {},
   "outputs": [],
   "source": [
    "db = client['db02']"
   ]
  },
  {
   "cell_type": "markdown",
   "metadata": {},
   "source": [
    "####  Заявим две коллекции:"
   ]
  },
  {
   "cell_type": "code",
   "execution_count": 6,
   "metadata": {
    "id": "Ri9kqerYB6GB"
   },
   "outputs": [],
   "source": [
    "authors = db.authors\n",
    "books = db.books"
   ]
  },
  {
   "cell_type": "code",
   "execution_count": 41,
   "metadata": {
    "id": "CyQOT2kYCAAe"
   },
   "outputs": [],
   "source": [
    "doc = {\"author\": \"Peter2\",\n",
    "       \"age\": 38,\n",
    "       \"text\": \"is cool! Wildberry\",\n",
    "       \"tags\": ['cool', 'hot', 'ice'],\n",
    "       \"date\": '14.06.1983'}"
   ]
  },
  {
   "cell_type": "code",
   "execution_count": 42,
   "metadata": {
    "id": "3VPW6-dpCNLX"
   },
   "outputs": [
    {
     "data": {
      "text/plain": [
       "<pymongo.results.InsertOneResult at 0x7fb78fb37500>"
      ]
     },
     "execution_count": 42,
     "metadata": {},
     "output_type": "execute_result"
    }
   ],
   "source": [
    "authors.insert_one(doc)"
   ]
  },
  {
   "cell_type": "markdown",
   "metadata": {},
   "source": [
    "### чтение данных"
   ]
  },
  {
   "cell_type": "code",
   "execution_count": 9,
   "metadata": {
    "id": "In-85U7fCRN5"
   },
   "outputs": [],
   "source": [
    "def show_coll():    \n",
    "    for doc in authors.find({}):\n",
    "      pprint(doc)"
   ]
  },
  {
   "cell_type": "code",
   "execution_count": 13,
   "metadata": {},
   "outputs": [
    {
     "name": "stdout",
     "output_type": "stream",
     "text": [
      "{'_id': ObjectId('62151be0af9893927bb2bed8'),\n",
      " 'age': 38,\n",
      " 'author': 'Peter2',\n",
      " 'date': '14.06.1983',\n",
      " 'tags': ['cool', 'hot', 'ice'],\n",
      " 'text': 'is cool! Wildberry'}\n",
      "{'_id': ObjectId('62151bf4af9893927bb2bed9'),\n",
      " 'age': 38,\n",
      " 'author': 'Peter2',\n",
      " 'date': '14.06.1983',\n",
      " 'tags': ['cool', 'hot', 'ice'],\n",
      " 'text': 'is cool! Wildberry'}\n"
     ]
    }
   ],
   "source": [
    "show_coll()"
   ]
  },
  {
   "cell_type": "code",
   "execution_count": 14,
   "metadata": {
    "id": "_jtgYtX9CFbH"
   },
   "outputs": [],
   "source": [
    "doc = {\"_id\":\"243245324\",\n",
    "       \"author\": \"Peter2\",\n",
    "       \"age\": 38,\n",
    "       \"text\": \"is cool! Wildberry\",\n",
    "       \"tags\": ['cool', 'hot', 'ice'],\n",
    "       \"date\": '14.06.1983'}"
   ]
  },
  {
   "cell_type": "code",
   "execution_count": 15,
   "metadata": {},
   "outputs": [
    {
     "data": {
      "text/plain": [
       "<pymongo.results.InsertOneResult at 0x7fb78fb53540>"
      ]
     },
     "execution_count": 15,
     "metadata": {},
     "output_type": "execute_result"
    }
   ],
   "source": [
    "authors.insert_one(doc)"
   ]
  },
  {
   "cell_type": "code",
   "execution_count": 16,
   "metadata": {},
   "outputs": [
    {
     "name": "stdout",
     "output_type": "stream",
     "text": [
      "{'_id': ObjectId('62151be0af9893927bb2bed8'),\n",
      " 'age': 38,\n",
      " 'author': 'Peter2',\n",
      " 'date': '14.06.1983',\n",
      " 'tags': ['cool', 'hot', 'ice'],\n",
      " 'text': 'is cool! Wildberry'}\n",
      "{'_id': ObjectId('62151bf4af9893927bb2bed9'),\n",
      " 'age': 38,\n",
      " 'author': 'Peter2',\n",
      " 'date': '14.06.1983',\n",
      " 'tags': ['cool', 'hot', 'ice'],\n",
      " 'text': 'is cool! Wildberry'}\n",
      "{'_id': '243245324',\n",
      " 'age': 38,\n",
      " 'author': 'Peter2',\n",
      " 'date': '14.06.1983',\n",
      " 'tags': ['cool', 'hot', 'ice'],\n",
      " 'text': 'is cool! Wildberry'}\n"
     ]
    }
   ],
   "source": [
    "show_coll()"
   ]
  },
  {
   "cell_type": "code",
   "execution_count": 18,
   "metadata": {},
   "outputs": [],
   "source": [
    "# authors.insert_one(doc)"
   ]
  },
  {
   "cell_type": "code",
   "execution_count": 19,
   "metadata": {
    "id": "BcwM2d_gBwBD"
   },
   "outputs": [
    {
     "name": "stdout",
     "output_type": "stream",
     "text": [
      "E11000 duplicate key error collection: db02.authors index: _id_ dup key: { _id: \"243245324\" }, full error: {'index': 0, 'code': 11000, 'keyPattern': {'_id': 1}, 'keyValue': {'_id': '243245324'}, 'errmsg': 'E11000 duplicate key error collection: db02.authors index: _id_ dup key: { _id: \"243245324\" }'}\n",
      "-->  Peter2  was duplicated\n"
     ]
    }
   ],
   "source": [
    "try:\n",
    "    authors.insert_one(doc)\n",
    "except DuplicateKeyError as e:\n",
    "    print(e)\n",
    "    print('--> ', doc['author'], ' was duplicated')"
   ]
  },
  {
   "cell_type": "code",
   "execution_count": 48,
   "metadata": {},
   "outputs": [],
   "source": [
    "docs = [{\"author\": \"John\",                              \n",
    "           \"age\" : 29,\n",
    "           \"text\": \"Too bad! Strawberry\",\n",
    "           \"tags\": 'ice',\n",
    "           \"date\": '04.08.1971'},\n",
    "        { \"_id\": 234,\n",
    "           \"author\": \"Anna\",\n",
    "           \"age\" : 36,\n",
    "           \"title\": \"Hot Cool!!!\",\n",
    "           \"text\": \"easy too!\",\n",
    "           \"date\": '26.01.1995'},\n",
    "        {\"author\": \"Jane\",\n",
    "           \"age\" : 43,\n",
    "           \"title\": \"Nice book\",\n",
    "           \"text\": \"Pretty text not long\",\n",
    "           \"date\": '08.08.1975',\n",
    "           \"tags\":['fantastic', 'criminal']}]"
   ]
  },
  {
   "cell_type": "code",
   "execution_count": 49,
   "metadata": {
    "id": "o7cDKxeiDPFR"
   },
   "outputs": [
    {
     "name": "stdout",
     "output_type": "stream",
     "text": [
      "{'_id': ObjectId('62151ed2af9893927bb2bede'),\n",
      " 'age': 29,\n",
      " 'author': 'John',\n",
      " 'date': '04.08.1971',\n",
      " 'tags': 'ice',\n",
      " 'text': 'Too bad! Strawberry'}\n",
      "{'_id': 234,\n",
      " 'age': 36,\n",
      " 'author': 'Anna',\n",
      " 'date': '26.01.1995',\n",
      " 'text': 'easy too!',\n",
      " 'title': 'Hot Cool!!!'}\n",
      "{'_id': ObjectId('62151ed2af9893927bb2bedf'),\n",
      " 'age': 43,\n",
      " 'author': 'Jane',\n",
      " 'date': '08.08.1975',\n",
      " 'tags': ['fantastic', 'criminal'],\n",
      " 'text': 'Pretty text not long',\n",
      " 'title': 'Nice book'}\n"
     ]
    }
   ],
   "source": [
    "authors.insert_many(docs)\n",
    "show_coll()"
   ]
  },
  {
   "cell_type": "code",
   "execution_count": 23,
   "metadata": {},
   "outputs": [
    {
     "name": "stdout",
     "output_type": "stream",
     "text": [
      "{'_id': ObjectId('62151be0af9893927bb2bed8'),\n",
      " 'age': 38,\n",
      " 'author': 'Peter2',\n",
      " 'date': '14.06.1983',\n",
      " 'tags': ['cool', 'hot', 'ice'],\n",
      " 'text': 'is cool! Wildberry'}\n",
      "{'_id': ObjectId('62151bf4af9893927bb2bed9'),\n",
      " 'age': 38,\n",
      " 'author': 'Peter2',\n",
      " 'date': '14.06.1983',\n",
      " 'tags': ['cool', 'hot', 'ice'],\n",
      " 'text': 'is cool! Wildberry'}\n",
      "{'_id': '243245324',\n",
      " 'age': 38,\n",
      " 'author': 'Peter2',\n",
      " 'date': '14.06.1983',\n",
      " 'tags': ['cool', 'hot', 'ice'],\n",
      " 'text': 'is cool! Wildberry'}\n",
      "{'_id': ObjectId('62151ca7af9893927bb2beda'),\n",
      " 'age': 29,\n",
      " 'author': 'John',\n",
      " 'date': '04.08.1971',\n",
      " 'tags': 'ice',\n",
      " 'text': 'Too bad! Strawberry'}\n",
      "{'_id': 234,\n",
      " 'age': 36,\n",
      " 'author': 'Anna',\n",
      " 'date': '26.01.1995',\n",
      " 'text': 'easy too!',\n",
      " 'title': 'Hot Cool!!!'}\n",
      "{'_id': ObjectId('62151ca7af9893927bb2bedb'),\n",
      " 'age': 43,\n",
      " 'author': 'Jane',\n",
      " 'date': '08.08.1975',\n",
      " 'tags': ['fantastic', 'criminal'],\n",
      " 'text': 'Pretty text not long',\n",
      " 'title': 'Nice book'}\n"
     ]
    }
   ],
   "source": [
    "show_coll()"
   ]
  },
  {
   "cell_type": "code",
   "execution_count": 24,
   "metadata": {},
   "outputs": [
    {
     "data": {
      "text/plain": [
       "{'_id': ObjectId('62151be0af9893927bb2bed8'),\n",
       " 'author': 'Peter2',\n",
       " 'age': 38,\n",
       " 'text': 'is cool! Wildberry',\n",
       " 'tags': ['cool', 'hot', 'ice'],\n",
       " 'date': '14.06.1983'}"
      ]
     },
     "execution_count": 24,
     "metadata": {},
     "output_type": "execute_result"
    }
   ],
   "source": [
    "result = authors.find_one({})\n",
    "result"
   ]
  },
  {
   "cell_type": "code",
   "execution_count": 25,
   "metadata": {},
   "outputs": [
    {
     "name": "stdout",
     "output_type": "stream",
     "text": [
      "{'_id': ObjectId('62151be0af9893927bb2bed8'),\n",
      " 'age': 38,\n",
      " 'author': 'Peter2',\n",
      " 'date': '14.06.1983',\n",
      " 'tags': ['cool', 'hot', 'ice'],\n",
      " 'text': 'is cool! Wildberry'}\n",
      "{'_id': ObjectId('62151bf4af9893927bb2bed9'),\n",
      " 'age': 38,\n",
      " 'author': 'Peter2',\n",
      " 'date': '14.06.1983',\n",
      " 'tags': ['cool', 'hot', 'ice'],\n",
      " 'text': 'is cool! Wildberry'}\n",
      "{'_id': '243245324',\n",
      " 'age': 38,\n",
      " 'author': 'Peter2',\n",
      " 'date': '14.06.1983',\n",
      " 'tags': ['cool', 'hot', 'ice'],\n",
      " 'text': 'is cool! Wildberry'}\n"
     ]
    }
   ],
   "source": [
    "for doc in authors.find({'author': 'Peter2'}):\n",
    "    pprint(doc)"
   ]
  },
  {
   "cell_type": "code",
   "execution_count": 28,
   "metadata": {},
   "outputs": [],
   "source": [
    "# логическое и\n",
    "for doc in authors.find({'author': 'Peter2', 'age': 36}):\n",
    "    pprint(doc)"
   ]
  },
  {
   "cell_type": "code",
   "execution_count": 29,
   "metadata": {},
   "outputs": [
    {
     "name": "stdout",
     "output_type": "stream",
     "text": [
      "{'_id': ObjectId('62151be0af9893927bb2bed8'),\n",
      " 'age': 38,\n",
      " 'author': 'Peter2',\n",
      " 'date': '14.06.1983',\n",
      " 'tags': ['cool', 'hot', 'ice'],\n",
      " 'text': 'is cool! Wildberry'}\n",
      "{'_id': ObjectId('62151bf4af9893927bb2bed9'),\n",
      " 'age': 38,\n",
      " 'author': 'Peter2',\n",
      " 'date': '14.06.1983',\n",
      " 'tags': ['cool', 'hot', 'ice'],\n",
      " 'text': 'is cool! Wildberry'}\n",
      "{'_id': '243245324',\n",
      " 'age': 38,\n",
      " 'author': 'Peter2',\n",
      " 'date': '14.06.1983',\n",
      " 'tags': ['cool', 'hot', 'ice'],\n",
      " 'text': 'is cool! Wildberry'}\n",
      "{'_id': 234,\n",
      " 'age': 36,\n",
      " 'author': 'Anna',\n",
      " 'date': '26.01.1995',\n",
      " 'text': 'easy too!',\n",
      " 'title': 'Hot Cool!!!'}\n"
     ]
    }
   ],
   "source": [
    "# логическое или\n",
    "for doc in authors.find({'$or': [{'author': 'Peter2'}, {'age': 36}]}):\n",
    "    pprint(doc)"
   ]
  },
  {
   "cell_type": "code",
   "execution_count": 31,
   "metadata": {},
   "outputs": [
    {
     "name": "stdout",
     "output_type": "stream",
     "text": [
      "{'_id': ObjectId('62151ca7af9893927bb2beda'),\n",
      " 'age': 29,\n",
      " 'author': 'John',\n",
      " 'date': '04.08.1971',\n",
      " 'tags': 'ice',\n",
      " 'text': 'Too bad! Strawberry'}\n",
      "{'_id': 234,\n",
      " 'age': 36,\n",
      " 'author': 'Anna',\n",
      " 'date': '26.01.1995',\n",
      " 'text': 'easy too!',\n",
      " 'title': 'Hot Cool!!!'}\n"
     ]
    }
   ],
   "source": [
    "for doc in authors.find({'age': {'$gte':36}}): #$lte\n",
    "    pprint(doc)"
   ]
  },
  {
   "cell_type": "code",
   "execution_count": 32,
   "metadata": {},
   "outputs": [
    {
     "name": "stdout",
     "output_type": "stream",
     "text": [
      "{'_id': ObjectId('62151ca7af9893927bb2beda'),\n",
      " 'age': 29,\n",
      " 'author': 'John',\n",
      " 'date': '04.08.1971',\n",
      " 'tags': 'ice',\n",
      " 'text': 'Too bad! Strawberry'}\n",
      "{'_id': ObjectId('62151ca7af9893927bb2bedb'),\n",
      " 'age': 43,\n",
      " 'author': 'Jane',\n",
      " 'date': '08.08.1975',\n",
      " 'tags': ['fantastic', 'criminal'],\n",
      " 'text': 'Pretty text not long',\n",
      " 'title': 'Nice book'}\n"
     ]
    }
   ],
   "source": [
    "for doc in authors.find({'author': {'$regex': 'J.'}}):\n",
    "     pprint(doc)"
   ]
  },
  {
   "cell_type": "markdown",
   "metadata": {},
   "source": [
    "### Update"
   ]
  },
  {
   "cell_type": "code",
   "execution_count": 33,
   "metadata": {},
   "outputs": [
    {
     "name": "stdout",
     "output_type": "stream",
     "text": [
      "{'_id': ObjectId('62151be0af9893927bb2bed8'),\n",
      " 'age': 38,\n",
      " 'author': 'Petr',\n",
      " 'date': '14.06.1983',\n",
      " 'tags': ['cool', 'hot', 'ice'],\n",
      " 'text': 'is cool! Wildberry'}\n",
      "{'_id': ObjectId('62151bf4af9893927bb2bed9'),\n",
      " 'age': 38,\n",
      " 'author': 'Peter2',\n",
      " 'date': '14.06.1983',\n",
      " 'tags': ['cool', 'hot', 'ice'],\n",
      " 'text': 'is cool! Wildberry'}\n",
      "{'_id': '243245324',\n",
      " 'age': 38,\n",
      " 'author': 'Peter2',\n",
      " 'date': '14.06.1983',\n",
      " 'tags': ['cool', 'hot', 'ice'],\n",
      " 'text': 'is cool! Wildberry'}\n",
      "{'_id': ObjectId('62151ca7af9893927bb2beda'),\n",
      " 'age': 29,\n",
      " 'author': 'John',\n",
      " 'date': '04.08.1971',\n",
      " 'tags': 'ice',\n",
      " 'text': 'Too bad! Strawberry'}\n",
      "{'_id': 234,\n",
      " 'age': 36,\n",
      " 'author': 'Anna',\n",
      " 'date': '26.01.1995',\n",
      " 'text': 'easy too!',\n",
      " 'title': 'Hot Cool!!!'}\n",
      "{'_id': ObjectId('62151ca7af9893927bb2bedb'),\n",
      " 'age': 43,\n",
      " 'author': 'Jane',\n",
      " 'date': '08.08.1975',\n",
      " 'tags': ['fantastic', 'criminal'],\n",
      " 'text': 'Pretty text not long',\n",
      " 'title': 'Nice book'}\n"
     ]
    }
   ],
   "source": [
    "authors.update_one({'author':'Peter2'}, \n",
    "                   {'$set':{'author':'Petr'}})\n",
    "show_coll()"
   ]
  },
  {
   "cell_type": "code",
   "execution_count": 34,
   "metadata": {},
   "outputs": [
    {
     "name": "stdout",
     "output_type": "stream",
     "text": [
      "{'_id': ObjectId('62151be0af9893927bb2bed8'),\n",
      " 'age': 38,\n",
      " 'author': 'Petr',\n",
      " 'date': '14.06.1983',\n",
      " 'gender': 'male',\n",
      " 'tags': ['cool', 'hot', 'ice'],\n",
      " 'text': 'is cool! Wildberry'}\n",
      "{'_id': ObjectId('62151bf4af9893927bb2bed9'),\n",
      " 'age': 38,\n",
      " 'author': 'Peter2',\n",
      " 'date': '14.06.1983',\n",
      " 'tags': ['cool', 'hot', 'ice'],\n",
      " 'text': 'is cool! Wildberry'}\n",
      "{'_id': '243245324',\n",
      " 'age': 38,\n",
      " 'author': 'Peter2',\n",
      " 'date': '14.06.1983',\n",
      " 'tags': ['cool', 'hot', 'ice'],\n",
      " 'text': 'is cool! Wildberry'}\n",
      "{'_id': ObjectId('62151ca7af9893927bb2beda'),\n",
      " 'age': 29,\n",
      " 'author': 'John',\n",
      " 'date': '04.08.1971',\n",
      " 'tags': 'ice',\n",
      " 'text': 'Too bad! Strawberry'}\n",
      "{'_id': 234,\n",
      " 'age': 36,\n",
      " 'author': 'Anna',\n",
      " 'date': '26.01.1995',\n",
      " 'text': 'easy too!',\n",
      " 'title': 'Hot Cool!!!'}\n",
      "{'_id': ObjectId('62151ca7af9893927bb2bedb'),\n",
      " 'age': 43,\n",
      " 'author': 'Jane',\n",
      " 'date': '08.08.1975',\n",
      " 'tags': ['fantastic', 'criminal'],\n",
      " 'text': 'Pretty text not long',\n",
      " 'title': 'Nice book'}\n"
     ]
    }
   ],
   "source": [
    "authors.update_one({'author': 'Petr'}, {'$set': {'gender': 'male'}})\n",
    "show_coll()"
   ]
  },
  {
   "cell_type": "code",
   "execution_count": 35,
   "metadata": {},
   "outputs": [
    {
     "name": "stdout",
     "output_type": "stream",
     "text": [
      "{'_id': ObjectId('62151be0af9893927bb2bed8'),\n",
      " 'age': 38,\n",
      " 'author': 'Petr',\n",
      " 'date': '14.06.1983',\n",
      " 'tags': ['cool', 'hot', 'ice'],\n",
      " 'text': 'is cool! Wildberry'}\n",
      "{'_id': ObjectId('62151bf4af9893927bb2bed9'),\n",
      " 'age': 38,\n",
      " 'author': 'Peter2',\n",
      " 'date': '14.06.1983',\n",
      " 'tags': ['cool', 'hot', 'ice'],\n",
      " 'text': 'is cool! Wildberry'}\n",
      "{'_id': '243245324',\n",
      " 'age': 38,\n",
      " 'author': 'Peter2',\n",
      " 'date': '14.06.1983',\n",
      " 'tags': ['cool', 'hot', 'ice'],\n",
      " 'text': 'is cool! Wildberry'}\n",
      "{'_id': ObjectId('62151ca7af9893927bb2beda'),\n",
      " 'age': 29,\n",
      " 'author': 'John',\n",
      " 'date': '04.08.1971',\n",
      " 'tags': 'ice',\n",
      " 'text': 'Too bad! Strawberry'}\n",
      "{'_id': 234,\n",
      " 'age': 36,\n",
      " 'author': 'Anna',\n",
      " 'date': '26.01.1995',\n",
      " 'text': 'easy too!',\n",
      " 'title': 'Hot Cool!!!'}\n",
      "{'_id': ObjectId('62151ca7af9893927bb2bedb'),\n",
      " 'age': 43,\n",
      " 'author': 'Jane',\n",
      " 'date': '08.08.1975',\n",
      " 'tags': ['fantastic', 'criminal'],\n",
      " 'text': 'Pretty text not long',\n",
      " 'title': 'Nice book'}\n"
     ]
    }
   ],
   "source": [
    "authors.update_one({'author': 'Petr'}, {'$unset': {'gender': ''}})\n",
    "show_coll()"
   ]
  },
  {
   "cell_type": "code",
   "execution_count": 36,
   "metadata": {},
   "outputs": [],
   "source": [
    "new_data = {\n",
    "    \"author\": \"Andrey\",\n",
    "               \"age\" : 28,\n",
    "               \"text\": \"is hot!\",\n",
    "               \"date\": '11.09.1991'}"
   ]
  },
  {
   "cell_type": "code",
   "execution_count": 37,
   "metadata": {},
   "outputs": [
    {
     "name": "stdout",
     "output_type": "stream",
     "text": [
      "{'_id': ObjectId('62151be0af9893927bb2bed8'),\n",
      " 'age': 38,\n",
      " 'author': 'Petr',\n",
      " 'date': '14.06.1983',\n",
      " 'tags': ['cool', 'hot', 'ice'],\n",
      " 'text': 'is cool! Wildberry'}\n",
      "{'_id': ObjectId('62151bf4af9893927bb2bed9'),\n",
      " 'age': 28,\n",
      " 'author': 'Andrey',\n",
      " 'date': '11.09.1991',\n",
      " 'tags': ['cool', 'hot', 'ice'],\n",
      " 'text': 'is hot!'}\n",
      "{'_id': '243245324',\n",
      " 'age': 38,\n",
      " 'author': 'Peter2',\n",
      " 'date': '14.06.1983',\n",
      " 'tags': ['cool', 'hot', 'ice'],\n",
      " 'text': 'is cool! Wildberry'}\n",
      "{'_id': ObjectId('62151ca7af9893927bb2beda'),\n",
      " 'age': 29,\n",
      " 'author': 'John',\n",
      " 'date': '04.08.1971',\n",
      " 'tags': 'ice',\n",
      " 'text': 'Too bad! Strawberry'}\n",
      "{'_id': 234,\n",
      " 'age': 36,\n",
      " 'author': 'Anna',\n",
      " 'date': '26.01.1995',\n",
      " 'text': 'easy too!',\n",
      " 'title': 'Hot Cool!!!'}\n",
      "{'_id': ObjectId('62151ca7af9893927bb2bedb'),\n",
      " 'age': 43,\n",
      " 'author': 'Jane',\n",
      " 'date': '08.08.1975',\n",
      " 'tags': ['fantastic', 'criminal'],\n",
      " 'text': 'Pretty text not long',\n",
      " 'title': 'Nice book'}\n"
     ]
    }
   ],
   "source": [
    "authors.update_one({'author': 'Peter2'}, {'$set': new_data}) # осталось поле tag\n",
    "show_coll()                              "
   ]
  },
  {
   "cell_type": "code",
   "execution_count": 38,
   "metadata": {},
   "outputs": [
    {
     "name": "stdout",
     "output_type": "stream",
     "text": [
      "{'_id': ObjectId('62151be0af9893927bb2bed8'),\n",
      " 'age': 38,\n",
      " 'author': 'Petr',\n",
      " 'date': '14.06.1983',\n",
      " 'tags': ['cool', 'hot', 'ice'],\n",
      " 'text': 'is cool! Wildberry'}\n",
      "{'_id': ObjectId('62151bf4af9893927bb2bed9'),\n",
      " 'age': 28,\n",
      " 'author': 'Andrey',\n",
      " 'date': '11.09.1991',\n",
      " 'text': 'is hot!'}\n",
      "{'_id': '243245324',\n",
      " 'age': 38,\n",
      " 'author': 'Peter2',\n",
      " 'date': '14.06.1983',\n",
      " 'tags': ['cool', 'hot', 'ice'],\n",
      " 'text': 'is cool! Wildberry'}\n",
      "{'_id': ObjectId('62151ca7af9893927bb2beda'),\n",
      " 'age': 29,\n",
      " 'author': 'John',\n",
      " 'date': '04.08.1971',\n",
      " 'tags': 'ice',\n",
      " 'text': 'Too bad! Strawberry'}\n",
      "{'_id': 234,\n",
      " 'age': 36,\n",
      " 'author': 'Anna',\n",
      " 'date': '26.01.1995',\n",
      " 'text': 'easy too!',\n",
      " 'title': 'Hot Cool!!!'}\n",
      "{'_id': ObjectId('62151ca7af9893927bb2bedb'),\n",
      " 'age': 43,\n",
      " 'author': 'Jane',\n",
      " 'date': '08.08.1975',\n",
      " 'tags': ['fantastic', 'criminal'],\n",
      " 'text': 'Pretty text not long',\n",
      " 'title': 'Nice book'}\n"
     ]
    }
   ],
   "source": [
    "authors.replace_one({'author': 'Andrey'}, new_data) # полная замена\n",
    "show_coll()"
   ]
  },
  {
   "cell_type": "code",
   "execution_count": 43,
   "metadata": {},
   "outputs": [
    {
     "data": {
      "text/plain": [
       "<pymongo.results.UpdateResult at 0x7fb790aecd00>"
      ]
     },
     "execution_count": 43,
     "metadata": {},
     "output_type": "execute_result"
    }
   ],
   "source": [
    "# Если нужно изменить структуру БД:\n",
    "# authors.update_many({'author': 'Peter2'}, {'$set': new_data})\n",
    "# authors.replace_many({'author': 'John'}, new_data)"
   ]
  },
  {
   "cell_type": "code",
   "execution_count": 44,
   "metadata": {},
   "outputs": [
    {
     "name": "stdout",
     "output_type": "stream",
     "text": [
      "{'_id': ObjectId('62151be0af9893927bb2bed8'),\n",
      " 'age': 38,\n",
      " 'author': 'Petr',\n",
      " 'date': '14.06.1983',\n",
      " 'tags': ['cool', 'hot', 'ice'],\n",
      " 'text': 'is cool! Wildberry'}\n",
      "{'_id': ObjectId('62151bf4af9893927bb2bed9'),\n",
      " 'age': 28,\n",
      " 'author': 'Andrey',\n",
      " 'date': '11.09.1991',\n",
      " 'text': 'is hot!'}\n",
      "{'_id': '243245324',\n",
      " 'age': 28,\n",
      " 'author': 'Andrey',\n",
      " 'date': '11.09.1991',\n",
      " 'tags': ['cool', 'hot', 'ice'],\n",
      " 'text': 'is hot!'}\n",
      "{'_id': ObjectId('62151ca7af9893927bb2beda'),\n",
      " 'age': 29,\n",
      " 'author': 'John',\n",
      " 'date': '04.08.1971',\n",
      " 'tags': 'ice',\n",
      " 'text': 'Too bad! Strawberry'}\n",
      "{'_id': 234,\n",
      " 'age': 36,\n",
      " 'author': 'Anna',\n",
      " 'date': '26.01.1995',\n",
      " 'text': 'easy too!',\n",
      " 'title': 'Hot Cool!!!'}\n",
      "{'_id': ObjectId('62151ca7af9893927bb2bedb'),\n",
      " 'age': 43,\n",
      " 'author': 'Jane',\n",
      " 'date': '08.08.1975',\n",
      " 'tags': ['fantastic', 'criminal'],\n",
      " 'text': 'Pretty text not long',\n",
      " 'title': 'Nice book'}\n",
      "{'_id': ObjectId('62151e73af9893927bb2bedc'),\n",
      " 'age': 28,\n",
      " 'author': 'Andrey',\n",
      " 'date': '11.09.1991',\n",
      " 'tags': ['cool', 'hot', 'ice'],\n",
      " 'text': 'is hot!'}\n",
      "{'_id': ObjectId('62151e74af9893927bb2bedd'),\n",
      " 'age': 28,\n",
      " 'author': 'Andrey',\n",
      " 'date': '11.09.1991',\n",
      " 'tags': ['cool', 'hot', 'ice'],\n",
      " 'text': 'is hot!'}\n"
     ]
    }
   ],
   "source": [
    "show_coll()"
   ]
  },
  {
   "cell_type": "markdown",
   "metadata": {},
   "source": [
    "### Delete"
   ]
  },
  {
   "cell_type": "code",
   "execution_count": 45,
   "metadata": {},
   "outputs": [
    {
     "name": "stdout",
     "output_type": "stream",
     "text": [
      "{'_id': ObjectId('62151be0af9893927bb2bed8'),\n",
      " 'age': 38,\n",
      " 'author': 'Petr',\n",
      " 'date': '14.06.1983',\n",
      " 'tags': ['cool', 'hot', 'ice'],\n",
      " 'text': 'is cool! Wildberry'}\n",
      "{'_id': ObjectId('62151bf4af9893927bb2bed9'),\n",
      " 'age': 28,\n",
      " 'author': 'Andrey',\n",
      " 'date': '11.09.1991',\n",
      " 'text': 'is hot!'}\n",
      "{'_id': '243245324',\n",
      " 'age': 28,\n",
      " 'author': 'Andrey',\n",
      " 'date': '11.09.1991',\n",
      " 'tags': ['cool', 'hot', 'ice'],\n",
      " 'text': 'is hot!'}\n",
      "{'_id': 234,\n",
      " 'age': 36,\n",
      " 'author': 'Anna',\n",
      " 'date': '26.01.1995',\n",
      " 'text': 'easy too!',\n",
      " 'title': 'Hot Cool!!!'}\n",
      "{'_id': ObjectId('62151ca7af9893927bb2bedb'),\n",
      " 'age': 43,\n",
      " 'author': 'Jane',\n",
      " 'date': '08.08.1975',\n",
      " 'tags': ['fantastic', 'criminal'],\n",
      " 'text': 'Pretty text not long',\n",
      " 'title': 'Nice book'}\n",
      "{'_id': ObjectId('62151e73af9893927bb2bedc'),\n",
      " 'age': 28,\n",
      " 'author': 'Andrey',\n",
      " 'date': '11.09.1991',\n",
      " 'tags': ['cool', 'hot', 'ice'],\n",
      " 'text': 'is hot!'}\n",
      "{'_id': ObjectId('62151e74af9893927bb2bedd'),\n",
      " 'age': 28,\n",
      " 'author': 'Andrey',\n",
      " 'date': '11.09.1991',\n",
      " 'tags': ['cool', 'hot', 'ice'],\n",
      " 'text': 'is hot!'}\n"
     ]
    }
   ],
   "source": [
    "authors.delete_one({'author': 'John'})\n",
    "show_coll()"
   ]
  },
  {
   "cell_type": "code",
   "execution_count": 46,
   "metadata": {},
   "outputs": [
    {
     "data": {
      "text/plain": [
       "<pymongo.results.DeleteResult at 0x7fb790af19c0>"
      ]
     },
     "execution_count": 46,
     "metadata": {},
     "output_type": "execute_result"
    }
   ],
   "source": [
    "authors.delete_many({}) # останется пустая коллекция"
   ]
  },
  {
   "cell_type": "code",
   "execution_count": 47,
   "metadata": {},
   "outputs": [],
   "source": [
    "show_coll()"
   ]
  },
  {
   "cell_type": "code",
   "execution_count": 50,
   "metadata": {},
   "outputs": [
    {
     "data": {
      "text/plain": [
       "'search_index'"
      ]
     },
     "execution_count": 50,
     "metadata": {},
     "output_type": "execute_result"
    }
   ],
   "source": [
    "authors.create_index([('tags', pymongo.TEXT)], name='search_index', unique=True)"
   ]
  },
  {
   "cell_type": "code",
   "execution_count": null,
   "metadata": {},
   "outputs": [],
   "source": []
  }
 ],
 "metadata": {
  "colab": {
   "authorship_tag": "ABX9TyOGB7z+cNSnniUQPolhb4ML",
   "name": "Lesson3.ipynb",
   "provenance": []
  },
  "kernelspec": {
   "display_name": "Python 3 (ipykernel)",
   "language": "python",
   "name": "python3"
  },
  "language_info": {
   "codemirror_mode": {
    "name": "ipython",
    "version": 3
   },
   "file_extension": ".py",
   "mimetype": "text/x-python",
   "name": "python",
   "nbconvert_exporter": "python",
   "pygments_lexer": "ipython3",
   "version": "3.8.3"
  }
 },
 "nbformat": 4,
 "nbformat_minor": 1
}
