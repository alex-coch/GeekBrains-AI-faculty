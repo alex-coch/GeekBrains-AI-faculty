{
 "cells": [
  {
   "cell_type": "markdown",
   "id": "b87b45a3",
   "metadata": {},
   "source": [
    "[ссылка](https://www.ebay.com/) "
   ]
  },
  {
   "cell_type": "code",
   "execution_count": 2,
   "id": "ca257109",
   "metadata": {},
   "outputs": [],
   "source": [
    "import requests\n",
    "from lxml import html\n",
    "from pprint import pprint"
   ]
  },
  {
   "cell_type": "code",
   "execution_count": 3,
   "id": "824e3374",
   "metadata": {},
   "outputs": [],
   "source": [
    "header = {'User-Agent':'Mozilla/5.0 (Macintosh; Intel Mac OS X 10.15; rv:97.0) Gecko/20100101 Firefox/97.0'}\n",
    "url = 'https://ru.ebay.com/b/Fishing-Baits-Lures-Flies/179961/bn_1991492'"
   ]
  },
  {
   "cell_type": "code",
   "execution_count": 4,
   "id": "8ef51e09",
   "metadata": {},
   "outputs": [],
   "source": [
    "response = requests.get(url, headers=header)"
   ]
  },
  {
   "cell_type": "code",
   "execution_count": 5,
   "id": "ddc498ea",
   "metadata": {},
   "outputs": [],
   "source": [
    "dom = html.fromstring(response.text)"
   ]
  },
  {
   "cell_type": "code",
   "execution_count": 6,
   "id": "3e139f48",
   "metadata": {},
   "outputs": [
    {
     "data": {
      "text/plain": [
       "<Element html at 0x7fb722f434a0>"
      ]
     },
     "execution_count": 6,
     "metadata": {},
     "output_type": "execute_result"
    }
   ],
   "source": [
    "dom"
   ]
  },
  {
   "cell_type": "code",
   "execution_count": 7,
   "id": "dc873780",
   "metadata": {},
   "outputs": [
    {
     "data": {
      "text/plain": [
       "(48, <Element h3 at 0x7fb722eb04a0>)"
      ]
     },
     "execution_count": 7,
     "metadata": {},
     "output_type": "execute_result"
    }
   ],
   "source": [
    "names = dom.xpath(\"//h3[@class='s-item__title']\")\n",
    "len(names),names[0]"
   ]
  },
  {
   "cell_type": "code",
   "execution_count": 8,
   "id": "e58b0588",
   "metadata": {},
   "outputs": [
    {
     "data": {
      "text/plain": [
       "dict_keys([])"
      ]
     },
     "execution_count": 8,
     "metadata": {},
     "output_type": "execute_result"
    }
   ],
   "source": [
    "names[0].__dict__.keys()"
   ]
  },
  {
   "cell_type": "code",
   "execution_count": 9,
   "id": "8c6f3f1b",
   "metadata": {},
   "outputs": [
    {
     "data": {
      "text/plain": [
       "['__bool__',\n",
       " '__class__',\n",
       " '__contains__',\n",
       " '__copy__',\n",
       " '__deepcopy__',\n",
       " '__delattr__',\n",
       " '__delitem__',\n",
       " '__dict__',\n",
       " '__dir__',\n",
       " '__doc__',\n",
       " '__eq__',\n",
       " '__format__',\n",
       " '__ge__',\n",
       " '__getattribute__',\n",
       " '__getitem__',\n",
       " '__gt__',\n",
       " '__hash__',\n",
       " '__init__',\n",
       " '__init_subclass__',\n",
       " '__iter__',\n",
       " '__le__',\n",
       " '__len__',\n",
       " '__lt__',\n",
       " '__module__',\n",
       " '__ne__',\n",
       " '__new__',\n",
       " '__reduce__',\n",
       " '__reduce_ex__',\n",
       " '__repr__',\n",
       " '__reversed__',\n",
       " '__setattr__',\n",
       " '__setitem__',\n",
       " '__sizeof__',\n",
       " '__str__',\n",
       " '__subclasshook__',\n",
       " '__weakref__',\n",
       " '_init',\n",
       " 'addnext',\n",
       " 'addprevious',\n",
       " 'append',\n",
       " 'attrib',\n",
       " 'base',\n",
       " 'base_url',\n",
       " 'body',\n",
       " 'classes',\n",
       " 'clear',\n",
       " 'cssselect',\n",
       " 'drop_tag',\n",
       " 'drop_tree',\n",
       " 'extend',\n",
       " 'find',\n",
       " 'find_class',\n",
       " 'find_rel_links',\n",
       " 'findall',\n",
       " 'findtext',\n",
       " 'forms',\n",
       " 'get',\n",
       " 'get_element_by_id',\n",
       " 'getchildren',\n",
       " 'getiterator',\n",
       " 'getnext',\n",
       " 'getparent',\n",
       " 'getprevious',\n",
       " 'getroottree',\n",
       " 'head',\n",
       " 'index',\n",
       " 'insert',\n",
       " 'items',\n",
       " 'iter',\n",
       " 'iterancestors',\n",
       " 'iterchildren',\n",
       " 'iterdescendants',\n",
       " 'iterfind',\n",
       " 'iterlinks',\n",
       " 'itersiblings',\n",
       " 'itertext',\n",
       " 'keys',\n",
       " 'label',\n",
       " 'make_links_absolute',\n",
       " 'makeelement',\n",
       " 'nsmap',\n",
       " 'prefix',\n",
       " 'remove',\n",
       " 'replace',\n",
       " 'resolve_base_href',\n",
       " 'rewrite_links',\n",
       " 'set',\n",
       " 'sourceline',\n",
       " 'tag',\n",
       " 'tail',\n",
       " 'text',\n",
       " 'text_content',\n",
       " 'values',\n",
       " 'xpath']"
      ]
     },
     "execution_count": 9,
     "metadata": {},
     "output_type": "execute_result"
    }
   ],
   "source": [
    "dir(names[0])#[1:10]"
   ]
  },
  {
   "cell_type": "code",
   "execution_count": 10,
   "id": "74aa87c3",
   "metadata": {},
   "outputs": [
    {
     "data": {
      "text/plain": [
       "<Element body at 0x7fb722f438b0>"
      ]
     },
     "execution_count": 10,
     "metadata": {},
     "output_type": "execute_result"
    }
   ],
   "source": [
    "names[0].body"
   ]
  },
  {
   "cell_type": "code",
   "execution_count": 12,
   "id": "b51ddc00",
   "metadata": {},
   "outputs": [
    {
     "data": {
      "text/plain": [
       "['5pcs luya мягкой приманки искусственный Вьюн рыболовная приманка T-хвост мягкие приманки Bionic B-YY',\n",
       " '5 упаковок смешанного цвета 0.3 мм flashabou голографические блестки кристалл вспышка для вязания мушек',\n",
       " 'Jackall TN50 треугольник',\n",
       " 'Ямасита 10x 3.5 свечение в темноте погремушки кальмара рыболовные крючки кальмар Эги креветки приспособлений',\n",
       " '1PCS рыболовная приманка искусственные жесткие приманки щука карп приманка воблер джеркбейт']"
      ]
     },
     "execution_count": 12,
     "metadata": {},
     "output_type": "execute_result"
    }
   ],
   "source": [
    "names = dom.xpath(\"//h3[@class='s-item__title']/text()\")\n",
    "names[:5]"
   ]
  },
  {
   "cell_type": "code",
   "execution_count": 13,
   "id": "dc0943d9",
   "metadata": {},
   "outputs": [
    {
     "data": {
      "text/plain": [
       "(48,\n",
       " ['https://www.ebay.com/itm/284657329852?hash=item4246e626bc:g:420AAOSwy6NiB5hD',\n",
       "  'https://www.ebay.com/itm/323405778308?hash=item4b4c7c8d84:g:KxkAAOSwtltbesr3&var=512468439504',\n",
       "  'https://www.ebay.com/p/2132624694?iid=302943234178&var=601865766811',\n",
       "  'https://www.ebay.com/itm/312782673274?hash=item48d34cd57a:g:70cAAOSwYAVeko1h',\n",
       "  'https://www.ebay.com/itm/115266027907?hash=item1ad6640183:g:V24AAOSwfIJhSInm'])"
      ]
     },
     "execution_count": 13,
     "metadata": {},
     "output_type": "execute_result"
    }
   ],
   "source": [
    "# \n",
    "links = dom.xpath(\"//h3[@class='s-item__title']/../@href\")\n",
    "len(links), links[:5]"
   ]
  },
  {
   "cell_type": "code",
   "execution_count": 14,
   "id": "2d3e82b9",
   "metadata": {},
   "outputs": [
    {
     "data": {
      "text/plain": [
       "8"
      ]
     },
     "execution_count": 14,
     "metadata": {},
     "output_type": "execute_result"
    }
   ],
   "source": [
    "prices = dom.xpath(\"//span[@class='s-item__price']/text()\")\n",
    "len(prices)#, prices"
   ]
  },
  {
   "cell_type": "code",
   "execution_count": 15,
   "id": "c4e92f08",
   "metadata": {},
   "outputs": [
    {
     "data": {
      "text/plain": [
       "64"
      ]
     },
     "execution_count": 15,
     "metadata": {},
     "output_type": "execute_result"
    }
   ],
   "source": [
    "prices = dom.xpath(\"//span[@class='s-item__price']//text()\")\n",
    "len(prices)#, prices"
   ]
  },
  {
   "cell_type": "code",
   "execution_count": 16,
   "id": "05dab8e7",
   "metadata": {},
   "outputs": [
    {
     "data": {
      "text/plain": [
       "['482,11 руб.',\n",
       " '673,18 руб.',\n",
       " '1\\xa0768,47 руб.',\n",
       " '1\\xa0016,27 руб.',\n",
       " '37,07 руб.',\n",
       " '733,00 руб.',\n",
       " '588,93 руб.',\n",
       " '901,51 руб.',\n",
       " ' до ',\n",
       " '985,76 руб.',\n",
       " '167,66 руб.',\n",
       " '702,29 руб.',\n",
       " '110,74 руб.',\n",
       " '202,21 руб.',\n",
       " ' до ',\n",
       " '251,92 руб.',\n",
       " '373,62 руб.',\n",
       " ' до ',\n",
       " '495,35 руб.',\n",
       " '841,69 руб.',\n",
       " '673,18 руб.',\n",
       " '1\\xa0908,31 руб.',\n",
       " '327,74 руб.',\n",
       " '587,24 руб.',\n",
       " '391,51 руб.',\n",
       " ' до ',\n",
       " '2\\xa0908,32 руб.',\n",
       " '925,10 руб.',\n",
       " '454,12 руб.',\n",
       " ' до ',\n",
       " '504,68 руб.',\n",
       " '841,69 руб.',\n",
       " ' до ',\n",
       " '4\\xa0211,81 руб.',\n",
       " '467,26 руб.',\n",
       " '421,38 руб.',\n",
       " ' до ',\n",
       " '449,47 руб.',\n",
       " '841,69 руб.',\n",
       " '841,69 руб.',\n",
       " '336,17 руб.',\n",
       " '733,00 руб.',\n",
       " '445,70 руб.',\n",
       " '588,93 руб.',\n",
       " '454,75 руб.',\n",
       " '1\\xa0305,36 руб.',\n",
       " '504,68 руб.',\n",
       " '917,24 руб.',\n",
       " '671,15 руб.',\n",
       " '617,58 руб.',\n",
       " '626,00 руб.',\n",
       " ' до ',\n",
       " '795,35 руб.',\n",
       " '1\\xa0055,69 руб.',\n",
       " '294,96 руб.',\n",
       " '484,46 руб.',\n",
       " '1\\xa0094,45 руб.',\n",
       " '936,39 руб.',\n",
       " '2\\xa0247,33 руб.',\n",
       " '883,81 руб.',\n",
       " '2\\xa0796,47 руб.',\n",
       " '1\\xa0074,23 руб.',\n",
       " '673,18 руб.',\n",
       " '841,69 руб.']"
      ]
     },
     "execution_count": 16,
     "metadata": {},
     "output_type": "execute_result"
    }
   ],
   "source": [
    "prices"
   ]
  },
  {
   "cell_type": "code",
   "execution_count": 18,
   "id": "077233b4",
   "metadata": {},
   "outputs": [
    {
     "data": {
      "text/plain": [
       "20"
      ]
     },
     "execution_count": 18,
     "metadata": {},
     "output_type": "execute_result"
    }
   ],
   "source": [
    "add_infos = dom.xpath(\"//span[contains(@class,'s-item__hotness')]/span/text()\")\n",
    "len(add_infos)"
   ]
  },
  {
   "cell_type": "markdown",
   "id": "3fa3fb1f",
   "metadata": {},
   "source": [
    "### Изменим подход:"
   ]
  },
  {
   "cell_type": "code",
   "execution_count": 19,
   "id": "b1a8c841",
   "metadata": {},
   "outputs": [],
   "source": [
    "lights = []\n",
    "items = dom.xpath(\"//li[contains(@class,'s-item')]\")\n"
   ]
  },
  {
   "cell_type": "code",
   "execution_count": 21,
   "id": "468909b1",
   "metadata": {},
   "outputs": [],
   "source": [
    "for item in items:\n",
    "    light = {}\n",
    "\n",
    "    light['name'] = item.xpath(\"//h3[@class='s-item__title']/text()\")\n",
    "    light['link'] = item.xpath(\"//h3[@class='s-item__title']/../@href\")\n",
    "    light['price'] = item.xpath(\"//span[@class='s-item__price']//text()\")\n",
    "    light['add_info'] = item.xpath(\"//span[contains(@class,'s-item__hotness')]/span/text()\")\n",
    "\n",
    "    lights.append(light)\n",
    "\n",
    "# pprint(lights)"
   ]
  },
  {
   "cell_type": "code",
   "execution_count": 24,
   "id": "1cb935f4",
   "metadata": {},
   "outputs": [
    {
     "data": {
      "text/plain": [
       "(48,\n",
       " [{'name': '5pcs luya мягкой приманки искусственный Вьюн рыболовная приманка T-хвост мягкие приманки Bionic B-YY',\n",
       "   'link': 'https://www.ebay.com/itm/284657329852?hash=item4246e626bc:g:420AAOSwy6NiB5hD',\n",
       "   'price': ['482,11 руб.'],\n",
       "   'add_info': ['Отслеживающих: 3']},\n",
       "  {'name': '5 упаковок смешанного цвета 0.3 мм flashabou голографические блестки кристалл вспышка для вязания мушек',\n",
       "   'link': 'https://www.ebay.com/itm/323405778308?hash=item4b4c7c8d84:g:KxkAAOSwtltbesr3&var=512468439504',\n",
       "   'price': ['673,18 руб.'],\n",
       "   'add_info': ['189 продано']},\n",
       "  {'name': 'Jackall TN50 треугольник',\n",
       "   'link': 'https://www.ebay.com/p/2132624694?iid=302943234178&var=601865766811',\n",
       "   'price': ['1\\xa0768,47 руб.'],\n",
       "   'add_info': ['23 продано']}])"
      ]
     },
     "execution_count": 24,
     "metadata": {},
     "output_type": "execute_result"
    }
   ],
   "source": [
    "# add \".\"\n",
    "lights = []\n",
    "\n",
    "for item in items:\n",
    "    light = {}\n",
    "\n",
    "    light['name'] = item.xpath(\".//h3[@class='s-item__title']/text()\")[0]\n",
    "    light['link'] = item.xpath(\".//h3[@class='s-item__title']/../@href\")[0]\n",
    "    light['price'] = item.xpath(\".//span[@class='s-item__price']//text()\")\n",
    "    light['add_info'] = item.xpath(\".//span[contains(@class,'s-item__hotness')]/span/text()\")\n",
    "\n",
    "    lights.append(light)\n",
    "len(lights), lights[:3]"
   ]
  },
  {
   "cell_type": "code",
   "execution_count": null,
   "id": "2f71c0fa",
   "metadata": {},
   "outputs": [],
   "source": [
    "//div[contains(@class,'weather__icon') or @class='weather__temp'"
   ]
  },
  {
   "cell_type": "code",
   "execution_count": null,
   "id": "40771016",
   "metadata": {},
   "outputs": [],
   "source": []
  },
  {
   "cell_type": "code",
   "execution_count": null,
   "id": "c7ff227e",
   "metadata": {},
   "outputs": [],
   "source": []
  },
  {
   "cell_type": "markdown",
   "id": "ff112f08",
   "metadata": {},
   "source": [
    "# большой заголовок\n",
    "## заголовок\n",
    "### заголовок"
   ]
  },
  {
   "cell_type": "code",
   "execution_count": null,
   "id": "40592338",
   "metadata": {},
   "outputs": [],
   "source": []
  }
 ],
 "metadata": {
  "kernelspec": {
   "display_name": "Python 3 (ipykernel)",
   "language": "python",
   "name": "python3"
  },
  "language_info": {
   "codemirror_mode": {
    "name": "ipython",
    "version": 3
   },
   "file_extension": ".py",
   "mimetype": "text/x-python",
   "name": "python",
   "nbconvert_exporter": "python",
   "pygments_lexer": "ipython3",
   "version": "3.8.3"
  }
 },
 "nbformat": 4,
 "nbformat_minor": 5
}
