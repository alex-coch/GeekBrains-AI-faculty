{
 "cells": [
  {
   "cell_type": "markdown",
   "metadata": {
    "id": "y-NKXfLpIHyS"
   },
   "source": [
    "# Вебинар 3. Коллаборативная фильтрация"
   ]
  },
  {
   "cell_type": "markdown",
   "metadata": {
    "id": "2wqsdRrTIHyc"
   },
   "source": [
    "Исчерпывающую информацию с теорией, кодом и примерами можно найти в [статье](https://www.ethanrosenthal.com/2016/10/19/implicit-mf-part-1/)"
   ]
  },
  {
   "cell_type": "code",
   "execution_count": null,
   "metadata": {
    "colab": {
     "base_uri": "https://localhost:8080/"
    },
    "executionInfo": {
     "elapsed": 755,
     "status": "ok",
     "timestamp": 1611332959412,
     "user": {
      "displayName": "Георгий Дёмин",
      "photoUrl": "",
      "userId": "17069268476759705477"
     },
     "user_tz": -180
    },
    "id": "UT0Qfv9u7WYx",
    "outputId": "dcecbbff-5109-4218-db64-255644814cd7"
   },
   "outputs": [],
   "source": [
    "!unrar e src.rar"
   ]
  },
  {
   "cell_type": "markdown",
   "metadata": {
    "id": "6ovfF6vdIHyd"
   },
   "source": [
    "# 1. Матричная факторизация"
   ]
  },
  {
   "cell_type": "markdown",
   "metadata": {
    "id": "PvC1iGQgIHyd"
   },
   "source": [
    "Раскладываем user-item матрицу на 2: матрицу латентных факторов юзеров и матрицу латентных факторов товаров\n",
    "\n",
    "- латентый фактор = эмбеддинг (embedding)    "
   ]
  },
  {
   "cell_type": "markdown",
   "metadata": {
    "id": "6TAuWYOrIHye"
   },
   "source": [
    "![mf.png](attachment:mf.png)"
   ]
  },
  {
   "cell_type": "code",
   "execution_count": null,
   "metadata": {
    "id": "vajoskDnIHye"
   },
   "outputs": [],
   "source": [
    "(UхI) = (Uхk) * (kхI) "
   ]
  },
  {
   "cell_type": "markdown",
   "metadata": {
    "id": "wJxPaKgQIHyf"
   },
   "source": [
    "---"
   ]
  },
  {
   "cell_type": "markdown",
   "metadata": {
    "id": "_boxK1R8IHyf"
   },
   "source": [
    "## Alternating Least Squares (ALS)"
   ]
  },
  {
   "cell_type": "markdown",
   "metadata": {
    "id": "p4gLl-bhIHyg"
   },
   "source": [
    "![als_formula.png](attachment:als_formula.png)"
   ]
  },
  {
   "cell_type": "markdown",
   "metadata": {
    "id": "v5JZh2OlIHyg"
   },
   "source": [
    "$x_u^T$ - user embeddings  \n",
    "$y_i$ - item embeddings  \n",
    "$p_{ui}$ - 0/1. 1 - если в матрице user-item эдемент > 0 (было взаимодействие)  \n",
    "$c_{ui}$ - Вес ошибки = элемент матрицы user-item  \n",
    "$\\lambda_x$, $\\lambda_y$ - коэффициенты регуляризации  "
   ]
  },
  {
   "cell_type": "markdown",
   "metadata": {
    "id": "fMy8aBzGIHyg"
   },
   "source": [
    "**Алгоритм**  \n",
    "ALS - лишь способ оптимизации (поиска коэффициентов в эмбеддингах):  \n",
    "\n",
    "1. Фиксируем эмбеддинги юзеров $x_u^T$ --> легко посчитать производную по эмбеддингам товаров $y_i$\n",
    "2. Обновляем эмбеддинги товаров (делаем шаг по антиградиенту = градиентный спуск)\n",
    "3. Фиксируем эмбеддинги товаров $y_i$ --> легко посчитать производную по эмбеддингам юзеров $x_u^T$\n",
    "4. Обновляем эмбеддинги юзеров (делаем шаг по антиградиенту = градиентный спуск)\n",
    "5. Повторяем, пока процедура не сойдется"
   ]
  },
  {
   "cell_type": "markdown",
   "metadata": {
    "id": "7BIbRcukIHyh"
   },
   "source": [
    "**Плюсы**\n",
    "- Очень быстрый\n",
    "- В продакшене можно зафиксировать на весь день эмбеддинги товаров (товары за день не меняются), \n",
    "    и в реал-тайм обновлять эмбеддинги юзеров при покупке\n",
    "- Есть решуляризация $\\lambda_x$, $\\lambda_y$\n",
    "- Есть веса ошибок $с_{u_i}$ - элементы матрицы user-item\n",
    "- Библиотека implicit под капотом использует Cyton - очень быстро работает\n",
    "- Predict для *всех* юзеров можно сделать прост оперемножением 2-ух матриц - очень быстро\n",
    "- Можно применять различные **взвешивания** матрицы: TF-IDF, BM25, ... . Это сильно улучшает качество"
   ]
  },
  {
   "cell_type": "markdown",
   "metadata": {
    "id": "XvVWxLAcIHyh"
   },
   "source": [
    "### 1. Базовое применение"
   ]
  },
  {
   "cell_type": "code",
   "execution_count": null,
   "metadata": {
    "id": "gdbpCE-gIHyi"
   },
   "outputs": [],
   "source": [
    "import pandas as pd\n",
    "import numpy as np\n",
    "import matplotlib.pyplot as plt\n",
    "%matplotlib inline\n",
    "\n",
    "# Для работы с матрицами\n",
    "from scipy.sparse import csr_matrix\n",
    "\n",
    "# Матричная факторизация\n",
    "from implicit.als import AlternatingLeastSquares\n",
    "from implicit.nearest_neighbours import bm25_weight, tfidf_weight\n",
    "\n",
    "# Функции из 1-ого вебинара\n",
    "import os, sys\n",
    "\n",
    "module_path = os.path.abspath(os.path.join(os.pardir))\n",
    "if module_path not in sys.path:\n",
    "    sys.path.append(module_path)\n",
    "    \n",
    "from src.metrics import precision_at_k, recall_at_k"
   ]
  },
  {
   "cell_type": "code",
   "execution_count": null,
   "metadata": {
    "id": "2IhaU8JDIHyi",
    "outputId": "a3a22636-04a2-4ad4-9774-e0c5cbcd6a09"
   },
   "outputs": [],
   "source": [
    "data = pd.read_csv('../raw_data/transaction_data.csv')\n",
    "\n",
    "data.columns = [col.lower() for col in data.columns]\n",
    "data.rename(columns={'household_key': 'user_id',\n",
    "                    'product_id': 'item_id'},\n",
    "           inplace=True)\n",
    "\n",
    "\n",
    "test_size_weeks = 3\n",
    "\n",
    "data_train = data[data['week_no'] < data['week_no'].max() - test_size_weeks]\n",
    "data_test = data[data['week_no'] >= data['week_no'].max() - test_size_weeks]\n",
    "\n",
    "data_train.head(2)"
   ]
  },
  {
   "cell_type": "code",
   "execution_count": null,
   "metadata": {
    "id": "2Csvjg-jIHyk",
    "outputId": "75eeddbb-bdc1-401e-bfcf-6a66ae46b3a3"
   },
   "outputs": [],
   "source": [
    "item_features = pd.read_csv('../raw_data/product.csv')\n",
    "item_features.columns = [col.lower() for col in item_features.columns]\n",
    "item_features.rename(columns={'product_id': 'item_id'}, inplace=True)\n",
    "\n",
    "item_features.head(2)"
   ]
  },
  {
   "cell_type": "code",
   "execution_count": null,
   "metadata": {
    "id": "ZQna6TBQIHyk",
    "outputId": "7728607d-5b4d-4ce8-f30f-79072af648d2"
   },
   "outputs": [],
   "source": [
    "item_features.department.unique()"
   ]
  },
  {
   "cell_type": "code",
   "execution_count": null,
   "metadata": {
    "id": "vBJcGBpTIHyl",
    "outputId": "612dfe1f-286b-4d81-af92-721c6e317b6c"
   },
   "outputs": [],
   "source": [
    "result = data_test.groupby('user_id')['item_id'].unique().reset_index()\n",
    "result.columns=['user_id', 'actual']\n",
    "result.head(2)"
   ]
  },
  {
   "cell_type": "code",
   "execution_count": null,
   "metadata": {
    "id": "9dmp1II9IHyl"
   },
   "outputs": [],
   "source": [
    "popularity = data_train.groupby('item_id')['quantity'].sum().reset_index()\n",
    "popularity.rename(columns={'quantity': 'n_sold'}, inplace=True)\n",
    "\n",
    "top_5000 = popularity.sort_values('n_sold', ascending=False).head(5000).item_id.tolist()"
   ]
  },
  {
   "cell_type": "code",
   "execution_count": null,
   "metadata": {
    "id": "jvQ8_CJ9IHym",
    "outputId": "ebf07e9a-6f11-4aa9-d43d-98c0055ec42d"
   },
   "outputs": [],
   "source": [
    "# Заведем фиктивный item_id (если юзер покупал товары из топ-5000, то он \"купил\" такой товар)\n",
    "data_train.loc[~data_train['item_id'].isin(top_5000), 'item_id'] = 999999\n",
    "\n",
    "user_item_matrix = pd.pivot_table(data_train, \n",
    "                                  index='user_id', columns='item_id', \n",
    "                                  values='quantity', # Можно пробоват ьдругие варианты\n",
    "                                  aggfunc='count', \n",
    "                                  fill_value=0\n",
    "                                 )\n",
    "\n",
    "user_item_matrix = user_item_matrix.astype(float) # необходимый тип матрицы для implicit\n",
    "\n",
    "# переведем в формат saprse matrix\n",
    "sparse_user_item = csr_matrix(user_item_matrix).tocsr()\n",
    "\n",
    "user_item_matrix.head(3)"
   ]
  },
  {
   "cell_type": "code",
   "execution_count": null,
   "metadata": {
    "id": "TiPuXLb7IHym"
   },
   "outputs": [],
   "source": [
    "userids = user_item_matrix.index.values\n",
    "itemids = user_item_matrix.columns.values\n",
    "\n",
    "matrix_userids = np.arange(len(userids))\n",
    "matrix_itemids = np.arange(len(itemids))\n",
    "\n",
    "id_to_itemid = dict(zip(matrix_itemids, itemids))\n",
    "id_to_userid = dict(zip(matrix_userids, userids))\n",
    "\n",
    "itemid_to_id = dict(zip(itemids, matrix_itemids))\n",
    "userid_to_id = dict(zip(userids, matrix_userids))"
   ]
  },
  {
   "cell_type": "code",
   "execution_count": null,
   "metadata": {
    "colab": {
     "referenced_widgets": [
      "f86969ff8f854a2cb5128440a2a2734e"
     ]
    },
    "id": "3DlT5ppEIHyn",
    "outputId": "c5207262-0dfc-4e42-91bc-e9754aad1906"
   },
   "outputs": [],
   "source": [
    "%%time\n",
    "\n",
    "model = AlternatingLeastSquares(factors=100, \n",
    "                                regularization=0.001,\n",
    "                                iterations=15, \n",
    "                                calculate_training_loss=True, \n",
    "                                num_threads=4)\n",
    "\n",
    "model.fit(csr_matrix(user_item_matrix).T.tocsr(),  # На вход item-user matrix\n",
    "          show_progress=True)\n",
    "\n",
    "recs = model.recommend(userid=userid_to_id[2],  # userid - id от 0 до N\n",
    "                        user_items=csr_matrix(user_item_matrix).tocsr(),   # на вход user-item matrix\n",
    "                        N=5, # кол-во рекомендаций \n",
    "                        filter_already_liked_items=False, \n",
    "                        filter_items=None, \n",
    "                        recalculate_user=True)"
   ]
  },
  {
   "cell_type": "code",
   "execution_count": null,
   "metadata": {
    "id": "NJR0pKy4IHyn",
    "outputId": "f8ea5a18-2e98-43fe-9ec4-5a6f530bf258"
   },
   "outputs": [],
   "source": [
    "[id_to_itemid[rec[0]] for rec in recs]"
   ]
  },
  {
   "cell_type": "code",
   "execution_count": null,
   "metadata": {
    "id": "m2MhJPAcIHyo"
   },
   "outputs": [],
   "source": [
    "def get_recommendations(user, model, N=5):\n",
    "    res = [id_to_itemid[rec[0]] for rec in \n",
    "                    model.recommend(userid=userid_to_id[user], \n",
    "                                    user_items=sparse_user_item,   # на вход user-item matrix\n",
    "                                    N=N, \n",
    "                                    filter_already_liked_items=False, \n",
    "                                    filter_items=None, \n",
    "                                    recalculate_user=True)]\n",
    "    return res"
   ]
  },
  {
   "cell_type": "code",
   "execution_count": null,
   "metadata": {
    "id": "-zbMDYN4IHyo",
    "outputId": "a042ce17-abe1-4b75-aedb-53a3f5c8d839"
   },
   "outputs": [],
   "source": [
    "%%time\n",
    "    \n",
    "result['als'] = result['user_id'].apply(lambda x: get_recommendations(x, model=model, N=5))\n",
    "result.apply(lambda row: precision_at_k(row['als'], row['actual']), axis=1).mean()"
   ]
  },
  {
   "cell_type": "code",
   "execution_count": null,
   "metadata": {
    "id": "9TqsTlZEIHyp",
    "outputId": "e040c9f0-75ff-4b9d-ab7b-329e30dc5e09"
   },
   "outputs": [],
   "source": [
    "result.head(2)"
   ]
  },
  {
   "cell_type": "markdown",
   "metadata": {
    "id": "R1804WQGIHyp"
   },
   "source": [
    "### Embeddings"
   ]
  },
  {
   "cell_type": "code",
   "execution_count": null,
   "metadata": {
    "id": "_ULLM3KlIHyp",
    "outputId": "bb1f650b-2d1c-4618-9a20-698cc98e6181"
   },
   "outputs": [],
   "source": [
    "model.item_factors.shape"
   ]
  },
  {
   "cell_type": "code",
   "execution_count": null,
   "metadata": {
    "id": "s0uphbU-IHyq",
    "outputId": "5a316e3e-554c-4a06-acab-8e4b7db454ef"
   },
   "outputs": [],
   "source": [
    "model.user_factors.shape"
   ]
  },
  {
   "cell_type": "markdown",
   "metadata": {
    "id": "cf_zr75GIHyq"
   },
   "source": [
    "Можно очень быстро посчитать предсказания, перемножив эти 2 матрицы"
   ]
  },
  {
   "cell_type": "code",
   "execution_count": null,
   "metadata": {
    "id": "XzuTn_FEIHyq",
    "outputId": "6910419f-dc8a-445e-a90f-2b9ccc2fcd65"
   },
   "outputs": [],
   "source": [
    "fast_recs = model.user_factors @ model.item_factors.T \n",
    "fast_recs.shape"
   ]
  },
  {
   "cell_type": "code",
   "execution_count": null,
   "metadata": {
    "id": "V6d15toQIHyr"
   },
   "outputs": [],
   "source": [
    "import numpy as np\n",
    "import pandas as pd\n",
    "from matplotlib.pyplot import cm\n",
    "import pickle\n",
    "\n",
    "from scipy.spatial.distance import cdist\n",
    "\n",
    "from sklearn.decomposition import PCA\n",
    "from sklearn.manifold import TSNE\n",
    "\n",
    "import seaborn as sns\n",
    "\n",
    "\n",
    "def reduce_dims(df, dims=2, method='pca'):\n",
    "    \n",
    "    assert method in ['pca', 'tsne'], 'Неверно указан метод'\n",
    "    \n",
    "    if method=='pca':\n",
    "        pca = PCA(n_components=dims)\n",
    "        components = pca.fit_transform(df)\n",
    "    elif method == 'tsne':\n",
    "        tsne = TSNE(n_components=dims, learning_rate=250, random_state=42)\n",
    "        components = tsne.fit_transform(df)\n",
    "    else:\n",
    "        print('Error')\n",
    "        \n",
    "    colnames = ['component_' + str(i) for i in range(1, dims+1)]\n",
    "    return pd.DataFrame(data = components, columns = colnames) \n",
    "\n",
    "\n",
    "def display_components_in_2D_space(components_df, labels='category', marker='D'):\n",
    "    \n",
    "    groups = components_df.groupby(labels)\n",
    "\n",
    "    # Plot\n",
    "    fig, ax = plt.subplots(figsize=(12,8))\n",
    "    ax.margins(0.05) # Optional, just adds 5% padding to the autoscaling\n",
    "    for name, group in groups:\n",
    "        ax.plot(group.component_1, group.component_2, \n",
    "                marker='o', ms=6,\n",
    "                linestyle='',\n",
    "                alpha=0.7,\n",
    "                label=name)\n",
    "    ax.legend(loc='center left', bbox_to_anchor=(1.02, 0.5))\n",
    "\n",
    "    plt.xlabel('component_1')\n",
    "    plt.ylabel('component_2') \n",
    "    plt.show()"
   ]
  },
  {
   "cell_type": "code",
   "execution_count": null,
   "metadata": {
    "id": "Gbb8mdmQIHys",
    "outputId": "af54bb77-0188-4a4b-85bc-d0bb144c47fc"
   },
   "outputs": [],
   "source": [
    "model.item_factors.shape"
   ]
  },
  {
   "cell_type": "code",
   "execution_count": null,
   "metadata": {
    "id": "xhT9pq1kIHyt"
   },
   "outputs": [],
   "source": [
    "category = []\n",
    "\n",
    "for idx in range(model.item_factors.shape[0]):\n",
    "\n",
    "    try:\n",
    "        cat = item_features.loc[item_features['item_id'] == id_to_itemid[idx], 'department'].values[0]\n",
    "        category.append(cat)\n",
    "    except:\n",
    "        category.append('UNKNOWN')"
   ]
  },
  {
   "cell_type": "code",
   "execution_count": null,
   "metadata": {
    "id": "B8oxR_P0IHyt",
    "outputId": "9f7f6460-25fc-4d01-b1c0-37854888c692"
   },
   "outputs": [],
   "source": [
    "%%time\n",
    "item_emb_tsne = reduce_dims(model.item_factors, dims=2, method='tsne') # 5001 х 100  ---> 5001 x 2\n",
    "item_emb_tsne['category'] = category  # Добавляем категорию\n",
    "item_emb_tsne = item_emb_tsne[item_emb_tsne['category'] != 'UNKNOWN']\n",
    "\n",
    "display_components_in_2D_space(item_emb_tsne, labels='category')"
   ]
  },
  {
   "cell_type": "markdown",
   "metadata": {
    "id": "21LfCjpxIHyt"
   },
   "source": [
    "Нарисуем все, кроме GROCERY"
   ]
  },
  {
   "cell_type": "code",
   "execution_count": null,
   "metadata": {
    "id": "BNy3Fb1DIHyu",
    "outputId": "cd92302c-3a4e-4345-9c8e-e95a4fa44770"
   },
   "outputs": [],
   "source": [
    "display_components_in_2D_space(item_emb_tsne[item_emb_tsne['category'] != 'GROCERY'], labels='category')"
   ]
  },
  {
   "cell_type": "markdown",
   "metadata": {
    "id": "DxZJ7HCOIHyu"
   },
   "source": [
    "Нарисуем несколько конкретных категорий"
   ]
  },
  {
   "cell_type": "code",
   "execution_count": null,
   "metadata": {
    "id": "FeQlyTdTIHyu",
    "outputId": "e6aab935-1525-4202-b2a4-f2a352fd17e3"
   },
   "outputs": [],
   "source": [
    "interesting_cats = ['PASTRY', 'PRODUCE', 'DRUG GM', 'FLORAL']\n",
    "\n",
    "display_components_in_2D_space(item_emb_tsne[item_emb_tsne['category'].isin(interesting_cats)], \n",
    "                                             labels='category')"
   ]
  },
  {
   "cell_type": "markdown",
   "metadata": {
    "id": "eelXXrgiIHyv"
   },
   "source": [
    "На самом деле, я бы сказал, что **результат средний**:\n",
    "- Модель выучила похожесть только небольшой части товаров"
   ]
  },
  {
   "cell_type": "code",
   "execution_count": null,
   "metadata": {
    "id": "xK9UDIfsIHyv",
    "outputId": "ef3fab8f-4734-4ad1-e47a-f7400e19ca81"
   },
   "outputs": [],
   "source": [
    "item_emb_tsne.head(2)"
   ]
  },
  {
   "cell_type": "markdown",
   "metadata": {
    "id": "EQOQN7D5IHyw"
   },
   "source": [
    "recommend_all делает перемножение, но еще и сортирует и выбирает топ-N"
   ]
  },
  {
   "cell_type": "code",
   "execution_count": null,
   "metadata": {
    "colab": {
     "referenced_widgets": [
      "7d500b748414417f93b8f936f582ba96"
     ]
    },
    "id": "s8sUJSCzIHyw",
    "outputId": "192a9709-cc88-4492-d321-8e2063e1ec67"
   },
   "outputs": [],
   "source": [
    "%%time\n",
    "recommendations = model.recommend_all(N=5, \n",
    "                                      user_items=csr_matrix(user_item_matrix).tocsr(),\n",
    "                                      filter_already_liked_items=True, \n",
    "                                      filter_items=None, \n",
    "                                      recalculate_user=True,\n",
    "                                      show_progress=True,\n",
    "                                      batch_size=500)"
   ]
  },
  {
   "cell_type": "code",
   "execution_count": null,
   "metadata": {
    "id": "ZqpPTlojIHyx"
   },
   "outputs": [],
   "source": [
    "item_1 = model.item_factors[1]\n",
    "item_2 = model.item_factors[2]"
   ]
  },
  {
   "cell_type": "markdown",
   "metadata": {
    "id": "IDtmV7QxIHyx"
   },
   "source": [
    "*Посмотрите также / Похожие товары*"
   ]
  },
  {
   "cell_type": "code",
   "execution_count": null,
   "metadata": {
    "id": "FG43lphYIHyx",
    "outputId": "c548ef47-f17c-4000-a4cf-3826e088f08b"
   },
   "outputs": [],
   "source": [
    "model.similar_items(1, N=5)"
   ]
  },
  {
   "cell_type": "markdown",
   "metadata": {
    "id": "z3kvH35nIHyy"
   },
   "source": [
    "*Вашим друзьям нравится / Похожим пользователям нравится / ...*"
   ]
  },
  {
   "cell_type": "markdown",
   "metadata": {
    "id": "I6pbr6dUIHyy"
   },
   "source": [
    "Пользователь --> похожих пользовтелей --> рекомендовать те товары, которые купили похожие юзеры"
   ]
  },
  {
   "cell_type": "code",
   "execution_count": null,
   "metadata": {
    "id": "StEG6KrkIHyy",
    "outputId": "78aef638-88ce-4a7f-d430-3fef25cdbc12"
   },
   "outputs": [],
   "source": [
    "model.similar_users(userid_to_id[10], N=5)"
   ]
  },
  {
   "cell_type": "markdown",
   "metadata": {
    "id": "dpSbiUfUIHyz"
   },
   "source": [
    "### 2. TF-IDF взвешивание"
   ]
  },
  {
   "cell_type": "code",
   "execution_count": null,
   "metadata": {
    "id": "4hA_6DX7IHyz"
   },
   "outputs": [],
   "source": [
    "user_item_matrix = tfidf_weight(user_item_matrix.T).T  # Применяется к item-user матрице ! "
   ]
  },
  {
   "cell_type": "code",
   "execution_count": null,
   "metadata": {
    "colab": {
     "referenced_widgets": [
      "6fee8130b62245e0b0a0597124b6c3ac"
     ]
    },
    "id": "baK0yoTwIHyz",
    "outputId": "16a60037-5061-44f4-9f7e-8a431bb55b43"
   },
   "outputs": [],
   "source": [
    "%%time\n",
    "\n",
    "model = AlternatingLeastSquares(factors=100, \n",
    "                                regularization=0.001,\n",
    "                                iterations=15, \n",
    "                                calculate_training_loss=True, \n",
    "                                num_threads=4)\n",
    "\n",
    "model.fit(csr_matrix(user_item_matrix).T.tocsr(),  # На вход item-user matrix\n",
    "          show_progress=True)\n",
    "\n",
    "result['als_tfidf'] = result['user_id'].apply(lambda x: get_recommendations(x, model=model, N=5))\n",
    "\n",
    "result.apply(lambda row: precision_at_k(row['als_tfidf'], row['actual']), axis=1).mean()"
   ]
  },
  {
   "cell_type": "markdown",
   "metadata": {
    "id": "6Xw80BaLIHyz"
   },
   "source": [
    "### 3. BM25 взвешивание"
   ]
  },
  {
   "cell_type": "code",
   "execution_count": null,
   "metadata": {
    "id": "CyNl4rkjIHy0",
    "outputId": "067712af-e22d-4b99-a418-747ee026b72d"
   },
   "outputs": [],
   "source": [
    "# Заведем фиктивный item_id (если юзер покупал товары из топ-5000, то он \"купил\" такой товар)\n",
    "data_train.loc[~data_train['item_id'].isin(top_5000), 'item_id'] = 999999\n",
    "\n",
    "user_item_matrix = pd.pivot_table(data_train, \n",
    "                                  index='user_id', columns='item_id', \n",
    "                                  values='quantity', # Можно пробоват ьдругие варианты\n",
    "                                  aggfunc='count', \n",
    "                                  fill_value=0\n",
    "                                 )\n",
    "\n",
    "user_item_matrix = user_item_matrix.astype(float) # необходимый тип матрицы для implicit\n",
    "\n",
    "# переведем в формат saprse matrix\n",
    "sparse_user_item = csr_matrix(user_item_matrix).tocsr()\n",
    "\n",
    "user_item_matrix.head(3)"
   ]
  },
  {
   "cell_type": "code",
   "execution_count": null,
   "metadata": {
    "id": "0yalYjMvIHy0"
   },
   "outputs": [],
   "source": [
    "user_item_matrix = bm25_weight(user_item_matrix.T).T  # Применяется к item-user матрице ! "
   ]
  },
  {
   "cell_type": "code",
   "execution_count": null,
   "metadata": {
    "colab": {
     "referenced_widgets": [
      "4ed4a23e566645f49a4257ead85d177a"
     ]
    },
    "id": "aixME0BeIHy0",
    "outputId": "8777a5af-c636-4e2b-e315-eb413f7ba346"
   },
   "outputs": [],
   "source": [
    "%%time\n",
    "\n",
    "model = AlternatingLeastSquares(factors=100, \n",
    "                                regularization=0.001,\n",
    "                                iterations=15, \n",
    "                                calculate_training_loss=True, \n",
    "                                num_threads=4) # K - кол-во билжайших соседей\n",
    "\n",
    "model.fit(csr_matrix(user_item_matrix).T.tocsr(),  # На вход item-user matrix\n",
    "          show_progress=True)\n",
    "\n",
    "result['als_bm25'] = result['user_id'].apply(lambda x: get_recommendations(x, model=model, N=5))\n",
    "\n",
    "result.apply(lambda row: precision_at_k(row['als_bm25'], row['actual']), axis=1).mean()"
   ]
  },
  {
   "cell_type": "code",
   "execution_count": null,
   "metadata": {
    "id": "eq8DV_vtIHy1"
   },
   "outputs": [],
   "source": [
    "result.to_csv('../predictions/predictions_cf.csv', index=False)  # cf - collaborative filtering"
   ]
  },
  {
   "cell_type": "markdown",
   "metadata": {
    "id": "749_a1hBIHy1"
   },
   "source": [
    "## 4. Важно искать оптимальные параметры"
   ]
  },
  {
   "cell_type": "markdown",
   "metadata": {
    "id": "mBdRhScQIHy1"
   },
   "source": [
    "- regularization, iterations\n",
    "- factors\n",
    "- Вес (элемент в матрице user-item)"
   ]
  },
  {
   "cell_type": "code",
   "execution_count": null,
   "metadata": {},
   "outputs": [],
   "source": [
    "for _factors in [100, 200, 300]:\n",
    "    for _regularizat_ion in [0.001, 0.01, 0.1]:\n",
    "        for _iter_  for _iteions in [10, 15, 20]:\n",
    "\n",
    "            model = AlternatingLeastSquares(factors=_factors, \n",
    "                                            regularization=_regularization,\n",
    "                                            iterations=_iterations, \n",
    "                                            calculate_training_loss=True, \n",
    "                                            num_threads=4) # K - кол-во билжайших соседей\n",
    "\n",
    "            model.fit(csr_matrix(user_item_matrix).T.tocsr(),  #print( На вход item-user matrix\n",
    "                      show_progress=True)\n",
    "\n",
    "            result['als_bm25'] = result['user_id'].apply(lambda x: get_recommendations(x, model=model, N=5))\n",
    "\n",
    "            print(result.apply(lambda row: precision_at_k(row['als_bm25'], row['actual']), axis=1).mean())"
   ]
  },
  {
   "cell_type": "markdown",
   "metadata": {
    "id": "aTJVsOhrIHy1"
   },
   "source": [
    "-----"
   ]
  },
  {
   "cell_type": "markdown",
   "metadata": {
    "id": "IgTrX7hAIHy2"
   },
   "source": [
    "# Production"
   ]
  },
  {
   "cell_type": "markdown",
   "metadata": {
    "id": "_BlVIuo8IHy2"
   },
   "source": [
    "Начиная с этого вебинара, мы будем строить *базовое решение* для системы рекомендаций топ-N товаров. В финальном проекте вам нужно будет его сущесвтенно улучшить.  \n",
    "  \n",
    "**Ситуация**: Вы работает data scientist в крупном продуктовом российском ритейлере iFood. Ваш конкурент сделал рекомендательную систему, и его продажи выросли. Ваш менеджмент тоже хочет увеличить продажи   \n",
    "**Задача со слов менеджера**: Сделайте рекомендательную систему топ-10 товаров для рассылки по e-mail"
   ]
  },
  {
   "cell_type": "markdown",
   "metadata": {
    "id": "0O0XT3Y5IHy2"
   },
   "source": [
    "**Ожидание:**\n",
    "- Отправляем e-mail с топ-10 товарами, отсортированными по вероятности\n",
    "\n",
    "**Реальность:**\n",
    "- Чего хочет менеджер от рекомендательной системы? (рост показателя X на Y% за Z недель)\n",
    "- По-хорошему надо бы предварительно посчитать потенциальный эффект от рекоммендательной системы (Оценки эффектов у менеджера и у вас могут сильно не совпадать: как правило, вы знаете про данные больше)\n",
    "- А у нас вообще есть e-mail-ы пользователей? Для скольки %? Не устарели ли они?\n",
    "- Будем ли использовать СМС и push-уведомления в приложении? Может, будем печатать рекомендации на чеке после оплаты на кассе?\n",
    "- Как будет выглядеть e-mail? (решаем задачу топ-10 рекомендаций или ранжирования? И топ-10 ли?)\n",
    "- Какие товары должны быть в e-mail? Есть ли какие-то ограничения (только акции и т п)?\n",
    "- Сколько денег мы готовы потратить на привлечение 1 юзера? CAC - Customer Aquisition Cost. Обычно CAC = расходы на коммуникацию + расходы на скидки\n",
    "- Cколько мы хотим зарабатывать с одного привлеченного юзера?\n",
    "---\n",
    "- А точно нужно сортировать по вероятности?\n",
    "- Какую метрику использовать?\n",
    "- Сколько раз в неделю отпрпавляем рассылку?\n",
    "- В какое время отправляем рассылку?\n",
    "- Будем отправлять одному юзеру много раз наши рекоммендации. Как добиться того, чтобы они хоть немного отличались?\n",
    "- Нужно ли, чтобы в одной рассылке были *разные* товары? Как определить, что товары *разные*? Как добиться того, чтобы они были разными?\n",
    "- И многое другое:)"
   ]
  },
  {
   "cell_type": "markdown",
   "metadata": {
    "id": "QQN2KT7JIHy2"
   },
   "source": [
    "**В итоге договорились, что:**\n",
    "- Хотим повысить выручку минимум на 6% за 4 месяца. Будем повышать за счет роста Retention минимум на  3% и среднего чека минимум на 3%\n",
    "- Топ-5 товаров, а не топ-10 (В e-mail 10 выглядят не красиво, в push и на чек больше 5 не влязает)\n",
    "- Рассылаем в e-mail (5% клиентов) и push-уведомлении (20% клиентов), печатаем на чеке (все оффлайн клиенты)\n",
    "- **3 товара с акцией** (Как это учесть? А если на товар была акция 10%, а потом 50%, что будет стоять в user-item матрице?)\n",
    "- **1 новый товар** (юзер никогда не покупал. Просто фильтруем аутпут ALS? А если у таких товаров очень маленькая вероятность покупки? Может, использовать другую логику/модель?) \n",
    "- **1 товар для роста среднего чека** (товары минимум дороже чем обычно покупает юзер. Как это измерить? На сколько дороже?)"
   ]
  },
  {
   "cell_type": "markdown",
   "metadata": {
    "id": "TJVGydM9IHy2"
   },
   "source": [
    "Вопросов стало еще больше. Поэтому сначала делаем **MVP** (Minimum viable product) на e-mail. Показываем его менеджеру, измеряем метрики на юзерах. По фидбеку и метрикам делаем улучшения MVP и раскатываем его на push-уведомления и чеки\n",
    "\n",
    "*Data Science проект* - итеративный процесс!"
   ]
  },
  {
   "cell_type": "code",
   "execution_count": null,
   "metadata": {
    "id": "rA7g4mL8IHy3",
    "outputId": "ecf022e0-c283-4cb8-ccec-611f9cdbedad"
   },
   "outputs": [],
   "source": [
    "data_train.head(2)"
   ]
  },
  {
   "cell_type": "code",
   "execution_count": null,
   "metadata": {
    "id": "Ng_OBqaJIHy3",
    "outputId": "9b8bd811-80b7-47f1-bf70-58c51c48fc17"
   },
   "outputs": [],
   "source": [
    "data_train['price'] = data_train['sales_value'] / (np.maximum(data_train['quantity'], 1))\n",
    "data_train['price'].max()"
   ]
  },
  {
   "cell_type": "code",
   "execution_count": null,
   "metadata": {
    "id": "fO-CqBT4IHy3",
    "outputId": "5fad70dd-f1ae-4cb2-9e1f-dab3484d4919"
   },
   "outputs": [],
   "source": [
    "# < 1$\n",
    "data_train['price'].quantile(0.20)"
   ]
  },
  {
   "cell_type": "code",
   "execution_count": null,
   "metadata": {
    "id": "3kBJJ2s3IHy4",
    "outputId": "253ef171-4dd8-42f8-c912-9deb792dd597"
   },
   "outputs": [],
   "source": [
    "# > 100$\n",
    "data_train['price'].quantile(0.99995)"
   ]
  },
  {
   "cell_type": "code",
   "execution_count": null,
   "metadata": {
    "id": "oAK7h-0CIHy4"
   },
   "outputs": [],
   "source": [
    "def prefilter_items(data):\n",
    "    # Уберем самые популярные товары (их и так купят)\n",
    "    popularity = data_train.groupby('item_id')['user_id'].nunique().reset_index() / data_train['user_id'].nunique()\n",
    "    popularity.rename(columns={'user_id': 'share_unique_users'}, inplace=True)\n",
    "    \n",
    "    top_popular = popularity[popularity['share_unique_users'] > 0.5].item_id.tolist()\n",
    "    data = data[~data['item_id'].isin(top_popular)]\n",
    "    \n",
    "    # Уберем самые НЕ популярные товары (их и так НЕ купят)\n",
    "    top_notpopular = popularity[popularity['share_unique_users'] < 0.01].item_id.tolist()\n",
    "    data = data[~data['item_id'].isin(top_notpopular)]\n",
    "    \n",
    "    # Уберем товары, которые не продавались за последние 12 месяцев\n",
    "    \n",
    "    # Уберем не интересные для рекоммендаций категории (department)\n",
    "    \n",
    "    # Уберем слишком дешевые товары (на них не заработаем). 1 покупка из рассылок стоит 60 руб. \n",
    "    \n",
    "    # Уберем слишком дорогие товарыs\n",
    "    \n",
    "    # ...\n",
    "    \n",
    "def postfilter_items(user_id, recommednations):\n",
    "    pass"
   ]
  },
  {
   "cell_type": "markdown",
   "metadata": {
    "id": "OqYWeY14IHy4"
   },
   "source": [
    "Все эти функции отправим затем в *src.utils*"
   ]
  },
  {
   "cell_type": "markdown",
   "metadata": {
    "id": "sYnE0VsPIHy5"
   },
   "source": [
    "----"
   ]
  }
 ],
 "metadata": {
  "colab": {
   "name": "webinar_3.ipynb",
   "provenance": [],
   "toc_visible": true
  },
  "kernelspec": {
   "display_name": "Python 3 (ipykernel)",
   "language": "python",
   "name": "python3"
  },
  "language_info": {
   "codemirror_mode": {
    "name": "ipython",
    "version": 3
   },
   "file_extension": ".py",
   "mimetype": "text/x-python",
   "name": "python",
   "nbconvert_exporter": "python",
   "pygments_lexer": "ipython3",
   "version": "3.9.16"
  }
 },
 "nbformat": 4,
 "nbformat_minor": 1
}
