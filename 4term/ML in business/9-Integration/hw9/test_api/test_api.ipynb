{
 "cells": [
  {
   "cell_type": "markdown",
   "metadata": {},
   "source": [
    "### Проверка того, что наше API  CardioSpike работает\n",
    "\n",
    "Сервис **CardioSpike** по предсказанию COVID-19 аномалий в ритме сердца установлен на стандартный хостинг в\n",
    "режиме Virtual Private Server (https://en.wikipedia.org/wiki/Virtual_private_server).\n",
    "В данной конфигурации архитектура не подразумевает разделения на компоненты Front и API Backend.\n",
    "Однако допустимо например запустить 2 копии сервера, чтобы 1 сервер был в роли Front,\n",
    "а второй в роли API Backend.\n",
    "\n",
    "- Адрес сервера: server5.hosting.reg.ru\n",
    "- IP адрес: 31.31.198.106\n",
    "- Основной тестируемый API http://localhost:5000/predict [POST]\n",
    "\n",
    "Формат передаваемых данных:\n",
    "``{'id': [ id0, id1, ... ], 'x': [x0, x1, ...]}``, где\n",
    "- id - идентификатор пациента\n",
    "- x - измерения пульса R-R\n",
    "\n",
    "Преобразования данных:\n",
    "- Сериализация в строку JSON - ``json.dumps``\n",
    "- Кодирование в utf-8 - ``str.encode('utf-8')``"
   ]
  },
  {
   "cell_type": "code",
   "execution_count": 42,
   "metadata": {
    "pycharm": {
     "name": "#%%\n"
    }
   },
   "outputs": [],
   "source": [
    "SERVER_ENDPOINT = 'http://localhost:5000/predict'"
   ]
  },
  {
   "cell_type": "code",
   "execution_count": 43,
   "metadata": {},
   "outputs": [],
   "source": [
    "import pandas as pd\n",
    "from sklearn.metrics import f1_score\n",
    "from urllib import request"
   ]
  },
  {
   "cell_type": "markdown",
   "metadata": {
    "pycharm": {
     "name": "#%% md\n"
    }
   },
   "source": [
    "Загрузка данных для тестирвоания"
   ]
  },
  {
   "cell_type": "code",
   "execution_count": 44,
   "metadata": {},
   "outputs": [
    {
     "data": {
      "text/html": [
       "<div>\n",
       "<style scoped>\n",
       "    .dataframe tbody tr th:only-of-type {\n",
       "        vertical-align: middle;\n",
       "    }\n",
       "\n",
       "    .dataframe tbody tr th {\n",
       "        vertical-align: top;\n",
       "    }\n",
       "\n",
       "    .dataframe thead th {\n",
       "        text-align: right;\n",
       "    }\n",
       "</style>\n",
       "<table border=\"1\" class=\"dataframe\">\n",
       "  <thead>\n",
       "    <tr style=\"text-align: right;\">\n",
       "      <th></th>\n",
       "      <th>id</th>\n",
       "      <th>x</th>\n",
       "    </tr>\n",
       "  </thead>\n",
       "  <tbody>\n",
       "    <tr>\n",
       "      <th>0</th>\n",
       "      <td>1</td>\n",
       "      <td>800</td>\n",
       "    </tr>\n",
       "    <tr>\n",
       "      <th>1</th>\n",
       "      <td>1</td>\n",
       "      <td>780</td>\n",
       "    </tr>\n",
       "    <tr>\n",
       "      <th>2</th>\n",
       "      <td>1</td>\n",
       "      <td>792</td>\n",
       "    </tr>\n",
       "    <tr>\n",
       "      <th>3</th>\n",
       "      <td>1</td>\n",
       "      <td>820</td>\n",
       "    </tr>\n",
       "    <tr>\n",
       "      <th>4</th>\n",
       "      <td>1</td>\n",
       "      <td>804</td>\n",
       "    </tr>\n",
       "  </tbody>\n",
       "</table>\n",
       "</div>"
      ],
      "text/plain": [
       "   id    x\n",
       "0   1  800\n",
       "1   1  780\n",
       "2   1  792\n",
       "3   1  820\n",
       "4   1  804"
      ]
     },
     "execution_count": 44,
     "metadata": {},
     "output_type": "execute_result"
    }
   ],
   "source": [
    "df = pd.read_csv('data/train.csv')\n",
    "X_test = df[['id', 'x']]\n",
    "y_test = df['y']\n",
    "X_test.head()"
   ]
  },
  {
   "cell_type": "code",
   "execution_count": 45,
   "metadata": {},
   "outputs": [],
   "source": [
    "import urllib.request\n",
    "import json\n",
    "\n",
    "\n",
    "def get_prediction(id_, x):\n",
    "    body = {'id': id_, 'x': x}\n",
    "    jsondata = json.dumps(body)\n",
    "    jsondataasbytes = jsondata.encode('utf-8')  # needs to be bytes\n",
    "\n",
    "    req = urllib.request.Request(SERVER_ENDPOINT)\n",
    "    req.add_header('Content-Type', 'application/json; charset=utf-8')\n",
    "    req.add_header('Content-Length', len(jsondataasbytes))\n",
    "\n",
    "    response = urllib.request.urlopen(req, jsondataasbytes)\n",
    "\n",
    "    data = json.loads(response.read())\n",
    "\n",
    "    return (data['predictions']), (data['diagnosis']), (data['pattern_per_5minute'])"
   ]
  },
  {
   "cell_type": "markdown",
   "metadata": {
    "pycharm": {
     "name": "#%% md\n"
    }
   },
   "source": [
    "Подготовка данных. Выборка для пациента id=3"
   ]
  },
  {
   "cell_type": "code",
   "execution_count": 46,
   "metadata": {},
   "outputs": [],
   "source": [
    "X_test_1 = X_test.loc[X_test['id'] == 3]\n",
    "y_test_1 = y_test.loc[X_test_1.index]\n",
    "id_ = list(X_test_1['id'])\n",
    "x = list(X_test_1['x'])"
   ]
  },
  {
   "cell_type": "markdown",
   "metadata": {
    "pycharm": {
     "name": "#%% md\n"
    }
   },
   "source": [
    "Вызов внешнего API"
   ]
  },
  {
   "cell_type": "code",
   "execution_count": 47,
   "metadata": {},
   "outputs": [],
   "source": [
    "pred, diagnosis, pattern_per_5minute = get_prediction(id_, x)"
   ]
  },
  {
   "cell_type": "markdown",
   "metadata": {
    "pycharm": {
     "name": "#%% md\n"
    }
   },
   "source": [
    "Результат"
   ]
  },
  {
   "cell_type": "code",
   "execution_count": 48,
   "metadata": {},
   "outputs": [
    {
     "name": "stdout",
     "output_type": "stream",
     "text": [
      "Пациент \t id=3\n",
      "Диагноз: \t положительный\n",
      "Показатель: \t 11 А/мин\n",
      "Количество аномалий: \t 30\n",
      "--------------------------------------\n",
      "Точность классификации (f1_score): 0.8\n"
     ]
    }
   ],
   "source": [
    "print(f'Пациент \\t id={list(diagnosis.keys())[0]}')\n",
    "print(f'Диагноз: \\t {\"положительный\" if list(diagnosis.values())[0] else \"отрицательный\"}')\n",
    "print(f'Показатель: \\t {list(pattern_per_5minute.values())[0]} А/мин')\n",
    "print(f'Количество аномалий: \\t {sum(pred)}')\n",
    "print('--------------------------------------')\n",
    "print(f'Точность классификации (f1_score): {f1_score(y_test_1, pred)}')"
   ]
  },
  {
   "cell_type": "code",
   "execution_count": 48,
   "metadata": {
    "pycharm": {
     "name": "#%%\n"
    }
   },
   "outputs": [],
   "source": []
  }
 ],
 "metadata": {
  "kernelspec": {
   "display_name": "Python 3 (ipykernel)",
   "language": "python",
   "name": "python3"
  },
  "language_info": {
   "codemirror_mode": {
    "name": "ipython",
    "version": 3
   },
   "file_extension": ".py",
   "mimetype": "text/x-python",
   "name": "python",
   "nbconvert_exporter": "python",
   "pygments_lexer": "ipython3",
   "version": "3.8.5"
  }
 },
 "nbformat": 4,
 "nbformat_minor": 2
}
