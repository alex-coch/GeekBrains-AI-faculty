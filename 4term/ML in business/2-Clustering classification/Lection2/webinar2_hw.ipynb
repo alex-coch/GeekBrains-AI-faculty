{
  "cells": [
    {
      "cell_type": "markdown",
      "metadata": {
        "id": "GvhzH0-mPw_p"
      },
      "source": [
        "### Урок 2. #Профилирование пользователей. Сегментация аудитории: unsupervised learning (clustering, LDA/ARTM), supervised (multi/binary classification)#"
      ]
    },
    {
      "cell_type": "markdown",
      "metadata": {
        "id": "zWtBk7FpPw_v"
      },
      "source": [
        "План занятия:\n",
        "\n",
        "1. задача сегментации аудитории по интересам - для чего\n",
        "2. тематическое моделирование - получаем эмбединги текстов\n",
        "3. решаем downstream-задачу (профилирование аудитории новостного портала)"
      ]
    },
    {
      "cell_type": "markdown",
      "metadata": {
        "id": "i9f0nMrPPw_x"
      },
      "source": [
        "Рассматривать мы все будем в контексте решения конкретной прикладной задачи - задачи оттока"
      ]
    },
    {
      "cell_type": "markdown",
      "metadata": {
        "id": "2EKKL71ZPw_x"
      },
      "source": [
        "#### Задача сегментации (неформальное определение)"
      ]
    },
    {
      "cell_type": "markdown",
      "metadata": {
        "id": "-fpGk6oSPw_y"
      },
      "source": [
        "Разбиваем пользователей на группы, чем-то отличающиеся друг от друга"
      ]
    },
    {
      "cell_type": "markdown",
      "metadata": {
        "id": "V-z51NlNPw_z"
      },
      "source": [
        "Если же более формально, то:\n",
        "\n",
        "Сегментация клиентской базы — это способ повышения эффективности работы с пользователями путем их распределения по отдельным группам, или сегментам, в соответствии с их запросами и/или потребностями."
      ]
    },
    {
      "cell_type": "markdown",
      "metadata": {
        "id": "doLRhxfYPw_z"
      },
      "source": [
        "Сегментация может быть очень разной:"
      ]
    },
    {
      "cell_type": "markdown",
      "metadata": {
        "id": "VXwzioowPw_0"
      },
      "source": [
        "#### 1. когда совершил первую покупку (сколько прошло с момента регистрации до момента покупки)"
      ]
    },
    {
      "cell_type": "markdown",
      "metadata": {
        "id": "2wmlEPn8Pw_1"
      },
      "source": [
        "![ab_split](payments1.png \"Payments2\")"
      ]
    },
    {
      "cell_type": "markdown",
      "metadata": {
        "id": "e6VUuJyfPw_2"
      },
      "source": [
        "#### 2. по психотипам"
      ]
    },
    {
      "cell_type": "markdown",
      "metadata": {
        "id": "32lSgRZQPw_2"
      },
      "source": [
        "![ab_split](psycho.png \"Psycho\")"
      ]
    },
    {
      "cell_type": "markdown",
      "metadata": {
        "id": "rPobrI0ZPw_3"
      },
      "source": [
        "#### 3. по платежам"
      ]
    },
    {
      "cell_type": "markdown",
      "metadata": {
        "id": "lNCnQhdgPw_3"
      },
      "source": [
        "![ab_split](payments.png \"Payments\")"
      ]
    },
    {
      "cell_type": "markdown",
      "metadata": {
        "id": "mHIC49RYPw_4"
      },
      "source": [
        "#### 4. По эффективности взаимодействия (uplift)"
      ]
    },
    {
      "cell_type": "markdown",
      "metadata": {
        "id": "Llksn89FPw_4"
      },
      "source": [
        "![ab_split](uplift.png \"Uplift\")"
      ]
    },
    {
      "cell_type": "markdown",
      "metadata": {
        "id": "k5Jcqxb1Pw_4"
      },
      "source": [
        "#### 5. по интересам"
      ]
    },
    {
      "cell_type": "markdown",
      "metadata": {
        "id": "GaZ7r7JaPw_5"
      },
      "source": [
        "![ab_split](interests.png \"Interests\")"
      ]
    },
    {
      "cell_type": "markdown",
      "metadata": {
        "id": "MXCyT9FpPw_5"
      },
      "source": [
        "И еще 100500 вариантов сегментирования, которое может быть полезно. \n",
        "\n",
        "Для чего полезно?"
      ]
    },
    {
      "cell_type": "markdown",
      "metadata": {
        "id": "4arbChuYPw_6"
      },
      "source": [
        "1. понимание аудитории, способность описать основные группы пользователей и их интересы\n",
        "2. выявление сегментов с максимальной монетизацией\n",
        "3. выбор маркетинговой стратегии\n",
        "4. налаживание эффективного взаимодействия с пользователями"
      ]
    },
    {
      "cell_type": "markdown",
      "metadata": {
        "id": "D49gY3PAPw_6"
      },
      "source": [
        "#### Пример из жизни (новостной портал)"
      ]
    },
    {
      "cell_type": "markdown",
      "metadata": {
        "id": "a3CdqpBEPw_6"
      },
      "source": [
        "Представим, что мы - компания-агрегатор новостей (новостной портал).\n",
        "\n",
        "У нас есть:\n",
        "\n",
        "1. читатели\n",
        "2. новости\n",
        "\n",
        "Для каждого пользователя мы можем за какой-то период (например, 1 день) достать из базы данных список прочитанных им новостей.\n",
        "\n",
        "Для каждой новости мы можем вытащить текст и метаинформацию.\n",
        "\n",
        "### Задача #1: нужно построить модель прогнозирования оттока - это наша downstream-задача. "
      ]
    },
    {
      "cell_type": "markdown",
      "metadata": {
        "id": "a_MswNy9Pw_7"
      },
      "source": [
        "Нам нужны:\n",
        "\n",
        "1. векторное представление пользователя\n",
        "2. сегменты, описывающие интересы пользователя\n",
        "\n",
        "p.s. в контексте нашей задачи - это одно и то же"
      ]
    },
    {
      "cell_type": "markdown",
      "metadata": {
        "id": "l1JhqN-bPw_7"
      },
      "source": [
        "### С чего начнем?"
      ]
    },
    {
      "cell_type": "markdown",
      "metadata": {
        "id": "J9hvpQVbPw_8"
      },
      "source": [
        "С векторного представления и сегментов новостей!"
      ]
    },
    {
      "cell_type": "markdown",
      "metadata": {
        "id": "6HPgGVWCPw_8"
      },
      "source": [
        "Есть два очевидных варианта как это сделать:\n",
        "\n",
        "1. многоклассовая классификация\n",
        "2. кластеризация документов с последующей попыткой их (кластера) интерпретировать"
      ]
    },
    {
      "cell_type": "markdown",
      "metadata": {
        "id": "-uGNDY0yPw_9"
      },
      "source": [
        "Проблема:"
      ]
    },
    {
      "cell_type": "markdown",
      "metadata": {
        "id": "Ya7fBTk2Pw_9"
      },
      "source": [
        "1. для классификации нам нужно сначала разметить новости - привлечение ручного труда"
      ]
    },
    {
      "cell_type": "markdown",
      "metadata": {
        "id": "LqxJXaZsPw_9"
      },
      "source": [
        "### Задача тематического моделирования"
      ]
    },
    {
      "cell_type": "markdown",
      "metadata": {
        "id": "limxJFDjPw_9"
      },
      "source": [
        "#### Неформально!"
      ]
    },
    {
      "cell_type": "markdown",
      "metadata": {
        "id": "E9WObvi6Pw_-"
      },
      "source": [
        "- на свете бывают темы (заранее неизвестные), которые отражают то, о чём могут быть части документа;\n",
        "- каждая тема – это распределение вероятностей на словах, т.е. мешок слов, из которого можно с разной вероятностью вытащить разные слова;\n",
        "- каждый документ – это смесь тем, т.е. распределение вероятностей на темах, кубик, который можно кинуть;\n",
        "- процесс порождения каждого слова состоит в том, чтобы сначала выбрать тему по распределению, соответствующему документу, а затем выбрать слово из распределения, соответствующего этой теме."
      ]
    },
    {
      "cell_type": "markdown",
      "metadata": {
        "id": "kl0oHNlsPxAA"
      },
      "source": [
        "Вероятностные модели удобно понимать и представлять в виде порождающих процессов (generative processes), когда мы последовательно описываем, как порождается одна единица данных, вводя по ходу дела все вероятностные предположения, которые мы в этой модели делаем. Соответственно, порождающий процесс для LDA должен последовательно описывать, как мы порождаем каждое слово каждого документа. И вот как это происходит (здесь и далее я буду предполагать, что длина каждого документа задана – её тоже можно добавить в модель, но обычно это ничего нового не даёт):"
      ]
    },
    {
      "cell_type": "markdown",
      "metadata": {
        "id": "nMOHajBuPxAA"
      },
      "source": [
        "1. для каждой темы t выбираем вектор phi_t - распределение слов в теме\n",
        "\n",
        "2. для каждого документа d:\n",
        "\n",
        "    2.1 выбираем Theta_d - распределение тем в документе\n",
        "    \n",
        "    2.2 для каждого из слов документа w:\n",
        "        2.2.1 выбираем тему z~Theta_d\n",
        "        2.2.2 выбираем слово w~p(w|z, phi)"
      ]
    },
    {
      "cell_type": "markdown",
      "metadata": {
        "id": "zDANaCaKPxAB"
      },
      "source": [
        "![lda](lda_simple.png \"LDA\")"
      ]
    },
    {
      "cell_type": "markdown",
      "metadata": {
        "id": "qFLSjbAuPxAB"
      },
      "source": [
        "ист. https://habr.com/ru/company/surfingbird/blog/230103/"
      ]
    },
    {
      "cell_type": "markdown",
      "metadata": {
        "id": "l0OVYtiNPxAB"
      },
      "source": [
        "#### Чуть более формально"
      ]
    },
    {
      "cell_type": "markdown",
      "metadata": {
        "id": "Tn83VziLPxAC"
      },
      "source": [
        "Терминология:\n",
        "\n",
        "1. документ - коллекция слов \n",
        "2. тема - набор токенов (слов), совместно часто встречающихся в документах\n",
        "\n",
        "Более формально:\n",
        "\n",
        "1. тема - условное распределение на множестве терминов, p(w|t)\n",
        "2. тематический профиль документа - условное распределение тем p(t|d)\n",
        "\n",
        "Вопрос: что же нам дано (в терминах условной вероятности)?\n",
        "\n",
        "Ответ: условное распределение слов в документах - p(w|d)"
      ]
    },
    {
      "cell_type": "markdown",
      "metadata": {
        "id": "1Gt_4JXRPxAC"
      },
      "source": [
        "Прекрасное объяснение от Воронцова - http://www.machinelearning.ru/wiki/images/d/d5/Voron17survey-artm.pdf"
      ]
    },
    {
      "cell_type": "markdown",
      "metadata": {
        "id": "F4x9QGIGPxAD"
      },
      "source": [
        "Тематическая модель позволяет нам получить p(w|t), p(t|d) по известным p(w|d)"
      ]
    },
    {
      "cell_type": "markdown",
      "metadata": {
        "id": "NuAKo3H2PxAD"
      },
      "source": [
        "![ab_split](tm1.png \"TM1\")"
      ]
    },
    {
      "cell_type": "markdown",
      "metadata": {
        "id": "ovZWOuJrPxAD"
      },
      "source": [
        "### ПЕРЕРЫВ ДО 21:02 (МСК)"
      ]
    },
    {
      "cell_type": "code",
      "execution_count": 6,
      "metadata": {
        "id": "VQsJ70OLPxAE"
      },
      "outputs": [],
      "source": []
    },
    {
      "cell_type": "code",
      "execution_count": 6,
      "metadata": {
        "id": "5a5omzsBPxAF"
      },
      "outputs": [],
      "source": []
    },
    {
      "cell_type": "code",
      "execution_count": 6,
      "metadata": {
        "id": "p8mwkzs6PxAF"
      },
      "outputs": [],
      "source": []
    },
    {
      "cell_type": "code",
      "execution_count": 6,
      "metadata": {
        "id": "iF9EsTsjPxAF"
      },
      "outputs": [],
      "source": []
    },
    {
      "cell_type": "code",
      "execution_count": 6,
      "metadata": {
        "id": "XBTIJgUcPxAF"
      },
      "outputs": [],
      "source": []
    },
    {
      "cell_type": "code",
      "execution_count": 6,
      "metadata": {
        "id": "3qJc3xV4PxAF"
      },
      "outputs": [],
      "source": []
    },
    {
      "cell_type": "code",
      "execution_count": 6,
      "metadata": {
        "id": "84lp6cqxPxAG"
      },
      "outputs": [],
      "source": []
    },
    {
      "cell_type": "code",
      "execution_count": 6,
      "metadata": {
        "id": "4dKzrhXjPxAG"
      },
      "outputs": [],
      "source": []
    },
    {
      "cell_type": "markdown",
      "metadata": {
        "id": "FGJ8cd_gPxAG"
      },
      "source": [
        "### Переходим к практике"
      ]
    },
    {
      "cell_type": "code",
      "execution_count": 7,
      "metadata": {
        "id": "nf45K6uzPxAG"
      },
      "outputs": [],
      "source": [
        "import pandas as pd"
      ]
    },
    {
      "cell_type": "markdown",
      "metadata": {
        "id": "1fi9oDUFPxAI"
      },
      "source": [
        "Наши новости"
      ]
    },
    {
      "cell_type": "code",
      "execution_count": 8,
      "metadata": {
        "colab": {
          "base_uri": "https://localhost:8080/",
          "height": 161
        },
        "id": "gqvt85HaPxAI",
        "outputId": "54601b0a-fdc6-40c0-b056-65b40525ad87"
      },
      "outputs": [
        {
          "output_type": "stream",
          "name": "stdout",
          "text": [
            "(27000, 2)\n"
          ]
        },
        {
          "output_type": "execute_result",
          "data": {
            "text/plain": [
              "   doc_id                                              title\n",
              "0       6  Заместитель председателяnправительства РФnСерг...\n",
              "1    4896  Матч 1/16 финала Кубка России по футболу был п...\n",
              "2    4897  Форвард «Авангарда» Томаш Заборский прокоммент..."
            ],
            "text/html": [
              "\n",
              "  <div id=\"df-0e8211cb-28bf-4b1a-a87d-885d8b26a05c\">\n",
              "    <div class=\"colab-df-container\">\n",
              "      <div>\n",
              "<style scoped>\n",
              "    .dataframe tbody tr th:only-of-type {\n",
              "        vertical-align: middle;\n",
              "    }\n",
              "\n",
              "    .dataframe tbody tr th {\n",
              "        vertical-align: top;\n",
              "    }\n",
              "\n",
              "    .dataframe thead th {\n",
              "        text-align: right;\n",
              "    }\n",
              "</style>\n",
              "<table border=\"1\" class=\"dataframe\">\n",
              "  <thead>\n",
              "    <tr style=\"text-align: right;\">\n",
              "      <th></th>\n",
              "      <th>doc_id</th>\n",
              "      <th>title</th>\n",
              "    </tr>\n",
              "  </thead>\n",
              "  <tbody>\n",
              "    <tr>\n",
              "      <th>0</th>\n",
              "      <td>6</td>\n",
              "      <td>Заместитель председателяnправительства РФnСерг...</td>\n",
              "    </tr>\n",
              "    <tr>\n",
              "      <th>1</th>\n",
              "      <td>4896</td>\n",
              "      <td>Матч 1/16 финала Кубка России по футболу был п...</td>\n",
              "    </tr>\n",
              "    <tr>\n",
              "      <th>2</th>\n",
              "      <td>4897</td>\n",
              "      <td>Форвард «Авангарда» Томаш Заборский прокоммент...</td>\n",
              "    </tr>\n",
              "  </tbody>\n",
              "</table>\n",
              "</div>\n",
              "      <button class=\"colab-df-convert\" onclick=\"convertToInteractive('df-0e8211cb-28bf-4b1a-a87d-885d8b26a05c')\"\n",
              "              title=\"Convert this dataframe to an interactive table.\"\n",
              "              style=\"display:none;\">\n",
              "        \n",
              "  <svg xmlns=\"http://www.w3.org/2000/svg\" height=\"24px\"viewBox=\"0 0 24 24\"\n",
              "       width=\"24px\">\n",
              "    <path d=\"M0 0h24v24H0V0z\" fill=\"none\"/>\n",
              "    <path d=\"M18.56 5.44l.94 2.06.94-2.06 2.06-.94-2.06-.94-.94-2.06-.94 2.06-2.06.94zm-11 1L8.5 8.5l.94-2.06 2.06-.94-2.06-.94L8.5 2.5l-.94 2.06-2.06.94zm10 10l.94 2.06.94-2.06 2.06-.94-2.06-.94-.94-2.06-.94 2.06-2.06.94z\"/><path d=\"M17.41 7.96l-1.37-1.37c-.4-.4-.92-.59-1.43-.59-.52 0-1.04.2-1.43.59L10.3 9.45l-7.72 7.72c-.78.78-.78 2.05 0 2.83L4 21.41c.39.39.9.59 1.41.59.51 0 1.02-.2 1.41-.59l7.78-7.78 2.81-2.81c.8-.78.8-2.07 0-2.86zM5.41 20L4 18.59l7.72-7.72 1.47 1.35L5.41 20z\"/>\n",
              "  </svg>\n",
              "      </button>\n",
              "      \n",
              "  <style>\n",
              "    .colab-df-container {\n",
              "      display:flex;\n",
              "      flex-wrap:wrap;\n",
              "      gap: 12px;\n",
              "    }\n",
              "\n",
              "    .colab-df-convert {\n",
              "      background-color: #E8F0FE;\n",
              "      border: none;\n",
              "      border-radius: 50%;\n",
              "      cursor: pointer;\n",
              "      display: none;\n",
              "      fill: #1967D2;\n",
              "      height: 32px;\n",
              "      padding: 0 0 0 0;\n",
              "      width: 32px;\n",
              "    }\n",
              "\n",
              "    .colab-df-convert:hover {\n",
              "      background-color: #E2EBFA;\n",
              "      box-shadow: 0px 1px 2px rgba(60, 64, 67, 0.3), 0px 1px 3px 1px rgba(60, 64, 67, 0.15);\n",
              "      fill: #174EA6;\n",
              "    }\n",
              "\n",
              "    [theme=dark] .colab-df-convert {\n",
              "      background-color: #3B4455;\n",
              "      fill: #D2E3FC;\n",
              "    }\n",
              "\n",
              "    [theme=dark] .colab-df-convert:hover {\n",
              "      background-color: #434B5C;\n",
              "      box-shadow: 0px 1px 3px 1px rgba(0, 0, 0, 0.15);\n",
              "      filter: drop-shadow(0px 1px 2px rgba(0, 0, 0, 0.3));\n",
              "      fill: #FFFFFF;\n",
              "    }\n",
              "  </style>\n",
              "\n",
              "      <script>\n",
              "        const buttonEl =\n",
              "          document.querySelector('#df-0e8211cb-28bf-4b1a-a87d-885d8b26a05c button.colab-df-convert');\n",
              "        buttonEl.style.display =\n",
              "          google.colab.kernel.accessAllowed ? 'block' : 'none';\n",
              "\n",
              "        async function convertToInteractive(key) {\n",
              "          const element = document.querySelector('#df-0e8211cb-28bf-4b1a-a87d-885d8b26a05c');\n",
              "          const dataTable =\n",
              "            await google.colab.kernel.invokeFunction('convertToInteractive',\n",
              "                                                     [key], {});\n",
              "          if (!dataTable) return;\n",
              "\n",
              "          const docLinkHtml = 'Like what you see? Visit the ' +\n",
              "            '<a target=\"_blank\" href=https://colab.research.google.com/notebooks/data_table.ipynb>data table notebook</a>'\n",
              "            + ' to learn more about interactive tables.';\n",
              "          element.innerHTML = '';\n",
              "          dataTable['output_type'] = 'display_data';\n",
              "          await google.colab.output.renderOutput(dataTable, element);\n",
              "          const docLink = document.createElement('div');\n",
              "          docLink.innerHTML = docLinkHtml;\n",
              "          element.appendChild(docLink);\n",
              "        }\n",
              "      </script>\n",
              "    </div>\n",
              "  </div>\n",
              "  "
            ]
          },
          "metadata": {},
          "execution_count": 8
        }
      ],
      "source": [
        "news = pd.read_csv(\"/content/materials.csv\", engine=\"python\") # articles.csv\n",
        "print(news.shape)\n",
        "news.head(3)"
      ]
    },
    {
      "cell_type": "code",
      "execution_count": 8,
      "metadata": {
        "id": "FKrtYhUyPxAK"
      },
      "outputs": [],
      "source": []
    },
    {
      "cell_type": "markdown",
      "metadata": {
        "id": "ObNodyYcPxAK"
      },
      "source": [
        "Загрузим пользователей и списки последних прочитанных новостей"
      ]
    },
    {
      "cell_type": "code",
      "execution_count": 9,
      "metadata": {
        "colab": {
          "base_uri": "https://localhost:8080/",
          "height": 143
        },
        "id": "kikYZ7_vPxAL",
        "outputId": "349acb56-c973-426b-a512-54efa12fda93"
      },
      "outputs": [
        {
          "output_type": "execute_result",
          "data": {
            "text/plain": [
              "       uid                                        articles\n",
              "0  u105138  [293672, 293328, 293001, 293622, 293126, 1852]\n",
              "1  u108690          [3405, 1739, 2972, 1158, 1599, 322665]\n",
              "2  u108339          [1845, 2009, 2356, 1424, 2939, 323389]"
            ],
            "text/html": [
              "\n",
              "  <div id=\"df-07928f93-e3be-4342-b10e-61d9ac5fafb9\">\n",
              "    <div class=\"colab-df-container\">\n",
              "      <div>\n",
              "<style scoped>\n",
              "    .dataframe tbody tr th:only-of-type {\n",
              "        vertical-align: middle;\n",
              "    }\n",
              "\n",
              "    .dataframe tbody tr th {\n",
              "        vertical-align: top;\n",
              "    }\n",
              "\n",
              "    .dataframe thead th {\n",
              "        text-align: right;\n",
              "    }\n",
              "</style>\n",
              "<table border=\"1\" class=\"dataframe\">\n",
              "  <thead>\n",
              "    <tr style=\"text-align: right;\">\n",
              "      <th></th>\n",
              "      <th>uid</th>\n",
              "      <th>articles</th>\n",
              "    </tr>\n",
              "  </thead>\n",
              "  <tbody>\n",
              "    <tr>\n",
              "      <th>0</th>\n",
              "      <td>u105138</td>\n",
              "      <td>[293672, 293328, 293001, 293622, 293126, 1852]</td>\n",
              "    </tr>\n",
              "    <tr>\n",
              "      <th>1</th>\n",
              "      <td>u108690</td>\n",
              "      <td>[3405, 1739, 2972, 1158, 1599, 322665]</td>\n",
              "    </tr>\n",
              "    <tr>\n",
              "      <th>2</th>\n",
              "      <td>u108339</td>\n",
              "      <td>[1845, 2009, 2356, 1424, 2939, 323389]</td>\n",
              "    </tr>\n",
              "  </tbody>\n",
              "</table>\n",
              "</div>\n",
              "      <button class=\"colab-df-convert\" onclick=\"convertToInteractive('df-07928f93-e3be-4342-b10e-61d9ac5fafb9')\"\n",
              "              title=\"Convert this dataframe to an interactive table.\"\n",
              "              style=\"display:none;\">\n",
              "        \n",
              "  <svg xmlns=\"http://www.w3.org/2000/svg\" height=\"24px\"viewBox=\"0 0 24 24\"\n",
              "       width=\"24px\">\n",
              "    <path d=\"M0 0h24v24H0V0z\" fill=\"none\"/>\n",
              "    <path d=\"M18.56 5.44l.94 2.06.94-2.06 2.06-.94-2.06-.94-.94-2.06-.94 2.06-2.06.94zm-11 1L8.5 8.5l.94-2.06 2.06-.94-2.06-.94L8.5 2.5l-.94 2.06-2.06.94zm10 10l.94 2.06.94-2.06 2.06-.94-2.06-.94-.94-2.06-.94 2.06-2.06.94z\"/><path d=\"M17.41 7.96l-1.37-1.37c-.4-.4-.92-.59-1.43-.59-.52 0-1.04.2-1.43.59L10.3 9.45l-7.72 7.72c-.78.78-.78 2.05 0 2.83L4 21.41c.39.39.9.59 1.41.59.51 0 1.02-.2 1.41-.59l7.78-7.78 2.81-2.81c.8-.78.8-2.07 0-2.86zM5.41 20L4 18.59l7.72-7.72 1.47 1.35L5.41 20z\"/>\n",
              "  </svg>\n",
              "      </button>\n",
              "      \n",
              "  <style>\n",
              "    .colab-df-container {\n",
              "      display:flex;\n",
              "      flex-wrap:wrap;\n",
              "      gap: 12px;\n",
              "    }\n",
              "\n",
              "    .colab-df-convert {\n",
              "      background-color: #E8F0FE;\n",
              "      border: none;\n",
              "      border-radius: 50%;\n",
              "      cursor: pointer;\n",
              "      display: none;\n",
              "      fill: #1967D2;\n",
              "      height: 32px;\n",
              "      padding: 0 0 0 0;\n",
              "      width: 32px;\n",
              "    }\n",
              "\n",
              "    .colab-df-convert:hover {\n",
              "      background-color: #E2EBFA;\n",
              "      box-shadow: 0px 1px 2px rgba(60, 64, 67, 0.3), 0px 1px 3px 1px rgba(60, 64, 67, 0.15);\n",
              "      fill: #174EA6;\n",
              "    }\n",
              "\n",
              "    [theme=dark] .colab-df-convert {\n",
              "      background-color: #3B4455;\n",
              "      fill: #D2E3FC;\n",
              "    }\n",
              "\n",
              "    [theme=dark] .colab-df-convert:hover {\n",
              "      background-color: #434B5C;\n",
              "      box-shadow: 0px 1px 3px 1px rgba(0, 0, 0, 0.15);\n",
              "      filter: drop-shadow(0px 1px 2px rgba(0, 0, 0, 0.3));\n",
              "      fill: #FFFFFF;\n",
              "    }\n",
              "  </style>\n",
              "\n",
              "      <script>\n",
              "        const buttonEl =\n",
              "          document.querySelector('#df-07928f93-e3be-4342-b10e-61d9ac5fafb9 button.colab-df-convert');\n",
              "        buttonEl.style.display =\n",
              "          google.colab.kernel.accessAllowed ? 'block' : 'none';\n",
              "\n",
              "        async function convertToInteractive(key) {\n",
              "          const element = document.querySelector('#df-07928f93-e3be-4342-b10e-61d9ac5fafb9');\n",
              "          const dataTable =\n",
              "            await google.colab.kernel.invokeFunction('convertToInteractive',\n",
              "                                                     [key], {});\n",
              "          if (!dataTable) return;\n",
              "\n",
              "          const docLinkHtml = 'Like what you see? Visit the ' +\n",
              "            '<a target=\"_blank\" href=https://colab.research.google.com/notebooks/data_table.ipynb>data table notebook</a>'\n",
              "            + ' to learn more about interactive tables.';\n",
              "          element.innerHTML = '';\n",
              "          dataTable['output_type'] = 'display_data';\n",
              "          await google.colab.output.renderOutput(dataTable, element);\n",
              "          const docLink = document.createElement('div');\n",
              "          docLink.innerHTML = docLinkHtml;\n",
              "          element.appendChild(docLink);\n",
              "        }\n",
              "      </script>\n",
              "    </div>\n",
              "  </div>\n",
              "  "
            ]
          },
          "metadata": {},
          "execution_count": 9
        }
      ],
      "source": [
        "users = pd.read_csv(\"/content/users_articles.csv\")\n",
        "users.head(3)"
      ]
    },
    {
      "cell_type": "markdown",
      "metadata": {
        "id": "uj73mCFqPxAL"
      },
      "source": [
        "Итак, нам нужно получить векторные представления пользователей на основе прочитанным ими новостей и самих новостей"
      ]
    },
    {
      "cell_type": "markdown",
      "metadata": {
        "id": "kkeHKEp4PxAL"
      },
      "source": [
        "### 1. Получаем векторные представления новостей"
      ]
    },
    {
      "cell_type": "code",
      "execution_count": 10,
      "metadata": {
        "id": "GT6eoii_PxAL"
      },
      "outputs": [],
      "source": [
        "#from gensim.test.utils import common_texts\n",
        "from gensim.corpora.dictionary import Dictionary"
      ]
    },
    {
      "cell_type": "code",
      "execution_count": 11,
      "metadata": {
        "colab": {
          "base_uri": "https://localhost:8080/"
        },
        "id": "xg8MVHg7CxFL",
        "outputId": "fc64d342-7bff-48bc-a978-903b75baa094"
      },
      "outputs": [
        {
          "output_type": "stream",
          "name": "stdout",
          "text": [
            "Looking in indexes: https://pypi.org/simple, https://us-python.pkg.dev/colab-wheels/public/simple/\n",
            "Collecting razdel\n",
            "  Downloading razdel-0.5.0-py3-none-any.whl (21 kB)\n",
            "Collecting pymorphy2\n",
            "  Downloading pymorphy2-0.9.1-py3-none-any.whl (55 kB)\n",
            "\u001b[K     |████████████████████████████████| 55 kB 3.2 MB/s \n",
            "\u001b[?25hCollecting pymorphy2-dicts-ru<3.0,>=2.4\n",
            "  Downloading pymorphy2_dicts_ru-2.4.417127.4579844-py2.py3-none-any.whl (8.2 MB)\n",
            "\u001b[K     |████████████████████████████████| 8.2 MB 13.8 MB/s \n",
            "\u001b[?25hCollecting dawg-python>=0.7.1\n",
            "  Downloading DAWG_Python-0.7.2-py2.py3-none-any.whl (11 kB)\n",
            "Collecting docopt>=0.6\n",
            "  Downloading docopt-0.6.2.tar.gz (25 kB)\n",
            "Building wheels for collected packages: docopt\n",
            "  Building wheel for docopt (setup.py) ... \u001b[?25l\u001b[?25hdone\n",
            "  Created wheel for docopt: filename=docopt-0.6.2-py2.py3-none-any.whl size=13723 sha256=efab26efba62f4a5364986f59e2e3da32428ad3f453323bd4ead34ad0926b6f8\n",
            "  Stored in directory: /root/.cache/pip/wheels/56/ea/58/ead137b087d9e326852a851351d1debf4ada529b6ac0ec4e8c\n",
            "Successfully built docopt\n",
            "Installing collected packages: pymorphy2-dicts-ru, docopt, dawg-python, razdel, pymorphy2\n",
            "Successfully installed dawg-python-0.7.2 docopt-0.6.2 pymorphy2-0.9.1 pymorphy2-dicts-ru-2.4.417127.4579844 razdel-0.5.0\n"
          ]
        }
      ],
      "source": [
        "!pip install razdel pymorphy2"
      ]
    },
    {
      "cell_type": "code",
      "execution_count": 12,
      "metadata": {
        "id": "6SmDiWDCPxAM"
      },
      "outputs": [],
      "source": [
        "#предобработка текстов\n",
        "import re\n",
        "import numpy as np\n",
        "from nltk.corpus import stopwords\n",
        "#from nltk.tokenize import word_tokenize\n",
        "\n",
        "from razdel import tokenize # https://github.com/natasha/razdel\n",
        "#!pip install razdel\n",
        "\n",
        "import pymorphy2  # pip install pymorphy2"
      ]
    },
    {
      "cell_type": "code",
      "execution_count": 13,
      "metadata": {
        "colab": {
          "base_uri": "https://localhost:8080/"
        },
        "id": "jPT4DMDHDP5q",
        "outputId": "eb41a405-8f0f-4258-cf60-d7bd640c161b"
      },
      "outputs": [
        {
          "output_type": "stream",
          "name": "stderr",
          "text": [
            "[nltk_data] Downloading package stopwords to /root/nltk_data...\n",
            "[nltk_data]   Unzipping corpora/stopwords.zip.\n"
          ]
        },
        {
          "output_type": "execute_result",
          "data": {
            "text/plain": [
              "True"
            ]
          },
          "metadata": {},
          "execution_count": 13
        }
      ],
      "source": [
        "import nltk\n",
        "nltk.download('stopwords')"
      ]
    },
    {
      "cell_type": "code",
      "execution_count": 14,
      "metadata": {
        "id": "SHYRaHN4PxAM"
      },
      "outputs": [],
      "source": [
        "stopword_ru = stopwords.words('russian')\n",
        "len(stopword_ru)\n",
        "\n",
        "morph = pymorphy2.MorphAnalyzer()"
      ]
    },
    {
      "cell_type": "code",
      "execution_count": 15,
      "metadata": {
        "colab": {
          "base_uri": "https://localhost:8080/"
        },
        "id": "rhLS3KvwPxAN",
        "outputId": "500b9057-8830-4003-9704-6f43bd8202a5"
      },
      "outputs": [
        {
          "output_type": "execute_result",
          "data": {
            "text/plain": [
              "776"
            ]
          },
          "metadata": {},
          "execution_count": 15
        }
      ],
      "source": [
        "with open('stopwords.txt') as f:\n",
        "    additional_stopwords = [w.strip() for w in f.readlines() if w]\n",
        "stopword_ru += additional_stopwords\n",
        "len(stopword_ru)"
      ]
    },
    {
      "cell_type": "code",
      "execution_count": 16,
      "metadata": {
        "id": "bbWNBy0NPxAN"
      },
      "outputs": [],
      "source": [
        "def clean_text(text):\n",
        "    '''\n",
        "    очистка текста\n",
        "    \n",
        "    на выходе очищеный текст\n",
        "    \n",
        "    '''\n",
        "    if not isinstance(text, str):\n",
        "        text = str(text)\n",
        "    \n",
        "    text = text.lower()\n",
        "    text = text.strip('\\n').strip('\\r').strip('\\t')\n",
        "    text = re.sub(\"-\\s\\r\\n\\|-\\s\\r\\n|\\r\\n\", '', str(text))\n",
        "\n",
        "    text = re.sub(\"[0-9]|[-—.,:;_%©«»?*!@#№$^•·&()]|[+=]|[[]|[]]|[/]|\", '', text)\n",
        "    text = re.sub(r\"\\r\\n\\t|\\n|\\\\s|\\r\\t|\\\\n\", ' ', text)\n",
        "    text = re.sub(r'[\\xad]|[\\s+]', ' ', text.strip())\n",
        "    \n",
        "    #tokens = list(tokenize(text))\n",
        "    #words = [_.text for _ in tokens]\n",
        "    #words = [w for w in words if w not in stopword_ru]\n",
        "    \n",
        "    #return \" \".join(words)\n",
        "    return text\n",
        "\n",
        "cache = {}\n",
        "\n",
        "def lemmatization(text):\n",
        "    '''\n",
        "    лемматизация\n",
        "        [0] если зашел тип не `str` делаем его `str`\n",
        "        [1] токенизация предложения через razdel\n",
        "        [2] проверка есть ли в начале слова '-'\n",
        "        [3] проверка токена с одного символа\n",
        "        [4] проверка есть ли данное слово в кэше\n",
        "        [5] лемматизация слова\n",
        "        [6] проверка на стоп-слова\n",
        "\n",
        "    на выходе лист отлемматизированых токенов\n",
        "    '''\n",
        "\n",
        "    # [0]\n",
        "    if not isinstance(text, str):\n",
        "        text = str(text)\n",
        "    \n",
        "    # [1]\n",
        "    tokens = list(tokenize(text))\n",
        "    words = [_.text for _ in tokens]\n",
        "\n",
        "    words_lem = []\n",
        "    for w in words:\n",
        "        if w[0] == '-': # [2]\n",
        "            w = w[1:]\n",
        "        if len(w)>1: # [3]\n",
        "            if w in cache: # [4]\n",
        "                words_lem.append(cache[w])\n",
        "            else: # [5]\n",
        "                temp_cach = cache[w] = morph.parse(w)[0].normal_form\n",
        "                words_lem.append(temp_cach)\n",
        "    \n",
        "    words_lem_without_stopwords=[i for i in words_lem if not i in stopword_ru] # [6]\n",
        "    \n",
        "    return words_lem_without_stopwords"
      ]
    },
    {
      "cell_type": "code",
      "execution_count": 17,
      "metadata": {
        "colab": {
          "base_uri": "https://localhost:8080/"
        },
        "id": "ACR66tI5PxAO",
        "outputId": "9f463d2d-856e-4138-fca8-3dc15565b9be",
        "scrolled": true
      },
      "outputs": [
        {
          "output_type": "stream",
          "name": "stderr",
          "text": [
            "<ipython-input-16-7ee348d9b386>:15: FutureWarning: Possible nested set at position 39\n",
            "  text = re.sub(\"[0-9]|[-—.,:;_%©«»?*!@#№$^•·&()]|[+=]|[[]|[]]|[/]|\", '', text)\n"
          ]
        },
        {
          "output_type": "stream",
          "name": "stdout",
          "text": [
            "CPU times: user 34.2 s, sys: 2.17 s, total: 36.3 s\n",
            "Wall time: 44.8 s\n"
          ]
        }
      ],
      "source": [
        "%%time\n",
        "#Запускаем очистку текста. Будет долго...\n",
        "news['title'] = news['title'].apply(lambda x: clean_text(x), 1)"
      ]
    },
    {
      "cell_type": "code",
      "execution_count": 18,
      "metadata": {
        "colab": {
          "base_uri": "https://localhost:8080/"
        },
        "id": "gp7ay2hZPxAP",
        "outputId": "5f09829f-dcc2-438c-d959-389512988095"
      },
      "outputs": [
        {
          "output_type": "stream",
          "name": "stdout",
          "text": [
            "CPU times: user 3min 59s, sys: 713 ms, total: 3min 59s\n",
            "Wall time: 4min 1s\n"
          ]
        }
      ],
      "source": [
        "%%time\n",
        "#Запускаем лемматизацию текста. Будет очень долго...\n",
        "news['title'] = news['title'].apply(lambda x: lemmatization(x), 1)"
      ]
    },
    {
      "cell_type": "markdown",
      "metadata": {
        "id": "CnRM6_LZPxAP"
      },
      "source": [
        "А теперь в 3 строчки обучим нашу модель"
      ]
    },
    {
      "cell_type": "code",
      "execution_count": 19,
      "metadata": {
        "id": "N91EnHxTPxAP"
      },
      "outputs": [],
      "source": [
        "#сформируем список наших текстов, разбив еще и на пробелы\n",
        "texts = [t for t in news['title'].values]\n",
        "\n",
        "# Create a corpus from a list of texts\n",
        "common_dictionary = Dictionary(texts)\n",
        "common_corpus = [common_dictionary.doc2bow(text) for text in texts]"
      ]
    },
    {
      "cell_type": "markdown",
      "metadata": {
        "id": "L3HmWEmgPxAQ"
      },
      "source": [
        "Что такое common_dictionary и как он выглядит"
      ]
    },
    {
      "cell_type": "code",
      "execution_count": 20,
      "metadata": {
        "id": "JLU17glrPxAQ",
        "colab": {
          "base_uri": "https://localhost:8080/",
          "height": 35
        },
        "outputId": "5ed4996d-aa6b-45fc-c29f-0089dd53869d"
      },
      "outputs": [
        {
          "output_type": "execute_result",
          "data": {
            "text/plain": [
              "'ватутин'"
            ],
            "application/vnd.google.colaboratory.intrinsic+json": {
              "type": "string"
            }
          },
          "metadata": {},
          "execution_count": 20
        }
      ],
      "source": [
        "common_dictionary[10]"
      ]
    },
    {
      "cell_type": "markdown",
      "metadata": {
        "id": "qeES8FqjPxAQ"
      },
      "source": [
        "Все просто - это словарь наших слов"
      ]
    },
    {
      "cell_type": "markdown",
      "metadata": {
        "id": "DGner86xPxAR"
      },
      "source": [
        "Запускаем обучение"
      ]
    },
    {
      "cell_type": "code",
      "execution_count": 21,
      "metadata": {
        "colab": {
          "base_uri": "https://localhost:8080/"
        },
        "id": "bsC42VQKPxAR",
        "outputId": "8bb847a3-4b9f-4938-ddab-ca2d44f4f092"
      },
      "outputs": [
        {
          "output_type": "stream",
          "name": "stdout",
          "text": [
            "CPU times: user 46.2 s, sys: 21.9 s, total: 1min 8s\n",
            "Wall time: 43.8 s\n"
          ]
        }
      ],
      "source": [
        "%%time\n",
        "from gensim.models import LdaModel\n",
        "# Train the model on the corpus.\n",
        "lda = LdaModel(common_corpus, num_topics=25, id2word=common_dictionary)#, passes=10)"
      ]
    },
    {
      "cell_type": "code",
      "execution_count": 22,
      "metadata": {
        "id": "cCaZiXPkPxAR"
      },
      "outputs": [],
      "source": [
        "from gensim.test.utils import datapath\n",
        "# Save model to disk.\n",
        "temp_file = datapath(\"model.lda\")\n",
        "lda.save(temp_file)\n",
        "\n",
        "# Load a potentially pretrained model from disk.\n",
        "lda = LdaModel.load(temp_file)"
      ]
    },
    {
      "cell_type": "markdown",
      "metadata": {
        "id": "Ubbcw39IPxAS"
      },
      "source": [
        "Обучили модель. Теперь 2 вопроса:\n",
        "\n",
        "1. как выглядят наши темы\n",
        "2. как получить для документа вектор значений (вероятности принадлежности каждой теме)"
      ]
    },
    {
      "cell_type": "code",
      "execution_count": 23,
      "metadata": {
        "id": "ZjHprGd3PxAS",
        "colab": {
          "base_uri": "https://localhost:8080/"
        },
        "outputId": "79cff3cc-6e84-4ea3-bd08-ef2f60019847"
      },
      "outputs": [
        {
          "output_type": "stream",
          "name": "stdout",
          "text": [
            "['форвард', 'авангард', 'томаш', 'заборский', 'прокомментировать', 'игра', 'команда', 'матч', 'чемпионат', 'кхл', 'против', 'атланта', 'nnnn', 'плохой', 'матч', 'нижний', 'новгород', 'против', 'торпедо', 'настраиваться', 'первый', 'минута', 'включиться', 'заборский', 'получиться', 'забросить', 'быстрый', 'гол', 'задать', 'хороший', 'темп', 'поединок', 'играть', 'хороший', 'сторона', 'пять', 'очко', 'выезд', 'девять', 'хороший']\n"
          ]
        },
        {
          "output_type": "execute_result",
          "data": {
            "text/plain": [
              "[(17, 0.9765854)]"
            ]
          },
          "metadata": {},
          "execution_count": 23
        }
      ],
      "source": [
        "# Create a new corpus, made of previously unseen documents.\n",
        "other_texts = [t for t in news['title'].iloc[:3]]\n",
        "other_corpus = [common_dictionary.doc2bow(text) for text in other_texts]\n",
        "\n",
        "unseen_doc = other_corpus[2]\n",
        "print(other_texts[2])\n",
        "lda[unseen_doc] "
      ]
    },
    {
      "cell_type": "code",
      "execution_count": 24,
      "metadata": {
        "colab": {
          "base_uri": "https://localhost:8080/"
        },
        "id": "3qiMtvSwPxAT",
        "outputId": "1df3cbf6-402a-4e59-f5d3-bcff2be6a45d"
      },
      "outputs": [
        {
          "output_type": "stream",
          "name": "stdout",
          "text": [
            "topic_0: россия банк российский рост nn наука эксперт\n",
            "topic_1: nn учёный взрыв проверка заболевание опубликовать тело\n",
            "topic_2: ребёнок клетка мозг обнаружить лицо рубль уголовный\n",
            "topic_3: сша американский учёный миссия nasa трамп орбита\n",
            "topic_4: цена день мероприятие температура посетитель билет учёный\n",
            "topic_5: украина украинский экономический российский россия крым ес\n",
            "topic_6: налог авиакомпания министерство остров конкурс глава риск\n",
            "topic_7: ракета фонд восток британский фильм великобритания млн\n",
            "topic_8: проект млрд исследование рубль новый программа руб\n",
            "topic_9: рак риск метод кровь геном доллар nn\n",
            "topic_10: гражданин россиянин nn снижение рейс белоруссия место\n",
            "topic_11: млн стоимость продукция животное новый тыс городской\n",
            "topic_12: учёный научный северный университет обнаружить опубликовать южный\n",
            "topic_13: космический корабль технология запуск роскосмос космос спутник\n",
            "topic_14: самолёт экономика нефть полёт армия операция россия\n",
            "topic_15: исследователь жизнь женщина век всё автор первый\n",
            "topic_16: сотрудник россия сторона данные убийство москва заявление\n",
            "topic_17: смерть журнал хороший очень всё первый страдать\n",
            "topic_18: россия nn санкция власть торговый территория российский\n",
            "topic_19: статья выяснить инвестиция специальный воздух день древний\n",
            "topic_20: всё очень мкс спрос ниже падение врач\n",
            "topic_21: газ военный земля луна война турецкий иран\n",
            "topic_22: украина партия парламент соцсеть порошенко затмение донбасс\n",
            "topic_23: nn астероид испытание церковь небо обсерватория телескоп\n",
            "topic_24: данные население район россия научный регион помощь\n"
          ]
        }
      ],
      "source": [
        "x=lda.show_topics(num_topics=25, num_words=7,formatted=False)\n",
        "topics_words = [(tp[0], [wd[0] for wd in tp[1]]) for tp in x]\n",
        "\n",
        "#Below Code Prints Only Words \n",
        "for topic,words in topics_words:\n",
        "    print(\"topic_{}: \".format(topic)+\" \".join(words))"
      ]
    },
    {
      "cell_type": "markdown",
      "metadata": {
        "id": "CSS_thZjPxAT"
      },
      "source": [
        "Очень неплохо - большинство тем вполне можно описать о чем они"
      ]
    },
    {
      "cell_type": "markdown",
      "metadata": {
        "id": "IGH0e1cyPxAU"
      },
      "source": [
        "Давайте напишем функцию, которая будет нам возвращать векторное представление новости"
      ]
    },
    {
      "cell_type": "code",
      "execution_count": 25,
      "metadata": {
        "id": "I6MNp1jfPxAU"
      },
      "outputs": [],
      "source": [
        "#text = news['title'].iloc[0]\n",
        "\n",
        "def get_lda_vector(text):\n",
        "    unseen_doc = common_dictionary.doc2bow(text)\n",
        "    lda_tuple = lda[unseen_doc]\n",
        "    not_null_topics = dict(zip([i[0] for i in lda_tuple], [i[1] for i in lda_tuple]))\n",
        "\n",
        "    output_vector = []\n",
        "    for i in range(25):\n",
        "        if i not in not_null_topics:\n",
        "            output_vector.append(0)\n",
        "        else:\n",
        "            output_vector.append(not_null_topics[i])\n",
        "    return np.array(output_vector)"
      ]
    },
    {
      "cell_type": "code",
      "execution_count": 26,
      "metadata": {
        "colab": {
          "base_uri": "https://localhost:8080/",
          "height": 236
        },
        "id": "nydKqZaJPxAV",
        "outputId": "3f52b123-b7fc-4442-9300-5c1d6df62038"
      },
      "outputs": [
        {
          "output_type": "execute_result",
          "data": {
            "text/plain": [
              "   doc_id   topic_0   topic_1  topic_2  topic_3  topic_4  topic_5  topic_6  \\\n",
              "0       6  0.938027  0.000000      0.0      0.0      0.0      0.0      0.0   \n",
              "1    4896  0.000000  0.645828      0.0      0.0      0.0      0.0      0.0   \n",
              "2    4897  0.000000  0.000000      0.0      0.0      0.0      0.0      0.0   \n",
              "3    4898  0.000000  0.000000      0.0      0.0      0.0      0.0      0.0   \n",
              "4    4899  0.268455  0.000000      0.0      0.0      0.0      0.0      0.0   \n",
              "\n",
              "   topic_7  topic_8  ...  topic_15  topic_16  topic_17  topic_18  topic_19  \\\n",
              "0  0.00000      0.0  ...  0.000000       0.0  0.044438       0.0       0.0   \n",
              "1  0.00000      0.0  ...  0.000000       0.0  0.331733       0.0       0.0   \n",
              "2  0.00000      0.0  ...  0.000000       0.0  0.976585       0.0       0.0   \n",
              "3  0.00000      0.0  ...  0.046301       0.0  0.466319       0.0       0.0   \n",
              "4  0.06255      0.0  ...  0.000000       0.0  0.116999       0.0       0.0   \n",
              "\n",
              "   topic_20  topic_21  topic_22  topic_23  topic_24  \n",
              "0       0.0       0.0       0.0       0.0  0.000000  \n",
              "1       0.0       0.0       0.0       0.0  0.000000  \n",
              "2       0.0       0.0       0.0       0.0  0.000000  \n",
              "3       0.0       0.0       0.0       0.0  0.476904  \n",
              "4       0.0       0.0       0.0       0.0  0.000000  \n",
              "\n",
              "[5 rows x 26 columns]"
            ],
            "text/html": [
              "\n",
              "  <div id=\"df-d43eaf64-a851-47c5-bf66-051639abed56\">\n",
              "    <div class=\"colab-df-container\">\n",
              "      <div>\n",
              "<style scoped>\n",
              "    .dataframe tbody tr th:only-of-type {\n",
              "        vertical-align: middle;\n",
              "    }\n",
              "\n",
              "    .dataframe tbody tr th {\n",
              "        vertical-align: top;\n",
              "    }\n",
              "\n",
              "    .dataframe thead th {\n",
              "        text-align: right;\n",
              "    }\n",
              "</style>\n",
              "<table border=\"1\" class=\"dataframe\">\n",
              "  <thead>\n",
              "    <tr style=\"text-align: right;\">\n",
              "      <th></th>\n",
              "      <th>doc_id</th>\n",
              "      <th>topic_0</th>\n",
              "      <th>topic_1</th>\n",
              "      <th>topic_2</th>\n",
              "      <th>topic_3</th>\n",
              "      <th>topic_4</th>\n",
              "      <th>topic_5</th>\n",
              "      <th>topic_6</th>\n",
              "      <th>topic_7</th>\n",
              "      <th>topic_8</th>\n",
              "      <th>...</th>\n",
              "      <th>topic_15</th>\n",
              "      <th>topic_16</th>\n",
              "      <th>topic_17</th>\n",
              "      <th>topic_18</th>\n",
              "      <th>topic_19</th>\n",
              "      <th>topic_20</th>\n",
              "      <th>topic_21</th>\n",
              "      <th>topic_22</th>\n",
              "      <th>topic_23</th>\n",
              "      <th>topic_24</th>\n",
              "    </tr>\n",
              "  </thead>\n",
              "  <tbody>\n",
              "    <tr>\n",
              "      <th>0</th>\n",
              "      <td>6</td>\n",
              "      <td>0.938027</td>\n",
              "      <td>0.000000</td>\n",
              "      <td>0.0</td>\n",
              "      <td>0.0</td>\n",
              "      <td>0.0</td>\n",
              "      <td>0.0</td>\n",
              "      <td>0.0</td>\n",
              "      <td>0.00000</td>\n",
              "      <td>0.0</td>\n",
              "      <td>...</td>\n",
              "      <td>0.000000</td>\n",
              "      <td>0.0</td>\n",
              "      <td>0.044438</td>\n",
              "      <td>0.0</td>\n",
              "      <td>0.0</td>\n",
              "      <td>0.0</td>\n",
              "      <td>0.0</td>\n",
              "      <td>0.0</td>\n",
              "      <td>0.0</td>\n",
              "      <td>0.000000</td>\n",
              "    </tr>\n",
              "    <tr>\n",
              "      <th>1</th>\n",
              "      <td>4896</td>\n",
              "      <td>0.000000</td>\n",
              "      <td>0.645828</td>\n",
              "      <td>0.0</td>\n",
              "      <td>0.0</td>\n",
              "      <td>0.0</td>\n",
              "      <td>0.0</td>\n",
              "      <td>0.0</td>\n",
              "      <td>0.00000</td>\n",
              "      <td>0.0</td>\n",
              "      <td>...</td>\n",
              "      <td>0.000000</td>\n",
              "      <td>0.0</td>\n",
              "      <td>0.331733</td>\n",
              "      <td>0.0</td>\n",
              "      <td>0.0</td>\n",
              "      <td>0.0</td>\n",
              "      <td>0.0</td>\n",
              "      <td>0.0</td>\n",
              "      <td>0.0</td>\n",
              "      <td>0.000000</td>\n",
              "    </tr>\n",
              "    <tr>\n",
              "      <th>2</th>\n",
              "      <td>4897</td>\n",
              "      <td>0.000000</td>\n",
              "      <td>0.000000</td>\n",
              "      <td>0.0</td>\n",
              "      <td>0.0</td>\n",
              "      <td>0.0</td>\n",
              "      <td>0.0</td>\n",
              "      <td>0.0</td>\n",
              "      <td>0.00000</td>\n",
              "      <td>0.0</td>\n",
              "      <td>...</td>\n",
              "      <td>0.000000</td>\n",
              "      <td>0.0</td>\n",
              "      <td>0.976585</td>\n",
              "      <td>0.0</td>\n",
              "      <td>0.0</td>\n",
              "      <td>0.0</td>\n",
              "      <td>0.0</td>\n",
              "      <td>0.0</td>\n",
              "      <td>0.0</td>\n",
              "      <td>0.000000</td>\n",
              "    </tr>\n",
              "    <tr>\n",
              "      <th>3</th>\n",
              "      <td>4898</td>\n",
              "      <td>0.000000</td>\n",
              "      <td>0.000000</td>\n",
              "      <td>0.0</td>\n",
              "      <td>0.0</td>\n",
              "      <td>0.0</td>\n",
              "      <td>0.0</td>\n",
              "      <td>0.0</td>\n",
              "      <td>0.00000</td>\n",
              "      <td>0.0</td>\n",
              "      <td>...</td>\n",
              "      <td>0.046301</td>\n",
              "      <td>0.0</td>\n",
              "      <td>0.466319</td>\n",
              "      <td>0.0</td>\n",
              "      <td>0.0</td>\n",
              "      <td>0.0</td>\n",
              "      <td>0.0</td>\n",
              "      <td>0.0</td>\n",
              "      <td>0.0</td>\n",
              "      <td>0.476904</td>\n",
              "    </tr>\n",
              "    <tr>\n",
              "      <th>4</th>\n",
              "      <td>4899</td>\n",
              "      <td>0.268455</td>\n",
              "      <td>0.000000</td>\n",
              "      <td>0.0</td>\n",
              "      <td>0.0</td>\n",
              "      <td>0.0</td>\n",
              "      <td>0.0</td>\n",
              "      <td>0.0</td>\n",
              "      <td>0.06255</td>\n",
              "      <td>0.0</td>\n",
              "      <td>...</td>\n",
              "      <td>0.000000</td>\n",
              "      <td>0.0</td>\n",
              "      <td>0.116999</td>\n",
              "      <td>0.0</td>\n",
              "      <td>0.0</td>\n",
              "      <td>0.0</td>\n",
              "      <td>0.0</td>\n",
              "      <td>0.0</td>\n",
              "      <td>0.0</td>\n",
              "      <td>0.000000</td>\n",
              "    </tr>\n",
              "  </tbody>\n",
              "</table>\n",
              "<p>5 rows × 26 columns</p>\n",
              "</div>\n",
              "      <button class=\"colab-df-convert\" onclick=\"convertToInteractive('df-d43eaf64-a851-47c5-bf66-051639abed56')\"\n",
              "              title=\"Convert this dataframe to an interactive table.\"\n",
              "              style=\"display:none;\">\n",
              "        \n",
              "  <svg xmlns=\"http://www.w3.org/2000/svg\" height=\"24px\"viewBox=\"0 0 24 24\"\n",
              "       width=\"24px\">\n",
              "    <path d=\"M0 0h24v24H0V0z\" fill=\"none\"/>\n",
              "    <path d=\"M18.56 5.44l.94 2.06.94-2.06 2.06-.94-2.06-.94-.94-2.06-.94 2.06-2.06.94zm-11 1L8.5 8.5l.94-2.06 2.06-.94-2.06-.94L8.5 2.5l-.94 2.06-2.06.94zm10 10l.94 2.06.94-2.06 2.06-.94-2.06-.94-.94-2.06-.94 2.06-2.06.94z\"/><path d=\"M17.41 7.96l-1.37-1.37c-.4-.4-.92-.59-1.43-.59-.52 0-1.04.2-1.43.59L10.3 9.45l-7.72 7.72c-.78.78-.78 2.05 0 2.83L4 21.41c.39.39.9.59 1.41.59.51 0 1.02-.2 1.41-.59l7.78-7.78 2.81-2.81c.8-.78.8-2.07 0-2.86zM5.41 20L4 18.59l7.72-7.72 1.47 1.35L5.41 20z\"/>\n",
              "  </svg>\n",
              "      </button>\n",
              "      \n",
              "  <style>\n",
              "    .colab-df-container {\n",
              "      display:flex;\n",
              "      flex-wrap:wrap;\n",
              "      gap: 12px;\n",
              "    }\n",
              "\n",
              "    .colab-df-convert {\n",
              "      background-color: #E8F0FE;\n",
              "      border: none;\n",
              "      border-radius: 50%;\n",
              "      cursor: pointer;\n",
              "      display: none;\n",
              "      fill: #1967D2;\n",
              "      height: 32px;\n",
              "      padding: 0 0 0 0;\n",
              "      width: 32px;\n",
              "    }\n",
              "\n",
              "    .colab-df-convert:hover {\n",
              "      background-color: #E2EBFA;\n",
              "      box-shadow: 0px 1px 2px rgba(60, 64, 67, 0.3), 0px 1px 3px 1px rgba(60, 64, 67, 0.15);\n",
              "      fill: #174EA6;\n",
              "    }\n",
              "\n",
              "    [theme=dark] .colab-df-convert {\n",
              "      background-color: #3B4455;\n",
              "      fill: #D2E3FC;\n",
              "    }\n",
              "\n",
              "    [theme=dark] .colab-df-convert:hover {\n",
              "      background-color: #434B5C;\n",
              "      box-shadow: 0px 1px 3px 1px rgba(0, 0, 0, 0.15);\n",
              "      filter: drop-shadow(0px 1px 2px rgba(0, 0, 0, 0.3));\n",
              "      fill: #FFFFFF;\n",
              "    }\n",
              "  </style>\n",
              "\n",
              "      <script>\n",
              "        const buttonEl =\n",
              "          document.querySelector('#df-d43eaf64-a851-47c5-bf66-051639abed56 button.colab-df-convert');\n",
              "        buttonEl.style.display =\n",
              "          google.colab.kernel.accessAllowed ? 'block' : 'none';\n",
              "\n",
              "        async function convertToInteractive(key) {\n",
              "          const element = document.querySelector('#df-d43eaf64-a851-47c5-bf66-051639abed56');\n",
              "          const dataTable =\n",
              "            await google.colab.kernel.invokeFunction('convertToInteractive',\n",
              "                                                     [key], {});\n",
              "          if (!dataTable) return;\n",
              "\n",
              "          const docLinkHtml = 'Like what you see? Visit the ' +\n",
              "            '<a target=\"_blank\" href=https://colab.research.google.com/notebooks/data_table.ipynb>data table notebook</a>'\n",
              "            + ' to learn more about interactive tables.';\n",
              "          element.innerHTML = '';\n",
              "          dataTable['output_type'] = 'display_data';\n",
              "          await google.colab.output.renderOutput(dataTable, element);\n",
              "          const docLink = document.createElement('div');\n",
              "          docLink.innerHTML = docLinkHtml;\n",
              "          element.appendChild(docLink);\n",
              "        }\n",
              "      </script>\n",
              "    </div>\n",
              "  </div>\n",
              "  "
            ]
          },
          "metadata": {},
          "execution_count": 26
        }
      ],
      "source": [
        "topic_matrix = pd.DataFrame([get_lda_vector(text) for text in news['title'].values])\n",
        "topic_matrix.columns = ['topic_{}'.format(i) for i in range(25)]\n",
        "topic_matrix['doc_id'] = news['doc_id'].values\n",
        "topic_matrix = topic_matrix[['doc_id']+['topic_{}'.format(i) for i in range(25)]]\n",
        "topic_matrix.head(5)"
      ]
    },
    {
      "cell_type": "markdown",
      "metadata": {
        "id": "ErCHkFs_PxAW"
      },
      "source": [
        "Прекрасно, мы получили вектора наших новостей! И даже умеем интерпретировать получившиеся темы.\n",
        "\n",
        "Можно двигаться далее"
      ]
    },
    {
      "cell_type": "markdown",
      "metadata": {
        "id": "8UdollYhPxAW"
      },
      "source": [
        "### Следующий шаг - векторные представления пользователей"
      ]
    },
    {
      "cell_type": "code",
      "execution_count": 27,
      "metadata": {
        "colab": {
          "base_uri": "https://localhost:8080/",
          "height": 143
        },
        "id": "Whz5nTdYPxAX",
        "scrolled": true,
        "outputId": "2ef72311-107f-44bd-b283-9b3d73696de8"
      },
      "outputs": [
        {
          "output_type": "execute_result",
          "data": {
            "text/plain": [
              "       uid                                        articles\n",
              "0  u105138  [293672, 293328, 293001, 293622, 293126, 1852]\n",
              "1  u108690          [3405, 1739, 2972, 1158, 1599, 322665]\n",
              "2  u108339          [1845, 2009, 2356, 1424, 2939, 323389]"
            ],
            "text/html": [
              "\n",
              "  <div id=\"df-bcc0a56a-6fd2-48e6-bb98-b121ed8e6dac\">\n",
              "    <div class=\"colab-df-container\">\n",
              "      <div>\n",
              "<style scoped>\n",
              "    .dataframe tbody tr th:only-of-type {\n",
              "        vertical-align: middle;\n",
              "    }\n",
              "\n",
              "    .dataframe tbody tr th {\n",
              "        vertical-align: top;\n",
              "    }\n",
              "\n",
              "    .dataframe thead th {\n",
              "        text-align: right;\n",
              "    }\n",
              "</style>\n",
              "<table border=\"1\" class=\"dataframe\">\n",
              "  <thead>\n",
              "    <tr style=\"text-align: right;\">\n",
              "      <th></th>\n",
              "      <th>uid</th>\n",
              "      <th>articles</th>\n",
              "    </tr>\n",
              "  </thead>\n",
              "  <tbody>\n",
              "    <tr>\n",
              "      <th>0</th>\n",
              "      <td>u105138</td>\n",
              "      <td>[293672, 293328, 293001, 293622, 293126, 1852]</td>\n",
              "    </tr>\n",
              "    <tr>\n",
              "      <th>1</th>\n",
              "      <td>u108690</td>\n",
              "      <td>[3405, 1739, 2972, 1158, 1599, 322665]</td>\n",
              "    </tr>\n",
              "    <tr>\n",
              "      <th>2</th>\n",
              "      <td>u108339</td>\n",
              "      <td>[1845, 2009, 2356, 1424, 2939, 323389]</td>\n",
              "    </tr>\n",
              "  </tbody>\n",
              "</table>\n",
              "</div>\n",
              "      <button class=\"colab-df-convert\" onclick=\"convertToInteractive('df-bcc0a56a-6fd2-48e6-bb98-b121ed8e6dac')\"\n",
              "              title=\"Convert this dataframe to an interactive table.\"\n",
              "              style=\"display:none;\">\n",
              "        \n",
              "  <svg xmlns=\"http://www.w3.org/2000/svg\" height=\"24px\"viewBox=\"0 0 24 24\"\n",
              "       width=\"24px\">\n",
              "    <path d=\"M0 0h24v24H0V0z\" fill=\"none\"/>\n",
              "    <path d=\"M18.56 5.44l.94 2.06.94-2.06 2.06-.94-2.06-.94-.94-2.06-.94 2.06-2.06.94zm-11 1L8.5 8.5l.94-2.06 2.06-.94-2.06-.94L8.5 2.5l-.94 2.06-2.06.94zm10 10l.94 2.06.94-2.06 2.06-.94-2.06-.94-.94-2.06-.94 2.06-2.06.94z\"/><path d=\"M17.41 7.96l-1.37-1.37c-.4-.4-.92-.59-1.43-.59-.52 0-1.04.2-1.43.59L10.3 9.45l-7.72 7.72c-.78.78-.78 2.05 0 2.83L4 21.41c.39.39.9.59 1.41.59.51 0 1.02-.2 1.41-.59l7.78-7.78 2.81-2.81c.8-.78.8-2.07 0-2.86zM5.41 20L4 18.59l7.72-7.72 1.47 1.35L5.41 20z\"/>\n",
              "  </svg>\n",
              "      </button>\n",
              "      \n",
              "  <style>\n",
              "    .colab-df-container {\n",
              "      display:flex;\n",
              "      flex-wrap:wrap;\n",
              "      gap: 12px;\n",
              "    }\n",
              "\n",
              "    .colab-df-convert {\n",
              "      background-color: #E8F0FE;\n",
              "      border: none;\n",
              "      border-radius: 50%;\n",
              "      cursor: pointer;\n",
              "      display: none;\n",
              "      fill: #1967D2;\n",
              "      height: 32px;\n",
              "      padding: 0 0 0 0;\n",
              "      width: 32px;\n",
              "    }\n",
              "\n",
              "    .colab-df-convert:hover {\n",
              "      background-color: #E2EBFA;\n",
              "      box-shadow: 0px 1px 2px rgba(60, 64, 67, 0.3), 0px 1px 3px 1px rgba(60, 64, 67, 0.15);\n",
              "      fill: #174EA6;\n",
              "    }\n",
              "\n",
              "    [theme=dark] .colab-df-convert {\n",
              "      background-color: #3B4455;\n",
              "      fill: #D2E3FC;\n",
              "    }\n",
              "\n",
              "    [theme=dark] .colab-df-convert:hover {\n",
              "      background-color: #434B5C;\n",
              "      box-shadow: 0px 1px 3px 1px rgba(0, 0, 0, 0.15);\n",
              "      filter: drop-shadow(0px 1px 2px rgba(0, 0, 0, 0.3));\n",
              "      fill: #FFFFFF;\n",
              "    }\n",
              "  </style>\n",
              "\n",
              "      <script>\n",
              "        const buttonEl =\n",
              "          document.querySelector('#df-bcc0a56a-6fd2-48e6-bb98-b121ed8e6dac button.colab-df-convert');\n",
              "        buttonEl.style.display =\n",
              "          google.colab.kernel.accessAllowed ? 'block' : 'none';\n",
              "\n",
              "        async function convertToInteractive(key) {\n",
              "          const element = document.querySelector('#df-bcc0a56a-6fd2-48e6-bb98-b121ed8e6dac');\n",
              "          const dataTable =\n",
              "            await google.colab.kernel.invokeFunction('convertToInteractive',\n",
              "                                                     [key], {});\n",
              "          if (!dataTable) return;\n",
              "\n",
              "          const docLinkHtml = 'Like what you see? Visit the ' +\n",
              "            '<a target=\"_blank\" href=https://colab.research.google.com/notebooks/data_table.ipynb>data table notebook</a>'\n",
              "            + ' to learn more about interactive tables.';\n",
              "          element.innerHTML = '';\n",
              "          dataTable['output_type'] = 'display_data';\n",
              "          await google.colab.output.renderOutput(dataTable, element);\n",
              "          const docLink = document.createElement('div');\n",
              "          docLink.innerHTML = docLinkHtml;\n",
              "          element.appendChild(docLink);\n",
              "        }\n",
              "      </script>\n",
              "    </div>\n",
              "  </div>\n",
              "  "
            ]
          },
          "metadata": {},
          "execution_count": 27
        }
      ],
      "source": [
        "users.head(3)"
      ]
    },
    {
      "cell_type": "code",
      "execution_count": 28,
      "metadata": {
        "id": "aeSCW25GPxAX"
      },
      "outputs": [],
      "source": [
        "doc_dict = dict(zip(topic_matrix['doc_id'].values, topic_matrix[['topic_{}'.format(i) for i in range(25)]].values))"
      ]
    },
    {
      "cell_type": "code",
      "execution_count": 29,
      "metadata": {
        "colab": {
          "base_uri": "https://localhost:8080/"
        },
        "id": "52CLqW91PxAY",
        "outputId": "2ea4a674-e98b-42a4-a59c-30230193006b"
      },
      "outputs": [
        {
          "output_type": "execute_result",
          "data": {
            "text/plain": [
              "array([0.        , 0.10136925, 0.15856908, 0.        , 0.17204928,\n",
              "       0.        , 0.        , 0.07923318, 0.        , 0.04078589,\n",
              "       0.01666493, 0.        , 0.04557231, 0.        , 0.        ,\n",
              "       0.        , 0.04847671, 0.15762107, 0.        , 0.        ,\n",
              "       0.        , 0.04181715, 0.02272001, 0.10141708, 0.        ])"
            ]
          },
          "metadata": {},
          "execution_count": 29
        }
      ],
      "source": [
        "doc_dict[293622]"
      ]
    },
    {
      "cell_type": "code",
      "execution_count": 30,
      "metadata": {
        "id": "QB8p81eMPxAY"
      },
      "outputs": [],
      "source": [
        "user_articles_list = users['articles'].iloc[33]\n",
        "\n",
        "def get_user_embedding(user_articles_list):\n",
        "    user_articles_list = eval(user_articles_list)\n",
        "    user_vector = np.array([doc_dict[doc_id] for doc_id in user_articles_list])\n",
        "    user_vector = np.mean(user_vector, 0)\n",
        "    return user_vector"
      ]
    },
    {
      "cell_type": "code",
      "execution_count": 31,
      "metadata": {
        "id": "p13XzhzYPxAY",
        "outputId": "0bb75d53-2ffd-4766-882f-10bf51023ce8",
        "colab": {
          "base_uri": "https://localhost:8080/"
        }
      },
      "outputs": [
        {
          "output_type": "execute_result",
          "data": {
            "text/plain": [
              "array([0.18716787, 0.09378541, 0.14574042, 0.09412808, 0.        ,\n",
              "       0.04461601, 0.01421521, 0.        , 0.0182828 , 0.        ,\n",
              "       0.00967194, 0.        , 0.        , 0.00694903, 0.0480928 ,\n",
              "       0.00255514, 0.09300104, 0.03044105, 0.04064438, 0.01435156,\n",
              "       0.01656339, 0.05417466, 0.00889891, 0.02893836, 0.03795088])"
            ]
          },
          "metadata": {},
          "execution_count": 31
        }
      ],
      "source": [
        "get_user_embedding(user_articles_list)"
      ]
    },
    {
      "cell_type": "markdown",
      "metadata": {
        "id": "v1dE0FvhPxAZ"
      },
      "source": [
        "Интересовался новостями с топиками topic_3, topic_14 (что-то про политику и государство)"
      ]
    },
    {
      "cell_type": "code",
      "execution_count": 32,
      "metadata": {
        "id": "hBs5cxNoPxAZ"
      },
      "outputs": [],
      "source": [
        "#users['articles'].iloc[33]"
      ]
    },
    {
      "cell_type": "code",
      "execution_count": 33,
      "metadata": {
        "id": "KaloGtagPxAZ",
        "scrolled": true
      },
      "outputs": [],
      "source": [
        "#\" \".join(news[news['doc_id']==323186]['title'].iloc[0])"
      ]
    },
    {
      "cell_type": "markdown",
      "metadata": {
        "id": "SzYKyw6LPxAa"
      },
      "source": [
        "Теперь получим эмбединги для всех пользователей и проверим их качество на конкретной downstream-задаче"
      ]
    },
    {
      "cell_type": "code",
      "execution_count": 34,
      "metadata": {
        "id": "GFV3LIhrPxAa",
        "outputId": "17639276-a7aa-4a60-a9d0-855a0eed4775",
        "colab": {
          "base_uri": "https://localhost:8080/",
          "height": 173
        }
      },
      "outputs": [
        {
          "output_type": "execute_result",
          "data": {
            "text/plain": [
              "       uid   topic_0   topic_1   topic_2   topic_3   topic_4   topic_5  \\\n",
              "0  u105138  0.000000  0.054032  0.120401  0.012000  0.109558  0.035406   \n",
              "1  u108690  0.067162  0.037090  0.136379  0.051903  0.009500  0.122481   \n",
              "2  u108339  0.065208  0.110744  0.143241  0.004142  0.012909  0.039825   \n",
              "\n",
              "    topic_6   topic_7   topic_8  ...  topic_15  topic_16  topic_17  topic_18  \\\n",
              "0  0.034682  0.051983  0.075404  ...  0.030088  0.049449  0.055283  0.055077   \n",
              "1  0.026520  0.017401  0.022999  ...  0.036160  0.134196  0.045836  0.022114   \n",
              "2  0.010637  0.002273  0.032238  ...  0.013329  0.121313  0.021471  0.099587   \n",
              "\n",
              "   topic_19  topic_20  topic_21  topic_22  topic_23  topic_24  \n",
              "0  0.010871  0.000000  0.012133  0.030184  0.016903  0.027192  \n",
              "1  0.020611  0.031198  0.012611  0.059614  0.020009  0.089798  \n",
              "2  0.023242  0.012069  0.108571  0.000000  0.018815  0.086028  \n",
              "\n",
              "[3 rows x 26 columns]"
            ],
            "text/html": [
              "\n",
              "  <div id=\"df-a8c0e47b-c17c-4661-91e3-9875b3158401\">\n",
              "    <div class=\"colab-df-container\">\n",
              "      <div>\n",
              "<style scoped>\n",
              "    .dataframe tbody tr th:only-of-type {\n",
              "        vertical-align: middle;\n",
              "    }\n",
              "\n",
              "    .dataframe tbody tr th {\n",
              "        vertical-align: top;\n",
              "    }\n",
              "\n",
              "    .dataframe thead th {\n",
              "        text-align: right;\n",
              "    }\n",
              "</style>\n",
              "<table border=\"1\" class=\"dataframe\">\n",
              "  <thead>\n",
              "    <tr style=\"text-align: right;\">\n",
              "      <th></th>\n",
              "      <th>uid</th>\n",
              "      <th>topic_0</th>\n",
              "      <th>topic_1</th>\n",
              "      <th>topic_2</th>\n",
              "      <th>topic_3</th>\n",
              "      <th>topic_4</th>\n",
              "      <th>topic_5</th>\n",
              "      <th>topic_6</th>\n",
              "      <th>topic_7</th>\n",
              "      <th>topic_8</th>\n",
              "      <th>...</th>\n",
              "      <th>topic_15</th>\n",
              "      <th>topic_16</th>\n",
              "      <th>topic_17</th>\n",
              "      <th>topic_18</th>\n",
              "      <th>topic_19</th>\n",
              "      <th>topic_20</th>\n",
              "      <th>topic_21</th>\n",
              "      <th>topic_22</th>\n",
              "      <th>topic_23</th>\n",
              "      <th>topic_24</th>\n",
              "    </tr>\n",
              "  </thead>\n",
              "  <tbody>\n",
              "    <tr>\n",
              "      <th>0</th>\n",
              "      <td>u105138</td>\n",
              "      <td>0.000000</td>\n",
              "      <td>0.054032</td>\n",
              "      <td>0.120401</td>\n",
              "      <td>0.012000</td>\n",
              "      <td>0.109558</td>\n",
              "      <td>0.035406</td>\n",
              "      <td>0.034682</td>\n",
              "      <td>0.051983</td>\n",
              "      <td>0.075404</td>\n",
              "      <td>...</td>\n",
              "      <td>0.030088</td>\n",
              "      <td>0.049449</td>\n",
              "      <td>0.055283</td>\n",
              "      <td>0.055077</td>\n",
              "      <td>0.010871</td>\n",
              "      <td>0.000000</td>\n",
              "      <td>0.012133</td>\n",
              "      <td>0.030184</td>\n",
              "      <td>0.016903</td>\n",
              "      <td>0.027192</td>\n",
              "    </tr>\n",
              "    <tr>\n",
              "      <th>1</th>\n",
              "      <td>u108690</td>\n",
              "      <td>0.067162</td>\n",
              "      <td>0.037090</td>\n",
              "      <td>0.136379</td>\n",
              "      <td>0.051903</td>\n",
              "      <td>0.009500</td>\n",
              "      <td>0.122481</td>\n",
              "      <td>0.026520</td>\n",
              "      <td>0.017401</td>\n",
              "      <td>0.022999</td>\n",
              "      <td>...</td>\n",
              "      <td>0.036160</td>\n",
              "      <td>0.134196</td>\n",
              "      <td>0.045836</td>\n",
              "      <td>0.022114</td>\n",
              "      <td>0.020611</td>\n",
              "      <td>0.031198</td>\n",
              "      <td>0.012611</td>\n",
              "      <td>0.059614</td>\n",
              "      <td>0.020009</td>\n",
              "      <td>0.089798</td>\n",
              "    </tr>\n",
              "    <tr>\n",
              "      <th>2</th>\n",
              "      <td>u108339</td>\n",
              "      <td>0.065208</td>\n",
              "      <td>0.110744</td>\n",
              "      <td>0.143241</td>\n",
              "      <td>0.004142</td>\n",
              "      <td>0.012909</td>\n",
              "      <td>0.039825</td>\n",
              "      <td>0.010637</td>\n",
              "      <td>0.002273</td>\n",
              "      <td>0.032238</td>\n",
              "      <td>...</td>\n",
              "      <td>0.013329</td>\n",
              "      <td>0.121313</td>\n",
              "      <td>0.021471</td>\n",
              "      <td>0.099587</td>\n",
              "      <td>0.023242</td>\n",
              "      <td>0.012069</td>\n",
              "      <td>0.108571</td>\n",
              "      <td>0.000000</td>\n",
              "      <td>0.018815</td>\n",
              "      <td>0.086028</td>\n",
              "    </tr>\n",
              "  </tbody>\n",
              "</table>\n",
              "<p>3 rows × 26 columns</p>\n",
              "</div>\n",
              "      <button class=\"colab-df-convert\" onclick=\"convertToInteractive('df-a8c0e47b-c17c-4661-91e3-9875b3158401')\"\n",
              "              title=\"Convert this dataframe to an interactive table.\"\n",
              "              style=\"display:none;\">\n",
              "        \n",
              "  <svg xmlns=\"http://www.w3.org/2000/svg\" height=\"24px\"viewBox=\"0 0 24 24\"\n",
              "       width=\"24px\">\n",
              "    <path d=\"M0 0h24v24H0V0z\" fill=\"none\"/>\n",
              "    <path d=\"M18.56 5.44l.94 2.06.94-2.06 2.06-.94-2.06-.94-.94-2.06-.94 2.06-2.06.94zm-11 1L8.5 8.5l.94-2.06 2.06-.94-2.06-.94L8.5 2.5l-.94 2.06-2.06.94zm10 10l.94 2.06.94-2.06 2.06-.94-2.06-.94-.94-2.06-.94 2.06-2.06.94z\"/><path d=\"M17.41 7.96l-1.37-1.37c-.4-.4-.92-.59-1.43-.59-.52 0-1.04.2-1.43.59L10.3 9.45l-7.72 7.72c-.78.78-.78 2.05 0 2.83L4 21.41c.39.39.9.59 1.41.59.51 0 1.02-.2 1.41-.59l7.78-7.78 2.81-2.81c.8-.78.8-2.07 0-2.86zM5.41 20L4 18.59l7.72-7.72 1.47 1.35L5.41 20z\"/>\n",
              "  </svg>\n",
              "      </button>\n",
              "      \n",
              "  <style>\n",
              "    .colab-df-container {\n",
              "      display:flex;\n",
              "      flex-wrap:wrap;\n",
              "      gap: 12px;\n",
              "    }\n",
              "\n",
              "    .colab-df-convert {\n",
              "      background-color: #E8F0FE;\n",
              "      border: none;\n",
              "      border-radius: 50%;\n",
              "      cursor: pointer;\n",
              "      display: none;\n",
              "      fill: #1967D2;\n",
              "      height: 32px;\n",
              "      padding: 0 0 0 0;\n",
              "      width: 32px;\n",
              "    }\n",
              "\n",
              "    .colab-df-convert:hover {\n",
              "      background-color: #E2EBFA;\n",
              "      box-shadow: 0px 1px 2px rgba(60, 64, 67, 0.3), 0px 1px 3px 1px rgba(60, 64, 67, 0.15);\n",
              "      fill: #174EA6;\n",
              "    }\n",
              "\n",
              "    [theme=dark] .colab-df-convert {\n",
              "      background-color: #3B4455;\n",
              "      fill: #D2E3FC;\n",
              "    }\n",
              "\n",
              "    [theme=dark] .colab-df-convert:hover {\n",
              "      background-color: #434B5C;\n",
              "      box-shadow: 0px 1px 3px 1px rgba(0, 0, 0, 0.15);\n",
              "      filter: drop-shadow(0px 1px 2px rgba(0, 0, 0, 0.3));\n",
              "      fill: #FFFFFF;\n",
              "    }\n",
              "  </style>\n",
              "\n",
              "      <script>\n",
              "        const buttonEl =\n",
              "          document.querySelector('#df-a8c0e47b-c17c-4661-91e3-9875b3158401 button.colab-df-convert');\n",
              "        buttonEl.style.display =\n",
              "          google.colab.kernel.accessAllowed ? 'block' : 'none';\n",
              "\n",
              "        async function convertToInteractive(key) {\n",
              "          const element = document.querySelector('#df-a8c0e47b-c17c-4661-91e3-9875b3158401');\n",
              "          const dataTable =\n",
              "            await google.colab.kernel.invokeFunction('convertToInteractive',\n",
              "                                                     [key], {});\n",
              "          if (!dataTable) return;\n",
              "\n",
              "          const docLinkHtml = 'Like what you see? Visit the ' +\n",
              "            '<a target=\"_blank\" href=https://colab.research.google.com/notebooks/data_table.ipynb>data table notebook</a>'\n",
              "            + ' to learn more about interactive tables.';\n",
              "          element.innerHTML = '';\n",
              "          dataTable['output_type'] = 'display_data';\n",
              "          await google.colab.output.renderOutput(dataTable, element);\n",
              "          const docLink = document.createElement('div');\n",
              "          docLink.innerHTML = docLinkHtml;\n",
              "          element.appendChild(docLink);\n",
              "        }\n",
              "      </script>\n",
              "    </div>\n",
              "  </div>\n",
              "  "
            ]
          },
          "metadata": {},
          "execution_count": 34
        }
      ],
      "source": [
        "user_embeddings = pd.DataFrame([i for i in users['articles'].apply(lambda x: get_user_embedding(x), 1)])\n",
        "user_embeddings.columns = ['topic_{}'.format(i) for i in range(25)]\n",
        "user_embeddings['uid'] = users['uid'].values\n",
        "user_embeddings = user_embeddings[['uid']+['topic_{}'.format(i) for i in range(25)]]\n",
        "user_embeddings.head(3)"
      ]
    },
    {
      "cell_type": "markdown",
      "metadata": {
        "id": "5GaLsfd9PxAa"
      },
      "source": [
        "Датасет готов - можно попробовать обучить модель. Загрузим нашу разметку"
      ]
    },
    {
      "cell_type": "code",
      "execution_count": 35,
      "metadata": {
        "id": "Xx53sMR9PxAb",
        "outputId": "95b4ac54-8e96-4d82-821b-ce96d03970ea",
        "colab": {
          "base_uri": "https://localhost:8080/",
          "height": 143
        }
      },
      "outputs": [
        {
          "output_type": "execute_result",
          "data": {
            "text/plain": [
              "       uid  churn\n",
              "0  u107120      0\n",
              "1  u102277      0\n",
              "2  u102444      0"
            ],
            "text/html": [
              "\n",
              "  <div id=\"df-09d8fb30-6b61-4809-bd81-6b3ab2952dff\">\n",
              "    <div class=\"colab-df-container\">\n",
              "      <div>\n",
              "<style scoped>\n",
              "    .dataframe tbody tr th:only-of-type {\n",
              "        vertical-align: middle;\n",
              "    }\n",
              "\n",
              "    .dataframe tbody tr th {\n",
              "        vertical-align: top;\n",
              "    }\n",
              "\n",
              "    .dataframe thead th {\n",
              "        text-align: right;\n",
              "    }\n",
              "</style>\n",
              "<table border=\"1\" class=\"dataframe\">\n",
              "  <thead>\n",
              "    <tr style=\"text-align: right;\">\n",
              "      <th></th>\n",
              "      <th>uid</th>\n",
              "      <th>churn</th>\n",
              "    </tr>\n",
              "  </thead>\n",
              "  <tbody>\n",
              "    <tr>\n",
              "      <th>0</th>\n",
              "      <td>u107120</td>\n",
              "      <td>0</td>\n",
              "    </tr>\n",
              "    <tr>\n",
              "      <th>1</th>\n",
              "      <td>u102277</td>\n",
              "      <td>0</td>\n",
              "    </tr>\n",
              "    <tr>\n",
              "      <th>2</th>\n",
              "      <td>u102444</td>\n",
              "      <td>0</td>\n",
              "    </tr>\n",
              "  </tbody>\n",
              "</table>\n",
              "</div>\n",
              "      <button class=\"colab-df-convert\" onclick=\"convertToInteractive('df-09d8fb30-6b61-4809-bd81-6b3ab2952dff')\"\n",
              "              title=\"Convert this dataframe to an interactive table.\"\n",
              "              style=\"display:none;\">\n",
              "        \n",
              "  <svg xmlns=\"http://www.w3.org/2000/svg\" height=\"24px\"viewBox=\"0 0 24 24\"\n",
              "       width=\"24px\">\n",
              "    <path d=\"M0 0h24v24H0V0z\" fill=\"none\"/>\n",
              "    <path d=\"M18.56 5.44l.94 2.06.94-2.06 2.06-.94-2.06-.94-.94-2.06-.94 2.06-2.06.94zm-11 1L8.5 8.5l.94-2.06 2.06-.94-2.06-.94L8.5 2.5l-.94 2.06-2.06.94zm10 10l.94 2.06.94-2.06 2.06-.94-2.06-.94-.94-2.06-.94 2.06-2.06.94z\"/><path d=\"M17.41 7.96l-1.37-1.37c-.4-.4-.92-.59-1.43-.59-.52 0-1.04.2-1.43.59L10.3 9.45l-7.72 7.72c-.78.78-.78 2.05 0 2.83L4 21.41c.39.39.9.59 1.41.59.51 0 1.02-.2 1.41-.59l7.78-7.78 2.81-2.81c.8-.78.8-2.07 0-2.86zM5.41 20L4 18.59l7.72-7.72 1.47 1.35L5.41 20z\"/>\n",
              "  </svg>\n",
              "      </button>\n",
              "      \n",
              "  <style>\n",
              "    .colab-df-container {\n",
              "      display:flex;\n",
              "      flex-wrap:wrap;\n",
              "      gap: 12px;\n",
              "    }\n",
              "\n",
              "    .colab-df-convert {\n",
              "      background-color: #E8F0FE;\n",
              "      border: none;\n",
              "      border-radius: 50%;\n",
              "      cursor: pointer;\n",
              "      display: none;\n",
              "      fill: #1967D2;\n",
              "      height: 32px;\n",
              "      padding: 0 0 0 0;\n",
              "      width: 32px;\n",
              "    }\n",
              "\n",
              "    .colab-df-convert:hover {\n",
              "      background-color: #E2EBFA;\n",
              "      box-shadow: 0px 1px 2px rgba(60, 64, 67, 0.3), 0px 1px 3px 1px rgba(60, 64, 67, 0.15);\n",
              "      fill: #174EA6;\n",
              "    }\n",
              "\n",
              "    [theme=dark] .colab-df-convert {\n",
              "      background-color: #3B4455;\n",
              "      fill: #D2E3FC;\n",
              "    }\n",
              "\n",
              "    [theme=dark] .colab-df-convert:hover {\n",
              "      background-color: #434B5C;\n",
              "      box-shadow: 0px 1px 3px 1px rgba(0, 0, 0, 0.15);\n",
              "      filter: drop-shadow(0px 1px 2px rgba(0, 0, 0, 0.3));\n",
              "      fill: #FFFFFF;\n",
              "    }\n",
              "  </style>\n",
              "\n",
              "      <script>\n",
              "        const buttonEl =\n",
              "          document.querySelector('#df-09d8fb30-6b61-4809-bd81-6b3ab2952dff button.colab-df-convert');\n",
              "        buttonEl.style.display =\n",
              "          google.colab.kernel.accessAllowed ? 'block' : 'none';\n",
              "\n",
              "        async function convertToInteractive(key) {\n",
              "          const element = document.querySelector('#df-09d8fb30-6b61-4809-bd81-6b3ab2952dff');\n",
              "          const dataTable =\n",
              "            await google.colab.kernel.invokeFunction('convertToInteractive',\n",
              "                                                     [key], {});\n",
              "          if (!dataTable) return;\n",
              "\n",
              "          const docLinkHtml = 'Like what you see? Visit the ' +\n",
              "            '<a target=\"_blank\" href=https://colab.research.google.com/notebooks/data_table.ipynb>data table notebook</a>'\n",
              "            + ' to learn more about interactive tables.';\n",
              "          element.innerHTML = '';\n",
              "          dataTable['output_type'] = 'display_data';\n",
              "          await google.colab.output.renderOutput(dataTable, element);\n",
              "          const docLink = document.createElement('div');\n",
              "          docLink.innerHTML = docLinkHtml;\n",
              "          element.appendChild(docLink);\n",
              "        }\n",
              "      </script>\n",
              "    </div>\n",
              "  </div>\n",
              "  "
            ]
          },
          "metadata": {},
          "execution_count": 35
        }
      ],
      "source": [
        "target = pd.read_csv(\"users_churn.csv\")\n",
        "target.head(3)"
      ]
    },
    {
      "cell_type": "code",
      "execution_count": 36,
      "metadata": {
        "id": "opuuQPgTPxAb",
        "outputId": "dc791c95-6f9c-425e-f092-2261a05c4267",
        "colab": {
          "base_uri": "https://localhost:8080/",
          "height": 173
        }
      },
      "outputs": [
        {
          "output_type": "execute_result",
          "data": {
            "text/plain": [
              "       uid   topic_0   topic_1   topic_2   topic_3   topic_4   topic_5  \\\n",
              "0  u105138  0.000000  0.054032  0.120401  0.012000  0.109558  0.035406   \n",
              "1  u108690  0.067162  0.037090  0.136379  0.051903  0.009500  0.122481   \n",
              "2  u108339  0.065208  0.110744  0.143241  0.004142  0.012909  0.039825   \n",
              "\n",
              "    topic_6   topic_7   topic_8  ...  topic_16  topic_17  topic_18  topic_19  \\\n",
              "0  0.034682  0.051983  0.075404  ...  0.049449  0.055283  0.055077  0.010871   \n",
              "1  0.026520  0.017401  0.022999  ...  0.134196  0.045836  0.022114  0.020611   \n",
              "2  0.010637  0.002273  0.032238  ...  0.121313  0.021471  0.099587  0.023242   \n",
              "\n",
              "   topic_20  topic_21  topic_22  topic_23  topic_24  churn  \n",
              "0  0.000000  0.012133  0.030184  0.016903  0.027192      0  \n",
              "1  0.031198  0.012611  0.059614  0.020009  0.089798      1  \n",
              "2  0.012069  0.108571  0.000000  0.018815  0.086028      1  \n",
              "\n",
              "[3 rows x 27 columns]"
            ],
            "text/html": [
              "\n",
              "  <div id=\"df-9b120995-f580-4bed-bbdf-a5fce1b08782\">\n",
              "    <div class=\"colab-df-container\">\n",
              "      <div>\n",
              "<style scoped>\n",
              "    .dataframe tbody tr th:only-of-type {\n",
              "        vertical-align: middle;\n",
              "    }\n",
              "\n",
              "    .dataframe tbody tr th {\n",
              "        vertical-align: top;\n",
              "    }\n",
              "\n",
              "    .dataframe thead th {\n",
              "        text-align: right;\n",
              "    }\n",
              "</style>\n",
              "<table border=\"1\" class=\"dataframe\">\n",
              "  <thead>\n",
              "    <tr style=\"text-align: right;\">\n",
              "      <th></th>\n",
              "      <th>uid</th>\n",
              "      <th>topic_0</th>\n",
              "      <th>topic_1</th>\n",
              "      <th>topic_2</th>\n",
              "      <th>topic_3</th>\n",
              "      <th>topic_4</th>\n",
              "      <th>topic_5</th>\n",
              "      <th>topic_6</th>\n",
              "      <th>topic_7</th>\n",
              "      <th>topic_8</th>\n",
              "      <th>...</th>\n",
              "      <th>topic_16</th>\n",
              "      <th>topic_17</th>\n",
              "      <th>topic_18</th>\n",
              "      <th>topic_19</th>\n",
              "      <th>topic_20</th>\n",
              "      <th>topic_21</th>\n",
              "      <th>topic_22</th>\n",
              "      <th>topic_23</th>\n",
              "      <th>topic_24</th>\n",
              "      <th>churn</th>\n",
              "    </tr>\n",
              "  </thead>\n",
              "  <tbody>\n",
              "    <tr>\n",
              "      <th>0</th>\n",
              "      <td>u105138</td>\n",
              "      <td>0.000000</td>\n",
              "      <td>0.054032</td>\n",
              "      <td>0.120401</td>\n",
              "      <td>0.012000</td>\n",
              "      <td>0.109558</td>\n",
              "      <td>0.035406</td>\n",
              "      <td>0.034682</td>\n",
              "      <td>0.051983</td>\n",
              "      <td>0.075404</td>\n",
              "      <td>...</td>\n",
              "      <td>0.049449</td>\n",
              "      <td>0.055283</td>\n",
              "      <td>0.055077</td>\n",
              "      <td>0.010871</td>\n",
              "      <td>0.000000</td>\n",
              "      <td>0.012133</td>\n",
              "      <td>0.030184</td>\n",
              "      <td>0.016903</td>\n",
              "      <td>0.027192</td>\n",
              "      <td>0</td>\n",
              "    </tr>\n",
              "    <tr>\n",
              "      <th>1</th>\n",
              "      <td>u108690</td>\n",
              "      <td>0.067162</td>\n",
              "      <td>0.037090</td>\n",
              "      <td>0.136379</td>\n",
              "      <td>0.051903</td>\n",
              "      <td>0.009500</td>\n",
              "      <td>0.122481</td>\n",
              "      <td>0.026520</td>\n",
              "      <td>0.017401</td>\n",
              "      <td>0.022999</td>\n",
              "      <td>...</td>\n",
              "      <td>0.134196</td>\n",
              "      <td>0.045836</td>\n",
              "      <td>0.022114</td>\n",
              "      <td>0.020611</td>\n",
              "      <td>0.031198</td>\n",
              "      <td>0.012611</td>\n",
              "      <td>0.059614</td>\n",
              "      <td>0.020009</td>\n",
              "      <td>0.089798</td>\n",
              "      <td>1</td>\n",
              "    </tr>\n",
              "    <tr>\n",
              "      <th>2</th>\n",
              "      <td>u108339</td>\n",
              "      <td>0.065208</td>\n",
              "      <td>0.110744</td>\n",
              "      <td>0.143241</td>\n",
              "      <td>0.004142</td>\n",
              "      <td>0.012909</td>\n",
              "      <td>0.039825</td>\n",
              "      <td>0.010637</td>\n",
              "      <td>0.002273</td>\n",
              "      <td>0.032238</td>\n",
              "      <td>...</td>\n",
              "      <td>0.121313</td>\n",
              "      <td>0.021471</td>\n",
              "      <td>0.099587</td>\n",
              "      <td>0.023242</td>\n",
              "      <td>0.012069</td>\n",
              "      <td>0.108571</td>\n",
              "      <td>0.000000</td>\n",
              "      <td>0.018815</td>\n",
              "      <td>0.086028</td>\n",
              "      <td>1</td>\n",
              "    </tr>\n",
              "  </tbody>\n",
              "</table>\n",
              "<p>3 rows × 27 columns</p>\n",
              "</div>\n",
              "      <button class=\"colab-df-convert\" onclick=\"convertToInteractive('df-9b120995-f580-4bed-bbdf-a5fce1b08782')\"\n",
              "              title=\"Convert this dataframe to an interactive table.\"\n",
              "              style=\"display:none;\">\n",
              "        \n",
              "  <svg xmlns=\"http://www.w3.org/2000/svg\" height=\"24px\"viewBox=\"0 0 24 24\"\n",
              "       width=\"24px\">\n",
              "    <path d=\"M0 0h24v24H0V0z\" fill=\"none\"/>\n",
              "    <path d=\"M18.56 5.44l.94 2.06.94-2.06 2.06-.94-2.06-.94-.94-2.06-.94 2.06-2.06.94zm-11 1L8.5 8.5l.94-2.06 2.06-.94-2.06-.94L8.5 2.5l-.94 2.06-2.06.94zm10 10l.94 2.06.94-2.06 2.06-.94-2.06-.94-.94-2.06-.94 2.06-2.06.94z\"/><path d=\"M17.41 7.96l-1.37-1.37c-.4-.4-.92-.59-1.43-.59-.52 0-1.04.2-1.43.59L10.3 9.45l-7.72 7.72c-.78.78-.78 2.05 0 2.83L4 21.41c.39.39.9.59 1.41.59.51 0 1.02-.2 1.41-.59l7.78-7.78 2.81-2.81c.8-.78.8-2.07 0-2.86zM5.41 20L4 18.59l7.72-7.72 1.47 1.35L5.41 20z\"/>\n",
              "  </svg>\n",
              "      </button>\n",
              "      \n",
              "  <style>\n",
              "    .colab-df-container {\n",
              "      display:flex;\n",
              "      flex-wrap:wrap;\n",
              "      gap: 12px;\n",
              "    }\n",
              "\n",
              "    .colab-df-convert {\n",
              "      background-color: #E8F0FE;\n",
              "      border: none;\n",
              "      border-radius: 50%;\n",
              "      cursor: pointer;\n",
              "      display: none;\n",
              "      fill: #1967D2;\n",
              "      height: 32px;\n",
              "      padding: 0 0 0 0;\n",
              "      width: 32px;\n",
              "    }\n",
              "\n",
              "    .colab-df-convert:hover {\n",
              "      background-color: #E2EBFA;\n",
              "      box-shadow: 0px 1px 2px rgba(60, 64, 67, 0.3), 0px 1px 3px 1px rgba(60, 64, 67, 0.15);\n",
              "      fill: #174EA6;\n",
              "    }\n",
              "\n",
              "    [theme=dark] .colab-df-convert {\n",
              "      background-color: #3B4455;\n",
              "      fill: #D2E3FC;\n",
              "    }\n",
              "\n",
              "    [theme=dark] .colab-df-convert:hover {\n",
              "      background-color: #434B5C;\n",
              "      box-shadow: 0px 1px 3px 1px rgba(0, 0, 0, 0.15);\n",
              "      filter: drop-shadow(0px 1px 2px rgba(0, 0, 0, 0.3));\n",
              "      fill: #FFFFFF;\n",
              "    }\n",
              "  </style>\n",
              "\n",
              "      <script>\n",
              "        const buttonEl =\n",
              "          document.querySelector('#df-9b120995-f580-4bed-bbdf-a5fce1b08782 button.colab-df-convert');\n",
              "        buttonEl.style.display =\n",
              "          google.colab.kernel.accessAllowed ? 'block' : 'none';\n",
              "\n",
              "        async function convertToInteractive(key) {\n",
              "          const element = document.querySelector('#df-9b120995-f580-4bed-bbdf-a5fce1b08782');\n",
              "          const dataTable =\n",
              "            await google.colab.kernel.invokeFunction('convertToInteractive',\n",
              "                                                     [key], {});\n",
              "          if (!dataTable) return;\n",
              "\n",
              "          const docLinkHtml = 'Like what you see? Visit the ' +\n",
              "            '<a target=\"_blank\" href=https://colab.research.google.com/notebooks/data_table.ipynb>data table notebook</a>'\n",
              "            + ' to learn more about interactive tables.';\n",
              "          element.innerHTML = '';\n",
              "          dataTable['output_type'] = 'display_data';\n",
              "          await google.colab.output.renderOutput(dataTable, element);\n",
              "          const docLink = document.createElement('div');\n",
              "          docLink.innerHTML = docLinkHtml;\n",
              "          element.appendChild(docLink);\n",
              "        }\n",
              "      </script>\n",
              "    </div>\n",
              "  </div>\n",
              "  "
            ]
          },
          "metadata": {},
          "execution_count": 36
        }
      ],
      "source": [
        "X = pd.merge(user_embeddings, target, 'left')\n",
        "X.head(3)"
      ]
    },
    {
      "cell_type": "code",
      "execution_count": 37,
      "metadata": {
        "id": "n0en2xDYPxAb"
      },
      "outputs": [],
      "source": [
        "from sklearn.linear_model import LogisticRegression\n",
        "from sklearn.model_selection import train_test_split\n",
        "#import itertools\n",
        "\n",
        "import matplotlib.pyplot as plt\n",
        "\n",
        "%matplotlib inline"
      ]
    },
    {
      "cell_type": "code",
      "execution_count": 38,
      "metadata": {
        "id": "Am54080lPxAc"
      },
      "outputs": [],
      "source": [
        "#разделим данные на train/test\n",
        "X_train, X_test, y_train, y_test = train_test_split(X[['topic_{}'.format(i) for i in range(25)]], \n",
        "                                                    X['churn'], random_state=0)"
      ]
    },
    {
      "cell_type": "code",
      "execution_count": 39,
      "metadata": {
        "id": "I4AmWDdDPxAc",
        "outputId": "b592cfe5-96d0-40cf-a7c1-03869a92f75b",
        "colab": {
          "base_uri": "https://localhost:8080/"
        }
      },
      "outputs": [
        {
          "output_type": "execute_result",
          "data": {
            "text/plain": [
              "LogisticRegression()"
            ]
          },
          "metadata": {},
          "execution_count": 39
        }
      ],
      "source": [
        "logreg = LogisticRegression()\n",
        "#обучим \n",
        "logreg.fit(X_train, y_train)"
      ]
    },
    {
      "cell_type": "code",
      "execution_count": 40,
      "metadata": {
        "id": "BqNPLwM0PxAc",
        "outputId": "451a8d60-b4e9-4053-d8b3-87cc268f02c0",
        "colab": {
          "base_uri": "https://localhost:8080/"
        }
      },
      "outputs": [
        {
          "output_type": "execute_result",
          "data": {
            "text/plain": [
              "array([0.09617649, 0.02362875, 0.56445016, 0.15477731, 0.03604353,\n",
              "       0.0673057 , 0.25668151, 0.01115377, 0.03222563, 0.41371222])"
            ]
          },
          "metadata": {},
          "execution_count": 40
        }
      ],
      "source": [
        "#наши прогнозы для тестовой выборки\n",
        "preds = logreg.predict_proba(X_test)[:, 1]\n",
        "preds[:10]"
      ]
    },
    {
      "cell_type": "code",
      "execution_count": 41,
      "metadata": {
        "id": "rOSw0jIxPxAc"
      },
      "outputs": [],
      "source": [
        "from sklearn.metrics import f1_score, roc_auc_score, precision_score, classification_report, precision_recall_curve, confusion_matrix"
      ]
    },
    {
      "cell_type": "markdown",
      "metadata": {
        "id": "vtF7m2mhPxAc"
      },
      "source": [
        "### Рассчитаем Precision, Recall, F_score"
      ]
    },
    {
      "cell_type": "code",
      "execution_count": 42,
      "metadata": {
        "id": "6eZ2w3KPPxAc",
        "outputId": "b314c0fd-0de1-445b-e1a8-54a728ffc776",
        "colab": {
          "base_uri": "https://localhost:8080/"
        }
      },
      "outputs": [
        {
          "output_type": "stream",
          "name": "stdout",
          "text": [
            "Best Threshold=0.268628, F-Score=0.706, Precision=0.639, Recall=0.788\n"
          ]
        }
      ],
      "source": [
        "precision, recall, thresholds = precision_recall_curve(y_test, preds)\n",
        "fscore = (2 * precision * recall) / (precision + recall)\n",
        "# locate the index of the largest f score\n",
        "ix = np.argmax(fscore)\n",
        "print('Best Threshold=%f, F-Score=%.3f, Precision=%.3f, Recall=%.3f' % (thresholds[ix], \n",
        "                                                                        fscore[ix],\n",
        "                                                                        precision[ix],\n",
        "                                                                        recall[ix]))"
      ]
    },
    {
      "cell_type": "code",
      "execution_count": 43,
      "metadata": {
        "id": "74jXlyClPxAc"
      },
      "outputs": [],
      "source": [
        "def plot_confusion_matrix(cm, classes,\n",
        "                          normalize=False,\n",
        "                          title='Confusion matrix',\n",
        "                          cmap=plt.cm.Blues):\n",
        "    \"\"\"\n",
        "    This function prints and plots the confusion matrix.\n",
        "    Normalization can be applied by setting `normalize=True`.\n",
        "    \"\"\"\n",
        "    plt.imshow(cm, interpolation='nearest', cmap=cmap)\n",
        "    plt.title(title)\n",
        "    plt.colorbar()\n",
        "    tick_marks = np.arange(len(classes))\n",
        "    plt.xticks(tick_marks, classes, rotation=45)\n",
        "    plt.yticks(tick_marks, classes)\n",
        "\n",
        "    if normalize:\n",
        "        cm = cm.astype('float') / cm.sum(axis=1)[:, np.newaxis]\n",
        "        print(\"Normalized confusion matrix\")\n",
        "    else:\n",
        "        print('Confusion matrix, without normalization')\n",
        "\n",
        "    print(cm)\n",
        "\n",
        "    thresh = cm.max() / 2.\n",
        "    for i, j in itertools.product(range(cm.shape[0]), range(cm.shape[1])):\n",
        "        plt.text(j, i, cm[i, j],\n",
        "                 horizontalalignment=\"center\",\n",
        "                 color=\"white\" if cm[i, j] > thresh else \"black\")\n",
        "\n",
        "    plt.tight_layout()\n",
        "    plt.ylabel('True label')\n",
        "    plt.xlabel('Predicted label')"
      ]
    },
    {
      "cell_type": "code",
      "execution_count": 45,
      "metadata": {
        "id": "SkCW-CpZPxAd",
        "outputId": "bfb4f94b-a17d-412f-beba-00f407718da6",
        "colab": {
          "base_uri": "https://localhost:8080/",
          "height": 645
        }
      },
      "outputs": [
        {
          "output_type": "stream",
          "name": "stdout",
          "text": [
            "Confusion matrix, without normalization\n",
            "[[1646  109]\n",
            " [  53  192]]\n"
          ]
        },
        {
          "output_type": "display_data",
          "data": {
            "text/plain": [
              "<Figure size 720x576 with 2 Axes>"
            ],
            "image/png": "[encoded data removed]"
          },
          "metadata": {
            "needs_background": "light"
          }
        }
      ],
      "source": [
        "#мы уже нашли ранее \"оптимальный\" порог, когда максимизировали f_score\n",
        "import itertools\n",
        "font = {'size' : 15}\n",
        "\n",
        "plt.rc('font', **font)\n",
        "\n",
        "cnf_matrix = confusion_matrix(y_test, preds>thresholds[ix])\n",
        "plt.figure(figsize=(10, 8))\n",
        "plot_confusion_matrix(cnf_matrix, classes=['Non-Churn', 'churn'],\n",
        "                      title='Confusion matrix')\n",
        "plt.savefig(\"conf_matrix.png\")\n",
        "plt.show()"
      ]
    },
    {
      "cell_type": "code",
      "execution_count": 46,
      "metadata": {
        "id": "Nx-bCGtKPxAd",
        "outputId": "390a00e4-5f42-498c-9c09-41f008f5f629",
        "colab": {
          "base_uri": "https://localhost:8080/"
        }
      },
      "outputs": [
        {
          "output_type": "execute_result",
          "data": {
            "text/plain": [
              "0.9521716378859236"
            ]
          },
          "metadata": {},
          "execution_count": 46
        }
      ],
      "source": [
        "roc_auc_score(y_test, preds)"
      ]
    },
    {
      "cell_type": "code",
      "source": [
        "roc_auc = roc_auc_score(y_test, preds)\n",
        "roc_auc"
      ],
      "metadata": {
        "colab": {
          "base_uri": "https://localhost:8080/"
        },
        "id": "fHjJOP8WCWxc",
        "outputId": "5bb6a720-75fb-4f34-a6ba-5663278a8a54"
      },
      "execution_count": 119,
      "outputs": [
        {
          "output_type": "execute_result",
          "data": {
            "text/plain": [
              "0.9521716378859236"
            ]
          },
          "metadata": {},
          "execution_count": 119
        }
      ]
    },
    {
      "cell_type": "markdown",
      "metadata": {
        "id": "cRQ77ZU6PxAd"
      },
      "source": [
        "В целом мы видим, что получившиеся векторные представления содержат какой-то сигнал и позволяют решать нашу прикладную задачу. "
      ]
    },
    {
      "cell_type": "markdown",
      "metadata": {
        "id": "SanBWt4ZPxAd"
      },
      "source": [
        "### Домашнее задание"
      ]
    },
    {
      "cell_type": "markdown",
      "metadata": {
        "id": "yQsFHzt7PxAd"
      },
      "source": [
        "1. Самостоятельно разобраться с тем, что такое tfidf (документация https://scikit-learn.org/stable/modules/generated/sklearn.feature_extraction.text.TfidfVectorizer.html и еще - https://scikit-learn.org/stable/modules/feature_extraction.html#text-feature-extraction)\n",
        "2. Модифицировать код функции get_user_embedding таким образом, чтобы считалось не среднее (как в примере np.mean), а медиана. Применить такое преобразование к данным, обучить модель прогнозирования оттока и посчитать метрики качества и сохранить их: roc auc, precision/recall/f_score (для 3 последних - подобрать оптимальный порог с помощью precision_recall_curve, как это делалось на уроке)\n",
        "3. Повторить п.2, но используя уже не медиану, а max\n",
        "4. (опциональное, если очень хочется) Воспользовавшись полученными знаниями из п.1, повторить пункт 2, но уже взвешивая новости по tfidf (подсказка: нужно получить веса-коэффициенты для каждого документа. Не все документы одинаково информативны и несут какой-то положительный сигнал). Подсказка 2 - нужен именно idf, как вес.\n",
        "5. Сформировать на выходе единую таблицу, сравнивающую качество 3 разных метода получения эмбедингов пользователей: mean, median, max, idf_mean по метрикам roc_auc, precision, recall, f_score\n",
        "6. Сделать самостоятельные выводы и предположения о том, почему тот или ной способ оказался эффективнее остальных"
      ]
    },
    {
      "cell_type": "code",
      "execution_count": 47,
      "metadata": {
        "colab": {
          "base_uri": "https://localhost:8080/"
        },
        "id": "Q9yh1ZgVP2b2",
        "outputId": "88d5002c-fc4a-46a4-9417-21207037db44"
      },
      "outputs": [
        {
          "output_type": "stream",
          "name": "stdout",
          "text": [
            "['and' 'document' 'first' 'is' 'one' 'second' 'the' 'third' 'this']\n",
            "  (0, 1)\t0.46979138557992045\n",
            "  (0, 2)\t0.5802858236844359\n",
            "  (0, 6)\t0.38408524091481483\n",
            "  (0, 3)\t0.38408524091481483\n",
            "  (0, 8)\t0.38408524091481483\n",
            "  (1, 5)\t0.5386476208856763\n",
            "  (1, 1)\t0.6876235979836938\n",
            "  (1, 6)\t0.281088674033753\n",
            "  (1, 3)\t0.281088674033753\n",
            "  (1, 8)\t0.281088674033753\n",
            "  (2, 4)\t0.511848512707169\n",
            "  (2, 7)\t0.511848512707169\n",
            "  (2, 0)\t0.511848512707169\n",
            "  (2, 6)\t0.267103787642168\n",
            "  (2, 3)\t0.267103787642168\n",
            "  (2, 8)\t0.267103787642168\n",
            "  (3, 1)\t0.46979138557992045\n",
            "  (3, 2)\t0.5802858236844359\n",
            "  (3, 6)\t0.38408524091481483\n",
            "  (3, 3)\t0.38408524091481483\n",
            "  (3, 8)\t0.38408524091481483\n"
          ]
        }
      ],
      "source": [
        "# hw\n",
        "# 1\n",
        "from sklearn.feature_extraction.text import TfidfVectorizer\n",
        "corpus = [\n",
        "    'This is the first document.',\n",
        "    'This document is the second document.',\n",
        "    'And this is the third one.',\n",
        "    'Is this the first document?',\n",
        "]\n",
        "vectorizer = TfidfVectorizer()\n",
        "X = vectorizer.fit_transform(corpus)\n",
        "print(vectorizer.get_feature_names_out())\n",
        "\n",
        "\n",
        "print(X)"
      ]
    },
    {
      "cell_type": "code",
      "execution_count": 48,
      "metadata": {
        "colab": {
          "base_uri": "https://localhost:8080/"
        },
        "id": "HKGWRtzaSum0",
        "outputId": "69155e56-dc0a-478d-ab97-8107e7bb5e57"
      },
      "outputs": [
        {
          "output_type": "execute_result",
          "data": {
            "text/plain": [
              "CountVectorizer()"
            ]
          },
          "metadata": {},
          "execution_count": 48
        }
      ],
      "source": [
        "from sklearn.feature_extraction.text import CountVectorizer\n",
        "vectorizer = CountVectorizer()\n",
        "vectorizer"
      ]
    },
    {
      "cell_type": "code",
      "execution_count": 49,
      "metadata": {
        "colab": {
          "base_uri": "https://localhost:8080/"
        },
        "id": "TiZ3AdOnS3As",
        "outputId": "88bbd0de-6637-4cac-fe35-a0e205858ec5"
      },
      "outputs": [
        {
          "output_type": "execute_result",
          "data": {
            "text/plain": [
              "<4x9 sparse matrix of type '<class 'numpy.int64'>'\n",
              "\twith 19 stored elements in Compressed Sparse Row format>"
            ]
          },
          "metadata": {},
          "execution_count": 49
        }
      ],
      "source": [
        "corpus = [\n",
        "    'This is the first document.',\n",
        "    'This is the second second document.',\n",
        "    'And the third one.',\n",
        "    'Is this the first document?',\n",
        "]\n",
        "X = vectorizer.fit_transform(corpus)\n",
        "X"
      ]
    },
    {
      "cell_type": "code",
      "execution_count": 50,
      "metadata": {
        "colab": {
          "base_uri": "https://localhost:8080/"
        },
        "id": "uBtnt0SSTDpW",
        "outputId": "4ef85429-fd3c-44c9-d76a-ea5dfea0fb6b"
      },
      "outputs": [
        {
          "output_type": "execute_result",
          "data": {
            "text/plain": [
              "True"
            ]
          },
          "metadata": {},
          "execution_count": 50
        }
      ],
      "source": [
        "analyze = vectorizer.build_analyzer()\n",
        "analyze(\"This is a text document to analyze.\") == (\n",
        "    ['this', 'is', 'text', 'document', 'to', 'analyze'])"
      ]
    },
    {
      "cell_type": "code",
      "execution_count": 51,
      "metadata": {
        "colab": {
          "base_uri": "https://localhost:8080/"
        },
        "id": "DAshDgrHTPzj",
        "outputId": "c178bff4-b62c-4a81-9e8a-f1750874d635"
      },
      "outputs": [
        {
          "output_type": "stream",
          "name": "stdout",
          "text": [
            "['and' 'document' 'first' 'is' 'one' 'second' 'the' 'third' 'this']\n"
          ]
        },
        {
          "output_type": "execute_result",
          "data": {
            "text/plain": [
              "array([[0, 1, 1, 1, 0, 0, 1, 0, 1],\n",
              "       [0, 1, 0, 1, 0, 2, 1, 0, 1],\n",
              "       [1, 0, 0, 0, 1, 0, 1, 1, 0],\n",
              "       [0, 1, 1, 1, 0, 0, 1, 0, 1]])"
            ]
          },
          "metadata": {},
          "execution_count": 51
        }
      ],
      "source": [
        "print(vectorizer.get_feature_names_out())\n",
        "\n",
        "\n",
        "\n",
        "X.toarray()"
      ]
    },
    {
      "cell_type": "code",
      "execution_count": 52,
      "metadata": {
        "colab": {
          "base_uri": "https://localhost:8080/"
        },
        "id": "ESjwPEy_Tbqx",
        "outputId": "8ab76fc5-02e2-43af-9889-e3ba1326de70"
      },
      "outputs": [
        {
          "output_type": "execute_result",
          "data": {
            "text/plain": [
              "1"
            ]
          },
          "metadata": {},
          "execution_count": 52
        }
      ],
      "source": [
        "vectorizer.vocabulary_.get('document')"
      ]
    },
    {
      "cell_type": "code",
      "execution_count": 53,
      "metadata": {
        "colab": {
          "base_uri": "https://localhost:8080/"
        },
        "id": "MDTPJ-3uUGHQ",
        "outputId": "a7c49f76-ddca-481d-87fe-b90f4d9c46f1"
      },
      "outputs": [
        {
          "output_type": "execute_result",
          "data": {
            "text/plain": [
              "array([[0, 0, 0, 0, 0, 0, 0, 0, 0]])"
            ]
          },
          "metadata": {},
          "execution_count": 53
        }
      ],
      "source": [
        "vectorizer.transform(['Something completely new.']).toarray()"
      ]
    },
    {
      "cell_type": "code",
      "execution_count": 54,
      "metadata": {
        "colab": {
          "base_uri": "https://localhost:8080/"
        },
        "id": "CaPifWRQUcHF",
        "outputId": "4603a93d-f0ea-49f9-8836-1ebb36b5250a"
      },
      "outputs": [
        {
          "output_type": "execute_result",
          "data": {
            "text/plain": [
              "True"
            ]
          },
          "metadata": {},
          "execution_count": 54
        }
      ],
      "source": [
        "bigram_vectorizer = CountVectorizer(ngram_range=(1, 2),\n",
        "                                    token_pattern=r'\\b\\w+\\b', min_df=1)\n",
        "analyze = bigram_vectorizer.build_analyzer()\n",
        "analyze('Bi-grams are cool!') == (\n",
        "    ['bi', 'grams', 'are', 'cool', 'bi grams', 'grams are', 'are cool'])"
      ]
    },
    {
      "cell_type": "code",
      "execution_count": 55,
      "metadata": {
        "colab": {
          "base_uri": "https://localhost:8080/"
        },
        "id": "OL_yq1RCUnmI",
        "outputId": "ac87c09f-a449-40f6-a086-63acadc6ec08"
      },
      "outputs": [
        {
          "output_type": "execute_result",
          "data": {
            "text/plain": [
              "array([[0, 0, 1, 1, 1, 1, 1, 0, 0, 0, 0, 0, 1, 1, 0, 0, 0, 0, 1, 1, 0],\n",
              "       [0, 0, 1, 0, 0, 1, 1, 0, 0, 2, 1, 1, 1, 0, 1, 0, 0, 0, 1, 1, 0],\n",
              "       [1, 1, 0, 0, 0, 0, 0, 0, 1, 0, 0, 0, 1, 0, 0, 1, 1, 1, 0, 0, 0],\n",
              "       [0, 0, 1, 1, 1, 1, 0, 1, 0, 0, 0, 0, 1, 1, 0, 0, 0, 0, 1, 0, 1]])"
            ]
          },
          "metadata": {},
          "execution_count": 55
        }
      ],
      "source": [
        "X_2 = bigram_vectorizer.fit_transform(corpus).toarray()\n",
        "X_2"
      ]
    },
    {
      "cell_type": "code",
      "execution_count": 56,
      "metadata": {
        "colab": {
          "base_uri": "https://localhost:8080/"
        },
        "id": "Q1kIi6xIWCod",
        "outputId": "febc01d9-c738-441f-be7e-aff292b7fc13"
      },
      "outputs": [
        {
          "output_type": "execute_result",
          "data": {
            "text/plain": [
              "array([0, 0, 0, 1])"
            ]
          },
          "metadata": {},
          "execution_count": 56
        }
      ],
      "source": [
        "feature_index = bigram_vectorizer.vocabulary_.get('is this')\n",
        "X_2[:, feature_index]"
      ]
    },
    {
      "cell_type": "code",
      "execution_count": 57,
      "metadata": {
        "colab": {
          "base_uri": "https://localhost:8080/"
        },
        "id": "pKAB_4h5XQHz",
        "outputId": "e633c737-abaa-4a02-e075-4768e1b9dfd8"
      },
      "outputs": [
        {
          "output_type": "execute_result",
          "data": {
            "text/plain": [
              "TfidfTransformer(smooth_idf=False)"
            ]
          },
          "metadata": {},
          "execution_count": 57
        }
      ],
      "source": [
        "from sklearn.feature_extraction.text import TfidfTransformer\n",
        "transformer = TfidfTransformer(smooth_idf=False)\n",
        "transformer"
      ]
    },
    {
      "cell_type": "code",
      "execution_count": 58,
      "metadata": {
        "colab": {
          "base_uri": "https://localhost:8080/"
        },
        "id": "zCmRr8oBXhAM",
        "outputId": "85b2dd61-3a7a-4ec2-8f31-08b1b3860e04"
      },
      "outputs": [
        {
          "output_type": "stream",
          "name": "stdout",
          "text": [
            "  (0, 2)\t0.5732079309279059\n",
            "  (0, 0)\t0.8194099510753754\n",
            "  (1, 0)\t1.0\n",
            "  (2, 0)\t1.0\n",
            "  (3, 0)\t1.0\n",
            "  (4, 1)\t0.8808994832762984\n",
            "  (4, 0)\t0.47330339145578754\n",
            "  (5, 2)\t0.8135516873095774\n",
            "  (5, 0)\t0.5814926070688599\n",
            "[[0.81940995 0.         0.57320793]\n",
            " [1.         0.         0.        ]\n",
            " [1.         0.         0.        ]\n",
            " [1.         0.         0.        ]\n",
            " [0.47330339 0.88089948 0.        ]\n",
            " [0.58149261 0.         0.81355169]]\n"
          ]
        }
      ],
      "source": [
        "counts = [[3, 0, 1],\n",
        "          [2, 0, 0],\n",
        "          [3, 0, 0],\n",
        "          [4, 0, 0],\n",
        "          [3, 2, 0],\n",
        "          [3, 0, 2]]\n",
        "\n",
        "tfidf = transformer.fit_transform(counts)\n",
        "print(tfidf)\n",
        "\n",
        "\n",
        "\n",
        "print(tfidf.toarray())"
      ]
    },
    {
      "cell_type": "code",
      "execution_count": 59,
      "metadata": {
        "colab": {
          "base_uri": "https://localhost:8080/"
        },
        "id": "-aYnQn6lYr05",
        "outputId": "af1d075e-cb10-4f3d-bc02-a90201907ed9"
      },
      "outputs": [
        {
          "output_type": "execute_result",
          "data": {
            "text/plain": [
              "<4x9 sparse matrix of type '<class 'numpy.float64'>'\n",
              "\twith 19 stored elements in Compressed Sparse Row format>"
            ]
          },
          "metadata": {},
          "execution_count": 59
        }
      ],
      "source": [
        "from sklearn.feature_extraction.text import TfidfVectorizer\n",
        "vectorizer = TfidfVectorizer()\n",
        "vectorizer.fit_transform(corpus)"
      ]
    },
    {
      "cell_type": "code",
      "execution_count": 60,
      "metadata": {
        "id": "99KLNLfP-DeR"
      },
      "outputs": [],
      "source": [
        "# 2 \n",
        "# def get_user_embedding(user_articles_list):\n",
        "#     user_articles_list = eval(user_articles_list)\n",
        "#     user_vector = np.array([doc_dict[doc_id] for doc_id in user_articles_list])\n",
        "#     user_vector = np.median(user_vector, 0)\n",
        "#     return user_vector\n",
        "\n",
        "# to to the cell with the expression 'get_user_embedding(user_articles_list)'\n",
        "# we've got smth strange with median: Best Threshold=0.947663, F-Score=nan, Precision=0.000, Recall=0.000"
      ]
    },
    {
      "cell_type": "code",
      "source": [
        "def get_user_embedding_2(user_articles_list, doc_dict):\n",
        "    user_articles_list = eval(user_articles_list)\n",
        "    user_vector = np.array([doc_dict[doc_id] for doc_id in user_articles_list])\n",
        "    # print(user_vector)\n",
        "    user_vector = np.median(user_vector, 0)  # медиана\n",
        "    return user_vector"
      ],
      "metadata": {
        "id": "L3btLx8f8e3W"
      },
      "execution_count": 61,
      "outputs": []
    },
    {
      "cell_type": "code",
      "source": [
        "user_articles_list #= users['articles'].iloc[33]\n",
        "\n",
        "uv_1 = get_user_embedding(user_articles_list) #\n",
        "uv_2 = get_user_embedding_2(user_articles_list, doc_dict)\n",
        "\n",
        "print(user_articles_list)\n",
        "print(uv_1)\n",
        "print(uv_2)"
      ],
      "metadata": {
        "colab": {
          "base_uri": "https://localhost:8080/"
        },
        "id": "bZ1DUS288hCe",
        "outputId": "5403bb45-c203-408b-beb6-d4dbb7b27f1a"
      },
      "execution_count": 64,
      "outputs": [
        {
          "output_type": "stream",
          "name": "stdout",
          "text": [
            "[323329, 321961, 324743, 323186, 324632, 474690]\n",
            "[0.18716787 0.09378541 0.14574042 0.09412808 0.         0.04461601\n",
            " 0.01421521 0.         0.0182828  0.         0.00967194 0.\n",
            " 0.         0.00694903 0.0480928  0.00255514 0.09300104 0.03044105\n",
            " 0.04064438 0.01435156 0.01656339 0.05417466 0.00889891 0.02893836\n",
            " 0.03795088]\n",
            "[0.15513717 0.05074601 0.04993362 0.0643983  0.         0.\n",
            " 0.00798113 0.         0.         0.         0.         0.\n",
            " 0.         0.         0.         0.         0.01720217 0.\n",
            " 0.02296885 0.         0.         0.         0.         0.\n",
            " 0.01618495]\n"
          ]
        }
      ]
    },
    {
      "cell_type": "code",
      "source": [
        "%%time\n",
        "N_topic = 25\n",
        "user_embeddings_2 = pd.DataFrame([i for i in users['articles'].apply(lambda x: get_user_embedding_2(x, doc_dict))])\n",
        "user_embeddings_2.columns = [f'topic_{i}' for i in range(N_topic)]\n",
        "user_embeddings_2['uid'] = users['uid'].values\n",
        "user_embeddings_2 = user_embeddings_2[['uid']+[f'topic_{i}' for i in range(N_topic)]]\n",
        "user_embeddings_2.head(3)"
      ],
      "metadata": {
        "colab": {
          "base_uri": "https://localhost:8080/",
          "height": 208
        },
        "id": "IfjVWJRe8isU",
        "outputId": "0725b4f3-1f2e-4e00-e3cd-ddad8f0ae930"
      },
      "execution_count": 70,
      "outputs": [
        {
          "output_type": "stream",
          "name": "stdout",
          "text": [
            "CPU times: user 689 ms, sys: 18.1 ms, total: 707 ms\n",
            "Wall time: 722 ms\n"
          ]
        },
        {
          "output_type": "execute_result",
          "data": {
            "text/plain": [
              "       uid   topic_0   topic_1   topic_2  topic_3   topic_4   topic_5  \\\n",
              "0  u105138  0.000000  0.015679  0.148389  0.00000  0.106331  0.021241   \n",
              "1  u108690  0.067570  0.028882  0.059189  0.00808  0.000000  0.124658   \n",
              "2  u108339  0.047549  0.092618  0.118235  0.00000  0.006648  0.016786   \n",
              "\n",
              "    topic_6   topic_7   topic_8  ...  topic_15  topic_16  topic_17  topic_18  \\\n",
              "0  0.000000  0.034881  0.026063  ...  0.000000  0.024238  0.000000  0.038205   \n",
              "1  0.014471  0.000000  0.007678  ...  0.036582  0.136230  0.026339  0.009318   \n",
              "2  0.000000  0.000000  0.025965  ...  0.009150  0.098883  0.023585  0.043370   \n",
              "\n",
              "   topic_19  topic_20  topic_21  topic_22  topic_23  topic_24  \n",
              "0  0.000000  0.000000  0.000000  0.000000  0.000000  0.000000  \n",
              "1  0.019660  0.008266  0.000000  0.011503  0.000000  0.106783  \n",
              "2  0.013293  0.005053  0.087115  0.000000  0.011117  0.073915  \n",
              "\n",
              "[3 rows x 26 columns]"
            ],
            "text/html": [
              "\n",
              "  <div id=\"df-a37c2693-c4ec-4b7d-836f-7c3b900aa35e\">\n",
              "    <div class=\"colab-df-container\">\n",
              "      <div>\n",
              "<style scoped>\n",
              "    .dataframe tbody tr th:only-of-type {\n",
              "        vertical-align: middle;\n",
              "    }\n",
              "\n",
              "    .dataframe tbody tr th {\n",
              "        vertical-align: top;\n",
              "    }\n",
              "\n",
              "    .dataframe thead th {\n",
              "        text-align: right;\n",
              "    }\n",
              "</style>\n",
              "<table border=\"1\" class=\"dataframe\">\n",
              "  <thead>\n",
              "    <tr style=\"text-align: right;\">\n",
              "      <th></th>\n",
              "      <th>uid</th>\n",
              "      <th>topic_0</th>\n",
              "      <th>topic_1</th>\n",
              "      <th>topic_2</th>\n",
              "      <th>topic_3</th>\n",
              "      <th>topic_4</th>\n",
              "      <th>topic_5</th>\n",
              "      <th>topic_6</th>\n",
              "      <th>topic_7</th>\n",
              "      <th>topic_8</th>\n",
              "      <th>...</th>\n",
              "      <th>topic_15</th>\n",
              "      <th>topic_16</th>\n",
              "      <th>topic_17</th>\n",
              "      <th>topic_18</th>\n",
              "      <th>topic_19</th>\n",
              "      <th>topic_20</th>\n",
              "      <th>topic_21</th>\n",
              "      <th>topic_22</th>\n",
              "      <th>topic_23</th>\n",
              "      <th>topic_24</th>\n",
              "    </tr>\n",
              "  </thead>\n",
              "  <tbody>\n",
              "    <tr>\n",
              "      <th>0</th>\n",
              "      <td>u105138</td>\n",
              "      <td>0.000000</td>\n",
              "      <td>0.015679</td>\n",
              "      <td>0.148389</td>\n",
              "      <td>0.00000</td>\n",
              "      <td>0.106331</td>\n",
              "      <td>0.021241</td>\n",
              "      <td>0.000000</td>\n",
              "      <td>0.034881</td>\n",
              "      <td>0.026063</td>\n",
              "      <td>...</td>\n",
              "      <td>0.000000</td>\n",
              "      <td>0.024238</td>\n",
              "      <td>0.000000</td>\n",
              "      <td>0.038205</td>\n",
              "      <td>0.000000</td>\n",
              "      <td>0.000000</td>\n",
              "      <td>0.000000</td>\n",
              "      <td>0.000000</td>\n",
              "      <td>0.000000</td>\n",
              "      <td>0.000000</td>\n",
              "    </tr>\n",
              "    <tr>\n",
              "      <th>1</th>\n",
              "      <td>u108690</td>\n",
              "      <td>0.067570</td>\n",
              "      <td>0.028882</td>\n",
              "      <td>0.059189</td>\n",
              "      <td>0.00808</td>\n",
              "      <td>0.000000</td>\n",
              "      <td>0.124658</td>\n",
              "      <td>0.014471</td>\n",
              "      <td>0.000000</td>\n",
              "      <td>0.007678</td>\n",
              "      <td>...</td>\n",
              "      <td>0.036582</td>\n",
              "      <td>0.136230</td>\n",
              "      <td>0.026339</td>\n",
              "      <td>0.009318</td>\n",
              "      <td>0.019660</td>\n",
              "      <td>0.008266</td>\n",
              "      <td>0.000000</td>\n",
              "      <td>0.011503</td>\n",
              "      <td>0.000000</td>\n",
              "      <td>0.106783</td>\n",
              "    </tr>\n",
              "    <tr>\n",
              "      <th>2</th>\n",
              "      <td>u108339</td>\n",
              "      <td>0.047549</td>\n",
              "      <td>0.092618</td>\n",
              "      <td>0.118235</td>\n",
              "      <td>0.00000</td>\n",
              "      <td>0.006648</td>\n",
              "      <td>0.016786</td>\n",
              "      <td>0.000000</td>\n",
              "      <td>0.000000</td>\n",
              "      <td>0.025965</td>\n",
              "      <td>...</td>\n",
              "      <td>0.009150</td>\n",
              "      <td>0.098883</td>\n",
              "      <td>0.023585</td>\n",
              "      <td>0.043370</td>\n",
              "      <td>0.013293</td>\n",
              "      <td>0.005053</td>\n",
              "      <td>0.087115</td>\n",
              "      <td>0.000000</td>\n",
              "      <td>0.011117</td>\n",
              "      <td>0.073915</td>\n",
              "    </tr>\n",
              "  </tbody>\n",
              "</table>\n",
              "<p>3 rows × 26 columns</p>\n",
              "</div>\n",
              "      <button class=\"colab-df-convert\" onclick=\"convertToInteractive('df-a37c2693-c4ec-4b7d-836f-7c3b900aa35e')\"\n",
              "              title=\"Convert this dataframe to an interactive table.\"\n",
              "              style=\"display:none;\">\n",
              "        \n",
              "  <svg xmlns=\"http://www.w3.org/2000/svg\" height=\"24px\"viewBox=\"0 0 24 24\"\n",
              "       width=\"24px\">\n",
              "    <path d=\"M0 0h24v24H0V0z\" fill=\"none\"/>\n",
              "    <path d=\"M18.56 5.44l.94 2.06.94-2.06 2.06-.94-2.06-.94-.94-2.06-.94 2.06-2.06.94zm-11 1L8.5 8.5l.94-2.06 2.06-.94-2.06-.94L8.5 2.5l-.94 2.06-2.06.94zm10 10l.94 2.06.94-2.06 2.06-.94-2.06-.94-.94-2.06-.94 2.06-2.06.94z\"/><path d=\"M17.41 7.96l-1.37-1.37c-.4-.4-.92-.59-1.43-.59-.52 0-1.04.2-1.43.59L10.3 9.45l-7.72 7.72c-.78.78-.78 2.05 0 2.83L4 21.41c.39.39.9.59 1.41.59.51 0 1.02-.2 1.41-.59l7.78-7.78 2.81-2.81c.8-.78.8-2.07 0-2.86zM5.41 20L4 18.59l7.72-7.72 1.47 1.35L5.41 20z\"/>\n",
              "  </svg>\n",
              "      </button>\n",
              "      \n",
              "  <style>\n",
              "    .colab-df-container {\n",
              "      display:flex;\n",
              "      flex-wrap:wrap;\n",
              "      gap: 12px;\n",
              "    }\n",
              "\n",
              "    .colab-df-convert {\n",
              "      background-color: #E8F0FE;\n",
              "      border: none;\n",
              "      border-radius: 50%;\n",
              "      cursor: pointer;\n",
              "      display: none;\n",
              "      fill: #1967D2;\n",
              "      height: 32px;\n",
              "      padding: 0 0 0 0;\n",
              "      width: 32px;\n",
              "    }\n",
              "\n",
              "    .colab-df-convert:hover {\n",
              "      background-color: #E2EBFA;\n",
              "      box-shadow: 0px 1px 2px rgba(60, 64, 67, 0.3), 0px 1px 3px 1px rgba(60, 64, 67, 0.15);\n",
              "      fill: #174EA6;\n",
              "    }\n",
              "\n",
              "    [theme=dark] .colab-df-convert {\n",
              "      background-color: #3B4455;\n",
              "      fill: #D2E3FC;\n",
              "    }\n",
              "\n",
              "    [theme=dark] .colab-df-convert:hover {\n",
              "      background-color: #434B5C;\n",
              "      box-shadow: 0px 1px 3px 1px rgba(0, 0, 0, 0.15);\n",
              "      filter: drop-shadow(0px 1px 2px rgba(0, 0, 0, 0.3));\n",
              "      fill: #FFFFFF;\n",
              "    }\n",
              "  </style>\n",
              "\n",
              "      <script>\n",
              "        const buttonEl =\n",
              "          document.querySelector('#df-a37c2693-c4ec-4b7d-836f-7c3b900aa35e button.colab-df-convert');\n",
              "        buttonEl.style.display =\n",
              "          google.colab.kernel.accessAllowed ? 'block' : 'none';\n",
              "\n",
              "        async function convertToInteractive(key) {\n",
              "          const element = document.querySelector('#df-a37c2693-c4ec-4b7d-836f-7c3b900aa35e');\n",
              "          const dataTable =\n",
              "            await google.colab.kernel.invokeFunction('convertToInteractive',\n",
              "                                                     [key], {});\n",
              "          if (!dataTable) return;\n",
              "\n",
              "          const docLinkHtml = 'Like what you see? Visit the ' +\n",
              "            '<a target=\"_blank\" href=https://colab.research.google.com/notebooks/data_table.ipynb>data table notebook</a>'\n",
              "            + ' to learn more about interactive tables.';\n",
              "          element.innerHTML = '';\n",
              "          dataTable['output_type'] = 'display_data';\n",
              "          await google.colab.output.renderOutput(dataTable, element);\n",
              "          const docLink = document.createElement('div');\n",
              "          docLink.innerHTML = docLinkHtml;\n",
              "          element.appendChild(docLink);\n",
              "        }\n",
              "      </script>\n",
              "    </div>\n",
              "  </div>\n",
              "  "
            ]
          },
          "metadata": {},
          "execution_count": 70
        }
      ]
    },
    {
      "cell_type": "code",
      "source": [
        "user_embeddings_2.head()"
      ],
      "metadata": {
        "colab": {
          "base_uri": "https://localhost:8080/",
          "height": 236
        },
        "id": "BZs8-2OV8koO",
        "outputId": "4de5f731-1494-492c-fa68-78ee43f78e8f"
      },
      "execution_count": 71,
      "outputs": [
        {
          "output_type": "execute_result",
          "data": {
            "text/plain": [
              "       uid   topic_0   topic_1   topic_2  topic_3   topic_4   topic_5  \\\n",
              "0  u105138  0.000000  0.015679  0.148389  0.00000  0.106331  0.021241   \n",
              "1  u108690  0.067570  0.028882  0.059189  0.00808  0.000000  0.124658   \n",
              "2  u108339  0.047549  0.092618  0.118235  0.00000  0.006648  0.016786   \n",
              "3  u101138  0.000000  0.000000  0.000000  0.00000  0.000000  0.000000   \n",
              "4  u108248  0.025527  0.031333  0.046072  0.00000  0.070342  0.040177   \n",
              "\n",
              "    topic_6   topic_7   topic_8  ...  topic_15  topic_16  topic_17  topic_18  \\\n",
              "0  0.000000  0.034881  0.026063  ...  0.000000  0.024238  0.000000  0.038205   \n",
              "1  0.014471  0.000000  0.007678  ...  0.036582  0.136230  0.026339  0.009318   \n",
              "2  0.000000  0.000000  0.025965  ...  0.009150  0.098883  0.023585  0.043370   \n",
              "3  0.000000  0.000000  0.000000  ...  0.000000  0.000000  0.314520  0.000000   \n",
              "4  0.005045  0.000000  0.023404  ...  0.054462  0.049229  0.023671  0.009112   \n",
              "\n",
              "   topic_19  topic_20  topic_21  topic_22  topic_23  topic_24  \n",
              "0  0.000000  0.000000  0.000000  0.000000  0.000000  0.000000  \n",
              "1  0.019660  0.008266  0.000000  0.011503  0.000000  0.106783  \n",
              "2  0.013293  0.005053  0.087115  0.000000  0.011117  0.073915  \n",
              "3  0.016699  0.012551  0.012410  0.050070  0.000000  0.000000  \n",
              "4  0.006972  0.051761  0.000000  0.000000  0.000000  0.012843  \n",
              "\n",
              "[5 rows x 26 columns]"
            ],
            "text/html": [
              "\n",
              "  <div id=\"df-4f6b6437-a62d-4d77-8a74-48f0db51eb8f\">\n",
              "    <div class=\"colab-df-container\">\n",
              "      <div>\n",
              "<style scoped>\n",
              "    .dataframe tbody tr th:only-of-type {\n",
              "        vertical-align: middle;\n",
              "    }\n",
              "\n",
              "    .dataframe tbody tr th {\n",
              "        vertical-align: top;\n",
              "    }\n",
              "\n",
              "    .dataframe thead th {\n",
              "        text-align: right;\n",
              "    }\n",
              "</style>\n",
              "<table border=\"1\" class=\"dataframe\">\n",
              "  <thead>\n",
              "    <tr style=\"text-align: right;\">\n",
              "      <th></th>\n",
              "      <th>uid</th>\n",
              "      <th>topic_0</th>\n",
              "      <th>topic_1</th>\n",
              "      <th>topic_2</th>\n",
              "      <th>topic_3</th>\n",
              "      <th>topic_4</th>\n",
              "      <th>topic_5</th>\n",
              "      <th>topic_6</th>\n",
              "      <th>topic_7</th>\n",
              "      <th>topic_8</th>\n",
              "      <th>...</th>\n",
              "      <th>topic_15</th>\n",
              "      <th>topic_16</th>\n",
              "      <th>topic_17</th>\n",
              "      <th>topic_18</th>\n",
              "      <th>topic_19</th>\n",
              "      <th>topic_20</th>\n",
              "      <th>topic_21</th>\n",
              "      <th>topic_22</th>\n",
              "      <th>topic_23</th>\n",
              "      <th>topic_24</th>\n",
              "    </tr>\n",
              "  </thead>\n",
              "  <tbody>\n",
              "    <tr>\n",
              "      <th>0</th>\n",
              "      <td>u105138</td>\n",
              "      <td>0.000000</td>\n",
              "      <td>0.015679</td>\n",
              "      <td>0.148389</td>\n",
              "      <td>0.00000</td>\n",
              "      <td>0.106331</td>\n",
              "      <td>0.021241</td>\n",
              "      <td>0.000000</td>\n",
              "      <td>0.034881</td>\n",
              "      <td>0.026063</td>\n",
              "      <td>...</td>\n",
              "      <td>0.000000</td>\n",
              "      <td>0.024238</td>\n",
              "      <td>0.000000</td>\n",
              "      <td>0.038205</td>\n",
              "      <td>0.000000</td>\n",
              "      <td>0.000000</td>\n",
              "      <td>0.000000</td>\n",
              "      <td>0.000000</td>\n",
              "      <td>0.000000</td>\n",
              "      <td>0.000000</td>\n",
              "    </tr>\n",
              "    <tr>\n",
              "      <th>1</th>\n",
              "      <td>u108690</td>\n",
              "      <td>0.067570</td>\n",
              "      <td>0.028882</td>\n",
              "      <td>0.059189</td>\n",
              "      <td>0.00808</td>\n",
              "      <td>0.000000</td>\n",
              "      <td>0.124658</td>\n",
              "      <td>0.014471</td>\n",
              "      <td>0.000000</td>\n",
              "      <td>0.007678</td>\n",
              "      <td>...</td>\n",
              "      <td>0.036582</td>\n",
              "      <td>0.136230</td>\n",
              "      <td>0.026339</td>\n",
              "      <td>0.009318</td>\n",
              "      <td>0.019660</td>\n",
              "      <td>0.008266</td>\n",
              "      <td>0.000000</td>\n",
              "      <td>0.011503</td>\n",
              "      <td>0.000000</td>\n",
              "      <td>0.106783</td>\n",
              "    </tr>\n",
              "    <tr>\n",
              "      <th>2</th>\n",
              "      <td>u108339</td>\n",
              "      <td>0.047549</td>\n",
              "      <td>0.092618</td>\n",
              "      <td>0.118235</td>\n",
              "      <td>0.00000</td>\n",
              "      <td>0.006648</td>\n",
              "      <td>0.016786</td>\n",
              "      <td>0.000000</td>\n",
              "      <td>0.000000</td>\n",
              "      <td>0.025965</td>\n",
              "      <td>...</td>\n",
              "      <td>0.009150</td>\n",
              "      <td>0.098883</td>\n",
              "      <td>0.023585</td>\n",
              "      <td>0.043370</td>\n",
              "      <td>0.013293</td>\n",
              "      <td>0.005053</td>\n",
              "      <td>0.087115</td>\n",
              "      <td>0.000000</td>\n",
              "      <td>0.011117</td>\n",
              "      <td>0.073915</td>\n",
              "    </tr>\n",
              "    <tr>\n",
              "      <th>3</th>\n",
              "      <td>u101138</td>\n",
              "      <td>0.000000</td>\n",
              "      <td>0.000000</td>\n",
              "      <td>0.000000</td>\n",
              "      <td>0.00000</td>\n",
              "      <td>0.000000</td>\n",
              "      <td>0.000000</td>\n",
              "      <td>0.000000</td>\n",
              "      <td>0.000000</td>\n",
              "      <td>0.000000</td>\n",
              "      <td>...</td>\n",
              "      <td>0.000000</td>\n",
              "      <td>0.000000</td>\n",
              "      <td>0.314520</td>\n",
              "      <td>0.000000</td>\n",
              "      <td>0.016699</td>\n",
              "      <td>0.012551</td>\n",
              "      <td>0.012410</td>\n",
              "      <td>0.050070</td>\n",
              "      <td>0.000000</td>\n",
              "      <td>0.000000</td>\n",
              "    </tr>\n",
              "    <tr>\n",
              "      <th>4</th>\n",
              "      <td>u108248</td>\n",
              "      <td>0.025527</td>\n",
              "      <td>0.031333</td>\n",
              "      <td>0.046072</td>\n",
              "      <td>0.00000</td>\n",
              "      <td>0.070342</td>\n",
              "      <td>0.040177</td>\n",
              "      <td>0.005045</td>\n",
              "      <td>0.000000</td>\n",
              "      <td>0.023404</td>\n",
              "      <td>...</td>\n",
              "      <td>0.054462</td>\n",
              "      <td>0.049229</td>\n",
              "      <td>0.023671</td>\n",
              "      <td>0.009112</td>\n",
              "      <td>0.006972</td>\n",
              "      <td>0.051761</td>\n",
              "      <td>0.000000</td>\n",
              "      <td>0.000000</td>\n",
              "      <td>0.000000</td>\n",
              "      <td>0.012843</td>\n",
              "    </tr>\n",
              "  </tbody>\n",
              "</table>\n",
              "<p>5 rows × 26 columns</p>\n",
              "</div>\n",
              "      <button class=\"colab-df-convert\" onclick=\"convertToInteractive('df-4f6b6437-a62d-4d77-8a74-48f0db51eb8f')\"\n",
              "              title=\"Convert this dataframe to an interactive table.\"\n",
              "              style=\"display:none;\">\n",
              "        \n",
              "  <svg xmlns=\"http://www.w3.org/2000/svg\" height=\"24px\"viewBox=\"0 0 24 24\"\n",
              "       width=\"24px\">\n",
              "    <path d=\"M0 0h24v24H0V0z\" fill=\"none\"/>\n",
              "    <path d=\"M18.56 5.44l.94 2.06.94-2.06 2.06-.94-2.06-.94-.94-2.06-.94 2.06-2.06.94zm-11 1L8.5 8.5l.94-2.06 2.06-.94-2.06-.94L8.5 2.5l-.94 2.06-2.06.94zm10 10l.94 2.06.94-2.06 2.06-.94-2.06-.94-.94-2.06-.94 2.06-2.06.94z\"/><path d=\"M17.41 7.96l-1.37-1.37c-.4-.4-.92-.59-1.43-.59-.52 0-1.04.2-1.43.59L10.3 9.45l-7.72 7.72c-.78.78-.78 2.05 0 2.83L4 21.41c.39.39.9.59 1.41.59.51 0 1.02-.2 1.41-.59l7.78-7.78 2.81-2.81c.8-.78.8-2.07 0-2.86zM5.41 20L4 18.59l7.72-7.72 1.47 1.35L5.41 20z\"/>\n",
              "  </svg>\n",
              "      </button>\n",
              "      \n",
              "  <style>\n",
              "    .colab-df-container {\n",
              "      display:flex;\n",
              "      flex-wrap:wrap;\n",
              "      gap: 12px;\n",
              "    }\n",
              "\n",
              "    .colab-df-convert {\n",
              "      background-color: #E8F0FE;\n",
              "      border: none;\n",
              "      border-radius: 50%;\n",
              "      cursor: pointer;\n",
              "      display: none;\n",
              "      fill: #1967D2;\n",
              "      height: 32px;\n",
              "      padding: 0 0 0 0;\n",
              "      width: 32px;\n",
              "    }\n",
              "\n",
              "    .colab-df-convert:hover {\n",
              "      background-color: #E2EBFA;\n",
              "      box-shadow: 0px 1px 2px rgba(60, 64, 67, 0.3), 0px 1px 3px 1px rgba(60, 64, 67, 0.15);\n",
              "      fill: #174EA6;\n",
              "    }\n",
              "\n",
              "    [theme=dark] .colab-df-convert {\n",
              "      background-color: #3B4455;\n",
              "      fill: #D2E3FC;\n",
              "    }\n",
              "\n",
              "    [theme=dark] .colab-df-convert:hover {\n",
              "      background-color: #434B5C;\n",
              "      box-shadow: 0px 1px 3px 1px rgba(0, 0, 0, 0.15);\n",
              "      filter: drop-shadow(0px 1px 2px rgba(0, 0, 0, 0.3));\n",
              "      fill: #FFFFFF;\n",
              "    }\n",
              "  </style>\n",
              "\n",
              "      <script>\n",
              "        const buttonEl =\n",
              "          document.querySelector('#df-4f6b6437-a62d-4d77-8a74-48f0db51eb8f button.colab-df-convert');\n",
              "        buttonEl.style.display =\n",
              "          google.colab.kernel.accessAllowed ? 'block' : 'none';\n",
              "\n",
              "        async function convertToInteractive(key) {\n",
              "          const element = document.querySelector('#df-4f6b6437-a62d-4d77-8a74-48f0db51eb8f');\n",
              "          const dataTable =\n",
              "            await google.colab.kernel.invokeFunction('convertToInteractive',\n",
              "                                                     [key], {});\n",
              "          if (!dataTable) return;\n",
              "\n",
              "          const docLinkHtml = 'Like what you see? Visit the ' +\n",
              "            '<a target=\"_blank\" href=https://colab.research.google.com/notebooks/data_table.ipynb>data table notebook</a>'\n",
              "            + ' to learn more about interactive tables.';\n",
              "          element.innerHTML = '';\n",
              "          dataTable['output_type'] = 'display_data';\n",
              "          await google.colab.output.renderOutput(dataTable, element);\n",
              "          const docLink = document.createElement('div');\n",
              "          docLink.innerHTML = docLinkHtml;\n",
              "          element.appendChild(docLink);\n",
              "        }\n",
              "      </script>\n",
              "    </div>\n",
              "  </div>\n",
              "  "
            ]
          },
          "metadata": {},
          "execution_count": 71
        }
      ]
    },
    {
      "cell_type": "code",
      "source": [
        "X_2 = pd.merge(user_embeddings_2, target, 'left')\n",
        "X_2.head(3)"
      ],
      "metadata": {
        "colab": {
          "base_uri": "https://localhost:8080/",
          "height": 173
        },
        "id": "jBPy1c1V8mJF",
        "outputId": "31b03314-1af0-455e-b25c-719ead7c9e5f"
      },
      "execution_count": 72,
      "outputs": [
        {
          "output_type": "execute_result",
          "data": {
            "text/plain": [
              "       uid   topic_0   topic_1   topic_2  topic_3   topic_4   topic_5  \\\n",
              "0  u105138  0.000000  0.015679  0.148389  0.00000  0.106331  0.021241   \n",
              "1  u108690  0.067570  0.028882  0.059189  0.00808  0.000000  0.124658   \n",
              "2  u108339  0.047549  0.092618  0.118235  0.00000  0.006648  0.016786   \n",
              "\n",
              "    topic_6   topic_7   topic_8  ...  topic_16  topic_17  topic_18  topic_19  \\\n",
              "0  0.000000  0.034881  0.026063  ...  0.024238  0.000000  0.038205  0.000000   \n",
              "1  0.014471  0.000000  0.007678  ...  0.136230  0.026339  0.009318  0.019660   \n",
              "2  0.000000  0.000000  0.025965  ...  0.098883  0.023585  0.043370  0.013293   \n",
              "\n",
              "   topic_20  topic_21  topic_22  topic_23  topic_24  churn  \n",
              "0  0.000000  0.000000  0.000000  0.000000  0.000000      0  \n",
              "1  0.008266  0.000000  0.011503  0.000000  0.106783      1  \n",
              "2  0.005053  0.087115  0.000000  0.011117  0.073915      1  \n",
              "\n",
              "[3 rows x 27 columns]"
            ],
            "text/html": [
              "\n",
              "  <div id=\"df-e673aec2-a4c8-49fe-bf14-3ee58428a312\">\n",
              "    <div class=\"colab-df-container\">\n",
              "      <div>\n",
              "<style scoped>\n",
              "    .dataframe tbody tr th:only-of-type {\n",
              "        vertical-align: middle;\n",
              "    }\n",
              "\n",
              "    .dataframe tbody tr th {\n",
              "        vertical-align: top;\n",
              "    }\n",
              "\n",
              "    .dataframe thead th {\n",
              "        text-align: right;\n",
              "    }\n",
              "</style>\n",
              "<table border=\"1\" class=\"dataframe\">\n",
              "  <thead>\n",
              "    <tr style=\"text-align: right;\">\n",
              "      <th></th>\n",
              "      <th>uid</th>\n",
              "      <th>topic_0</th>\n",
              "      <th>topic_1</th>\n",
              "      <th>topic_2</th>\n",
              "      <th>topic_3</th>\n",
              "      <th>topic_4</th>\n",
              "      <th>topic_5</th>\n",
              "      <th>topic_6</th>\n",
              "      <th>topic_7</th>\n",
              "      <th>topic_8</th>\n",
              "      <th>...</th>\n",
              "      <th>topic_16</th>\n",
              "      <th>topic_17</th>\n",
              "      <th>topic_18</th>\n",
              "      <th>topic_19</th>\n",
              "      <th>topic_20</th>\n",
              "      <th>topic_21</th>\n",
              "      <th>topic_22</th>\n",
              "      <th>topic_23</th>\n",
              "      <th>topic_24</th>\n",
              "      <th>churn</th>\n",
              "    </tr>\n",
              "  </thead>\n",
              "  <tbody>\n",
              "    <tr>\n",
              "      <th>0</th>\n",
              "      <td>u105138</td>\n",
              "      <td>0.000000</td>\n",
              "      <td>0.015679</td>\n",
              "      <td>0.148389</td>\n",
              "      <td>0.00000</td>\n",
              "      <td>0.106331</td>\n",
              "      <td>0.021241</td>\n",
              "      <td>0.000000</td>\n",
              "      <td>0.034881</td>\n",
              "      <td>0.026063</td>\n",
              "      <td>...</td>\n",
              "      <td>0.024238</td>\n",
              "      <td>0.000000</td>\n",
              "      <td>0.038205</td>\n",
              "      <td>0.000000</td>\n",
              "      <td>0.000000</td>\n",
              "      <td>0.000000</td>\n",
              "      <td>0.000000</td>\n",
              "      <td>0.000000</td>\n",
              "      <td>0.000000</td>\n",
              "      <td>0</td>\n",
              "    </tr>\n",
              "    <tr>\n",
              "      <th>1</th>\n",
              "      <td>u108690</td>\n",
              "      <td>0.067570</td>\n",
              "      <td>0.028882</td>\n",
              "      <td>0.059189</td>\n",
              "      <td>0.00808</td>\n",
              "      <td>0.000000</td>\n",
              "      <td>0.124658</td>\n",
              "      <td>0.014471</td>\n",
              "      <td>0.000000</td>\n",
              "      <td>0.007678</td>\n",
              "      <td>...</td>\n",
              "      <td>0.136230</td>\n",
              "      <td>0.026339</td>\n",
              "      <td>0.009318</td>\n",
              "      <td>0.019660</td>\n",
              "      <td>0.008266</td>\n",
              "      <td>0.000000</td>\n",
              "      <td>0.011503</td>\n",
              "      <td>0.000000</td>\n",
              "      <td>0.106783</td>\n",
              "      <td>1</td>\n",
              "    </tr>\n",
              "    <tr>\n",
              "      <th>2</th>\n",
              "      <td>u108339</td>\n",
              "      <td>0.047549</td>\n",
              "      <td>0.092618</td>\n",
              "      <td>0.118235</td>\n",
              "      <td>0.00000</td>\n",
              "      <td>0.006648</td>\n",
              "      <td>0.016786</td>\n",
              "      <td>0.000000</td>\n",
              "      <td>0.000000</td>\n",
              "      <td>0.025965</td>\n",
              "      <td>...</td>\n",
              "      <td>0.098883</td>\n",
              "      <td>0.023585</td>\n",
              "      <td>0.043370</td>\n",
              "      <td>0.013293</td>\n",
              "      <td>0.005053</td>\n",
              "      <td>0.087115</td>\n",
              "      <td>0.000000</td>\n",
              "      <td>0.011117</td>\n",
              "      <td>0.073915</td>\n",
              "      <td>1</td>\n",
              "    </tr>\n",
              "  </tbody>\n",
              "</table>\n",
              "<p>3 rows × 27 columns</p>\n",
              "</div>\n",
              "      <button class=\"colab-df-convert\" onclick=\"convertToInteractive('df-e673aec2-a4c8-49fe-bf14-3ee58428a312')\"\n",
              "              title=\"Convert this dataframe to an interactive table.\"\n",
              "              style=\"display:none;\">\n",
              "        \n",
              "  <svg xmlns=\"http://www.w3.org/2000/svg\" height=\"24px\"viewBox=\"0 0 24 24\"\n",
              "       width=\"24px\">\n",
              "    <path d=\"M0 0h24v24H0V0z\" fill=\"none\"/>\n",
              "    <path d=\"M18.56 5.44l.94 2.06.94-2.06 2.06-.94-2.06-.94-.94-2.06-.94 2.06-2.06.94zm-11 1L8.5 8.5l.94-2.06 2.06-.94-2.06-.94L8.5 2.5l-.94 2.06-2.06.94zm10 10l.94 2.06.94-2.06 2.06-.94-2.06-.94-.94-2.06-.94 2.06-2.06.94z\"/><path d=\"M17.41 7.96l-1.37-1.37c-.4-.4-.92-.59-1.43-.59-.52 0-1.04.2-1.43.59L10.3 9.45l-7.72 7.72c-.78.78-.78 2.05 0 2.83L4 21.41c.39.39.9.59 1.41.59.51 0 1.02-.2 1.41-.59l7.78-7.78 2.81-2.81c.8-.78.8-2.07 0-2.86zM5.41 20L4 18.59l7.72-7.72 1.47 1.35L5.41 20z\"/>\n",
              "  </svg>\n",
              "      </button>\n",
              "      \n",
              "  <style>\n",
              "    .colab-df-container {\n",
              "      display:flex;\n",
              "      flex-wrap:wrap;\n",
              "      gap: 12px;\n",
              "    }\n",
              "\n",
              "    .colab-df-convert {\n",
              "      background-color: #E8F0FE;\n",
              "      border: none;\n",
              "      border-radius: 50%;\n",
              "      cursor: pointer;\n",
              "      display: none;\n",
              "      fill: #1967D2;\n",
              "      height: 32px;\n",
              "      padding: 0 0 0 0;\n",
              "      width: 32px;\n",
              "    }\n",
              "\n",
              "    .colab-df-convert:hover {\n",
              "      background-color: #E2EBFA;\n",
              "      box-shadow: 0px 1px 2px rgba(60, 64, 67, 0.3), 0px 1px 3px 1px rgba(60, 64, 67, 0.15);\n",
              "      fill: #174EA6;\n",
              "    }\n",
              "\n",
              "    [theme=dark] .colab-df-convert {\n",
              "      background-color: #3B4455;\n",
              "      fill: #D2E3FC;\n",
              "    }\n",
              "\n",
              "    [theme=dark] .colab-df-convert:hover {\n",
              "      background-color: #434B5C;\n",
              "      box-shadow: 0px 1px 3px 1px rgba(0, 0, 0, 0.15);\n",
              "      filter: drop-shadow(0px 1px 2px rgba(0, 0, 0, 0.3));\n",
              "      fill: #FFFFFF;\n",
              "    }\n",
              "  </style>\n",
              "\n",
              "      <script>\n",
              "        const buttonEl =\n",
              "          document.querySelector('#df-e673aec2-a4c8-49fe-bf14-3ee58428a312 button.colab-df-convert');\n",
              "        buttonEl.style.display =\n",
              "          google.colab.kernel.accessAllowed ? 'block' : 'none';\n",
              "\n",
              "        async function convertToInteractive(key) {\n",
              "          const element = document.querySelector('#df-e673aec2-a4c8-49fe-bf14-3ee58428a312');\n",
              "          const dataTable =\n",
              "            await google.colab.kernel.invokeFunction('convertToInteractive',\n",
              "                                                     [key], {});\n",
              "          if (!dataTable) return;\n",
              "\n",
              "          const docLinkHtml = 'Like what you see? Visit the ' +\n",
              "            '<a target=\"_blank\" href=https://colab.research.google.com/notebooks/data_table.ipynb>data table notebook</a>'\n",
              "            + ' to learn more about interactive tables.';\n",
              "          element.innerHTML = '';\n",
              "          dataTable['output_type'] = 'display_data';\n",
              "          await google.colab.output.renderOutput(dataTable, element);\n",
              "          const docLink = document.createElement('div');\n",
              "          docLink.innerHTML = docLinkHtml;\n",
              "          element.appendChild(docLink);\n",
              "        }\n",
              "      </script>\n",
              "    </div>\n",
              "  </div>\n",
              "  "
            ]
          },
          "metadata": {},
          "execution_count": 72
        }
      ]
    },
    {
      "cell_type": "code",
      "source": [
        "# разделим данные на train/test\n",
        "X_2_train, X_2_test, y_2_train, y_2_test = train_test_split(X_2[[f'topic_{i}' for i in range(N_topic)]], \n",
        "                                                    X_2['churn'], random_state=0)"
      ],
      "metadata": {
        "id": "OpRzdX6G8oSk"
      },
      "execution_count": 73,
      "outputs": []
    },
    {
      "cell_type": "code",
      "source": [
        "# logreg_2 = LogisticRegression()\n",
        "from sklearn.ensemble import RandomForestClassifier\n",
        "logreg_2 = RandomForestClassifier()\n",
        "# обучим \n",
        "logreg_2.fit(X_2_train, y_2_train)"
      ],
      "metadata": {
        "colab": {
          "base_uri": "https://localhost:8080/"
        },
        "id": "MH3cxP4x8p90",
        "outputId": "2c1a11cb-9428-4f62-81e7-e02e79ccd937"
      },
      "execution_count": 76,
      "outputs": [
        {
          "output_type": "execute_result",
          "data": {
            "text/plain": [
              "RandomForestClassifier()"
            ]
          },
          "metadata": {},
          "execution_count": 76
        }
      ]
    },
    {
      "cell_type": "code",
      "source": [
        "# наши прогнозы для тестовой выборки\n",
        "preds_2 = logreg_2.predict_proba(X_2_test)[:, 1]\n",
        "preds_2[:10]"
      ],
      "metadata": {
        "colab": {
          "base_uri": "https://localhost:8080/"
        },
        "id": "MZu1avpI8sVl",
        "outputId": "023ffaf3-22ef-4c7f-b164-d6bf62660b90"
      },
      "execution_count": 77,
      "outputs": [
        {
          "output_type": "execute_result",
          "data": {
            "text/plain": [
              "array([0.04, 0.  , 1.  , 0.02, 0.  , 0.04, 0.15, 0.  , 0.  , 0.  ])"
            ]
          },
          "metadata": {},
          "execution_count": 77
        }
      ]
    },
    {
      "cell_type": "code",
      "source": [
        "n = 50\n",
        "plt.figure(figsize=(10, 6))\n",
        "plt.plot(preds_2[:n], label='predict')\n",
        "plt.plot(y_2_test.values[:n], label='true')\n",
        "plt.title('ответ модели')\n",
        "plt.xlabel('№ примера')\n",
        "plt.ylabel('выход')\n",
        "plt.legend()\n",
        "plt.grid('On')\n",
        "plt.show()"
      ],
      "metadata": {
        "colab": {
          "base_uri": "https://localhost:8080/",
          "height": 418
        },
        "id": "gLIQysjC8upU",
        "outputId": "4ec1419c-5f85-4cb3-fc4c-e00f7ed015ff"
      },
      "execution_count": 78,
      "outputs": [
        {
          "output_type": "display_data",
          "data": {
            "text/plain": [
              "<Figure size 720x432 with 1 Axes>"
            ],
            "image/png": "[encoded data removed]"
          },
          "metadata": {
            "needs_background": "light"
          }
        }
      ]
    },
    {
      "cell_type": "code",
      "source": [
        "precision_2, recall_2, thresholds_2 = precision_recall_curve(y_2_test, preds_2)\n",
        "# print(precision_2 + recall_2)\n",
        "fscore_2 = (2 * precision_2 * recall_2) / (precision_2 + recall_2)\n",
        "# locate the index of the largest f score\n",
        "ix_2 = np.argmax(fscore_2)\n",
        "print(f'Best Threshold={thresholds_2[ix_2]}, F-Score={fscore_2[ix_2]:.3f}, Precision={precision_2[ix_2]:.3f}, Recall={recall_2[ix_2]:.3f}')      "
      ],
      "metadata": {
        "colab": {
          "base_uri": "https://localhost:8080/"
        },
        "id": "TC1eUJez8xGT",
        "outputId": "3151dfb4-1ebf-444c-c313-550bb3947130"
      },
      "execution_count": 79,
      "outputs": [
        {
          "output_type": "stream",
          "name": "stdout",
          "text": [
            "Best Threshold=0.26, F-Score=0.947, Precision=0.916, Recall=0.980\n"
          ]
        }
      ]
    },
    {
      "cell_type": "code",
      "source": [
        "font = {'size' : 15}\n",
        "\n",
        "plt.rc('font', **font)\n",
        "\n",
        "cnf_matrix_2 = confusion_matrix(y_2_test, preds_2 > thresholds_2[ix_2])\n",
        "\n",
        "plt.figure(figsize=(10, 8))\n",
        "plot_confusion_matrix(cnf_matrix_2, classes=['Non-Churn', 'churn'],\n",
        "                      title='Confusion matrix')\n",
        "plt.savefig(\"conf_matrix.png\")\n",
        "plt.show()"
      ],
      "metadata": {
        "colab": {
          "base_uri": "https://localhost:8080/",
          "height": 645
        },
        "id": "pU-2JBxa8zYb",
        "outputId": "d9398d62-d778-4630-be32-408581c8e3d0"
      },
      "execution_count": 80,
      "outputs": [
        {
          "output_type": "stream",
          "name": "stdout",
          "text": [
            "Confusion matrix, without normalization\n",
            "[[1734   21]\n",
            " [   6  239]]\n"
          ]
        },
        {
          "output_type": "display_data",
          "data": {
            "text/plain": [
              "<Figure size 720x576 with 2 Axes>"
            ],
            "image/png": "[encoded data removed]"
          },
          "metadata": {
            "needs_background": "light"
          }
        }
      ]
    },
    {
      "cell_type": "code",
      "source": [
        "roc_auc_2 = roc_auc_score(y_2_test, preds_2)\n",
        "roc_auc_2"
      ],
      "metadata": {
        "colab": {
          "base_uri": "https://localhost:8080/"
        },
        "id": "6NiBqDJ-81Ut",
        "outputId": "65d9c390-6082-466c-8349-020d21ed0d4b"
      },
      "execution_count": 81,
      "outputs": [
        {
          "output_type": "execute_result",
          "data": {
            "text/plain": [
              "0.9986231757660329"
            ]
          },
          "metadata": {},
          "execution_count": 81
        }
      ]
    },
    {
      "cell_type": "code",
      "source": [
        "# 3\n",
        "# def get_user_embedding(user_articles_list):\n",
        "#     user_articles_list = eval(user_articles_list)\n",
        "#     user_vector = np.array([doc_dict[doc_id] for doc_id in user_articles_list])\n",
        "#     user_vector = np.max(user_vector, 0)\n",
        "#     return user_vector\n",
        "\n",
        "# to to the cell with the expression 'get_user_embedding(user_articles_list)'\n",
        "# we've got with max: Best Threshold=0.381851, F-Score=0.786, Precision=0.777, Recall=0.796"
      ],
      "metadata": {
        "id": "pJtBvYcJJi_P"
      },
      "execution_count": 82,
      "outputs": []
    },
    {
      "cell_type": "code",
      "source": [
        "def get_user_embedding_3(user_articles_list, doc_dict):\n",
        "    user_articles_list = eval(user_articles_list)\n",
        "    user_vector = np.array([doc_dict[doc_id] for doc_id in user_articles_list])\n",
        "    # print(user_vector)\n",
        "    user_vector = np.max(user_vector, 0)  # медиана\n",
        "    return user_vector"
      ],
      "metadata": {
        "id": "Cz4Xc0Ls84Vb"
      },
      "execution_count": 83,
      "outputs": []
    },
    {
      "cell_type": "code",
      "source": [
        "user_articles_list #= users['articles'].iloc[33]\n",
        "\n",
        "uv_1 = get_user_embedding(user_articles_list) #, doc_dict\n",
        "uv_2 = get_user_embedding_2(user_articles_list, doc_dict)\n",
        "uv_3 = get_user_embedding_3(user_articles_list, doc_dict)\n",
        "\n",
        "print(user_articles_list)\n",
        "print(uv_1)\n",
        "print(uv_2)\n",
        "print(uv_3)"
      ],
      "metadata": {
        "colab": {
          "base_uri": "https://localhost:8080/"
        },
        "id": "kMldm9sN846T",
        "outputId": "d07b406d-618b-4b3a-9254-2dd1e40d44d1"
      },
      "execution_count": 85,
      "outputs": [
        {
          "output_type": "stream",
          "name": "stdout",
          "text": [
            "[323329, 321961, 324743, 323186, 324632, 474690]\n",
            "[0.18716787 0.09378541 0.14574042 0.09412808 0.         0.04461601\n",
            " 0.01421521 0.         0.0182828  0.         0.00967194 0.\n",
            " 0.         0.00694903 0.0480928  0.00255514 0.09300104 0.03044105\n",
            " 0.04064438 0.01435156 0.01656339 0.05417466 0.00889891 0.02893836\n",
            " 0.03795088]\n",
            "[0.15513717 0.05074601 0.04993362 0.0643983  0.         0.\n",
            " 0.00798113 0.         0.         0.         0.         0.\n",
            " 0.         0.         0.         0.         0.01720217 0.\n",
            " 0.02296885 0.         0.         0.         0.         0.\n",
            " 0.01618495]\n",
            "[0.45108801 0.33663112 0.43351549 0.23184422 0.         0.16611645\n",
            " 0.05196203 0.         0.06026065 0.         0.03790142 0.\n",
            " 0.         0.02736155 0.28855678 0.01533083 0.3948929  0.1060301\n",
            " 0.11390609 0.06768082 0.05308654 0.30665341 0.05339343 0.13559216\n",
            " 0.15119171]\n"
          ]
        }
      ]
    },
    {
      "cell_type": "code",
      "source": [
        "%%time\n",
        "user_embeddings_3 = pd.DataFrame([i for i in users['articles'].apply(lambda x: get_user_embedding_3(x, doc_dict))])\n",
        "user_embeddings_3.columns = [f'topic_{i}' for i in range(N_topic)]\n",
        "user_embeddings_3['uid'] = users['uid'].values\n",
        "user_embeddings_3 = user_embeddings_3[['uid']+[f'topic_{i}' for i in range(N_topic)]]\n",
        "user_embeddings_3.head(3)"
      ],
      "metadata": {
        "colab": {
          "base_uri": "https://localhost:8080/",
          "height": 208
        },
        "id": "EgxVj9EW87-K",
        "outputId": "c64bf0f4-8b18-4c20-9121-3b3118ef010e"
      },
      "execution_count": 86,
      "outputs": [
        {
          "output_type": "stream",
          "name": "stdout",
          "text": [
            "CPU times: user 316 ms, sys: 5.83 ms, total: 322 ms\n",
            "Wall time: 322 ms\n"
          ]
        },
        {
          "output_type": "execute_result",
          "data": {
            "text/plain": [
              "       uid   topic_0   topic_1   topic_2   topic_3   topic_4   topic_5  \\\n",
              "0  u105138  0.000000  0.191468  0.267059  0.071999  0.231648  0.099449   \n",
              "1  u108690  0.153695  0.089838  0.343897  0.182331  0.056998  0.214476   \n",
              "2  u108339  0.211432  0.296806  0.270804  0.024852  0.032713  0.109306   \n",
              "\n",
              "    topic_6   topic_7   topic_8  ...  topic_15  topic_16  topic_17  topic_18  \\\n",
              "0  0.174830  0.162903  0.321116  ...  0.144855  0.131942  0.174077  0.161391   \n",
              "1  0.087359  0.081202  0.087641  ...  0.081996  0.297224  0.147784  0.062458   \n",
              "2  0.041065  0.013635  0.093576  ...  0.042105  0.296396  0.040868  0.273968   \n",
              "\n",
              "   topic_19  topic_20  topic_21  topic_22  topic_23  topic_24  \n",
              "0  0.047191  0.000000  0.041817  0.158387  0.101417  0.163154  \n",
              "1  0.046752  0.095065  0.075668  0.187759  0.107266  0.165702  \n",
              "2  0.093536  0.050851  0.264885  0.000000  0.076356  0.257398  \n",
              "\n",
              "[3 rows x 26 columns]"
            ],
            "text/html": [
              "\n",
              "  <div id=\"df-ac669d85-a054-463a-8eef-90b0e86f2092\">\n",
              "    <div class=\"colab-df-container\">\n",
              "      <div>\n",
              "<style scoped>\n",
              "    .dataframe tbody tr th:only-of-type {\n",
              "        vertical-align: middle;\n",
              "    }\n",
              "\n",
              "    .dataframe tbody tr th {\n",
              "        vertical-align: top;\n",
              "    }\n",
              "\n",
              "    .dataframe thead th {\n",
              "        text-align: right;\n",
              "    }\n",
              "</style>\n",
              "<table border=\"1\" class=\"dataframe\">\n",
              "  <thead>\n",
              "    <tr style=\"text-align: right;\">\n",
              "      <th></th>\n",
              "      <th>uid</th>\n",
              "      <th>topic_0</th>\n",
              "      <th>topic_1</th>\n",
              "      <th>topic_2</th>\n",
              "      <th>topic_3</th>\n",
              "      <th>topic_4</th>\n",
              "      <th>topic_5</th>\n",
              "      <th>topic_6</th>\n",
              "      <th>topic_7</th>\n",
              "      <th>topic_8</th>\n",
              "      <th>...</th>\n",
              "      <th>topic_15</th>\n",
              "      <th>topic_16</th>\n",
              "      <th>topic_17</th>\n",
              "      <th>topic_18</th>\n",
              "      <th>topic_19</th>\n",
              "      <th>topic_20</th>\n",
              "      <th>topic_21</th>\n",
              "      <th>topic_22</th>\n",
              "      <th>topic_23</th>\n",
              "      <th>topic_24</th>\n",
              "    </tr>\n",
              "  </thead>\n",
              "  <tbody>\n",
              "    <tr>\n",
              "      <th>0</th>\n",
              "      <td>u105138</td>\n",
              "      <td>0.000000</td>\n",
              "      <td>0.191468</td>\n",
              "      <td>0.267059</td>\n",
              "      <td>0.071999</td>\n",
              "      <td>0.231648</td>\n",
              "      <td>0.099449</td>\n",
              "      <td>0.174830</td>\n",
              "      <td>0.162903</td>\n",
              "      <td>0.321116</td>\n",
              "      <td>...</td>\n",
              "      <td>0.144855</td>\n",
              "      <td>0.131942</td>\n",
              "      <td>0.174077</td>\n",
              "      <td>0.161391</td>\n",
              "      <td>0.047191</td>\n",
              "      <td>0.000000</td>\n",
              "      <td>0.041817</td>\n",
              "      <td>0.158387</td>\n",
              "      <td>0.101417</td>\n",
              "      <td>0.163154</td>\n",
              "    </tr>\n",
              "    <tr>\n",
              "      <th>1</th>\n",
              "      <td>u108690</td>\n",
              "      <td>0.153695</td>\n",
              "      <td>0.089838</td>\n",
              "      <td>0.343897</td>\n",
              "      <td>0.182331</td>\n",
              "      <td>0.056998</td>\n",
              "      <td>0.214476</td>\n",
              "      <td>0.087359</td>\n",
              "      <td>0.081202</td>\n",
              "      <td>0.087641</td>\n",
              "      <td>...</td>\n",
              "      <td>0.081996</td>\n",
              "      <td>0.297224</td>\n",
              "      <td>0.147784</td>\n",
              "      <td>0.062458</td>\n",
              "      <td>0.046752</td>\n",
              "      <td>0.095065</td>\n",
              "      <td>0.075668</td>\n",
              "      <td>0.187759</td>\n",
              "      <td>0.107266</td>\n",
              "      <td>0.165702</td>\n",
              "    </tr>\n",
              "    <tr>\n",
              "      <th>2</th>\n",
              "      <td>u108339</td>\n",
              "      <td>0.211432</td>\n",
              "      <td>0.296806</td>\n",
              "      <td>0.270804</td>\n",
              "      <td>0.024852</td>\n",
              "      <td>0.032713</td>\n",
              "      <td>0.109306</td>\n",
              "      <td>0.041065</td>\n",
              "      <td>0.013635</td>\n",
              "      <td>0.093576</td>\n",
              "      <td>...</td>\n",
              "      <td>0.042105</td>\n",
              "      <td>0.296396</td>\n",
              "      <td>0.040868</td>\n",
              "      <td>0.273968</td>\n",
              "      <td>0.093536</td>\n",
              "      <td>0.050851</td>\n",
              "      <td>0.264885</td>\n",
              "      <td>0.000000</td>\n",
              "      <td>0.076356</td>\n",
              "      <td>0.257398</td>\n",
              "    </tr>\n",
              "  </tbody>\n",
              "</table>\n",
              "<p>3 rows × 26 columns</p>\n",
              "</div>\n",
              "      <button class=\"colab-df-convert\" onclick=\"convertToInteractive('df-ac669d85-a054-463a-8eef-90b0e86f2092')\"\n",
              "              title=\"Convert this dataframe to an interactive table.\"\n",
              "              style=\"display:none;\">\n",
              "        \n",
              "  <svg xmlns=\"http://www.w3.org/2000/svg\" height=\"24px\"viewBox=\"0 0 24 24\"\n",
              "       width=\"24px\">\n",
              "    <path d=\"M0 0h24v24H0V0z\" fill=\"none\"/>\n",
              "    <path d=\"M18.56 5.44l.94 2.06.94-2.06 2.06-.94-2.06-.94-.94-2.06-.94 2.06-2.06.94zm-11 1L8.5 8.5l.94-2.06 2.06-.94-2.06-.94L8.5 2.5l-.94 2.06-2.06.94zm10 10l.94 2.06.94-2.06 2.06-.94-2.06-.94-.94-2.06-.94 2.06-2.06.94z\"/><path d=\"M17.41 7.96l-1.37-1.37c-.4-.4-.92-.59-1.43-.59-.52 0-1.04.2-1.43.59L10.3 9.45l-7.72 7.72c-.78.78-.78 2.05 0 2.83L4 21.41c.39.39.9.59 1.41.59.51 0 1.02-.2 1.41-.59l7.78-7.78 2.81-2.81c.8-.78.8-2.07 0-2.86zM5.41 20L4 18.59l7.72-7.72 1.47 1.35L5.41 20z\"/>\n",
              "  </svg>\n",
              "      </button>\n",
              "      \n",
              "  <style>\n",
              "    .colab-df-container {\n",
              "      display:flex;\n",
              "      flex-wrap:wrap;\n",
              "      gap: 12px;\n",
              "    }\n",
              "\n",
              "    .colab-df-convert {\n",
              "      background-color: #E8F0FE;\n",
              "      border: none;\n",
              "      border-radius: 50%;\n",
              "      cursor: pointer;\n",
              "      display: none;\n",
              "      fill: #1967D2;\n",
              "      height: 32px;\n",
              "      padding: 0 0 0 0;\n",
              "      width: 32px;\n",
              "    }\n",
              "\n",
              "    .colab-df-convert:hover {\n",
              "      background-color: #E2EBFA;\n",
              "      box-shadow: 0px 1px 2px rgba(60, 64, 67, 0.3), 0px 1px 3px 1px rgba(60, 64, 67, 0.15);\n",
              "      fill: #174EA6;\n",
              "    }\n",
              "\n",
              "    [theme=dark] .colab-df-convert {\n",
              "      background-color: #3B4455;\n",
              "      fill: #D2E3FC;\n",
              "    }\n",
              "\n",
              "    [theme=dark] .colab-df-convert:hover {\n",
              "      background-color: #434B5C;\n",
              "      box-shadow: 0px 1px 3px 1px rgba(0, 0, 0, 0.15);\n",
              "      filter: drop-shadow(0px 1px 2px rgba(0, 0, 0, 0.3));\n",
              "      fill: #FFFFFF;\n",
              "    }\n",
              "  </style>\n",
              "\n",
              "      <script>\n",
              "        const buttonEl =\n",
              "          document.querySelector('#df-ac669d85-a054-463a-8eef-90b0e86f2092 button.colab-df-convert');\n",
              "        buttonEl.style.display =\n",
              "          google.colab.kernel.accessAllowed ? 'block' : 'none';\n",
              "\n",
              "        async function convertToInteractive(key) {\n",
              "          const element = document.querySelector('#df-ac669d85-a054-463a-8eef-90b0e86f2092');\n",
              "          const dataTable =\n",
              "            await google.colab.kernel.invokeFunction('convertToInteractive',\n",
              "                                                     [key], {});\n",
              "          if (!dataTable) return;\n",
              "\n",
              "          const docLinkHtml = 'Like what you see? Visit the ' +\n",
              "            '<a target=\"_blank\" href=https://colab.research.google.com/notebooks/data_table.ipynb>data table notebook</a>'\n",
              "            + ' to learn more about interactive tables.';\n",
              "          element.innerHTML = '';\n",
              "          dataTable['output_type'] = 'display_data';\n",
              "          await google.colab.output.renderOutput(dataTable, element);\n",
              "          const docLink = document.createElement('div');\n",
              "          docLink.innerHTML = docLinkHtml;\n",
              "          element.appendChild(docLink);\n",
              "        }\n",
              "      </script>\n",
              "    </div>\n",
              "  </div>\n",
              "  "
            ]
          },
          "metadata": {},
          "execution_count": 86
        }
      ]
    },
    {
      "cell_type": "code",
      "source": [
        "user_embeddings_3.head()"
      ],
      "metadata": {
        "colab": {
          "base_uri": "https://localhost:8080/",
          "height": 236
        },
        "id": "LjiR-eG789ca",
        "outputId": "7f9d45fd-ff91-449c-d61b-54a8968ee2c9"
      },
      "execution_count": 87,
      "outputs": [
        {
          "output_type": "execute_result",
          "data": {
            "text/plain": [
              "       uid   topic_0   topic_1   topic_2   topic_3   topic_4   topic_5  \\\n",
              "0  u105138  0.000000  0.191468  0.267059  0.071999  0.231648  0.099449   \n",
              "1  u108690  0.153695  0.089838  0.343897  0.182331  0.056998  0.214476   \n",
              "2  u108339  0.211432  0.296806  0.270804  0.024852  0.032713  0.109306   \n",
              "3  u101138  0.037286  0.068989  0.151591  0.080126  0.011902  0.411297   \n",
              "4  u108248  0.077043  0.129109  0.231636  0.066294  0.166644  0.456713   \n",
              "\n",
              "    topic_6   topic_7   topic_8  ...  topic_15  topic_16  topic_17  topic_18  \\\n",
              "0  0.174830  0.162903  0.321116  ...  0.144855  0.131942  0.174077  0.161391   \n",
              "1  0.087359  0.081202  0.087641  ...  0.081996  0.297224  0.147784  0.062458   \n",
              "2  0.041065  0.013635  0.093576  ...  0.042105  0.296396  0.040868  0.273968   \n",
              "3  0.019131  0.000000  0.164874  ...  0.047724  0.018810  0.674173  0.080063   \n",
              "4  0.101700  0.132212  0.174523  ...  0.402360  0.106415  0.059356  0.135984   \n",
              "\n",
              "   topic_19  topic_20  topic_21  topic_22  topic_23  topic_24  \n",
              "0  0.047191  0.000000  0.041817  0.158387  0.101417  0.163154  \n",
              "1  0.046752  0.095065  0.075668  0.187759  0.107266  0.165702  \n",
              "2  0.093536  0.050851  0.264885  0.000000  0.076356  0.257398  \n",
              "3  0.258685  0.259594  0.124559  0.311570  0.248072  0.134458  \n",
              "4  0.268891  0.136115  0.011465  0.098109  0.027201  0.122890  \n",
              "\n",
              "[5 rows x 26 columns]"
            ],
            "text/html": [
              "\n",
              "  <div id=\"df-577916de-ddbf-40aa-93e7-9252f4f69c65\">\n",
              "    <div class=\"colab-df-container\">\n",
              "      <div>\n",
              "<style scoped>\n",
              "    .dataframe tbody tr th:only-of-type {\n",
              "        vertical-align: middle;\n",
              "    }\n",
              "\n",
              "    .dataframe tbody tr th {\n",
              "        vertical-align: top;\n",
              "    }\n",
              "\n",
              "    .dataframe thead th {\n",
              "        text-align: right;\n",
              "    }\n",
              "</style>\n",
              "<table border=\"1\" class=\"dataframe\">\n",
              "  <thead>\n",
              "    <tr style=\"text-align: right;\">\n",
              "      <th></th>\n",
              "      <th>uid</th>\n",
              "      <th>topic_0</th>\n",
              "      <th>topic_1</th>\n",
              "      <th>topic_2</th>\n",
              "      <th>topic_3</th>\n",
              "      <th>topic_4</th>\n",
              "      <th>topic_5</th>\n",
              "      <th>topic_6</th>\n",
              "      <th>topic_7</th>\n",
              "      <th>topic_8</th>\n",
              "      <th>...</th>\n",
              "      <th>topic_15</th>\n",
              "      <th>topic_16</th>\n",
              "      <th>topic_17</th>\n",
              "      <th>topic_18</th>\n",
              "      <th>topic_19</th>\n",
              "      <th>topic_20</th>\n",
              "      <th>topic_21</th>\n",
              "      <th>topic_22</th>\n",
              "      <th>topic_23</th>\n",
              "      <th>topic_24</th>\n",
              "    </tr>\n",
              "  </thead>\n",
              "  <tbody>\n",
              "    <tr>\n",
              "      <th>0</th>\n",
              "      <td>u105138</td>\n",
              "      <td>0.000000</td>\n",
              "      <td>0.191468</td>\n",
              "      <td>0.267059</td>\n",
              "      <td>0.071999</td>\n",
              "      <td>0.231648</td>\n",
              "      <td>0.099449</td>\n",
              "      <td>0.174830</td>\n",
              "      <td>0.162903</td>\n",
              "      <td>0.321116</td>\n",
              "      <td>...</td>\n",
              "      <td>0.144855</td>\n",
              "      <td>0.131942</td>\n",
              "      <td>0.174077</td>\n",
              "      <td>0.161391</td>\n",
              "      <td>0.047191</td>\n",
              "      <td>0.000000</td>\n",
              "      <td>0.041817</td>\n",
              "      <td>0.158387</td>\n",
              "      <td>0.101417</td>\n",
              "      <td>0.163154</td>\n",
              "    </tr>\n",
              "    <tr>\n",
              "      <th>1</th>\n",
              "      <td>u108690</td>\n",
              "      <td>0.153695</td>\n",
              "      <td>0.089838</td>\n",
              "      <td>0.343897</td>\n",
              "      <td>0.182331</td>\n",
              "      <td>0.056998</td>\n",
              "      <td>0.214476</td>\n",
              "      <td>0.087359</td>\n",
              "      <td>0.081202</td>\n",
              "      <td>0.087641</td>\n",
              "      <td>...</td>\n",
              "      <td>0.081996</td>\n",
              "      <td>0.297224</td>\n",
              "      <td>0.147784</td>\n",
              "      <td>0.062458</td>\n",
              "      <td>0.046752</td>\n",
              "      <td>0.095065</td>\n",
              "      <td>0.075668</td>\n",
              "      <td>0.187759</td>\n",
              "      <td>0.107266</td>\n",
              "      <td>0.165702</td>\n",
              "    </tr>\n",
              "    <tr>\n",
              "      <th>2</th>\n",
              "      <td>u108339</td>\n",
              "      <td>0.211432</td>\n",
              "      <td>0.296806</td>\n",
              "      <td>0.270804</td>\n",
              "      <td>0.024852</td>\n",
              "      <td>0.032713</td>\n",
              "      <td>0.109306</td>\n",
              "      <td>0.041065</td>\n",
              "      <td>0.013635</td>\n",
              "      <td>0.093576</td>\n",
              "      <td>...</td>\n",
              "      <td>0.042105</td>\n",
              "      <td>0.296396</td>\n",
              "      <td>0.040868</td>\n",
              "      <td>0.273968</td>\n",
              "      <td>0.093536</td>\n",
              "      <td>0.050851</td>\n",
              "      <td>0.264885</td>\n",
              "      <td>0.000000</td>\n",
              "      <td>0.076356</td>\n",
              "      <td>0.257398</td>\n",
              "    </tr>\n",
              "    <tr>\n",
              "      <th>3</th>\n",
              "      <td>u101138</td>\n",
              "      <td>0.037286</td>\n",
              "      <td>0.068989</td>\n",
              "      <td>0.151591</td>\n",
              "      <td>0.080126</td>\n",
              "      <td>0.011902</td>\n",
              "      <td>0.411297</td>\n",
              "      <td>0.019131</td>\n",
              "      <td>0.000000</td>\n",
              "      <td>0.164874</td>\n",
              "      <td>...</td>\n",
              "      <td>0.047724</td>\n",
              "      <td>0.018810</td>\n",
              "      <td>0.674173</td>\n",
              "      <td>0.080063</td>\n",
              "      <td>0.258685</td>\n",
              "      <td>0.259594</td>\n",
              "      <td>0.124559</td>\n",
              "      <td>0.311570</td>\n",
              "      <td>0.248072</td>\n",
              "      <td>0.134458</td>\n",
              "    </tr>\n",
              "    <tr>\n",
              "      <th>4</th>\n",
              "      <td>u108248</td>\n",
              "      <td>0.077043</td>\n",
              "      <td>0.129109</td>\n",
              "      <td>0.231636</td>\n",
              "      <td>0.066294</td>\n",
              "      <td>0.166644</td>\n",
              "      <td>0.456713</td>\n",
              "      <td>0.101700</td>\n",
              "      <td>0.132212</td>\n",
              "      <td>0.174523</td>\n",
              "      <td>...</td>\n",
              "      <td>0.402360</td>\n",
              "      <td>0.106415</td>\n",
              "      <td>0.059356</td>\n",
              "      <td>0.135984</td>\n",
              "      <td>0.268891</td>\n",
              "      <td>0.136115</td>\n",
              "      <td>0.011465</td>\n",
              "      <td>0.098109</td>\n",
              "      <td>0.027201</td>\n",
              "      <td>0.122890</td>\n",
              "    </tr>\n",
              "  </tbody>\n",
              "</table>\n",
              "<p>5 rows × 26 columns</p>\n",
              "</div>\n",
              "      <button class=\"colab-df-convert\" onclick=\"convertToInteractive('df-577916de-ddbf-40aa-93e7-9252f4f69c65')\"\n",
              "              title=\"Convert this dataframe to an interactive table.\"\n",
              "              style=\"display:none;\">\n",
              "        \n",
              "  <svg xmlns=\"http://www.w3.org/2000/svg\" height=\"24px\"viewBox=\"0 0 24 24\"\n",
              "       width=\"24px\">\n",
              "    <path d=\"M0 0h24v24H0V0z\" fill=\"none\"/>\n",
              "    <path d=\"M18.56 5.44l.94 2.06.94-2.06 2.06-.94-2.06-.94-.94-2.06-.94 2.06-2.06.94zm-11 1L8.5 8.5l.94-2.06 2.06-.94-2.06-.94L8.5 2.5l-.94 2.06-2.06.94zm10 10l.94 2.06.94-2.06 2.06-.94-2.06-.94-.94-2.06-.94 2.06-2.06.94z\"/><path d=\"M17.41 7.96l-1.37-1.37c-.4-.4-.92-.59-1.43-.59-.52 0-1.04.2-1.43.59L10.3 9.45l-7.72 7.72c-.78.78-.78 2.05 0 2.83L4 21.41c.39.39.9.59 1.41.59.51 0 1.02-.2 1.41-.59l7.78-7.78 2.81-2.81c.8-.78.8-2.07 0-2.86zM5.41 20L4 18.59l7.72-7.72 1.47 1.35L5.41 20z\"/>\n",
              "  </svg>\n",
              "      </button>\n",
              "      \n",
              "  <style>\n",
              "    .colab-df-container {\n",
              "      display:flex;\n",
              "      flex-wrap:wrap;\n",
              "      gap: 12px;\n",
              "    }\n",
              "\n",
              "    .colab-df-convert {\n",
              "      background-color: #E8F0FE;\n",
              "      border: none;\n",
              "      border-radius: 50%;\n",
              "      cursor: pointer;\n",
              "      display: none;\n",
              "      fill: #1967D2;\n",
              "      height: 32px;\n",
              "      padding: 0 0 0 0;\n",
              "      width: 32px;\n",
              "    }\n",
              "\n",
              "    .colab-df-convert:hover {\n",
              "      background-color: #E2EBFA;\n",
              "      box-shadow: 0px 1px 2px rgba(60, 64, 67, 0.3), 0px 1px 3px 1px rgba(60, 64, 67, 0.15);\n",
              "      fill: #174EA6;\n",
              "    }\n",
              "\n",
              "    [theme=dark] .colab-df-convert {\n",
              "      background-color: #3B4455;\n",
              "      fill: #D2E3FC;\n",
              "    }\n",
              "\n",
              "    [theme=dark] .colab-df-convert:hover {\n",
              "      background-color: #434B5C;\n",
              "      box-shadow: 0px 1px 3px 1px rgba(0, 0, 0, 0.15);\n",
              "      filter: drop-shadow(0px 1px 2px rgba(0, 0, 0, 0.3));\n",
              "      fill: #FFFFFF;\n",
              "    }\n",
              "  </style>\n",
              "\n",
              "      <script>\n",
              "        const buttonEl =\n",
              "          document.querySelector('#df-577916de-ddbf-40aa-93e7-9252f4f69c65 button.colab-df-convert');\n",
              "        buttonEl.style.display =\n",
              "          google.colab.kernel.accessAllowed ? 'block' : 'none';\n",
              "\n",
              "        async function convertToInteractive(key) {\n",
              "          const element = document.querySelector('#df-577916de-ddbf-40aa-93e7-9252f4f69c65');\n",
              "          const dataTable =\n",
              "            await google.colab.kernel.invokeFunction('convertToInteractive',\n",
              "                                                     [key], {});\n",
              "          if (!dataTable) return;\n",
              "\n",
              "          const docLinkHtml = 'Like what you see? Visit the ' +\n",
              "            '<a target=\"_blank\" href=https://colab.research.google.com/notebooks/data_table.ipynb>data table notebook</a>'\n",
              "            + ' to learn more about interactive tables.';\n",
              "          element.innerHTML = '';\n",
              "          dataTable['output_type'] = 'display_data';\n",
              "          await google.colab.output.renderOutput(dataTable, element);\n",
              "          const docLink = document.createElement('div');\n",
              "          docLink.innerHTML = docLinkHtml;\n",
              "          element.appendChild(docLink);\n",
              "        }\n",
              "      </script>\n",
              "    </div>\n",
              "  </div>\n",
              "  "
            ]
          },
          "metadata": {},
          "execution_count": 87
        }
      ]
    },
    {
      "cell_type": "code",
      "source": [
        "X_3 = pd.merge(user_embeddings_3, target, 'left')\n",
        "X_3.head(3)"
      ],
      "metadata": {
        "colab": {
          "base_uri": "https://localhost:8080/",
          "height": 173
        },
        "id": "fvjxDVZv8-_a",
        "outputId": "605cafd0-b0f2-4355-95d5-713202f6dc28"
      },
      "execution_count": 88,
      "outputs": [
        {
          "output_type": "execute_result",
          "data": {
            "text/plain": [
              "       uid   topic_0   topic_1   topic_2   topic_3   topic_4   topic_5  \\\n",
              "0  u105138  0.000000  0.191468  0.267059  0.071999  0.231648  0.099449   \n",
              "1  u108690  0.153695  0.089838  0.343897  0.182331  0.056998  0.214476   \n",
              "2  u108339  0.211432  0.296806  0.270804  0.024852  0.032713  0.109306   \n",
              "\n",
              "    topic_6   topic_7   topic_8  ...  topic_16  topic_17  topic_18  topic_19  \\\n",
              "0  0.174830  0.162903  0.321116  ...  0.131942  0.174077  0.161391  0.047191   \n",
              "1  0.087359  0.081202  0.087641  ...  0.297224  0.147784  0.062458  0.046752   \n",
              "2  0.041065  0.013635  0.093576  ...  0.296396  0.040868  0.273968  0.093536   \n",
              "\n",
              "   topic_20  topic_21  topic_22  topic_23  topic_24  churn  \n",
              "0  0.000000  0.041817  0.158387  0.101417  0.163154      0  \n",
              "1  0.095065  0.075668  0.187759  0.107266  0.165702      1  \n",
              "2  0.050851  0.264885  0.000000  0.076356  0.257398      1  \n",
              "\n",
              "[3 rows x 27 columns]"
            ],
            "text/html": [
              "\n",
              "  <div id=\"df-ec43e4ed-9846-4bf7-aead-f46178c6caa5\">\n",
              "    <div class=\"colab-df-container\">\n",
              "      <div>\n",
              "<style scoped>\n",
              "    .dataframe tbody tr th:only-of-type {\n",
              "        vertical-align: middle;\n",
              "    }\n",
              "\n",
              "    .dataframe tbody tr th {\n",
              "        vertical-align: top;\n",
              "    }\n",
              "\n",
              "    .dataframe thead th {\n",
              "        text-align: right;\n",
              "    }\n",
              "</style>\n",
              "<table border=\"1\" class=\"dataframe\">\n",
              "  <thead>\n",
              "    <tr style=\"text-align: right;\">\n",
              "      <th></th>\n",
              "      <th>uid</th>\n",
              "      <th>topic_0</th>\n",
              "      <th>topic_1</th>\n",
              "      <th>topic_2</th>\n",
              "      <th>topic_3</th>\n",
              "      <th>topic_4</th>\n",
              "      <th>topic_5</th>\n",
              "      <th>topic_6</th>\n",
              "      <th>topic_7</th>\n",
              "      <th>topic_8</th>\n",
              "      <th>...</th>\n",
              "      <th>topic_16</th>\n",
              "      <th>topic_17</th>\n",
              "      <th>topic_18</th>\n",
              "      <th>topic_19</th>\n",
              "      <th>topic_20</th>\n",
              "      <th>topic_21</th>\n",
              "      <th>topic_22</th>\n",
              "      <th>topic_23</th>\n",
              "      <th>topic_24</th>\n",
              "      <th>churn</th>\n",
              "    </tr>\n",
              "  </thead>\n",
              "  <tbody>\n",
              "    <tr>\n",
              "      <th>0</th>\n",
              "      <td>u105138</td>\n",
              "      <td>0.000000</td>\n",
              "      <td>0.191468</td>\n",
              "      <td>0.267059</td>\n",
              "      <td>0.071999</td>\n",
              "      <td>0.231648</td>\n",
              "      <td>0.099449</td>\n",
              "      <td>0.174830</td>\n",
              "      <td>0.162903</td>\n",
              "      <td>0.321116</td>\n",
              "      <td>...</td>\n",
              "      <td>0.131942</td>\n",
              "      <td>0.174077</td>\n",
              "      <td>0.161391</td>\n",
              "      <td>0.047191</td>\n",
              "      <td>0.000000</td>\n",
              "      <td>0.041817</td>\n",
              "      <td>0.158387</td>\n",
              "      <td>0.101417</td>\n",
              "      <td>0.163154</td>\n",
              "      <td>0</td>\n",
              "    </tr>\n",
              "    <tr>\n",
              "      <th>1</th>\n",
              "      <td>u108690</td>\n",
              "      <td>0.153695</td>\n",
              "      <td>0.089838</td>\n",
              "      <td>0.343897</td>\n",
              "      <td>0.182331</td>\n",
              "      <td>0.056998</td>\n",
              "      <td>0.214476</td>\n",
              "      <td>0.087359</td>\n",
              "      <td>0.081202</td>\n",
              "      <td>0.087641</td>\n",
              "      <td>...</td>\n",
              "      <td>0.297224</td>\n",
              "      <td>0.147784</td>\n",
              "      <td>0.062458</td>\n",
              "      <td>0.046752</td>\n",
              "      <td>0.095065</td>\n",
              "      <td>0.075668</td>\n",
              "      <td>0.187759</td>\n",
              "      <td>0.107266</td>\n",
              "      <td>0.165702</td>\n",
              "      <td>1</td>\n",
              "    </tr>\n",
              "    <tr>\n",
              "      <th>2</th>\n",
              "      <td>u108339</td>\n",
              "      <td>0.211432</td>\n",
              "      <td>0.296806</td>\n",
              "      <td>0.270804</td>\n",
              "      <td>0.024852</td>\n",
              "      <td>0.032713</td>\n",
              "      <td>0.109306</td>\n",
              "      <td>0.041065</td>\n",
              "      <td>0.013635</td>\n",
              "      <td>0.093576</td>\n",
              "      <td>...</td>\n",
              "      <td>0.296396</td>\n",
              "      <td>0.040868</td>\n",
              "      <td>0.273968</td>\n",
              "      <td>0.093536</td>\n",
              "      <td>0.050851</td>\n",
              "      <td>0.264885</td>\n",
              "      <td>0.000000</td>\n",
              "      <td>0.076356</td>\n",
              "      <td>0.257398</td>\n",
              "      <td>1</td>\n",
              "    </tr>\n",
              "  </tbody>\n",
              "</table>\n",
              "<p>3 rows × 27 columns</p>\n",
              "</div>\n",
              "      <button class=\"colab-df-convert\" onclick=\"convertToInteractive('df-ec43e4ed-9846-4bf7-aead-f46178c6caa5')\"\n",
              "              title=\"Convert this dataframe to an interactive table.\"\n",
              "              style=\"display:none;\">\n",
              "        \n",
              "  <svg xmlns=\"http://www.w3.org/2000/svg\" height=\"24px\"viewBox=\"0 0 24 24\"\n",
              "       width=\"24px\">\n",
              "    <path d=\"M0 0h24v24H0V0z\" fill=\"none\"/>\n",
              "    <path d=\"M18.56 5.44l.94 2.06.94-2.06 2.06-.94-2.06-.94-.94-2.06-.94 2.06-2.06.94zm-11 1L8.5 8.5l.94-2.06 2.06-.94-2.06-.94L8.5 2.5l-.94 2.06-2.06.94zm10 10l.94 2.06.94-2.06 2.06-.94-2.06-.94-.94-2.06-.94 2.06-2.06.94z\"/><path d=\"M17.41 7.96l-1.37-1.37c-.4-.4-.92-.59-1.43-.59-.52 0-1.04.2-1.43.59L10.3 9.45l-7.72 7.72c-.78.78-.78 2.05 0 2.83L4 21.41c.39.39.9.59 1.41.59.51 0 1.02-.2 1.41-.59l7.78-7.78 2.81-2.81c.8-.78.8-2.07 0-2.86zM5.41 20L4 18.59l7.72-7.72 1.47 1.35L5.41 20z\"/>\n",
              "  </svg>\n",
              "      </button>\n",
              "      \n",
              "  <style>\n",
              "    .colab-df-container {\n",
              "      display:flex;\n",
              "      flex-wrap:wrap;\n",
              "      gap: 12px;\n",
              "    }\n",
              "\n",
              "    .colab-df-convert {\n",
              "      background-color: #E8F0FE;\n",
              "      border: none;\n",
              "      border-radius: 50%;\n",
              "      cursor: pointer;\n",
              "      display: none;\n",
              "      fill: #1967D2;\n",
              "      height: 32px;\n",
              "      padding: 0 0 0 0;\n",
              "      width: 32px;\n",
              "    }\n",
              "\n",
              "    .colab-df-convert:hover {\n",
              "      background-color: #E2EBFA;\n",
              "      box-shadow: 0px 1px 2px rgba(60, 64, 67, 0.3), 0px 1px 3px 1px rgba(60, 64, 67, 0.15);\n",
              "      fill: #174EA6;\n",
              "    }\n",
              "\n",
              "    [theme=dark] .colab-df-convert {\n",
              "      background-color: #3B4455;\n",
              "      fill: #D2E3FC;\n",
              "    }\n",
              "\n",
              "    [theme=dark] .colab-df-convert:hover {\n",
              "      background-color: #434B5C;\n",
              "      box-shadow: 0px 1px 3px 1px rgba(0, 0, 0, 0.15);\n",
              "      filter: drop-shadow(0px 1px 2px rgba(0, 0, 0, 0.3));\n",
              "      fill: #FFFFFF;\n",
              "    }\n",
              "  </style>\n",
              "\n",
              "      <script>\n",
              "        const buttonEl =\n",
              "          document.querySelector('#df-ec43e4ed-9846-4bf7-aead-f46178c6caa5 button.colab-df-convert');\n",
              "        buttonEl.style.display =\n",
              "          google.colab.kernel.accessAllowed ? 'block' : 'none';\n",
              "\n",
              "        async function convertToInteractive(key) {\n",
              "          const element = document.querySelector('#df-ec43e4ed-9846-4bf7-aead-f46178c6caa5');\n",
              "          const dataTable =\n",
              "            await google.colab.kernel.invokeFunction('convertToInteractive',\n",
              "                                                     [key], {});\n",
              "          if (!dataTable) return;\n",
              "\n",
              "          const docLinkHtml = 'Like what you see? Visit the ' +\n",
              "            '<a target=\"_blank\" href=https://colab.research.google.com/notebooks/data_table.ipynb>data table notebook</a>'\n",
              "            + ' to learn more about interactive tables.';\n",
              "          element.innerHTML = '';\n",
              "          dataTable['output_type'] = 'display_data';\n",
              "          await google.colab.output.renderOutput(dataTable, element);\n",
              "          const docLink = document.createElement('div');\n",
              "          docLink.innerHTML = docLinkHtml;\n",
              "          element.appendChild(docLink);\n",
              "        }\n",
              "      </script>\n",
              "    </div>\n",
              "  </div>\n",
              "  "
            ]
          },
          "metadata": {},
          "execution_count": 88
        }
      ]
    },
    {
      "cell_type": "code",
      "source": [
        "# разделим данные на train/test\n",
        "X_3_train, X_3_test, y_3_train, y_3_test = train_test_split(X_3[[f'topic_{i}' for i in range(N_topic)]], \n",
        "                                                    X_3['churn'], random_state=0)"
      ],
      "metadata": {
        "id": "MgnBsJeO9Aw6"
      },
      "execution_count": 89,
      "outputs": []
    },
    {
      "cell_type": "code",
      "source": [
        "# logreg_3 = LogisticRegression()\n",
        "logreg_3 = RandomForestClassifier()\n",
        "# обучим \n",
        "logreg_3.fit(X_3_train, y_3_train)"
      ],
      "metadata": {
        "colab": {
          "base_uri": "https://localhost:8080/"
        },
        "id": "lRofiP8M9CgT",
        "outputId": "807fe320-8fce-446b-f886-0ffeacf660ef"
      },
      "execution_count": 90,
      "outputs": [
        {
          "output_type": "execute_result",
          "data": {
            "text/plain": [
              "RandomForestClassifier()"
            ]
          },
          "metadata": {},
          "execution_count": 90
        }
      ]
    },
    {
      "cell_type": "code",
      "source": [
        "# наши прогнозы для тестовой выборки\n",
        "preds_3 = logreg_3.predict_proba(X_3_test)[:, 1]\n",
        "preds_3[:10]"
      ],
      "metadata": {
        "colab": {
          "base_uri": "https://localhost:8080/"
        },
        "id": "jc4uyAfp9EMU",
        "outputId": "89e58184-ee88-4909-adac-7b456f436868"
      },
      "execution_count": 91,
      "outputs": [
        {
          "output_type": "execute_result",
          "data": {
            "text/plain": [
              "array([0.04, 0.03, 0.67, 0.21, 0.06, 0.03, 0.15, 0.  , 0.06, 0.1 ])"
            ]
          },
          "metadata": {},
          "execution_count": 91
        }
      ]
    },
    {
      "cell_type": "code",
      "source": [
        "n = 50\n",
        "plt.figure(figsize=(10, 6))\n",
        "plt.plot(preds_3[:n], label='predict')\n",
        "plt.plot(y_3_test.values[:n], label='true')\n",
        "plt.title('ответ модели')\n",
        "plt.xlabel('№ примера')\n",
        "plt.ylabel('выход')\n",
        "plt.legend()\n",
        "plt.grid('On')\n",
        "plt.show()"
      ],
      "metadata": {
        "colab": {
          "base_uri": "https://localhost:8080/",
          "height": 418
        },
        "id": "DKk0cg0L9FvA",
        "outputId": "98356fc8-f420-428f-98d2-19868838473b"
      },
      "execution_count": 92,
      "outputs": [
        {
          "output_type": "display_data",
          "data": {
            "text/plain": [
              "<Figure size 720x432 with 1 Axes>"
            ],
            "image/png": "[encoded data removed]"
          },
          "metadata": {
            "needs_background": "light"
          }
        }
      ]
    },
    {
      "cell_type": "code",
      "source": [
        "precision_3, recall_3, thresholds_3 = precision_recall_curve(y_test, preds_3)\n",
        "# print(precision_2 + recall_2)\n",
        "fscore_3 = (2 * precision_3 * recall_3) / (precision_3 + recall_3)\n",
        "# locate the index of the largest f score\n",
        "ix_3 = np.argmax(fscore_3)\n",
        "print(f'Best Threshold={thresholds_3[ix_3]}, F-Score={fscore_3[ix_3]:.3f}, Precision={precision_3[ix_3]:.3f}, Recall={recall_3[ix_3]:.3f}')"
      ],
      "metadata": {
        "colab": {
          "base_uri": "https://localhost:8080/"
        },
        "id": "pQKG27nX9I1J",
        "outputId": "b6429628-36b2-41bc-f17a-f55d83c9c2f1"
      },
      "execution_count": 96,
      "outputs": [
        {
          "output_type": "stream",
          "name": "stdout",
          "text": [
            "Best Threshold=0.38, F-Score=0.849, Precision=0.888, Recall=0.812\n"
          ]
        }
      ]
    },
    {
      "cell_type": "code",
      "source": [
        "font = {'size' : 15}\n",
        "\n",
        "plt.rc('font', **font)\n",
        "\n",
        "cnf_matrix_3 = confusion_matrix(y_3_test, preds_3 > thresholds_3[ix_3])\n",
        "\n",
        "plt.figure(figsize=(10, 8))\n",
        "plot_confusion_matrix(cnf_matrix_3, classes=['Non-Churn', 'churn'],\n",
        "                      title='Confusion matrix')\n",
        "plt.savefig(\"conf_matrix.png\")\n",
        "plt.show()"
      ],
      "metadata": {
        "colab": {
          "base_uri": "https://localhost:8080/",
          "height": 645
        },
        "id": "7WP024kM9K5Z",
        "outputId": "fe570d34-0807-403a-ce6a-8a9db0fd8edc"
      },
      "execution_count": 97,
      "outputs": [
        {
          "output_type": "stream",
          "name": "stdout",
          "text": [
            "Confusion matrix, without normalization\n",
            "[[1732   23]\n",
            " [  49  196]]\n"
          ]
        },
        {
          "output_type": "display_data",
          "data": {
            "text/plain": [
              "<Figure size 720x576 with 2 Axes>"
            ],
            "image/png": "[encoded data removed]"
          },
          "metadata": {
            "needs_background": "light"
          }
        }
      ]
    },
    {
      "cell_type": "code",
      "source": [
        "roc_auc_3 = roc_auc_score(y_3_test, preds_3)\n",
        "roc_auc_3"
      ],
      "metadata": {
        "colab": {
          "base_uri": "https://localhost:8080/"
        },
        "id": "arVRgplR9NA5",
        "outputId": "47fa0a2a-ebb7-4afb-f6f8-9772c8e6e68f"
      },
      "execution_count": 98,
      "outputs": [
        {
          "output_type": "execute_result",
          "data": {
            "text/plain": [
              "0.9848781905924763"
            ]
          },
          "metadata": {},
          "execution_count": 98
        }
      ]
    },
    {
      "cell_type": "code",
      "source": [
        "# 4\n",
        "from gensim.models import LdaModel, TfidfModel"
      ],
      "metadata": {
        "id": "n3U70USv9Nf3"
      },
      "execution_count": 99,
      "outputs": []
    },
    {
      "cell_type": "code",
      "source": [
        "# Считаем tf-idf значения для каждого слова в каждом документе.\n",
        "\n",
        "tfidf_model = TfidfModel(common_corpus)\n",
        "common_corpus_tfidf = [tfidf_model[doc] for doc in common_corpus]"
      ],
      "metadata": {
        "id": "7BiNoAJp9dYn"
      },
      "execution_count": 100,
      "outputs": []
    },
    {
      "cell_type": "code",
      "source": [
        "# Тренируем LDA на tf-idf корпусе.\n",
        "\n",
        "lda_tfidf = LdaModel(common_corpus_tfidf, num_topics=25, id2word=common_dictionary)"
      ],
      "metadata": {
        "id": "n7eGXVk79gzw"
      },
      "execution_count": 101,
      "outputs": []
    },
    {
      "cell_type": "code",
      "source": [
        "# Получаем эмбеддинги документов по темам, с учетом подсчета для нового документа значений tf-idf.\n",
        "def get_lda_vector_tfidf(text):\n",
        "    unseen_doc = tfidf_model[common_dictionary.doc2bow(text)]\n",
        "    lda_tuple = lda_tfidf[unseen_doc]\n",
        "    not_null_topics = dict(zip([i[0] for i in lda_tuple], [i[1] for i in lda_tuple]))\n",
        "\n",
        "    output_vector = []\n",
        "    for i in range(N_topic):\n",
        "        if i not in not_null_topics:\n",
        "            output_vector.append(0)\n",
        "        else:\n",
        "            output_vector.append(not_null_topics[i])\n",
        "    return np.array(output_vector)"
      ],
      "metadata": {
        "id": "lKUXjl-59izR"
      },
      "execution_count": 102,
      "outputs": []
    },
    {
      "cell_type": "code",
      "source": [
        "topic_matrix_tfidf = pd.DataFrame([get_lda_vector_tfidf(text) for text in news['title'].values])\n",
        "topic_matrix_tfidf.columns = ['topic_{}'.format(i) for i in range(N_topic)]\n",
        "topic_matrix_tfidf['doc_id'] = news['doc_id'].values\n",
        "topic_matrix_tfidf = topic_matrix_tfidf[['doc_id']+['topic_{}'.format(i) for i in range(N_topic)]]\n",
        "doc_dict = dict(zip(topic_matrix_tfidf['doc_id'].values, topic_matrix_tfidf[['topic_{}'.format(i) for i in range(N_topic)]].values))"
      ],
      "metadata": {
        "id": "QgXyTJwG9lOI"
      },
      "execution_count": 103,
      "outputs": []
    },
    {
      "cell_type": "code",
      "source": [
        "%%time\n",
        "user_embeddings_4 = pd.DataFrame([i for i in users['articles'].apply(lambda x: get_user_embedding(x))])\n",
        "user_embeddings_4.columns = [f'topic_{i}' for i in range(N_topic)]\n",
        "user_embeddings_4['uid'] = users['uid'].values\n",
        "user_embeddings_4 = user_embeddings_4[['uid']+[f'topic_{i}' for i in range(N_topic)]]\n",
        "user_embeddings_4.head(3)"
      ],
      "metadata": {
        "colab": {
          "base_uri": "https://localhost:8080/",
          "height": 208
        },
        "id": "Wq9u7UkF9mta",
        "outputId": "e2324d7a-117d-4f29-a839-8b83b4e33e3d"
      },
      "execution_count": 106,
      "outputs": [
        {
          "output_type": "stream",
          "name": "stdout",
          "text": [
            "CPU times: user 671 ms, sys: 23 ms, total: 694 ms\n",
            "Wall time: 1.87 s\n"
          ]
        },
        {
          "output_type": "execute_result",
          "data": {
            "text/plain": [
              "       uid   topic_0   topic_1   topic_2   topic_3   topic_4   topic_5  \\\n",
              "0  u105138  0.032328  0.014736  0.256767  0.005440  0.018624  0.066716   \n",
              "1  u108690  0.051002  0.027410  0.264127  0.008095  0.026447  0.020236   \n",
              "2  u108339  0.092332  0.021524  0.215286  0.005382  0.011143  0.010775   \n",
              "\n",
              "    topic_6   topic_7   topic_8  ...  topic_15  topic_16  topic_17  topic_18  \\\n",
              "0  0.044027  0.022171  0.000000  ...  0.004277  0.000000  0.007250  0.007395   \n",
              "1  0.008625  0.022488  0.008339  ...  0.000000  0.002313  0.006015  0.000000   \n",
              "2  0.004398  0.026316  0.000000  ...  0.002013  0.000000  0.000000  0.006863   \n",
              "\n",
              "   topic_19  topic_20  topic_21  topic_22  topic_23  topic_24  \n",
              "0  0.005410  0.017524  0.009548  0.286872  0.002411  0.058436  \n",
              "1  0.000000  0.005999  0.022783  0.266347  0.027274  0.109621  \n",
              "2  0.019816  0.007536  0.010658  0.246087  0.014881  0.127154  \n",
              "\n",
              "[3 rows x 26 columns]"
            ],
            "text/html": [
              "\n",
              "  <div id=\"df-23c1ba49-c20a-4e5a-8184-4109ea2c58c8\">\n",
              "    <div class=\"colab-df-container\">\n",
              "      <div>\n",
              "<style scoped>\n",
              "    .dataframe tbody tr th:only-of-type {\n",
              "        vertical-align: middle;\n",
              "    }\n",
              "\n",
              "    .dataframe tbody tr th {\n",
              "        vertical-align: top;\n",
              "    }\n",
              "\n",
              "    .dataframe thead th {\n",
              "        text-align: right;\n",
              "    }\n",
              "</style>\n",
              "<table border=\"1\" class=\"dataframe\">\n",
              "  <thead>\n",
              "    <tr style=\"text-align: right;\">\n",
              "      <th></th>\n",
              "      <th>uid</th>\n",
              "      <th>topic_0</th>\n",
              "      <th>topic_1</th>\n",
              "      <th>topic_2</th>\n",
              "      <th>topic_3</th>\n",
              "      <th>topic_4</th>\n",
              "      <th>topic_5</th>\n",
              "      <th>topic_6</th>\n",
              "      <th>topic_7</th>\n",
              "      <th>topic_8</th>\n",
              "      <th>...</th>\n",
              "      <th>topic_15</th>\n",
              "      <th>topic_16</th>\n",
              "      <th>topic_17</th>\n",
              "      <th>topic_18</th>\n",
              "      <th>topic_19</th>\n",
              "      <th>topic_20</th>\n",
              "      <th>topic_21</th>\n",
              "      <th>topic_22</th>\n",
              "      <th>topic_23</th>\n",
              "      <th>topic_24</th>\n",
              "    </tr>\n",
              "  </thead>\n",
              "  <tbody>\n",
              "    <tr>\n",
              "      <th>0</th>\n",
              "      <td>u105138</td>\n",
              "      <td>0.032328</td>\n",
              "      <td>0.014736</td>\n",
              "      <td>0.256767</td>\n",
              "      <td>0.005440</td>\n",
              "      <td>0.018624</td>\n",
              "      <td>0.066716</td>\n",
              "      <td>0.044027</td>\n",
              "      <td>0.022171</td>\n",
              "      <td>0.000000</td>\n",
              "      <td>...</td>\n",
              "      <td>0.004277</td>\n",
              "      <td>0.000000</td>\n",
              "      <td>0.007250</td>\n",
              "      <td>0.007395</td>\n",
              "      <td>0.005410</td>\n",
              "      <td>0.017524</td>\n",
              "      <td>0.009548</td>\n",
              "      <td>0.286872</td>\n",
              "      <td>0.002411</td>\n",
              "      <td>0.058436</td>\n",
              "    </tr>\n",
              "    <tr>\n",
              "      <th>1</th>\n",
              "      <td>u108690</td>\n",
              "      <td>0.051002</td>\n",
              "      <td>0.027410</td>\n",
              "      <td>0.264127</td>\n",
              "      <td>0.008095</td>\n",
              "      <td>0.026447</td>\n",
              "      <td>0.020236</td>\n",
              "      <td>0.008625</td>\n",
              "      <td>0.022488</td>\n",
              "      <td>0.008339</td>\n",
              "      <td>...</td>\n",
              "      <td>0.000000</td>\n",
              "      <td>0.002313</td>\n",
              "      <td>0.006015</td>\n",
              "      <td>0.000000</td>\n",
              "      <td>0.000000</td>\n",
              "      <td>0.005999</td>\n",
              "      <td>0.022783</td>\n",
              "      <td>0.266347</td>\n",
              "      <td>0.027274</td>\n",
              "      <td>0.109621</td>\n",
              "    </tr>\n",
              "    <tr>\n",
              "      <th>2</th>\n",
              "      <td>u108339</td>\n",
              "      <td>0.092332</td>\n",
              "      <td>0.021524</td>\n",
              "      <td>0.215286</td>\n",
              "      <td>0.005382</td>\n",
              "      <td>0.011143</td>\n",
              "      <td>0.010775</td>\n",
              "      <td>0.004398</td>\n",
              "      <td>0.026316</td>\n",
              "      <td>0.000000</td>\n",
              "      <td>...</td>\n",
              "      <td>0.002013</td>\n",
              "      <td>0.000000</td>\n",
              "      <td>0.000000</td>\n",
              "      <td>0.006863</td>\n",
              "      <td>0.019816</td>\n",
              "      <td>0.007536</td>\n",
              "      <td>0.010658</td>\n",
              "      <td>0.246087</td>\n",
              "      <td>0.014881</td>\n",
              "      <td>0.127154</td>\n",
              "    </tr>\n",
              "  </tbody>\n",
              "</table>\n",
              "<p>3 rows × 26 columns</p>\n",
              "</div>\n",
              "      <button class=\"colab-df-convert\" onclick=\"convertToInteractive('df-23c1ba49-c20a-4e5a-8184-4109ea2c58c8')\"\n",
              "              title=\"Convert this dataframe to an interactive table.\"\n",
              "              style=\"display:none;\">\n",
              "        \n",
              "  <svg xmlns=\"http://www.w3.org/2000/svg\" height=\"24px\"viewBox=\"0 0 24 24\"\n",
              "       width=\"24px\">\n",
              "    <path d=\"M0 0h24v24H0V0z\" fill=\"none\"/>\n",
              "    <path d=\"M18.56 5.44l.94 2.06.94-2.06 2.06-.94-2.06-.94-.94-2.06-.94 2.06-2.06.94zm-11 1L8.5 8.5l.94-2.06 2.06-.94-2.06-.94L8.5 2.5l-.94 2.06-2.06.94zm10 10l.94 2.06.94-2.06 2.06-.94-2.06-.94-.94-2.06-.94 2.06-2.06.94z\"/><path d=\"M17.41 7.96l-1.37-1.37c-.4-.4-.92-.59-1.43-.59-.52 0-1.04.2-1.43.59L10.3 9.45l-7.72 7.72c-.78.78-.78 2.05 0 2.83L4 21.41c.39.39.9.59 1.41.59.51 0 1.02-.2 1.41-.59l7.78-7.78 2.81-2.81c.8-.78.8-2.07 0-2.86zM5.41 20L4 18.59l7.72-7.72 1.47 1.35L5.41 20z\"/>\n",
              "  </svg>\n",
              "      </button>\n",
              "      \n",
              "  <style>\n",
              "    .colab-df-container {\n",
              "      display:flex;\n",
              "      flex-wrap:wrap;\n",
              "      gap: 12px;\n",
              "    }\n",
              "\n",
              "    .colab-df-convert {\n",
              "      background-color: #E8F0FE;\n",
              "      border: none;\n",
              "      border-radius: 50%;\n",
              "      cursor: pointer;\n",
              "      display: none;\n",
              "      fill: #1967D2;\n",
              "      height: 32px;\n",
              "      padding: 0 0 0 0;\n",
              "      width: 32px;\n",
              "    }\n",
              "\n",
              "    .colab-df-convert:hover {\n",
              "      background-color: #E2EBFA;\n",
              "      box-shadow: 0px 1px 2px rgba(60, 64, 67, 0.3), 0px 1px 3px 1px rgba(60, 64, 67, 0.15);\n",
              "      fill: #174EA6;\n",
              "    }\n",
              "\n",
              "    [theme=dark] .colab-df-convert {\n",
              "      background-color: #3B4455;\n",
              "      fill: #D2E3FC;\n",
              "    }\n",
              "\n",
              "    [theme=dark] .colab-df-convert:hover {\n",
              "      background-color: #434B5C;\n",
              "      box-shadow: 0px 1px 3px 1px rgba(0, 0, 0, 0.15);\n",
              "      filter: drop-shadow(0px 1px 2px rgba(0, 0, 0, 0.3));\n",
              "      fill: #FFFFFF;\n",
              "    }\n",
              "  </style>\n",
              "\n",
              "      <script>\n",
              "        const buttonEl =\n",
              "          document.querySelector('#df-23c1ba49-c20a-4e5a-8184-4109ea2c58c8 button.colab-df-convert');\n",
              "        buttonEl.style.display =\n",
              "          google.colab.kernel.accessAllowed ? 'block' : 'none';\n",
              "\n",
              "        async function convertToInteractive(key) {\n",
              "          const element = document.querySelector('#df-23c1ba49-c20a-4e5a-8184-4109ea2c58c8');\n",
              "          const dataTable =\n",
              "            await google.colab.kernel.invokeFunction('convertToInteractive',\n",
              "                                                     [key], {});\n",
              "          if (!dataTable) return;\n",
              "\n",
              "          const docLinkHtml = 'Like what you see? Visit the ' +\n",
              "            '<a target=\"_blank\" href=https://colab.research.google.com/notebooks/data_table.ipynb>data table notebook</a>'\n",
              "            + ' to learn more about interactive tables.';\n",
              "          element.innerHTML = '';\n",
              "          dataTable['output_type'] = 'display_data';\n",
              "          await google.colab.output.renderOutput(dataTable, element);\n",
              "          const docLink = document.createElement('div');\n",
              "          docLink.innerHTML = docLinkHtml;\n",
              "          element.appendChild(docLink);\n",
              "        }\n",
              "      </script>\n",
              "    </div>\n",
              "  </div>\n",
              "  "
            ]
          },
          "metadata": {},
          "execution_count": 106
        }
      ]
    },
    {
      "cell_type": "code",
      "source": [
        "user_embeddings_4.head()"
      ],
      "metadata": {
        "colab": {
          "base_uri": "https://localhost:8080/",
          "height": 236
        },
        "id": "4shAX1B09ohq",
        "outputId": "208e7f2c-8f18-461d-a8a1-9efc1e38bb33"
      },
      "execution_count": 107,
      "outputs": [
        {
          "output_type": "execute_result",
          "data": {
            "text/plain": [
              "       uid   topic_0   topic_1   topic_2   topic_3   topic_4   topic_5  \\\n",
              "0  u105138  0.032328  0.014736  0.256767  0.005440  0.018624  0.066716   \n",
              "1  u108690  0.051002  0.027410  0.264127  0.008095  0.026447  0.020236   \n",
              "2  u108339  0.092332  0.021524  0.215286  0.005382  0.011143  0.010775   \n",
              "3  u101138  0.014956  0.050296  0.331950  0.000000  0.002046  0.004154   \n",
              "4  u108248  0.110883  0.035814  0.297913  0.013168  0.002652  0.023106   \n",
              "\n",
              "    topic_6   topic_7   topic_8  ...  topic_15  topic_16  topic_17  topic_18  \\\n",
              "0  0.044027  0.022171  0.000000  ...  0.004277  0.000000  0.007250  0.007395   \n",
              "1  0.008625  0.022488  0.008339  ...  0.000000  0.002313  0.006015  0.000000   \n",
              "2  0.004398  0.026316  0.000000  ...  0.002013  0.000000  0.000000  0.006863   \n",
              "3  0.012329  0.007435  0.018179  ...  0.031268  0.003911  0.000000  0.000000   \n",
              "4  0.004110  0.014148  0.011117  ...  0.006051  0.002608  0.006848  0.002342   \n",
              "\n",
              "   topic_19  topic_20  topic_21  topic_22  topic_23  topic_24  \n",
              "0  0.005410  0.017524  0.009548  0.286872  0.002411  0.058436  \n",
              "1  0.000000  0.005999  0.022783  0.266347  0.027274  0.109621  \n",
              "2  0.019816  0.007536  0.010658  0.246087  0.014881  0.127154  \n",
              "3  0.003178  0.005506  0.035400  0.136519  0.004063  0.112608  \n",
              "4  0.004056  0.013191  0.013975  0.193747  0.033705  0.092680  \n",
              "\n",
              "[5 rows x 26 columns]"
            ],
            "text/html": [
              "\n",
              "  <div id=\"df-abca7a4f-79be-44ac-bab3-d1d6f5e2a208\">\n",
              "    <div class=\"colab-df-container\">\n",
              "      <div>\n",
              "<style scoped>\n",
              "    .dataframe tbody tr th:only-of-type {\n",
              "        vertical-align: middle;\n",
              "    }\n",
              "\n",
              "    .dataframe tbody tr th {\n",
              "        vertical-align: top;\n",
              "    }\n",
              "\n",
              "    .dataframe thead th {\n",
              "        text-align: right;\n",
              "    }\n",
              "</style>\n",
              "<table border=\"1\" class=\"dataframe\">\n",
              "  <thead>\n",
              "    <tr style=\"text-align: right;\">\n",
              "      <th></th>\n",
              "      <th>uid</th>\n",
              "      <th>topic_0</th>\n",
              "      <th>topic_1</th>\n",
              "      <th>topic_2</th>\n",
              "      <th>topic_3</th>\n",
              "      <th>topic_4</th>\n",
              "      <th>topic_5</th>\n",
              "      <th>topic_6</th>\n",
              "      <th>topic_7</th>\n",
              "      <th>topic_8</th>\n",
              "      <th>...</th>\n",
              "      <th>topic_15</th>\n",
              "      <th>topic_16</th>\n",
              "      <th>topic_17</th>\n",
              "      <th>topic_18</th>\n",
              "      <th>topic_19</th>\n",
              "      <th>topic_20</th>\n",
              "      <th>topic_21</th>\n",
              "      <th>topic_22</th>\n",
              "      <th>topic_23</th>\n",
              "      <th>topic_24</th>\n",
              "    </tr>\n",
              "  </thead>\n",
              "  <tbody>\n",
              "    <tr>\n",
              "      <th>0</th>\n",
              "      <td>u105138</td>\n",
              "      <td>0.032328</td>\n",
              "      <td>0.014736</td>\n",
              "      <td>0.256767</td>\n",
              "      <td>0.005440</td>\n",
              "      <td>0.018624</td>\n",
              "      <td>0.066716</td>\n",
              "      <td>0.044027</td>\n",
              "      <td>0.022171</td>\n",
              "      <td>0.000000</td>\n",
              "      <td>...</td>\n",
              "      <td>0.004277</td>\n",
              "      <td>0.000000</td>\n",
              "      <td>0.007250</td>\n",
              "      <td>0.007395</td>\n",
              "      <td>0.005410</td>\n",
              "      <td>0.017524</td>\n",
              "      <td>0.009548</td>\n",
              "      <td>0.286872</td>\n",
              "      <td>0.002411</td>\n",
              "      <td>0.058436</td>\n",
              "    </tr>\n",
              "    <tr>\n",
              "      <th>1</th>\n",
              "      <td>u108690</td>\n",
              "      <td>0.051002</td>\n",
              "      <td>0.027410</td>\n",
              "      <td>0.264127</td>\n",
              "      <td>0.008095</td>\n",
              "      <td>0.026447</td>\n",
              "      <td>0.020236</td>\n",
              "      <td>0.008625</td>\n",
              "      <td>0.022488</td>\n",
              "      <td>0.008339</td>\n",
              "      <td>...</td>\n",
              "      <td>0.000000</td>\n",
              "      <td>0.002313</td>\n",
              "      <td>0.006015</td>\n",
              "      <td>0.000000</td>\n",
              "      <td>0.000000</td>\n",
              "      <td>0.005999</td>\n",
              "      <td>0.022783</td>\n",
              "      <td>0.266347</td>\n",
              "      <td>0.027274</td>\n",
              "      <td>0.109621</td>\n",
              "    </tr>\n",
              "    <tr>\n",
              "      <th>2</th>\n",
              "      <td>u108339</td>\n",
              "      <td>0.092332</td>\n",
              "      <td>0.021524</td>\n",
              "      <td>0.215286</td>\n",
              "      <td>0.005382</td>\n",
              "      <td>0.011143</td>\n",
              "      <td>0.010775</td>\n",
              "      <td>0.004398</td>\n",
              "      <td>0.026316</td>\n",
              "      <td>0.000000</td>\n",
              "      <td>...</td>\n",
              "      <td>0.002013</td>\n",
              "      <td>0.000000</td>\n",
              "      <td>0.000000</td>\n",
              "      <td>0.006863</td>\n",
              "      <td>0.019816</td>\n",
              "      <td>0.007536</td>\n",
              "      <td>0.010658</td>\n",
              "      <td>0.246087</td>\n",
              "      <td>0.014881</td>\n",
              "      <td>0.127154</td>\n",
              "    </tr>\n",
              "    <tr>\n",
              "      <th>3</th>\n",
              "      <td>u101138</td>\n",
              "      <td>0.014956</td>\n",
              "      <td>0.050296</td>\n",
              "      <td>0.331950</td>\n",
              "      <td>0.000000</td>\n",
              "      <td>0.002046</td>\n",
              "      <td>0.004154</td>\n",
              "      <td>0.012329</td>\n",
              "      <td>0.007435</td>\n",
              "      <td>0.018179</td>\n",
              "      <td>...</td>\n",
              "      <td>0.031268</td>\n",
              "      <td>0.003911</td>\n",
              "      <td>0.000000</td>\n",
              "      <td>0.000000</td>\n",
              "      <td>0.003178</td>\n",
              "      <td>0.005506</td>\n",
              "      <td>0.035400</td>\n",
              "      <td>0.136519</td>\n",
              "      <td>0.004063</td>\n",
              "      <td>0.112608</td>\n",
              "    </tr>\n",
              "    <tr>\n",
              "      <th>4</th>\n",
              "      <td>u108248</td>\n",
              "      <td>0.110883</td>\n",
              "      <td>0.035814</td>\n",
              "      <td>0.297913</td>\n",
              "      <td>0.013168</td>\n",
              "      <td>0.002652</td>\n",
              "      <td>0.023106</td>\n",
              "      <td>0.004110</td>\n",
              "      <td>0.014148</td>\n",
              "      <td>0.011117</td>\n",
              "      <td>...</td>\n",
              "      <td>0.006051</td>\n",
              "      <td>0.002608</td>\n",
              "      <td>0.006848</td>\n",
              "      <td>0.002342</td>\n",
              "      <td>0.004056</td>\n",
              "      <td>0.013191</td>\n",
              "      <td>0.013975</td>\n",
              "      <td>0.193747</td>\n",
              "      <td>0.033705</td>\n",
              "      <td>0.092680</td>\n",
              "    </tr>\n",
              "  </tbody>\n",
              "</table>\n",
              "<p>5 rows × 26 columns</p>\n",
              "</div>\n",
              "      <button class=\"colab-df-convert\" onclick=\"convertToInteractive('df-abca7a4f-79be-44ac-bab3-d1d6f5e2a208')\"\n",
              "              title=\"Convert this dataframe to an interactive table.\"\n",
              "              style=\"display:none;\">\n",
              "        \n",
              "  <svg xmlns=\"http://www.w3.org/2000/svg\" height=\"24px\"viewBox=\"0 0 24 24\"\n",
              "       width=\"24px\">\n",
              "    <path d=\"M0 0h24v24H0V0z\" fill=\"none\"/>\n",
              "    <path d=\"M18.56 5.44l.94 2.06.94-2.06 2.06-.94-2.06-.94-.94-2.06-.94 2.06-2.06.94zm-11 1L8.5 8.5l.94-2.06 2.06-.94-2.06-.94L8.5 2.5l-.94 2.06-2.06.94zm10 10l.94 2.06.94-2.06 2.06-.94-2.06-.94-.94-2.06-.94 2.06-2.06.94z\"/><path d=\"M17.41 7.96l-1.37-1.37c-.4-.4-.92-.59-1.43-.59-.52 0-1.04.2-1.43.59L10.3 9.45l-7.72 7.72c-.78.78-.78 2.05 0 2.83L4 21.41c.39.39.9.59 1.41.59.51 0 1.02-.2 1.41-.59l7.78-7.78 2.81-2.81c.8-.78.8-2.07 0-2.86zM5.41 20L4 18.59l7.72-7.72 1.47 1.35L5.41 20z\"/>\n",
              "  </svg>\n",
              "      </button>\n",
              "      \n",
              "  <style>\n",
              "    .colab-df-container {\n",
              "      display:flex;\n",
              "      flex-wrap:wrap;\n",
              "      gap: 12px;\n",
              "    }\n",
              "\n",
              "    .colab-df-convert {\n",
              "      background-color: #E8F0FE;\n",
              "      border: none;\n",
              "      border-radius: 50%;\n",
              "      cursor: pointer;\n",
              "      display: none;\n",
              "      fill: #1967D2;\n",
              "      height: 32px;\n",
              "      padding: 0 0 0 0;\n",
              "      width: 32px;\n",
              "    }\n",
              "\n",
              "    .colab-df-convert:hover {\n",
              "      background-color: #E2EBFA;\n",
              "      box-shadow: 0px 1px 2px rgba(60, 64, 67, 0.3), 0px 1px 3px 1px rgba(60, 64, 67, 0.15);\n",
              "      fill: #174EA6;\n",
              "    }\n",
              "\n",
              "    [theme=dark] .colab-df-convert {\n",
              "      background-color: #3B4455;\n",
              "      fill: #D2E3FC;\n",
              "    }\n",
              "\n",
              "    [theme=dark] .colab-df-convert:hover {\n",
              "      background-color: #434B5C;\n",
              "      box-shadow: 0px 1px 3px 1px rgba(0, 0, 0, 0.15);\n",
              "      filter: drop-shadow(0px 1px 2px rgba(0, 0, 0, 0.3));\n",
              "      fill: #FFFFFF;\n",
              "    }\n",
              "  </style>\n",
              "\n",
              "      <script>\n",
              "        const buttonEl =\n",
              "          document.querySelector('#df-abca7a4f-79be-44ac-bab3-d1d6f5e2a208 button.colab-df-convert');\n",
              "        buttonEl.style.display =\n",
              "          google.colab.kernel.accessAllowed ? 'block' : 'none';\n",
              "\n",
              "        async function convertToInteractive(key) {\n",
              "          const element = document.querySelector('#df-abca7a4f-79be-44ac-bab3-d1d6f5e2a208');\n",
              "          const dataTable =\n",
              "            await google.colab.kernel.invokeFunction('convertToInteractive',\n",
              "                                                     [key], {});\n",
              "          if (!dataTable) return;\n",
              "\n",
              "          const docLinkHtml = 'Like what you see? Visit the ' +\n",
              "            '<a target=\"_blank\" href=https://colab.research.google.com/notebooks/data_table.ipynb>data table notebook</a>'\n",
              "            + ' to learn more about interactive tables.';\n",
              "          element.innerHTML = '';\n",
              "          dataTable['output_type'] = 'display_data';\n",
              "          await google.colab.output.renderOutput(dataTable, element);\n",
              "          const docLink = document.createElement('div');\n",
              "          docLink.innerHTML = docLinkHtml;\n",
              "          element.appendChild(docLink);\n",
              "        }\n",
              "      </script>\n",
              "    </div>\n",
              "  </div>\n",
              "  "
            ]
          },
          "metadata": {},
          "execution_count": 107
        }
      ]
    },
    {
      "cell_type": "code",
      "source": [
        "X_4 = pd.merge(user_embeddings_4, target, 'left')\n",
        "X_4.head(3)"
      ],
      "metadata": {
        "colab": {
          "base_uri": "https://localhost:8080/",
          "height": 173
        },
        "id": "JeoDRi309p8J",
        "outputId": "d1345639-1854-4813-9c46-4f828d646bdc"
      },
      "execution_count": 108,
      "outputs": [
        {
          "output_type": "execute_result",
          "data": {
            "text/plain": [
              "       uid   topic_0   topic_1   topic_2   topic_3   topic_4   topic_5  \\\n",
              "0  u105138  0.032328  0.014736  0.256767  0.005440  0.018624  0.066716   \n",
              "1  u108690  0.051002  0.027410  0.264127  0.008095  0.026447  0.020236   \n",
              "2  u108339  0.092332  0.021524  0.215286  0.005382  0.011143  0.010775   \n",
              "\n",
              "    topic_6   topic_7   topic_8  ...  topic_16  topic_17  topic_18  topic_19  \\\n",
              "0  0.044027  0.022171  0.000000  ...  0.000000  0.007250  0.007395  0.005410   \n",
              "1  0.008625  0.022488  0.008339  ...  0.002313  0.006015  0.000000  0.000000   \n",
              "2  0.004398  0.026316  0.000000  ...  0.000000  0.000000  0.006863  0.019816   \n",
              "\n",
              "   topic_20  topic_21  topic_22  topic_23  topic_24  churn  \n",
              "0  0.017524  0.009548  0.286872  0.002411  0.058436      0  \n",
              "1  0.005999  0.022783  0.266347  0.027274  0.109621      1  \n",
              "2  0.007536  0.010658  0.246087  0.014881  0.127154      1  \n",
              "\n",
              "[3 rows x 27 columns]"
            ],
            "text/html": [
              "\n",
              "  <div id=\"df-5cc2ebda-d90f-47ba-8da4-031666b13b1b\">\n",
              "    <div class=\"colab-df-container\">\n",
              "      <div>\n",
              "<style scoped>\n",
              "    .dataframe tbody tr th:only-of-type {\n",
              "        vertical-align: middle;\n",
              "    }\n",
              "\n",
              "    .dataframe tbody tr th {\n",
              "        vertical-align: top;\n",
              "    }\n",
              "\n",
              "    .dataframe thead th {\n",
              "        text-align: right;\n",
              "    }\n",
              "</style>\n",
              "<table border=\"1\" class=\"dataframe\">\n",
              "  <thead>\n",
              "    <tr style=\"text-align: right;\">\n",
              "      <th></th>\n",
              "      <th>uid</th>\n",
              "      <th>topic_0</th>\n",
              "      <th>topic_1</th>\n",
              "      <th>topic_2</th>\n",
              "      <th>topic_3</th>\n",
              "      <th>topic_4</th>\n",
              "      <th>topic_5</th>\n",
              "      <th>topic_6</th>\n",
              "      <th>topic_7</th>\n",
              "      <th>topic_8</th>\n",
              "      <th>...</th>\n",
              "      <th>topic_16</th>\n",
              "      <th>topic_17</th>\n",
              "      <th>topic_18</th>\n",
              "      <th>topic_19</th>\n",
              "      <th>topic_20</th>\n",
              "      <th>topic_21</th>\n",
              "      <th>topic_22</th>\n",
              "      <th>topic_23</th>\n",
              "      <th>topic_24</th>\n",
              "      <th>churn</th>\n",
              "    </tr>\n",
              "  </thead>\n",
              "  <tbody>\n",
              "    <tr>\n",
              "      <th>0</th>\n",
              "      <td>u105138</td>\n",
              "      <td>0.032328</td>\n",
              "      <td>0.014736</td>\n",
              "      <td>0.256767</td>\n",
              "      <td>0.005440</td>\n",
              "      <td>0.018624</td>\n",
              "      <td>0.066716</td>\n",
              "      <td>0.044027</td>\n",
              "      <td>0.022171</td>\n",
              "      <td>0.000000</td>\n",
              "      <td>...</td>\n",
              "      <td>0.000000</td>\n",
              "      <td>0.007250</td>\n",
              "      <td>0.007395</td>\n",
              "      <td>0.005410</td>\n",
              "      <td>0.017524</td>\n",
              "      <td>0.009548</td>\n",
              "      <td>0.286872</td>\n",
              "      <td>0.002411</td>\n",
              "      <td>0.058436</td>\n",
              "      <td>0</td>\n",
              "    </tr>\n",
              "    <tr>\n",
              "      <th>1</th>\n",
              "      <td>u108690</td>\n",
              "      <td>0.051002</td>\n",
              "      <td>0.027410</td>\n",
              "      <td>0.264127</td>\n",
              "      <td>0.008095</td>\n",
              "      <td>0.026447</td>\n",
              "      <td>0.020236</td>\n",
              "      <td>0.008625</td>\n",
              "      <td>0.022488</td>\n",
              "      <td>0.008339</td>\n",
              "      <td>...</td>\n",
              "      <td>0.002313</td>\n",
              "      <td>0.006015</td>\n",
              "      <td>0.000000</td>\n",
              "      <td>0.000000</td>\n",
              "      <td>0.005999</td>\n",
              "      <td>0.022783</td>\n",
              "      <td>0.266347</td>\n",
              "      <td>0.027274</td>\n",
              "      <td>0.109621</td>\n",
              "      <td>1</td>\n",
              "    </tr>\n",
              "    <tr>\n",
              "      <th>2</th>\n",
              "      <td>u108339</td>\n",
              "      <td>0.092332</td>\n",
              "      <td>0.021524</td>\n",
              "      <td>0.215286</td>\n",
              "      <td>0.005382</td>\n",
              "      <td>0.011143</td>\n",
              "      <td>0.010775</td>\n",
              "      <td>0.004398</td>\n",
              "      <td>0.026316</td>\n",
              "      <td>0.000000</td>\n",
              "      <td>...</td>\n",
              "      <td>0.000000</td>\n",
              "      <td>0.000000</td>\n",
              "      <td>0.006863</td>\n",
              "      <td>0.019816</td>\n",
              "      <td>0.007536</td>\n",
              "      <td>0.010658</td>\n",
              "      <td>0.246087</td>\n",
              "      <td>0.014881</td>\n",
              "      <td>0.127154</td>\n",
              "      <td>1</td>\n",
              "    </tr>\n",
              "  </tbody>\n",
              "</table>\n",
              "<p>3 rows × 27 columns</p>\n",
              "</div>\n",
              "      <button class=\"colab-df-convert\" onclick=\"convertToInteractive('df-5cc2ebda-d90f-47ba-8da4-031666b13b1b')\"\n",
              "              title=\"Convert this dataframe to an interactive table.\"\n",
              "              style=\"display:none;\">\n",
              "        \n",
              "  <svg xmlns=\"http://www.w3.org/2000/svg\" height=\"24px\"viewBox=\"0 0 24 24\"\n",
              "       width=\"24px\">\n",
              "    <path d=\"M0 0h24v24H0V0z\" fill=\"none\"/>\n",
              "    <path d=\"M18.56 5.44l.94 2.06.94-2.06 2.06-.94-2.06-.94-.94-2.06-.94 2.06-2.06.94zm-11 1L8.5 8.5l.94-2.06 2.06-.94-2.06-.94L8.5 2.5l-.94 2.06-2.06.94zm10 10l.94 2.06.94-2.06 2.06-.94-2.06-.94-.94-2.06-.94 2.06-2.06.94z\"/><path d=\"M17.41 7.96l-1.37-1.37c-.4-.4-.92-.59-1.43-.59-.52 0-1.04.2-1.43.59L10.3 9.45l-7.72 7.72c-.78.78-.78 2.05 0 2.83L4 21.41c.39.39.9.59 1.41.59.51 0 1.02-.2 1.41-.59l7.78-7.78 2.81-2.81c.8-.78.8-2.07 0-2.86zM5.41 20L4 18.59l7.72-7.72 1.47 1.35L5.41 20z\"/>\n",
              "  </svg>\n",
              "      </button>\n",
              "      \n",
              "  <style>\n",
              "    .colab-df-container {\n",
              "      display:flex;\n",
              "      flex-wrap:wrap;\n",
              "      gap: 12px;\n",
              "    }\n",
              "\n",
              "    .colab-df-convert {\n",
              "      background-color: #E8F0FE;\n",
              "      border: none;\n",
              "      border-radius: 50%;\n",
              "      cursor: pointer;\n",
              "      display: none;\n",
              "      fill: #1967D2;\n",
              "      height: 32px;\n",
              "      padding: 0 0 0 0;\n",
              "      width: 32px;\n",
              "    }\n",
              "\n",
              "    .colab-df-convert:hover {\n",
              "      background-color: #E2EBFA;\n",
              "      box-shadow: 0px 1px 2px rgba(60, 64, 67, 0.3), 0px 1px 3px 1px rgba(60, 64, 67, 0.15);\n",
              "      fill: #174EA6;\n",
              "    }\n",
              "\n",
              "    [theme=dark] .colab-df-convert {\n",
              "      background-color: #3B4455;\n",
              "      fill: #D2E3FC;\n",
              "    }\n",
              "\n",
              "    [theme=dark] .colab-df-convert:hover {\n",
              "      background-color: #434B5C;\n",
              "      box-shadow: 0px 1px 3px 1px rgba(0, 0, 0, 0.15);\n",
              "      filter: drop-shadow(0px 1px 2px rgba(0, 0, 0, 0.3));\n",
              "      fill: #FFFFFF;\n",
              "    }\n",
              "  </style>\n",
              "\n",
              "      <script>\n",
              "        const buttonEl =\n",
              "          document.querySelector('#df-5cc2ebda-d90f-47ba-8da4-031666b13b1b button.colab-df-convert');\n",
              "        buttonEl.style.display =\n",
              "          google.colab.kernel.accessAllowed ? 'block' : 'none';\n",
              "\n",
              "        async function convertToInteractive(key) {\n",
              "          const element = document.querySelector('#df-5cc2ebda-d90f-47ba-8da4-031666b13b1b');\n",
              "          const dataTable =\n",
              "            await google.colab.kernel.invokeFunction('convertToInteractive',\n",
              "                                                     [key], {});\n",
              "          if (!dataTable) return;\n",
              "\n",
              "          const docLinkHtml = 'Like what you see? Visit the ' +\n",
              "            '<a target=\"_blank\" href=https://colab.research.google.com/notebooks/data_table.ipynb>data table notebook</a>'\n",
              "            + ' to learn more about interactive tables.';\n",
              "          element.innerHTML = '';\n",
              "          dataTable['output_type'] = 'display_data';\n",
              "          await google.colab.output.renderOutput(dataTable, element);\n",
              "          const docLink = document.createElement('div');\n",
              "          docLink.innerHTML = docLinkHtml;\n",
              "          element.appendChild(docLink);\n",
              "        }\n",
              "      </script>\n",
              "    </div>\n",
              "  </div>\n",
              "  "
            ]
          },
          "metadata": {},
          "execution_count": 108
        }
      ]
    },
    {
      "cell_type": "code",
      "source": [
        "# разделим данные на train/test\n",
        "X_4_train, X_4_test, y_4_train, y_4_test = train_test_split(X_4[[f'topic_{i}' for i in range(N_topic)]], \n",
        "                                                    X_4['churn'], random_state=0)"
      ],
      "metadata": {
        "id": "fVRSeKSS9rtT"
      },
      "execution_count": 109,
      "outputs": []
    },
    {
      "cell_type": "code",
      "source": [
        "# logreg_4 = LogisticRegression(random_state=0) # LogisticRegression выдавал предсказания, которые не позволяли рассчитать f1 score\n",
        "logreg_4 = RandomForestClassifier()\n",
        "# обучим \n",
        "logreg_4.fit(X_4_train, y_4_train)"
      ],
      "metadata": {
        "colab": {
          "base_uri": "https://localhost:8080/"
        },
        "id": "i40w5niH9tOD",
        "outputId": "78f6f09f-1465-4768-af4b-e1e78c1d002b"
      },
      "execution_count": 110,
      "outputs": [
        {
          "output_type": "execute_result",
          "data": {
            "text/plain": [
              "RandomForestClassifier()"
            ]
          },
          "metadata": {},
          "execution_count": 110
        }
      ]
    },
    {
      "cell_type": "code",
      "source": [
        "# наши прогнозы для тестовой выборки\n",
        "preds_4 = logreg_4.predict_proba(X_4_test)[:, 1]\n",
        "preds_4[:10]"
      ],
      "metadata": {
        "colab": {
          "base_uri": "https://localhost:8080/"
        },
        "id": "m7fUkCQt9uyc",
        "outputId": "efa59437-d575-4889-d3e0-12bf3ac6805d"
      },
      "execution_count": 111,
      "outputs": [
        {
          "output_type": "execute_result",
          "data": {
            "text/plain": [
              "array([0.35, 0.04, 0.34, 0.08, 0.08, 0.01, 0.04, 0.03, 0.1 , 0.25])"
            ]
          },
          "metadata": {},
          "execution_count": 111
        }
      ]
    },
    {
      "cell_type": "code",
      "source": [
        "print(preds_4)"
      ],
      "metadata": {
        "colab": {
          "base_uri": "https://localhost:8080/"
        },
        "id": "cUFWucZb9wYy",
        "outputId": "708c73de-deda-4e7d-89a1-9740dae6c3be"
      },
      "execution_count": 112,
      "outputs": [
        {
          "output_type": "stream",
          "name": "stdout",
          "text": [
            "[0.35 0.04 0.34 ... 0.02 0.06 0.  ]\n"
          ]
        }
      ]
    },
    {
      "cell_type": "code",
      "source": [
        "n = 50\n",
        "plt.figure(figsize=(10, 6))\n",
        "plt.plot(preds_4[:n], label='predict')\n",
        "plt.plot(y_4_test.values[:n], label='true')\n",
        "plt.title('ответ модели')\n",
        "plt.xlabel('№ примера')\n",
        "plt.ylabel('выход')\n",
        "plt.legend()\n",
        "plt.grid('On')\n",
        "plt.show()"
      ],
      "metadata": {
        "colab": {
          "base_uri": "https://localhost:8080/",
          "height": 418
        },
        "id": "2iQhY9Oz9yED",
        "outputId": "98f60d54-6121-4dba-c8d7-fa2007423630"
      },
      "execution_count": 113,
      "outputs": [
        {
          "output_type": "display_data",
          "data": {
            "text/plain": [
              "<Figure size 720x432 with 1 Axes>"
            ],
            "image/png": "[encoded data removed]"
          },
          "metadata": {
            "needs_background": "light"
          }
        }
      ]
    },
    {
      "cell_type": "code",
      "source": [
        "# precision_4, recall_4, thresholds_4 = precision_recall_curve(y_test, np.round(abs(preds_4))) #preds_4)\n",
        "precision_4, recall_4, thresholds_4 = precision_recall_curve(y_test, preds_4)\n",
        "fscore_4 = (2 * precision_4 * recall_4) / (precision_4 + recall_4)\n",
        "# locate the index of the largest f score\n",
        "ix_4 = np.argmax(fscore_4)\n",
        "print(f'Best Threshold={thresholds_4[ix_4]}, F-Score={fscore_4[ix_4]:.3f}, Precision={precision_4[ix_4]:.3f}, Recall={recall_4[ix_4]:.3f}')"
      ],
      "metadata": {
        "colab": {
          "base_uri": "https://localhost:8080/"
        },
        "id": "vUHf6ON691lU",
        "outputId": "997f017b-fa0f-4c24-fdd4-b2e52cddcf1f"
      },
      "execution_count": 115,
      "outputs": [
        {
          "output_type": "stream",
          "name": "stdout",
          "text": [
            "Best Threshold=0.29, F-Score=0.701, Precision=0.643, Recall=0.771\n"
          ]
        }
      ]
    },
    {
      "cell_type": "code",
      "source": [
        "font = {'size' : 15}\n",
        "\n",
        "plt.rc('font', **font)\n",
        "\n",
        "cnf_matrix_4 = confusion_matrix(y_4_test, preds_4 > thresholds_4[ix_4])\n",
        "\n",
        "plt.figure(figsize=(10, 8))\n",
        "plot_confusion_matrix(cnf_matrix_4, classes=['Non-Churn', 'churn'],\n",
        "                      title='Confusion matrix')\n",
        "plt.savefig(\"conf_matrix.png\")\n",
        "plt.show()"
      ],
      "metadata": {
        "colab": {
          "base_uri": "https://localhost:8080/",
          "height": 645
        },
        "id": "fnBv2n-w93o9",
        "outputId": "6722b2ef-53a1-49b8-db39-83a9c42d63e9"
      },
      "execution_count": 116,
      "outputs": [
        {
          "output_type": "stream",
          "name": "stdout",
          "text": [
            "Confusion matrix, without normalization\n",
            "[[1655  100]\n",
            " [  60  185]]\n"
          ]
        },
        {
          "output_type": "display_data",
          "data": {
            "text/plain": [
              "<Figure size 720x576 with 2 Axes>"
            ],
            "image/png": "[encoded data removed]"
          },
          "metadata": {
            "needs_background": "light"
          }
        }
      ]
    },
    {
      "cell_type": "code",
      "source": [
        "roc_auc_4 = roc_auc_score(y_4_test, preds_4)\n",
        "roc_auc_4"
      ],
      "metadata": {
        "colab": {
          "base_uri": "https://localhost:8080/"
        },
        "id": "IhrKEzF195r1",
        "outputId": "f116781f-864d-4890-fff1-34998733f5bb"
      },
      "execution_count": 117,
      "outputs": [
        {
          "output_type": "execute_result",
          "data": {
            "text/plain": [
              "0.9392836792836792"
            ]
          },
          "metadata": {},
          "execution_count": 117
        }
      ]
    },
    {
      "cell_type": "code",
      "source": [
        "#5\n",
        "df=pd.DataFrame(\n",
        "    {\n",
        "        'methods':['mean', 'median','max','idf_mean ']\n",
        "        ,'roc_auc':[roc_auc, roc_auc_2, roc_auc_3, roc_auc_4]\n",
        "        ,'precision': [precision[ix], precision_2[ix_2], precision_3[ix_3], precision_4[ix_4]]\n",
        "        ,'recall': [recall[ix], recall_2[ix_2], recall_3[ix_3], recall_4[ix_4]]\n",
        "        ,'f_score': [fscore[ix], fscore_2[ix_2], fscore_3[ix_3], fscore_4[ix_4]]\n",
        "    }\n",
        ")\n",
        "df"
      ],
      "metadata": {
        "colab": {
          "base_uri": "https://localhost:8080/",
          "height": 175
        },
        "id": "tvGznkaW97MD",
        "outputId": "70522bc8-233e-4464-ac9b-3d3d8797f156"
      },
      "execution_count": 120,
      "outputs": [
        {
          "output_type": "execute_result",
          "data": {
            "text/plain": [
              "     methods   roc_auc  precision    recall   f_score\n",
              "0       mean  0.952172   0.639073  0.787755  0.705667\n",
              "1     median  0.998623   0.916031  0.979592  0.946746\n",
              "2        max  0.984878   0.888393  0.812245  0.848614\n",
              "3  idf_mean   0.939284   0.642857  0.771429  0.701299"
            ],
            "text/html": [
              "\n",
              "  <div id=\"df-0fb5e1ce-1587-4082-8062-ea3520795289\">\n",
              "    <div class=\"colab-df-container\">\n",
              "      <div>\n",
              "<style scoped>\n",
              "    .dataframe tbody tr th:only-of-type {\n",
              "        vertical-align: middle;\n",
              "    }\n",
              "\n",
              "    .dataframe tbody tr th {\n",
              "        vertical-align: top;\n",
              "    }\n",
              "\n",
              "    .dataframe thead th {\n",
              "        text-align: right;\n",
              "    }\n",
              "</style>\n",
              "<table border=\"1\" class=\"dataframe\">\n",
              "  <thead>\n",
              "    <tr style=\"text-align: right;\">\n",
              "      <th></th>\n",
              "      <th>methods</th>\n",
              "      <th>roc_auc</th>\n",
              "      <th>precision</th>\n",
              "      <th>recall</th>\n",
              "      <th>f_score</th>\n",
              "    </tr>\n",
              "  </thead>\n",
              "  <tbody>\n",
              "    <tr>\n",
              "      <th>0</th>\n",
              "      <td>mean</td>\n",
              "      <td>0.952172</td>\n",
              "      <td>0.639073</td>\n",
              "      <td>0.787755</td>\n",
              "      <td>0.705667</td>\n",
              "    </tr>\n",
              "    <tr>\n",
              "      <th>1</th>\n",
              "      <td>median</td>\n",
              "      <td>0.998623</td>\n",
              "      <td>0.916031</td>\n",
              "      <td>0.979592</td>\n",
              "      <td>0.946746</td>\n",
              "    </tr>\n",
              "    <tr>\n",
              "      <th>2</th>\n",
              "      <td>max</td>\n",
              "      <td>0.984878</td>\n",
              "      <td>0.888393</td>\n",
              "      <td>0.812245</td>\n",
              "      <td>0.848614</td>\n",
              "    </tr>\n",
              "    <tr>\n",
              "      <th>3</th>\n",
              "      <td>idf_mean</td>\n",
              "      <td>0.939284</td>\n",
              "      <td>0.642857</td>\n",
              "      <td>0.771429</td>\n",
              "      <td>0.701299</td>\n",
              "    </tr>\n",
              "  </tbody>\n",
              "</table>\n",
              "</div>\n",
              "      <button class=\"colab-df-convert\" onclick=\"convertToInteractive('df-0fb5e1ce-1587-4082-8062-ea3520795289')\"\n",
              "              title=\"Convert this dataframe to an interactive table.\"\n",
              "              style=\"display:none;\">\n",
              "        \n",
              "  <svg xmlns=\"http://www.w3.org/2000/svg\" height=\"24px\"viewBox=\"0 0 24 24\"\n",
              "       width=\"24px\">\n",
              "    <path d=\"M0 0h24v24H0V0z\" fill=\"none\"/>\n",
              "    <path d=\"M18.56 5.44l.94 2.06.94-2.06 2.06-.94-2.06-.94-.94-2.06-.94 2.06-2.06.94zm-11 1L8.5 8.5l.94-2.06 2.06-.94-2.06-.94L8.5 2.5l-.94 2.06-2.06.94zm10 10l.94 2.06.94-2.06 2.06-.94-2.06-.94-.94-2.06-.94 2.06-2.06.94z\"/><path d=\"M17.41 7.96l-1.37-1.37c-.4-.4-.92-.59-1.43-.59-.52 0-1.04.2-1.43.59L10.3 9.45l-7.72 7.72c-.78.78-.78 2.05 0 2.83L4 21.41c.39.39.9.59 1.41.59.51 0 1.02-.2 1.41-.59l7.78-7.78 2.81-2.81c.8-.78.8-2.07 0-2.86zM5.41 20L4 18.59l7.72-7.72 1.47 1.35L5.41 20z\"/>\n",
              "  </svg>\n",
              "      </button>\n",
              "      \n",
              "  <style>\n",
              "    .colab-df-container {\n",
              "      display:flex;\n",
              "      flex-wrap:wrap;\n",
              "      gap: 12px;\n",
              "    }\n",
              "\n",
              "    .colab-df-convert {\n",
              "      background-color: #E8F0FE;\n",
              "      border: none;\n",
              "      border-radius: 50%;\n",
              "      cursor: pointer;\n",
              "      display: none;\n",
              "      fill: #1967D2;\n",
              "      height: 32px;\n",
              "      padding: 0 0 0 0;\n",
              "      width: 32px;\n",
              "    }\n",
              "\n",
              "    .colab-df-convert:hover {\n",
              "      background-color: #E2EBFA;\n",
              "      box-shadow: 0px 1px 2px rgba(60, 64, 67, 0.3), 0px 1px 3px 1px rgba(60, 64, 67, 0.15);\n",
              "      fill: #174EA6;\n",
              "    }\n",
              "\n",
              "    [theme=dark] .colab-df-convert {\n",
              "      background-color: #3B4455;\n",
              "      fill: #D2E3FC;\n",
              "    }\n",
              "\n",
              "    [theme=dark] .colab-df-convert:hover {\n",
              "      background-color: #434B5C;\n",
              "      box-shadow: 0px 1px 3px 1px rgba(0, 0, 0, 0.15);\n",
              "      filter: drop-shadow(0px 1px 2px rgba(0, 0, 0, 0.3));\n",
              "      fill: #FFFFFF;\n",
              "    }\n",
              "  </style>\n",
              "\n",
              "      <script>\n",
              "        const buttonEl =\n",
              "          document.querySelector('#df-0fb5e1ce-1587-4082-8062-ea3520795289 button.colab-df-convert');\n",
              "        buttonEl.style.display =\n",
              "          google.colab.kernel.accessAllowed ? 'block' : 'none';\n",
              "\n",
              "        async function convertToInteractive(key) {\n",
              "          const element = document.querySelector('#df-0fb5e1ce-1587-4082-8062-ea3520795289');\n",
              "          const dataTable =\n",
              "            await google.colab.kernel.invokeFunction('convertToInteractive',\n",
              "                                                     [key], {});\n",
              "          if (!dataTable) return;\n",
              "\n",
              "          const docLinkHtml = 'Like what you see? Visit the ' +\n",
              "            '<a target=\"_blank\" href=https://colab.research.google.com/notebooks/data_table.ipynb>data table notebook</a>'\n",
              "            + ' to learn more about interactive tables.';\n",
              "          element.innerHTML = '';\n",
              "          dataTable['output_type'] = 'display_data';\n",
              "          await google.colab.output.renderOutput(dataTable, element);\n",
              "          const docLink = document.createElement('div');\n",
              "          docLink.innerHTML = docLinkHtml;\n",
              "          element.appendChild(docLink);\n",
              "        }\n",
              "      </script>\n",
              "    </div>\n",
              "  </div>\n",
              "  "
            ]
          },
          "metadata": {},
          "execution_count": 120
        }
      ]
    },
    {
      "cell_type": "code",
      "source": [
        "# 6\n",
        "# Можно заметить, что получение user embeddings по медиане сработало лучше, чем по максимальному значению или среднему.\n",
        "# Получение embeddings по медиане работает лучше, т.к. сама медиана более устойчива к выбросам. И случайно просмотренная \n",
        "# статья с \"тяжелой\" тематикой может значительно изменить предсказания алгоритма. Но не в случае медианы.\n",
        "#Среднее по tf-idf сработало хуже чем любой bag-of-words. Возможно тексты в данном датасете слишком короткие, что ухудшает \n",
        "# качество работы tf-idf."
      ],
      "metadata": {
        "id": "FD3B4Xan-Goh"
      },
      "execution_count": 121,
      "outputs": []
    },
    {
      "cell_type": "markdown",
      "metadata": {
        "id": "qeInLvGxPxAe"
      },
      "source": [
        "#### Ссылки"
      ]
    },
    {
      "cell_type": "markdown",
      "metadata": {
        "id": "AZtHE4GgPxAe"
      },
      "source": [
        "1. http://www.machinelearning.ru/wiki/images/d/d5/Voron17survey-artm.pdf\n",
        "2. https://en.wikipedia.org/wiki/Latent_Dirichlet_allocation"
      ]
    },
    {
      "cell_type": "markdown",
      "metadata": {
        "id": "y84vLnzFPxAe"
      },
      "source": [
        "#### Библиотеки, которые нужно установить:\n",
        "\n",
        "1. gensim\n",
        "2. razdel\n",
        "3. pymorphy2\n",
        "4. nltk"
      ]
    },
    {
      "cell_type": "code",
      "execution_count": 121,
      "metadata": {
        "id": "DFXTZxbrPxAe"
      },
      "outputs": [],
      "source": []
    }
  ],
  "metadata": {
    "colab": {
      "provenance": []
    },
    "kernelspec": {
      "display_name": "Python 3",
      "language": "python",
      "name": "python3"
    },
    "language_info": {
      "codemirror_mode": {
        "name": "ipython",
        "version": 3
      },
      "file_extension": ".py",
      "mimetype": "text/x-python",
      "name": "python",
      "nbconvert_exporter": "python",
      "pygments_lexer": "ipython3",
      "version": "3.7.3"
    }
  },
  "nbformat": 4,
  "nbformat_minor": 0
}