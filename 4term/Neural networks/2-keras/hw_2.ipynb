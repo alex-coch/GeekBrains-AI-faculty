{
  "cells": [
    {
      "cell_type": "code",
      "source": [
        "pip install keras"
      ],
      "metadata": {
        "id": "CK5v01oCYJod",
        "outputId": "b4ad7c5c-7de3-408a-947a-4828a54cb564",
        "colab": {
          "base_uri": "https://localhost:8080/"
        }
      },
      "execution_count": null,
      "outputs": [
        {
          "output_type": "stream",
          "name": "stdout",
          "text": [
            "Looking in indexes: https://pypi.org/simple, https://us-python.pkg.dev/colab-wheels/public/simple/\n",
            "Requirement already satisfied: keras in /usr/local/lib/python3.9/dist-packages (2.12.0)\n"
          ]
        }
      ]
    },
    {
      "cell_type": "code",
      "source": [
        "from keras.datasets import fashion_mnist"
      ],
      "metadata": {
        "id": "BdtNDP-W6TJi"
      },
      "execution_count": null,
      "outputs": []
    },
    {
      "cell_type": "code",
      "source": [
        "(train_imagef, train_labelf), (test_imagef, test_labelf) = fashion_mnist.load_data()"
      ],
      "metadata": {
        "id": "gEHMPKPT6bgx",
        "colab": {
          "base_uri": "https://localhost:8080/"
        },
        "outputId": "43208c2b-d13a-48e7-d769-18f8d05f79b4"
      },
      "execution_count": null,
      "outputs": [
        {
          "output_type": "stream",
          "name": "stdout",
          "text": [
            "Downloading data from https://storage.googleapis.com/tensorflow/tf-keras-datasets/train-labels-idx1-ubyte.gz\n",
            "29515/29515 [==============================] - 0s 1us/step\n",
            "Downloading data from https://storage.googleapis.com/tensorflow/tf-keras-datasets/train-images-idx3-ubyte.gz\n",
            "26421880/26421880 [==============================] - 2s 0us/step\n",
            "Downloading data from https://storage.googleapis.com/tensorflow/tf-keras-datasets/t10k-labels-idx1-ubyte.gz\n",
            "5148/5148 [==============================] - 0s 0us/step\n",
            "Downloading data from https://storage.googleapis.com/tensorflow/tf-keras-datasets/t10k-images-idx3-ubyte.gz\n",
            "4422102/4422102 [==============================] - 1s 0us/step\n"
          ]
        }
      ]
    },
    {
      "cell_type": "code",
      "source": [
        "train_imagef.min(), train_imagef.max()"
      ],
      "metadata": {
        "colab": {
          "base_uri": "https://localhost:8080/"
        },
        "id": "wn5Jwbou9jsk",
        "outputId": "a038031a-475a-4153-faf6-b3d3b91c1393"
      },
      "execution_count": null,
      "outputs": [
        {
          "output_type": "execute_result",
          "data": {
            "text/plain": [
              "(0, 255)"
            ]
          },
          "metadata": {},
          "execution_count": 5
        }
      ]
    },
    {
      "cell_type": "code",
      "execution_count": null,
      "metadata": {
        "id": "BuM-iR_xQz_9"
      },
      "outputs": [],
      "source": [
        "import numpy as np\n",
        "import pandas as pd\n",
        "import matplotlib.pyplot as plt\n",
        "import seaborn as sn\n",
        "import tensorflow as tf\n",
        "import itertools\n",
        "from keras.models import Sequential\n",
        "from keras.layers import Dense\n",
        "from keras.utils import to_categorical"
      ]
    },
    {
      "cell_type": "code",
      "source": [
        "# Normalize the images.\n",
        "train_imagef = (train_imagef / 255) - 0.5\n",
        "test_imagef = (test_imagef / 255) - 0.5"
      ],
      "metadata": {
        "id": "5lVWae248OUe"
      },
      "execution_count": null,
      "outputs": []
    },
    {
      "cell_type": "code",
      "source": [
        "train_imagef = train_imagef.reshape((-1, 784))\n",
        "test_imagef = test_imagef.reshape((-1, 784))"
      ],
      "metadata": {
        "id": "SCdDrnv-E-WZ"
      },
      "execution_count": null,
      "outputs": []
    },
    {
      "cell_type": "code",
      "source": [
        "train_imagef.shape, test_imagef.shape"
      ],
      "metadata": {
        "colab": {
          "base_uri": "https://localhost:8080/"
        },
        "id": "Q-Il3FGOFxgj",
        "outputId": "b83aba54-3677-4898-e512-34231918afb8"
      },
      "execution_count": null,
      "outputs": [
        {
          "output_type": "execute_result",
          "data": {
            "text/plain": [
              "((60000, 784), (10000, 784))"
            ]
          },
          "metadata": {},
          "execution_count": 9
        }
      ]
    },
    {
      "cell_type": "code",
      "source": [
        "model = Sequential([\n",
        "  Dense(128, activation='relu', input_shape=(784,)),\n",
        "  Dense(100, activation='relu'),\n",
        "  Dense(80, activation='relu'),\n",
        "  Dense(10, activation='sigmoid'),\n",
        "])"
      ],
      "metadata": {
        "id": "z5XbPvy1HPns"
      },
      "execution_count": null,
      "outputs": []
    },
    {
      "cell_type": "code",
      "source": [
        "# Flatten the images.\n",
        "train_imagef = train_imagef.reshape((-1, 784))\n",
        "test_imagef = test_imagef.reshape((-1, 784))"
      ],
      "metadata": {
        "id": "Fhxwn3AQNaTE"
      },
      "execution_count": null,
      "outputs": []
    },
    {
      "cell_type": "code",
      "source": [
        "# Compile the model.\n",
        "model.compile(\n",
        "  optimizer='adam',\n",
        "  loss='categorical_crossentropy',\n",
        "  metrics=['accuracy'],\n",
        ")"
      ],
      "metadata": {
        "id": "6EOG-3VkO2VF"
      },
      "execution_count": null,
      "outputs": []
    },
    {
      "cell_type": "code",
      "source": [
        "# Train the model.\n",
        "model.fit(\n",
        "  train_imagef,\n",
        "  to_categorical(train_labelf),\n",
        "  epochs=5,\n",
        "  batch_size=32,\n",
        ")\n",
        "# Evaluate the model.\n",
        "model.evaluate(\n",
        "  test_imagef,\n",
        "  to_categorical(test_labelf)\n",
        ")\n",
        "model.save_weights('modewlf.h5')\n",
        "\n",
        "model.summary()"
      ],
      "metadata": {
        "colab": {
          "base_uri": "https://localhost:8080/"
        },
        "id": "x5LUxfMAPDE5",
        "outputId": "5147221b-f6b8-4234-f7a0-01d307ecb9df"
      },
      "execution_count": null,
      "outputs": [
        {
          "output_type": "stream",
          "name": "stdout",
          "text": [
            "Epoch 1/5\n",
            "1875/1875 [==============================] - 11s 5ms/step - loss: 0.4910 - accuracy: 0.8220\n",
            "Epoch 2/5\n",
            "1875/1875 [==============================] - 13s 7ms/step - loss: 0.3793 - accuracy: 0.8605\n",
            "Epoch 3/5\n",
            "1875/1875 [==============================] - 9s 5ms/step - loss: 0.3391 - accuracy: 0.8749\n",
            "Epoch 4/5\n",
            "1875/1875 [==============================] - 9s 5ms/step - loss: 0.3140 - accuracy: 0.8834\n",
            "Epoch 5/5\n",
            "1875/1875 [==============================] - 10s 5ms/step - loss: 0.2977 - accuracy: 0.8881\n",
            "313/313 [==============================] - 1s 2ms/step - loss: 0.3861 - accuracy: 0.8568\n",
            "Model: \"sequential\"\n",
            "_________________________________________________________________\n",
            " Layer (type)                Output Shape              Param #   \n",
            "=================================================================\n",
            " dense (Dense)               (None, 128)               100480    \n",
            "                                                                 \n",
            " dense_1 (Dense)             (None, 100)               12900     \n",
            "                                                                 \n",
            " dense_2 (Dense)             (None, 80)                8080      \n",
            "                                                                 \n",
            " dense_3 (Dense)             (None, 10)                810       \n",
            "                                                                 \n",
            "=================================================================\n",
            "Total params: 122,270\n",
            "Trainable params: 122,270\n",
            "Non-trainable params: 0\n",
            "_________________________________________________________________\n"
          ]
        }
      ]
    },
    {
      "cell_type": "code",
      "source": [
        "train_labelf[:5]\n"
      ],
      "metadata": {
        "colab": {
          "base_uri": "https://localhost:8080/"
        },
        "id": "6InPbmZIvZ7w",
        "outputId": "c40fbf3a-2e7d-4cc6-dc5c-b3f1095ed1a4"
      },
      "execution_count": null,
      "outputs": [
        {
          "output_type": "execute_result",
          "data": {
            "text/plain": [
              "array([9, 0, 0, 3, 0], dtype=uint8)"
            ]
          },
          "metadata": {},
          "execution_count": 15
        }
      ]
    },
    {
      "cell_type": "code",
      "source": [
        "# history = model.fit(train_imagef, train_labelf,\n",
        "#                     batch_size=64,\n",
        "#                     epochs=3,\n",
        "#                     validation_data"
      ],
      "metadata": {
        "id": "J1sAu3esEu3N"
      },
      "execution_count": null,
      "outputs": []
    },
    {
      "cell_type": "markdown",
      "source": [
        "при увеличении числа нейронов скрытого слоя качечтво модели растет, наилучшее качество получилось при 25 эпохах\n",
        "при 5 эпохах и кол-ве обуч примеров 32 качество модели растет лучшее число 88,5 а сигмоида 0,86\n",
        "при 12 эпохах и кол-ве примеров 12 качество модели растет лучший показатель 89,7 а сигмоида 87.4 \n",
        "при 20 эпохах и и код-ве обуч 68 лучший показатель 94,4 сигмоида 88,7"
      ],
      "metadata": {
        "id": "eRvraHOgGVnB"
      }
    },
    {
      "cell_type": "code",
      "source": [],
      "metadata": {
        "id": "G7BN9O7bUBkJ"
      },
      "execution_count": null,
      "outputs": []
    },
    {
      "cell_type": "code",
      "source": [
        "%%time\n",
        "# создаем модель model\n",
        "model = Sequential([\n",
        "    Dense(128, activation='relu', input_shape=(784,)),\n",
        "    Dense(100, activation='relu'),\n",
        "    Dense(80, activation='relu'),\n",
        "    Dense(10, activation='sigmoid'),\n",
        "])\n",
        "\n",
        "# сохраняем ее веса (это начальная точка) model.save_weights('model.h5')\n",
        "model.save_weights('modewlf.h5')\n",
        "\n",
        "# будем сохранять модели в словарь\n",
        "models = {}\n",
        "\n",
        "plt.figure(figsize=(16, 7))\n",
        "colors = ['g', 'b', 'r']\n",
        "\n",
        "num_epochs = 5\n",
        "batch_size = 32\n",
        "\n",
        "# вектор для вывода результатов\n",
        "epoch = np.arange(num_epochs+1)"
      ],
      "metadata": {
        "id": "MgLv5o-xEu9u",
        "colab": {
          "base_uri": "https://localhost:8080/",
          "height": 69
        },
        "outputId": "c6e09b73-d284-43e1-cf0f-e0a9da9cfd1e"
      },
      "execution_count": null,
      "outputs": [
        {
          "output_type": "stream",
          "name": "stdout",
          "text": [
            "CPU times: user 86 ms, sys: 5.86 ms, total: 91.8 ms\n",
            "Wall time: 104 ms\n"
          ]
        },
        {
          "output_type": "display_data",
          "data": {
            "text/plain": [
              "<Figure size 1600x700 with 0 Axes>"
            ]
          },
          "metadata": {}
        }
      ]
    },
    {
      "cell_type": "code",
      "source": [
        "model.compile(loss='binary_crossentropy', optimizer='adam', metrics=['accuracy'])"
      ],
      "metadata": {
        "id": "5mEPDyzEUhga"
      },
      "execution_count": null,
      "outputs": []
    },
    {
      "cell_type": "code",
      "source": [
        "# from tensorflow.keras.optimizers import SGD, RMSprop, Adam\n",
        "# # будем изменять оптимизаторы\n",
        "# for i, i_optim in enumerate([SGD(), RMSprop(), Adam()]):\n",
        "#     print(f'Оптимизатор: {i_optim.get_config()[\"name\"]}')"
      ],
      "metadata": {
        "id": "nlxzelh3UTUC"
      },
      "execution_count": null,
      "outputs": []
    },
    {
      "cell_type": "code",
      "source": [
        "from tensorflow.keras.optimizers import SGD, RMSprop, Adam\n",
        "# будем изменять оптимизаторы\n",
        "for i, i_optim in enumerate([SGD(), RMSprop(), Adam()]):\n",
        "    print(f'Оптимизатор: {i_optim.get_config()[\"name\"]}')\n",
        "# создаем рабочую модель  model_i, куда будем загружать эти веса (она должна быть идентичной структуры)\n",
        "  \n",
        "    model_i = Sequential([\n",
        "        Dense(128, activation='relu', input_shape=(784,)),\n",
        "        Dense(100, activation='relu'),\n",
        "        Dense(80, activation='relu'),\n",
        "        Dense(10, activation='sigmoid'),\n",
        "    ])\n",
        "      \n",
        "  # загружаем веса model_i.load_weights('model.h5')\n",
        "    model_i.load_weights('modewlf.h5')\n",
        "      \n",
        "  # компилируем model_i с одним из оптимизаторов\n",
        "    model_i.compile(\n",
        "          optimizer=i_optim,\n",
        "          loss='categorical_crossentropy',\n",
        "          metrics=['accuracy'],\n",
        "          )\n",
        "\n",
        "\n",
        "      # # # вычисляем ошибку для modeli без обучения\n",
        "    h0_train = model_i.evaluate( train_imagef[:48000, :], to_categorical(train_labelf [:48000, :]), verbose=0)\n",
        "    h0_val = model_i.evaluate(train_imagef[:48000, :], to_categorical(train_labelf [:48000, :]), verbose=0)\n",
        "\n",
        "      # проводим обучение модели \n",
        "    h = model_i.fit(\n",
        "                  train_imagef, \n",
        "                  to_categorical(train_labelf),\n",
        "                  epochs=num_epochs,\n",
        "                  batch_size=batch_size,\n",
        "                  validation_data=0.2,\n",
        "                  verbose=0)\n",
        "\n",
        "  #     # вычисляем ошибку для modeli после обучения\n",
        "  #     loss, metric = model_i.evaluate(test_imagef, test_labelf, batch_size=64)\n",
        "  #     print(f'Качество на тесте: {loss}, {metric}')\n",
        "      \n",
        "  #     # записываем обученную модель в словарь\n",
        "  #     models[i_optim.get_config()['name']] = model_i\n",
        "\n",
        "      \n",
        "  #     # картинки\n",
        "  #     '''\n",
        "  #     plt.figure(figsize=(16, 7))\n",
        "  #     plt.plot(epoch, np.log([h0_train[0]] + h.history['loss']),\n",
        "  #              '-', c=colors[i],\n",
        "  #              label=model_i.optimizer.get_config()['name'] + ' train')\n",
        "  #     plt.plot(epoch, np.log([h0_val[0]] + h.history['val_loss']),\n",
        "  #              '--', c=colors[i],\n",
        "  #              label=model_i.optimizer.get_config()['name'] + ' val')\n",
        "  #     '''\n",
        "      \n",
        "  #     plt.plot(epoch, ([h0_train[0]] + h.history['accuracy']),\n",
        "  #              '-', c=colors[i],\n",
        "  #              label=model_i.optimizer.get_config()['name'] + ' train')\n",
        "  #     plt.plot(epoch, ([h0_val[0]] + h.history['val_accuracy']),\n",
        "  #              '--', c=colors[i],\n",
        "  #              label=f'{model_i.optimizer.get_config()[\"name\"]} val {metric:.2f}')\n",
        "\n",
        "  # plt.legend()\n",
        "  # plt.title('нейросети от оптимизатора accuracy')\n",
        "  # plt.xlabel('epoch')\n",
        "  # plt.ylabel('accuracy')\n",
        "  # plt.show()"
      ],
      "metadata": {
        "colab": {
          "base_uri": "https://localhost:8080/",
          "height": 252
        },
        "id": "R9H7cgEk6xAi",
        "outputId": "0ba62a5c-312f-41d4-b9df-bf61278913d4"
      },
      "execution_count": null,
      "outputs": [
        {
          "output_type": "stream",
          "name": "stdout",
          "text": [
            "Оптимизатор: SGD\n"
          ]
        },
        {
          "output_type": "error",
          "ename": "IndexError",
          "evalue": "ignored",
          "traceback": [
            "\u001b[0;31m---------------------------------------------------------------------------\u001b[0m",
            "\u001b[0;31mIndexError\u001b[0m                                Traceback (most recent call last)",
            "\u001b[0;32m<ipython-input-22-0f462d7c4c85>\u001b[0m in \u001b[0;36m<cell line: 3>\u001b[0;34m()\u001b[0m\n\u001b[1;32m     24\u001b[0m \u001b[0;34m\u001b[0m\u001b[0m\n\u001b[1;32m     25\u001b[0m       \u001b[0;31m# # # вычисляем ошибку для modeli без обучения\u001b[0m\u001b[0;34m\u001b[0m\u001b[0;34m\u001b[0m\u001b[0m\n\u001b[0;32m---> 26\u001b[0;31m     \u001b[0mh0_train\u001b[0m \u001b[0;34m=\u001b[0m \u001b[0mmodel_i\u001b[0m\u001b[0;34m.\u001b[0m\u001b[0mevaluate\u001b[0m\u001b[0;34m(\u001b[0m \u001b[0mtrain_imagef\u001b[0m\u001b[0;34m[\u001b[0m\u001b[0;34m:\u001b[0m\u001b[0;36m48000\u001b[0m\u001b[0;34m,\u001b[0m \u001b[0;34m:\u001b[0m\u001b[0;34m]\u001b[0m\u001b[0;34m,\u001b[0m \u001b[0mto_categorical\u001b[0m\u001b[0;34m(\u001b[0m\u001b[0mtrain_labelf\u001b[0m \u001b[0;34m[\u001b[0m\u001b[0;34m:\u001b[0m\u001b[0;36m48000\u001b[0m\u001b[0;34m,\u001b[0m \u001b[0;34m:\u001b[0m\u001b[0;34m]\u001b[0m\u001b[0;34m)\u001b[0m\u001b[0;34m,\u001b[0m \u001b[0mverbose\u001b[0m\u001b[0;34m=\u001b[0m\u001b[0;36m0\u001b[0m\u001b[0;34m)\u001b[0m\u001b[0;34m\u001b[0m\u001b[0;34m\u001b[0m\u001b[0m\n\u001b[0m\u001b[1;32m     27\u001b[0m     \u001b[0mh0_val\u001b[0m \u001b[0;34m=\u001b[0m \u001b[0mmodel_i\u001b[0m\u001b[0;34m.\u001b[0m\u001b[0mevaluate\u001b[0m\u001b[0;34m(\u001b[0m\u001b[0mtrain_imagef\u001b[0m\u001b[0;34m[\u001b[0m\u001b[0;34m:\u001b[0m\u001b[0;36m48000\u001b[0m\u001b[0;34m,\u001b[0m \u001b[0;34m:\u001b[0m\u001b[0;34m]\u001b[0m\u001b[0;34m,\u001b[0m \u001b[0mto_categorical\u001b[0m\u001b[0;34m(\u001b[0m\u001b[0mtrain_labelf\u001b[0m \u001b[0;34m[\u001b[0m\u001b[0;34m:\u001b[0m\u001b[0;36m48000\u001b[0m\u001b[0;34m,\u001b[0m \u001b[0;34m:\u001b[0m\u001b[0;34m]\u001b[0m\u001b[0;34m)\u001b[0m\u001b[0;34m,\u001b[0m \u001b[0mverbose\u001b[0m\u001b[0;34m=\u001b[0m\u001b[0;36m0\u001b[0m\u001b[0;34m)\u001b[0m\u001b[0;34m\u001b[0m\u001b[0;34m\u001b[0m\u001b[0m\n\u001b[1;32m     28\u001b[0m \u001b[0;34m\u001b[0m\u001b[0m\n",
            "\u001b[0;31mIndexError\u001b[0m: too many indices for array: array is 1-dimensional, but 2 were indexed"
          ]
        }
      ]
    },
    {
      "cell_type": "markdown",
      "source": [
        "Тут не получилось проверить работу оптисизаотов, не усел разлюраться в ошибке кода\n"
      ],
      "metadata": {
        "id": "ujYSzjj7HADF"
      }
    }
  ],
  "metadata": {
    "kernelspec": {
      "display_name": "Python 3",
      "language": "python",
      "name": "python3"
    },
    "language_info": {
      "codemirror_mode": {
        "name": "ipython",
        "version": 3
      },
      "file_extension": ".py",
      "mimetype": "text/x-python",
      "name": "python",
      "nbconvert_exporter": "python",
      "pygments_lexer": "ipython3",
      "version": "3.7.7"
    },
    "colab": {
      "provenance": []
    }
  },
  "nbformat": 4,
  "nbformat_minor": 0
}