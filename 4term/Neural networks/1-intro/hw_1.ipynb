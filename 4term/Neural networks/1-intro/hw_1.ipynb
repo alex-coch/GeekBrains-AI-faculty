{
  "cells": [
    {
      "cell_type": "markdown",
      "metadata": {
        "id": "WZ1zS4kdPzj7"
      },
      "source": [
        "## Двухслойная нейронная сеть на numpy"
      ]
    },
    {
      "cell_type": "code",
      "execution_count": null,
      "metadata": {
        "id": "cuOixqmrPzj7",
        "outputId": "3f152f66-1f14-4bc8-fcc1-b6f142de290c",
        "colab": {
          "base_uri": "https://localhost:8080/"
        }
      },
      "outputs": [
        {
          "output_type": "stream",
          "name": "stdout",
          "text": [
            "neurons=5 lr=0.001 iter=10000 accuracy=78.77006645542022 error=0.21229933544579788\n",
            "neurons=5 lr=0.001 iter=30000 accuracy=86.377305568243 error=0.13622694431757\n",
            "neurons=5 lr=0.001 iter=50000 accuracy=91.04353538165027 error=0.08956464618349727\n",
            "neurons=5 lr=0.001 iter=100000 accuracy=97.14145840706742 error=0.028585415929325838\n",
            "neurons=5 lr=0.01 iter=10000 accuracy=97.87107796614555 error=0.021289220338544544\n",
            "neurons=5 lr=0.01 iter=30000 accuracy=98.01922799294925 error=0.01980772007050751\n",
            "neurons=5 lr=0.01 iter=50000 accuracy=98.3074226862193 error=0.01692577313780697\n",
            "neurons=5 lr=0.01 iter=100000 accuracy=99.15064940460903 error=0.008493505953909757\n",
            "neurons=5 lr=0.1 iter=10000 accuracy=99.31624144516303 error=0.006837585548369788\n",
            "neurons=5 lr=0.1 iter=30000 accuracy=99.43966837928592 error=0.005603316207140884\n"
          ]
        },
        {
          "output_type": "stream",
          "name": "stderr",
          "text": [
            "<ipython-input-3-7e0383fead47>:39: RuntimeWarning: overflow encountered in exp\n",
            "  return 1/(1+np.exp(-x))\n"
          ]
        },
        {
          "output_type": "stream",
          "name": "stdout",
          "text": [
            "neurons=5 lr=0.1 iter=50000 accuracy=99.35661785689697 error=0.006433821431030231\n",
            "neurons=5 lr=0.1 iter=100000 accuracy=98.64288264570676 error=0.013571173542932365\n",
            "neurons=5 lr=1.0 iter=10000 accuracy=99.24257517092268 error=0.007574248290773259\n",
            "neurons=5 lr=1.0 iter=30000 accuracy=99.94373832837383 error=0.0005626167162618421\n",
            "neurons=5 lr=1.0 iter=50000 accuracy=99.97709105932945 error=0.00022908940670540644\n",
            "neurons=5 lr=1.0 iter=100000 accuracy=99.9757223269662 error=0.0002427767303379324\n",
            "neurons=6 lr=0.001 iter=10000 accuracy=79.89352442643059 error=0.20106475573569413\n",
            "neurons=6 lr=0.001 iter=30000 accuracy=90.49166425044307 error=0.09508335749556934\n",
            "neurons=6 lr=0.001 iter=50000 accuracy=95.39146947365244 error=0.046085305263475665\n",
            "neurons=6 lr=0.001 iter=100000 accuracy=97.07443733835275 error=0.029255626616472477\n",
            "neurons=6 lr=0.01 iter=10000 accuracy=97.5209115914009 error=0.024790884085990988\n",
            "neurons=6 lr=0.01 iter=30000 accuracy=97.96950568382195 error=0.0203049431617806\n",
            "neurons=6 lr=0.01 iter=50000 accuracy=98.3646521474545 error=0.01635347852545487\n",
            "neurons=6 lr=0.01 iter=100000 accuracy=98.76470818128661 error=0.012352918187133927\n",
            "neurons=6 lr=0.1 iter=10000 accuracy=98.74767517574521 error=0.012523248242547871\n",
            "neurons=6 lr=0.1 iter=30000 accuracy=99.22015689953844 error=0.00779843100461563\n",
            "neurons=6 lr=0.1 iter=50000 accuracy=99.56426800407678 error=0.004357319959232117\n",
            "neurons=6 lr=0.1 iter=100000 accuracy=99.82226163839721 error=0.0017773836160278492\n",
            "neurons=6 lr=1.0 iter=10000 accuracy=99.98180344003588 error=0.00018196559964121065\n",
            "neurons=6 lr=1.0 iter=30000 accuracy=99.98722924294495 error=0.0001277075705504187\n",
            "neurons=6 lr=1.0 iter=50000 accuracy=99.99601993160732 error=3.980068392679205e-05\n",
            "neurons=6 lr=1.0 iter=100000 accuracy=99.9246196801365 error=0.0007538031986349054\n",
            "neurons=7 lr=0.001 iter=10000 accuracy=80.50183567489296 error=0.1949816432510704\n",
            "neurons=7 lr=0.001 iter=30000 accuracy=88.97662165247311 error=0.11023378347526891\n",
            "neurons=7 lr=0.001 iter=50000 accuracy=93.82489334772926 error=0.06175106652270742\n",
            "neurons=7 lr=0.001 iter=100000 accuracy=96.44373395287366 error=0.03556266047126345\n",
            "neurons=7 lr=0.01 iter=10000 accuracy=97.38068116943676 error=0.026193188305632453\n",
            "neurons=7 lr=0.01 iter=30000 accuracy=98.29756042557011 error=0.017024395744298888\n",
            "neurons=7 lr=0.01 iter=50000 accuracy=98.62528044235063 error=0.013747195576493757\n",
            "neurons=7 lr=0.01 iter=100000 accuracy=98.8370911738572 error=0.011629088261427943\n",
            "neurons=7 lr=0.1 iter=10000 accuracy=99.0732008329699 error=0.009267991670300981\n",
            "neurons=7 lr=0.1 iter=30000 accuracy=98.78382336051465 error=0.012161766394853545\n",
            "neurons=7 lr=0.1 iter=50000 accuracy=99.49890021877255 error=0.00501099781227451\n",
            "neurons=7 lr=0.1 iter=100000 accuracy=99.79189214787509 error=0.002081078521249173\n",
            "neurons=7 lr=1.0 iter=10000 accuracy=99.97178117153285 error=0.00028218828467152366\n",
            "neurons=7 lr=1.0 iter=30000 accuracy=99.9843025103296 error=0.00015697489670392394\n",
            "neurons=7 lr=1.0 iter=50000 accuracy=99.99959565130685 error=4.0434869315182915e-06\n",
            "neurons=7 lr=1.0 iter=100000 accuracy=99.99988134357193 error=1.186564280766923e-06\n",
            "Точность нейронной сети 100.0% (neurons=7 lr=1.0 iter=100000 accuracy=99.99988134357193 error=1.186564280766923e-06)\n"
          ]
        }
      ],
      "source": [
        "'''\n",
        "Построение двухслойной нейронный сети для классификации цветков ириса\n",
        "'''\n",
        "\n",
        "import numpy as np\n",
        "import pandas as pd\n",
        "import seaborn as sns\n",
        "import matplotlib.pyplot as plt\n",
        "\n",
        "import warnings\n",
        "warnings.simplefilter(action='ignore', category=FutureWarning)\n",
        "\n",
        "# sklearn здесь только, чтобы разделить выборку на тренировочную и тестовую\n",
        "from sklearn.model_selection import train_test_split\n",
        "\n",
        "\n",
        "### Шаг 1. Определение функций, которые понадобяться для обучения\n",
        "# преобразование массива в бинарный вид результатов\n",
        "def to_one_hot(Y):\n",
        "    n_col = np.amax(Y) + 1\n",
        "    binarized = np.zeros((len(Y), n_col))\n",
        "    for i in range(len(Y)):\n",
        "        binarized[i, Y[i]] = 1.\n",
        "    return binarized\n",
        "\n",
        "# преобразование массива в необходимый вид\n",
        "def from_one_hot(Y):\n",
        "    arr = np.zeros((len(Y), 1))\n",
        "\n",
        "    for i in range(len(Y)):\n",
        "        l = layer2[i]\n",
        "        for j in range(len(l)):\n",
        "            if(l[j] == 1):\n",
        "                arr[i] = j+1\n",
        "    return arr\n",
        "\n",
        "# сигмоида и ее производная\n",
        "def sigmoid(x):\n",
        "    return 1/(1+np.exp(-x))\n",
        "\n",
        "def sigmoid_deriv(x):\n",
        "    return sigmoid(x)*(1 - sigmoid(x))\n",
        "\n",
        "# нормализация массива\n",
        "def normalize(X, axis=-1, order=2):\n",
        "    l2 = np.atleast_1d(np.linalg.norm(X, order, axis))\n",
        "    l2[l2 == 0] = 1\n",
        "    return X / np.expand_dims(l2, axis)\n",
        "\n",
        "\n",
        "### Шаг 2. Подготовка тренировочных данных\n",
        "# получения данных из csv файла. укажите здесь путь к файлу Iris.csv\n",
        "iris_data = pd.read_csv(\"Iris.csv\")\n",
        "# print(iris_data.head()) # расскоментируйте, чтобы посмотреть структуру данных\n",
        "\n",
        "# репрезентация данных в виде графиков\n",
        "# g = sns.pairplot(iris_data.drop(\"Id\", axis=1), hue=\"Species\")\n",
        "# plt.show() # расскоментируйте, чтобы посмотреть\n",
        "\n",
        "# замена текстовых значений на цифровые\n",
        "iris_data['Species'].replace(['Iris-setosa', 'Iris-virginica', 'Iris-versicolor'], [0, 1, 2], inplace=True)\n",
        "\n",
        "# формирование входных данных\n",
        "columns = ['SepalLengthCm', 'SepalWidthCm', 'PetalLengthCm', 'PetalWidthCm']\n",
        "x = pd.DataFrame(iris_data, columns=columns)\n",
        "x = normalize(x.values)\n",
        "\n",
        "# формирование выходных данных(результатов)\n",
        "columns = ['Species']\n",
        "y = pd.DataFrame(iris_data, columns=columns)\n",
        "y = y.values\n",
        "y = y.flatten()\n",
        "y = to_one_hot(y)\n",
        "\n",
        "# Разделение данных на тренировочные и тестовые\n",
        "X_train, X_test, y_train, y_test = train_test_split(x, y, test_size=0.33)\n",
        "   \n",
        "best_accuracy = [0, '']\n",
        "### Шаг 3. Обученние нейронной сети\n",
        "# присваевание случайных весов\n",
        "for neurons in [5, 6, 7]:\n",
        "  w0 = 2*np.random.random((4, neurons)) - 1 # для входного слоя   - 4 входа, 3 выхода\n",
        "  w1 = 2*np.random.random((neurons, 3)) - 1 # для внутреннего слоя - 5 входов, 3 выхода\n",
        "\n",
        "\n",
        "  # скорость обучения (learning rate)\n",
        "  for lr in [0.001, 0.01, 0.1, 1.0]:\n",
        "\n",
        "    # процесс обучения\n",
        "    for iter in [10000, 30000, 50000, 100000]:\n",
        "      # массив для ошибок, чтобы потом построить график\n",
        "      errors = []\n",
        "      for i in range(iter): #100,000\n",
        "\n",
        "          # прямое распространение(feed forward)\n",
        "          layer0 = X_train\n",
        "          layer1 = sigmoid(np.dot(layer0, w0))\n",
        "          layer2 = sigmoid(np.dot(layer1, w1))\n",
        "\n",
        "          # обратное распространение(back propagation) с использованием градиентного спуска\n",
        "          layer2_error = y_train - layer2\n",
        "          layer2_delta = layer2_error * sigmoid_deriv(layer2)\n",
        "          \n",
        "          layer1_error = layer2_delta.dot(w1.T)\n",
        "          layer1_delta = layer1_error * sigmoid_deriv(layer1)\n",
        "          \n",
        "          w1 += layer1.T.dot(layer2_delta) * lr\n",
        "          w0 += layer0.T.dot(layer1_delta) * lr\n",
        "          \n",
        "          error = np.mean(np.abs(layer2_error))\n",
        "          errors.append(error)\n",
        "          accuracy = (1 - error) * 100\n",
        "          if accuracy > best_accuracy[0]:\n",
        "            best_accuracy[0] = accuracy\n",
        "            best_accuracy[1] = f'({neurons=} {lr=} {iter=} {accuracy=} {error=})'\n",
        "      print(f'{neurons=} {lr=} {iter=} {accuracy=} {error=}')\n",
        "\n",
        "\n",
        "### Шаг 4. Демонстрация полученных результатов\n",
        "# черчение диаграммы точности в зависимости от обучения\n",
        "# plt.plot(errors)\n",
        "# plt.xlabel('Обучение')\n",
        "# plt.ylabel('Ошибка')\n",
        "# plt.show() # расскоментируйте, чтобы посмотреть \n",
        "        \n",
        "print(\"Точность нейронной сети \" + str(round(best_accuracy[0],2)) + \"%\", best_accuracy[1])"
      ]
    },
    {
      "cell_type": "markdown",
      "source": [
        "Домашнее задание:\n",
        "\n",
        "Задание 1. Попробуйте видоизменить параметры двухслойной нейронной сети таким образом, чтобы улучшить ее точность (число нейронов, эпох, слоев).\n",
        "\n",
        "Задание 2. Проведите анализ - что приводит к ухудшению нейронной сети? Что приводит к увеличению ее точности?"
      ],
      "metadata": {
        "id": "IbuXzACap2e4"
      }
    },
    {
      "cell_type": "markdown",
      "source": [
        "1. Для улучшения точности было изменено число нейронов, эпох и скорость обучения.\n",
        "\n",
        "\n",
        "2. У ухудшению нейронной сети приводит уменьшение числа нейронов, слоев, эпох. К увеличению точности приводит увеличение числа нейронов, слоев, эпох, но при обучении нужно отслеживать переобучение и слишком много слоев даст затухание градиента на начальных слоях."
      ],
      "metadata": {
        "id": "VsN_dzykALpF"
      }
    }
  ],
  "metadata": {
    "kernelspec": {
      "display_name": "Python 3",
      "language": "python",
      "name": "python3"
    },
    "language_info": {
      "codemirror_mode": {
        "name": "ipython",
        "version": 3
      },
      "file_extension": ".py",
      "mimetype": "text/x-python",
      "name": "python",
      "nbconvert_exporter": "python",
      "pygments_lexer": "ipython3",
      "version": "3.7.7"
    },
    "colab": {
      "provenance": []
    }
  },
  "nbformat": 4,
  "nbformat_minor": 0
}