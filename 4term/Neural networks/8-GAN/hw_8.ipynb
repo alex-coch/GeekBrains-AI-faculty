{
  "cells": [
    {
      "cell_type": "code",
      "execution_count": null,
      "metadata": {
        "id": "eaSbKjV2IyyI"
      },
      "outputs": [],
      "source": [
        "# task 1\n",
        "import tensorflow as tf\n",
        "import numpy as np\n",
        "import pandas as pd\n",
        "import matplotlib.pyplot as plt"
      ]
    },
    {
      "cell_type": "code",
      "execution_count": null,
      "metadata": {
        "id": "mcH6CMtOIyyM",
        "outputId": "b43c1364-917b-454d-d388-bbc4fbca5102",
        "colab": {
          "base_uri": "https://localhost:8080/"
        }
      },
      "outputs": [
        {
          "output_type": "stream",
          "name": "stdout",
          "text": [
            "Downloading data from https://storage.googleapis.com/tensorflow/tf-keras-datasets/train-labels-idx1-ubyte.gz\n",
            "29515/29515 [==============================] - 0s 0us/step\n",
            "Downloading data from https://storage.googleapis.com/tensorflow/tf-keras-datasets/train-images-idx3-ubyte.gz\n",
            "26421880/26421880 [==============================] - 0s 0us/step\n",
            "Downloading data from https://storage.googleapis.com/tensorflow/tf-keras-datasets/t10k-labels-idx1-ubyte.gz\n",
            "5148/5148 [==============================] - 0s 0us/step\n",
            "Downloading data from https://storage.googleapis.com/tensorflow/tf-keras-datasets/t10k-images-idx3-ubyte.gz\n",
            "4422102/4422102 [==============================] - 0s 0us/step\n"
          ]
        }
      ],
      "source": [
        "(train_data, train_labels), (test_data, test_labels) = tf.keras.datasets.fashion_mnist.load_data()\n",
        "\n",
        "train_data = train_data[(train_labels >= 0) & (train_labels < 3)][0:50].reshape(-1, 28, 28, 1)\n",
        "train_labels = train_labels[(train_labels >= 0) & (train_labels < 3)][0:50]\n",
        "train_labels = pd.get_dummies(train_labels).to_numpy()\n",
        "\n",
        "test_data = test_data[(test_labels >= 0) & (test_labels < 3)][0:10].reshape(-1, 28, 28, 1)\n",
        "test_labels = test_labels[(test_labels >= 0) & (test_labels < 3)][0:10]\n",
        "test_labels = pd.get_dummies(test_labels).to_numpy()"
      ]
    },
    {
      "cell_type": "code",
      "execution_count": null,
      "metadata": {
        "id": "txL1cX4qIyyN",
        "outputId": "5b3644cc-420d-45e8-b824-42db16d917e0",
        "colab": {
          "base_uri": "https://localhost:8080/"
        }
      },
      "outputs": [
        {
          "output_type": "stream",
          "name": "stdout",
          "text": [
            "Model: \"sequential\"\n",
            "_________________________________________________________________\n",
            " Layer (type)                Output Shape              Param #   \n",
            "=================================================================\n",
            " conv2d (Conv2D)             (None, 27, 27, 4)         20        \n",
            "                                                                 \n",
            " max_pooling2d (MaxPooling2D  (None, 13, 13, 4)        0         \n",
            " )                                                               \n",
            "                                                                 \n",
            " conv2d_1 (Conv2D)           (None, 11, 11, 8)         296       \n",
            "                                                                 \n",
            " flatten (Flatten)           (None, 968)               0         \n",
            "                                                                 \n",
            " dense (Dense)               (None, 3)                 2907      \n",
            "                                                                 \n",
            "=================================================================\n",
            "Total params: 3,223\n",
            "Trainable params: 3,223\n",
            "Non-trainable params: 0\n",
            "_________________________________________________________________\n"
          ]
        }
      ],
      "source": [
        "from tensorflow.keras.models import Sequential\n",
        "from tensorflow.keras.layers import Dense, Conv2D, Flatten, MaxPool2D\n",
        "\n",
        "img_rows, img_cols = 28, 28\n",
        "\n",
        "model = Sequential()\n",
        "model.add(Conv2D(4, kernel_size=2, activation='relu', input_shape=(img_rows, img_cols, 1)))\n",
        "model.add(MaxPool2D(2))\n",
        "model.add(Conv2D(8, kernel_size=3, activation='relu'))\n",
        "model.add(Flatten())\n",
        "model.add(Dense(3, activation='softmax'))\n",
        "model.compile(optimizer='adam', loss='categorical_crossentropy', metrics=['accuracy'])\n",
        "\n",
        "model.summary()"
      ]
    },
    {
      "cell_type": "code",
      "execution_count": null,
      "metadata": {
        "id": "_bAZ5o_eIyyO",
        "outputId": "54590b93-8413-4687-f6df-577c161cfa34",
        "colab": {
          "base_uri": "https://localhost:8080/",
          "height": 534
        }
      },
      "outputs": [
        {
          "output_type": "stream",
          "name": "stdout",
          "text": [
            "Epoch 1/3\n",
            "4/4 [==============================] - 4s 282ms/step - loss: 23.5048 - accuracy: 0.2250 - val_loss: 3.3709 - val_accuracy: 0.4000\n",
            "Epoch 2/3\n",
            "4/4 [==============================] - 0s 87ms/step - loss: 6.1953 - accuracy: 0.4500 - val_loss: 5.8321 - val_accuracy: 0.5000\n",
            "Epoch 3/3\n",
            "4/4 [==============================] - 0s 102ms/step - loss: 3.5247 - accuracy: 0.6000 - val_loss: 2.2517 - val_accuracy: 0.7000\n"
          ]
        },
        {
          "output_type": "display_data",
          "data": {
            "text/plain": [
              "<Figure size 640x480 with 1 Axes>"
            ],
            "image/png": "[encoded data removed]"
          },
          "metadata": {}
        }
      ],
      "source": [
        "from tensorflow.keras.callbacks import ModelCheckpoint\n",
        "\n",
        "checkpoint = ModelCheckpoint('weights.hdf5', monitor='val_loss', save_best_only=True)\n",
        "\n",
        "training = model.fit(train_data, train_labels, epochs=3, batch_size=10, validation_split=0.2,\n",
        "                     callbacks=[checkpoint])\n",
        "\n",
        "history = training.history\n",
        "\n",
        "plt.plot(history['loss'], label='train loss');\n",
        "plt.plot(history['val_loss'], label='validation loss');\n",
        "plt.legend();"
      ]
    },
    {
      "cell_type": "code",
      "execution_count": null,
      "metadata": {
        "id": "wLpawRLtIyyQ",
        "outputId": "9b923fb7-dcb1-469a-e9dc-74b239cb455d",
        "colab": {
          "base_uri": "https://localhost:8080/"
        }
      },
      "outputs": [
        {
          "output_type": "stream",
          "name": "stdout",
          "text": [
            "1/1 [==============================] - 0s 105ms/step\n",
            "[2 1 0 1 1 2 2 2 1 1]\n",
            "[[0 0 1]\n",
            " [0 1 0]\n",
            " [0 1 0]\n",
            " [0 1 0]\n",
            " [0 1 0]\n",
            " [0 0 1]\n",
            " [1 0 0]\n",
            " [0 0 1]\n",
            " [0 1 0]\n",
            " [1 0 0]]\n"
          ]
        }
      ],
      "source": [
        "model.load_weights('weights.hdf5')\n",
        "\n",
        "print(np.argmax(model.predict(test_data), axis=-1))\n",
        "print(test_labels)"
      ]
    },
    {
      "cell_type": "code",
      "execution_count": null,
      "metadata": {
        "id": "S8UrQavTIyyT",
        "outputId": "0c045a4b-9336-49a9-ac91-55b6d331b8ce",
        "colab": {
          "base_uri": "https://localhost:8080/"
        }
      },
      "outputs": [
        {
          "output_type": "stream",
          "name": "stdout",
          "text": [
            "Model: \"sequential_1\"\n",
            "_________________________________________________________________\n",
            " Layer (type)                Output Shape              Param #   \n",
            "=================================================================\n",
            " conv2d_2 (Conv2D)           (None, 27, 27, 15)        75        \n",
            "                                                                 \n",
            " dropout (Dropout)           (None, 27, 27, 15)        0         \n",
            "                                                                 \n",
            " conv2d_3 (Conv2D)           (None, 26, 26, 5)         305       \n",
            "                                                                 \n",
            " flatten_1 (Flatten)         (None, 3380)              0         \n",
            "                                                                 \n",
            " dense_1 (Dense)             (None, 3)                 10143     \n",
            "                                                                 \n",
            "=================================================================\n",
            "Total params: 10,523\n",
            "Trainable params: 10,523\n",
            "Non-trainable params: 0\n",
            "_________________________________________________________________\n"
          ]
        }
      ],
      "source": [
        "from tensorflow.keras.layers import Dropout\n",
        "\n",
        "model = Sequential()\n",
        "\n",
        "model.add(Conv2D(15, kernel_size=2, activation='relu', input_shape=(img_rows, img_cols, 1)))\n",
        "\n",
        "model.add(Dropout(0.2))\n",
        "         \n",
        "model.add(Conv2D(5, kernel_size=2, activation='relu'))\n",
        "\n",
        "model.add(Flatten())\n",
        "model.add(Dense(3, activation='softmax'))\n",
        "\n",
        "model.summary()"
      ]
    },
    {
      "cell_type": "code",
      "execution_count": null,
      "metadata": {
        "id": "jZMTKJOTIyyU",
        "outputId": "fd723df0-3b40-46a8-f54d-ccaf1f918e73",
        "colab": {
          "base_uri": "https://localhost:8080/"
        }
      },
      "outputs": [
        {
          "output_type": "stream",
          "name": "stdout",
          "text": [
            "Model: \"sequential_2\"\n",
            "_________________________________________________________________\n",
            " Layer (type)                Output Shape              Param #   \n",
            "=================================================================\n",
            " conv2d_4 (Conv2D)           (None, 27, 27, 15)        75        \n",
            "                                                                 \n",
            " batch_normalization (BatchN  (None, 27, 27, 15)       60        \n",
            " ormalization)                                                   \n",
            "                                                                 \n",
            " conv2d_5 (Conv2D)           (None, 26, 26, 5)         305       \n",
            "                                                                 \n",
            " flatten_2 (Flatten)         (None, 3380)              0         \n",
            "                                                                 \n",
            " dense_2 (Dense)             (None, 3)                 10143     \n",
            "                                                                 \n",
            "=================================================================\n",
            "Total params: 10,583\n",
            "Trainable params: 10,553\n",
            "Non-trainable params: 30\n",
            "_________________________________________________________________\n"
          ]
        }
      ],
      "source": [
        "from tensorflow.keras.layers import BatchNormalization\n",
        "\n",
        "model = Sequential()\n",
        "\n",
        "model.add(Conv2D(15, kernel_size=2, activation='relu', input_shape=(img_rows, img_cols, 1)))\n",
        "\n",
        "model.add(BatchNormalization())\n",
        "\n",
        "model.add(Conv2D(5, kernel_size=2, activation='relu'))\n",
        "\n",
        "model.add(Flatten())\n",
        "model.add(Dense(3, activation='softmax'))\n",
        "\n",
        "model.summary()"
      ]
    },
    {
      "cell_type": "code",
      "execution_count": null,
      "metadata": {
        "id": "kGqGItOjIyyV",
        "outputId": "77669bf6-21ff-47b2-cda2-d55a74098ac0",
        "colab": {
          "base_uri": "https://localhost:8080/"
        }
      },
      "outputs": [
        {
          "output_type": "stream",
          "name": "stdout",
          "text": [
            "Model: \"sequential_3\"\n",
            "_________________________________________________________________\n",
            " Layer (type)                Output Shape              Param #   \n",
            "=================================================================\n",
            " conv2d_6 (Conv2D)           (None, 27, 27, 5)         25        \n",
            "                                                                 \n",
            " conv2d_7 (Conv2D)           (None, 26, 26, 15)        315       \n",
            "                                                                 \n",
            " max_pooling2d_1 (MaxPooling  (None, 13, 13, 15)       0         \n",
            " 2D)                                                             \n",
            "                                                                 \n",
            " flatten_3 (Flatten)         (None, 2535)              0         \n",
            "                                                                 \n",
            " dense_3 (Dense)             (None, 3)                 7608      \n",
            "                                                                 \n",
            "=================================================================\n",
            "Total params: 7,948\n",
            "Trainable params: 7,948\n",
            "Non-trainable params: 0\n",
            "_________________________________________________________________\n",
            "Epoch 1/3\n",
            "4/4 [==============================] - 1s 84ms/step - loss: 6.1756 - accuracy: 0.5750 - val_loss: 2.7764 - val_accuracy: 0.6000\n",
            "Epoch 2/3\n",
            "4/4 [==============================] - 0s 29ms/step - loss: 0.4552 - accuracy: 0.9000 - val_loss: 0.0158 - val_accuracy: 1.0000\n",
            "Epoch 3/3\n",
            "4/4 [==============================] - 0s 20ms/step - loss: 0.0083 - accuracy: 1.0000 - val_loss: 0.0946 - val_accuracy: 0.9000\n"
          ]
        }
      ],
      "source": [
        "model = Sequential()\n",
        "\n",
        "model.add(Conv2D(5, kernel_size=2, activation='relu', input_shape=(img_rows, img_cols, 1)))\n",
        "model.add(Conv2D(15, kernel_size=2, activation='relu'))\n",
        "model.add(MaxPool2D(2))\n",
        "model.add(Flatten())\n",
        "model.add(Dense(3, activation='softmax'))\n",
        "\n",
        "model.summary()\n",
        "model.compile(optimizer='adam', loss='categorical_crossentropy', metrics=['accuracy'])\n",
        "\n",
        "checkpoint = ModelCheckpoint('weights_fasion.hdf5', monitor='val_loss', save_best_only=True)\n",
        "\n",
        "model.fit(train_data, train_labels, epochs=3, validation_split=0.2, batch_size=10,\n",
        "          callbacks=[checkpoint]);"
      ]
    },
    {
      "cell_type": "code",
      "execution_count": null,
      "metadata": {
        "id": "XV6_y2YHIyyW",
        "outputId": "c4cae1bc-2089-43ab-b78d-e102c525cf85",
        "colab": {
          "base_uri": "https://localhost:8080/"
        }
      },
      "outputs": [
        {
          "output_type": "stream",
          "name": "stdout",
          "text": [
            "[[-0.13242659 -0.40619496]\n",
            " [-0.32817864  0.16279899]]\n",
            "(2, 2)\n"
          ]
        }
      ],
      "source": [
        "model.load_weights('weights_fasion.hdf5')\n",
        "\n",
        "c1 = model.layers[0]\n",
        "\n",
        "weights1 = c1.get_weights()\n",
        "\n",
        "kernel = weights1[0][..., 0, 0]\n",
        "print(kernel)\n",
        "print(kernel.shape)"
      ]
    },
    {
      "cell_type": "code",
      "source": [
        "# помогло в улучшения работы нейронной сети - Dropout, Batch Normalization\n",
        "\n",
        "# task 2 \n",
        "# Обзор статьи https://arxiv.org/abs/2006.11239 во вложении"
      ],
      "metadata": {
        "id": "_Kx_h2D5LqVZ"
      },
      "execution_count": null,
      "outputs": []
    }
  ],
  "metadata": {
    "kernelspec": {
      "display_name": "Python 3",
      "language": "python",
      "name": "python3"
    },
    "language_info": {
      "codemirror_mode": {
        "name": "ipython",
        "version": 3
      },
      "file_extension": ".py",
      "mimetype": "text/x-python",
      "name": "python",
      "nbconvert_exporter": "python",
      "pygments_lexer": "ipython3",
      "version": "3.7.6"
    },
    "colab": {
      "provenance": []
    }
  },
  "nbformat": 4,
  "nbformat_minor": 0
}